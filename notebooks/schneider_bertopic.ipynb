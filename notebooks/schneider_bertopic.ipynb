{
 "cells": [
  {
   "cell_type": "code",
   "execution_count": 3,
   "metadata": {},
   "outputs": [
    {
     "name": "stderr",
     "output_type": "stream",
     "text": [
      "/home/cattiaux/anaconda3/envs/wassati/lib/python3.9/site-packages/umap/distances.py:1063: NumbaDeprecationWarning: The 'nopython' keyword argument was not supplied to the 'numba.jit' decorator. The implicit default value for this argument is currently False, but it will be changed to True in Numba 0.59.0. See https://numba.readthedocs.io/en/stable/reference/deprecation.html#deprecation-of-object-mode-fall-back-behaviour-when-using-jit for details.\n",
      "  @numba.jit()\n",
      "/home/cattiaux/anaconda3/envs/wassati/lib/python3.9/site-packages/umap/distances.py:1071: NumbaDeprecationWarning: The 'nopython' keyword argument was not supplied to the 'numba.jit' decorator. The implicit default value for this argument is currently False, but it will be changed to True in Numba 0.59.0. See https://numba.readthedocs.io/en/stable/reference/deprecation.html#deprecation-of-object-mode-fall-back-behaviour-when-using-jit for details.\n",
      "  @numba.jit()\n",
      "/home/cattiaux/anaconda3/envs/wassati/lib/python3.9/site-packages/umap/distances.py:1086: NumbaDeprecationWarning: The 'nopython' keyword argument was not supplied to the 'numba.jit' decorator. The implicit default value for this argument is currently False, but it will be changed to True in Numba 0.59.0. See https://numba.readthedocs.io/en/stable/reference/deprecation.html#deprecation-of-object-mode-fall-back-behaviour-when-using-jit for details.\n",
      "  @numba.jit()\n",
      "/home/cattiaux/anaconda3/envs/wassati/lib/python3.9/site-packages/umap/umap_.py:660: NumbaDeprecationWarning: The 'nopython' keyword argument was not supplied to the 'numba.jit' decorator. The implicit default value for this argument is currently False, but it will be changed to True in Numba 0.59.0. See https://numba.readthedocs.io/en/stable/reference/deprecation.html#deprecation-of-object-mode-fall-back-behaviour-when-using-jit for details.\n",
      "  @numba.jit()\n"
     ]
    },
    {
     "data": {
      "text/plain": [
       "True"
      ]
     },
     "execution_count": 3,
     "metadata": {},
     "output_type": "execute_result"
    }
   ],
   "source": [
    "import pandas as pd\n",
    "import numpy as np\n",
    "import matplotlib.pyplot as plt\n",
    "import nltk\n",
    "import pickle\n",
    "import string, re, copy\n",
    "from tqdm import tqdm\n",
    "from wordcloud import WordCloud\n",
    "\n",
    "from transformers import AutoTokenizer, AutoModelForSequenceClassification, TrainingArguments, Trainer, pipeline, DataCollatorWithPadding\n",
    "import torch\n",
    "from bertopic import BERTopic\n",
    "from bertopic.vectorizers import ClassTfidfTransformer\n",
    "from bertopic.representation import KeyBERTInspired, MaximalMarginalRelevance\n",
    "from sklearn.feature_extraction.text import CountVectorizer, TfidfVectorizer\n",
    "from umap import UMAP\n",
    "from sentence_transformers import SentenceTransformer\n",
    "from keybert import KeyBERT\n",
    "\n",
    "torch.cuda.is_available()"
   ]
  },
  {
   "cell_type": "code",
   "execution_count": 2,
   "metadata": {},
   "outputs": [
    {
     "name": "stderr",
     "output_type": "stream",
     "text": [
      "/tmp/ipykernel_15401/2095217102.py:1: DtypeWarning: Columns (11) have mixed types. Specify dtype option on import or set low_memory=False.\n",
      "  df = pd.read_csv(\"../data/csv_files/full_schneider_schwartz_multilabels.csv\")\n"
     ]
    }
   ],
   "source": [
    "df = pd.read_csv(\"../data/csv_files/full_schneider_schwartz_multilabels.csv\")"
   ]
  },
  {
   "cell_type": "code",
   "execution_count": 3,
   "metadata": {},
   "outputs": [],
   "source": [
    "# Define a dictionary mapping old values to new values for the \"Zone\" column\n",
    "zone_values = {\n",
    "    \"China\": \"China & HK\",\n",
    "    \"East Asia\": \"East Asia Japan\"\n",
    "}\n",
    "\n",
    "# Define a dictionary mapping old values to new values for the \"Clusters\" column\n",
    "cluster_values = {\n",
    "    \"Cluster KSAPYB\": \"Saudi Arabia & Yemen\",\n",
    "    \"North Andean\": \"Andean Cluster\",\n",
    "    \"Chile\": \"Andean Cluster\",\n",
    "    \"South Andean\": \"Andean Cluster\",\n",
    "    \"Turkey Central Asia\": \"Turkey Central Asia and Pakistan\"\n",
    "}\n",
    "\n",
    "# Replace the values in the \"Zone\" column\n",
    "df[\"Zone\"] = df[\"Zone\"].replace(zone_values)\n",
    "\n",
    "# Replace the values in the \"Clusters\" column\n",
    "df[\"Clusters\"] = df[\"Clusters\"].replace(cluster_values)\n",
    "\n",
    "# Replace values in the \"Zone\" column\n",
    "df.loc[(df[\"Zone\"] == \"SE Global\") & (df[\"Account Country\"] == \"Netherlands\"), \"Zone\"] = \"BeNe\"\n",
    "df.loc[(df[\"Zone\"] == \"SE Global\") & (df[\"Account Country\"] == \"Canada\"), \"Zone\"] = \"Canada\"\n",
    "\n",
    "# Replace values in the \"Clusters\" column\n",
    "df.loc[(df[\"Clusters\"] == \"SE Global\") & (df[\"Account Country\"] == \"Netherlands\"), \"Clusters\"] = \"Netherlands\"\n",
    "df.loc[(df[\"Clusters\"] == \"SE Global\") & (df[\"Account Country\"] == \"Canada\"), \"Clusters\"] = \"Canada\"\n",
    "\n",
    "# Define a dictionary mapping old column names to new column names\n",
    "column_names = {\n",
    "    \"topic\": \"topic_old\",\n",
    "    \"keywords\": \"keywords_old\",\n",
    "    \"label\": \"label_old\",\n",
    "    \"proba_dict\": \"proba_dict_old\"\n",
    "}\n",
    "\n",
    "# Rename the columns\n",
    "df.rename(columns=column_names, inplace=True)"
   ]
  },
  {
   "cell_type": "code",
   "execution_count": 4,
   "metadata": {},
   "outputs": [],
   "source": [
    "df_preprocessed = df[df['non_empty_rows']]\n",
    "# Extract documents from DataFrame\n",
    "docs = df_preprocessed[\"processed_data\"].astype(str).tolist()"
   ]
  },
  {
   "cell_type": "code",
   "execution_count": 3,
   "metadata": {},
   "outputs": [
    {
     "name": "stdout",
     "output_type": "stream",
     "text": [
      "11077\n"
     ]
    }
   ],
   "source": [
    "from utils.schneider import countries_to_update, text_data_column, words_to_filter, replacements, ngrams_list, keybert_kwargs, more_stopwords, labels\n",
    "from vocabulary.vocabulary import VocabularyCreator\n",
    "from clustering.clustering import ClusteringMethod\n",
    "from sklearn.feature_extraction.text import CountVectorizer\n",
    "import nltk\n",
    "\n",
    "model_name = \"all-MiniLM-L6-v2\"\n",
    "\n",
    "keybert_kwargs={\n",
    "    \"top_n\": 4,\n",
    "    \"use_mmr\": True,\n",
    "    \"stop_words\": \"english\",\n",
    "    \"keyphrase_ngram_range\": (1, 1),\n",
    "    \"nr_candidates\": 12\n",
    "}\n",
    "\n",
    "vocabulary_creator = VocabularyCreator(model_name,ngrams_list,**keybert_kwargs)\n",
    "vocabulary_list = vocabulary_creator.keybert_vocabulary(df_preprocessed)\n",
    "print(len(vocabulary_list))"
   ]
  },
  {
   "cell_type": "code",
   "execution_count": 21,
   "metadata": {},
   "outputs": [
    {
     "name": "stderr",
     "output_type": "stream",
     "text": [
      "[nltk_data] Downloading package stopwords to\n",
      "[nltk_data]     /home/cattiaux/nltk_data...\n",
      "[nltk_data]   Package stopwords is already up-to-date!\n"
     ]
    },
    {
     "data": {
      "text/plain": [
       "11464"
      ]
     },
     "execution_count": 21,
     "metadata": {},
     "output_type": "execute_result"
    }
   ],
   "source": [
    "############################# STEP 2 - COMPUTE CUSTOM VOCABULARY ###############################\n",
    "\n",
    "# vocabulary stored in cache to avoid compute it every time \n",
    "vocabulary_cache = {}\n",
    "# embeddings stored in cache to avoid compute it every time \n",
    "embeddings_cache = {}\n",
    "\n",
    "# list of the ngrams wanted for our data\n",
    "ngrams_list = ['schneider electric','supply chain','solve problem','lead time','price performance ratio','price quality ratio','pro face','spare part',\n",
    "           'product range','product line','user friendly','data sheets','allen bradley',\n",
    "           'technical support','tehnical assistance','technical team','technical service',\n",
    "           'delivery time','long time','delivery date','response time','quick response',\n",
    "           'customer service','customer center','customer support','contact person','service support','call center','call back',\n",
    "           'sales service','sales team','account manager','pre sales','sales representative',\n",
    "           'circuit breakers','frequency converters','low voltage','touch panel','frequency inverters','push buttons','electrical components','control cabinets','touch screen','control systems','servo motors','power supply','speed drives',\n",
    "           'alles tip top','alles tip','sinan chalabi']\n",
    "\n",
    "def create_custom_vocabulary(docs, ngrams_list, model_name=\"all-MiniLM-L6-v2\", **kwargs):\n",
    "    \"\"\"\n",
    "    Create a custom vocabulary from a list of documents using KeyBERT.\n",
    "\n",
    "    This function takes a list of documents, a list of custom n-grams, and an optional model name as input. It preprocesses the documents by replacing the custom n-grams with single tokens containing underscores. Then, it initializes a GPU-enabled SentenceTransformer model and uses KeyBERT to extract keywords from the preprocessed documents. The extracted keywords are postprocessed by replacing single tokens with the original n-grams and removing duplicates to create the custom vocabulary. The vocabulary is cached for future use and returned as a list of strings.\n",
    "\n",
    "    :param docs: A list of input documents, where each document is a string.\n",
    "    :param ngrams_list: A list of custom n-grams to be replaced with single tokens during preprocessing.\n",
    "    :param model_name: An optional string specifying the name of the SentenceTransformer model to use. Defaults to \"all-MiniLM-L6-v2\".\n",
    "    :param kwargs: Additional keyword arguments to be passed to the KeyBERT `extract_keywords` method.\n",
    "    :return: A list of strings representing the custom vocabulary created from the input documents.\n",
    "    \"\"\"\n",
    "\n",
    "    # Preprocess documents by replacing custom n-grams with single tokens with underscore \"_\"\n",
    "    preprocessed_docs = []\n",
    "    for doc in docs:\n",
    "        for ngram in ngrams_list:\n",
    "            if ngram in doc:\n",
    "                ngram_underscore = ngram.replace(\" \",\"_\")\n",
    "                doc = doc.replace(ngram, ngram_underscore)\n",
    "        preprocessed_docs.append(doc)\n",
    "\n",
    "    # Initialize a GPU-enabled SentenceTransformer model\n",
    "    model = SentenceTransformer(model_name, device=\"cuda\")\n",
    "\n",
    "    # Create custom vocabulary with KeyBERT\n",
    "    # Use the vocabulary in cache if it exists otherwise compute it and store it in cache\n",
    "    cache_key = (hash(str(preprocessed_docs)), hash(str(ngrams_list)), hash(model_name), hash(str(kwargs)))\n",
    "    if cache_key in vocabulary_cache:\n",
    "        vocabulary = vocabulary_cache[cache_key]\n",
    "        return vocabulary\n",
    "    else:\n",
    "        # Extract keywords\n",
    "        kw_model = KeyBERT(model=model)\n",
    "        keywords = kw_model.extract_keywords(preprocessed_docs, **kwargs)\n",
    "        \n",
    "        # Flatten the list of lists and remove duplicates to create the vocabulary\n",
    "        vocabulary = list(set([word for sublist in keywords for word, score in sublist]))\n",
    "\n",
    "        # Postprocess extracted keywords by replacing single tokens with original n-grams\n",
    "        postprocessed_vocab = []\n",
    "        for keyword in vocabulary:\n",
    "            space_keyword = keyword.replace(\"_\",\" \")\n",
    "            if space_keyword in ngrams_list:\n",
    "                keyword = space_keyword\n",
    "            postprocessed_vocab.append(keyword)\n",
    "\n",
    "        vocabulary_cache[cache_key] = postprocessed_vocab\n",
    "        return postprocessed_vocab\n",
    "\n",
    "# NLTK English stopwords\n",
    "nltk.download('stopwords')\n",
    "stopwords = nltk.corpus.stopwords.words('english')\n",
    "# add stopwords to the list from nltk\n",
    "more_stopwords = ['schneider electric','se','schneider','schneiders','also','xxx','xxxx','xxxxx','ok','okk','okay','ras','na','nil','none','mr','mrs','monsieur','thank','esther','ester','paulo','paolo','sadao','carlos','pereira','ken','benoit','sergio','catalina','cesar','rufo','moraleda','ferrer','guido','smekens','castelli','muiz','roberto','matteo','guerriera','mike','elena','isabel','jurrie','javier','anna','fernandez','reyes','cichinelli','inicio','incio','jos','fabio','canedo','mituo','eduardo','roberto','santos','inicio','silva','arnaldo','sgueglia','squeglia','sandrine','laroche','lavinia','salerno','fahler','rodriguez','perez','prieto','heleni','henri','henrique','henrik','sammy','gregoire','denis','thomas','divani','flavio','rosetti','fabbri','danilo','evandro','sahil','kundli','maggico','cindy','martin','gabrielsson','edoardo','martha','ponte','aponte','pinkowitz','cortese','nicole','gahner','maulady','ahmad','heidi','okino','wang','jason','james','rhandzi','cecil','went','goes','thanks','thank','alles tip','alles tip top','66666666666666','000000000000000','666666666','eng','particular','particularly','alles']\n",
    "stopwords.extend(more_stopwords)\n",
    "\n",
    "# Create vocabulary with KeyBERT using custom ngrams list\n",
    "vocabulary = create_custom_vocabulary(docs, ngrams_list, top_n=4, use_mmr=True, stop_words=stopwords, keyphrase_ngram_range=(1,1), nr_candidates=12)\n",
    "len(vocabulary)"
   ]
  },
  {
   "cell_type": "code",
   "execution_count": 5,
   "metadata": {},
   "outputs": [
    {
     "name": "stderr",
     "output_type": "stream",
     "text": [
      "[nltk_data] Downloading package stopwords to\n",
      "[nltk_data]     /home/cattiaux/nltk_data...\n",
      "[nltk_data]   Package stopwords is already up-to-date!\n"
     ]
    },
    {
     "ename": "NameError",
     "evalue": "name 'more_stopwords' is not defined",
     "output_type": "error",
     "traceback": [
      "\u001b[0;31m---------------------------------------------------------------------------\u001b[0m",
      "\u001b[0;31mNameError\u001b[0m                                 Traceback (most recent call last)",
      "Cell \u001b[0;32mIn[5], line 3\u001b[0m\n\u001b[1;32m      1\u001b[0m nltk\u001b[38;5;241m.\u001b[39mdownload(\u001b[38;5;124m'\u001b[39m\u001b[38;5;124mstopwords\u001b[39m\u001b[38;5;124m'\u001b[39m)\n\u001b[1;32m      2\u001b[0m stopwords \u001b[38;5;241m=\u001b[39m nltk\u001b[38;5;241m.\u001b[39mcorpus\u001b[38;5;241m.\u001b[39mstopwords\u001b[38;5;241m.\u001b[39mwords(\u001b[38;5;124m'\u001b[39m\u001b[38;5;124menglish\u001b[39m\u001b[38;5;124m'\u001b[39m)\n\u001b[0;32m----> 3\u001b[0m stopwords\u001b[38;5;241m.\u001b[39mextend(\u001b[43mmore_stopwords\u001b[49m)\n",
      "\u001b[0;31mNameError\u001b[0m: name 'more_stopwords' is not defined"
     ]
    }
   ],
   "source": [
    "nltk.download('stopwords')\n",
    "stopwords = nltk.corpus.stopwords.words('english')\n",
    "stopwords.extend(more_stopwords)"
   ]
  },
  {
   "cell_type": "code",
   "execution_count": 22,
   "metadata": {},
   "outputs": [
    {
     "data": {
      "application/vnd.jupyter.widget-view+json": {
       "model_id": "913683c0462d48a28e3bcb646c502aaf",
       "version_major": 2,
       "version_minor": 0
      },
      "text/plain": [
       "Batches:   0%|          | 0/1229 [00:00<?, ?it/s]"
      ]
     },
     "metadata": {},
     "output_type": "display_data"
    },
    {
     "name": "stdout",
     "output_type": "stream",
     "text": [
      "huggingface/tokenizers: The current process just got forked, after parallelism has already been used. Disabling parallelism to avoid deadlocks...\n",
      "To disable this warning, you can either:\n",
      "\t- Avoid using `tokenizers` before the fork if possible\n",
      "\t- Explicitly set the environment variable TOKENIZERS_PARALLELISM=(true | false)\n",
      "huggingface/tokenizers: The current process just got forked, after parallelism has already been used. Disabling parallelism to avoid deadlocks...\n",
      "To disable this warning, you can either:\n",
      "\t- Avoid using `tokenizers` before the fork if possible\n",
      "\t- Explicitly set the environment variable TOKENIZERS_PARALLELISM=(true | false)\n",
      "huggingface/tokenizers: The current process just got forked, after parallelism has already been used. Disabling parallelism to avoid deadlocks...\n",
      "To disable this warning, you can either:\n",
      "\t- Avoid using `tokenizers` before the fork if possible\n",
      "\t- Explicitly set the environment variable TOKENIZERS_PARALLELISM=(true | false)\n",
      "huggingface/tokenizers: The current process just got forked, after parallelism has already been used. Disabling parallelism to avoid deadlocks...\n",
      "To disable this warning, you can either:\n",
      "\t- Avoid using `tokenizers` before the fork if possible\n",
      "\t- Explicitly set the environment variable TOKENIZERS_PARALLELISM=(true | false)\n"
     ]
    },
    {
     "name": "stderr",
     "output_type": "stream",
     "text": [
      "/home/cattiaux/anaconda3/envs/wassati/lib/python3.9/site-packages/bertopic/vectorizers/_ctfidf.py:82: RuntimeWarning:\n",
      "\n",
      "divide by zero encountered in divide\n",
      "\n",
      "/home/cattiaux/anaconda3/envs/wassati/lib/python3.9/site-packages/bertopic/vectorizers/_ctfidf.py:82: RuntimeWarning:\n",
      "\n",
      "divide by zero encountered in divide\n",
      "\n"
     ]
    }
   ],
   "source": [
    "clustering = ClusteringMethod(model_name)\n",
    "\n",
    "bertopic_kwargs={\n",
    "    # \"seed_topic_list\": labels, # Create a new BERTopic model using our predefined labels as topics\n",
    "    \"nr_topics\":\"auto\",\n",
    "    \"ctfidf_model\": ClassTfidfTransformer(reduce_frequent_words=True),\n",
    "    \"representation_model\": [KeyBERTInspired(), MaximalMarginalRelevance(diversity=0.4)], # possible values : KeyBERTInspired() or MaximalMarginalRelevance(diversity=0.5)\n",
    "    \"top_n_words\":10,\n",
    "    \"min_topic_size\":70,\n",
    "    \"calculate_probabilities\": True\n",
    "}\n",
    "\n",
    "bertopic_kwargs['vectorizer_model'] = CountVectorizer(\n",
    "                    vocabulary=vocabulary, \n",
    "                    stop_words=stopwords, \n",
    "                    lowercase=True, \n",
    "                    ngram_range=(1, 3)\n",
    "                )\n",
    "\n",
    "\n",
    "topics, probs, topic_model, embeddings = clustering.run_bertopic(\n",
    "    df= df_preprocessed,\n",
    "    **bertopic_kwargs\n",
    "    )"
   ]
  },
  {
   "cell_type": "code",
   "execution_count": 4,
   "metadata": {},
   "outputs": [],
   "source": [
    "def save_bertopic_model(topic_model, topics, probs, embeddings, docs, filename):\n",
    "    \"\"\"\n",
    "    Save a BERTopic model and associated data to a file.\n",
    "    \n",
    "    :param topic_model: The BERTopic model to save.\n",
    "    :param topics: The topics variable to save.\n",
    "    :param probs: The probs variable to save.\n",
    "    :param docs: The docs variable to save.\n",
    "    :param filename: The name of the file to save the data to.\n",
    "    \"\"\"\n",
    "    # Save the BERTopic model\n",
    "    topic_model.save(filename)\n",
    "    \n",
    "    # Save the topics, probs, and docs variables\n",
    "    with open(filename + '_data.pkl', 'wb') as f:\n",
    "        pickle.dump((topics, probs, embeddings, docs), f)\n",
    "\n",
    "def load_bertopic_model(filename):\n",
    "    \"\"\"\n",
    "    Load a BERTopic model and associated data from a file.\n",
    "    \n",
    "    :param filename: The name of the file to load the data from.\n",
    "    :return: A tuple containing the loaded BERTopic model, topics, probs, and docs variables.\n",
    "    \"\"\"\n",
    "    # Load the BERTopic model\n",
    "    topic_model = BERTopic.load(filename)\n",
    "    \n",
    "    # Load the topics, probs, and docs variables\n",
    "    with open(filename + '_data.pkl', 'rb') as f:\n",
    "        topics, probs, embeddings, docs = pickle.load(f)\n",
    "    \n",
    "    return topic_model, topics, probs, embeddings, docs\n",
    "\n",
    "# Save the BERTopic model and associated data\n",
    "# save_bertopic_model(topic_model, topics, probs, embeddings, docs, '../models/schneider_bertopic_model_2023')\n",
    "\n",
    "# Load the BERTopic model and associated data\n",
    "topic_model, topics, probs, embeddings, docs = load_bertopic_model('../models/schneider_bertopic_model_2023')"
   ]
  },
  {
   "cell_type": "code",
   "execution_count": 54,
   "metadata": {},
   "outputs": [
    {
     "name": "stdout",
     "output_type": "stream",
     "text": [
      "Topic 0: sales (0.37), prices (0.36), products (0.35), delays (0.34), customers (0.33), deliveries (0.32), delivery time (0.31), brand (0.31), product (0.30), customer (0.30)\n",
      "Topic 1: technical support (0.47), reliability (0.42), quality (0.40), customer service (0.39), reliable (0.38), sales service (0.37), products (0.36), customers (0.35), product (0.32), rating (0.32)\n",
      "Topic 2: quick response (0.50), answered (0.44), answers (0.42), responses (0.42), precise (0.42), response (0.41), accurately (0.40), answer (0.39), easy (0.38), question (0.38)\n",
      "Topic 3: technician (0.80), technicians (0.78), competent (0.65), tech (0.64), competence (0.59), techs (0.58), technical (0.56), technical support (0.53), skills (0.52), expertise (0.51)\n",
      "Topic 4: quality (0.37), complaints (0.36), ten (0.33), issues (0.33), products (0.32), rate (0.32), brands (0.32), rating (0.29), product (0.28), nine (0.28)\n",
      "Topic 5: troubleshooting (0.49), resolved (0.36), issue (0.32), workaround (0.32), defective (0.29), fix (0.29), fixed (0.29), technician (0.28), solved (0.28), bug (0.28)\n",
      "Topic 6: call (0.53), call back (0.52), telephone (0.50), call center (0.50), calling (0.49), dial (0.48), calls (0.46), phone (0.40), tel (0.40), callback (0.39)\n",
      "Topic 7: touch panel (0.60), touch screen (0.53), gp2000 (0.39), panel (0.39), screen (0.38), gp4000 (0.38), gp4501 (0.37), gppro (0.37), gpproex (0.36), screens (0.36)\n",
      "Topic 8: technical support (0.41), customers (0.39), manufacturers (0.37), technical service (0.36), sales team (0.35), sales (0.35), siemens (0.35), distributors (0.33), products (0.32), dealers (0.31)\n",
      "Topic 9: inverter (0.57), inverters (0.55), invertor (0.48), frequency inverters (0.45), converters (0.34), technical support (0.34), sales service (0.34), problems (0.27), atv320 (0.27), repair (0.27)\n",
      "Topic 10: support (0.71), supported (0.48), supporters (0.40), competent (0.40), successful (0.37), specialist (0.35), fast (0.35), expertise (0.34), assisted (0.34), timely (0.33)\n",
      "Topic 11: becuase (0.34), quality (0.34), reasons (0.30), sales (0.30), reliability (0.30), products (0.29), discontinued (0.28), brand (0.27), reliable (0.25), performance (0.25)\n",
      "Topic 12: ups (0.50), upss (0.47), troubleshooting (0.32), warranty (0.28), repair (0.24), power (0.23), power supply (0.23), battery (0.23), maintenance (0.23), issue (0.22)\n",
      "Topic 13: quoting (0.39), quotations (0.37), quotes (0.36), quotation (0.36), quoted (0.33), quote (0.32), response time (0.25), providing (0.22), stated (0.21), delayed (0.21)\n",
      "Topic 14: drives (0.45), speed drives (0.44), drive (0.34), technical support (0.32), firmware (0.31), manuals (0.30), atv320 (0.28), atv32 (0.26), programing (0.25), motor (0.25)\n",
      "Topic 15: offers (0.63), offered (0.55), offer (0.51), receive (0.44), received (0.44), discount (0.44), payment (0.40), requested (0.38), request (0.35), interest (0.34)\n",
      "Topic 16: fine (0.48), everything (0.46), perfectly (0.44), smoothly (0.40), usual (0.38), unreachable (0.38), adequate (0.35), great (0.34), overall (0.33), smooth (0.32)\n",
      "Topic 17: solve problem (0.71), quickly (0.62), solving (0.61), solve (0.59), solutions (0.55), problem (0.55), solution (0.55), efficiently (0.55), problems (0.54), instantly (0.51)\n",
      "Topic 18: professionalism (0.66), kindness (0.65), friendliness (0.48), competence (0.48), professional (0.47), skills (0.44), thoughtful (0.43), willingness (0.43), health (0.37), amiability (0.36)\n",
      "Topic 19: prompt (0.84), promptness (0.80), prompter (0.80), response (0.59), responses (0.57), dialogue (0.49), interactive (0.42), enter (0.40), message (0.39), polite (0.38)\n",
      "Topic 20: lead time (0.59), lead (0.45), customers (0.34), inventory (0.28), waiting (0.28), brands (0.27), business (0.25), time (0.25), marketer (0.24), items (0.23)\n",
      "Topic 21: satisfaction (0.87), satisfied (0.72), satisfy (0.62), satisfying (0.60), overall (0.44), sensually (0.43), enthusiastic (0.42), results (0.42), complete (0.41), obtained (0.40)\n",
      "Topic 22: deadlines (0.83), deadline (0.77), schedule (0.39), commitments (0.36), stipulated (0.29), impossibility (0.26), compliance (0.25), indifference (0.24), seriousness (0.23), proposal (0.22)\n",
      "Topic 23: repair (0.54), repaired (0.53), repairs (0.49), replacement (0.45), warranty (0.42), broken (0.39), bmxamo0802 (0.35), parts (0.33), spare part (0.32), defective (0.31)\n",
      "Topic 24: responsiveness (0.95), responsive (0.83), flexible (0.40), quality (0.40), availability (0.38), technology (0.36), response (0.34), precise (0.34), skills (0.34), efficiency (0.34)\n",
      "Topic 25: information (0.63), info (0.51), informative (0.49), detail (0.44), obtained (0.40), needed (0.40), detailed (0.39), history (0.37), comprehensive (0.36), necessary (0.36)\n",
      "Topic 26: efficient (0.83), efficiently (0.83), performance (0.67), fast (0.66), quickly (0.65), speed (0.60), rapidity (0.55), haste (0.54), quickness (0.53), slow (0.52)\n",
      "Topic 27: delays (0.83), delay (0.72), delayed (0.69), timing (0.43), waiting (0.43), promptly (0.37), scheduling (0.36), timeliness (0.36), overdue (0.36), waited (0.34)\n",
      "Topic 28: guidance (0.61), advice (0.61), advise (0.60), competent (0.53), guidelines (0.53), tips (0.53), guide (0.49), expert (0.49), adviser (0.47), advisor (0.47)\n",
      "Topic 29: service (0.60), excellent (0.46), appreciate (0.42), welcome (0.41), helpful (0.39), great (0.38), congratulations (0.31), good (0.29), response (0.27),  (0.27)\n",
      "Topic 30: quick response (0.99), response (0.69), quick (0.68), reply (0.52), easy (0.47), answer (0.47), serious (0.37), help (0.35), quote (0.34), super (0.32)\n",
      "Topic 31: attention (0.80), interest (0.63), responses (0.45), brain (0.44), relevance (0.44), communication (0.44), attentive (0.43), answering (0.43), knowledge (0.41), understanding (0.41)\n",
      "Topic 32: feedback (0.88), quick response (0.54), response (0.50), respond (0.49), slow (0.48), helpful (0.47), confirmation (0.46), satisfactory (0.45), quick (0.44), explanations (0.43)\n"
     ]
    }
   ],
   "source": [
    "topic_model.get_topic_freq().head(30)\n",
    "\n",
    "# Get the top 10 keywords for each topic\n",
    "for i in range(33):\n",
    "    keywords = topic_model.get_topic(i)[:10]\n",
    "    # print(f\"Topic {i}: {keywords}\")\n",
    "    # # Only print the keywords, not the scores\n",
    "    # print(f\"Topic {i}: {', '.join([word for word, score in keywords])}\")\n",
    "    # Print the keywords and the scores formatted to two decimal places\n",
    "    print(f\"Topic {i}: {', '.join([f'{word} ({score:.2f})' for word, score in keywords])}\")"
   ]
  },
  {
   "cell_type": "code",
   "execution_count": 9,
   "metadata": {},
   "outputs": [],
   "source": [
    "import os \n",
    "\n",
    "def save_graph_html(fig, path, name):\n",
    "    \"\"\"\n",
    "    Saves a Plotly figure as an HTML file at the specified path.\n",
    "\n",
    "    Parameters:\n",
    "    fig (go.Figure): The Plotly figure to save.\n",
    "    path (str): The directory where the HTML file will be saved.\n",
    "    name (str): The name of the HTML file (without the .html extension).\n",
    "\n",
    "    Returns:\n",
    "    None\n",
    "    \"\"\"\n",
    "    # Create the directory if it doesn't exist\n",
    "    if not os.path.exists(path):\n",
    "        os.makedirs(path)\n",
    "        \n",
    "    return fig.write_html(path+\"/\"+name+\".html\")"
   ]
  },
  {
   "cell_type": "code",
   "execution_count": 15,
   "metadata": {},
   "outputs": [],
   "source": [
    "fig = topic_model.visualize_topics()\n",
    "save_graph_html(fig, \"../data/graphs/Clustering/global\", \"new_topic_visualize_topics\")\n",
    "fig"
   ]
  },
  {
   "cell_type": "code",
   "execution_count": 16,
   "metadata": {},
   "outputs": [
    {
     "name": "stderr",
     "output_type": "stream",
     "text": [
      "100%|██████████| 32/32 [00:04<00:00,  7.30it/s]\n"
     ]
    },
    {
     "data": {
      "application/vnd.plotly.v1+json": {
       "config": {
        "plotlyServerURL": "https://plot.ly"
       },
       "data": [
        {
         "hoverinfo": "text",
         "marker": {
          "color": "rgb(61,153,112)"
         },
         "mode": "lines",
         "text": [
          "sales_prices_products_delays_customers",
          "",
          "",
          "technical support_reliability_quality_customer service_reliable"
         ],
         "type": "scatter",
         "x": [
          0,
          0.22477679927493854,
          0.22477679927493854,
          0
         ],
         "xaxis": "x",
         "y": [
          -35,
          -35,
          -45,
          -45
         ],
         "yaxis": "y"
        },
        {
         "hoverinfo": "text",
         "marker": {
          "color": "rgb(61,153,112)"
         },
         "mode": "lines",
         "text": [
          "quality_complaints_ten_issues_products",
          "",
          "",
          "sales_products_prices_customer service_deliveries"
         ],
         "type": "scatter",
         "x": [
          0,
          0.2841810104757511,
          0.2841810104757511,
          0.22477679927493854
         ],
         "xaxis": "x",
         "y": [
          -25,
          -25,
          -40,
          -40
         ],
         "yaxis": "y"
        },
        {
         "hoverinfo": "text",
         "marker": {
          "color": "rgb(61,153,112)"
         },
         "mode": "lines",
         "text": [
          "sales_delivery time_deliveries_customer service_delivery",
          "",
          "",
          "technical support_customers_manufacturers_technical service_sales team"
         ],
         "type": "scatter",
         "x": [
          0.2841810104757511,
          0.3797227012127825,
          0.3797227012127825,
          0
         ],
         "xaxis": "x",
         "y": [
          -32.5,
          -32.5,
          -55,
          -55
         ],
         "yaxis": "y"
        },
        {
         "hoverinfo": "text",
         "marker": {
          "color": "rgb(61,153,112)"
         },
         "mode": "lines",
         "text": [
          "becuase_quality_reasons_sales_reliability",
          "",
          "",
          "customer service_customers_deliveries_customer_reliable"
         ],
         "type": "scatter",
         "x": [
          0,
          0.4989179274720028,
          0.4989179274720028,
          0.3797227012127825
         ],
         "xaxis": "x",
         "y": [
          -15,
          -15,
          -43.75,
          -43.75
         ],
         "yaxis": "y"
        },
        {
         "hoverinfo": "text",
         "marker": {
          "color": "rgb(61,153,112)"
         },
         "mode": "lines",
         "text": [
          "inverter_inverters_invertor_frequency inverters_converters",
          "",
          "",
          "drives_speed drives_drive_technical support_firmware"
         ],
         "type": "scatter",
         "x": [
          0,
          0.45286510414973646,
          0.45286510414973646,
          0
         ],
         "xaxis": "x",
         "y": [
          -65,
          -65,
          -75,
          -75
         ],
         "yaxis": "y"
        },
        {
         "hoverinfo": "text",
         "marker": {
          "color": "rgb(61,153,112)"
         },
         "mode": "lines",
         "text": [
          "deliveries_customer service_reliable_issues_sales",
          "",
          "",
          "inverter_inverters_frequency inverters_invertor_technical support"
         ],
         "type": "scatter",
         "x": [
          0.4989179274720028,
          0.5482524489322973,
          0.5482524489322973,
          0.45286510414973646
         ],
         "xaxis": "x",
         "y": [
          -29.375,
          -29.375,
          -70,
          -70
         ],
         "yaxis": "y"
        },
        {
         "hoverinfo": "text",
         "marker": {
          "color": "rgb(61,153,112)"
         },
         "mode": "lines",
         "text": [
          "lead time_lead_customers_inventory_waiting",
          "",
          "",
          "plc_deliveries_customer service_sales_customers"
         ],
         "type": "scatter",
         "x": [
          0,
          0.6754042176119138,
          0.6754042176119138,
          0.5482524489322973
         ],
         "xaxis": "x",
         "y": [
          -5,
          -5,
          -49.6875,
          -49.6875
         ],
         "yaxis": "y"
        },
        {
         "hoverinfo": "text",
         "marker": {
          "color": "rgb(61,153,112)"
         },
         "mode": "lines",
         "text": [
          "ups_upss_troubleshooting_warranty_repair",
          "",
          "",
          "call_call back_telephone_call center_calling"
         ],
         "type": "scatter",
         "x": [
          0,
          0.5005000092967797,
          0.5005000092967797,
          0
         ],
         "xaxis": "x",
         "y": [
          -105,
          -105,
          -115,
          -115
         ],
         "yaxis": "y"
        },
        {
         "hoverinfo": "text",
         "marker": {
          "color": "rgb(61,153,112)"
         },
         "mode": "lines",
         "text": [
          "troubleshooting_resolved_issue_workaround_defective",
          "",
          "",
          "ups_upss_troubleshooting_apc_maintenance"
         ],
         "type": "scatter",
         "x": [
          0,
          0.5099402550782418,
          0.5099402550782418,
          0.5005000092967797
         ],
         "xaxis": "x",
         "y": [
          -95,
          -95,
          -110,
          -110
         ],
         "yaxis": "y"
        },
        {
         "hoverinfo": "text",
         "marker": {
          "color": "rgb(61,153,112)"
         },
         "mode": "lines",
         "text": [
          "ups_upss_troubleshooting_warranty_maintenance",
          "",
          "",
          "touch panel_touch screen_gp2000_panel_screen"
         ],
         "type": "scatter",
         "x": [
          0.5099402550782418,
          0.5881643802294613,
          0.5881643802294613,
          0
         ],
         "xaxis": "x",
         "y": [
          -102.5,
          -102.5,
          -125,
          -125
         ],
         "yaxis": "y"
        },
        {
         "hoverinfo": "text",
         "marker": {
          "color": "rgb(61,153,112)"
         },
         "mode": "lines",
         "text": [
          "repair_repaired_repairs_replacement_warranty",
          "",
          "",
          "touch panel_panel_touch_screen_ups"
         ],
         "type": "scatter",
         "x": [
          0,
          0.6746241653206665,
          0.6746241653206665,
          0.5881643802294613
         ],
         "xaxis": "x",
         "y": [
          -85,
          -85,
          -113.75,
          -113.75
         ],
         "yaxis": "y"
        },
        {
         "hoverinfo": "text",
         "marker": {
          "color": "rgb(61,153,112)"
         },
         "mode": "lines",
         "text": [
          "quoting_quotations_quotes_quotation_quoted",
          "",
          "",
          "offers_offered_offer_receive_received"
         ],
         "type": "scatter",
         "x": [
          0,
          0.6093003697656021,
          0.6093003697656021,
          0
         ],
         "xaxis": "x",
         "y": [
          -135,
          -135,
          -145,
          -145
         ],
         "yaxis": "y"
        },
        {
         "hoverinfo": "text",
         "marker": {
          "color": "rgb(61,153,112)"
         },
         "mode": "lines",
         "text": [
          "touch panel_ups_gp4000_upss_panel",
          "",
          "",
          "quotations_response time_quotation_quoting_quotes"
         ],
         "type": "scatter",
         "x": [
          0.6746241653206665,
          0.7511220515316387,
          0.7511220515316387,
          0.6093003697656021
         ],
         "xaxis": "x",
         "y": [
          -99.375,
          -99.375,
          -140,
          -140
         ],
         "yaxis": "y"
        },
        {
         "hoverinfo": "text",
         "marker": {
          "color": "rgb(61,153,112)"
         },
         "mode": "lines",
         "text": [
          "deliveries_delivery time_customer service_delivery_sales",
          "",
          "",
          "touch panel_gp4000_panel_device_touch"
         ],
         "type": "scatter",
         "x": [
          0.6754042176119138,
          0.8235064723251182,
          0.8235064723251182,
          0.7511220515316387
         ],
         "xaxis": "x",
         "y": [
          -27.34375,
          -27.34375,
          -119.6875,
          -119.6875
         ],
         "yaxis": "y"
        },
        {
         "hoverinfo": "text",
         "marker": {
          "color": "rgb(255,65,54)"
         },
         "mode": "lines",
         "text": [
          "fine_everything_perfectly_smoothly_usual",
          "",
          "",
          "deadlines_deadline_schedule_commitments_stipulated"
         ],
         "type": "scatter",
         "x": [
          0,
          0.8371837841135501,
          0.8371837841135501,
          0
         ],
         "xaxis": "x",
         "y": [
          -175,
          -175,
          -185,
          -185
         ],
         "yaxis": "y"
        },
        {
         "hoverinfo": "text",
         "marker": {
          "color": "rgb(255,65,54)"
         },
         "mode": "lines",
         "text": [
          "delays_delay_delayed_timing_waiting",
          "",
          "",
          "deadlines_deadline_schedule_expectations_indifference"
         ],
         "type": "scatter",
         "x": [
          0,
          0.8816744012369364,
          0.8816744012369364,
          0.8371837841135501
         ],
         "xaxis": "x",
         "y": [
          -165,
          -165,
          -180,
          -180
         ],
         "yaxis": "y"
        },
        {
         "hoverinfo": "text",
         "marker": {
          "color": "rgb(255,65,54)"
         },
         "mode": "lines",
         "text": [
          "service_excellent_appreciate_welcome_helpful",
          "",
          "",
          "deadlines_deadline_delays_schedule_expectations"
         ],
         "type": "scatter",
         "x": [
          0,
          0.9688703220083908,
          0.9688703220083908,
          0.8816744012369364
         ],
         "xaxis": "x",
         "y": [
          -155,
          -155,
          -172.5,
          -172.5
         ],
         "yaxis": "y"
        },
        {
         "hoverinfo": "text",
         "marker": {
          "color": "rgb(35,205,205)"
         },
         "mode": "lines",
         "text": [
          "quick response_answered_answers_responses_precise",
          "",
          "",
          "technician_technicians_competent_tech_competence"
         ],
         "type": "scatter",
         "x": [
          0,
          0.5390218494716341,
          0.5390218494716341,
          0
         ],
         "xaxis": "x",
         "y": [
          -215,
          -215,
          -225,
          -225
         ],
         "yaxis": "y"
        },
        {
         "hoverinfo": "text",
         "marker": {
          "color": "rgb(35,205,205)"
         },
         "mode": "lines",
         "text": [
          "technical support_technician_technicians_technical_quick response",
          "",
          "",
          "support_supported_supporters_competent_successful"
         ],
         "type": "scatter",
         "x": [
          0.5390218494716341,
          0.6056681639834802,
          0.6056681639834802,
          0
         ],
         "xaxis": "x",
         "y": [
          -220,
          -220,
          -235,
          -235
         ],
         "yaxis": "y"
        },
        {
         "hoverinfo": "text",
         "marker": {
          "color": "rgb(35,205,205)"
         },
         "mode": "lines",
         "text": [
          "solve problem_quickly_solving_solve_solutions",
          "",
          "",
          "technical support_technicians_technician_knowledgeable_technical"
         ],
         "type": "scatter",
         "x": [
          0,
          0.7228156377230018,
          0.7228156377230018,
          0.6056681639834802
         ],
         "xaxis": "x",
         "y": [
          -205,
          -205,
          -227.5,
          -227.5
         ],
         "yaxis": "y"
        },
        {
         "hoverinfo": "text",
         "marker": {
          "color": "rgb(35,205,205)"
         },
         "mode": "lines",
         "text": [
          "technicians_technician_technical support_tech_technical",
          "",
          "",
          "information_info_informative_detail_obtained"
         ],
         "type": "scatter",
         "x": [
          0.7228156377230018,
          0.7758159854765085,
          0.7758159854765085,
          0
         ],
         "xaxis": "x",
         "y": [
          -216.25,
          -216.25,
          -245,
          -245
         ],
         "yaxis": "y"
        },
        {
         "hoverinfo": "text",
         "marker": {
          "color": "rgb(35,205,205)"
         },
         "mode": "lines",
         "text": [
          "satisfaction_satisfied_satisfy_satisfying_overall",
          "",
          "",
          "technician_technicians_technical support_tech_technical"
         ],
         "type": "scatter",
         "x": [
          0,
          0.8992663953192838,
          0.8992663953192838,
          0.7758159854765085
         ],
         "xaxis": "x",
         "y": [
          -195,
          -195,
          -230.625,
          -230.625
         ],
         "yaxis": "y"
        },
        {
         "hoverinfo": "text",
         "marker": {
          "color": "rgb(35,205,205)"
         },
         "mode": "lines",
         "text": [
          "responsiveness_responsive_flexible_quality_availability",
          "",
          "",
          "professionalism_kindness_friendliness_competence_professional"
         ],
         "type": "scatter",
         "x": [
          0,
          0.8355380377541104,
          0.8355380377541104,
          0
         ],
         "xaxis": "x",
         "y": [
          -255,
          -255,
          -265,
          -265
         ],
         "yaxis": "y"
        },
        {
         "hoverinfo": "text",
         "marker": {
          "color": "rgb(35,205,205)"
         },
         "mode": "lines",
         "text": [
          "technician_technicians_responses_staff_technical support",
          "",
          "",
          "professionalism_kindness_competence_professional_skills"
         ],
         "type": "scatter",
         "x": [
          0.8992663953192838,
          0.9664768644605375,
          0.9664768644605375,
          0.8355380377541104
         ],
         "xaxis": "x",
         "y": [
          -212.8125,
          -212.8125,
          -260,
          -260
         ],
         "yaxis": "y"
        },
        {
         "hoverinfo": "text",
         "marker": {
          "color": "rgb(133,20,75)"
         },
         "mode": "lines",
         "text": [
          "attention_interest_responses_brain_relevance",
          "",
          "",
          "prompt_promptness_prompter_response_responses"
         ],
         "type": "scatter",
         "x": [
          0,
          0.8514323140873765,
          0.8514323140873765,
          0
         ],
         "xaxis": "x",
         "y": [
          -285,
          -285,
          -295,
          -295
         ],
         "yaxis": "y"
        },
        {
         "hoverinfo": "text",
         "marker": {
          "color": "rgb(133,20,75)"
         },
         "mode": "lines",
         "text": [
          "quick response_response_quick_reply_easy",
          "",
          "",
          "prompt_promptness_prompter_response_responses"
         ],
         "type": "scatter",
         "x": [
          0,
          0.871891189245429,
          0.871891189245429,
          0.8514323140873765
         ],
         "xaxis": "x",
         "y": [
          -275,
          -275,
          -290,
          -290
         ],
         "yaxis": "y"
        },
        {
         "hoverinfo": "text",
         "marker": {
          "color": "rgb(133,20,75)"
         },
         "mode": "lines",
         "text": [
          "feedback_quick response_response_respond_slow",
          "",
          "",
          "guidance_advice_advise_competent_guidelines"
         ],
         "type": "scatter",
         "x": [
          0,
          0.7980464900118224,
          0.7980464900118224,
          0
         ],
         "xaxis": "x",
         "y": [
          -305,
          -305,
          -315,
          -315
         ],
         "yaxis": "y"
        },
        {
         "hoverinfo": "text",
         "marker": {
          "color": "rgb(133,20,75)"
         },
         "mode": "lines",
         "text": [
          "quick response_response_responses_quick_attention",
          "",
          "",
          "advice_guidance_advise_tips_competent"
         ],
         "type": "scatter",
         "x": [
          0.871891189245429,
          0.8870630445188146,
          0.8870630445188146,
          0.7980464900118224
         ],
         "xaxis": "x",
         "y": [
          -282.5,
          -282.5,
          -310,
          -310
         ],
         "yaxis": "y"
        },
        {
         "hoverinfo": "text",
         "marker": {
          "color": "rgb(133,20,75)"
         },
         "mode": "lines",
         "text": [
          "responses_response_promptness_quick response_attention",
          "",
          "",
          "efficient_efficiently_performance_fast_quickly"
         ],
         "type": "scatter",
         "x": [
          0.8870630445188146,
          0.8968963884277364,
          0.8968963884277364,
          0
         ],
         "xaxis": "x",
         "y": [
          -296.25,
          -296.25,
          -325,
          -325
         ],
         "yaxis": "y"
        },
        {
         "hoverinfo": "text",
         "marker": {
          "color": "rgb(0,116,217)"
         },
         "mode": "lines",
         "text": [
          "competent_competence_quick response_response_answers",
          "",
          "",
          "quick response_responses_response_attention_quickly"
         ],
         "type": "scatter",
         "x": [
          0.9664768644605375,
          1.001987468019745,
          1.001987468019745,
          0.8968963884277364
         ],
         "xaxis": "x",
         "y": [
          -236.40625,
          -236.40625,
          -310.625,
          -310.625
         ],
         "yaxis": "y"
        },
        {
         "hoverinfo": "text",
         "marker": {
          "color": "rgb(0,116,217)"
         },
         "mode": "lines",
         "text": [
          "deadlines_deadline_delays_proposal_delay",
          "",
          "",
          "technician_technicians_tech_technical_technical support"
         ],
         "type": "scatter",
         "x": [
          0.9688703220083908,
          1.1114971691081093,
          1.1114971691081093,
          1.001987468019745
         ],
         "xaxis": "x",
         "y": [
          -163.75,
          -163.75,
          -273.515625,
          -273.515625
         ],
         "yaxis": "y"
        },
        {
         "hoverinfo": "text",
         "marker": {
          "color": "rgb(0,116,217)"
         },
         "mode": "lines",
         "text": [
          "customers_customer_contact_service_plc",
          "",
          "",
          "quick response_answers_explained_response_answered"
         ],
         "type": "scatter",
         "x": [
          0.8235064723251182,
          1.6722153923070662,
          1.6722153923070662,
          1.1114971691081093
         ],
         "xaxis": "x",
         "y": [
          -73.515625,
          -73.515625,
          -218.6328125,
          -218.6328125
         ],
         "yaxis": "y"
        },
        {
         "hoverinfo": "text",
         "hovertext": [
          "sales_delivery time_deliveries_customer service_delivery",
          "deliveries_customer service_reliable_issues_sales",
          "ups_upss_troubleshooting_warranty_maintenance",
          "touch panel_ups_gp4000_upss_panel",
          "deliveries_delivery time_customer service_delivery_sales",
          "technical support_technician_technicians_technical_quick response",
          "technicians_technician_technical support_tech_technical",
          "technician_technicians_responses_staff_technical support",
          "quick response_response_responses_quick_attention",
          "responses_response_promptness_quick response_attention",
          "competent_competence_quick response_response_answers",
          "deadlines_deadline_delays_proposal_delay",
          "customers_customer_contact_service_plc"
         ],
         "marker": {
          "color": "black"
         },
         "mode": "markers",
         "showlegend": false,
         "type": "scatter",
         "x": [
          0.2841810104757511,
          0.4989179274720028,
          0.5099402550782418,
          0.6746241653206665,
          0.6754042176119138,
          0.5390218494716341,
          0.7228156377230018,
          0.8992663953192838,
          0.871891189245429,
          0.8870630445188146,
          0.9664768644605375,
          0.9688703220083908,
          0.8235064723251182
         ],
         "y": [
          -32.5,
          -29.375,
          -102.5,
          -99.375,
          -27.34375,
          -220,
          -216.25,
          -212.8125,
          -282.5,
          -296.25,
          -236.40625,
          -163.75,
          -73.515625
         ]
        },
        {
         "hoverinfo": "text",
         "hovertext": [
          "sales_products_prices_customer service_deliveries",
          "customer service_customers_deliveries_customer_reliable",
          "inverter_inverters_frequency inverters_invertor_technical support",
          "plc_deliveries_customer service_sales_customers",
          "ups_upss_troubleshooting_apc_maintenance",
          "touch panel_panel_touch_screen_ups",
          "quotations_response time_quotation_quoting_quotes",
          "touch panel_gp4000_panel_device_touch",
          "deadlines_deadline_schedule_expectations_indifference",
          "deadlines_deadline_delays_schedule_expectations",
          "technical support_technicians_technician_knowledgeable_technical",
          "technician_technicians_technical support_tech_technical",
          "professionalism_kindness_competence_professional_skills",
          "prompt_promptness_prompter_response_responses",
          "advice_guidance_advise_tips_competent",
          "quick response_responses_response_attention_quickly",
          "technician_technicians_tech_technical_technical support",
          "quick response_answers_explained_response_answered"
         ],
         "marker": {
          "color": "black"
         },
         "mode": "markers",
         "showlegend": false,
         "type": "scatter",
         "x": [
          0.22477679927493854,
          0.3797227012127825,
          0.45286510414973646,
          0.5482524489322973,
          0.5005000092967797,
          0.5881643802294613,
          0.6093003697656021,
          0.7511220515316387,
          0.8371837841135501,
          0.8816744012369364,
          0.6056681639834802,
          0.7758159854765085,
          0.8355380377541104,
          0.8514323140873765,
          0.7980464900118224,
          0.8968963884277364,
          1.001987468019745,
          1.1114971691081093
         ],
         "y": [
          -40,
          -43.75,
          -70,
          -49.6875,
          -110,
          -113.75,
          -140,
          -119.6875,
          -180,
          -172.5,
          -227.5,
          -230.625,
          -260,
          -290,
          -310,
          -310.625,
          -273.515625,
          -218.6328125
         ]
        }
       ],
       "layout": {
        "autosize": false,
        "height": 695,
        "hoverlabel": {
         "bgcolor": "white",
         "font": {
          "family": "Rockwell",
          "size": 16
         }
        },
        "hovermode": "closest",
        "plot_bgcolor": "#ECEFF1",
        "showlegend": false,
        "template": {
         "data": {
          "bar": [
           {
            "error_x": {
             "color": "#2a3f5f"
            },
            "error_y": {
             "color": "#2a3f5f"
            },
            "marker": {
             "line": {
              "color": "white",
              "width": 0.5
             },
             "pattern": {
              "fillmode": "overlay",
              "size": 10,
              "solidity": 0.2
             }
            },
            "type": "bar"
           }
          ],
          "barpolar": [
           {
            "marker": {
             "line": {
              "color": "white",
              "width": 0.5
             },
             "pattern": {
              "fillmode": "overlay",
              "size": 10,
              "solidity": 0.2
             }
            },
            "type": "barpolar"
           }
          ],
          "carpet": [
           {
            "aaxis": {
             "endlinecolor": "#2a3f5f",
             "gridcolor": "#C8D4E3",
             "linecolor": "#C8D4E3",
             "minorgridcolor": "#C8D4E3",
             "startlinecolor": "#2a3f5f"
            },
            "baxis": {
             "endlinecolor": "#2a3f5f",
             "gridcolor": "#C8D4E3",
             "linecolor": "#C8D4E3",
             "minorgridcolor": "#C8D4E3",
             "startlinecolor": "#2a3f5f"
            },
            "type": "carpet"
           }
          ],
          "choropleth": [
           {
            "colorbar": {
             "outlinewidth": 0,
             "ticks": ""
            },
            "type": "choropleth"
           }
          ],
          "contour": [
           {
            "colorbar": {
             "outlinewidth": 0,
             "ticks": ""
            },
            "colorscale": [
             [
              0,
              "#0d0887"
             ],
             [
              0.1111111111111111,
              "#46039f"
             ],
             [
              0.2222222222222222,
              "#7201a8"
             ],
             [
              0.3333333333333333,
              "#9c179e"
             ],
             [
              0.4444444444444444,
              "#bd3786"
             ],
             [
              0.5555555555555556,
              "#d8576b"
             ],
             [
              0.6666666666666666,
              "#ed7953"
             ],
             [
              0.7777777777777778,
              "#fb9f3a"
             ],
             [
              0.8888888888888888,
              "#fdca26"
             ],
             [
              1,
              "#f0f921"
             ]
            ],
            "type": "contour"
           }
          ],
          "contourcarpet": [
           {
            "colorbar": {
             "outlinewidth": 0,
             "ticks": ""
            },
            "type": "contourcarpet"
           }
          ],
          "heatmap": [
           {
            "colorbar": {
             "outlinewidth": 0,
             "ticks": ""
            },
            "colorscale": [
             [
              0,
              "#0d0887"
             ],
             [
              0.1111111111111111,
              "#46039f"
             ],
             [
              0.2222222222222222,
              "#7201a8"
             ],
             [
              0.3333333333333333,
              "#9c179e"
             ],
             [
              0.4444444444444444,
              "#bd3786"
             ],
             [
              0.5555555555555556,
              "#d8576b"
             ],
             [
              0.6666666666666666,
              "#ed7953"
             ],
             [
              0.7777777777777778,
              "#fb9f3a"
             ],
             [
              0.8888888888888888,
              "#fdca26"
             ],
             [
              1,
              "#f0f921"
             ]
            ],
            "type": "heatmap"
           }
          ],
          "heatmapgl": [
           {
            "colorbar": {
             "outlinewidth": 0,
             "ticks": ""
            },
            "colorscale": [
             [
              0,
              "#0d0887"
             ],
             [
              0.1111111111111111,
              "#46039f"
             ],
             [
              0.2222222222222222,
              "#7201a8"
             ],
             [
              0.3333333333333333,
              "#9c179e"
             ],
             [
              0.4444444444444444,
              "#bd3786"
             ],
             [
              0.5555555555555556,
              "#d8576b"
             ],
             [
              0.6666666666666666,
              "#ed7953"
             ],
             [
              0.7777777777777778,
              "#fb9f3a"
             ],
             [
              0.8888888888888888,
              "#fdca26"
             ],
             [
              1,
              "#f0f921"
             ]
            ],
            "type": "heatmapgl"
           }
          ],
          "histogram": [
           {
            "marker": {
             "pattern": {
              "fillmode": "overlay",
              "size": 10,
              "solidity": 0.2
             }
            },
            "type": "histogram"
           }
          ],
          "histogram2d": [
           {
            "colorbar": {
             "outlinewidth": 0,
             "ticks": ""
            },
            "colorscale": [
             [
              0,
              "#0d0887"
             ],
             [
              0.1111111111111111,
              "#46039f"
             ],
             [
              0.2222222222222222,
              "#7201a8"
             ],
             [
              0.3333333333333333,
              "#9c179e"
             ],
             [
              0.4444444444444444,
              "#bd3786"
             ],
             [
              0.5555555555555556,
              "#d8576b"
             ],
             [
              0.6666666666666666,
              "#ed7953"
             ],
             [
              0.7777777777777778,
              "#fb9f3a"
             ],
             [
              0.8888888888888888,
              "#fdca26"
             ],
             [
              1,
              "#f0f921"
             ]
            ],
            "type": "histogram2d"
           }
          ],
          "histogram2dcontour": [
           {
            "colorbar": {
             "outlinewidth": 0,
             "ticks": ""
            },
            "colorscale": [
             [
              0,
              "#0d0887"
             ],
             [
              0.1111111111111111,
              "#46039f"
             ],
             [
              0.2222222222222222,
              "#7201a8"
             ],
             [
              0.3333333333333333,
              "#9c179e"
             ],
             [
              0.4444444444444444,
              "#bd3786"
             ],
             [
              0.5555555555555556,
              "#d8576b"
             ],
             [
              0.6666666666666666,
              "#ed7953"
             ],
             [
              0.7777777777777778,
              "#fb9f3a"
             ],
             [
              0.8888888888888888,
              "#fdca26"
             ],
             [
              1,
              "#f0f921"
             ]
            ],
            "type": "histogram2dcontour"
           }
          ],
          "mesh3d": [
           {
            "colorbar": {
             "outlinewidth": 0,
             "ticks": ""
            },
            "type": "mesh3d"
           }
          ],
          "parcoords": [
           {
            "line": {
             "colorbar": {
              "outlinewidth": 0,
              "ticks": ""
             }
            },
            "type": "parcoords"
           }
          ],
          "pie": [
           {
            "automargin": true,
            "type": "pie"
           }
          ],
          "scatter": [
           {
            "fillpattern": {
             "fillmode": "overlay",
             "size": 10,
             "solidity": 0.2
            },
            "type": "scatter"
           }
          ],
          "scatter3d": [
           {
            "line": {
             "colorbar": {
              "outlinewidth": 0,
              "ticks": ""
             }
            },
            "marker": {
             "colorbar": {
              "outlinewidth": 0,
              "ticks": ""
             }
            },
            "type": "scatter3d"
           }
          ],
          "scattercarpet": [
           {
            "marker": {
             "colorbar": {
              "outlinewidth": 0,
              "ticks": ""
             }
            },
            "type": "scattercarpet"
           }
          ],
          "scattergeo": [
           {
            "marker": {
             "colorbar": {
              "outlinewidth": 0,
              "ticks": ""
             }
            },
            "type": "scattergeo"
           }
          ],
          "scattergl": [
           {
            "marker": {
             "colorbar": {
              "outlinewidth": 0,
              "ticks": ""
             }
            },
            "type": "scattergl"
           }
          ],
          "scattermapbox": [
           {
            "marker": {
             "colorbar": {
              "outlinewidth": 0,
              "ticks": ""
             }
            },
            "type": "scattermapbox"
           }
          ],
          "scatterpolar": [
           {
            "marker": {
             "colorbar": {
              "outlinewidth": 0,
              "ticks": ""
             }
            },
            "type": "scatterpolar"
           }
          ],
          "scatterpolargl": [
           {
            "marker": {
             "colorbar": {
              "outlinewidth": 0,
              "ticks": ""
             }
            },
            "type": "scatterpolargl"
           }
          ],
          "scatterternary": [
           {
            "marker": {
             "colorbar": {
              "outlinewidth": 0,
              "ticks": ""
             }
            },
            "type": "scatterternary"
           }
          ],
          "surface": [
           {
            "colorbar": {
             "outlinewidth": 0,
             "ticks": ""
            },
            "colorscale": [
             [
              0,
              "#0d0887"
             ],
             [
              0.1111111111111111,
              "#46039f"
             ],
             [
              0.2222222222222222,
              "#7201a8"
             ],
             [
              0.3333333333333333,
              "#9c179e"
             ],
             [
              0.4444444444444444,
              "#bd3786"
             ],
             [
              0.5555555555555556,
              "#d8576b"
             ],
             [
              0.6666666666666666,
              "#ed7953"
             ],
             [
              0.7777777777777778,
              "#fb9f3a"
             ],
             [
              0.8888888888888888,
              "#fdca26"
             ],
             [
              1,
              "#f0f921"
             ]
            ],
            "type": "surface"
           }
          ],
          "table": [
           {
            "cells": {
             "fill": {
              "color": "#EBF0F8"
             },
             "line": {
              "color": "white"
             }
            },
            "header": {
             "fill": {
              "color": "#C8D4E3"
             },
             "line": {
              "color": "white"
             }
            },
            "type": "table"
           }
          ]
         },
         "layout": {
          "annotationdefaults": {
           "arrowcolor": "#2a3f5f",
           "arrowhead": 0,
           "arrowwidth": 1
          },
          "autotypenumbers": "strict",
          "coloraxis": {
           "colorbar": {
            "outlinewidth": 0,
            "ticks": ""
           }
          },
          "colorscale": {
           "diverging": [
            [
             0,
             "#8e0152"
            ],
            [
             0.1,
             "#c51b7d"
            ],
            [
             0.2,
             "#de77ae"
            ],
            [
             0.3,
             "#f1b6da"
            ],
            [
             0.4,
             "#fde0ef"
            ],
            [
             0.5,
             "#f7f7f7"
            ],
            [
             0.6,
             "#e6f5d0"
            ],
            [
             0.7,
             "#b8e186"
            ],
            [
             0.8,
             "#7fbc41"
            ],
            [
             0.9,
             "#4d9221"
            ],
            [
             1,
             "#276419"
            ]
           ],
           "sequential": [
            [
             0,
             "#0d0887"
            ],
            [
             0.1111111111111111,
             "#46039f"
            ],
            [
             0.2222222222222222,
             "#7201a8"
            ],
            [
             0.3333333333333333,
             "#9c179e"
            ],
            [
             0.4444444444444444,
             "#bd3786"
            ],
            [
             0.5555555555555556,
             "#d8576b"
            ],
            [
             0.6666666666666666,
             "#ed7953"
            ],
            [
             0.7777777777777778,
             "#fb9f3a"
            ],
            [
             0.8888888888888888,
             "#fdca26"
            ],
            [
             1,
             "#f0f921"
            ]
           ],
           "sequentialminus": [
            [
             0,
             "#0d0887"
            ],
            [
             0.1111111111111111,
             "#46039f"
            ],
            [
             0.2222222222222222,
             "#7201a8"
            ],
            [
             0.3333333333333333,
             "#9c179e"
            ],
            [
             0.4444444444444444,
             "#bd3786"
            ],
            [
             0.5555555555555556,
             "#d8576b"
            ],
            [
             0.6666666666666666,
             "#ed7953"
            ],
            [
             0.7777777777777778,
             "#fb9f3a"
            ],
            [
             0.8888888888888888,
             "#fdca26"
            ],
            [
             1,
             "#f0f921"
            ]
           ]
          },
          "colorway": [
           "#636efa",
           "#EF553B",
           "#00cc96",
           "#ab63fa",
           "#FFA15A",
           "#19d3f3",
           "#FF6692",
           "#B6E880",
           "#FF97FF",
           "#FECB52"
          ],
          "font": {
           "color": "#2a3f5f"
          },
          "geo": {
           "bgcolor": "white",
           "lakecolor": "white",
           "landcolor": "white",
           "showlakes": true,
           "showland": true,
           "subunitcolor": "#C8D4E3"
          },
          "hoverlabel": {
           "align": "left"
          },
          "hovermode": "closest",
          "mapbox": {
           "style": "light"
          },
          "paper_bgcolor": "white",
          "plot_bgcolor": "white",
          "polar": {
           "angularaxis": {
            "gridcolor": "#EBF0F8",
            "linecolor": "#EBF0F8",
            "ticks": ""
           },
           "bgcolor": "white",
           "radialaxis": {
            "gridcolor": "#EBF0F8",
            "linecolor": "#EBF0F8",
            "ticks": ""
           }
          },
          "scene": {
           "xaxis": {
            "backgroundcolor": "white",
            "gridcolor": "#DFE8F3",
            "gridwidth": 2,
            "linecolor": "#EBF0F8",
            "showbackground": true,
            "ticks": "",
            "zerolinecolor": "#EBF0F8"
           },
           "yaxis": {
            "backgroundcolor": "white",
            "gridcolor": "#DFE8F3",
            "gridwidth": 2,
            "linecolor": "#EBF0F8",
            "showbackground": true,
            "ticks": "",
            "zerolinecolor": "#EBF0F8"
           },
           "zaxis": {
            "backgroundcolor": "white",
            "gridcolor": "#DFE8F3",
            "gridwidth": 2,
            "linecolor": "#EBF0F8",
            "showbackground": true,
            "ticks": "",
            "zerolinecolor": "#EBF0F8"
           }
          },
          "shapedefaults": {
           "line": {
            "color": "#2a3f5f"
           }
          },
          "ternary": {
           "aaxis": {
            "gridcolor": "#DFE8F3",
            "linecolor": "#A2B1C6",
            "ticks": ""
           },
           "baxis": {
            "gridcolor": "#DFE8F3",
            "linecolor": "#A2B1C6",
            "ticks": ""
           },
           "bgcolor": "white",
           "caxis": {
            "gridcolor": "#DFE8F3",
            "linecolor": "#A2B1C6",
            "ticks": ""
           }
          },
          "title": {
           "x": 0.05
          },
          "xaxis": {
           "automargin": true,
           "gridcolor": "#EBF0F8",
           "linecolor": "#EBF0F8",
           "ticks": "",
           "title": {
            "standoff": 15
           },
           "zerolinecolor": "#EBF0F8",
           "zerolinewidth": 2
          },
          "yaxis": {
           "automargin": true,
           "gridcolor": "#EBF0F8",
           "linecolor": "#EBF0F8",
           "ticks": "",
           "title": {
            "standoff": 15
           },
           "zerolinecolor": "#EBF0F8",
           "zerolinewidth": 2
          }
         }
        },
        "title": {
         "font": {
          "color": "Black",
          "size": 22
         },
         "text": "<b>Hierarchical Clustering</b>",
         "x": 0.5,
         "xanchor": "center",
         "yanchor": "top"
        },
        "width": 1000,
        "xaxis": {
         "mirror": "allticks",
         "rangemode": "tozero",
         "showgrid": false,
         "showline": true,
         "showticklabels": true,
         "ticks": "outside",
         "type": "linear",
         "zeroline": false
        },
        "yaxis": {
         "mirror": "allticks",
         "range": [
          -330,
          0
         ],
         "rangemode": "tozero",
         "showgrid": false,
         "showline": true,
         "showticklabels": true,
         "tickmode": "array",
         "ticks": "outside",
         "ticktext": [
          "20_lead time_lead_customers",
          "11_becuase_quality_reasons",
          "4_quality_complaints_ten",
          "0_sales_prices_products",
          "1_technical support_reliabi...",
          "8_technical support_custome...",
          "9_inverter_inverters_invertor",
          "14_drives_speed drives_drive",
          "23_repair_repaired_repairs",
          "5_troubleshooting_resolved_...",
          "12_ups_upss_troubleshooting",
          "6_call_call back_telephone",
          "7_touch panel_touch screen_...",
          "13_quoting_quotations_quotes",
          "15_offers_offered_offer",
          "29_service_excellent_apprec...",
          "27_delays_delay_delayed",
          "16_fine_everything_perfectly",
          "22_deadlines_deadline_sched...",
          "21_satisfaction_satisfied_s...",
          "17_solve problem_quickly_so...",
          "2_quick response_answered_a...",
          "3_technician_technicians_co...",
          "10_support_supported_suppor...",
          "25_information_info_informa...",
          "24_responsiveness_responsiv...",
          "18_professionalism_kindness...",
          "30_quick response_response_...",
          "31_attention_interest_respo...",
          "19_prompt_promptness_prompter",
          "32_feedback_quick response_...",
          "28_guidance_advice_advise",
          "26_efficient_efficiently_pe..."
         ],
         "tickvals": [
          -5,
          -15,
          -25,
          -35,
          -45,
          -55,
          -65,
          -75,
          -85,
          -95,
          -105,
          -115,
          -125,
          -135,
          -145,
          -155,
          -165,
          -175,
          -185,
          -195,
          -205,
          -215,
          -225,
          -235,
          -245,
          -255,
          -265,
          -275,
          -285,
          -295,
          -305,
          -315,
          -325
         ],
         "type": "linear",
         "zeroline": false
        }
       }
      }
     },
     "metadata": {},
     "output_type": "display_data"
    }
   ],
   "source": [
    "hierarchical_topics = topic_model.hierarchical_topics(docs)\n",
    "fig=topic_model.visualize_hierarchy(hierarchical_topics=hierarchical_topics)\n",
    "save_graph_html(fig, \"../data/graphs/Clustering/hierarchy\", \"new_topics_hierarchy\")\n",
    "fig"
   ]
  },
  {
   "cell_type": "code",
   "execution_count": 17,
   "metadata": {},
   "outputs": [
    {
     "data": {
      "application/vnd.plotly.v1+json": {
       "config": {
        "plotlyServerURL": "https://plot.ly"
       },
       "data": [
        {
         "marker": {
          "color": "#D55E00"
         },
         "orientation": "h",
         "type": "bar",
         "x": [
          0.3345561921596527,
          0.3404693603515625,
          0.3453097343444824,
          0.36299562454223633,
          0.3700411021709442
         ],
         "xaxis": "x",
         "y": [
          "customers  ",
          "delays  ",
          "products  ",
          "prices  ",
          "sales  "
         ],
         "yaxis": "y"
        },
        {
         "marker": {
          "color": "#0072B2"
         },
         "orientation": "h",
         "type": "bar",
         "x": [
          0.3789674937725067,
          0.3896181583404541,
          0.39508938789367676,
          0.41528037190437317,
          0.46634864807128906
         ],
         "xaxis": "x2",
         "y": [
          "reliable  ",
          "customer service  ",
          "quality  ",
          "reliability  ",
          "technical support  "
         ],
         "yaxis": "y2"
        },
        {
         "marker": {
          "color": "#CC79A7"
         },
         "orientation": "h",
         "type": "bar",
         "x": [
          0.41818368434906006,
          0.41955482959747314,
          0.4209427833557129,
          0.4429168105125427,
          0.4973846673965454
         ],
         "xaxis": "x3",
         "y": [
          "precise  ",
          "responses  ",
          "answers  ",
          "answered  ",
          "quick response  "
         ],
         "yaxis": "y3"
        },
        {
         "marker": {
          "color": "#E69F00"
         },
         "orientation": "h",
         "type": "bar",
         "x": [
          0.5944364070892334,
          0.6401681303977966,
          0.6461442708969116,
          0.7781338691711426,
          0.8037691712379456
         ],
         "xaxis": "x4",
         "y": [
          "competence  ",
          "tech  ",
          "competent  ",
          "technicians  ",
          "technician  "
         ],
         "yaxis": "y4"
        },
        {
         "marker": {
          "color": "#56B4E9"
         },
         "orientation": "h",
         "type": "bar",
         "x": [
          0.3198767900466919,
          0.3315340280532837,
          0.3332253098487854,
          0.3558141589164734,
          0.36846524477005005
         ],
         "xaxis": "x5",
         "y": [
          "products  ",
          "issues  ",
          "ten  ",
          "complaints  ",
          "quality  "
         ],
         "yaxis": "y5"
        },
        {
         "marker": {
          "color": "#009E73"
         },
         "orientation": "h",
         "type": "bar",
         "x": [
          0.290655255317688,
          0.31859272718429565,
          0.3198558986186981,
          0.363551527261734,
          0.48550450801849365
         ],
         "xaxis": "x6",
         "y": [
          "defective  ",
          "workaround  ",
          "issue  ",
          "resolved  ",
          "troubleshooting  "
         ],
         "yaxis": "y6"
        },
        {
         "marker": {
          "color": "#F0E442"
         },
         "orientation": "h",
         "type": "bar",
         "x": [
          0.4870573878288269,
          0.5018794536590576,
          0.5031282901763916,
          0.5173730254173279,
          0.5308728218078613
         ],
         "xaxis": "x7",
         "y": [
          "calling  ",
          "call center  ",
          "telephone  ",
          "call back  ",
          "call  "
         ],
         "yaxis": "y7"
        },
        {
         "marker": {
          "color": "#D55E00"
         },
         "orientation": "h",
         "type": "bar",
         "x": [
          0.38094449043273926,
          0.3913572430610657,
          0.3914054334163666,
          0.5332675576210022,
          0.6010315418243408
         ],
         "xaxis": "x8",
         "y": [
          "screen  ",
          "panel  ",
          "gp2000  ",
          "touch screen  ",
          "touch panel  "
         ],
         "yaxis": "y8"
        },
        {
         "marker": {
          "color": "#0072B2"
         },
         "orientation": "h",
         "type": "bar",
         "x": [
          0.34974879026412964,
          0.35967692732810974,
          0.3740839958190918,
          0.3933368921279907,
          0.4076026380062103
         ],
         "xaxis": "x9",
         "y": [
          "sales team  ",
          "technical service  ",
          "manufacturers  ",
          "customers  ",
          "technical support  "
         ],
         "yaxis": "y9"
        },
        {
         "marker": {
          "color": "#CC79A7"
         },
         "orientation": "h",
         "type": "bar",
         "x": [
          0.3441748321056366,
          0.4454294443130493,
          0.4750686287879944,
          0.5489399433135986,
          0.5650204420089722
         ],
         "xaxis": "x10",
         "y": [
          "converters  ",
          "frequency inverters  ",
          "invertor  ",
          "inverters  ",
          "inverter  "
         ],
         "yaxis": "y10"
        },
        {
         "marker": {
          "color": "#E69F00"
         },
         "orientation": "h",
         "type": "bar",
         "x": [
          0.36985117197036743,
          0.4026210308074951,
          0.4041796326637268,
          0.4754176735877991,
          0.7136385440826416
         ],
         "xaxis": "x11",
         "y": [
          "successful  ",
          "competent  ",
          "supporters  ",
          "supported  ",
          "support  "
         ],
         "yaxis": "y11"
        },
        {
         "marker": {
          "color": "#56B4E9"
         },
         "orientation": "h",
         "type": "bar",
         "x": [
          0.2950807213783264,
          0.3007739186286926,
          0.30249935388565063,
          0.33517909049987793,
          0.3400415778160095
         ],
         "xaxis": "x12",
         "y": [
          "reliability  ",
          "sales  ",
          "reasons  ",
          "quality  ",
          "becuase  "
         ],
         "yaxis": "y12"
        }
       ],
       "layout": {
        "annotations": [
         {
          "font": {
           "size": 16
          },
          "showarrow": false,
          "text": "Topic 0",
          "x": 0.0875,
          "xanchor": "center",
          "xref": "paper",
          "y": 1,
          "yanchor": "bottom",
          "yref": "paper"
         },
         {
          "font": {
           "size": 16
          },
          "showarrow": false,
          "text": "Topic 1",
          "x": 0.36250000000000004,
          "xanchor": "center",
          "xref": "paper",
          "y": 1,
          "yanchor": "bottom",
          "yref": "paper"
         },
         {
          "font": {
           "size": 16
          },
          "showarrow": false,
          "text": "Topic 2",
          "x": 0.6375000000000001,
          "xanchor": "center",
          "xref": "paper",
          "y": 1,
          "yanchor": "bottom",
          "yref": "paper"
         },
         {
          "font": {
           "size": 16
          },
          "showarrow": false,
          "text": "Topic 3",
          "x": 0.9125,
          "xanchor": "center",
          "xref": "paper",
          "y": 1,
          "yanchor": "bottom",
          "yref": "paper"
         },
         {
          "font": {
           "size": 16
          },
          "showarrow": false,
          "text": "Topic 4",
          "x": 0.0875,
          "xanchor": "center",
          "xref": "paper",
          "y": 0.6222222222222222,
          "yanchor": "bottom",
          "yref": "paper"
         },
         {
          "font": {
           "size": 16
          },
          "showarrow": false,
          "text": "Topic 5",
          "x": 0.36250000000000004,
          "xanchor": "center",
          "xref": "paper",
          "y": 0.6222222222222222,
          "yanchor": "bottom",
          "yref": "paper"
         },
         {
          "font": {
           "size": 16
          },
          "showarrow": false,
          "text": "Topic 6",
          "x": 0.6375000000000001,
          "xanchor": "center",
          "xref": "paper",
          "y": 0.6222222222222222,
          "yanchor": "bottom",
          "yref": "paper"
         },
         {
          "font": {
           "size": 16
          },
          "showarrow": false,
          "text": "Topic 7",
          "x": 0.9125,
          "xanchor": "center",
          "xref": "paper",
          "y": 0.6222222222222222,
          "yanchor": "bottom",
          "yref": "paper"
         },
         {
          "font": {
           "size": 16
          },
          "showarrow": false,
          "text": "Topic 8",
          "x": 0.0875,
          "xanchor": "center",
          "xref": "paper",
          "y": 0.24444444444444446,
          "yanchor": "bottom",
          "yref": "paper"
         },
         {
          "font": {
           "size": 16
          },
          "showarrow": false,
          "text": "Topic 9",
          "x": 0.36250000000000004,
          "xanchor": "center",
          "xref": "paper",
          "y": 0.24444444444444446,
          "yanchor": "bottom",
          "yref": "paper"
         },
         {
          "font": {
           "size": 16
          },
          "showarrow": false,
          "text": "Topic 10",
          "x": 0.6375000000000001,
          "xanchor": "center",
          "xref": "paper",
          "y": 0.24444444444444446,
          "yanchor": "bottom",
          "yref": "paper"
         },
         {
          "font": {
           "size": 16
          },
          "showarrow": false,
          "text": "Topic 11",
          "x": 0.9125,
          "xanchor": "center",
          "xref": "paper",
          "y": 0.24444444444444446,
          "yanchor": "bottom",
          "yref": "paper"
         }
        ],
        "height": 750,
        "hoverlabel": {
         "bgcolor": "white",
         "font": {
          "family": "Rockwell",
          "size": 16
         }
        },
        "showlegend": false,
        "template": {
         "data": {
          "bar": [
           {
            "error_x": {
             "color": "#2a3f5f"
            },
            "error_y": {
             "color": "#2a3f5f"
            },
            "marker": {
             "line": {
              "color": "white",
              "width": 0.5
             },
             "pattern": {
              "fillmode": "overlay",
              "size": 10,
              "solidity": 0.2
             }
            },
            "type": "bar"
           }
          ],
          "barpolar": [
           {
            "marker": {
             "line": {
              "color": "white",
              "width": 0.5
             },
             "pattern": {
              "fillmode": "overlay",
              "size": 10,
              "solidity": 0.2
             }
            },
            "type": "barpolar"
           }
          ],
          "carpet": [
           {
            "aaxis": {
             "endlinecolor": "#2a3f5f",
             "gridcolor": "#C8D4E3",
             "linecolor": "#C8D4E3",
             "minorgridcolor": "#C8D4E3",
             "startlinecolor": "#2a3f5f"
            },
            "baxis": {
             "endlinecolor": "#2a3f5f",
             "gridcolor": "#C8D4E3",
             "linecolor": "#C8D4E3",
             "minorgridcolor": "#C8D4E3",
             "startlinecolor": "#2a3f5f"
            },
            "type": "carpet"
           }
          ],
          "choropleth": [
           {
            "colorbar": {
             "outlinewidth": 0,
             "ticks": ""
            },
            "type": "choropleth"
           }
          ],
          "contour": [
           {
            "colorbar": {
             "outlinewidth": 0,
             "ticks": ""
            },
            "colorscale": [
             [
              0,
              "#0d0887"
             ],
             [
              0.1111111111111111,
              "#46039f"
             ],
             [
              0.2222222222222222,
              "#7201a8"
             ],
             [
              0.3333333333333333,
              "#9c179e"
             ],
             [
              0.4444444444444444,
              "#bd3786"
             ],
             [
              0.5555555555555556,
              "#d8576b"
             ],
             [
              0.6666666666666666,
              "#ed7953"
             ],
             [
              0.7777777777777778,
              "#fb9f3a"
             ],
             [
              0.8888888888888888,
              "#fdca26"
             ],
             [
              1,
              "#f0f921"
             ]
            ],
            "type": "contour"
           }
          ],
          "contourcarpet": [
           {
            "colorbar": {
             "outlinewidth": 0,
             "ticks": ""
            },
            "type": "contourcarpet"
           }
          ],
          "heatmap": [
           {
            "colorbar": {
             "outlinewidth": 0,
             "ticks": ""
            },
            "colorscale": [
             [
              0,
              "#0d0887"
             ],
             [
              0.1111111111111111,
              "#46039f"
             ],
             [
              0.2222222222222222,
              "#7201a8"
             ],
             [
              0.3333333333333333,
              "#9c179e"
             ],
             [
              0.4444444444444444,
              "#bd3786"
             ],
             [
              0.5555555555555556,
              "#d8576b"
             ],
             [
              0.6666666666666666,
              "#ed7953"
             ],
             [
              0.7777777777777778,
              "#fb9f3a"
             ],
             [
              0.8888888888888888,
              "#fdca26"
             ],
             [
              1,
              "#f0f921"
             ]
            ],
            "type": "heatmap"
           }
          ],
          "heatmapgl": [
           {
            "colorbar": {
             "outlinewidth": 0,
             "ticks": ""
            },
            "colorscale": [
             [
              0,
              "#0d0887"
             ],
             [
              0.1111111111111111,
              "#46039f"
             ],
             [
              0.2222222222222222,
              "#7201a8"
             ],
             [
              0.3333333333333333,
              "#9c179e"
             ],
             [
              0.4444444444444444,
              "#bd3786"
             ],
             [
              0.5555555555555556,
              "#d8576b"
             ],
             [
              0.6666666666666666,
              "#ed7953"
             ],
             [
              0.7777777777777778,
              "#fb9f3a"
             ],
             [
              0.8888888888888888,
              "#fdca26"
             ],
             [
              1,
              "#f0f921"
             ]
            ],
            "type": "heatmapgl"
           }
          ],
          "histogram": [
           {
            "marker": {
             "pattern": {
              "fillmode": "overlay",
              "size": 10,
              "solidity": 0.2
             }
            },
            "type": "histogram"
           }
          ],
          "histogram2d": [
           {
            "colorbar": {
             "outlinewidth": 0,
             "ticks": ""
            },
            "colorscale": [
             [
              0,
              "#0d0887"
             ],
             [
              0.1111111111111111,
              "#46039f"
             ],
             [
              0.2222222222222222,
              "#7201a8"
             ],
             [
              0.3333333333333333,
              "#9c179e"
             ],
             [
              0.4444444444444444,
              "#bd3786"
             ],
             [
              0.5555555555555556,
              "#d8576b"
             ],
             [
              0.6666666666666666,
              "#ed7953"
             ],
             [
              0.7777777777777778,
              "#fb9f3a"
             ],
             [
              0.8888888888888888,
              "#fdca26"
             ],
             [
              1,
              "#f0f921"
             ]
            ],
            "type": "histogram2d"
           }
          ],
          "histogram2dcontour": [
           {
            "colorbar": {
             "outlinewidth": 0,
             "ticks": ""
            },
            "colorscale": [
             [
              0,
              "#0d0887"
             ],
             [
              0.1111111111111111,
              "#46039f"
             ],
             [
              0.2222222222222222,
              "#7201a8"
             ],
             [
              0.3333333333333333,
              "#9c179e"
             ],
             [
              0.4444444444444444,
              "#bd3786"
             ],
             [
              0.5555555555555556,
              "#d8576b"
             ],
             [
              0.6666666666666666,
              "#ed7953"
             ],
             [
              0.7777777777777778,
              "#fb9f3a"
             ],
             [
              0.8888888888888888,
              "#fdca26"
             ],
             [
              1,
              "#f0f921"
             ]
            ],
            "type": "histogram2dcontour"
           }
          ],
          "mesh3d": [
           {
            "colorbar": {
             "outlinewidth": 0,
             "ticks": ""
            },
            "type": "mesh3d"
           }
          ],
          "parcoords": [
           {
            "line": {
             "colorbar": {
              "outlinewidth": 0,
              "ticks": ""
             }
            },
            "type": "parcoords"
           }
          ],
          "pie": [
           {
            "automargin": true,
            "type": "pie"
           }
          ],
          "scatter": [
           {
            "fillpattern": {
             "fillmode": "overlay",
             "size": 10,
             "solidity": 0.2
            },
            "type": "scatter"
           }
          ],
          "scatter3d": [
           {
            "line": {
             "colorbar": {
              "outlinewidth": 0,
              "ticks": ""
             }
            },
            "marker": {
             "colorbar": {
              "outlinewidth": 0,
              "ticks": ""
             }
            },
            "type": "scatter3d"
           }
          ],
          "scattercarpet": [
           {
            "marker": {
             "colorbar": {
              "outlinewidth": 0,
              "ticks": ""
             }
            },
            "type": "scattercarpet"
           }
          ],
          "scattergeo": [
           {
            "marker": {
             "colorbar": {
              "outlinewidth": 0,
              "ticks": ""
             }
            },
            "type": "scattergeo"
           }
          ],
          "scattergl": [
           {
            "marker": {
             "colorbar": {
              "outlinewidth": 0,
              "ticks": ""
             }
            },
            "type": "scattergl"
           }
          ],
          "scattermapbox": [
           {
            "marker": {
             "colorbar": {
              "outlinewidth": 0,
              "ticks": ""
             }
            },
            "type": "scattermapbox"
           }
          ],
          "scatterpolar": [
           {
            "marker": {
             "colorbar": {
              "outlinewidth": 0,
              "ticks": ""
             }
            },
            "type": "scatterpolar"
           }
          ],
          "scatterpolargl": [
           {
            "marker": {
             "colorbar": {
              "outlinewidth": 0,
              "ticks": ""
             }
            },
            "type": "scatterpolargl"
           }
          ],
          "scatterternary": [
           {
            "marker": {
             "colorbar": {
              "outlinewidth": 0,
              "ticks": ""
             }
            },
            "type": "scatterternary"
           }
          ],
          "surface": [
           {
            "colorbar": {
             "outlinewidth": 0,
             "ticks": ""
            },
            "colorscale": [
             [
              0,
              "#0d0887"
             ],
             [
              0.1111111111111111,
              "#46039f"
             ],
             [
              0.2222222222222222,
              "#7201a8"
             ],
             [
              0.3333333333333333,
              "#9c179e"
             ],
             [
              0.4444444444444444,
              "#bd3786"
             ],
             [
              0.5555555555555556,
              "#d8576b"
             ],
             [
              0.6666666666666666,
              "#ed7953"
             ],
             [
              0.7777777777777778,
              "#fb9f3a"
             ],
             [
              0.8888888888888888,
              "#fdca26"
             ],
             [
              1,
              "#f0f921"
             ]
            ],
            "type": "surface"
           }
          ],
          "table": [
           {
            "cells": {
             "fill": {
              "color": "#EBF0F8"
             },
             "line": {
              "color": "white"
             }
            },
            "header": {
             "fill": {
              "color": "#C8D4E3"
             },
             "line": {
              "color": "white"
             }
            },
            "type": "table"
           }
          ]
         },
         "layout": {
          "annotationdefaults": {
           "arrowcolor": "#2a3f5f",
           "arrowhead": 0,
           "arrowwidth": 1
          },
          "autotypenumbers": "strict",
          "coloraxis": {
           "colorbar": {
            "outlinewidth": 0,
            "ticks": ""
           }
          },
          "colorscale": {
           "diverging": [
            [
             0,
             "#8e0152"
            ],
            [
             0.1,
             "#c51b7d"
            ],
            [
             0.2,
             "#de77ae"
            ],
            [
             0.3,
             "#f1b6da"
            ],
            [
             0.4,
             "#fde0ef"
            ],
            [
             0.5,
             "#f7f7f7"
            ],
            [
             0.6,
             "#e6f5d0"
            ],
            [
             0.7,
             "#b8e186"
            ],
            [
             0.8,
             "#7fbc41"
            ],
            [
             0.9,
             "#4d9221"
            ],
            [
             1,
             "#276419"
            ]
           ],
           "sequential": [
            [
             0,
             "#0d0887"
            ],
            [
             0.1111111111111111,
             "#46039f"
            ],
            [
             0.2222222222222222,
             "#7201a8"
            ],
            [
             0.3333333333333333,
             "#9c179e"
            ],
            [
             0.4444444444444444,
             "#bd3786"
            ],
            [
             0.5555555555555556,
             "#d8576b"
            ],
            [
             0.6666666666666666,
             "#ed7953"
            ],
            [
             0.7777777777777778,
             "#fb9f3a"
            ],
            [
             0.8888888888888888,
             "#fdca26"
            ],
            [
             1,
             "#f0f921"
            ]
           ],
           "sequentialminus": [
            [
             0,
             "#0d0887"
            ],
            [
             0.1111111111111111,
             "#46039f"
            ],
            [
             0.2222222222222222,
             "#7201a8"
            ],
            [
             0.3333333333333333,
             "#9c179e"
            ],
            [
             0.4444444444444444,
             "#bd3786"
            ],
            [
             0.5555555555555556,
             "#d8576b"
            ],
            [
             0.6666666666666666,
             "#ed7953"
            ],
            [
             0.7777777777777778,
             "#fb9f3a"
            ],
            [
             0.8888888888888888,
             "#fdca26"
            ],
            [
             1,
             "#f0f921"
            ]
           ]
          },
          "colorway": [
           "#636efa",
           "#EF553B",
           "#00cc96",
           "#ab63fa",
           "#FFA15A",
           "#19d3f3",
           "#FF6692",
           "#B6E880",
           "#FF97FF",
           "#FECB52"
          ],
          "font": {
           "color": "#2a3f5f"
          },
          "geo": {
           "bgcolor": "white",
           "lakecolor": "white",
           "landcolor": "white",
           "showlakes": true,
           "showland": true,
           "subunitcolor": "#C8D4E3"
          },
          "hoverlabel": {
           "align": "left"
          },
          "hovermode": "closest",
          "mapbox": {
           "style": "light"
          },
          "paper_bgcolor": "white",
          "plot_bgcolor": "white",
          "polar": {
           "angularaxis": {
            "gridcolor": "#EBF0F8",
            "linecolor": "#EBF0F8",
            "ticks": ""
           },
           "bgcolor": "white",
           "radialaxis": {
            "gridcolor": "#EBF0F8",
            "linecolor": "#EBF0F8",
            "ticks": ""
           }
          },
          "scene": {
           "xaxis": {
            "backgroundcolor": "white",
            "gridcolor": "#DFE8F3",
            "gridwidth": 2,
            "linecolor": "#EBF0F8",
            "showbackground": true,
            "ticks": "",
            "zerolinecolor": "#EBF0F8"
           },
           "yaxis": {
            "backgroundcolor": "white",
            "gridcolor": "#DFE8F3",
            "gridwidth": 2,
            "linecolor": "#EBF0F8",
            "showbackground": true,
            "ticks": "",
            "zerolinecolor": "#EBF0F8"
           },
           "zaxis": {
            "backgroundcolor": "white",
            "gridcolor": "#DFE8F3",
            "gridwidth": 2,
            "linecolor": "#EBF0F8",
            "showbackground": true,
            "ticks": "",
            "zerolinecolor": "#EBF0F8"
           }
          },
          "shapedefaults": {
           "line": {
            "color": "#2a3f5f"
           }
          },
          "ternary": {
           "aaxis": {
            "gridcolor": "#DFE8F3",
            "linecolor": "#A2B1C6",
            "ticks": ""
           },
           "baxis": {
            "gridcolor": "#DFE8F3",
            "linecolor": "#A2B1C6",
            "ticks": ""
           },
           "bgcolor": "white",
           "caxis": {
            "gridcolor": "#DFE8F3",
            "linecolor": "#A2B1C6",
            "ticks": ""
           }
          },
          "title": {
           "x": 0.05
          },
          "xaxis": {
           "automargin": true,
           "gridcolor": "#EBF0F8",
           "linecolor": "#EBF0F8",
           "ticks": "",
           "title": {
            "standoff": 15
           },
           "zerolinecolor": "#EBF0F8",
           "zerolinewidth": 2
          },
          "yaxis": {
           "automargin": true,
           "gridcolor": "#EBF0F8",
           "linecolor": "#EBF0F8",
           "ticks": "",
           "title": {
            "standoff": 15
           },
           "zerolinecolor": "#EBF0F8",
           "zerolinewidth": 2
          }
         }
        },
        "title": {
         "font": {
          "color": "Black",
          "size": 22
         },
         "text": "Topic Word Scores",
         "x": 0.5,
         "xanchor": "center",
         "yanchor": "top"
        },
        "width": 1000,
        "xaxis": {
         "anchor": "y",
         "domain": [
          0,
          0.175
         ],
         "showgrid": true
        },
        "xaxis10": {
         "anchor": "y10",
         "domain": [
          0.275,
          0.45
         ],
         "showgrid": true
        },
        "xaxis11": {
         "anchor": "y11",
         "domain": [
          0.55,
          0.7250000000000001
         ],
         "showgrid": true
        },
        "xaxis12": {
         "anchor": "y12",
         "domain": [
          0.825,
          1
         ],
         "showgrid": true
        },
        "xaxis2": {
         "anchor": "y2",
         "domain": [
          0.275,
          0.45
         ],
         "showgrid": true
        },
        "xaxis3": {
         "anchor": "y3",
         "domain": [
          0.55,
          0.7250000000000001
         ],
         "showgrid": true
        },
        "xaxis4": {
         "anchor": "y4",
         "domain": [
          0.825,
          1
         ],
         "showgrid": true
        },
        "xaxis5": {
         "anchor": "y5",
         "domain": [
          0,
          0.175
         ],
         "showgrid": true
        },
        "xaxis6": {
         "anchor": "y6",
         "domain": [
          0.275,
          0.45
         ],
         "showgrid": true
        },
        "xaxis7": {
         "anchor": "y7",
         "domain": [
          0.55,
          0.7250000000000001
         ],
         "showgrid": true
        },
        "xaxis8": {
         "anchor": "y8",
         "domain": [
          0.825,
          1
         ],
         "showgrid": true
        },
        "xaxis9": {
         "anchor": "y9",
         "domain": [
          0,
          0.175
         ],
         "showgrid": true
        },
        "yaxis": {
         "anchor": "x",
         "domain": [
          0.7555555555555555,
          1
         ],
         "showgrid": true
        },
        "yaxis10": {
         "anchor": "x10",
         "domain": [
          0,
          0.24444444444444446
         ],
         "showgrid": true
        },
        "yaxis11": {
         "anchor": "x11",
         "domain": [
          0,
          0.24444444444444446
         ],
         "showgrid": true
        },
        "yaxis12": {
         "anchor": "x12",
         "domain": [
          0,
          0.24444444444444446
         ],
         "showgrid": true
        },
        "yaxis2": {
         "anchor": "x2",
         "domain": [
          0.7555555555555555,
          1
         ],
         "showgrid": true
        },
        "yaxis3": {
         "anchor": "x3",
         "domain": [
          0.7555555555555555,
          1
         ],
         "showgrid": true
        },
        "yaxis4": {
         "anchor": "x4",
         "domain": [
          0.7555555555555555,
          1
         ],
         "showgrid": true
        },
        "yaxis5": {
         "anchor": "x5",
         "domain": [
          0.37777777777777777,
          0.6222222222222222
         ],
         "showgrid": true
        },
        "yaxis6": {
         "anchor": "x6",
         "domain": [
          0.37777777777777777,
          0.6222222222222222
         ],
         "showgrid": true
        },
        "yaxis7": {
         "anchor": "x7",
         "domain": [
          0.37777777777777777,
          0.6222222222222222
         ],
         "showgrid": true
        },
        "yaxis8": {
         "anchor": "x8",
         "domain": [
          0.37777777777777777,
          0.6222222222222222
         ],
         "showgrid": true
        },
        "yaxis9": {
         "anchor": "x9",
         "domain": [
          0,
          0.24444444444444446
         ],
         "showgrid": true
        }
       }
      }
     },
     "metadata": {},
     "output_type": "display_data"
    }
   ],
   "source": [
    "fig = topic_model.visualize_barchart(top_n_topics=12)\n",
    "save_graph_html(fig, \"../data/graphs/Clustering/global\", \"new_top_12_topics_barchart_viz\")\n",
    "fig"
   ]
  },
  {
   "cell_type": "code",
   "execution_count": 10,
   "metadata": {},
   "outputs": [],
   "source": [
    "# reduced_embeddings = UMAP(n_neighbors=10, n_components=2, min_dist=0.0, metric='cosine').fit_transform(embeddings)\n",
    "\n",
    "fig = topic_model_merged.visualize_documents(docs, embeddings=embeddings, hide_document_hover=False, hide_annotations=True, custom_labels=True)\n",
    "# save_graph_html(fig, \"../data/graphs/Clustering/documents_viz\", \"new_topic_merged_visualize_reduced_docs\")\n",
    "fig"
   ]
  },
  {
   "cell_type": "code",
   "execution_count": 17,
   "metadata": {},
   "outputs": [],
   "source": [
    "def save_bertopic_model(topic_model, topics, probs, embeddings, docs, filename):\n",
    "    \"\"\"\n",
    "    Save a BERTopic model and associated data to a file.\n",
    "    \n",
    "    :param topic_model: The BERTopic model to save.\n",
    "    :param topics: The topics variable to save.\n",
    "    :param probs: The probs variable to save.\n",
    "    :param docs: The docs variable to save.\n",
    "    :param filename: The name of the file to save the data to.\n",
    "    \"\"\"\n",
    "    # Save the BERTopic model\n",
    "    topic_model.save(filename)\n",
    "    \n",
    "    # Save the topics, probs, and docs variables\n",
    "    with open(filename + '_data.pkl', 'wb') as f:\n",
    "        pickle.dump((topics, probs, embeddings, docs), f)\n",
    "\n",
    "def load_bertopic_model(filename):\n",
    "    \"\"\"\n",
    "    Load a BERTopic model and associated data from a file.\n",
    "    \n",
    "    :param filename: The name of the file to load the data from.\n",
    "    :return: A tuple containing the loaded BERTopic model, topics, probs, and docs variables.\n",
    "    \"\"\"\n",
    "    # Load the BERTopic model\n",
    "    topic_model = BERTopic.load(filename)\n",
    "    \n",
    "    # Load the topics, probs, and docs variables\n",
    "    with open(filename + '_data.pkl', 'rb') as f:\n",
    "        topics, probs, embeddings, docs = pickle.load(f)\n",
    "    \n",
    "    return topic_model, topics, probs, embeddings, docs\n",
    "\n",
    "# Save the BERTopic model and associated data\n",
    "# save_bertopic_model(topic_model, topics, probs, embeddings, docs, '../models/schneider_bertopic_model_2023')\n",
    "\n",
    "# Load the BERTopic model and associated data\n",
    "topic_model, topics, probs, embeddings, docs = load_bertopic_model('../models/schneider_bertopic_model_2023')"
   ]
  },
  {
   "cell_type": "code",
   "execution_count": 5,
   "metadata": {},
   "outputs": [],
   "source": [
    "topics_to_merge = [\n",
    "                    [0,1,4,8,11,20], # Product Quality and Sales\n",
    "                    [9,14], # Inverters and Drives Support : about providing support and service for inverters and drives\n",
    "                    [23,5,12,6,7], # Technical Support and Maintenance for UPS Systems and Touch Panels\n",
    "                    [13,15], # Quotations and Offers Management\n",
    "                    [29,27,16,22], # Customer Service and Delivery Scheduling\n",
    "                    [2,3,10,17,25,21], # Technical Support and Problem Resolution\n",
    "                    [24,18,30,31,19,32,28,26] # Communication, Guidance and Feedback\n",
    "]\n",
    "\n",
    "names = [\"Product Quality & Sales\",\n",
    "    \"Inverters & Drives Support\",\n",
    "    \"UPS & Touch Panels\", #Technical Support and Maintenance for UPS Systems and Touch Panels\n",
    "    \"Quotations & Offers\", # Quotations and Offers Management\n",
    "    \"Customer Service & Delivery\", # Customer Service and Delivery Scheduling\n",
    "    \"Tech Support & Problem Resolution\",\n",
    "    \"Communication, Guidance & Feedback\"]\n",
    "\n",
    "# Create a dictionary where the keys are the topics and the values are the custom labels\n",
    "topic_labels_dict = {}\n",
    "topic_labels_dict[-1]=\"Outliers\"\n",
    "for i in range(len(topics_to_merge)):\n",
    "    for topic in topics_to_merge[i]:\n",
    "        topic_labels_dict[topic] = names[i]"
   ]
  },
  {
   "cell_type": "code",
   "execution_count": 6,
   "metadata": {},
   "outputs": [
    {
     "name": "stderr",
     "output_type": "stream",
     "text": [
      "/home/cattiaux/anaconda3/envs/wassati/lib/python3.9/site-packages/bertopic/vectorizers/_ctfidf.py:82: RuntimeWarning: divide by zero encountered in divide\n",
      "  idf = np.log((avg_nr_samples / df)+1)\n"
     ]
    },
    {
     "data": {
      "application/vnd.plotly.v1+json": {
       "config": {
        "plotlyServerURL": "https://plot.ly"
       },
       "data": [
        {
         "marker": {
          "color": "#D55E00"
         },
         "orientation": "h",
         "type": "bar",
         "x": [
          0.2889109253883362,
          0.29197633266448975,
          0.3044477701187134,
          0.30579352378845215,
          0.3291482925415039
         ],
         "xaxis": "x",
         "y": [
          "prices  ",
          "problems  ",
          "sales  ",
          "issues  ",
          "products  "
         ],
         "yaxis": "y"
        },
        {
         "marker": {
          "color": "#0072B2"
         },
         "orientation": "h",
         "type": "bar",
         "x": [
          0.457499623298645,
          0.4681204855442047,
          0.49741342663764954,
          0.5088281631469727,
          0.5220244526863098
         ],
         "xaxis": "x2",
         "y": [
          "tech  ",
          "quick response  ",
          "technicians  ",
          "technical support  ",
          "technician  "
         ],
         "yaxis": "y2"
        },
        {
         "marker": {
          "color": "#CC79A7"
         },
         "orientation": "h",
         "type": "bar",
         "x": [
          0.26442307233810425,
          0.2685493528842926,
          0.2884441018104553,
          0.29125356674194336,
          0.29822975397109985
         ],
         "xaxis": "x3",
         "y": [
          "device  ",
          "apc  ",
          "ups  ",
          "touch panel  ",
          "gp4000  "
         ],
         "yaxis": "y3"
        },
        {
         "marker": {
          "color": "#E69F00"
         },
         "orientation": "h",
         "type": "bar",
         "x": [
          0.5927522778511047,
          0.6634455919265747,
          0.6759064197540283,
          0.6939045190811157,
          0.8417321443557739
         ],
         "xaxis": "x4",
         "y": [
          "quickly  ",
          "quickness  ",
          "response  ",
          "responses  ",
          "quick response  "
         ],
         "yaxis": "y4"
        },
        {
         "marker": {
          "color": "#56B4E9"
         },
         "orientation": "h",
         "type": "bar",
         "x": [
          0.28654760122299194,
          0.3315352201461792,
          0.4066563844680786,
          0.4812522530555725,
          0.4935693144798279
         ],
         "xaxis": "x5",
         "y": [
          "atv320  ",
          "technical support  ",
          "frequency inverters  ",
          "inverter  ",
          "inverters  "
         ],
         "yaxis": "y5"
        },
        {
         "marker": {
          "color": "#009E73"
         },
         "orientation": "h",
         "type": "bar",
         "x": [
          0.31082046031951904,
          0.3159249424934387,
          0.3269544839859009,
          0.3375735878944397,
          0.3436334729194641
         ],
         "xaxis": "x6",
         "y": [
          "response time  ",
          "quotes  ",
          "quotation  ",
          "quoting  ",
          "quotations  "
         ],
         "yaxis": "y6"
        },
        {
         "marker": {
          "color": "#F0E442"
         },
         "orientation": "h",
         "type": "bar",
         "x": [
          0.4216707944869995,
          0.47302988171577454,
          0.5560160279273987,
          0.6765474677085876,
          0.7012832760810852
         ],
         "xaxis": "x7",
         "y": [
          "timing  ",
          "delay  ",
          "delays  ",
          "deadline  ",
          "deadlines  "
         ],
         "yaxis": "y7"
        }
       ],
       "layout": {
        "annotations": [
         {
          "font": {
           "size": 16
          },
          "showarrow": false,
          "text": "Product Quality & Sales",
          "x": 0.0875,
          "xanchor": "center",
          "xref": "paper",
          "y": 1,
          "yanchor": "bottom",
          "yref": "paper"
         },
         {
          "font": {
           "size": 16
          },
          "showarrow": false,
          "text": "Tech Support & Problem Resolution",
          "x": 0.36250000000000004,
          "xanchor": "center",
          "xref": "paper",
          "y": 1,
          "yanchor": "bottom",
          "yref": "paper"
         },
         {
          "font": {
           "size": 16
          },
          "showarrow": false,
          "text": "UPS & Touch Panels",
          "x": 0.6375000000000001,
          "xanchor": "center",
          "xref": "paper",
          "y": 1,
          "yanchor": "bottom",
          "yref": "paper"
         },
         {
          "font": {
           "size": 16
          },
          "showarrow": false,
          "text": "Communication, Guidance & Feedback",
          "x": 0.9125,
          "xanchor": "center",
          "xref": "paper",
          "y": 1,
          "yanchor": "bottom",
          "yref": "paper"
         },
         {
          "font": {
           "size": 16
          },
          "showarrow": false,
          "text": "Inverters & Drives Support",
          "x": 0.0875,
          "xanchor": "center",
          "xref": "paper",
          "y": 0.4,
          "yanchor": "bottom",
          "yref": "paper"
         },
         {
          "font": {
           "size": 16
          },
          "showarrow": false,
          "text": "Quotations & Offers",
          "x": 0.36250000000000004,
          "xanchor": "center",
          "xref": "paper",
          "y": 0.4,
          "yanchor": "bottom",
          "yref": "paper"
         },
         {
          "font": {
           "size": 16
          },
          "showarrow": false,
          "text": "Customer Service & Delivery",
          "x": 0.6375000000000001,
          "xanchor": "center",
          "xref": "paper",
          "y": 0.4,
          "yanchor": "bottom",
          "yref": "paper"
         }
        ],
        "height": 500,
        "hoverlabel": {
         "bgcolor": "white",
         "font": {
          "family": "Rockwell",
          "size": 16
         }
        },
        "showlegend": false,
        "template": {
         "data": {
          "bar": [
           {
            "error_x": {
             "color": "#2a3f5f"
            },
            "error_y": {
             "color": "#2a3f5f"
            },
            "marker": {
             "line": {
              "color": "white",
              "width": 0.5
             },
             "pattern": {
              "fillmode": "overlay",
              "size": 10,
              "solidity": 0.2
             }
            },
            "type": "bar"
           }
          ],
          "barpolar": [
           {
            "marker": {
             "line": {
              "color": "white",
              "width": 0.5
             },
             "pattern": {
              "fillmode": "overlay",
              "size": 10,
              "solidity": 0.2
             }
            },
            "type": "barpolar"
           }
          ],
          "carpet": [
           {
            "aaxis": {
             "endlinecolor": "#2a3f5f",
             "gridcolor": "#C8D4E3",
             "linecolor": "#C8D4E3",
             "minorgridcolor": "#C8D4E3",
             "startlinecolor": "#2a3f5f"
            },
            "baxis": {
             "endlinecolor": "#2a3f5f",
             "gridcolor": "#C8D4E3",
             "linecolor": "#C8D4E3",
             "minorgridcolor": "#C8D4E3",
             "startlinecolor": "#2a3f5f"
            },
            "type": "carpet"
           }
          ],
          "choropleth": [
           {
            "colorbar": {
             "outlinewidth": 0,
             "ticks": ""
            },
            "type": "choropleth"
           }
          ],
          "contour": [
           {
            "colorbar": {
             "outlinewidth": 0,
             "ticks": ""
            },
            "colorscale": [
             [
              0,
              "#0d0887"
             ],
             [
              0.1111111111111111,
              "#46039f"
             ],
             [
              0.2222222222222222,
              "#7201a8"
             ],
             [
              0.3333333333333333,
              "#9c179e"
             ],
             [
              0.4444444444444444,
              "#bd3786"
             ],
             [
              0.5555555555555556,
              "#d8576b"
             ],
             [
              0.6666666666666666,
              "#ed7953"
             ],
             [
              0.7777777777777778,
              "#fb9f3a"
             ],
             [
              0.8888888888888888,
              "#fdca26"
             ],
             [
              1,
              "#f0f921"
             ]
            ],
            "type": "contour"
           }
          ],
          "contourcarpet": [
           {
            "colorbar": {
             "outlinewidth": 0,
             "ticks": ""
            },
            "type": "contourcarpet"
           }
          ],
          "heatmap": [
           {
            "colorbar": {
             "outlinewidth": 0,
             "ticks": ""
            },
            "colorscale": [
             [
              0,
              "#0d0887"
             ],
             [
              0.1111111111111111,
              "#46039f"
             ],
             [
              0.2222222222222222,
              "#7201a8"
             ],
             [
              0.3333333333333333,
              "#9c179e"
             ],
             [
              0.4444444444444444,
              "#bd3786"
             ],
             [
              0.5555555555555556,
              "#d8576b"
             ],
             [
              0.6666666666666666,
              "#ed7953"
             ],
             [
              0.7777777777777778,
              "#fb9f3a"
             ],
             [
              0.8888888888888888,
              "#fdca26"
             ],
             [
              1,
              "#f0f921"
             ]
            ],
            "type": "heatmap"
           }
          ],
          "heatmapgl": [
           {
            "colorbar": {
             "outlinewidth": 0,
             "ticks": ""
            },
            "colorscale": [
             [
              0,
              "#0d0887"
             ],
             [
              0.1111111111111111,
              "#46039f"
             ],
             [
              0.2222222222222222,
              "#7201a8"
             ],
             [
              0.3333333333333333,
              "#9c179e"
             ],
             [
              0.4444444444444444,
              "#bd3786"
             ],
             [
              0.5555555555555556,
              "#d8576b"
             ],
             [
              0.6666666666666666,
              "#ed7953"
             ],
             [
              0.7777777777777778,
              "#fb9f3a"
             ],
             [
              0.8888888888888888,
              "#fdca26"
             ],
             [
              1,
              "#f0f921"
             ]
            ],
            "type": "heatmapgl"
           }
          ],
          "histogram": [
           {
            "marker": {
             "pattern": {
              "fillmode": "overlay",
              "size": 10,
              "solidity": 0.2
             }
            },
            "type": "histogram"
           }
          ],
          "histogram2d": [
           {
            "colorbar": {
             "outlinewidth": 0,
             "ticks": ""
            },
            "colorscale": [
             [
              0,
              "#0d0887"
             ],
             [
              0.1111111111111111,
              "#46039f"
             ],
             [
              0.2222222222222222,
              "#7201a8"
             ],
             [
              0.3333333333333333,
              "#9c179e"
             ],
             [
              0.4444444444444444,
              "#bd3786"
             ],
             [
              0.5555555555555556,
              "#d8576b"
             ],
             [
              0.6666666666666666,
              "#ed7953"
             ],
             [
              0.7777777777777778,
              "#fb9f3a"
             ],
             [
              0.8888888888888888,
              "#fdca26"
             ],
             [
              1,
              "#f0f921"
             ]
            ],
            "type": "histogram2d"
           }
          ],
          "histogram2dcontour": [
           {
            "colorbar": {
             "outlinewidth": 0,
             "ticks": ""
            },
            "colorscale": [
             [
              0,
              "#0d0887"
             ],
             [
              0.1111111111111111,
              "#46039f"
             ],
             [
              0.2222222222222222,
              "#7201a8"
             ],
             [
              0.3333333333333333,
              "#9c179e"
             ],
             [
              0.4444444444444444,
              "#bd3786"
             ],
             [
              0.5555555555555556,
              "#d8576b"
             ],
             [
              0.6666666666666666,
              "#ed7953"
             ],
             [
              0.7777777777777778,
              "#fb9f3a"
             ],
             [
              0.8888888888888888,
              "#fdca26"
             ],
             [
              1,
              "#f0f921"
             ]
            ],
            "type": "histogram2dcontour"
           }
          ],
          "mesh3d": [
           {
            "colorbar": {
             "outlinewidth": 0,
             "ticks": ""
            },
            "type": "mesh3d"
           }
          ],
          "parcoords": [
           {
            "line": {
             "colorbar": {
              "outlinewidth": 0,
              "ticks": ""
             }
            },
            "type": "parcoords"
           }
          ],
          "pie": [
           {
            "automargin": true,
            "type": "pie"
           }
          ],
          "scatter": [
           {
            "fillpattern": {
             "fillmode": "overlay",
             "size": 10,
             "solidity": 0.2
            },
            "type": "scatter"
           }
          ],
          "scatter3d": [
           {
            "line": {
             "colorbar": {
              "outlinewidth": 0,
              "ticks": ""
             }
            },
            "marker": {
             "colorbar": {
              "outlinewidth": 0,
              "ticks": ""
             }
            },
            "type": "scatter3d"
           }
          ],
          "scattercarpet": [
           {
            "marker": {
             "colorbar": {
              "outlinewidth": 0,
              "ticks": ""
             }
            },
            "type": "scattercarpet"
           }
          ],
          "scattergeo": [
           {
            "marker": {
             "colorbar": {
              "outlinewidth": 0,
              "ticks": ""
             }
            },
            "type": "scattergeo"
           }
          ],
          "scattergl": [
           {
            "marker": {
             "colorbar": {
              "outlinewidth": 0,
              "ticks": ""
             }
            },
            "type": "scattergl"
           }
          ],
          "scattermapbox": [
           {
            "marker": {
             "colorbar": {
              "outlinewidth": 0,
              "ticks": ""
             }
            },
            "type": "scattermapbox"
           }
          ],
          "scatterpolar": [
           {
            "marker": {
             "colorbar": {
              "outlinewidth": 0,
              "ticks": ""
             }
            },
            "type": "scatterpolar"
           }
          ],
          "scatterpolargl": [
           {
            "marker": {
             "colorbar": {
              "outlinewidth": 0,
              "ticks": ""
             }
            },
            "type": "scatterpolargl"
           }
          ],
          "scatterternary": [
           {
            "marker": {
             "colorbar": {
              "outlinewidth": 0,
              "ticks": ""
             }
            },
            "type": "scatterternary"
           }
          ],
          "surface": [
           {
            "colorbar": {
             "outlinewidth": 0,
             "ticks": ""
            },
            "colorscale": [
             [
              0,
              "#0d0887"
             ],
             [
              0.1111111111111111,
              "#46039f"
             ],
             [
              0.2222222222222222,
              "#7201a8"
             ],
             [
              0.3333333333333333,
              "#9c179e"
             ],
             [
              0.4444444444444444,
              "#bd3786"
             ],
             [
              0.5555555555555556,
              "#d8576b"
             ],
             [
              0.6666666666666666,
              "#ed7953"
             ],
             [
              0.7777777777777778,
              "#fb9f3a"
             ],
             [
              0.8888888888888888,
              "#fdca26"
             ],
             [
              1,
              "#f0f921"
             ]
            ],
            "type": "surface"
           }
          ],
          "table": [
           {
            "cells": {
             "fill": {
              "color": "#EBF0F8"
             },
             "line": {
              "color": "white"
             }
            },
            "header": {
             "fill": {
              "color": "#C8D4E3"
             },
             "line": {
              "color": "white"
             }
            },
            "type": "table"
           }
          ]
         },
         "layout": {
          "annotationdefaults": {
           "arrowcolor": "#2a3f5f",
           "arrowhead": 0,
           "arrowwidth": 1
          },
          "autotypenumbers": "strict",
          "coloraxis": {
           "colorbar": {
            "outlinewidth": 0,
            "ticks": ""
           }
          },
          "colorscale": {
           "diverging": [
            [
             0,
             "#8e0152"
            ],
            [
             0.1,
             "#c51b7d"
            ],
            [
             0.2,
             "#de77ae"
            ],
            [
             0.3,
             "#f1b6da"
            ],
            [
             0.4,
             "#fde0ef"
            ],
            [
             0.5,
             "#f7f7f7"
            ],
            [
             0.6,
             "#e6f5d0"
            ],
            [
             0.7,
             "#b8e186"
            ],
            [
             0.8,
             "#7fbc41"
            ],
            [
             0.9,
             "#4d9221"
            ],
            [
             1,
             "#276419"
            ]
           ],
           "sequential": [
            [
             0,
             "#0d0887"
            ],
            [
             0.1111111111111111,
             "#46039f"
            ],
            [
             0.2222222222222222,
             "#7201a8"
            ],
            [
             0.3333333333333333,
             "#9c179e"
            ],
            [
             0.4444444444444444,
             "#bd3786"
            ],
            [
             0.5555555555555556,
             "#d8576b"
            ],
            [
             0.6666666666666666,
             "#ed7953"
            ],
            [
             0.7777777777777778,
             "#fb9f3a"
            ],
            [
             0.8888888888888888,
             "#fdca26"
            ],
            [
             1,
             "#f0f921"
            ]
           ],
           "sequentialminus": [
            [
             0,
             "#0d0887"
            ],
            [
             0.1111111111111111,
             "#46039f"
            ],
            [
             0.2222222222222222,
             "#7201a8"
            ],
            [
             0.3333333333333333,
             "#9c179e"
            ],
            [
             0.4444444444444444,
             "#bd3786"
            ],
            [
             0.5555555555555556,
             "#d8576b"
            ],
            [
             0.6666666666666666,
             "#ed7953"
            ],
            [
             0.7777777777777778,
             "#fb9f3a"
            ],
            [
             0.8888888888888888,
             "#fdca26"
            ],
            [
             1,
             "#f0f921"
            ]
           ]
          },
          "colorway": [
           "#636efa",
           "#EF553B",
           "#00cc96",
           "#ab63fa",
           "#FFA15A",
           "#19d3f3",
           "#FF6692",
           "#B6E880",
           "#FF97FF",
           "#FECB52"
          ],
          "font": {
           "color": "#2a3f5f"
          },
          "geo": {
           "bgcolor": "white",
           "lakecolor": "white",
           "landcolor": "white",
           "showlakes": true,
           "showland": true,
           "subunitcolor": "#C8D4E3"
          },
          "hoverlabel": {
           "align": "left"
          },
          "hovermode": "closest",
          "mapbox": {
           "style": "light"
          },
          "paper_bgcolor": "white",
          "plot_bgcolor": "white",
          "polar": {
           "angularaxis": {
            "gridcolor": "#EBF0F8",
            "linecolor": "#EBF0F8",
            "ticks": ""
           },
           "bgcolor": "white",
           "radialaxis": {
            "gridcolor": "#EBF0F8",
            "linecolor": "#EBF0F8",
            "ticks": ""
           }
          },
          "scene": {
           "xaxis": {
            "backgroundcolor": "white",
            "gridcolor": "#DFE8F3",
            "gridwidth": 2,
            "linecolor": "#EBF0F8",
            "showbackground": true,
            "ticks": "",
            "zerolinecolor": "#EBF0F8"
           },
           "yaxis": {
            "backgroundcolor": "white",
            "gridcolor": "#DFE8F3",
            "gridwidth": 2,
            "linecolor": "#EBF0F8",
            "showbackground": true,
            "ticks": "",
            "zerolinecolor": "#EBF0F8"
           },
           "zaxis": {
            "backgroundcolor": "white",
            "gridcolor": "#DFE8F3",
            "gridwidth": 2,
            "linecolor": "#EBF0F8",
            "showbackground": true,
            "ticks": "",
            "zerolinecolor": "#EBF0F8"
           }
          },
          "shapedefaults": {
           "line": {
            "color": "#2a3f5f"
           }
          },
          "ternary": {
           "aaxis": {
            "gridcolor": "#DFE8F3",
            "linecolor": "#A2B1C6",
            "ticks": ""
           },
           "baxis": {
            "gridcolor": "#DFE8F3",
            "linecolor": "#A2B1C6",
            "ticks": ""
           },
           "bgcolor": "white",
           "caxis": {
            "gridcolor": "#DFE8F3",
            "linecolor": "#A2B1C6",
            "ticks": ""
           }
          },
          "title": {
           "x": 0.05
          },
          "xaxis": {
           "automargin": true,
           "gridcolor": "#EBF0F8",
           "linecolor": "#EBF0F8",
           "ticks": "",
           "title": {
            "standoff": 15
           },
           "zerolinecolor": "#EBF0F8",
           "zerolinewidth": 2
          },
          "yaxis": {
           "automargin": true,
           "gridcolor": "#EBF0F8",
           "linecolor": "#EBF0F8",
           "ticks": "",
           "title": {
            "standoff": 15
           },
           "zerolinecolor": "#EBF0F8",
           "zerolinewidth": 2
          }
         }
        },
        "title": {
         "font": {
          "color": "Black",
          "size": 22
         },
         "text": "Topic Word Scores",
         "x": 0.5,
         "xanchor": "center",
         "yanchor": "top"
        },
        "width": 1000,
        "xaxis": {
         "anchor": "y",
         "domain": [
          0,
          0.175
         ],
         "showgrid": true
        },
        "xaxis2": {
         "anchor": "y2",
         "domain": [
          0.275,
          0.45
         ],
         "showgrid": true
        },
        "xaxis3": {
         "anchor": "y3",
         "domain": [
          0.55,
          0.7250000000000001
         ],
         "showgrid": true
        },
        "xaxis4": {
         "anchor": "y4",
         "domain": [
          0.825,
          1
         ],
         "showgrid": true
        },
        "xaxis5": {
         "anchor": "y5",
         "domain": [
          0,
          0.175
         ],
         "showgrid": true
        },
        "xaxis6": {
         "anchor": "y6",
         "domain": [
          0.275,
          0.45
         ],
         "showgrid": true
        },
        "xaxis7": {
         "anchor": "y7",
         "domain": [
          0.55,
          0.7250000000000001
         ],
         "showgrid": true
        },
        "xaxis8": {
         "anchor": "y8",
         "domain": [
          0.825,
          1
         ],
         "showgrid": true
        },
        "yaxis": {
         "anchor": "x",
         "domain": [
          0.6000000000000001,
          1
         ],
         "showgrid": true
        },
        "yaxis2": {
         "anchor": "x2",
         "domain": [
          0.6000000000000001,
          1
         ],
         "showgrid": true
        },
        "yaxis3": {
         "anchor": "x3",
         "domain": [
          0.6000000000000001,
          1
         ],
         "showgrid": true
        },
        "yaxis4": {
         "anchor": "x4",
         "domain": [
          0.6000000000000001,
          1
         ],
         "showgrid": true
        },
        "yaxis5": {
         "anchor": "x5",
         "domain": [
          0,
          0.4
         ],
         "showgrid": true
        },
        "yaxis6": {
         "anchor": "x6",
         "domain": [
          0,
          0.4
         ],
         "showgrid": true
        },
        "yaxis7": {
         "anchor": "x7",
         "domain": [
          0,
          0.4
         ],
         "showgrid": true
        },
        "yaxis8": {
         "anchor": "x8",
         "domain": [
          0,
          0.4
         ],
         "showgrid": true
        }
       }
      }
     },
     "metadata": {},
     "output_type": "display_data"
    }
   ],
   "source": [
    "# topic_model_merged = copy.deepcopy(topic_model)\n",
    "# topic_model_merged.set_topic_labels(topic_labels_dict)\n",
    "# topic_model_merged.merge_topics(docs, topics_to_merge)\n",
    "\n",
    "def create_merged_model(docs, bertopic_model, topics_to_merge_dict, label_names_dict):\n",
    "    \"\"\"\n",
    "    Create a new BERTopic model by merging topics from an existing model.\n",
    "\n",
    "    This function takes as input a list of documents `docs`, an existing BERTopic model `bertopic_model`, a dictionary `topics_to_merge_dict` specifying which topics to merge, and a dictionary `label_names_dict` specifying the labels for the merged topics.\n",
    "\n",
    "    The function creates a deep copy of the input BERTopic model and merges the specified topics using the `merge_topics` method. Then, it sets the topic labels for the merged model using the `set_topic_labels` method and the provided `label_names_dict`.\n",
    "\n",
    "    The resulting merged BERTopic model is then returned.\n",
    "\n",
    "    Parameters:\n",
    "        docs (list): A list of documents used to fit the BERTopic model.\n",
    "        bertopic_model (BERTopic): The input BERTopic model to be merged.\n",
    "        topics_to_merge_dict (dict): A dictionary specifying which topics to merge. The keys are the topic numbers to be merged, and the values are the topic numbers into which they should be merged.\n",
    "        label_names_dict (dict): A dictionary specifying the labels for the merged topics. The keys are the topic numbers, and the values are the corresponding labels.\n",
    "\n",
    "    Returns:\n",
    "        BERTopic: The resulting merged BERTopic model.\n",
    "    \"\"\"\n",
    "    topic_model_merged = copy.deepcopy(bertopic_model)\n",
    "    topic_model_merged.merge_topics(docs, topics_to_merge_dict)\n",
    "\n",
    "    # Create a dictionary to match the aggregated name to their corresponding topic number\n",
    "    mergedtopic_labels_dict = {i-1: item for i, item in enumerate(label_names_dict)}\n",
    "    # Set topic labels for the aggregated model\n",
    "    topic_model_merged.set_topic_labels(mergedtopic_labels_dict)\n",
    "\n",
    "    return topic_model_merged\n",
    "\n",
    "label_names_postmerge = [\n",
    "    \"Outliers\",\n",
    "    \"Product Quality & Sales\",\n",
    "    \"Tech Support & Problem Resolution\",\n",
    "    \"UPS & Touch Panels\",\n",
    "    \"Communication, Guidance & Feedback\",\n",
    "    \"Inverters & Drives Support\",\n",
    "    \"Quotations & Offers\",\n",
    "    \"Customer Service & Delivery\"\n",
    "    ]\n",
    "\n",
    "topic_model_merged = create_merged_model(docs, topic_model, topics_to_merge, label_names_postmerge)\n",
    "\n",
    "topic_model_merged.visualize_barchart(top_n_topics=50, custom_labels=True)"
   ]
  },
  {
   "cell_type": "code",
   "execution_count": 26,
   "metadata": {},
   "outputs": [
    {
     "data": {
      "application/vnd.plotly.v1+json": {
       "config": {
        "plotlyServerURL": "https://plot.ly"
       },
       "data": [
        {
         "hoverinfo": "text",
         "hovertext": [
          "<b>Topic 0</b><br>Words: technical support, customer service, distributor, products, sales",
          "<b>Topic 0</b><br>Words: products, brand, customers, customer service, electric",
          "<b>Topic 0</b><br>Words: customer service, customers, sales, brand, prices",
          "<b>Topic 0</b><br>Words: customer service, sales, customers, products, service",
          "<b>Topic 0</b><br>Words: deliveries, shipments, delivery, delivery date, shipping",
          "<b>Topic 0</b><br>Words: delivery time, deliveries, delivery date, delivery, complaint",
          "<b>Topic 0</b><br>Words: delivery time, deliveries, delivery, delivery date, arrives",
          "<b>Topic 0</b><br>Words: customer service, service, customer, plcs, plc",
          "<b>Topic 0</b><br>Words: customers, technical support, customer, service, sales representative",
          "<b>Topic 0</b><br>Words: customer, service, brand, sales, products",
          "<b>Topic 0</b><br>Words: delivery, complaint, complaints, packaging, timely",
          "<b>Topic 0</b><br>Words: bacnet, delivery, delivery date, delivery time, gateways",
          "<b>Topic 0</b><br>Words: deliveries, delivery, delivery date, packaging, carrier",
          "<b>Topic 0</b><br>Words: delivery time, delivery date, delivery, packaging, delivered",
          "<b>Topic 0</b><br>Words: servo, equipment, service, issues, customer",
          "<b>Topic 0</b><br>Words: technical support, delivery time, deliveries, customer service, electric",
          "<b>Topic 0</b><br>Words: delivery time, delivery date, delivery, deliveries, delivered",
          "<b>Topic 0</b><br>Words: delivery time, delivery, delivery date, service, mail",
          "<b>Topic 0</b><br>Words: deliveries, delivery time, delivery, packaging, shipment",
          "<b>Topic 0</b><br>Words: service, delivery time, customer, delivery, customers",
          "<b>Topic 0</b><br>Words: customer service, equipment, products, problems, sales",
          "<b>Topic 0</b><br>Words: technical support, customers, deliveries, sales, customer",
          "<b>Topic 0</b><br>Words: delivery, delivering, packaged, receipt, arrive",
          "<b>Topic 0</b><br>Words: delivery time, delays, arrive, arriving, delivery",
          "<b>Topic 0</b><br>Words: delivery date, delivery time, delivery, order, shipments",
          "<b>Topic 0</b><br>Words: delivery time, plc, delivery, nst, delivered",
          "<b>Topic 0</b><br>Words: delivery date, delivery time, deadline, delivery, delays",
          "<b>Topic 0</b><br>Words: delivery time, delivery date, deliveries, delivery, delayed",
          "<b>Topic 0</b><br>Words: delivery, delivery date, packaging, logistical, inefficiency",
          "<b>Topic 0</b><br>Words: delivery date, delivery, delivering, freight, delivered",
          "<b>Topic 0</b><br>Words: delivery time, delivery, shipping, delivered, packages",
          "<b>Topic 0</b><br>Words: sales, customers, plc, prices, products",
          "<b>Topic 0</b><br>Words: sales, service, prices, plc, customers",
          "<b>Topic 0</b><br>Words: delivery date, delivery time, delivery, orders, order",
          "<b>Topic 0</b><br>Words: delivery, customer service, delivered, pm, orders",
          "<b>Topic 0</b><br>Words: pfxlm4301taddc, delivery date, warranty, deliveries, invoice",
          "<b>Topic 0</b><br>Words: delivery date, delivery time, delivery, deliveries, delays",
          "<b>Topic 0</b><br>Words: delivery time, delivery date, delivery, ship, packaging",
          "<b>Topic 0</b><br>Words: distributors, sales, products, marketer, customer",
          "<b>Topic 0</b><br>Words: plc, customers, deliveries, customer, sales",
          "<b>Topic 0</b><br>Words: deliveries, delivery, delivery time, sales, electric",
          "<b>Topic 0</b><br>Words: delivery date, delivery, delivered, shipping, postponed",
          "<b>Topic 0</b><br>Words: technical support, delivery time, delays, delivery, reliable",
          "<b>Topic 0</b><br>Words: delivery date, delivery time, deliveries, delivery, orders",
          "<b>Topic 0</b><br>Words: delivery time, delivery date, delivery, deliveries, delayed",
          "<b>Topic 0</b><br>Words: delivery time, deliveries, delivery date, delivery, postponements",
          "<b>Topic 0</b><br>Words: delivery date, postponement, deliveries, delivery, ship",
          "<b>Topic 0</b><br>Words: deliveries, delivery time, delays, delivery, delivery date",
          "<b>Topic 0</b><br>Words: suppliers, lead time, customers, deliveries, delivery date",
          "<b>Topic 0</b><br>Words: delivery date, delivery time, deliveries, delivery, shipments",
          "<b>Topic 0</b><br>Words: delivery date, delivery time, postponed, deliveries, delivery",
          "<b>Topic 0</b><br>Words: sales, orders, deliveries, delivery time, availability",
          "<b>Topic 0</b><br>Words: deliveries, delays, delivery time, customers, sales",
          "<b>Topic 0</b><br>Words: delivery date, delivery time, delivery, deliver, orders",
          "<b>Topic 0</b><br>Words: delivery date, delays, delivery, sales service, delay",
          "<b>Topic 0</b><br>Words: delivery time, delivery date, delayed, delivery, deadline",
          "<b>Topic 0</b><br>Words: delivery date, postponed, delivery, deliveries, order",
          "<b>Topic 0</b><br>Words: delivery date, delivery time, delivery, parcels, orders",
          "<b>Topic 0</b><br>Words: delivery date, delivery time, delivery, deliveries, orders",
          "<b>Topic 0</b><br>Words: delivery date, deliveries, delivery, pending, delivered",
          "<b>Topic 0</b><br>Words: delivery date, delivery time, delivery, receipt, delivered",
          "<b>Topic 0</b><br>Words: delivery date, delivery time, deliveries, delivery, delays",
          "<b>Topic 0</b><br>Words: market, competitors, deadlines, delivery date, hardware",
          "<b>Topic 0</b><br>Words: customers, service, customer, feedback, issues",
          "<b>Topic 0</b><br>Words: distributors, technical support, products, sales, plcs",
          "<b>Topic 0</b><br>Words: order, postponement, design, improved, delivery",
          "<b>Topic 0</b><br>Words: delivery date, delivery, customer service, lead time, issues",
          "<b>Topic 0</b><br>Words: replaced, delivery date, bösch, delivery time, ats48d17q",
          "<b>Topic 0</b><br>Words: deliveries, delivery, delivery time, delivery date, shipments",
          "<b>Topic 0</b><br>Words: delivery date, customer service, delivery, customers, wholesale",
          "<b>Topic 0</b><br>Words: delivery date, delivery, orders, rescheduled, invoice"
         ],
         "marker": {
          "color": "#E69F00"
         },
         "mode": "lines",
         "name": "Product Quality & Sales",
         "type": "scatter",
         "x": [
          "2017-06-01T00:00:00",
          "2017-12-01T00:00:00",
          "2018-04-01T00:00:00",
          "2018-05-01T00:00:00",
          "2018-06-01T00:00:00",
          "2018-07-01T00:00:00",
          "2018-08-01T00:00:00",
          "2018-09-01T00:00:00",
          "2018-10-01T00:00:00",
          "2018-11-01T00:00:00",
          "2018-12-01T00:00:00",
          "2019-01-01T00:00:00",
          "2019-02-01T00:00:00",
          "2019-03-01T00:00:00",
          "2019-04-01T00:00:00",
          "2019-05-01T00:00:00",
          "2019-06-01T00:00:00",
          "2019-07-01T00:00:00",
          "2019-08-01T00:00:00",
          "2019-09-01T00:00:00",
          "2019-10-01T00:00:00",
          "2019-11-01T00:00:00",
          "2019-12-01T00:00:00",
          "2020-01-01T00:00:00",
          "2020-02-01T00:00:00",
          "2020-03-01T00:00:00",
          "2020-04-01T00:00:00",
          "2020-05-01T00:00:00",
          "2020-06-01T00:00:00",
          "2020-07-01T00:00:00",
          "2020-08-01T00:00:00",
          "2020-09-01T00:00:00",
          "2020-10-01T00:00:00",
          "2020-11-01T00:00:00",
          "2020-12-01T00:00:00",
          "2021-01-01T00:00:00",
          "2021-02-01T00:00:00",
          "2021-03-01T00:00:00",
          "2021-04-01T00:00:00",
          "2021-05-01T00:00:00",
          "2021-06-01T00:00:00",
          "2021-07-01T00:00:00",
          "2021-08-01T00:00:00",
          "2021-09-01T00:00:00",
          "2021-10-01T00:00:00",
          "2021-11-01T00:00:00",
          "2021-12-01T00:00:00",
          "2022-01-01T00:00:00",
          "2022-02-01T00:00:00",
          "2022-03-01T00:00:00",
          "2022-04-01T00:00:00",
          "2022-05-01T00:00:00",
          "2022-06-01T00:00:00",
          "2022-07-01T00:00:00",
          "2022-08-01T00:00:00",
          "2022-09-01T00:00:00",
          "2022-10-01T00:00:00",
          "2022-11-01T00:00:00",
          "2022-12-01T00:00:00",
          "2023-01-01T00:00:00",
          "2023-02-01T00:00:00",
          "2023-03-01T00:00:00",
          "2023-04-01T00:00:00",
          "2023-05-01T00:00:00",
          "2023-06-01T00:00:00",
          "2023-07-01T00:00:00",
          "2023-08-01T00:00:00",
          "2023-09-01T00:00:00",
          "2023-10-01T00:00:00",
          "2023-11-01T00:00:00",
          "2023-12-01T00:00:00"
         ],
         "y": [
          1022,
          651,
          417,
          491,
          7,
          6,
          4,
          5,
          558,
          383,
          27,
          34,
          46,
          60,
          399,
          617,
          49,
          68,
          46,
          88,
          712,
          355,
          49,
          64,
          43,
          64,
          55,
          60,
          53,
          59,
          64,
          485,
          644,
          71,
          66,
          58,
          79,
          83,
          125,
          720,
          407,
          75,
          76,
          83,
          90,
          80,
          81,
          87,
          73,
          79,
          78,
          765,
          422,
          58,
          42,
          54,
          52,
          60,
          48,
          33,
          45,
          55,
          41,
          779,
          295,
          43,
          46,
          47,
          52,
          42,
          32
         ]
        },
        {
         "hoverinfo": "text",
         "hovertext": [
          "<b>Topic 1</b><br>Words: responses, technical support, response, respond, quick response",
          "<b>Topic 1</b><br>Words: technical support, technical, support, technicians, monitoring",
          "<b>Topic 1</b><br>Words: technical support, support, tlc, technical, service",
          "<b>Topic 1</b><br>Words: technical support, technical, technician, expert, developer",
          "<b>Topic 1</b><br>Words: quickly, efficient, quick response, response time, concise",
          "<b>Topic 1</b><br>Words: technician, technicians, tech, technical support, technical",
          "<b>Topic 1</b><br>Words: response time, attentive, quick response, response, attention",
          "<b>Topic 1</b><br>Words: response time, delayed, inquiry, checking, testing",
          "<b>Topic 1</b><br>Words: technical support, technical service, support, technical, service",
          "<b>Topic 1</b><br>Words: technical support, support, technical service, technical, technicians",
          "<b>Topic 1</b><br>Words: technical support, technicians, technician, technical, expertise",
          "<b>Topic 1</b><br>Words: response time, quick response, straightforward, immediate, solution",
          "<b>Topic 1</b><br>Words: technical support, technical, technicians, technician, questions",
          "<b>Topic 1</b><br>Words: explained, politeness, courtesy, understand, polite",
          "<b>Topic 1</b><br>Words: technical support, technicians, technician, technical, tech",
          "<b>Topic 1</b><br>Words: technical support, technicians, technical, technician, skilled",
          "<b>Topic 1</b><br>Words: technical support, solve problem, problems, solutions, solution",
          "<b>Topic 1</b><br>Words: technical support, polite, technician, technical, technicians",
          "<b>Topic 1</b><br>Words: technical support, technical, assistance, staff, technicians",
          "<b>Topic 1</b><br>Words: technical support, technical, technical team, technicians, technician",
          "<b>Topic 1</b><br>Words: technical support, technicians, technician, technical, consultation",
          "<b>Topic 1</b><br>Words: technical support, technicians, technician, technical, engineer",
          "<b>Topic 1</b><br>Words: inquiry, answers, answered, response, questions",
          "<b>Topic 1</b><br>Words: technical support, response, support, problem, responded",
          "<b>Topic 1</b><br>Words: technicians, technician, competence, specialists, assessment",
          "<b>Topic 1</b><br>Words: staff, design, competent, technicians, technician",
          "<b>Topic 1</b><br>Words: helpfulness, technician, technicians, helpful, competent",
          "<b>Topic 1</b><br>Words: technical support, technical, tech, knowledgeable, competence",
          "<b>Topic 1</b><br>Words: technical support, technical, technician, tech, consultant",
          "<b>Topic 1</b><br>Words: technical support, technician, technicians, technical, engineer",
          "<b>Topic 1</b><br>Words: technical support, technician, technicians, technical, tech",
          "<b>Topic 1</b><br>Words: technical support, technicians, technician, technical, questions",
          "<b>Topic 1</b><br>Words: technical support, technicians, technical, technician, engineers",
          "<b>Topic 1</b><br>Words: technical support, technician, technicians, technical, tech",
          "<b>Topic 1</b><br>Words: technical support, technicians, technician, manual, tech",
          "<b>Topic 1</b><br>Words: technicians, competent, technician, knowledgeable, staff",
          "<b>Topic 1</b><br>Words: technicians, technician, technical support, technical, tech",
          "<b>Topic 1</b><br>Words: technical support, response time, technical, technicians, technician",
          "<b>Topic 1</b><br>Words: response time, inquiry, answers, answered, satisfied",
          "<b>Topic 1</b><br>Words: technical support, answered, response, questions, availability",
          "<b>Topic 1</b><br>Words: staff, technicians, technical support, technician, technical",
          "<b>Topic 1</b><br>Words: technical support, technical, technicians, technician, manual",
          "<b>Topic 1</b><br>Words: technical support, technicians, technician, technical, tech",
          "<b>Topic 1</b><br>Words: technical support, technicians, technician, technical, consulted",
          "<b>Topic 1</b><br>Words: technicians, technical, technician, expertise, support",
          "<b>Topic 1</b><br>Words: thorough, quick response, answers, expert, respond",
          "<b>Topic 1</b><br>Words: technical support, technicians, technical, technician, expertise",
          "<b>Topic 1</b><br>Words: technical support, technical, technician, technicians, technical team",
          "<b>Topic 1</b><br>Words: technical support, support, technicians, technical, technician",
          "<b>Topic 1</b><br>Words: technician, tech, technical, staff, expertise",
          "<b>Topic 1</b><br>Words: technician, technicians, technical support, tech, competence",
          "<b>Topic 1</b><br>Words: faq, guidance, staff, technicians, professional",
          "<b>Topic 1</b><br>Words: technician, technicians, technical support, technical, skilled",
          "<b>Topic 1</b><br>Words: technical support, technical, technicians, technician, support",
          "<b>Topic 1</b><br>Words: technician, technicians, technical, tech, expertise",
          "<b>Topic 1</b><br>Words: technician, technicians, tech, technical support, technical",
          "<b>Topic 1</b><br>Words: technical support, technician, technicians, technical, tech",
          "<b>Topic 1</b><br>Words: response, polite, helpful, conversation, constructive",
          "<b>Topic 1</b><br>Words: technical support, technical, technicians, support, tech",
          "<b>Topic 1</b><br>Words: technical support, satisfaction, technicians, patience, technician",
          "<b>Topic 1</b><br>Words: technicians, technician, technical support, competent, technical",
          "<b>Topic 1</b><br>Words: techs, technicians, knowledgeable, technician, knowledge",
          "<b>Topic 1</b><br>Words: technician, technicians, technical support, tech, technical",
          "<b>Topic 1</b><br>Words: technical support, response time, technicians, technical, technician",
          "<b>Topic 1</b><br>Words: technician, technicians, technical support, technical, maintenance",
          "<b>Topic 1</b><br>Words: technical support, technician, technicians, technical, dell",
          "<b>Topic 1</b><br>Words: technical support, support, supportive, providing, helpful",
          "<b>Topic 1</b><br>Words: technical support, explained, politely, technical, helpful",
          "<b>Topic 1</b><br>Words: technical support, responses, response time, technical, response",
          "<b>Topic 1</b><br>Words: quick response, response, technical team, quickly, respond",
          "<b>Topic 1</b><br>Words: explanations, explained, helpful, support, thoroughly"
         ],
         "marker": {
          "color": "#56B4E9"
         },
         "mode": "lines",
         "name": "Tech Support & Problem Resolution",
         "type": "scatter",
         "x": [
          "2017-06-01T00:00:00",
          "2017-12-01T00:00:00",
          "2018-04-01T00:00:00",
          "2018-05-01T00:00:00",
          "2018-06-01T00:00:00",
          "2018-07-01T00:00:00",
          "2018-08-01T00:00:00",
          "2018-09-01T00:00:00",
          "2018-10-01T00:00:00",
          "2018-11-01T00:00:00",
          "2018-12-01T00:00:00",
          "2019-01-01T00:00:00",
          "2019-02-01T00:00:00",
          "2019-03-01T00:00:00",
          "2019-04-01T00:00:00",
          "2019-05-01T00:00:00",
          "2019-06-01T00:00:00",
          "2019-07-01T00:00:00",
          "2019-08-01T00:00:00",
          "2019-09-01T00:00:00",
          "2019-10-01T00:00:00",
          "2019-11-01T00:00:00",
          "2019-12-01T00:00:00",
          "2020-01-01T00:00:00",
          "2020-02-01T00:00:00",
          "2020-03-01T00:00:00",
          "2020-04-01T00:00:00",
          "2020-05-01T00:00:00",
          "2020-06-01T00:00:00",
          "2020-07-01T00:00:00",
          "2020-08-01T00:00:00",
          "2020-09-01T00:00:00",
          "2020-10-01T00:00:00",
          "2020-11-01T00:00:00",
          "2020-12-01T00:00:00",
          "2021-01-01T00:00:00",
          "2021-02-01T00:00:00",
          "2021-03-01T00:00:00",
          "2021-04-01T00:00:00",
          "2021-05-01T00:00:00",
          "2021-06-01T00:00:00",
          "2021-07-01T00:00:00",
          "2021-08-01T00:00:00",
          "2021-09-01T00:00:00",
          "2021-10-01T00:00:00",
          "2021-11-01T00:00:00",
          "2021-12-01T00:00:00",
          "2022-01-01T00:00:00",
          "2022-02-01T00:00:00",
          "2022-03-01T00:00:00",
          "2022-04-01T00:00:00",
          "2022-05-01T00:00:00",
          "2022-06-01T00:00:00",
          "2022-07-01T00:00:00",
          "2022-08-01T00:00:00",
          "2022-09-01T00:00:00",
          "2022-10-01T00:00:00",
          "2022-11-01T00:00:00",
          "2022-12-01T00:00:00",
          "2023-01-01T00:00:00",
          "2023-02-01T00:00:00",
          "2023-03-01T00:00:00",
          "2023-04-01T00:00:00",
          "2023-05-01T00:00:00",
          "2023-06-01T00:00:00",
          "2023-07-01T00:00:00",
          "2023-08-01T00:00:00",
          "2023-09-01T00:00:00",
          "2023-10-01T00:00:00",
          "2023-11-01T00:00:00",
          "2023-12-01T00:00:00"
         ],
         "y": [
          31,
          21,
          2,
          17,
          4,
          3,
          3,
          3,
          18,
          32,
          44,
          37,
          47,
          52,
          63,
          56,
          45,
          58,
          30,
          48,
          47,
          51,
          33,
          32,
          52,
          47,
          50,
          57,
          40,
          57,
          47,
          75,
          64,
          47,
          49,
          65,
          56,
          77,
          59,
          53,
          69,
          65,
          37,
          60,
          54,
          55,
          50,
          57,
          61,
          52,
          59,
          46,
          64,
          53,
          41,
          51,
          42,
          43,
          37,
          52,
          52,
          43,
          49,
          83,
          40,
          47,
          40,
          40,
          49,
          41,
          34
         ]
        },
        {
         "hoverinfo": "text",
         "hovertext": [
          "<b>Topic 2</b><br>Words: touch panel, panel, touch, device, contact",
          "<b>Topic 2</b><br>Words: touch panel, touch screen, panel, touch, screen",
          "<b>Topic 2</b><br>Words: ups, apc, call, customer, support",
          "<b>Topic 2</b><br>Words: ups, upss, apc, battery, batteries",
          "<b>Topic 2</b><br>Words: resolved, fixed, issue, solved, fix",
          "<b>Topic 2</b><br>Words: telephone, call, call back, phone, number",
          "<b>Topic 2</b><br>Words: resolved, issue, fixed, solved, problem",
          "<b>Topic 2</b><br>Words: touch panel, ups, touch screen, upss, patents",
          "<b>Topic 2</b><br>Words: touch panel, ups, panel, touch, telephone",
          "<b>Topic 2</b><br>Words: ups, complaint, warrantied, warranty, arrived",
          "<b>Topic 2</b><br>Words: call back, tel, call, unable, message",
          "<b>Topic 2</b><br>Words: touch panel, manual, dial, cannot, panel",
          "<b>Topic 2</b><br>Words: telephone, phone, call back, call, touch panel",
          "<b>Topic 2</b><br>Words: ups, upss, apc, 3000s, failures",
          "<b>Topic 2</b><br>Words: touch panel, panel, agp3310, gp4000, indicator",
          "<b>Topic 2</b><br>Words: call center, chat, call, resolved, support",
          "<b>Topic 2</b><br>Words: repaired, repair, firmware, 8501nr62, technician",
          "<b>Topic 2</b><br>Words: troubleshooting, issue, defective, resolved, problem",
          "<b>Topic 2</b><br>Words: technical support, rs232c, telephone, ethernet, ups",
          "<b>Topic 2</b><br>Words: touch panel, touch screen, panel, touch, contact",
          "<b>Topic 2</b><br>Words: ups, upss, repair, maintenance, troubleshooting",
          "<b>Topic 2</b><br>Words: issue, reinstall, ecostruxuremachineexpert, gp2000, setting",
          "<b>Topic 2</b><br>Words: isaf1221a, defective, repair, hangs, errors",
          "<b>Topic 2</b><br>Words: touch panel, touch, panel, telephone, contacted",
          "<b>Topic 2</b><br>Words: repaired, telephone, call, repairs, call back",
          "<b>Topic 2</b><br>Words: call back, call, calling, dial, gp4000",
          "<b>Topic 2</b><br>Words: call back, call, offline, calls, technician",
          "<b>Topic 2</b><br>Words: ups, call back, troubleshooting, battery, call",
          "<b>Topic 2</b><br>Words: technical support, troubleshooting, support, call back, issue",
          "<b>Topic 2</b><br>Words: call back, call, phone, response, calls",
          "<b>Topic 2</b><br>Words: touch panel, ups, touch, phone, issue",
          "<b>Topic 2</b><br>Words: touch panel, panel, gp4501tw, gp4000, touch",
          "<b>Topic 2</b><br>Words: warranty, repair, telephone, contacted, call",
          "<b>Topic 2</b><br>Words: canopen, issue, glc150, replacement, workaround",
          "<b>Topic 2</b><br>Words: workaround, bug, issue, support, call",
          "<b>Topic 2</b><br>Words: call center, call, call back, dial, telephone",
          "<b>Topic 2</b><br>Words: defective, consulted, warranty, supported, battery",
          "<b>Topic 2</b><br>Words: ups, telematics, replacement, battery, inconvenience",
          "<b>Topic 2</b><br>Words: touch panel, touch screen, panel, touch, gp4501",
          "<b>Topic 2</b><br>Words: ups, upss, fedex, maintenance, apc",
          "<b>Topic 2</b><br>Words: call back, ups, call, calls, troubleshooting",
          "<b>Topic 2</b><br>Words: powermeter, issue, check, ups, call back",
          "<b>Topic 2</b><br>Words: resolved, problem, hvac, solved, detection",
          "<b>Topic 2</b><br>Words: telephone, dialog, ups, battery, message",
          "<b>Topic 2</b><br>Words: ups, troubleshooting, maintenance, warranty, call back",
          "<b>Topic 2</b><br>Words: customer support, touch panel, call back, contact, call",
          "<b>Topic 2</b><br>Words: call back, telephone, call, phone, callback",
          "<b>Topic 2</b><br>Words: phone, call back, connection, call, connect",
          "<b>Topic 2</b><br>Words: displays, display, issue, call back, dial",
          "<b>Topic 2</b><br>Words: troubleshooting, ups, dial, issue, call",
          "<b>Topic 2</b><br>Words: touch panel, panel, screen, displays, gp4000",
          "<b>Topic 2</b><br>Words: touch panel, sp5600, gp4000, panel, troubleshooting",
          "<b>Topic 2</b><br>Words: troubleshooting, troubleshooted, call, issue, manuals",
          "<b>Topic 2</b><br>Words: ups, touch panel, troubleshooting, panel, repair",
          "<b>Topic 2</b><br>Words: ups, password, security, email, activated",
          "<b>Topic 2</b><br>Words: issue, troubles, trouble, arrived, gp4401t",
          "<b>Topic 2</b><br>Words: troubleshoot, resolved, issue, problem, fix",
          "<b>Topic 2</b><br>Words: ups, upss, resolved, maintenance, response time",
          "<b>Topic 2</b><br>Words: call, phone, issue, number, smt1500c",
          "<b>Topic 2</b><br>Words: chat, chatting, calling, connect, phone",
          "<b>Topic 2</b><br>Words: resolved, contacted, issue, offline, message",
          "<b>Topic 2</b><br>Words: resolved, issue, defective, problem, touch panel",
          "<b>Topic 2</b><br>Words: touch panel, ups, panel, pfxgm4301pad, device",
          "<b>Topic 2</b><br>Words: touch panel, email, disconnecting, usability, disconnected",
          "<b>Topic 2</b><br>Words: call back, call, troubleshoot, callbacks, phone",
          "<b>Topic 2</b><br>Words: faulty, troubleshooting, problem, resolved, solution",
          "<b>Topic 2</b><br>Words: call back, call, contacted, phone, resolved",
          "<b>Topic 2</b><br>Words: troubleshooting, call back, reset, ups, restarting",
          "<b>Topic 2</b><br>Words: ups, returned, iphone, resolved, issue",
          "<b>Topic 2</b><br>Words: issue, gp2401, troublesome, reinstalling, defective"
         ],
         "marker": {
          "color": "#009E73"
         },
         "mode": "lines",
         "name": "UPS & Touch Panels",
         "type": "scatter",
         "x": [
          "2017-06-01T00:00:00",
          "2017-12-01T00:00:00",
          "2018-04-01T00:00:00",
          "2018-05-01T00:00:00",
          "2018-07-01T00:00:00",
          "2018-08-01T00:00:00",
          "2018-09-01T00:00:00",
          "2018-10-01T00:00:00",
          "2018-11-01T00:00:00",
          "2018-12-01T00:00:00",
          "2019-01-01T00:00:00",
          "2019-02-01T00:00:00",
          "2019-03-01T00:00:00",
          "2019-04-01T00:00:00",
          "2019-05-01T00:00:00",
          "2019-06-01T00:00:00",
          "2019-07-01T00:00:00",
          "2019-08-01T00:00:00",
          "2019-09-01T00:00:00",
          "2019-10-01T00:00:00",
          "2019-11-01T00:00:00",
          "2019-12-01T00:00:00",
          "2020-01-01T00:00:00",
          "2020-02-01T00:00:00",
          "2020-03-01T00:00:00",
          "2020-04-01T00:00:00",
          "2020-05-01T00:00:00",
          "2020-06-01T00:00:00",
          "2020-07-01T00:00:00",
          "2020-08-01T00:00:00",
          "2020-09-01T00:00:00",
          "2020-10-01T00:00:00",
          "2020-11-01T00:00:00",
          "2020-12-01T00:00:00",
          "2021-01-01T00:00:00",
          "2021-02-01T00:00:00",
          "2021-03-01T00:00:00",
          "2021-04-01T00:00:00",
          "2021-05-01T00:00:00",
          "2021-06-01T00:00:00",
          "2021-07-01T00:00:00",
          "2021-08-01T00:00:00",
          "2021-09-01T00:00:00",
          "2021-10-01T00:00:00",
          "2021-11-01T00:00:00",
          "2021-12-01T00:00:00",
          "2022-01-01T00:00:00",
          "2022-02-01T00:00:00",
          "2022-03-01T00:00:00",
          "2022-04-01T00:00:00",
          "2022-05-01T00:00:00",
          "2022-06-01T00:00:00",
          "2022-07-01T00:00:00",
          "2022-08-01T00:00:00",
          "2022-09-01T00:00:00",
          "2022-10-01T00:00:00",
          "2022-11-01T00:00:00",
          "2022-12-01T00:00:00",
          "2023-01-01T00:00:00",
          "2023-02-01T00:00:00",
          "2023-03-01T00:00:00",
          "2023-04-01T00:00:00",
          "2023-05-01T00:00:00",
          "2023-06-01T00:00:00",
          "2023-07-01T00:00:00",
          "2023-08-01T00:00:00",
          "2023-09-01T00:00:00",
          "2023-10-01T00:00:00",
          "2023-11-01T00:00:00",
          "2023-12-01T00:00:00"
         ],
         "y": [
          43,
          36,
          15,
          24,
          1,
          2,
          1,
          57,
          17,
          11,
          21,
          20,
          19,
          45,
          73,
          21,
          20,
          16,
          28,
          98,
          26,
          21,
          14,
          15,
          18,
          23,
          13,
          18,
          40,
          20,
          35,
          56,
          27,
          26,
          25,
          21,
          30,
          22,
          72,
          33,
          20,
          28,
          30,
          27,
          33,
          20,
          27,
          15,
          18,
          32,
          62,
          38,
          21,
          35,
          21,
          10,
          17,
          14,
          20,
          19,
          24,
          15,
          50,
          25,
          16,
          14,
          25,
          18,
          26,
          23
         ]
        },
        {
         "hoverinfo": "text",
         "hovertext": [
          "<b>Topic 3</b><br>Words: prompt, promptness, user friendly, chorus, contact",
          "<b>Topic 3</b><br>Words: responsiveness, responsive, feedback, facilitation, response time",
          "<b>Topic 3</b><br>Words: advice, tips, call, shoulder, stare",
          "<b>Topic 3</b><br>Words: attention, courtesy, feedback, responses, helpful",
          "<b>Topic 3</b><br>Words: quick response, response, quick, responses, quickness",
          "<b>Topic 3</b><br>Words: personalized, attention, helpful, immediate, personal",
          "<b>Topic 3</b><br>Words: feedback, guidance, knowledgeable, competent, knowledge",
          "<b>Topic 3</b><br>Words: tips, advice, guidance, prompt, promptness",
          "<b>Topic 3</b><br>Words: quick response, feedback, responsiveness, response, reply",
          "<b>Topic 3</b><br>Words: guidance, advice, tips, competent, commissioning",
          "<b>Topic 3</b><br>Words: responses, response, promptness, prompt, quick response",
          "<b>Topic 3</b><br>Words: competent, guidance, advice, competence, professional",
          "<b>Topic 3</b><br>Words: attention, responses, responsiveness, quick response, response",
          "<b>Topic 3</b><br>Words: responsiveness, responsive, effective, quality, feedback",
          "<b>Topic 3</b><br>Words: professionalism, professional, courtesy, kindness, responsiveness",
          "<b>Topic 3</b><br>Words: attention, clarity, clarifying, concise, feedback",
          "<b>Topic 3</b><br>Words: quick response, responsiveness, quickness, quick, responses",
          "<b>Topic 3</b><br>Words: promptness, prompt, responses, feedback, responsiveness",
          "<b>Topic 3</b><br>Words: responsiveness, responsive, service, quality, quickness",
          "<b>Topic 3</b><br>Words: advice, guidance, tips, helpful, perseverance",
          "<b>Topic 3</b><br>Words: feedback, promptness, prompt, courtesy, responses",
          "<b>Topic 3</b><br>Words: promptitude, attention, promptness, quickness, manner",
          "<b>Topic 3</b><br>Words: courtesy, speed, quickness, professionalism, rapidity",
          "<b>Topic 3</b><br>Words: professionalism, kindness, friendliness, competence, responsiveness",
          "<b>Topic 3</b><br>Words: responsiveness, responsively, courtesy, responsive, professionalism",
          "<b>Topic 3</b><br>Words: quick response, competence, responses, quickness, response",
          "<b>Topic 3</b><br>Words: kindness, competence, courtesy, friendliness, friendly",
          "<b>Topic 3</b><br>Words: professionalism, courtesy, professional, competence, manner",
          "<b>Topic 3</b><br>Words: friendliness, knowledge, availability, relevance, competence",
          "<b>Topic 3</b><br>Words: quick response, quick, response, responses, quickness",
          "<b>Topic 3</b><br>Words: responsiveness, responsive, responses, feedback, response",
          "<b>Topic 3</b><br>Words: guidance, advice, competence, competent, tips",
          "<b>Topic 3</b><br>Words: feedback, consultation, responses, courtesy, helpful",
          "<b>Topic 3</b><br>Words: promptness, polite, prompt, readiness, guidance",
          "<b>Topic 3</b><br>Words: feedback, tips, research, guidance, knowledge",
          "<b>Topic 3</b><br>Words: kindness, competence, promptness, responses, professionalism",
          "<b>Topic 3</b><br>Words: efficient, quickly, quick response, fast, efficiency",
          "<b>Topic 3</b><br>Words: responsiveness, promptness, feedback, skills, competence",
          "<b>Topic 3</b><br>Words: responsiveness, responsive, handling, precise, effective",
          "<b>Topic 3</b><br>Words: efficient, efficiency, effective, quickly, effectiveness",
          "<b>Topic 3</b><br>Words: responses, kindness, professionalism, friendliness, quickness",
          "<b>Topic 3</b><br>Words: promptness, prompt, responses, responsiveness, feedback",
          "<b>Topic 3</b><br>Words: attention, quick response, quickness, smart, response",
          "<b>Topic 3</b><br>Words: competence, knowledge, professionalism, relevance, guidance",
          "<b>Topic 3</b><br>Words: responsiveness, feedback, responsive, facilitation, responses",
          "<b>Topic 3</b><br>Words: promptness, responses, prompt, response, courtesy",
          "<b>Topic 3</b><br>Words: responsiveness, responsive, listening, feedback, tips",
          "<b>Topic 3</b><br>Words: responsiveness, promptness, friendliness, quickness, concise",
          "<b>Topic 3</b><br>Words: responsiveness, attention, responses, quickness, responsive",
          "<b>Topic 3</b><br>Words: kindness, communication, responsiveness, friendliness, competence",
          "<b>Topic 3</b><br>Words: quick response, response, responses, promptness, prompt",
          "<b>Topic 3</b><br>Words: quickness, quickly, performance, fast, quick response",
          "<b>Topic 3</b><br>Words: quick response, response, quick, responses, quickness",
          "<b>Topic 3</b><br>Words: courtesy, effective, manner, professionalism, competence",
          "<b>Topic 3</b><br>Words: promptness, professionalism, prompt, responses, guidance",
          "<b>Topic 3</b><br>Words: quick response, response, responses, quick, reply",
          "<b>Topic 3</b><br>Words: attention, feedback, responses, promptness, answering",
          "<b>Topic 3</b><br>Words: kindness, professionalism, health, success, responsiveness",
          "<b>Topic 3</b><br>Words: quick response, response, responses, relevance, competence",
          "<b>Topic 3</b><br>Words: professionalism, professional, competence, manner, expertise",
          "<b>Topic 3</b><br>Words: quick response, response, responses, promptness, prompt",
          "<b>Topic 3</b><br>Words: promptness, prompt, response, courtesy, feedback",
          "<b>Topic 3</b><br>Words: responsiveness, uncomplicated, guidance, competence, responsive",
          "<b>Topic 3</b><br>Words: responsiveness, quickly, feedback, quickness, rapid",
          "<b>Topic 3</b><br>Words: prompt, response, promptness, responses, prompter",
          "<b>Topic 3</b><br>Words: prompt, promptness, prompter, guidance, service",
          "<b>Topic 3</b><br>Words: attention, quickness, immediate, quickly, promptness",
          "<b>Topic 3</b><br>Words: promptness, prompt, guidance, professionalism, feedback",
          "<b>Topic 3</b><br>Words: feedback, responses, quick response, response, promptness"
         ],
         "marker": {
          "color": "#F0E442"
         },
         "mode": "lines",
         "name": "Communication, Guidance & Feedback",
         "type": "scatter",
         "x": [
          "2017-06-01T00:00:00",
          "2017-12-01T00:00:00",
          "2018-04-01T00:00:00",
          "2018-05-01T00:00:00",
          "2018-07-01T00:00:00",
          "2018-09-01T00:00:00",
          "2018-10-01T00:00:00",
          "2018-11-01T00:00:00",
          "2018-12-01T00:00:00",
          "2019-01-01T00:00:00",
          "2019-02-01T00:00:00",
          "2019-03-01T00:00:00",
          "2019-04-01T00:00:00",
          "2019-05-01T00:00:00",
          "2019-06-01T00:00:00",
          "2019-07-01T00:00:00",
          "2019-08-01T00:00:00",
          "2019-09-01T00:00:00",
          "2019-10-01T00:00:00",
          "2019-11-01T00:00:00",
          "2019-12-01T00:00:00",
          "2020-01-01T00:00:00",
          "2020-02-01T00:00:00",
          "2020-03-01T00:00:00",
          "2020-04-01T00:00:00",
          "2020-05-01T00:00:00",
          "2020-06-01T00:00:00",
          "2020-07-01T00:00:00",
          "2020-08-01T00:00:00",
          "2020-09-01T00:00:00",
          "2020-10-01T00:00:00",
          "2020-11-01T00:00:00",
          "2020-12-01T00:00:00",
          "2021-01-01T00:00:00",
          "2021-02-01T00:00:00",
          "2021-03-01T00:00:00",
          "2021-04-01T00:00:00",
          "2021-05-01T00:00:00",
          "2021-06-01T00:00:00",
          "2021-07-01T00:00:00",
          "2021-08-01T00:00:00",
          "2021-09-01T00:00:00",
          "2021-10-01T00:00:00",
          "2021-11-01T00:00:00",
          "2021-12-01T00:00:00",
          "2022-01-01T00:00:00",
          "2022-02-01T00:00:00",
          "2022-03-01T00:00:00",
          "2022-04-01T00:00:00",
          "2022-05-01T00:00:00",
          "2022-06-01T00:00:00",
          "2022-07-01T00:00:00",
          "2022-08-01T00:00:00",
          "2022-09-01T00:00:00",
          "2022-10-01T00:00:00",
          "2022-11-01T00:00:00",
          "2022-12-01T00:00:00",
          "2023-01-01T00:00:00",
          "2023-02-01T00:00:00",
          "2023-03-01T00:00:00",
          "2023-04-01T00:00:00",
          "2023-05-01T00:00:00",
          "2023-06-01T00:00:00",
          "2023-07-01T00:00:00",
          "2023-08-01T00:00:00",
          "2023-09-01T00:00:00",
          "2023-10-01T00:00:00",
          "2023-11-01T00:00:00",
          "2023-12-01T00:00:00"
         ],
         "y": [
          14,
          9,
          1,
          2,
          1,
          2,
          5,
          8,
          5,
          8,
          11,
          11,
          16,
          12,
          10,
          8,
          9,
          15,
          24,
          17,
          9,
          6,
          10,
          10,
          9,
          12,
          19,
          15,
          17,
          17,
          19,
          12,
          6,
          14,
          13,
          14,
          10,
          20,
          12,
          13,
          10,
          16,
          10,
          12,
          5,
          9,
          12,
          11,
          12,
          16,
          15,
          5,
          11,
          7,
          7,
          8,
          12,
          9,
          14,
          14,
          7,
          13,
          7,
          5,
          6,
          5,
          9,
          10,
          10
         ]
        },
        {
         "hoverinfo": "text",
         "hovertext": [
          "<b>Topic 4</b><br>Words: inverter, inverters, customer support, issues, issue",
          "<b>Topic 4</b><br>Words: inverters, inverter, frequency inverters, speed drives, drives",
          "<b>Topic 4</b><br>Words: technical support, speed drives, drives, atv320, inverters",
          "<b>Topic 4</b><br>Words: inverters, inverter, frequency inverters, quality, customer",
          "<b>Topic 4</b><br>Words: atv320, staff, atv630, atv71, atv",
          "<b>Topic 4</b><br>Words: inverters, inverter, 24volt, availability, drives",
          "<b>Topic 4</b><br>Words: inverters, inverter, frequency inverters, upgrade, drives",
          "<b>Topic 4</b><br>Words: drives, quality, customer service, technical support, satisfied",
          "<b>Topic 4</b><br>Words: atv320, atv630, atv, drives, inverter",
          "<b>Topic 4</b><br>Words: inverter, inverters, technical support, frequency inverters, assistance",
          "<b>Topic 4</b><br>Words: atv630, atv320, atv12, atv, altivar",
          "<b>Topic 4</b><br>Words: inverters, inverter, frequency inverters, invertor, technical support",
          "<b>Topic 4</b><br>Words: inverter, inverters, invertor, problems, atv320",
          "<b>Topic 4</b><br>Words: atv320, inverter, atv71, inverters, atv",
          "<b>Topic 4</b><br>Words: drive, atv340, motor, repair, faulty",
          "<b>Topic 4</b><br>Words: atv630, troubleshooting, atv320, technical support, atv",
          "<b>Topic 4</b><br>Words: inverter, inverters, drives, atv320, technical support",
          "<b>Topic 4</b><br>Words: atv320, atv630, atv930, technical support, inverter",
          "<b>Topic 4</b><br>Words: technical support, drives, drivers, drive, brands",
          "<b>Topic 4</b><br>Words: atv320, atv630, atv312, atv, troubleshooting",
          "<b>Topic 4</b><br>Words: atv320, atv1200, atv630, atv, inverter",
          "<b>Topic 4</b><br>Words: atv320, atv630, atv71, atv, drives",
          "<b>Topic 4</b><br>Words: drives, drive, startup, technical support, manuals",
          "<b>Topic 4</b><br>Words: inverter, atv320, rotation, inverters, atv630",
          "<b>Topic 4</b><br>Words: inverters, inverter, frequency inverters, altivar320, altivar",
          "<b>Topic 4</b><br>Words: drives, atv630, atv320, frequency inverters, atv60",
          "<b>Topic 4</b><br>Words: inverter, inverters, atv320, atv310, drives",
          "<b>Topic 4</b><br>Words: atv630, atv71, atv, atv320, inverter",
          "<b>Topic 4</b><br>Words: inverter, inverters, appliances, repair, 500v",
          "<b>Topic 4</b><br>Words: inverters, inverter, drives, equipment, controllers",
          "<b>Topic 4</b><br>Words: drives, speed drives, drive, error, technician",
          "<b>Topic 4</b><br>Words: inverter, atv340, drives, drive, controller",
          "<b>Topic 4</b><br>Words: atv320, atv32, inverter, inverters, driver",
          "<b>Topic 4</b><br>Words: atv320, error, atv630, motor, atv",
          "<b>Topic 4</b><br>Words: atv320, atv32, inverter, atv, inverters",
          "<b>Topic 4</b><br>Words: drives, inverters, technical support, inverter, drive",
          "<b>Topic 4</b><br>Words: inverter, inverters, plc241, converters, atv310",
          "<b>Topic 4</b><br>Words: inverter, inverters, converters, converter, apv320",
          "<b>Topic 4</b><br>Words: inverter, inverters, frequency inverters, atv320u30n4c, atv320",
          "<b>Topic 4</b><br>Words: atv320, atv630, atv, atv71, department",
          "<b>Topic 4</b><br>Words: inverter, inverters, atv340, atv320, parameters",
          "<b>Topic 4</b><br>Words: inverter, inverters, atv320, 170ado54050, manual",
          "<b>Topic 4</b><br>Words: inverter, inverters, atv312, atv66, atv",
          "<b>Topic 4</b><br>Words: atv930, atv58, atv320, atv, inverter",
          "<b>Topic 4</b><br>Words: drives, speed drives, warranty, drive, feedback",
          "<b>Topic 4</b><br>Words: inverter, inverters, atv320, atv, firmware",
          "<b>Topic 4</b><br>Words: inverter, inverters, failure, drives, delayed",
          "<b>Topic 4</b><br>Words: inverter, inverters, frequency inverters, drives, lxm05",
          "<b>Topic 4</b><br>Words: technical support, atv340, atv310, atv32, speed drives",
          "<b>Topic 4</b><br>Words: atv320, atv310, inverter, inverters, drives",
          "<b>Topic 4</b><br>Words: inverters, inverter, frequency inverters, delay, delivery",
          "<b>Topic 4</b><br>Words: technical support, inverter, inverters, altivar, customer",
          "<b>Topic 4</b><br>Words: atv31, atv320, atv, brake, contact",
          "<b>Topic 4</b><br>Words: atv320, atv630, atv, atv71, troubleshoot",
          "<b>Topic 4</b><br>Words: inverter, inverters, converter, switching, igbt",
          "<b>Topic 4</b><br>Words: drive, drives, vfds, vfd, technical support",
          "<b>Topic 4</b><br>Words: inverter, atv320, atv930, atv32, inverters",
          "<b>Topic 4</b><br>Words: inverter, inverters, invert, atv320, frequency inverters",
          "<b>Topic 4</b><br>Words: drive, drives, motor, technical support, technician",
          "<b>Topic 4</b><br>Words: inverters, inverter, frequency inverters, atv340, atv320",
          "<b>Topic 4</b><br>Words: inverter, inverters, frequency inverters, toshiba, drives",
          "<b>Topic 4</b><br>Words: inverters, drives, atv, plcs, atv320",
          "<b>Topic 4</b><br>Words: inverter, atv320, inverters, lowering, setting",
          "<b>Topic 4</b><br>Words: inverters, billing, buying, sales, inverter",
          "<b>Topic 4</b><br>Words: inverter, inverters, lxm23, hdd, drives",
          "<b>Topic 4</b><br>Words: inverters, atv, inverter, atv320, atv630",
          "<b>Topic 4</b><br>Words: repairing, inverter, repaired, technical support, inverters",
          "<b>Topic 4</b><br>Words: ssd, signals, channel, drives, operation"
         ],
         "marker": {
          "color": "#D55E00"
         },
         "mode": "lines",
         "name": "Inverters & Drives Support",
         "type": "scatter",
         "x": [
          "2017-06-01T00:00:00",
          "2017-12-01T00:00:00",
          "2018-04-01T00:00:00",
          "2018-05-01T00:00:00",
          "2018-07-01T00:00:00",
          "2018-10-01T00:00:00",
          "2018-11-01T00:00:00",
          "2018-12-01T00:00:00",
          "2019-01-01T00:00:00",
          "2019-02-01T00:00:00",
          "2019-03-01T00:00:00",
          "2019-04-01T00:00:00",
          "2019-05-01T00:00:00",
          "2019-06-01T00:00:00",
          "2019-07-01T00:00:00",
          "2019-08-01T00:00:00",
          "2019-09-01T00:00:00",
          "2019-10-01T00:00:00",
          "2019-11-01T00:00:00",
          "2019-12-01T00:00:00",
          "2020-01-01T00:00:00",
          "2020-02-01T00:00:00",
          "2020-03-01T00:00:00",
          "2020-04-01T00:00:00",
          "2020-05-01T00:00:00",
          "2020-06-01T00:00:00",
          "2020-07-01T00:00:00",
          "2020-08-01T00:00:00",
          "2020-09-01T00:00:00",
          "2020-10-01T00:00:00",
          "2020-11-01T00:00:00",
          "2020-12-01T00:00:00",
          "2021-01-01T00:00:00",
          "2021-02-01T00:00:00",
          "2021-03-01T00:00:00",
          "2021-04-01T00:00:00",
          "2021-05-01T00:00:00",
          "2021-06-01T00:00:00",
          "2021-07-01T00:00:00",
          "2021-08-01T00:00:00",
          "2021-09-01T00:00:00",
          "2021-10-01T00:00:00",
          "2021-11-01T00:00:00",
          "2021-12-01T00:00:00",
          "2022-01-01T00:00:00",
          "2022-02-01T00:00:00",
          "2022-03-01T00:00:00",
          "2022-04-01T00:00:00",
          "2022-05-01T00:00:00",
          "2022-06-01T00:00:00",
          "2022-07-01T00:00:00",
          "2022-08-01T00:00:00",
          "2022-09-01T00:00:00",
          "2022-10-01T00:00:00",
          "2022-11-01T00:00:00",
          "2022-12-01T00:00:00",
          "2023-01-01T00:00:00",
          "2023-02-01T00:00:00",
          "2023-03-01T00:00:00",
          "2023-04-01T00:00:00",
          "2023-05-01T00:00:00",
          "2023-06-01T00:00:00",
          "2023-07-01T00:00:00",
          "2023-08-01T00:00:00",
          "2023-09-01T00:00:00",
          "2023-10-01T00:00:00",
          "2023-11-01T00:00:00",
          "2023-12-01T00:00:00"
         ],
         "y": [
          23,
          29,
          22,
          19,
          1,
          31,
          15,
          1,
          4,
          5,
          5,
          18,
          29,
          5,
          6,
          2,
          5,
          42,
          12,
          2,
          3,
          2,
          2,
          1,
          2,
          3,
          5,
          2,
          25,
          22,
          1,
          6,
          3,
          3,
          4,
          5,
          25,
          13,
          4,
          1,
          5,
          7,
          6,
          2,
          2,
          5,
          6,
          3,
          34,
          6,
          1,
          3,
          3,
          1,
          4,
          2,
          3,
          4,
          2,
          2,
          25,
          8,
          3,
          1,
          4,
          2,
          1,
          1
         ]
        },
        {
         "hoverinfo": "text",
         "hovertext": [
          "<b>Topic 5</b><br>Words: customer service, negotiation, customer, quotation, delivering",
          "<b>Topic 5</b><br>Words: quotes, quotations, response time, quotation, quote",
          "<b>Topic 5</b><br>Words: negotiating, 0800, payment, quotes, quotations",
          "<b>Topic 5</b><br>Words: quotes, quotations, quote, quotation, customer",
          "<b>Topic 5</b><br>Words: quotation, quotations, quotes, quoting, quoted",
          "<b>Topic 5</b><br>Words: discount, quotations, quotes, quotation, note",
          "<b>Topic 5</b><br>Words: sales service, quotations, sales, sales representative, quotes",
          "<b>Topic 5</b><br>Words: discount, offers, prices, contact, sales",
          "<b>Topic 5</b><br>Words: quoting, quotes, distributor, quotation, quoted",
          "<b>Topic 5</b><br>Words: response time, fulfillment, service, requesting, delay",
          "<b>Topic 5</b><br>Words: satisfied, offers, supplier, regards, suppliers",
          "<b>Topic 5</b><br>Words: quotations, delivery time, quotes, quotation, quote",
          "<b>Topic 5</b><br>Words: offers, bosch, available, requesting, offer",
          "<b>Topic 5</b><br>Words: offers, offer, supplier, price, contact",
          "<b>Topic 5</b><br>Words: quotation, response time, quotes, quotations, offers",
          "<b>Topic 5</b><br>Words: quotes, quotations, quoting, quotation, quoted",
          "<b>Topic 5</b><br>Words: quotation, quotations, quotes, response time, quote",
          "<b>Topic 5</b><br>Words: contacted, customer, pricing, sales representative, receive",
          "<b>Topic 5</b><br>Words: requesting, offers, received, receive, response time",
          "<b>Topic 5</b><br>Words: response time, delay, duration, promptly, timely",
          "<b>Topic 5</b><br>Words: payment, delivery time, offers, interest, willing",
          "<b>Topic 5</b><br>Words: offers, emailed, offer, requesting, interested",
          "<b>Topic 5</b><br>Words: offers, submission, delivery date, prices, deadlines",
          "<b>Topic 5</b><br>Words: offers, discount, contact, customer, market",
          "<b>Topic 5</b><br>Words: offers, offer, price, urgent, quickly",
          "<b>Topic 5</b><br>Words: requesting, receive, received, offers, emailed",
          "<b>Topic 5</b><br>Words: interest, offers, offer, delay, 1973289",
          "<b>Topic 5</b><br>Words: delivery time, delivery, orders, ordered, deliver",
          "<b>Topic 5</b><br>Words: inquiries, offers, invoice, contact, prices",
          "<b>Topic 5</b><br>Words: offers, received, offer, receive, price",
          "<b>Topic 5</b><br>Words: pricing, response time, inquiries, quoting, quotes",
          "<b>Topic 5</b><br>Words: quotes, quotation, quoted, quotations, customer",
          "<b>Topic 5</b><br>Words: offers, offered, offer, interest, discount",
          "<b>Topic 5</b><br>Words: quotations, quotes, quotation, quote, quoted",
          "<b>Topic 5</b><br>Words: quotations, quote, burden, service, great",
          "<b>Topic 5</b><br>Words: quotations, quotes, quotation, emails, quote",
          "<b>Topic 5</b><br>Words: quotations, quotation, response time, quote, inquiries",
          "<b>Topic 5</b><br>Words: offers, response time, delay, waiting, promptly",
          "<b>Topic 5</b><br>Words: customer service, customer, sales, quotations, quotation",
          "<b>Topic 5</b><br>Words: quotation, quote, loadbanks, customers, survey",
          "<b>Topic 5</b><br>Words: quotations, quotation, quotes, arrive, quoted",
          "<b>Topic 5</b><br>Words: offers, received, offer, price, receive",
          "<b>Topic 5</b><br>Words: inquiries, delivery time, bid, proposal, payment",
          "<b>Topic 5</b><br>Words: quotations, quotation, quotes, quoted, quote",
          "<b>Topic 5</b><br>Words: delivery date, purchasing, received, delivery, orders",
          "<b>Topic 5</b><br>Words: negotiate, offers, prices, delivery time, inquiry",
          "<b>Topic 5</b><br>Words: payment, offers, offer, options, receive",
          "<b>Topic 5</b><br>Words: quotes, quotations, quotation, quote, delivering",
          "<b>Topic 5</b><br>Words: quotes, quotation, quote, response time, reseller",
          "<b>Topic 5</b><br>Words: buyer, offers, pricing, rates, response time",
          "<b>Topic 5</b><br>Words: timely, quotes, quotation, quotations, quote",
          "<b>Topic 5</b><br>Words: quoting, quotes, quotation, quotations, quoted",
          "<b>Topic 5</b><br>Words: offers, specs, discount, speed, response time",
          "<b>Topic 5</b><br>Words: responded, provided, quotations, timely, quotes",
          "<b>Topic 5</b><br>Words: quoted, quotes, quotation, quotations, quoting",
          "<b>Topic 5</b><br>Words: offers, bidding, requesting, offer, waiting",
          "<b>Topic 5</b><br>Words: quotes, quotation, quotations, quoted, quote",
          "<b>Topic 5</b><br>Words: quoting, quotation, quotes, quotations, delayed",
          "<b>Topic 5</b><br>Words: quotation, quotations, quotes, quoting, quoted",
          "<b>Topic 5</b><br>Words: contact person, emailed, received, receive, offers",
          "<b>Topic 5</b><br>Words: offers, prices, options, offer, requests",
          "<b>Topic 5</b><br>Words: quoting, quotes, quotations, discounts, quoted",
          "<b>Topic 5</b><br>Words: offers, inquiries, sales, price, waiting",
          "<b>Topic 5</b><br>Words: text, ecoxperts, distributor, customers, prompt",
          "<b>Topic 5</b><br>Words: quoting, quotes, quotation, quoted, quotations",
          "<b>Topic 5</b><br>Words: quotes, quotations, quoted, quotation, quote",
          "<b>Topic 5</b><br>Words: offers, discount, offer, price, receive"
         ],
         "marker": {
          "color": "#0072B2"
         },
         "mode": "lines",
         "name": "Quotations & Offers",
         "type": "scatter",
         "x": [
          "2017-06-01T00:00:00",
          "2017-12-01T00:00:00",
          "2018-04-01T00:00:00",
          "2018-05-01T00:00:00",
          "2018-09-01T00:00:00",
          "2018-10-01T00:00:00",
          "2018-11-01T00:00:00",
          "2019-01-01T00:00:00",
          "2019-02-01T00:00:00",
          "2019-03-01T00:00:00",
          "2019-04-01T00:00:00",
          "2019-05-01T00:00:00",
          "2019-06-01T00:00:00",
          "2019-07-01T00:00:00",
          "2019-08-01T00:00:00",
          "2019-09-01T00:00:00",
          "2019-10-01T00:00:00",
          "2019-11-01T00:00:00",
          "2019-12-01T00:00:00",
          "2020-01-01T00:00:00",
          "2020-02-01T00:00:00",
          "2020-03-01T00:00:00",
          "2020-04-01T00:00:00",
          "2020-05-01T00:00:00",
          "2020-06-01T00:00:00",
          "2020-07-01T00:00:00",
          "2020-08-01T00:00:00",
          "2020-09-01T00:00:00",
          "2020-10-01T00:00:00",
          "2020-11-01T00:00:00",
          "2020-12-01T00:00:00",
          "2021-01-01T00:00:00",
          "2021-02-01T00:00:00",
          "2021-03-01T00:00:00",
          "2021-04-01T00:00:00",
          "2021-05-01T00:00:00",
          "2021-06-01T00:00:00",
          "2021-07-01T00:00:00",
          "2021-08-01T00:00:00",
          "2021-09-01T00:00:00",
          "2021-10-01T00:00:00",
          "2021-11-01T00:00:00",
          "2021-12-01T00:00:00",
          "2022-01-01T00:00:00",
          "2022-02-01T00:00:00",
          "2022-03-01T00:00:00",
          "2022-04-01T00:00:00",
          "2022-05-01T00:00:00",
          "2022-06-01T00:00:00",
          "2022-07-01T00:00:00",
          "2022-08-01T00:00:00",
          "2022-09-01T00:00:00",
          "2022-10-01T00:00:00",
          "2022-11-01T00:00:00",
          "2022-12-01T00:00:00",
          "2023-01-01T00:00:00",
          "2023-02-01T00:00:00",
          "2023-03-01T00:00:00",
          "2023-04-01T00:00:00",
          "2023-05-01T00:00:00",
          "2023-06-01T00:00:00",
          "2023-07-01T00:00:00",
          "2023-08-01T00:00:00",
          "2023-09-01T00:00:00",
          "2023-10-01T00:00:00",
          "2023-11-01T00:00:00",
          "2023-12-01T00:00:00"
         ],
         "y": [
          15,
          8,
          3,
          7,
          2,
          5,
          5,
          2,
          2,
          2,
          7,
          12,
          2,
          6,
          6,
          6,
          21,
          7,
          4,
          5,
          9,
          5,
          6,
          9,
          4,
          4,
          3,
          8,
          12,
          9,
          5,
          8,
          6,
          6,
          10,
          10,
          9,
          9,
          3,
          6,
          9,
          9,
          9,
          6,
          10,
          9,
          4,
          17,
          17,
          7,
          1,
          5,
          5,
          6,
          5,
          4,
          12,
          11,
          8,
          21,
          5,
          5,
          6,
          10,
          7,
          3,
          10
         ]
        },
        {
         "hoverinfo": "text",
         "hovertext": [
          "<b>Topic 6</b><br>Words: great, fine, good, alright, excellent",
          "<b>Topic 6</b><br>Words: everything, perfectly, issues, adequate, fine",
          "<b>Topic 6</b><br>Words: adequate, everything, perfectly, agreed, lack",
          "<b>Topic 6</b><br>Words: improvement, smoothly, everything, happy, adequate",
          "<b>Topic 6</b><br>Words: hiccup, gone, perfectly, good, missed",
          "<b>Topic 6</b><br>Words: overall, everything, fine, great, excellent",
          "<b>Topic 6</b><br>Words: deadlines, delays, deadline, delay, waiting",
          "<b>Topic 6</b><br>Words: waiting, worked, great, excellent, service",
          "<b>Topic 6</b><br>Words: service, great, war, excellent, perfectly",
          "<b>Topic 6</b><br>Words: deadline, deadlines, delays, timing, expectations",
          "<b>Topic 6</b><br>Words: smoothly, uneventful, agile, perfectly, deadline",
          "<b>Topic 6</b><br>Words: deadlines, deadline, delays, timing, delay",
          "<b>Topic 6</b><br>Words: deadlines, deadline, compliance, delays, stipulated",
          "<b>Topic 6</b><br>Words: perfectly, excellent, service, great, everything",
          "<b>Topic 6</b><br>Words: delays, delay, waiting, timing, deadlines",
          "<b>Topic 6</b><br>Words: deadline, deadlines, delays, planned, great",
          "<b>Topic 6</b><br>Words: deadlines, deadline, delays, delay, timing",
          "<b>Topic 6</b><br>Words: delays, deadlines, deadline, timing, delay",
          "<b>Topic 6</b><br>Words: expectations, deadline, deadlines, expected, planned",
          "<b>Topic 6</b><br>Words: deadlines, service, deadline, complied, perfectly",
          "<b>Topic 6</b><br>Words: deadline, deadlines, expectations, perfectly, timing",
          "<b>Topic 6</b><br>Words: deadlines, deadline, seamless, timing, delays",
          "<b>Topic 6</b><br>Words: perfectly, everything, worked, great, excellent",
          "<b>Topic 6</b><br>Words: worked, great, overall, promised, excellent",
          "<b>Topic 6</b><br>Words: waiting, planned, worked, perfectly, days",
          "<b>Topic 6</b><br>Words: deadlines, deadline, respected, schedule, respect",
          "<b>Topic 6</b><br>Words: everything, excellent, great, overall, worked",
          "<b>Topic 6</b><br>Words: deadlines, deadline, residues, problems, timing",
          "<b>Topic 6</b><br>Words: everything, perfectly, problems, fine, feedback",
          "<b>Topic 6</b><br>Words: deadlines, scheduling, deadline, delays, schedule",
          "<b>Topic 6</b><br>Words: perfectly, everything, timing, job, deadlines",
          "<b>Topic 6</b><br>Words: delays, waiting, delay, everything, timing",
          "<b>Topic 6</b><br>Words: planned, everything, perfectly, deadlines, clockwork",
          "<b>Topic 6</b><br>Words: deadline, worked, deadlines, perfect, fanstastic",
          "<b>Topic 6</b><br>Words: deadlines, deadline, delays, planned, schedule",
          "<b>Topic 6</b><br>Words: liked, great, pleased, deadline, adequate",
          "<b>Topic 6</b><br>Words: planned, achieved, expectations, deadline, deadlines",
          "<b>Topic 6</b><br>Words: deadlines, deadline, delays, delay, expectations",
          "<b>Topic 6</b><br>Words: deadlines, service, delays, deadline, waiting",
          "<b>Topic 6</b><br>Words: deadlines, deadline, service, excellent, perfectly",
          "<b>Topic 6</b><br>Words: deadline, fine, deadlines, perfectly, problems",
          "<b>Topic 6</b><br>Words: deadlines, deadline, delays, delayed, delay",
          "<b>Topic 6</b><br>Words: deadlines, deadline, delays, delivery time, delay",
          "<b>Topic 6</b><br>Words: service, timing, delays, deadlines, excellent",
          "<b>Topic 6</b><br>Words: deadlines, delays, deadline, smoothly, everything",
          "<b>Topic 6</b><br>Words: delays, delay, deadlines, deadline, timing",
          "<b>Topic 6</b><br>Words: deadlines, deadline, delays, delay, timing",
          "<b>Topic 6</b><br>Words: delays, delay, deadlines, planned, timing",
          "<b>Topic 6</b><br>Words: deadlines, deadline, delays, delay, expectations",
          "<b>Topic 6</b><br>Words: deadlines, deadline, delays, delivery time, delay",
          "<b>Topic 6</b><br>Words: deadlines, deadline, delays, delay, waiting",
          "<b>Topic 6</b><br>Words: deadlines, deadline, lifetimes, long time, delays",
          "<b>Topic 6</b><br>Words: deadline, deadlines, delays, delay, problems",
          "<b>Topic 6</b><br>Words: service, appreciation, complaints, delays, overall",
          "<b>Topic 6</b><br>Words: delays, delay, deadline, deadlines, planned",
          "<b>Topic 6</b><br>Words: waiting, deadline, delays, deadlines, waited",
          "<b>Topic 6</b><br>Words: deadlines, deadline, delays, timing, delay",
          "<b>Topic 6</b><br>Words: fine, everything, alright, perfectly, nothing",
          "<b>Topic 6</b><br>Words: deadlines, deadline, expectations, expected, expectation",
          "<b>Topic 6</b><br>Words: smoothly, smooth, clear, service, proposal",
          "<b>Topic 6</b><br>Words: deadlines, deadline, excellent, great, delays",
          "<b>Topic 6</b><br>Words: delays, delay, waiting, timing, deadlines",
          "<b>Topic 6</b><br>Words: everything, perfectly, fine, reason, failure",
          "<b>Topic 6</b><br>Words: planned, smoothly, excellent, great, deadline",
          "<b>Topic 6</b><br>Words: delays, delay, deadlines, deadline, waiting",
          "<b>Topic 6</b><br>Words: delay, delays, penible, feedback, worked",
          "<b>Topic 6</b><br>Words: repair, worked, perfectly, works, fine",
          "<b>Topic 6</b><br>Words: delays, delay, waiting, timing, deadlines"
         ],
         "marker": {
          "color": "#CC79A7"
         },
         "mode": "lines",
         "name": "Customer Service & Delivery",
         "type": "scatter",
         "x": [
          "2017-06-01T00:00:00",
          "2017-12-01T00:00:00",
          "2018-04-01T00:00:00",
          "2018-05-01T00:00:00",
          "2018-08-01T00:00:00",
          "2018-10-01T00:00:00",
          "2018-11-01T00:00:00",
          "2018-12-01T00:00:00",
          "2019-01-01T00:00:00",
          "2019-02-01T00:00:00",
          "2019-03-01T00:00:00",
          "2019-04-01T00:00:00",
          "2019-05-01T00:00:00",
          "2019-06-01T00:00:00",
          "2019-07-01T00:00:00",
          "2019-08-01T00:00:00",
          "2019-09-01T00:00:00",
          "2019-10-01T00:00:00",
          "2019-11-01T00:00:00",
          "2019-12-01T00:00:00",
          "2020-01-01T00:00:00",
          "2020-02-01T00:00:00",
          "2020-03-01T00:00:00",
          "2020-04-01T00:00:00",
          "2020-05-01T00:00:00",
          "2020-06-01T00:00:00",
          "2020-07-01T00:00:00",
          "2020-08-01T00:00:00",
          "2020-09-01T00:00:00",
          "2020-10-01T00:00:00",
          "2020-11-01T00:00:00",
          "2020-12-01T00:00:00",
          "2021-01-01T00:00:00",
          "2021-02-01T00:00:00",
          "2021-03-01T00:00:00",
          "2021-04-01T00:00:00",
          "2021-05-01T00:00:00",
          "2021-06-01T00:00:00",
          "2021-07-01T00:00:00",
          "2021-08-01T00:00:00",
          "2021-09-01T00:00:00",
          "2021-10-01T00:00:00",
          "2021-11-01T00:00:00",
          "2021-12-01T00:00:00",
          "2022-01-01T00:00:00",
          "2022-02-01T00:00:00",
          "2022-03-01T00:00:00",
          "2022-04-01T00:00:00",
          "2022-05-01T00:00:00",
          "2022-06-01T00:00:00",
          "2022-07-01T00:00:00",
          "2022-08-01T00:00:00",
          "2022-09-01T00:00:00",
          "2022-10-01T00:00:00",
          "2022-11-01T00:00:00",
          "2022-12-01T00:00:00",
          "2023-01-01T00:00:00",
          "2023-02-01T00:00:00",
          "2023-03-01T00:00:00",
          "2023-04-01T00:00:00",
          "2023-05-01T00:00:00",
          "2023-06-01T00:00:00",
          "2023-07-01T00:00:00",
          "2023-08-01T00:00:00",
          "2023-09-01T00:00:00",
          "2023-10-01T00:00:00",
          "2023-11-01T00:00:00",
          "2023-12-01T00:00:00"
         ],
         "y": [
          5,
          25,
          2,
          4,
          1,
          2,
          3,
          3,
          4,
          7,
          9,
          9,
          6,
          7,
          7,
          5,
          8,
          5,
          6,
          2,
          10,
          9,
          6,
          5,
          2,
          4,
          4,
          2,
          9,
          11,
          10,
          5,
          9,
          4,
          10,
          7,
          14,
          10,
          9,
          9,
          6,
          13,
          21,
          6,
          7,
          4,
          7,
          11,
          17,
          9,
          12,
          9,
          6,
          7,
          6,
          4,
          3,
          1,
          11,
          4,
          12,
          6,
          3,
          7,
          8,
          4,
          4,
          5
         ]
        }
       ],
       "layout": {
        "height": 450,
        "hoverlabel": {
         "bgcolor": "white",
         "font": {
          "family": "Rockwell",
          "size": 16
         }
        },
        "legend": {
         "title": {
          "text": "<b>Global Topic Representation"
         }
        },
        "template": {
         "data": {
          "bar": [
           {
            "error_x": {
             "color": "rgb(36,36,36)"
            },
            "error_y": {
             "color": "rgb(36,36,36)"
            },
            "marker": {
             "line": {
              "color": "white",
              "width": 0.5
             },
             "pattern": {
              "fillmode": "overlay",
              "size": 10,
              "solidity": 0.2
             }
            },
            "type": "bar"
           }
          ],
          "barpolar": [
           {
            "marker": {
             "line": {
              "color": "white",
              "width": 0.5
             },
             "pattern": {
              "fillmode": "overlay",
              "size": 10,
              "solidity": 0.2
             }
            },
            "type": "barpolar"
           }
          ],
          "carpet": [
           {
            "aaxis": {
             "endlinecolor": "rgb(36,36,36)",
             "gridcolor": "white",
             "linecolor": "white",
             "minorgridcolor": "white",
             "startlinecolor": "rgb(36,36,36)"
            },
            "baxis": {
             "endlinecolor": "rgb(36,36,36)",
             "gridcolor": "white",
             "linecolor": "white",
             "minorgridcolor": "white",
             "startlinecolor": "rgb(36,36,36)"
            },
            "type": "carpet"
           }
          ],
          "choropleth": [
           {
            "colorbar": {
             "outlinewidth": 1,
             "tickcolor": "rgb(36,36,36)",
             "ticks": "outside"
            },
            "type": "choropleth"
           }
          ],
          "contour": [
           {
            "colorbar": {
             "outlinewidth": 1,
             "tickcolor": "rgb(36,36,36)",
             "ticks": "outside"
            },
            "colorscale": [
             [
              0,
              "#440154"
             ],
             [
              0.1111111111111111,
              "#482878"
             ],
             [
              0.2222222222222222,
              "#3e4989"
             ],
             [
              0.3333333333333333,
              "#31688e"
             ],
             [
              0.4444444444444444,
              "#26828e"
             ],
             [
              0.5555555555555556,
              "#1f9e89"
             ],
             [
              0.6666666666666666,
              "#35b779"
             ],
             [
              0.7777777777777778,
              "#6ece58"
             ],
             [
              0.8888888888888888,
              "#b5de2b"
             ],
             [
              1,
              "#fde725"
             ]
            ],
            "type": "contour"
           }
          ],
          "contourcarpet": [
           {
            "colorbar": {
             "outlinewidth": 1,
             "tickcolor": "rgb(36,36,36)",
             "ticks": "outside"
            },
            "type": "contourcarpet"
           }
          ],
          "heatmap": [
           {
            "colorbar": {
             "outlinewidth": 1,
             "tickcolor": "rgb(36,36,36)",
             "ticks": "outside"
            },
            "colorscale": [
             [
              0,
              "#440154"
             ],
             [
              0.1111111111111111,
              "#482878"
             ],
             [
              0.2222222222222222,
              "#3e4989"
             ],
             [
              0.3333333333333333,
              "#31688e"
             ],
             [
              0.4444444444444444,
              "#26828e"
             ],
             [
              0.5555555555555556,
              "#1f9e89"
             ],
             [
              0.6666666666666666,
              "#35b779"
             ],
             [
              0.7777777777777778,
              "#6ece58"
             ],
             [
              0.8888888888888888,
              "#b5de2b"
             ],
             [
              1,
              "#fde725"
             ]
            ],
            "type": "heatmap"
           }
          ],
          "heatmapgl": [
           {
            "colorbar": {
             "outlinewidth": 1,
             "tickcolor": "rgb(36,36,36)",
             "ticks": "outside"
            },
            "colorscale": [
             [
              0,
              "#440154"
             ],
             [
              0.1111111111111111,
              "#482878"
             ],
             [
              0.2222222222222222,
              "#3e4989"
             ],
             [
              0.3333333333333333,
              "#31688e"
             ],
             [
              0.4444444444444444,
              "#26828e"
             ],
             [
              0.5555555555555556,
              "#1f9e89"
             ],
             [
              0.6666666666666666,
              "#35b779"
             ],
             [
              0.7777777777777778,
              "#6ece58"
             ],
             [
              0.8888888888888888,
              "#b5de2b"
             ],
             [
              1,
              "#fde725"
             ]
            ],
            "type": "heatmapgl"
           }
          ],
          "histogram": [
           {
            "marker": {
             "line": {
              "color": "white",
              "width": 0.6
             }
            },
            "type": "histogram"
           }
          ],
          "histogram2d": [
           {
            "colorbar": {
             "outlinewidth": 1,
             "tickcolor": "rgb(36,36,36)",
             "ticks": "outside"
            },
            "colorscale": [
             [
              0,
              "#440154"
             ],
             [
              0.1111111111111111,
              "#482878"
             ],
             [
              0.2222222222222222,
              "#3e4989"
             ],
             [
              0.3333333333333333,
              "#31688e"
             ],
             [
              0.4444444444444444,
              "#26828e"
             ],
             [
              0.5555555555555556,
              "#1f9e89"
             ],
             [
              0.6666666666666666,
              "#35b779"
             ],
             [
              0.7777777777777778,
              "#6ece58"
             ],
             [
              0.8888888888888888,
              "#b5de2b"
             ],
             [
              1,
              "#fde725"
             ]
            ],
            "type": "histogram2d"
           }
          ],
          "histogram2dcontour": [
           {
            "colorbar": {
             "outlinewidth": 1,
             "tickcolor": "rgb(36,36,36)",
             "ticks": "outside"
            },
            "colorscale": [
             [
              0,
              "#440154"
             ],
             [
              0.1111111111111111,
              "#482878"
             ],
             [
              0.2222222222222222,
              "#3e4989"
             ],
             [
              0.3333333333333333,
              "#31688e"
             ],
             [
              0.4444444444444444,
              "#26828e"
             ],
             [
              0.5555555555555556,
              "#1f9e89"
             ],
             [
              0.6666666666666666,
              "#35b779"
             ],
             [
              0.7777777777777778,
              "#6ece58"
             ],
             [
              0.8888888888888888,
              "#b5de2b"
             ],
             [
              1,
              "#fde725"
             ]
            ],
            "type": "histogram2dcontour"
           }
          ],
          "mesh3d": [
           {
            "colorbar": {
             "outlinewidth": 1,
             "tickcolor": "rgb(36,36,36)",
             "ticks": "outside"
            },
            "type": "mesh3d"
           }
          ],
          "parcoords": [
           {
            "line": {
             "colorbar": {
              "outlinewidth": 1,
              "tickcolor": "rgb(36,36,36)",
              "ticks": "outside"
             }
            },
            "type": "parcoords"
           }
          ],
          "pie": [
           {
            "automargin": true,
            "type": "pie"
           }
          ],
          "scatter": [
           {
            "fillpattern": {
             "fillmode": "overlay",
             "size": 10,
             "solidity": 0.2
            },
            "type": "scatter"
           }
          ],
          "scatter3d": [
           {
            "line": {
             "colorbar": {
              "outlinewidth": 1,
              "tickcolor": "rgb(36,36,36)",
              "ticks": "outside"
             }
            },
            "marker": {
             "colorbar": {
              "outlinewidth": 1,
              "tickcolor": "rgb(36,36,36)",
              "ticks": "outside"
             }
            },
            "type": "scatter3d"
           }
          ],
          "scattercarpet": [
           {
            "marker": {
             "colorbar": {
              "outlinewidth": 1,
              "tickcolor": "rgb(36,36,36)",
              "ticks": "outside"
             }
            },
            "type": "scattercarpet"
           }
          ],
          "scattergeo": [
           {
            "marker": {
             "colorbar": {
              "outlinewidth": 1,
              "tickcolor": "rgb(36,36,36)",
              "ticks": "outside"
             }
            },
            "type": "scattergeo"
           }
          ],
          "scattergl": [
           {
            "marker": {
             "colorbar": {
              "outlinewidth": 1,
              "tickcolor": "rgb(36,36,36)",
              "ticks": "outside"
             }
            },
            "type": "scattergl"
           }
          ],
          "scattermapbox": [
           {
            "marker": {
             "colorbar": {
              "outlinewidth": 1,
              "tickcolor": "rgb(36,36,36)",
              "ticks": "outside"
             }
            },
            "type": "scattermapbox"
           }
          ],
          "scatterpolar": [
           {
            "marker": {
             "colorbar": {
              "outlinewidth": 1,
              "tickcolor": "rgb(36,36,36)",
              "ticks": "outside"
             }
            },
            "type": "scatterpolar"
           }
          ],
          "scatterpolargl": [
           {
            "marker": {
             "colorbar": {
              "outlinewidth": 1,
              "tickcolor": "rgb(36,36,36)",
              "ticks": "outside"
             }
            },
            "type": "scatterpolargl"
           }
          ],
          "scatterternary": [
           {
            "marker": {
             "colorbar": {
              "outlinewidth": 1,
              "tickcolor": "rgb(36,36,36)",
              "ticks": "outside"
             }
            },
            "type": "scatterternary"
           }
          ],
          "surface": [
           {
            "colorbar": {
             "outlinewidth": 1,
             "tickcolor": "rgb(36,36,36)",
             "ticks": "outside"
            },
            "colorscale": [
             [
              0,
              "#440154"
             ],
             [
              0.1111111111111111,
              "#482878"
             ],
             [
              0.2222222222222222,
              "#3e4989"
             ],
             [
              0.3333333333333333,
              "#31688e"
             ],
             [
              0.4444444444444444,
              "#26828e"
             ],
             [
              0.5555555555555556,
              "#1f9e89"
             ],
             [
              0.6666666666666666,
              "#35b779"
             ],
             [
              0.7777777777777778,
              "#6ece58"
             ],
             [
              0.8888888888888888,
              "#b5de2b"
             ],
             [
              1,
              "#fde725"
             ]
            ],
            "type": "surface"
           }
          ],
          "table": [
           {
            "cells": {
             "fill": {
              "color": "rgb(237,237,237)"
             },
             "line": {
              "color": "white"
             }
            },
            "header": {
             "fill": {
              "color": "rgb(217,217,217)"
             },
             "line": {
              "color": "white"
             }
            },
            "type": "table"
           }
          ]
         },
         "layout": {
          "annotationdefaults": {
           "arrowhead": 0,
           "arrowwidth": 1
          },
          "autotypenumbers": "strict",
          "coloraxis": {
           "colorbar": {
            "outlinewidth": 1,
            "tickcolor": "rgb(36,36,36)",
            "ticks": "outside"
           }
          },
          "colorscale": {
           "diverging": [
            [
             0,
             "rgb(103,0,31)"
            ],
            [
             0.1,
             "rgb(178,24,43)"
            ],
            [
             0.2,
             "rgb(214,96,77)"
            ],
            [
             0.3,
             "rgb(244,165,130)"
            ],
            [
             0.4,
             "rgb(253,219,199)"
            ],
            [
             0.5,
             "rgb(247,247,247)"
            ],
            [
             0.6,
             "rgb(209,229,240)"
            ],
            [
             0.7,
             "rgb(146,197,222)"
            ],
            [
             0.8,
             "rgb(67,147,195)"
            ],
            [
             0.9,
             "rgb(33,102,172)"
            ],
            [
             1,
             "rgb(5,48,97)"
            ]
           ],
           "sequential": [
            [
             0,
             "#440154"
            ],
            [
             0.1111111111111111,
             "#482878"
            ],
            [
             0.2222222222222222,
             "#3e4989"
            ],
            [
             0.3333333333333333,
             "#31688e"
            ],
            [
             0.4444444444444444,
             "#26828e"
            ],
            [
             0.5555555555555556,
             "#1f9e89"
            ],
            [
             0.6666666666666666,
             "#35b779"
            ],
            [
             0.7777777777777778,
             "#6ece58"
            ],
            [
             0.8888888888888888,
             "#b5de2b"
            ],
            [
             1,
             "#fde725"
            ]
           ],
           "sequentialminus": [
            [
             0,
             "#440154"
            ],
            [
             0.1111111111111111,
             "#482878"
            ],
            [
             0.2222222222222222,
             "#3e4989"
            ],
            [
             0.3333333333333333,
             "#31688e"
            ],
            [
             0.4444444444444444,
             "#26828e"
            ],
            [
             0.5555555555555556,
             "#1f9e89"
            ],
            [
             0.6666666666666666,
             "#35b779"
            ],
            [
             0.7777777777777778,
             "#6ece58"
            ],
            [
             0.8888888888888888,
             "#b5de2b"
            ],
            [
             1,
             "#fde725"
            ]
           ]
          },
          "colorway": [
           "#1F77B4",
           "#FF7F0E",
           "#2CA02C",
           "#D62728",
           "#9467BD",
           "#8C564B",
           "#E377C2",
           "#7F7F7F",
           "#BCBD22",
           "#17BECF"
          ],
          "font": {
           "color": "rgb(36,36,36)"
          },
          "geo": {
           "bgcolor": "white",
           "lakecolor": "white",
           "landcolor": "white",
           "showlakes": true,
           "showland": true,
           "subunitcolor": "white"
          },
          "hoverlabel": {
           "align": "left"
          },
          "hovermode": "closest",
          "mapbox": {
           "style": "light"
          },
          "paper_bgcolor": "white",
          "plot_bgcolor": "white",
          "polar": {
           "angularaxis": {
            "gridcolor": "rgb(232,232,232)",
            "linecolor": "rgb(36,36,36)",
            "showgrid": false,
            "showline": true,
            "ticks": "outside"
           },
           "bgcolor": "white",
           "radialaxis": {
            "gridcolor": "rgb(232,232,232)",
            "linecolor": "rgb(36,36,36)",
            "showgrid": false,
            "showline": true,
            "ticks": "outside"
           }
          },
          "scene": {
           "xaxis": {
            "backgroundcolor": "white",
            "gridcolor": "rgb(232,232,232)",
            "gridwidth": 2,
            "linecolor": "rgb(36,36,36)",
            "showbackground": true,
            "showgrid": false,
            "showline": true,
            "ticks": "outside",
            "zeroline": false,
            "zerolinecolor": "rgb(36,36,36)"
           },
           "yaxis": {
            "backgroundcolor": "white",
            "gridcolor": "rgb(232,232,232)",
            "gridwidth": 2,
            "linecolor": "rgb(36,36,36)",
            "showbackground": true,
            "showgrid": false,
            "showline": true,
            "ticks": "outside",
            "zeroline": false,
            "zerolinecolor": "rgb(36,36,36)"
           },
           "zaxis": {
            "backgroundcolor": "white",
            "gridcolor": "rgb(232,232,232)",
            "gridwidth": 2,
            "linecolor": "rgb(36,36,36)",
            "showbackground": true,
            "showgrid": false,
            "showline": true,
            "ticks": "outside",
            "zeroline": false,
            "zerolinecolor": "rgb(36,36,36)"
           }
          },
          "shapedefaults": {
           "fillcolor": "black",
           "line": {
            "width": 0
           },
           "opacity": 0.3
          },
          "ternary": {
           "aaxis": {
            "gridcolor": "rgb(232,232,232)",
            "linecolor": "rgb(36,36,36)",
            "showgrid": false,
            "showline": true,
            "ticks": "outside"
           },
           "baxis": {
            "gridcolor": "rgb(232,232,232)",
            "linecolor": "rgb(36,36,36)",
            "showgrid": false,
            "showline": true,
            "ticks": "outside"
           },
           "bgcolor": "white",
           "caxis": {
            "gridcolor": "rgb(232,232,232)",
            "linecolor": "rgb(36,36,36)",
            "showgrid": false,
            "showline": true,
            "ticks": "outside"
           }
          },
          "title": {
           "x": 0.05
          },
          "xaxis": {
           "automargin": true,
           "gridcolor": "rgb(232,232,232)",
           "linecolor": "rgb(36,36,36)",
           "showgrid": false,
           "showline": true,
           "ticks": "outside",
           "title": {
            "standoff": 15
           },
           "zeroline": false,
           "zerolinecolor": "rgb(36,36,36)"
          },
          "yaxis": {
           "automargin": true,
           "gridcolor": "rgb(232,232,232)",
           "linecolor": "rgb(36,36,36)",
           "showgrid": false,
           "showline": true,
           "ticks": "outside",
           "title": {
            "standoff": 15
           },
           "zeroline": false,
           "zerolinecolor": "rgb(36,36,36)"
          }
         }
        },
        "title": {
         "font": {
          "color": "Black",
          "size": 22
         },
         "text": "<b>Topics over Time</b>",
         "x": 0.4,
         "xanchor": "center",
         "y": 0.95,
         "yanchor": "top"
        },
        "width": 1250,
        "xaxis": {
         "showgrid": true
        },
        "yaxis": {
         "showgrid": true,
         "title": {
          "text": "Frequency"
         }
        }
       }
      }
     },
     "metadata": {},
     "output_type": "display_data"
    }
   ],
   "source": [
    "topics_over_time = topic_model_merged.topics_over_time(docs, df['year_month'])#, nr_bins=20)\n",
    "fig = topic_model_merged.visualize_topics_over_time(topics_over_time, custom_labels=True)\n",
    "save_graph_html(fig, \"../data/graphs/Clustering/topic_in_time\", \"new_topic_merged_time_by_months\")\n",
    "fig"
   ]
  },
  {
   "cell_type": "code",
   "execution_count": 43,
   "metadata": {},
   "outputs": [],
   "source": [
    "### Graph heatmap\n",
    "\n",
    "fig = topic_model_merged.visualize_heatmap(custom_labels=True, n_clusters=4, height=600)\n",
    "# Save the figure as an HTML file\n",
    "# save_graph_html(fig, \"../data/graphs/Clustering/heatmap\", \"new_topic_merged_heatmap\")\n",
    "\n",
    "fig2 = topic_model.visualize_heatmap(n_clusters=7,  height=750)\n",
    "# Save the figure as an HTML file\n",
    "# save_graph_html(fig2, \"../data/graphs/Clustering/heatmap\", \"new_topic_heatmap\")\n",
    "\n",
    "# fig2"
   ]
  },
  {
   "cell_type": "code",
   "execution_count": 8,
   "metadata": {},
   "outputs": [],
   "source": [
    "# Get the topic and keywords\n",
    "topic_keywords = {}\n",
    "n = 10  # Number of keywords to include\n",
    "for topic in topic_model.get_topics().keys():\n",
    "    topic_words = [word for word, _ in topic_model.get_topic(topic)[:n]]\n",
    "    topic_keywords[topic] = \", \".join(topic_words)\n",
    "\n",
    "df['topic'] = topics\n",
    "df['keywords'] = df['topic'].map(topic_keywords)\n",
    "\n",
    "# Add the label and keywords columns to the dataframe\n",
    "topic_labels_dict[-1] = 'Outlier'\n",
    "df['label'] = df['topic'].map(topic_labels_dict)\n",
    "\n",
    "# Get a list of the topics in the correct order, excluding topic -1\n",
    "topic_order = [topic for topic in topic_model.get_topics().keys() if topic != -1]\n",
    "\n",
    "# Create a dictionary where the keys are the topic labels and the values are the probabilities\n",
    "proba_dict = []\n",
    "for proba in probs:\n",
    "    proba_dict.append(dict(sorted(zip(topic_order, proba), key=lambda item: item[1], reverse=True)))\n",
    "    \n",
    "# Add the proba_dict column to the new dataframe\n",
    "df['proba_dict'] = proba_dict"
   ]
  },
  {
   "cell_type": "code",
   "execution_count": 9,
   "metadata": {},
   "outputs": [],
   "source": [
    "df.to_csv(\"../data/csv_files/schneider_all_processed_labelled_full_newBertopic.csv\", index=False)"
   ]
  },
  {
   "cell_type": "code",
   "execution_count": null,
   "metadata": {},
   "outputs": [],
   "source": []
  },
  {
   "cell_type": "code",
   "execution_count": null,
   "metadata": {},
   "outputs": [],
   "source": []
  },
  {
   "cell_type": "code",
   "execution_count": null,
   "metadata": {},
   "outputs": [],
   "source": []
  }
 ],
 "metadata": {
  "kernelspec": {
   "display_name": "wassati",
   "language": "python",
   "name": "python3"
  },
  "language_info": {
   "codemirror_mode": {
    "name": "ipython",
    "version": 3
   },
   "file_extension": ".py",
   "mimetype": "text/x-python",
   "name": "python",
   "nbconvert_exporter": "python",
   "pygments_lexer": "ipython3",
   "version": "3.9.-1"
  }
 },
 "nbformat": 4,
 "nbformat_minor": 2
}
