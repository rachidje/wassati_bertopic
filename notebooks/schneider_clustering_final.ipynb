{
 "cells": [
  {
   "cell_type": "code",
   "execution_count": 3,
   "metadata": {},
   "outputs": [
    {
     "data": {
      "text/plain": [
       "True"
      ]
     },
     "execution_count": 3,
     "metadata": {},
     "output_type": "execute_result"
    }
   ],
   "source": [
    "import pandas as pd\n",
    "import numpy as np\n",
    "import matplotlib.pyplot as plt\n",
    "import nltk\n",
    "import pickle\n",
    "import string, re, copy\n",
    "from tqdm import tqdm\n",
    "from wordcloud import WordCloud\n",
    "\n",
    "from transformers import AutoTokenizer, AutoModelForSequenceClassification, TrainingArguments, Trainer, pipeline, DataCollatorWithPadding\n",
    "import torch\n",
    "from bertopic import BERTopic\n",
    "from bertopic.vectorizers import ClassTfidfTransformer\n",
    "from bertopic.representation import KeyBERTInspired, MaximalMarginalRelevance\n",
    "from sklearn.feature_extraction.text import CountVectorizer, TfidfVectorizer\n",
    "from umap import UMAP\n",
    "from sentence_transformers import SentenceTransformer\n",
    "from keybert import KeyBERT\n",
    "\n",
    "# vocabulary stored in cache to avoid compute it every time \n",
    "vocabulary_cache = {}\n",
    "# embeddings stored in cache to avoid compute it every time \n",
    "embeddings_cache = {}\n",
    "\n",
    "torch.cuda.is_available()"
   ]
  },
  {
   "cell_type": "code",
   "execution_count": 8,
   "metadata": {},
   "outputs": [],
   "source": [
    "############################# STEP 1 - PREPROCESS DATA ######################################\n",
    "\n",
    "\n",
    "# Read the excel review file\n",
    "df = pd.read_excel(\"/media/cattiaux/DATA/Wassati/team_data/schneider/OEM_Verbatims_base.xlsx\", engine='openpyxl')\n",
    "\n",
    "# Filter the countries we want to copy the original comment (those in english) in the translation column for comment\n",
    "# Define the list of countries you want to update\n",
    "countries_to_update = ['Australia', 'Canada', 'Egypt','India','Ireland','Kuwait','Malaysia','New Zealand','Oman','Pakistan','Qatar','Saudi Arabia','Singapore','South Africa','USA','Taiwan','United Arab Emirates','United Kingdom']\n",
    "# Concatenate all comment column with english content\n",
    "columns_to_join = ['Translation_Customer_Comments', 'Translation_Overall_Additional_Comments', 'Translation_Anything_Else_Comment', 'Translation_Reason_for_Score_Comment']\n",
    "# Define a list of words to filter\n",
    "words_to_filter = ['no','not','none','nil','ok','okay','ras','done','nothing','hi','all','thanks','well','everything','right','very','no problem','great','good','bad','excellent','particularly']\n",
    "\n",
    "# Define a dictionary of words replacements\n",
    "replacements = {' se ': ' schneider electric ',\n",
    "                'delivery dates': 'delivery date',\n",
    "                'time delivery': 'delivery time',\n",
    "                'delivered time': 'delivery time',\n",
    "                'solved problem': 'solve problem',\n",
    "                'solve problems': 'solve problem',\n",
    "                'tech support': 'technical support',\n",
    "                'circuit breaker': 'circuit breakers',\n",
    "                'called back': 'call back',\n",
    "                'lead times': 'lead time',\n",
    "                'leadtime': 'lead time',\n",
    "                'support service': 'service support',\n",
    "                'sales representatives': 'sales representative',\n",
    "                'service sales': 'sales service',\n",
    "                'account managers': 'account manager',\n",
    "                'power supplies': 'power supply',\n",
    "                'touch panels': 'touch panel',\n",
    "                'touch screens': 'touch screen',\n",
    "                'frequency inverter': 'frequency inverters',\n",
    "                'frequency converter': 'frequency converters',\n",
    "                'servo motor': 'servo motors',\n",
    "                'servomotor': 'servo motors',\n",
    "                'servomotors': 'servo motors',\n",
    "                'control system': 'control systems',\n",
    "                'electrical component': 'electrical components',\n",
    "                'control cabinet': 'control cabinets',\n",
    "                'speed drive': 'speed drives',\n",
    "                'push button': 'push buttons',\n",
    "                'touchscreen': 'touch screen',\n",
    "                'spare parts': 'spare part',\n",
    "                'becuase': 'because',\n",
    "                'xxxx': ''\n",
    "                }\n",
    "\n",
    "def filter_and_join_columns(df, columns_to_join, join_column_name, words_to_filter, sep):\n",
    "    \"\"\"\n",
    "    Filter rows of a DataFrame where any of the specified columns contains only punctuation marks or only one or more occurrences of the specified words, possibly mixed with punctuation marks, and then join the content from the specified columns using a separator.\n",
    "    \n",
    "    :param df: A DataFrame to filter and join\n",
    "    :type df: pandas.DataFrame\n",
    "    :param columns_to_join: A list of column names to join\n",
    "    :type columns_to_join: list of str\n",
    "    :param words_to_filter: A list of words to filter\n",
    "    :type words_to_filter: list of str\n",
    "    :param sep: A separator string to use between values when joining columns\n",
    "    :type sep: str\n",
    "    :return: A DataFrame containing the filtered and joined rows\n",
    "    :rtype: pandas.DataFrame\n",
    "    \"\"\"\n",
    "    # Create a regular expression pattern to match values that contain only punctuation marks or only one or more occurrences of the specified words, possibly mixed with punctuation marks\n",
    "    pattern = r'^\\s*[\\W\\s]*\\s*$|^\\s*(\\W*\\b(' + '|'.join(re.escape(word) for word in words_to_filter) + r')\\b\\W*)+\\s*$'\n",
    "    \n",
    "    # Define a custom function to filter rows where any of the specified columns contains only punctuation marks or only one or more occurrences of the specified words, possibly mixed with punctuation marks. It filters also the non-ASCII characters\n",
    "    def filter_rows(row):\n",
    "        for col in columns_to_join:\n",
    "            value = row[col]\n",
    "            if pd.notnull(value):\n",
    "                # Filter out non-ASCII characters from the value\n",
    "                value = value.encode('ascii', 'ignore').decode('ascii')\n",
    "                if re.search(pattern, value, re.IGNORECASE):\n",
    "                    return False\n",
    "        return True\n",
    "    \n",
    "    # Filter the DataFrame using the custom filter_rows function\n",
    "    filtered_df = df[df.apply(filter_rows, axis=1)]\n",
    "    \n",
    "    # Define a custom function to join the content from the specified columns using a separator\n",
    "    def join_columns(row):\n",
    "        values = []\n",
    "        for col in columns_to_join:\n",
    "            value = row[col]\n",
    "            if pd.notnull(value) and value.strip():\n",
    "                if values and values[-1][-1] not in string.punctuation:\n",
    "                    values.append(sep)\n",
    "                else:\n",
    "                    values.append(' ')\n",
    "                values.append(value)\n",
    "        return ''.join(values).strip()\n",
    "    \n",
    "    # Join the content from the specified columns using the custom join_columns function\n",
    "    filtered_df[join_column_name] = filtered_df.apply(join_columns, axis=1)\n",
    "\n",
    "    # Return the resulting DataFrame containing the filtered and joined rows\n",
    "    return filtered_df[filtered_df[join_column_name].str.len() > 0]\n",
    "\n",
    "def preprocess_data(df, countries_to_update, columns_to_join, join_column_name, words_to_filter, replacements):\n",
    "    \"\"\"\n",
    "    Preprocess a DataFrame of data.\n",
    "\n",
    "    This function takes a DataFrame of data, a list of countries to update, a list of columns to join and a list of words to filter as input. It adds additional columns to the DataFrame, renames some columns for readability, updates the translation columns for specific rows, and concatenates all comment columns with English content. The modified DataFrame is then returned.\n",
    "\n",
    "    :param df: A DataFrame of input data.\n",
    "    :param countries_to_update: A list of countries for which to update the translation columns.\n",
    "    :param columns_to_join: A list of columns to join.\n",
    "    :param words_to_filter: A list of words to filter.\n",
    "    :return: A modified DataFrame with additional columns, renamed columns, updated translation columns, and concatenated comment columns.\n",
    "    \"\"\"\n",
    "\n",
    "    # add some additional info as columns\n",
    "    df['year'] = pd.DatetimeIndex(df[\"Creation Date\"]).year\n",
    "    df['id'] = range(len(df))\n",
    "    \n",
    "    # Rename columns for readability\n",
    "    df = df.rename(columns={\n",
    "        'Translation to English for: Customer Comments (edited)': 'Translation_Customer_Comments',\n",
    "        'Customer Comments (edited)': 'Customer_Comments',\n",
    "        'Translation to English for: Overall Additional Comments (edited)': 'Translation_Overall_Additional_Comments',\n",
    "        'Overall Additional Comments (edited)': 'Overall_Additional_Comments',\n",
    "        'Translation to English for: Anything else comment': 'Translation_Anything_Else_Comment',\n",
    "        'Anything else comment': 'Anything_Else_Comment',\n",
    "        'Translation to English for: Reason for score comment': 'Translation_Reason_for_Score_Comment',\n",
    "        'Reason for score comment': 'Reason_for_Score_Comment'\n",
    "    })\n",
    "\n",
    "    # Create a mask to filter the rows where the 'Account Countries' column is in the list of countries to update\n",
    "    mask1 = df['Account Country'].isin(countries_to_update)\n",
    "\n",
    "    # Update the translation columns only for the rows where the mask1 is True\n",
    "    mask2 = ((df['Customer_Comments'] != '') & df['Customer_Comments'].notnull()) & df['Translation_Customer_Comments'].isnull()\n",
    "    mask = mask1 & mask2\n",
    "    df.loc[mask, 'Translation_Customer_Comments'] = df.loc[mask, 'Customer_Comments']\n",
    "\n",
    "    mask2 = ((df['Overall_Additional_Comments'] != '') & df['Overall_Additional_Comments'].notnull()) & df['Translation_Overall_Additional_Comments'].isnull()\n",
    "    mask = mask1 & mask2\n",
    "    df.loc[mask, 'Translation_Overall_Additional_Comments'] = df.loc[mask, 'Overall_Additional_Comments']\n",
    "\n",
    "    mask2 = ((df['Anything_Else_Comment'] != '') & df['Anything_Else_Comment'].notnull()) & df['Translation_Anything_Else_Comment'].isnull()\n",
    "    mask = mask1 & mask2\n",
    "    df.loc[mask, 'Translation_Anything_Else_Comment'] = df.loc[mask, 'Anything_Else_Comment']\n",
    "\n",
    "    mask2 = ((df['Reason_for_Score_Comment'] != '') & df['Reason_for_Score_Comment'].notnull()) & df['Translation_Reason_for_Score_Comment'].isnull()\n",
    "    mask = mask1 & mask2\n",
    "    df.loc[mask, 'Translation_Reason_for_Score_Comment'] = df.loc[mask, 'Reason_for_Score_Comment']\n",
    "\n",
    "    # Concatenate all comment column with english content\n",
    "    # Call the filter_and_join_columns function to filter and join the DataFrame\n",
    "    df = filter_and_join_columns(df, columns_to_join, join_column_name, words_to_filter, '. ')\n",
    "\n",
    "    # Remove punctuation added to join the comment column in order to filter empty comment\n",
    "    df = df[df['allComment'].str.strip('. ').str.len() > 0]\n",
    "\n",
    "    # Filter out non-ASCII characters for comments that have both original language and translation in the same spot\n",
    "    df['allComment'] = df['allComment'].str.encode('ascii', 'ignore').str.decode('ascii') \n",
    "    df = df[df['allComment'].str.len() > 0]\n",
    "\n",
    "    # Define an inner replace_words function\n",
    "    def replace_words(series):\n",
    "        # Lowercase the documents\n",
    "        series = series.str.lower()\n",
    "        \n",
    "        # Iterate over the word replacements\n",
    "        for old_word, new_word in replacements.items():\n",
    "            # Replace the old word with the new word in the documents using the str.replace method\n",
    "            series = series.str.replace(old_word, new_word, regex=False)\n",
    "        \n",
    "        # Return the modified series as a Pandas Series\n",
    "        return series\n",
    "    \n",
    "    # Call the inner replace_words function on the 'allComment' column\n",
    "    df[join_column_name] = replace_words(df[join_column_name])\n",
    "\n",
    "    return df\n",
    "\n",
    "def replace_words(docs, replacements):\n",
    "    \"\"\"\n",
    "    Replace words in a list of documents.\n",
    "\n",
    "    This function takes a list of documents and a dictionary of word replacements as input. It iterates over the input documents, lowercases them, and replaces the old words with the new words specified in the replacements dictionary. The modified documents are then returned as a new list.\n",
    "\n",
    "    :param docs: A list of input documents, where each document is a string.\n",
    "    :param replacements: A dictionary of word replacements, where the keys are the old words to be replaced and the values are the new words to replace them with.\n",
    "    :return: A list of modified documents, where the old words have been replaced with the new words.\n",
    "    \"\"\"\n",
    "    \n",
    "    # Initialize an empty list to store the modified documents\n",
    "    new_docs = []\n",
    "\n",
    "    # Iterate over the input documents\n",
    "    for doc in docs:\n",
    "        # Lowercase the document\n",
    "        doc = doc.lower()\n",
    "        # Iterate over the words replacements\n",
    "        for old_word, new_word in replacements.items():\n",
    "            # Replace the old word with the new word in the document\n",
    "            doc = doc.replace(old_word, new_word)\n",
    "\n",
    "        # Add the modified document to the list of new documents\n",
    "        new_docs.append(doc)\n",
    "\n",
    "    return new_docs\n",
    "\n",
    "\n",
    "# Filter the countries we want to copy the original comment (those in english) in the translation column for comment\n",
    "df = preprocess_data(df, countries_to_update, columns_to_join, \"allComment\", words_to_filter, replacements)\n",
    "\n",
    "# Put the data in the correct format for bertopic\n",
    "docs = df[\"allComment\"].astype(str).tolist()\n",
    "\n",
    "# Call the replace_words function to replace the specified bigrams in the documents\n",
    "docs = replace_words(docs, replacements)"
   ]
  },
  {
   "cell_type": "code",
   "execution_count": null,
   "metadata": {},
   "outputs": [],
   "source": [
    "############################# STEP 2 - COMPUTE CUSTOM VOCABULARY ###############################\n",
    "\n",
    "\n",
    "# list of the ngrams wanted for our data\n",
    "ngrams_list = ['schneider electric','supply chain','solve problem','lead time','price performance ratio','price quality ratio','pro face','spare part',\n",
    "           'product range','product line','user friendly','data sheets','allen bradley',\n",
    "           'technical support','tehnical assistance','technical team','technical service',\n",
    "           'delivery time','long time','delivery date','response time','quick response',\n",
    "           'customer service','customer center','customer support','contact person','service support','call center','call back',\n",
    "           'sales service','sales team','account manager','pre sales','sales representative',\n",
    "           'circuit breakers','frequency converters','low voltage','touch panel','frequency inverters','push buttons','electrical components','control cabinets','touch screen','control systems','servo motors','power supply','speed drives',\n",
    "           'alles tip top','alles tip','sinan chalabi']\n",
    "\n",
    "def create_custom_vocabulary(docs, ngrams_list, model_name=\"all-MiniLM-L6-v2\", **kwargs):\n",
    "    \"\"\"\n",
    "    Create a custom vocabulary from a list of documents using KeyBERT.\n",
    "\n",
    "    This function takes a list of documents, a list of custom n-grams, and an optional model name as input. It preprocesses the documents by replacing the custom n-grams with single tokens containing underscores. Then, it initializes a GPU-enabled SentenceTransformer model and uses KeyBERT to extract keywords from the preprocessed documents. The extracted keywords are postprocessed by replacing single tokens with the original n-grams and removing duplicates to create the custom vocabulary. The vocabulary is cached for future use and returned as a list of strings.\n",
    "\n",
    "    :param docs: A list of input documents, where each document is a string.\n",
    "    :param ngrams_list: A list of custom n-grams to be replaced with single tokens during preprocessing.\n",
    "    :param model_name: An optional string specifying the name of the SentenceTransformer model to use. Defaults to \"all-MiniLM-L6-v2\".\n",
    "    :param kwargs: Additional keyword arguments to be passed to the KeyBERT `extract_keywords` method.\n",
    "    :return: A list of strings representing the custom vocabulary created from the input documents.\n",
    "    \"\"\"\n",
    "\n",
    "    # Preprocess documents by replacing custom n-grams with single tokens with underscore \"_\"\n",
    "    preprocessed_docs = []\n",
    "    for doc in docs:\n",
    "        for ngram in ngrams_list:\n",
    "            if ngram in doc:\n",
    "                ngram_underscore = ngram.replace(\" \",\"_\")\n",
    "                doc = doc.replace(ngram, ngram_underscore)\n",
    "        preprocessed_docs.append(doc)\n",
    "\n",
    "    # Initialize a GPU-enabled SentenceTransformer model\n",
    "    model = SentenceTransformer(model_name, device=\"cuda\")\n",
    "\n",
    "    # Create custom vocabulary with KeyBERT\n",
    "    # Use the vocabulary in cache if it exists otherwise compute it and store it in cache\n",
    "    cache_key = (hash(str(preprocessed_docs)), hash(str(ngrams_list)), hash(model_name), hash(str(kwargs)))\n",
    "    if cache_key in vocabulary_cache:\n",
    "        vocabulary = vocabulary_cache[cache_key]\n",
    "        return vocabulary\n",
    "    else:\n",
    "        # Extract keywords\n",
    "        kw_model = KeyBERT(model=model)\n",
    "        keywords = kw_model.extract_keywords(preprocessed_docs, **kwargs)\n",
    "        \n",
    "        # Flatten the list of lists and remove duplicates to create the vocabulary\n",
    "        vocabulary = list(set([word for sublist in keywords for word, score in sublist]))\n",
    "\n",
    "        # Postprocess extracted keywords by replacing single tokens with original n-grams\n",
    "        postprocessed_vocab = []\n",
    "        for keyword in vocabulary:\n",
    "            space_keyword = keyword.replace(\"_\",\" \")\n",
    "            if space_keyword in ngrams_list:\n",
    "                keyword = space_keyword\n",
    "            postprocessed_vocab.append(keyword)\n",
    "\n",
    "        vocabulary_cache[cache_key] = postprocessed_vocab\n",
    "        return postprocessed_vocab\n",
    "\n",
    "# NLTK English stopwords\n",
    "nltk.download('stopwords')\n",
    "stopwords = nltk.corpus.stopwords.words('english')\n",
    "# add stopwords to the list from nltk\n",
    "more_stopwords = ['schneider electric','se','schneider','schneiders','also','xxx','xxxx','xxxxx','ok','okk','okay','ras','na','nil','none','mr','mrs','monsieur','thank','esther','ester','paulo','paolo','sadao','carlos','pereira','ken','benoit','sergio','catalina','cesar','rufo','moraleda','ferrer','guido','smekens','castelli','muiz','roberto','matteo','guerriera','mike','elena','isabel','jurrie','javier','anna','fernandez','reyes','cichinelli','inicio','incio','jos','fabio','canedo','mituo','eduardo','roberto','santos','inicio','silva','arnaldo','sgueglia','squeglia','sandrine','laroche','lavinia','salerno','fahler','rodriguez','perez','prieto','heleni','henri','henrique','henrik','sammy','gregoire','denis','thomas','divani','flavio','rosetti','fabbri','danilo','evandro','sahil','kundli','maggico','cindy','martin','gabrielsson','edoardo','martha','ponte','aponte','pinkowitz','cortese','nicole','gahner','maulady','ahmad','heidi','okino','wang','jason','james','rhandzi','cecil','went','goes','thanks','thank','alles tip','alles tip top','66666666666666','000000000000000','666666666','eng','particular','particularly','alles']\n",
    "stopwords.extend(more_stopwords)\n",
    "\n",
    "# Create vocabulary with KeyBERT using custom ngrams list\n",
    "vocabulary = create_custom_vocabulary(docs, ngrams_list, top_n=4, use_mmr=True, stop_words=stopwords, keyphrase_ngram_range=(1,1), nr_candidates=12)"
   ]
  },
  {
   "cell_type": "code",
   "execution_count": null,
   "metadata": {},
   "outputs": [],
   "source": [
    "############################# STEP 3 - RUN BERTOPIC MODEL ###############################\n",
    "\n",
    "\n",
    "# NLTK English stopwords\n",
    "nltk.download('stopwords')\n",
    "stopwords = nltk.corpus.stopwords.words('english')\n",
    "# add stopwords to the list from nltk\n",
    "more_stopwords = ['schneider electric','se','schneider','schneiders','also','xxx','xxxx','xxxxx','ok','okk','okay','ras','na','nil','none','mr','mrs','monsieur','thank','esther','ester','paulo','paolo','sadao','carlos','pereira','ken','benoit','sergio','catalina','cesar','rufo','moraleda','ferrer','guido','smekens','castelli','muiz','roberto','matteo','guerriera','mike','elena','isabel','jurrie','javier','anna','fernandez','reyes','cichinelli','inicio','incio','jos','fabio','canedo','mituo','eduardo','roberto','santos','inicio','silva','arnaldo','sgueglia','squeglia','sandrine','laroche','lavinia','salerno','fahler','rodriguez','perez','prieto','heleni','henri','henrique','henrik','sammy','gregoire','denis','thomas','divani','flavio','rosetti','fabbri','danilo','evandro','sahil','kundli','maggico','cindy','martin','gabrielsson','edoardo','martha','ponte','aponte','pinkowitz','cortese','nicole','gahner','maulady','ahmad','heidi','okino','wang','jason','james','rhandzi','cecil','went','goes','thanks','thank','alles tip','alles tip top','66666666666666','000000000000000','666666666','eng','particular','particularly','alles']\n",
    "stopwords.extend(more_stopwords)\n",
    "\n",
    "\n",
    "def run_bertopic(docs, model_name=\"all-MiniLM-L6-v2\", **kwargs):\n",
    "    \"\"\"\n",
    "    Run BERTopic on a list of documents.\n",
    "\n",
    "    This function takes a list of documents, an optional model name, and additional keyword arguments as input. It extracts embeddings for the input documents using a SentenceTransformer model and caches them for future use. Then, it runs BERTopic on the input documents and embeddings and returns the resulting topics and probabilities.\n",
    "\n",
    "    :param docs: A list of input documents, where each document is a string.\n",
    "    :param model_name: An optional string specifying the name of the SentenceTransformer model to use. Defaults to \"all-MiniLM-L6-v2\".\n",
    "    :param kwargs: Additional keyword arguments to be passed to the BERTopic constructor.\n",
    "    :return: A tuple containing two elements: a list of topics assigned to each input document, and a matrix of topic probabilities for each input document.\n",
    "    \"\"\"\n",
    "\n",
    "    # Extract embeddings\n",
    "    cache_key = (hash(str(docs)), hash(model_name))\n",
    "    if cache_key in embeddings_cache:\n",
    "        sentence_model = SentenceTransformer(model_name, device=\"cuda\")\n",
    "        embeddings = embeddings_cache[cache_key]\n",
    "    else:\n",
    "        # compute embeddings using GPU\n",
    "        sentence_model = SentenceTransformer(model_name, device=\"cuda\")\n",
    "        embeddings = sentence_model.encode(docs, show_progress_bar=True)\n",
    "        # store embeddings in cache\n",
    "        embeddings_cache[cache_key] = embeddings\n",
    "\n",
    "    # Run BERTopic\n",
    "    topic_model = BERTopic(embedding_model=sentence_model, **kwargs)\n",
    "    topics, probs = topic_model.fit_transform(docs, embeddings)\n",
    "\n",
    "    return topics, probs, topic_model\n",
    "\n",
    "# Prepare sub-models\n",
    "custom_vectorizer_model = CountVectorizer(vocabulary=vocabulary, stop_words=stopwords, lowercase=True, ngram_range=(1, 2))\n",
    "# custom_vectorizer_model.fit(docs)\n",
    "    # Create your representation model\n",
    "representation_model = KeyBERTInspired()\n",
    "representation_model_MMR = MaximalMarginalRelevance(diversity=0.5) # Diversify topic representation\n",
    "representation_models = [KeyBERTInspired(), MaximalMarginalRelevance(diversity=0.3)] \n",
    "ctfidf_model = ClassTfidfTransformer(reduce_frequent_words=True)\n",
    "\n",
    "# Our set of predefined labels\n",
    "labels = [['product','features','performance','software','framework','touch screen','sensor','drive','servo motors','license','manual','cad','sensor','eocr','pro face','proface','atv','converter','inverter','frequency converters','tcp','modbus','vijeo','gp','control cabinet','cupboard'],\n",
    "['pricing','price','offers','orders','payment','invoice','quote','quotation'],\n",
    "['quality','reliability','warranty','repair','maintenance','incident','fault','complication','issue'],\n",
    "['delivery','logistic','delay','stock','shipping','lead time','deadline','package','ddt'],\n",
    "['customer support','feedback','communication','technical support','technician','customer service','assistance','support','chat','email','telephone','ticket','attendance','interlocutor','operator','response','resolution','intervention','help','guidance','query','inquiry','answer','solve','experience','uncomfy','inconvenient','agility','competence','professionalism','explanation','remark','improvement'],\n",
    "['business relation','factories','supplier','cooperation','partnership','oem','business','commercial','siemens'],\n",
    "['reputation','public perception','brand image','gratitude','reliability']]\n",
    "\n",
    "topics, probs, topic_model = run_bertopic(docs, vectorizer_model=custom_vectorizer_model, ctfidf_model=ctfidf_model, representation_model=representation_models, calculate_probabilities=False, top_n_words=20, min_topic_size=50, seed_topic_list=labels)"
   ]
  },
  {
   "cell_type": "code",
   "execution_count": null,
   "metadata": {},
   "outputs": [],
   "source": [
    "topic_model.get_topic_freq().head(30)"
   ]
  },
  {
   "cell_type": "code",
   "execution_count": 9,
   "metadata": {},
   "outputs": [
    {
     "name": "stderr",
     "output_type": "stream",
     "text": [
      "[nltk_data] Downloading package stopwords to\n",
      "[nltk_data]     /home/cattiaux/nltk_data...\n",
      "[nltk_data]   Package stopwords is already up-to-date!\n"
     ]
    }
   ],
   "source": [
    "# Read the excel review file\n",
    "df = pd.read_excel(\"/media/cattiaux/DATA/Wassati/team_data/schneider/OEM_Verbatims_base.xlsx\", engine='openpyxl')\n",
    "\n",
    "# Filter the countries we want to copy the original comment (those in english) in the translation column for comment\n",
    "# Define the list of countries you want to update\n",
    "countries_to_update = ['Australia', 'Canada', 'Egypt','India','Ireland','Kuwait','Malaysia','New Zealand','Oman','Pakistan','Qatar','Saudi Arabia','Singapore','South Africa','USA','Taiwan','United Arab Emirates','United Kingdom']\n",
    "# Concatenate all comment column with english content\n",
    "columns_to_join = ['Translation_Customer_Comments', 'Translation_Overall_Additional_Comments', 'Translation_Anything_Else_Comment', 'Translation_Reason_for_Score_Comment']\n",
    "# Define a list of words to filter\n",
    "words_to_filter = ['no','not','none','nil','ok','okay','ras','done','nothing','hi','all','thanks','well','everything','right','very','no problem','great','good','bad','excellent','particularly']\n",
    "\n",
    "# Define a dictionary of words replacements\n",
    "replacements = {' se ': ' schneider electric ',\n",
    "                'delivery dates': 'delivery date',\n",
    "                'time delivery': 'delivery time',\n",
    "                'delivered time': 'delivery time',\n",
    "                'solved problem': 'solve problem',\n",
    "                'solve problems': 'solve problem',\n",
    "                'tech support': 'technical support',\n",
    "                'circuit breaker': 'circuit breakers',\n",
    "                'called back': 'call back',\n",
    "                'lead times': 'lead time',\n",
    "                'leadtime': 'lead time',\n",
    "                'support service': 'service support',\n",
    "                'sales representatives': 'sales representative',\n",
    "                'service sales': 'sales service',\n",
    "                'account managers': 'account manager',\n",
    "                'power supplies': 'power supply',\n",
    "                'touch panels': 'touch panel',\n",
    "                'touch screens': 'touch screen',\n",
    "                'frequency inverter': 'frequency inverters',\n",
    "                'frequency converter': 'frequency converters',\n",
    "                'servo motor': 'servo motors',\n",
    "                'servomotor': 'servo motors',\n",
    "                'servomotors': 'servo motors',\n",
    "                'control system': 'control systems',\n",
    "                'electrical component': 'electrical components',\n",
    "                'control cabinet': 'control cabinets',\n",
    "                'speed drive': 'speed drives',\n",
    "                'push button': 'push buttons',\n",
    "                'touchscreen': 'touch screen',\n",
    "                'spare parts': 'spare part',\n",
    "                ' plcs': ' programmable logic controller',\n",
    "                ' plc': ' programmable logic controller',\n",
    "                # ' apc': 'american power conversion',\n",
    "                ' upss': ' uninterruptible power supply',\n",
    "                'becuase': 'because',\n",
    "                'xxxx': ''\n",
    "                }\n",
    "\n",
    "# list of the ngrams wanted for our data\n",
    "ngrams_list = ['schneider electric','supply chain','solve problem','lead time','price performance ratio','price quality ratio','pro face','spare part','programmable logic controller', 'uninterruptible power supply', #'american power conversion',\n",
    "           'product range','product line','user friendly','data sheets','allen bradley',\n",
    "           'technical support','tehnical assistance','technical team','technical service',\n",
    "           'delivery time','long time','delivery date','response time','quick response',\n",
    "           'customer service','customer center','customer support','contact person','service support','call center','call back',\n",
    "           'sales service','sales team','account manager','pre sales','sales representative',\n",
    "           'circuit breakers','frequency converters','low voltage','touch panel','frequency inverters','push buttons','electrical components','control cabinets','touch screen','control systems','servo motors','power supply','speed drives',\n",
    "           'alles tip top','alles tip','sinan chalabi']\n",
    "\n",
    "# NLTK English stopwords\n",
    "nltk.download('stopwords')\n",
    "stopwords = nltk.corpus.stopwords.words('english')\n",
    "# add stopwords to the list from nltk\n",
    "more_stopwords = ['schneider electric','se','schneider','schneiders','also','xxx','xxxx','xxxxx','ok','okk','okay','ras','na','nil','none','mr','mrs','monsieur','thank','esther','ester','paulo','paolo','sadao','carlos','pereira','ken','benoit','sergio','catalina','cesar','rufo','moraleda','ferrer','guido','smekens','castelli','muiz','roberto','matteo','guerriera','mike','elena','isabel','jurrie','javier','anna','fernandez','reyes','cichinelli','inicio','incio','jos','fabio','canedo','mituo','eduardo','roberto','santos','inicio','silva','arnaldo','sgueglia','squeglia','sandrine','laroche','lavinia','salerno','fahler','rodriguez','perez','prieto','heleni','henri','henrique','henrik','sammy','gregoire','denis','thomas','divani','flavio','rosetti','fabbri','danilo','evandro','sahil','kundli','maggico','cindy','martin','gabrielsson','edoardo','martha','ponte','aponte','pinkowitz','cortese','nicole','gahner','maulady','ahmad','heidi','okino','wang','jason','james','rhandzi','cecil','went','goes','thanks','thank','alles tip','alles tip top','66666666666666','000000000000000','666666666','eng','particular','particularly','alles']\n",
    "stopwords.extend(more_stopwords)\n",
    "\n",
    "# def preprocess_data(df, countries_to_update):\n",
    "#     \"\"\"\n",
    "#     Preprocess a DataFrame of data.\n",
    "\n",
    "#     This function takes a DataFrame of data and a list of countries to update as input. It adds additional columns to the DataFrame, renames some columns for readability, updates the translation columns for specific rows, and concatenates all comment columns with English content. The modified DataFrame is then returned.\n",
    "\n",
    "#     :param df: A DataFrame of input data.\n",
    "#     :param countries_to_update: A list of countries for which to update the translation columns.\n",
    "#     :return: A modified DataFrame with additional columns, renamed columns, updated translation columns, and concatenated comment columns.\n",
    "#     \"\"\"\n",
    "\n",
    "#     # add some additional info as columns\n",
    "#     df['year'] = pd.DatetimeIndex(df[\"Creation Date\"]).year\n",
    "#     df['id'] = range(len(df))\n",
    "    \n",
    "#     # Rename columns for readability\n",
    "#     df = df.rename(columns={\n",
    "#         'Translation to English for: Customer Comments (edited)': 'Translation_Customer_Comments',\n",
    "#         'Customer Comments (edited)': 'Customer_Comments',\n",
    "#         'Translation to English for: Overall Additional Comments (edited)': 'Translation_Overall_Additional_Comments',\n",
    "#         'Overall Additional Comments (edited)': 'Overall_Additional_Comments',\n",
    "#         'Translation to English for: Anything else comment': 'Translation_Anything_Else_Comment',\n",
    "#         'Anything else comment': 'Anything_Else_Comment',\n",
    "#         'Translation to English for: Reason for score comment': 'Translation_Reason_for_Score_Comment',\n",
    "#         'Reason for score comment': 'Reason_for_Score_Comment'\n",
    "#     })\n",
    "\n",
    "#     # Create a mask to filter the rows where the 'Account Countries' column is in the list of countries to update\n",
    "#     mask1 = df['Account Country'].isin(countries_to_update)\n",
    "\n",
    "#     # Update the translation columns only for the rows where the mask1 is True\n",
    "#     mask2 = ((df['Customer_Comments'] != '') & df['Customer_Comments'].notnull()) & df['Translation_Customer_Comments'].isnull()\n",
    "#     mask = mask1 & mask2\n",
    "#     df.loc[mask, 'Translation_Customer_Comments'] = df.loc[mask, 'Customer_Comments']\n",
    "\n",
    "#     mask2 = ((df['Overall_Additional_Comments'] != '') & df['Overall_Additional_Comments'].notnull()) & df['Translation_Overall_Additional_Comments'].isnull()\n",
    "#     mask = mask1 & mask2\n",
    "#     df.loc[mask, 'Translation_Overall_Additional_Comments'] = df.loc[mask, 'Overall_Additional_Comments']\n",
    "\n",
    "#     mask2 = ((df['Anything_Else_Comment'] != '') & df['Anything_Else_Comment'].notnull()) & df['Translation_Anything_Else_Comment'].isnull()\n",
    "#     mask = mask1 & mask2\n",
    "#     df.loc[mask, 'Translation_Anything_Else_Comment'] = df.loc[mask, 'Anything_Else_Comment']\n",
    "\n",
    "#     mask2 = ((df['Reason_for_Score_Comment'] != '') & df['Reason_for_Score_Comment'].notnull()) & df['Translation_Reason_for_Score_Comment'].isnull()\n",
    "#     mask = mask1 & mask2\n",
    "#     df.loc[mask, 'Translation_Reason_for_Score_Comment'] = df.loc[mask, 'Reason_for_Score_Comment']\n",
    "\n",
    "#     # Concatenate all comment column with english content\n",
    "#     df['allComment'] = df['Translation_Customer_Comments'].fillna('').astype(str) + \". \" + df['Translation_Overall_Additional_Comments'].fillna('').astype(str) + \". \" + df['Translation_Anything_Else_Comment'].fillna('').astype(str) + \". \" + df['Translation_Reason_for_Score_Comment'].fillna('').astype(str)\n",
    "\n",
    "#     # Remove punctuation added to join the comment column in order to filter empty comment\n",
    "#     df = df[df['allComment'].str.strip('. ').str.len() > 0]\n",
    "\n",
    "#     # Filter out non-ASCII characters for comments that have both original language and translation in the same spot\n",
    "#     df['allComment'] = df['allComment'].str.encode('ascii', 'ignore').str.decode('ascii') \n",
    "#     df = df[df['allComment'].str.len() > 0]\n",
    "\n",
    "#     return df\n",
    "\n",
    "# def replace_words(docs, replacements):\n",
    "#     \"\"\"\n",
    "#     Replace words in a list of documents.\n",
    "\n",
    "#     This function takes a list of documents and a dictionary of word replacements as input. It iterates over the input documents, lowercases them, and replaces the old words with the new words specified in the replacements dictionary. The modified documents are then returned as a new list.\n",
    "\n",
    "#     :param docs: A list of input documents, where each document is a string.\n",
    "#     :param replacements: A dictionary of word replacements, where the keys are the old words to be replaced and the values are the new words to replace them with.\n",
    "#     :return: A list of modified documents, where the old words have been replaced with the new words.\n",
    "#     \"\"\"\n",
    "    \n",
    "#     # Initialize an empty list to store the modified documents\n",
    "#     new_docs = []\n",
    "\n",
    "#     # Iterate over the input documents\n",
    "#     for doc in docs:\n",
    "#         # Lowercase the document\n",
    "#         doc = doc.lower()\n",
    "#         # Iterate over the words replacements\n",
    "#         for old_word, new_word in replacements.items():\n",
    "#             # Replace the old word with the new word in the document\n",
    "#             doc = doc.replace(old_word, new_word)\n",
    "\n",
    "#         # Add the modified document to the list of new documents\n",
    "#         new_docs.append(doc)\n",
    "\n",
    "#     return new_docs\n",
    "\n",
    "def filter_and_join_columns(df, columns_to_join, join_column_name, words_to_filter, sep):\n",
    "    \"\"\"\n",
    "    Filter rows of a DataFrame where any of the specified columns contains only punctuation marks or only one or more occurrences of the specified words, possibly mixed with punctuation marks, and then join the content from the specified columns using a separator.\n",
    "    \n",
    "    :param df: A DataFrame to filter and join\n",
    "    :type df: pandas.DataFrame\n",
    "    :param columns_to_join: A list of column names to join\n",
    "    :type columns_to_join: list of str\n",
    "    :param words_to_filter: A list of words to filter\n",
    "    :type words_to_filter: list of str\n",
    "    :param sep: A separator string to use between values when joining columns\n",
    "    :type sep: str\n",
    "    :return: A DataFrame containing the filtered and joined rows\n",
    "    :rtype: pandas.DataFrame\n",
    "    \"\"\"\n",
    "    # Create a regular expression pattern to match values that contain only punctuation marks or only one or more occurrences of the specified words, possibly mixed with punctuation marks\n",
    "    pattern = r'^\\s*[\\W\\s]*\\s*$|^\\s*(\\W*\\b(' + '|'.join(re.escape(word) for word in words_to_filter) + r')\\b\\W*)+\\s*$'\n",
    "    \n",
    "    # Define a custom function to filter rows where any of the specified columns contains only punctuation marks or only one or more occurrences of the specified words, possibly mixed with punctuation marks. It filters also the non-ASCII characters\n",
    "    def filter_rows(row):\n",
    "        for col in columns_to_join:\n",
    "            value = row[col]\n",
    "            if pd.notnull(value):\n",
    "                # Filter out non-ASCII characters from the value\n",
    "                value = value.encode('ascii', 'ignore').decode('ascii')\n",
    "                if re.search(pattern, value, re.IGNORECASE):\n",
    "                    return False\n",
    "        return True\n",
    "    \n",
    "    # Filter the DataFrame using the custom filter_rows function\n",
    "    filtered_df = df[df.apply(filter_rows, axis=1)]\n",
    "    \n",
    "    # Define a custom function to join the content from the specified columns using a separator\n",
    "    def join_columns(row):\n",
    "        values = []\n",
    "        for col in columns_to_join:\n",
    "            value = row[col]\n",
    "            if pd.notnull(value) and value.strip():\n",
    "                if values and values[-1][-1] not in string.punctuation:\n",
    "                    values.append(sep)\n",
    "                else:\n",
    "                    values.append(' ')\n",
    "                values.append(value)\n",
    "        return ''.join(values).strip()\n",
    "    \n",
    "    # Join the content from the specified columns using the custom join_columns function\n",
    "    filtered_df[join_column_name] = filtered_df.apply(join_columns, axis=1)\n",
    "\n",
    "    # Return the resulting DataFrame containing the filtered and joined rows\n",
    "    return filtered_df[filtered_df[join_column_name].str.len() > 0]\n",
    "\n",
    "def preprocess_data(df, countries_to_update, columns_to_join, join_column_name, words_to_filter, replacements):\n",
    "    \"\"\"\n",
    "    Preprocess a DataFrame of data.\n",
    "\n",
    "    This function takes a DataFrame of data, a list of countries to update, a list of columns to join and a list of words to filter as input. It adds additional columns to the DataFrame, renames some columns for readability, updates the translation columns for specific rows, and concatenates all comment columns with English content. The modified DataFrame is then returned.\n",
    "\n",
    "    :param df: A DataFrame of input data.\n",
    "    :param countries_to_update: A list of countries for which to update the translation columns.\n",
    "    :param columns_to_join: A list of columns to join.\n",
    "    :param words_to_filter: A list of words to filter.\n",
    "    :return: A modified DataFrame with additional columns, renamed columns, updated translation columns, and concatenated comment columns.\n",
    "    \"\"\"\n",
    "\n",
    "    # add some additional info as columns\n",
    "    df['year'] = pd.DatetimeIndex(df[\"Creation Date\"]).year\n",
    "    df['id'] = range(len(df))\n",
    "\n",
    "    # Rename columns for readability\n",
    "    df = df.rename(columns={\n",
    "        'Translation to English for: Customer Comments (edited)': 'Translation_Customer_Comments',\n",
    "        'Customer Comments (edited)': 'Customer_Comments',\n",
    "        'Translation to English for: Overall Additional Comments (edited)': 'Translation_Overall_Additional_Comments',\n",
    "        'Overall Additional Comments (edited)': 'Overall_Additional_Comments',\n",
    "        'Translation to English for: Anything else comment': 'Translation_Anything_Else_Comment',\n",
    "        'Anything else comment': 'Anything_Else_Comment',\n",
    "        'Translation to English for: Reason for score comment': 'Translation_Reason_for_Score_Comment',\n",
    "        'Reason for score comment': 'Reason_for_Score_Comment'\n",
    "    })\n",
    "\n",
    "    # Create a mask to filter the rows where the 'Account Countries' column is in the list of countries to update\n",
    "    mask1 = df['Account Country'].isin(countries_to_update)\n",
    "\n",
    "    # Update the translation columns only for the rows where the mask1 is True\n",
    "    mask2 = ((df['Customer_Comments'] != '') & df['Customer_Comments'].notnull()) & df['Translation_Customer_Comments'].isnull()\n",
    "    mask = mask1 & mask2\n",
    "    df.loc[mask, 'Translation_Customer_Comments'] = df.loc[mask, 'Customer_Comments']\n",
    "\n",
    "    mask2 = ((df['Overall_Additional_Comments'] != '') & df['Overall_Additional_Comments'].notnull()) & df['Translation_Overall_Additional_Comments'].isnull()\n",
    "    mask = mask1 & mask2\n",
    "    df.loc[mask, 'Translation_Overall_Additional_Comments'] = df.loc[mask, 'Overall_Additional_Comments']\n",
    "\n",
    "    mask2 = ((df['Anything_Else_Comment'] != '') & df['Anything_Else_Comment'].notnull()) & df['Translation_Anything_Else_Comment'].isnull()\n",
    "    mask = mask1 & mask2\n",
    "    df.loc[mask, 'Translation_Anything_Else_Comment'] = df.loc[mask, 'Anything_Else_Comment']\n",
    "\n",
    "    mask2 = ((df['Reason_for_Score_Comment'] != '') & df['Reason_for_Score_Comment'].notnull()) & df['Translation_Reason_for_Score_Comment'].isnull()\n",
    "    mask = mask1 & mask2\n",
    "    df.loc[mask, 'Translation_Reason_for_Score_Comment'] = df.loc[mask, 'Reason_for_Score_Comment']\n",
    "\n",
    "    # Concatenate all comment column with english content\n",
    "    # Call the filter_and_join_columns function to filter and join the DataFrame\n",
    "    df = filter_and_join_columns(df, columns_to_join, join_column_name, words_to_filter, '. ')\n",
    "\n",
    "    # Define an inner replace_words function\n",
    "    def replace_words(series):\n",
    "        # Lowercase the documents\n",
    "        series = series.str.lower()\n",
    "\n",
    "        # Iterate over the word replacements\n",
    "        for old_word, new_word in replacements.items():\n",
    "            # Replace the old word with the new word in the documents using the str.replace method\n",
    "            series = series.str.replace(old_word, new_word, regex=False)\n",
    "\n",
    "        # Return the modified series as a Pandas Series\n",
    "        return series\n",
    "\n",
    "    # Call the inner replace_words function on the 'allComment' column\n",
    "    df[join_column_name] = replace_words(df[join_column_name])\n",
    "\n",
    "    return df\n",
    "    # Remove punctuation added to join the comment column in order to filter empty comment\n",
    "    # df = df[df['allComment'].str.strip('. ').str.len() > 0]\n",
    "\n",
    "    # Filter out non-ASCII characters for comments that have both original language and translation in the same spot\n",
    "    # df['allComment'] = df['allComment'].str.encode('ascii', 'ignore').str.decode('ascii') \n",
    "    # df = df[df['allComment'].str.len() > 0]\n",
    "\n",
    "def create_custom_vocabulary(docs, ngrams_list, model_name=\"all-MiniLM-L6-v2\", **kwargs):\n",
    "    \"\"\"\n",
    "    Create a custom vocabulary from a list of documents using KeyBERT.\n",
    "\n",
    "    This function takes a list of documents, a list of custom n-grams, and an optional model name as input. It preprocesses the documents by replacing the custom n-grams with single tokens containing underscores. Then, it initializes a GPU-enabled SentenceTransformer model and uses KeyBERT to extract keywords from the preprocessed documents. The extracted keywords are postprocessed by replacing single tokens with the original n-grams and removing duplicates to create the custom vocabulary. The vocabulary is cached for future use and returned as a list of strings.\n",
    "\n",
    "    :param docs: A list of input documents, where each document is a string.\n",
    "    :param ngrams_list: A list of custom n-grams to be replaced with single tokens during preprocessing.\n",
    "    :param model_name: An optional string specifying the name of the SentenceTransformer model to use. Defaults to \"all-MiniLM-L6-v2\".\n",
    "    :param kwargs: Additional keyword arguments to be passed to the KeyBERT `extract_keywords` method.\n",
    "    :return: A list of strings representing the custom vocabulary created from the input documents.\n",
    "    \"\"\"\n",
    "\n",
    "    # Preprocess documents by replacing custom n-grams with single tokens with underscore \"_\"\n",
    "    preprocessed_docs = []\n",
    "    for doc in docs:\n",
    "        for ngram in ngrams_list:\n",
    "            if ngram in doc:\n",
    "                ngram_underscore = ngram.replace(\" \",\"_\")\n",
    "                doc = doc.replace(ngram, ngram_underscore)\n",
    "        preprocessed_docs.append(doc)\n",
    "\n",
    "    # Initialize a GPU-enabled SentenceTransformer model\n",
    "    model = SentenceTransformer(model_name, device=\"cuda\")\n",
    "\n",
    "    # Create custom vocabulary with KeyBERT\n",
    "    # Use the vocabulary in cache if it exists otherwise compute it and store it in cache\n",
    "    cache_key = (hash(str(preprocessed_docs)), hash(str(ngrams_list)), hash(model_name), hash(str(kwargs)))\n",
    "    if cache_key in vocabulary_cache:\n",
    "        vocabulary = vocabulary_cache[cache_key]\n",
    "        return vocabulary\n",
    "    else:\n",
    "        # Extract keywords\n",
    "        kw_model = KeyBERT(model=model)\n",
    "        keywords = kw_model.extract_keywords(preprocessed_docs, **kwargs)\n",
    "        \n",
    "        # Flatten the list of lists and remove duplicates to create the vocabulary\n",
    "        vocabulary = list(set([word for sublist in keywords for word, score in sublist]))\n",
    "\n",
    "        # Postprocess extracted keywords by replacing single tokens with original n-grams\n",
    "        postprocessed_vocab = []\n",
    "        for keyword in vocabulary:\n",
    "            space_keyword = keyword.replace(\"_\",\" \")\n",
    "            if space_keyword in ngrams_list:\n",
    "                keyword = space_keyword\n",
    "            postprocessed_vocab.append(keyword)\n",
    "\n",
    "        vocabulary_cache[cache_key] = postprocessed_vocab\n",
    "        return postprocessed_vocab\n",
    "\n",
    "def run_bertopic(docs, model_name=\"all-MiniLM-L6-v2\", **kwargs):\n",
    "    \"\"\"\n",
    "    Run BERTopic on a list of documents.\n",
    "\n",
    "    This function takes a list of documents, an optional model name, and additional keyword arguments as input. It extracts embeddings for the input documents using a SentenceTransformer model and caches them for future use. Then, it runs BERTopic on the input documents and embeddings and returns the resulting topics and probabilities.\n",
    "\n",
    "    :param docs: A list of input documents, where each document is a string.\n",
    "    :param model_name: An optional string specifying the name of the SentenceTransformer model to use. Defaults to \"all-MiniLM-L6-v2\".\n",
    "    :param kwargs: Additional keyword arguments to be passed to the BERTopic constructor.\n",
    "    :return: A tuple containing four elements: a list of topics assigned to each input document, a matrix of topic probabilities for each input document, the BERTopic model used and the embeddings.\n",
    "    \"\"\"\n",
    "\n",
    "    # Extract embeddings\n",
    "    cache_key = (hash(str(docs)), hash(model_name))\n",
    "    if cache_key in embeddings_cache:\n",
    "        sentence_model = SentenceTransformer(model_name, device=\"cuda\")\n",
    "        embeddings = embeddings_cache[cache_key]\n",
    "    else:\n",
    "        # compute embeddings using GPU\n",
    "        sentence_model = SentenceTransformer(model_name, device=\"cuda\")\n",
    "        embeddings = sentence_model.encode(docs, show_progress_bar=True)\n",
    "        # store embeddings in cache\n",
    "        embeddings_cache[cache_key] = embeddings\n",
    "\n",
    "    # Run BERTopic\n",
    "    topic_model = BERTopic(embedding_model=sentence_model, **kwargs)\n",
    "    topics, probs = topic_model.fit_transform(docs, embeddings)\n",
    "\n",
    "    return topics, probs, topic_model, embeddings\n",
    "\n",
    "def bertopic_pipeline(df, countries_to_update, replacements, ngrams_list, stopwords, \n",
    "            use_custom_vocab=True, keybert_kwargs={}, countvectorizer_kwargs={}, bertopic_kwargs={}):\n",
    "    \"\"\"\n",
    "    Run a BERTopic pipeline on a DataFrame of data.\n",
    "\n",
    "    This function takes a DataFrame of data, a list of countries to update, a dictionary of word replacements, a list of custom n-grams, a list of stopwords, and additional parameters as input. It preprocesses the data by filtering the countries to update and replacing the specified n-grams in the documents. If `use_custom_vocab` is `True`, it creates a custom vocabulary using KeyBERT and runs BERTopic on the preprocessed data using the custom vocabulary and stopwords. If `use_vocabulary` is `False`, it runs BERTopic on the preprocessed data without using the custom vocabulary. The resulting topics and probabilities are returned along with the BERTopic model.\n",
    "\n",
    "    :param df: A DataFrame of input data.\n",
    "    :param countries_to_update: A list of countries for which to update the translation columns.\n",
    "    :param replacements: A dictionary of word replacements, where the keys are the old words to be replaced and the values are the new words to replace them with.\n",
    "    :param ngrams_list: A list of custom n-grams to be used when creating the custom vocabulary.\n",
    "    :param stopwords: A list of stopwords to be used when running BERTopic.\n",
    "    :param use_custom_vocab: A boolean value indicating whether to use a custom vocabulary when running BERTopic. Defaults to `True`.\n",
    "    :param keybert_kwargs: A dictionary of keyword arguments to be passed to the `create_custom_vocabulary` function.\n",
    "    :param countvectorizer_kwargs: A dictionary of keyword arguments to be passed to the `CountVectorizer` constructor.\n",
    "    :param bertopic_kwargs: A dictionary of keyword arguments to be passed to the BERTopic constructor.\n",
    "    :return: A tuple containing five elements: a list of topics assigned to each input document, a matrix of topic probabilities for each input document, the BERTopic model used, the embeddings and the documents used.\n",
    "    \"\"\"\n",
    "\n",
    "    ### Step 1: Preprocess docs\n",
    "    #     # Filter the countries we want to copy the original comment (those in english) in the translation column for comment\n",
    "    # df = preprocess_data(df, countries_to_update)\n",
    "    #     # Put the data in the correct format for bertopic\n",
    "    # docs = df[\"allComment\"].astype(str).tolist()\n",
    "    #     # Call the replace_words function to replace the specified ngrams in the documents\n",
    "    # docs = replace_words(docs, replacements)\n",
    "    \n",
    "    # Filter the countries we want to copy the original comment (those in english) in the translation column for comment\n",
    "    df = preprocess_data(df, countries_to_update, columns_to_join, \"allComment\", words_to_filter, replacements)\n",
    "\n",
    "    # Put the data in the correct format for bertopic\n",
    "    docs = df[\"allComment\"].astype(str).tolist()\n",
    "        \n",
    "    if use_custom_vocab:\n",
    "        ### Step 2: Create vocabulary with KeyBERT using custom ngrams list\n",
    "        vocabulary = create_custom_vocabulary(docs, ngrams_list, **keybert_kwargs)\n",
    "\n",
    "        ### Step 3: Run BERTopic\n",
    "        # Prepare countVectorizer model\n",
    "        countvectorizer_kwargs = {**countvectorizer_kwargs, \"vocabulary\": vocabulary}\n",
    "        custom_vectorizer_model = CountVectorizer(**countvectorizer_kwargs)\n",
    "        topics, probs, topic_model, embeddings = run_bertopic(docs, vectorizer_model=custom_vectorizer_model, **bertopic_kwargs)\n",
    "\n",
    "    else:\n",
    "        custom_vectorizer_model = CountVectorizer(**countvectorizer_kwargs)\n",
    "        topics, probs, topic_model, embeddings = run_bertopic(docs, vectorizer_model=custom_vectorizer_model, **bertopic_kwargs)\n",
    "\n",
    "    return topics, probs, topic_model, embeddings, docs"
   ]
  },
  {
   "cell_type": "code",
   "execution_count": null,
   "metadata": {},
   "outputs": [],
   "source": [
    "# vocabulary stored in cache to avoid compute it every time \n",
    "vocabulary_cache = {}\n",
    "# embeddings stored in cache to avoid compute it every time \n",
    "embeddings_cache = {}"
   ]
  },
  {
   "cell_type": "code",
   "execution_count": 3,
   "metadata": {},
   "outputs": [
    {
     "name": "stderr",
     "output_type": "stream",
     "text": [
      "Batches: 100%|██████████| 1119/1119 [01:03<00:00, 17.55it/s] \n"
     ]
    },
    {
     "name": "stdout",
     "output_type": "stream",
     "text": [
      "huggingface/tokenizers: The current process just got forked, after parallelism has already been used. Disabling parallelism to avoid deadlocks...\n",
      "To disable this warning, you can either:\n",
      "\t- Avoid using `tokenizers` before the fork if possible\n",
      "\t- Explicitly set the environment variable TOKENIZERS_PARALLELISM=(true | false)\n",
      "huggingface/tokenizers: The current process just got forked, after parallelism has already been used. Disabling parallelism to avoid deadlocks...\n",
      "To disable this warning, you can either:\n",
      "\t- Avoid using `tokenizers` before the fork if possible\n",
      "\t- Explicitly set the environment variable TOKENIZERS_PARALLELISM=(true | false)\n",
      "huggingface/tokenizers: The current process just got forked, after parallelism has already been used. Disabling parallelism to avoid deadlocks...\n",
      "To disable this warning, you can either:\n",
      "\t- Avoid using `tokenizers` before the fork if possible\n",
      "\t- Explicitly set the environment variable TOKENIZERS_PARALLELISM=(true | false)\n",
      "huggingface/tokenizers: The current process just got forked, after parallelism has already been used. Disabling parallelism to avoid deadlocks...\n",
      "To disable this warning, you can either:\n",
      "\t- Avoid using `tokenizers` before the fork if possible\n",
      "\t- Explicitly set the environment variable TOKENIZERS_PARALLELISM=(true | false)\n",
      "huggingface/tokenizers: The current process just got forked, after parallelism has already been used. Disabling parallelism to avoid deadlocks...\n",
      "To disable this warning, you can either:\n",
      "\t- Avoid using `tokenizers` before the fork if possible\n",
      "\t- Explicitly set the environment variable TOKENIZERS_PARALLELISM=(true | false)\n",
      "huggingface/tokenizers: The current process just got forked, after parallelism has already been used. Disabling parallelism to avoid deadlocks...\n",
      "To disable this warning, you can either:\n",
      "\t- Avoid using `tokenizers` before the fork if possible\n",
      "\t- Explicitly set the environment variable TOKENIZERS_PARALLELISM=(true | false)\n"
     ]
    },
    {
     "name": "stderr",
     "output_type": "stream",
     "text": [
      "/home/cattiaux/anaconda3/envs/wassati/lib/python3.9/site-packages/bertopic/vectorizers/_ctfidf.py:69: RuntimeWarning: divide by zero encountered in divide\n",
      "  idf = np.log((avg_nr_samples / df)+1)\n"
     ]
    }
   ],
   "source": [
    "# Our set of predefined labels\n",
    "labels = [['product','features','performance','software','framework','touch screen','touch panels','sensor','drive','servo motors','license','manual','cad','sensor','eocr','pro face','proface','atv','converter','inverter','frequency converters','tcp','modbus','vijeo','gp','control cabinet','cupboard','programmable logic controller','power supply'],\n",
    "['pricing','price','offers','orders','payment','invoice','quote','quotation'],\n",
    "['quality','reliability','complaint','issue','warranty','repair','maintenance','incident','fault','complication','rate','rating','inconvenient','remark','improvement','feedback'],\n",
    "['delivery','delivery date','delivery time','delays','stock','shipping','lead time','deadline','package','ddt','schedule'],\n",
    "['customer support','communication','customer service','assistance','support','chat','email','telephone','ticket','attendance','interlocutor','operator','help','experience','uncomfy','agility','professionalism'],\n",
    "['technical support','technical','technician','guidance','intervention','competence','explanation','solve','query','inquiry','resolution','troubleshooting'],\n",
    "['response time','correspondence','response','quick','answer'],\n",
    "['business relation','factories','supplier','cooperation','partnership','oem','business','commercial','siemens']\n",
    "# ['reputation','public perception','brand image','gratitude','reliability']\n",
    "]\n",
    "\n",
    "topics, probs, topic_model, embeddings, docs = bertopic_pipeline(\n",
    "    df,\n",
    "    countries_to_update,\n",
    "    replacements,\n",
    "    ngrams_list,\n",
    "    stopwords,\n",
    "    use_custom_vocab=True,\n",
    "    keybert_kwargs={\n",
    "        \"top_n\": 4,\n",
    "        \"use_mmr\": True,\n",
    "        \"stop_words\": stopwords,\n",
    "        \"keyphrase_ngram_range\": (1, 1),\n",
    "        \"nr_candidates\": 12\n",
    "    },\n",
    "    countvectorizer_kwargs={\n",
    "        \"stop_words\": stopwords,\n",
    "        \"lowercase\": True,\n",
    "        \"ngram_range\": (1, 3)\n",
    "    },\n",
    "    # umap_kwargs={\n",
    "    #     \"n_neighbors\":50, \n",
    "    #     \"n_components\":5, \n",
    "    #     \"min_dist\":0.0, \n",
    "    #     \"metric\":'cosine', \n",
    "    #     \"random_state\":100\n",
    "    # },\n",
    "    bertopic_kwargs={\n",
    "        \"seed_topic_list\":labels, # Create a new BERTopic model using our predefined labels as topics\n",
    "        # \"nr_topics\":\"auto\",\n",
    "        \"ctfidf_model\": ClassTfidfTransformer(reduce_frequent_words=True),\n",
    "        \"representation_model\": [KeyBERTInspired(), MaximalMarginalRelevance(diversity=0.3)], # possible values : KeyBERTInspired() or MaximalMarginalRelevance(diversity=0.5)\n",
    "        \"top_n_words\":10,\n",
    "        \"min_topic_size\":70,\n",
    "        \"calculate_probabilities\": True\n",
    "    }\n",
    ")"
   ]
  },
  {
   "cell_type": "code",
   "execution_count": 7,
   "metadata": {},
   "outputs": [
    {
     "data": {
      "text/plain": [
       "35804"
      ]
     },
     "execution_count": 7,
     "metadata": {},
     "output_type": "execute_result"
    }
   ],
   "source": [
    "len(docs)"
   ]
  },
  {
   "cell_type": "code",
   "execution_count": 10,
   "metadata": {},
   "outputs": [],
   "source": [
    "def save_bertopic_model(topic_model, topics, probs, embeddings, docs, filename):\n",
    "    \"\"\"\n",
    "    Save a BERTopic model and associated data to a file.\n",
    "    \n",
    "    :param topic_model: The BERTopic model to save.\n",
    "    :param topics: The topics variable to save.\n",
    "    :param probs: The probs variable to save.\n",
    "    :param docs: The docs variable to save.\n",
    "    :param filename: The name of the file to save the data to.\n",
    "    \"\"\"\n",
    "    # Save the BERTopic model\n",
    "    topic_model.save(filename)\n",
    "    \n",
    "    # Save the topics, probs, and docs variables\n",
    "    with open(filename + '_data.pkl', 'wb') as f:\n",
    "        pickle.dump((topics, probs, embeddings, docs), f)\n",
    "\n",
    "def load_bertopic_model(filename):\n",
    "    \"\"\"\n",
    "    Load a BERTopic model and associated data from a file.\n",
    "    \n",
    "    :param filename: The name of the file to load the data from.\n",
    "    :return: A tuple containing the loaded BERTopic model, topics, probs, and docs variables.\n",
    "    \"\"\"\n",
    "    # Load the BERTopic model\n",
    "    topic_model = BERTopic.load(filename)\n",
    "    \n",
    "    # Load the topics, probs, and docs variables\n",
    "    with open(filename + '_data.pkl', 'rb') as f:\n",
    "        topics, probs, embeddings, docs = pickle.load(f)\n",
    "    \n",
    "    return topic_model, topics, probs, embeddings, docs"
   ]
  },
  {
   "cell_type": "code",
   "execution_count": null,
   "metadata": {},
   "outputs": [],
   "source": [
    "# Save the BERTopic model and associated data\n",
    "save_bertopic_model(topic_model, topics, probs, embeddings, docs, 'raw_keybert_bertopic_model____')"
   ]
  },
  {
   "cell_type": "code",
   "execution_count": 11,
   "metadata": {},
   "outputs": [],
   "source": [
    "# Load the BERTopic model and associated data\n",
    "topic_model, topics, probs, embeddings, docs = load_bertopic_model('raw_keybert_bertopic_model')"
   ]
  },
  {
   "cell_type": "code",
   "execution_count": null,
   "metadata": {},
   "outputs": [],
   "source": [
    "# Visualize Term Score Decline\n",
    "topic_model.visualize_term_rank() # log_scale=True"
   ]
  },
  {
   "cell_type": "code",
   "execution_count": 227,
   "metadata": {},
   "outputs": [
    {
     "data": {
      "text/html": [
       "<div>\n",
       "<style scoped>\n",
       "    .dataframe tbody tr th:only-of-type {\n",
       "        vertical-align: middle;\n",
       "    }\n",
       "\n",
       "    .dataframe tbody tr th {\n",
       "        vertical-align: top;\n",
       "    }\n",
       "\n",
       "    .dataframe thead th {\n",
       "        text-align: right;\n",
       "    }\n",
       "</style>\n",
       "<table border=\"1\" class=\"dataframe\">\n",
       "  <thead>\n",
       "    <tr style=\"text-align: right;\">\n",
       "      <th></th>\n",
       "      <th>Topic</th>\n",
       "      <th>Count</th>\n",
       "    </tr>\n",
       "  </thead>\n",
       "  <tbody>\n",
       "    <tr>\n",
       "      <th>3</th>\n",
       "      <td>-1</td>\n",
       "      <td>15590</td>\n",
       "    </tr>\n",
       "    <tr>\n",
       "      <th>5</th>\n",
       "      <td>0</td>\n",
       "      <td>2214</td>\n",
       "    </tr>\n",
       "    <tr>\n",
       "      <th>15</th>\n",
       "      <td>1</td>\n",
       "      <td>1673</td>\n",
       "    </tr>\n",
       "    <tr>\n",
       "      <th>4</th>\n",
       "      <td>2</td>\n",
       "      <td>1333</td>\n",
       "    </tr>\n",
       "    <tr>\n",
       "      <th>13</th>\n",
       "      <td>3</td>\n",
       "      <td>1306</td>\n",
       "    </tr>\n",
       "    <tr>\n",
       "      <th>19</th>\n",
       "      <td>4</td>\n",
       "      <td>978</td>\n",
       "    </tr>\n",
       "    <tr>\n",
       "      <th>6</th>\n",
       "      <td>5</td>\n",
       "      <td>948</td>\n",
       "    </tr>\n",
       "    <tr>\n",
       "      <th>1</th>\n",
       "      <td>6</td>\n",
       "      <td>929</td>\n",
       "    </tr>\n",
       "    <tr>\n",
       "      <th>2</th>\n",
       "      <td>7</td>\n",
       "      <td>858</td>\n",
       "    </tr>\n",
       "    <tr>\n",
       "      <th>24</th>\n",
       "      <td>8</td>\n",
       "      <td>479</td>\n",
       "    </tr>\n",
       "    <tr>\n",
       "      <th>16</th>\n",
       "      <td>9</td>\n",
       "      <td>475</td>\n",
       "    </tr>\n",
       "    <tr>\n",
       "      <th>30</th>\n",
       "      <td>10</td>\n",
       "      <td>470</td>\n",
       "    </tr>\n",
       "    <tr>\n",
       "      <th>31</th>\n",
       "      <td>11</td>\n",
       "      <td>461</td>\n",
       "    </tr>\n",
       "    <tr>\n",
       "      <th>26</th>\n",
       "      <td>12</td>\n",
       "      <td>447</td>\n",
       "    </tr>\n",
       "    <tr>\n",
       "      <th>20</th>\n",
       "      <td>13</td>\n",
       "      <td>429</td>\n",
       "    </tr>\n",
       "    <tr>\n",
       "      <th>34</th>\n",
       "      <td>14</td>\n",
       "      <td>411</td>\n",
       "    </tr>\n",
       "    <tr>\n",
       "      <th>12</th>\n",
       "      <td>15</td>\n",
       "      <td>405</td>\n",
       "    </tr>\n",
       "    <tr>\n",
       "      <th>14</th>\n",
       "      <td>16</td>\n",
       "      <td>398</td>\n",
       "    </tr>\n",
       "    <tr>\n",
       "      <th>39</th>\n",
       "      <td>17</td>\n",
       "      <td>380</td>\n",
       "    </tr>\n",
       "    <tr>\n",
       "      <th>11</th>\n",
       "      <td>18</td>\n",
       "      <td>345</td>\n",
       "    </tr>\n",
       "    <tr>\n",
       "      <th>23</th>\n",
       "      <td>19</td>\n",
       "      <td>308</td>\n",
       "    </tr>\n",
       "    <tr>\n",
       "      <th>29</th>\n",
       "      <td>20</td>\n",
       "      <td>269</td>\n",
       "    </tr>\n",
       "    <tr>\n",
       "      <th>25</th>\n",
       "      <td>21</td>\n",
       "      <td>242</td>\n",
       "    </tr>\n",
       "    <tr>\n",
       "      <th>0</th>\n",
       "      <td>22</td>\n",
       "      <td>224</td>\n",
       "    </tr>\n",
       "    <tr>\n",
       "      <th>43</th>\n",
       "      <td>23</td>\n",
       "      <td>211</td>\n",
       "    </tr>\n",
       "    <tr>\n",
       "      <th>28</th>\n",
       "      <td>24</td>\n",
       "      <td>209</td>\n",
       "    </tr>\n",
       "    <tr>\n",
       "      <th>22</th>\n",
       "      <td>25</td>\n",
       "      <td>207</td>\n",
       "    </tr>\n",
       "    <tr>\n",
       "      <th>9</th>\n",
       "      <td>26</td>\n",
       "      <td>199</td>\n",
       "    </tr>\n",
       "    <tr>\n",
       "      <th>40</th>\n",
       "      <td>27</td>\n",
       "      <td>174</td>\n",
       "    </tr>\n",
       "    <tr>\n",
       "      <th>7</th>\n",
       "      <td>28</td>\n",
       "      <td>170</td>\n",
       "    </tr>\n",
       "  </tbody>\n",
       "</table>\n",
       "</div>"
      ],
      "text/plain": [
       "    Topic  Count\n",
       "3      -1  15590\n",
       "5       0   2214\n",
       "15      1   1673\n",
       "4       2   1333\n",
       "13      3   1306\n",
       "19      4    978\n",
       "6       5    948\n",
       "1       6    929\n",
       "2       7    858\n",
       "24      8    479\n",
       "16      9    475\n",
       "30     10    470\n",
       "31     11    461\n",
       "26     12    447\n",
       "20     13    429\n",
       "34     14    411\n",
       "12     15    405\n",
       "14     16    398\n",
       "39     17    380\n",
       "11     18    345\n",
       "23     19    308\n",
       "29     20    269\n",
       "25     21    242\n",
       "0      22    224\n",
       "43     23    211\n",
       "28     24    209\n",
       "22     25    207\n",
       "9      26    199\n",
       "40     27    174\n",
       "7      28    170"
      ]
     },
     "execution_count": 227,
     "metadata": {},
     "output_type": "execute_result"
    }
   ],
   "source": [
    "topic_model.get_topic_freq().head(30)"
   ]
  },
  {
   "cell_type": "code",
   "execution_count": null,
   "metadata": {},
   "outputs": [],
   "source": [
    "topic_model.visualize_topics()"
   ]
  },
  {
   "cell_type": "code",
   "execution_count": null,
   "metadata": {},
   "outputs": [],
   "source": [
    "topic_model_merged.visualize_barchart(top_n_topics=65)"
   ]
  },
  {
   "cell_type": "code",
   "execution_count": 6,
   "metadata": {},
   "outputs": [
    {
     "name": "stderr",
     "output_type": "stream",
     "text": [
      "100%|██████████| 59/59 [00:21<00:00,  2.79it/s]\n"
     ]
    },
    {
     "data": {
      "application/vnd.plotly.v1+json": {
       "config": {
        "plotlyServerURL": "https://plot.ly"
       },
       "data": [
        {
         "hoverinfo": "text",
         "marker": {
          "color": "rgb(61,153,112)"
         },
         "mode": "lines",
         "text": [
          "delivery time_delivery date_deliveries_delivery_delays",
          "",
          "",
          "deliveries_delivery time_delays_delivering_delivery"
         ],
         "type": "scatter",
         "x": [
          0,
          0.2822775669675429,
          0.2822775669675429,
          0
         ],
         "xaxis": "x",
         "y": [
          -25,
          -25,
          -35,
          -35
         ],
         "yaxis": "y"
        },
        {
         "hoverinfo": "text",
         "marker": {
          "color": "rgb(61,153,112)"
         },
         "mode": "lines",
         "text": [
          "delivery date_delivery time_delivery_deliveries_delayed",
          "",
          "",
          "delivery time_deliveries_delays_delivery_shipments"
         ],
         "type": "scatter",
         "x": [
          0,
          0.34902907011542905,
          0.34902907011542905,
          0.2822775669675429
         ],
         "xaxis": "x",
         "y": [
          -15,
          -15,
          -30,
          -30
         ],
         "yaxis": "y"
        },
        {
         "hoverinfo": "text",
         "marker": {
          "color": "rgb(61,153,112)"
         },
         "mode": "lines",
         "text": [
          "deliveries_shipments_delivery time_delivery date_delivery",
          "",
          "",
          "quotations_pricing_quotes_invoices_quotation"
         ],
         "type": "scatter",
         "x": [
          0.34902907011542905,
          0.5941136744050203,
          0.5941136744050203,
          0
         ],
         "xaxis": "x",
         "y": [
          -22.5,
          -22.5,
          -45,
          -45
         ],
         "yaxis": "y"
        },
        {
         "hoverinfo": "text",
         "marker": {
          "color": "rgb(61,153,112)"
         },
         "mode": "lines",
         "text": [
          "quotations_quotation_quotes_responded_quoted",
          "",
          "",
          "offers_discount_negotiation_offered_refunded"
         ],
         "type": "scatter",
         "x": [
          0,
          0.7065485960439992,
          0.7065485960439992,
          0
         ],
         "xaxis": "x",
         "y": [
          -55,
          -55,
          -65,
          -65
         ],
         "yaxis": "y"
        },
        {
         "hoverinfo": "text",
         "marker": {
          "color": "rgb(61,153,112)"
         },
         "mode": "lines",
         "text": [
          "delivery time_delivery date_deliveries_delays_delivery",
          "",
          "",
          "responded_inquiries_refunded_sr_response time"
         ],
         "type": "scatter",
         "x": [
          0.5941136744050203,
          0.7571530255286162,
          0.7571530255286162,
          0.7065485960439992
         ],
         "xaxis": "x",
         "y": [
          -33.75,
          -33.75,
          -60,
          -60
         ],
         "yaxis": "y"
        },
        {
         "hoverinfo": "text",
         "marker": {
          "color": "rgb(61,153,112)"
         },
         "mode": "lines",
         "text": [
          "deadlines_deadline_delays_delaying_scheduling",
          "",
          "",
          "delivery time_delivery date_deliveries_delivery_delays"
         ],
         "type": "scatter",
         "x": [
          0,
          0.8322566594445302,
          0.8322566594445302,
          0.7571530255286162
         ],
         "xaxis": "x",
         "y": [
          -5,
          -5,
          -46.875,
          -46.875
         ],
         "yaxis": "y"
        },
        {
         "hoverinfo": "text",
         "marker": {
          "color": "rgb(255,65,54)"
         },
         "mode": "lines",
         "text": [
          "siemens_subsidiaries_factories_supplier_manufacturer",
          "",
          "",
          "touch panel_touch screen_dell_gp4501_gp4000"
         ],
         "type": "scatter",
         "x": [
          0,
          0.6742932256998437,
          0.6742932256998437,
          0
         ],
         "xaxis": "x",
         "y": [
          -75,
          -75,
          -85,
          -85
         ],
         "yaxis": "y"
        },
        {
         "hoverinfo": "text",
         "marker": {
          "color": "rgb(255,65,54)"
         },
         "mode": "lines",
         "text": [
          "frequency converters_converters_technical support_electric_manufacturers",
          "",
          "",
          "frequency converters_converters_frequency_converter_60hz"
         ],
         "type": "scatter",
         "x": [
          0,
          0.5056396729084509,
          0.5056396729084509,
          0
         ],
         "xaxis": "x",
         "y": [
          -95,
          -95,
          -105,
          -105
         ],
         "yaxis": "y"
        },
        {
         "hoverinfo": "text",
         "marker": {
          "color": "rgb(255,65,54)"
         },
         "mode": "lines",
         "text": [
          "servo motors_servo_servos_discontinued_motors",
          "",
          "",
          "inverter_inverters_invertor_frequency inverters_converters"
         ],
         "type": "scatter",
         "x": [
          0,
          0.46560654760944786,
          0.46560654760944786,
          0
         ],
         "xaxis": "x",
         "y": [
          -125,
          -125,
          -135,
          -135
         ],
         "yaxis": "y"
        },
        {
         "hoverinfo": "text",
         "marker": {
          "color": "rgb(255,65,54)"
         },
         "mode": "lines",
         "text": [
          "programmable logic controller_controllers_touch panel_hardware_programmable",
          "",
          "",
          "technical support_programmable logic controller_automation_controllers_programmable"
         ],
         "type": "scatter",
         "x": [
          0,
          0.36801723302818823,
          0.36801723302818823,
          0
         ],
         "xaxis": "x",
         "y": [
          -145,
          -145,
          -155,
          -155
         ],
         "yaxis": "y"
        },
        {
         "hoverinfo": "text",
         "marker": {
          "color": "rgb(255,65,54)"
         },
         "mode": "lines",
         "text": [
          "electrical_electricity_supplier_electric_products",
          "",
          "",
          "suppliers_supplier_companies_technical support_company"
         ],
         "type": "scatter",
         "x": [
          0,
          0.26418835315813083,
          0.26418835315813083,
          0
         ],
         "xaxis": "x",
         "y": [
          -175,
          -175,
          -185,
          -185
         ],
         "yaxis": "y"
        },
        {
         "hoverinfo": "text",
         "marker": {
          "color": "rgb(255,65,54)"
         },
         "mode": "lines",
         "text": [
          "ten_nine_rate_quality_pricing",
          "",
          "",
          "suppliers_supplier_brands_partnership_brand"
         ],
         "type": "scatter",
         "x": [
          0,
          0.3681475112723321,
          0.3681475112723321,
          0.26418835315813083
         ],
         "xaxis": "x",
         "y": [
          -165,
          -165,
          -180,
          -180
         ],
         "yaxis": "y"
        },
        {
         "hoverinfo": "text",
         "marker": {
          "color": "rgb(255,65,54)"
         },
         "mode": "lines",
         "text": [
          "switches_switchgear_switch_switchgears_switchboard",
          "",
          "",
          "circuit breakers_breakers_breaker_electrical_iec"
         ],
         "type": "scatter",
         "x": [
          0,
          0.39828764718537935,
          0.39828764718537935,
          0
         ],
         "xaxis": "x",
         "y": [
          -195,
          -195,
          -205,
          -205
         ],
         "yaxis": "y"
        },
        {
         "hoverinfo": "text",
         "marker": {
          "color": "rgb(255,65,54)"
         },
         "mode": "lines",
         "text": [
          "suppliers_supplier_distributors_products_brands",
          "",
          "",
          "circuit breakers_breakers_breaker_fuses_fuse"
         ],
         "type": "scatter",
         "x": [
          0.3681475112723321,
          0.47186877982403796,
          0.47186877982403796,
          0.39828764718537935
         ],
         "xaxis": "x",
         "y": [
          -172.5,
          -172.5,
          -200,
          -200
         ],
         "yaxis": "y"
        },
        {
         "hoverinfo": "text",
         "marker": {
          "color": "rgb(255,65,54)"
         },
         "mode": "lines",
         "text": [
          "programmable logic controller_controllers_technical support_hardware_controls",
          "",
          "",
          "technical support_breakers_brands_electric_circuit breakers"
         ],
         "type": "scatter",
         "x": [
          0.36801723302818823,
          0.4886010100969665,
          0.4886010100969665,
          0.47186877982403796
         ],
         "xaxis": "x",
         "y": [
          -150,
          -150,
          -186.25,
          -186.25
         ],
         "yaxis": "y"
        },
        {
         "hoverinfo": "text",
         "marker": {
          "color": "rgb(255,65,54)"
         },
         "mode": "lines",
         "text": [
          "servo motors_servo_inverters_servos_inverter",
          "",
          "",
          "technical support_programmable logic controller_siemens_equipment_products"
         ],
         "type": "scatter",
         "x": [
          0.46560654760944786,
          0.5200626718030168,
          0.5200626718030168,
          0.4886010100969665
         ],
         "xaxis": "x",
         "y": [
          -130,
          -130,
          -168.125,
          -168.125
         ],
         "yaxis": "y"
        },
        {
         "hoverinfo": "text",
         "marker": {
          "color": "rgb(255,65,54)"
         },
         "mode": "lines",
         "text": [
          "technical support_programmable logic controller_controllers_issues_supplier",
          "",
          "",
          "quality_reliability_reasons_discontinued_reliable"
         ],
         "type": "scatter",
         "x": [
          0.5200626718030168,
          0.5369764047865203,
          0.5369764047865203,
          0
         ],
         "xaxis": "x",
         "y": [
          -149.0625,
          -149.0625,
          -215,
          -215
         ],
         "yaxis": "y"
        },
        {
         "hoverinfo": "text",
         "marker": {
          "color": "rgb(255,65,54)"
         },
         "mode": "lines",
         "text": [
          "drives_speed drives_drive_troubleshooting_technical support",
          "",
          "",
          "technical support_siemens_automation_products_components"
         ],
         "type": "scatter",
         "x": [
          0,
          0.5839527602766339,
          0.5839527602766339,
          0.5369764047865203
         ],
         "xaxis": "x",
         "y": [
          -115,
          -115,
          -182.03125,
          -182.03125
         ],
         "yaxis": "y"
        },
        {
         "hoverinfo": "text",
         "marker": {
          "color": "rgb(255,65,54)"
         },
         "mode": "lines",
         "text": [
          "programmable logic controller_automation_technical support_controllers_controller",
          "",
          "",
          "price quality ratio_pricing_affordable_prices_quality"
         ],
         "type": "scatter",
         "x": [
          0.5839527602766339,
          0.5912926934301385,
          0.5912926934301385,
          0
         ],
         "xaxis": "x",
         "y": [
          -148.515625,
          -148.515625,
          -225,
          -225
         ],
         "yaxis": "y"
        },
        {
         "hoverinfo": "text",
         "marker": {
          "color": "rgb(255,65,54)"
         },
         "mode": "lines",
         "text": [
          "frequency converters_technical support_converters_converter_frequency",
          "",
          "",
          "technical support_automation_issues_switches_reliability"
         ],
         "type": "scatter",
         "x": [
          0.5056396729084509,
          0.6615759132243123,
          0.6615759132243123,
          0.5912926934301385
         ],
         "xaxis": "x",
         "y": [
          -100,
          -100,
          -186.7578125,
          -186.7578125
         ],
         "yaxis": "y"
        },
        {
         "hoverinfo": "text",
         "marker": {
          "color": "rgb(255,65,54)"
         },
         "mode": "lines",
         "text": [
          "rating_ratings_quality_reliability_rate",
          "",
          "",
          "rating_grading_score_evaluated_grade"
         ],
         "type": "scatter",
         "x": [
          0,
          0.5553259327128443,
          0.5553259327128443,
          0
         ],
         "xaxis": "x",
         "y": [
          -235,
          -235,
          -245,
          -245
         ],
         "yaxis": "y"
        },
        {
         "hoverinfo": "text",
         "marker": {
          "color": "rgb(255,65,54)"
         },
         "mode": "lines",
         "text": [
          "technical support_equipment_automation_programmable logic controller_reliability",
          "",
          "",
          "rating_rate_reliability_quality_score"
         ],
         "type": "scatter",
         "x": [
          0.6615759132243123,
          0.6931121590247846,
          0.6931121590247846,
          0.5553259327128443
         ],
         "xaxis": "x",
         "y": [
          -143.37890625,
          -143.37890625,
          -240,
          -240
         ],
         "yaxis": "y"
        },
        {
         "hoverinfo": "text",
         "marker": {
          "color": "rgb(255,65,54)"
         },
         "mode": "lines",
         "text": [
          "manufacturers_touch panel_siemens_manufacturer_compatibility",
          "",
          "",
          "programmable logic controller_programmable_technical support_automation_servo"
         ],
         "type": "scatter",
         "x": [
          0.6742932256998437,
          0.7256338689648636,
          0.7256338689648636,
          0.6931121590247846
         ],
         "xaxis": "x",
         "y": [
          -80,
          -80,
          -191.689453125,
          -191.689453125
         ],
         "yaxis": "y"
        },
        {
         "hoverinfo": "text",
         "marker": {
          "color": "rgb(35,205,205)"
         },
         "mode": "lines",
         "text": [
          "quality_customer service_services_satisfaction_reliability",
          "",
          "",
          "technical service_quality_materials_material_practicality"
         ],
         "type": "scatter",
         "x": [
          0,
          0.7063444009111499,
          0.7063444009111499,
          0
         ],
         "xaxis": "x",
         "y": [
          -275,
          -275,
          -285,
          -285
         ],
         "yaxis": "y"
        },
        {
         "hoverinfo": "text",
         "marker": {
          "color": "rgb(35,205,205)"
         },
         "mode": "lines",
         "text": [
          "technical support_service support_technical service_support_supports",
          "",
          "",
          "technical service_customer service_quality_services_service"
         ],
         "type": "scatter",
         "x": [
          0,
          0.737202780987623,
          0.737202780987623,
          0.7063444009111499
         ],
         "xaxis": "x",
         "y": [
          -265,
          -265,
          -280,
          -280
         ],
         "yaxis": "y"
        },
        {
         "hoverinfo": "text",
         "marker": {
          "color": "rgb(35,205,205)"
         },
         "mode": "lines",
         "text": [
          "reliable_reliability_quality_dependability_brand",
          "",
          "",
          "technical support_technical service_quality_service support_customer service"
         ],
         "type": "scatter",
         "x": [
          0,
          0.7577940142419695,
          0.7577940142419695,
          0.737202780987623
         ],
         "xaxis": "x",
         "y": [
          -255,
          -255,
          -272.5,
          -272.5
         ],
         "yaxis": "y"
        },
        {
         "hoverinfo": "text",
         "marker": {
          "color": "rgb(35,205,205)"
         },
         "mode": "lines",
         "text": [
          "issues_problems_reliable_defect_customer support",
          "",
          "",
          "cooperation_cooperative_collaboration_collaborating_collaborations"
         ],
         "type": "scatter",
         "x": [
          0,
          0.7905856882220921,
          0.7905856882220921,
          0
         ],
         "xaxis": "x",
         "y": [
          -295,
          -295,
          -305,
          -305
         ],
         "yaxis": "y"
        },
        {
         "hoverinfo": "text",
         "marker": {
          "color": "rgb(35,205,205)"
         },
         "mode": "lines",
         "text": [
          "technical support_technical service_quality_customer service_reliability",
          "",
          "",
          "cooperation_cooperative_collaboration_collaborating_collaborations"
         ],
         "type": "scatter",
         "x": [
          0.7577940142419695,
          0.8117987283143117,
          0.8117987283143117,
          0.7905856882220921
         ],
         "xaxis": "x",
         "y": [
          -263.75,
          -263.75,
          -300,
          -300
         ],
         "yaxis": "y"
        },
        {
         "hoverinfo": "text",
         "marker": {
          "color": "rgb(35,205,205)"
         },
         "mode": "lines",
         "text": [
          "technical support_technical service_customer service_availability_reliable",
          "",
          "",
          "fine_perfectly_smoothly_usual_everything"
         ],
         "type": "scatter",
         "x": [
          0.8117987283143117,
          0.8827224984931722,
          0.8827224984931722,
          0
         ],
         "xaxis": "x",
         "y": [
          -281.875,
          -281.875,
          -315,
          -315
         ],
         "yaxis": "y"
        },
        {
         "hoverinfo": "text",
         "marker": {
          "color": "rgb(0,116,217)"
         },
         "mode": "lines",
         "text": [
          "technical support_programmable logic controller_equipment_controller_reliability",
          "",
          "",
          "technical support_technical service_reliability_customer service_quality"
         ],
         "type": "scatter",
         "x": [
          0.7256338689648636,
          1.073219080992492,
          1.073219080992492,
          0.8827224984931722
         ],
         "xaxis": "x",
         "y": [
          -135.8447265625,
          -135.8447265625,
          -298.4375,
          -298.4375
         ],
         "yaxis": "y"
        },
        {
         "hoverinfo": "text",
         "marker": {
          "color": "rgb(0,116,217)"
         },
         "mode": "lines",
         "text": [
          "delivery date_delivery time_deliveries_delivery_deliver",
          "",
          "",
          "technical support_reliability_equipment_reliable_siemens"
         ],
         "type": "scatter",
         "x": [
          0.8322566594445302,
          1.1256513156635175,
          1.1256513156635175,
          1.073219080992492
         ],
         "xaxis": "x",
         "y": [
          -25.9375,
          -25.9375,
          -217.14111328125,
          -217.14111328125
         ],
         "yaxis": "y"
        },
        {
         "hoverinfo": "text",
         "marker": {
          "color": "rgb(133,20,75)"
         },
         "mode": "lines",
         "text": [
          "quick response_response_quick_reply_easy",
          "",
          "",
          "kindness_polite_politeness_helpful_appreciate"
         ],
         "type": "scatter",
         "x": [
          0,
          0.6356946517593769,
          0.6356946517593769,
          0
         ],
         "xaxis": "x",
         "y": [
          -325,
          -325,
          -335,
          -335
         ],
         "yaxis": "y"
        },
        {
         "hoverinfo": "text",
         "marker": {
          "color": "rgb(255,220,0)"
         },
         "mode": "lines",
         "text": [
          "accuracy_precise_accurately_answers_precision",
          "",
          "",
          "inquiries_inquiry_contacted_responded_polite"
         ],
         "type": "scatter",
         "x": [
          0,
          0.5665654307365563,
          0.5665654307365563,
          0
         ],
         "xaxis": "x",
         "y": [
          -355,
          -355,
          -365,
          -365
         ],
         "yaxis": "y"
        },
        {
         "hoverinfo": "text",
         "marker": {
          "color": "rgb(255,220,0)"
         },
         "mode": "lines",
         "text": [
          "explaining_explanations_explained_straightforward_polite",
          "",
          "",
          "answered_precise_accurately_answers_inquiry"
         ],
         "type": "scatter",
         "x": [
          0,
          0.6709946481864981,
          0.6709946481864981,
          0.5665654307365563
         ],
         "xaxis": "x",
         "y": [
          -345,
          -345,
          -360,
          -360
         ],
         "yaxis": "y"
        },
        {
         "hoverinfo": "text",
         "marker": {
          "color": "rgb(255,220,0)"
         },
         "mode": "lines",
         "text": [
          "solve problem_problem_solution_solutions_helped",
          "",
          "",
          "solve problem_solving_solve_quickly_efficiently"
         ],
         "type": "scatter",
         "x": [
          0,
          0.6591944013659694,
          0.6591944013659694,
          0
         ],
         "xaxis": "x",
         "y": [
          -385,
          -385,
          -395,
          -395
         ],
         "yaxis": "y"
        },
        {
         "hoverinfo": "text",
         "marker": {
          "color": "rgb(255,220,0)"
         },
         "mode": "lines",
         "text": [
          "cause_reason_problem_solve problem_explanation",
          "",
          "",
          "solve problem_solving_solve_solutions_problem"
         ],
         "type": "scatter",
         "x": [
          0,
          0.7684749056100543,
          0.7684749056100543,
          0.6591944013659694
         ],
         "xaxis": "x",
         "y": [
          -375,
          -375,
          -390,
          -390
         ],
         "yaxis": "y"
        },
        {
         "hoverinfo": "text",
         "marker": {
          "color": "rgb(255,220,0)"
         },
         "mode": "lines",
         "text": [
          "explained_explaining_polite_explanation_politely",
          "",
          "",
          "solve problem_solving_solutions_solve_problem"
         ],
         "type": "scatter",
         "x": [
          0.6709946481864981,
          0.9732682240523814,
          0.9732682240523814,
          0.7684749056100543
         ],
         "xaxis": "x",
         "y": [
          -352.5,
          -352.5,
          -382.5,
          -382.5
         ],
         "yaxis": "y"
        },
        {
         "hoverinfo": "text",
         "marker": {
          "color": "rgb(40,35,35)"
         },
         "mode": "lines",
         "text": [
          "efficiently_efficient_efficiency_performance_quickly",
          "",
          "",
          "responsiveness_responsive_resolution_flexible_services"
         ],
         "type": "scatter",
         "x": [
          0,
          0.8526356460751631,
          0.8526356460751631,
          0
         ],
         "xaxis": "x",
         "y": [
          -405,
          -405,
          -415,
          -415
         ],
         "yaxis": "y"
        },
        {
         "hoverinfo": "text",
         "marker": {
          "color": "rgb(40,35,35)"
         },
         "mode": "lines",
         "text": [
          "feedback_quick response_helpful_respond_response",
          "",
          "",
          "assistance_assisted_intervention_immediate_providing"
         ],
         "type": "scatter",
         "x": [
          0,
          0.7843856477197017,
          0.7843856477197017,
          0
         ],
         "xaxis": "x",
         "y": [
          -435,
          -435,
          -445,
          -445
         ],
         "yaxis": "y"
        },
        {
         "hoverinfo": "text",
         "marker": {
          "color": "rgb(40,35,35)"
         },
         "mode": "lines",
         "text": [
          "advice_guidance_advise_competent_tips",
          "",
          "",
          "feedback_helpful_helpfulness_helped_satisfactory"
         ],
         "type": "scatter",
         "x": [
          0,
          0.8533777475928891,
          0.8533777475928891,
          0.7843856477197017
         ],
         "xaxis": "x",
         "y": [
          -425,
          -425,
          -440,
          -440
         ],
         "yaxis": "y"
        },
        {
         "hoverinfo": "text",
         "marker": {
          "color": "rgb(40,35,35)"
         },
         "mode": "lines",
         "text": [
          "responsiveness_responsively_responsive_effective_effectiveness",
          "",
          "",
          "advice_guidance_tips_feedback_assistance"
         ],
         "type": "scatter",
         "x": [
          0.8526356460751631,
          0.9129756294431027,
          0.9129756294431027,
          0.8533777475928891
         ],
         "xaxis": "x",
         "y": [
          -410,
          -410,
          -432.5,
          -432.5
         ],
         "yaxis": "y"
        },
        {
         "hoverinfo": "text",
         "marker": {
          "color": "rgb(0,116,217)"
         },
         "mode": "lines",
         "text": [
          "precise_answered_answers_accurately_response",
          "",
          "",
          "responsiveness_responsively_responsive_advice_effective"
         ],
         "type": "scatter",
         "x": [
          0.9732682240523814,
          1.0628482907059276,
          1.0628482907059276,
          0.9129756294431027
         ],
         "xaxis": "x",
         "y": [
          -367.5,
          -367.5,
          -421.25,
          -421.25
         ],
         "yaxis": "y"
        },
        {
         "hoverinfo": "text",
         "marker": {
          "color": "rgb(0,116,217)"
         },
         "mode": "lines",
         "text": [
          "quick response_response_quick_reply_short",
          "",
          "",
          "answered_precise_accurately_polite_answers"
         ],
         "type": "scatter",
         "x": [
          0.6356946517593769,
          1.1221959599123834,
          1.1221959599123834,
          1.0628482907059276
         ],
         "xaxis": "x",
         "y": [
          -330,
          -330,
          -394.375,
          -394.375
         ],
         "yaxis": "y"
        },
        {
         "hoverinfo": "text",
         "marker": {
          "color": "rgb(61,153,112)"
         },
         "mode": "lines",
         "text": [
          "faults_faulty_failures_complaint_defect",
          "",
          "",
          "ups_uninterruptible power supply_troubleshooting_power supply_upc"
         ],
         "type": "scatter",
         "x": [
          0,
          0.49480607081462935,
          0.49480607081462935,
          0
         ],
         "xaxis": "x",
         "y": [
          -475,
          -475,
          -485,
          -485
         ],
         "yaxis": "y"
        },
        {
         "hoverinfo": "text",
         "marker": {
          "color": "rgb(61,153,112)"
         },
         "mode": "lines",
         "text": [
          "troubleshooting_troubleshoot_resolved_issue_reset",
          "",
          "",
          "ups_uninterruptible power supply_apc_troubleshooting_reliability"
         ],
         "type": "scatter",
         "x": [
          0,
          0.6415406144477784,
          0.6415406144477784,
          0.49480607081462935
         ],
         "xaxis": "x",
         "y": [
          -465,
          -465,
          -480,
          -480
         ],
         "yaxis": "y"
        },
        {
         "hoverinfo": "text",
         "marker": {
          "color": "rgb(61,153,112)"
         },
         "mode": "lines",
         "text": [
          "resolved_troubleshooted_fixed_issue_solved",
          "",
          "",
          "ups_uninterruptible power supply_technical support_apc_troubleshooting"
         ],
         "type": "scatter",
         "x": [
          0,
          0.7201503556642306,
          0.7201503556642306,
          0.6415406144477784
         ],
         "xaxis": "x",
         "y": [
          -455,
          -455,
          -472.5,
          -472.5
         ],
         "yaxis": "y"
        },
        {
         "hoverinfo": "text",
         "marker": {
          "color": "rgb(61,153,112)"
         },
         "mode": "lines",
         "text": [
          "technical support_technician_technicians_technical_tech",
          "",
          "",
          "technical support_contact_call center_technician_telephone"
         ],
         "type": "scatter",
         "x": [
          0,
          0.44136466446106115,
          0.44136466446106115,
          0
         ],
         "xaxis": "x",
         "y": [
          -525,
          -525,
          -535,
          -535
         ],
         "yaxis": "y"
        },
        {
         "hoverinfo": "text",
         "marker": {
          "color": "rgb(61,153,112)"
         },
         "mode": "lines",
         "text": [
          "technical support_technician_technicians_technical_tech",
          "",
          "",
          "response time_quick response_responses_responding_quickness"
         ],
         "type": "scatter",
         "x": [
          0.44136466446106115,
          0.5074193805773104,
          0.5074193805773104,
          0
         ],
         "xaxis": "x",
         "y": [
          -530,
          -530,
          -545,
          -545
         ],
         "yaxis": "y"
        },
        {
         "hoverinfo": "text",
         "marker": {
          "color": "rgb(61,153,112)"
         },
         "mode": "lines",
         "text": [
          "technician_technicians_tech_techs_knowledgeable",
          "",
          "",
          "technical support_response time_call_telephone_call back"
         ],
         "type": "scatter",
         "x": [
          0,
          0.6409961908855758,
          0.6409961908855758,
          0.5074193805773104
         ],
         "xaxis": "x",
         "y": [
          -515,
          -515,
          -537.5,
          -537.5
         ],
         "yaxis": "y"
        },
        {
         "hoverinfo": "text",
         "marker": {
          "color": "rgb(61,153,112)"
         },
         "mode": "lines",
         "text": [
          "response time_technical support_telephone_call_call back",
          "",
          "",
          "customer service_customer support_service_customer_services"
         ],
         "type": "scatter",
         "x": [
          0.6409961908855758,
          0.6518760881185548,
          0.6518760881185548,
          0
         ],
         "xaxis": "x",
         "y": [
          -526.25,
          -526.25,
          -555,
          -555
         ],
         "yaxis": "y"
        },
        {
         "hoverinfo": "text",
         "marker": {
          "color": "rgb(61,153,112)"
         },
         "mode": "lines",
         "text": [
          "technical support_response time_customer service_assistance_responses",
          "",
          "",
          "technical support_service support_support_technical_strengthened"
         ],
         "type": "scatter",
         "x": [
          0.6518760881185548,
          0.6885339370175934,
          0.6885339370175934,
          0
         ],
         "xaxis": "x",
         "y": [
          -540.625,
          -540.625,
          -565,
          -565
         ],
         "yaxis": "y"
        },
        {
         "hoverinfo": "text",
         "marker": {
          "color": "rgb(61,153,112)"
         },
         "mode": "lines",
         "text": [
          "staff_competent_competence_employee_employees",
          "",
          "",
          "response time_technical support_customer service_responses_inquiry"
         ],
         "type": "scatter",
         "x": [
          0,
          0.7360279455693574,
          0.7360279455693574,
          0.6885339370175934
         ],
         "xaxis": "x",
         "y": [
          -505,
          -505,
          -552.8125,
          -552.8125
         ],
         "yaxis": "y"
        },
        {
         "hoverinfo": "text",
         "marker": {
          "color": "rgb(61,153,112)"
         },
         "mode": "lines",
         "text": [
          "support_competent_supported_supporters_fast",
          "",
          "",
          "technical support_response time_customer service_technical_technician"
         ],
         "type": "scatter",
         "x": [
          0,
          0.8026844426266615,
          0.8026844426266615,
          0.7360279455693574
         ],
         "xaxis": "x",
         "y": [
          -495,
          -495,
          -528.90625,
          -528.90625
         ],
         "yaxis": "y"
        },
        {
         "hoverinfo": "text",
         "marker": {
          "color": "rgb(61,153,112)"
         },
         "mode": "lines",
         "text": [
          "technical support_response time_customer service_technician_technicians",
          "",
          "",
          "competence_courtesy_polite_sincerity_satisfaction"
         ],
         "type": "scatter",
         "x": [
          0.8026844426266615,
          0.8489734142606583,
          0.8489734142606583,
          0
         ],
         "xaxis": "x",
         "y": [
          -511.953125,
          -511.953125,
          -575,
          -575
         ],
         "yaxis": "y"
        },
        {
         "hoverinfo": "text",
         "marker": {
          "color": "rgb(61,153,112)"
         },
         "mode": "lines",
         "text": [
          "ups_uninterruptible power supply_apc_warranty_technical support",
          "",
          "",
          "technical support_customer service_technical_assistance_prompt"
         ],
         "type": "scatter",
         "x": [
          0.7201503556642306,
          0.897784358925363,
          0.897784358925363,
          0.8489734142606583
         ],
         "xaxis": "x",
         "y": [
          -463.75,
          -463.75,
          -543.4765625,
          -543.4765625
         ],
         "yaxis": "y"
        },
        {
         "hoverinfo": "text",
         "marker": {
          "color": "rgb(0,116,217)"
         },
         "mode": "lines",
         "text": [
          "quick response_explained_easy_explaining_quickly",
          "",
          "",
          "response time_ups_technical support_troubleshooting_customer service"
         ],
         "type": "scatter",
         "x": [
          1.1221959599123834,
          1.2384228117052207,
          1.2384228117052207,
          0.897784358925363
         ],
         "xaxis": "x",
         "y": [
          -362.1875,
          -362.1875,
          -503.61328125,
          -503.61328125
         ],
         "yaxis": "y"
        },
        {
         "hoverinfo": "text",
         "marker": {
          "color": "rgb(255,65,54)"
         },
         "mode": "lines",
         "text": [
          "service_excellent_appreciate_welcome_great",
          "",
          "",
          "service_good___"
         ],
         "type": "scatter",
         "x": [
          0,
          0.7269366900575038,
          0.7269366900575038,
          0
         ],
         "xaxis": "x",
         "y": [
          -585,
          -585,
          -595,
          -595
         ],
         "yaxis": "y"
        },
        {
         "hoverinfo": "text",
         "marker": {
          "color": "rgb(0,116,217)"
         },
         "mode": "lines",
         "text": [
          "ups_response time_technical support_battery_replacement",
          "",
          "",
          "service_excellent_appreciate_welcome_helpful"
         ],
         "type": "scatter",
         "x": [
          1.2384228117052207,
          1.3078865143497276,
          1.3078865143497276,
          0.7269366900575038
         ],
         "xaxis": "x",
         "y": [
          -432.900390625,
          -432.900390625,
          -590,
          -590
         ],
         "yaxis": "y"
        },
        {
         "hoverinfo": "text",
         "marker": {
          "color": "rgb(0,116,217)"
         },
         "mode": "lines",
         "text": [
          "technical support_supplier_delays_deliveries_reliable",
          "",
          "",
          "response time_technical support_issue_ups_call back"
         ],
         "type": "scatter",
         "x": [
          1.1256513156635175,
          1.982162065597069,
          1.982162065597069,
          1.3078865143497276
         ],
         "xaxis": "x",
         "y": [
          -121.539306640625,
          -121.539306640625,
          -511.4501953125,
          -511.4501953125
         ],
         "yaxis": "y"
        },
        {
         "hoverinfo": "text",
         "hovertext": [
          "deliveries_shipments_delivery time_delivery date_delivery",
          "delivery time_delivery date_deliveries_delays_delivery",
          "suppliers_supplier_distributors_products_brands",
          "programmable logic controller_controllers_technical support_hardware_controls",
          "servo motors_servo_inverters_servos_inverter",
          "technical support_programmable logic controller_controllers_issues_supplier",
          "programmable logic controller_automation_technical support_controllers_controller",
          "frequency converters_technical support_converters_converter_frequency",
          "technical support_equipment_automation_programmable logic controller_reliability",
          "manufacturers_touch panel_siemens_manufacturer_compatibility",
          "technical support_technical service_quality_customer service_reliability",
          "technical support_technical service_customer service_availability_reliable",
          "technical support_programmable logic controller_equipment_controller_reliability",
          "delivery date_delivery time_deliveries_delivery_deliver",
          "explained_explaining_polite_explanation_politely",
          "responsiveness_responsively_responsive_effective_effectiveness",
          "precise_answered_answers_accurately_response",
          "quick response_response_quick_reply_short",
          "technical support_technician_technicians_technical_tech",
          "response time_technical support_telephone_call_call back",
          "technical support_response time_customer service_assistance_responses",
          "technical support_response time_customer service_technician_technicians",
          "ups_uninterruptible power supply_apc_warranty_technical support",
          "quick response_explained_easy_explaining_quickly",
          "ups_response time_technical support_battery_replacement",
          "technical support_supplier_delays_deliveries_reliable"
         ],
         "marker": {
          "color": "black"
         },
         "mode": "markers",
         "showlegend": false,
         "type": "scatter",
         "x": [
          0.34902907011542905,
          0.5941136744050203,
          0.3681475112723321,
          0.36801723302818823,
          0.46560654760944786,
          0.5200626718030168,
          0.5839527602766339,
          0.5056396729084509,
          0.6615759132243123,
          0.6742932256998437,
          0.7577940142419695,
          0.8117987283143117,
          0.7256338689648636,
          0.8322566594445302,
          0.6709946481864981,
          0.8526356460751631,
          0.9732682240523814,
          0.6356946517593769,
          0.44136466446106115,
          0.6409961908855758,
          0.6518760881185548,
          0.8026844426266615,
          0.7201503556642306,
          1.1221959599123834,
          1.2384228117052207,
          1.1256513156635175
         ],
         "y": [
          -22.5,
          -33.75,
          -172.5,
          -150,
          -130,
          -149.0625,
          -148.515625,
          -100,
          -143.37890625,
          -80,
          -263.75,
          -281.875,
          -135.8447265625,
          -25.9375,
          -352.5,
          -410,
          -367.5,
          -330,
          -530,
          -526.25,
          -540.625,
          -511.953125,
          -463.75,
          -362.1875,
          -432.900390625,
          -121.539306640625
         ]
        },
        {
         "hoverinfo": "text",
         "hovertext": [
          "delivery time_deliveries_delays_delivery_shipments",
          "responded_inquiries_refunded_sr_response time",
          "delivery time_delivery date_deliveries_delivery_delays",
          "suppliers_supplier_brands_partnership_brand",
          "circuit breakers_breakers_breaker_fuses_fuse",
          "technical support_breakers_brands_electric_circuit breakers",
          "technical support_programmable logic controller_siemens_equipment_products",
          "technical support_siemens_automation_products_components",
          "technical support_automation_issues_switches_reliability",
          "rating_rate_reliability_quality_score",
          "programmable logic controller_programmable_technical support_automation_servo",
          "technical service_customer service_quality_services_service",
          "technical support_technical service_quality_service support_customer service",
          "cooperation_cooperative_collaboration_collaborating_collaborations",
          "technical support_technical service_reliability_customer service_quality",
          "technical support_reliability_equipment_reliable_siemens",
          "answered_precise_accurately_answers_inquiry",
          "solve problem_solving_solve_solutions_problem",
          "solve problem_solving_solutions_solve_problem",
          "feedback_helpful_helpfulness_helped_satisfactory",
          "advice_guidance_tips_feedback_assistance",
          "responsiveness_responsively_responsive_advice_effective",
          "answered_precise_accurately_polite_answers",
          "ups_uninterruptible power supply_apc_troubleshooting_reliability",
          "ups_uninterruptible power supply_technical support_apc_troubleshooting",
          "technical support_response time_call_telephone_call back",
          "response time_technical support_customer service_responses_inquiry",
          "technical support_response time_customer service_technical_technician",
          "technical support_customer service_technical_assistance_prompt",
          "response time_ups_technical support_troubleshooting_customer service",
          "service_excellent_appreciate_welcome_helpful",
          "response time_technical support_issue_ups_call back"
         ],
         "marker": {
          "color": "black"
         },
         "mode": "markers",
         "showlegend": false,
         "type": "scatter",
         "x": [
          0.2822775669675429,
          0.7065485960439992,
          0.7571530255286162,
          0.26418835315813083,
          0.39828764718537935,
          0.47186877982403796,
          0.4886010100969665,
          0.5369764047865203,
          0.5912926934301385,
          0.5553259327128443,
          0.6931121590247846,
          0.7063444009111499,
          0.737202780987623,
          0.7905856882220921,
          0.8827224984931722,
          1.073219080992492,
          0.5665654307365563,
          0.6591944013659694,
          0.7684749056100543,
          0.7843856477197017,
          0.8533777475928891,
          0.9129756294431027,
          1.0628482907059276,
          0.49480607081462935,
          0.6415406144477784,
          0.5074193805773104,
          0.6885339370175934,
          0.7360279455693574,
          0.8489734142606583,
          0.897784358925363,
          0.7269366900575038,
          1.3078865143497276
         ],
         "y": [
          -30,
          -60,
          -46.875,
          -180,
          -200,
          -186.25,
          -168.125,
          -182.03125,
          -186.7578125,
          -240,
          -191.689453125,
          -280,
          -272.5,
          -300,
          -298.4375,
          -217.14111328125,
          -360,
          -390,
          -382.5,
          -440,
          -432.5,
          -421.25,
          -394.375,
          -480,
          -472.5,
          -537.5,
          -552.8125,
          -528.90625,
          -543.4765625,
          -503.61328125,
          -590,
          -511.4501953125
         ]
        }
       ],
       "layout": {
        "autosize": false,
        "height": 1100,
        "hoverlabel": {
         "bgcolor": "white",
         "font": {
          "family": "Rockwell",
          "size": 16
         }
        },
        "hovermode": "closest",
        "plot_bgcolor": "#ECEFF1",
        "showlegend": false,
        "template": {
         "data": {
          "bar": [
           {
            "error_x": {
             "color": "#2a3f5f"
            },
            "error_y": {
             "color": "#2a3f5f"
            },
            "marker": {
             "line": {
              "color": "white",
              "width": 0.5
             },
             "pattern": {
              "fillmode": "overlay",
              "size": 10,
              "solidity": 0.2
             }
            },
            "type": "bar"
           }
          ],
          "barpolar": [
           {
            "marker": {
             "line": {
              "color": "white",
              "width": 0.5
             },
             "pattern": {
              "fillmode": "overlay",
              "size": 10,
              "solidity": 0.2
             }
            },
            "type": "barpolar"
           }
          ],
          "carpet": [
           {
            "aaxis": {
             "endlinecolor": "#2a3f5f",
             "gridcolor": "#C8D4E3",
             "linecolor": "#C8D4E3",
             "minorgridcolor": "#C8D4E3",
             "startlinecolor": "#2a3f5f"
            },
            "baxis": {
             "endlinecolor": "#2a3f5f",
             "gridcolor": "#C8D4E3",
             "linecolor": "#C8D4E3",
             "minorgridcolor": "#C8D4E3",
             "startlinecolor": "#2a3f5f"
            },
            "type": "carpet"
           }
          ],
          "choropleth": [
           {
            "colorbar": {
             "outlinewidth": 0,
             "ticks": ""
            },
            "type": "choropleth"
           }
          ],
          "contour": [
           {
            "colorbar": {
             "outlinewidth": 0,
             "ticks": ""
            },
            "colorscale": [
             [
              0,
              "#0d0887"
             ],
             [
              0.1111111111111111,
              "#46039f"
             ],
             [
              0.2222222222222222,
              "#7201a8"
             ],
             [
              0.3333333333333333,
              "#9c179e"
             ],
             [
              0.4444444444444444,
              "#bd3786"
             ],
             [
              0.5555555555555556,
              "#d8576b"
             ],
             [
              0.6666666666666666,
              "#ed7953"
             ],
             [
              0.7777777777777778,
              "#fb9f3a"
             ],
             [
              0.8888888888888888,
              "#fdca26"
             ],
             [
              1,
              "#f0f921"
             ]
            ],
            "type": "contour"
           }
          ],
          "contourcarpet": [
           {
            "colorbar": {
             "outlinewidth": 0,
             "ticks": ""
            },
            "type": "contourcarpet"
           }
          ],
          "heatmap": [
           {
            "colorbar": {
             "outlinewidth": 0,
             "ticks": ""
            },
            "colorscale": [
             [
              0,
              "#0d0887"
             ],
             [
              0.1111111111111111,
              "#46039f"
             ],
             [
              0.2222222222222222,
              "#7201a8"
             ],
             [
              0.3333333333333333,
              "#9c179e"
             ],
             [
              0.4444444444444444,
              "#bd3786"
             ],
             [
              0.5555555555555556,
              "#d8576b"
             ],
             [
              0.6666666666666666,
              "#ed7953"
             ],
             [
              0.7777777777777778,
              "#fb9f3a"
             ],
             [
              0.8888888888888888,
              "#fdca26"
             ],
             [
              1,
              "#f0f921"
             ]
            ],
            "type": "heatmap"
           }
          ],
          "heatmapgl": [
           {
            "colorbar": {
             "outlinewidth": 0,
             "ticks": ""
            },
            "colorscale": [
             [
              0,
              "#0d0887"
             ],
             [
              0.1111111111111111,
              "#46039f"
             ],
             [
              0.2222222222222222,
              "#7201a8"
             ],
             [
              0.3333333333333333,
              "#9c179e"
             ],
             [
              0.4444444444444444,
              "#bd3786"
             ],
             [
              0.5555555555555556,
              "#d8576b"
             ],
             [
              0.6666666666666666,
              "#ed7953"
             ],
             [
              0.7777777777777778,
              "#fb9f3a"
             ],
             [
              0.8888888888888888,
              "#fdca26"
             ],
             [
              1,
              "#f0f921"
             ]
            ],
            "type": "heatmapgl"
           }
          ],
          "histogram": [
           {
            "marker": {
             "pattern": {
              "fillmode": "overlay",
              "size": 10,
              "solidity": 0.2
             }
            },
            "type": "histogram"
           }
          ],
          "histogram2d": [
           {
            "colorbar": {
             "outlinewidth": 0,
             "ticks": ""
            },
            "colorscale": [
             [
              0,
              "#0d0887"
             ],
             [
              0.1111111111111111,
              "#46039f"
             ],
             [
              0.2222222222222222,
              "#7201a8"
             ],
             [
              0.3333333333333333,
              "#9c179e"
             ],
             [
              0.4444444444444444,
              "#bd3786"
             ],
             [
              0.5555555555555556,
              "#d8576b"
             ],
             [
              0.6666666666666666,
              "#ed7953"
             ],
             [
              0.7777777777777778,
              "#fb9f3a"
             ],
             [
              0.8888888888888888,
              "#fdca26"
             ],
             [
              1,
              "#f0f921"
             ]
            ],
            "type": "histogram2d"
           }
          ],
          "histogram2dcontour": [
           {
            "colorbar": {
             "outlinewidth": 0,
             "ticks": ""
            },
            "colorscale": [
             [
              0,
              "#0d0887"
             ],
             [
              0.1111111111111111,
              "#46039f"
             ],
             [
              0.2222222222222222,
              "#7201a8"
             ],
             [
              0.3333333333333333,
              "#9c179e"
             ],
             [
              0.4444444444444444,
              "#bd3786"
             ],
             [
              0.5555555555555556,
              "#d8576b"
             ],
             [
              0.6666666666666666,
              "#ed7953"
             ],
             [
              0.7777777777777778,
              "#fb9f3a"
             ],
             [
              0.8888888888888888,
              "#fdca26"
             ],
             [
              1,
              "#f0f921"
             ]
            ],
            "type": "histogram2dcontour"
           }
          ],
          "mesh3d": [
           {
            "colorbar": {
             "outlinewidth": 0,
             "ticks": ""
            },
            "type": "mesh3d"
           }
          ],
          "parcoords": [
           {
            "line": {
             "colorbar": {
              "outlinewidth": 0,
              "ticks": ""
             }
            },
            "type": "parcoords"
           }
          ],
          "pie": [
           {
            "automargin": true,
            "type": "pie"
           }
          ],
          "scatter": [
           {
            "fillpattern": {
             "fillmode": "overlay",
             "size": 10,
             "solidity": 0.2
            },
            "type": "scatter"
           }
          ],
          "scatter3d": [
           {
            "line": {
             "colorbar": {
              "outlinewidth": 0,
              "ticks": ""
             }
            },
            "marker": {
             "colorbar": {
              "outlinewidth": 0,
              "ticks": ""
             }
            },
            "type": "scatter3d"
           }
          ],
          "scattercarpet": [
           {
            "marker": {
             "colorbar": {
              "outlinewidth": 0,
              "ticks": ""
             }
            },
            "type": "scattercarpet"
           }
          ],
          "scattergeo": [
           {
            "marker": {
             "colorbar": {
              "outlinewidth": 0,
              "ticks": ""
             }
            },
            "type": "scattergeo"
           }
          ],
          "scattergl": [
           {
            "marker": {
             "colorbar": {
              "outlinewidth": 0,
              "ticks": ""
             }
            },
            "type": "scattergl"
           }
          ],
          "scattermapbox": [
           {
            "marker": {
             "colorbar": {
              "outlinewidth": 0,
              "ticks": ""
             }
            },
            "type": "scattermapbox"
           }
          ],
          "scatterpolar": [
           {
            "marker": {
             "colorbar": {
              "outlinewidth": 0,
              "ticks": ""
             }
            },
            "type": "scatterpolar"
           }
          ],
          "scatterpolargl": [
           {
            "marker": {
             "colorbar": {
              "outlinewidth": 0,
              "ticks": ""
             }
            },
            "type": "scatterpolargl"
           }
          ],
          "scatterternary": [
           {
            "marker": {
             "colorbar": {
              "outlinewidth": 0,
              "ticks": ""
             }
            },
            "type": "scatterternary"
           }
          ],
          "surface": [
           {
            "colorbar": {
             "outlinewidth": 0,
             "ticks": ""
            },
            "colorscale": [
             [
              0,
              "#0d0887"
             ],
             [
              0.1111111111111111,
              "#46039f"
             ],
             [
              0.2222222222222222,
              "#7201a8"
             ],
             [
              0.3333333333333333,
              "#9c179e"
             ],
             [
              0.4444444444444444,
              "#bd3786"
             ],
             [
              0.5555555555555556,
              "#d8576b"
             ],
             [
              0.6666666666666666,
              "#ed7953"
             ],
             [
              0.7777777777777778,
              "#fb9f3a"
             ],
             [
              0.8888888888888888,
              "#fdca26"
             ],
             [
              1,
              "#f0f921"
             ]
            ],
            "type": "surface"
           }
          ],
          "table": [
           {
            "cells": {
             "fill": {
              "color": "#EBF0F8"
             },
             "line": {
              "color": "white"
             }
            },
            "header": {
             "fill": {
              "color": "#C8D4E3"
             },
             "line": {
              "color": "white"
             }
            },
            "type": "table"
           }
          ]
         },
         "layout": {
          "annotationdefaults": {
           "arrowcolor": "#2a3f5f",
           "arrowhead": 0,
           "arrowwidth": 1
          },
          "autotypenumbers": "strict",
          "coloraxis": {
           "colorbar": {
            "outlinewidth": 0,
            "ticks": ""
           }
          },
          "colorscale": {
           "diverging": [
            [
             0,
             "#8e0152"
            ],
            [
             0.1,
             "#c51b7d"
            ],
            [
             0.2,
             "#de77ae"
            ],
            [
             0.3,
             "#f1b6da"
            ],
            [
             0.4,
             "#fde0ef"
            ],
            [
             0.5,
             "#f7f7f7"
            ],
            [
             0.6,
             "#e6f5d0"
            ],
            [
             0.7,
             "#b8e186"
            ],
            [
             0.8,
             "#7fbc41"
            ],
            [
             0.9,
             "#4d9221"
            ],
            [
             1,
             "#276419"
            ]
           ],
           "sequential": [
            [
             0,
             "#0d0887"
            ],
            [
             0.1111111111111111,
             "#46039f"
            ],
            [
             0.2222222222222222,
             "#7201a8"
            ],
            [
             0.3333333333333333,
             "#9c179e"
            ],
            [
             0.4444444444444444,
             "#bd3786"
            ],
            [
             0.5555555555555556,
             "#d8576b"
            ],
            [
             0.6666666666666666,
             "#ed7953"
            ],
            [
             0.7777777777777778,
             "#fb9f3a"
            ],
            [
             0.8888888888888888,
             "#fdca26"
            ],
            [
             1,
             "#f0f921"
            ]
           ],
           "sequentialminus": [
            [
             0,
             "#0d0887"
            ],
            [
             0.1111111111111111,
             "#46039f"
            ],
            [
             0.2222222222222222,
             "#7201a8"
            ],
            [
             0.3333333333333333,
             "#9c179e"
            ],
            [
             0.4444444444444444,
             "#bd3786"
            ],
            [
             0.5555555555555556,
             "#d8576b"
            ],
            [
             0.6666666666666666,
             "#ed7953"
            ],
            [
             0.7777777777777778,
             "#fb9f3a"
            ],
            [
             0.8888888888888888,
             "#fdca26"
            ],
            [
             1,
             "#f0f921"
            ]
           ]
          },
          "colorway": [
           "#636efa",
           "#EF553B",
           "#00cc96",
           "#ab63fa",
           "#FFA15A",
           "#19d3f3",
           "#FF6692",
           "#B6E880",
           "#FF97FF",
           "#FECB52"
          ],
          "font": {
           "color": "#2a3f5f"
          },
          "geo": {
           "bgcolor": "white",
           "lakecolor": "white",
           "landcolor": "white",
           "showlakes": true,
           "showland": true,
           "subunitcolor": "#C8D4E3"
          },
          "hoverlabel": {
           "align": "left"
          },
          "hovermode": "closest",
          "mapbox": {
           "style": "light"
          },
          "paper_bgcolor": "white",
          "plot_bgcolor": "white",
          "polar": {
           "angularaxis": {
            "gridcolor": "#EBF0F8",
            "linecolor": "#EBF0F8",
            "ticks": ""
           },
           "bgcolor": "white",
           "radialaxis": {
            "gridcolor": "#EBF0F8",
            "linecolor": "#EBF0F8",
            "ticks": ""
           }
          },
          "scene": {
           "xaxis": {
            "backgroundcolor": "white",
            "gridcolor": "#DFE8F3",
            "gridwidth": 2,
            "linecolor": "#EBF0F8",
            "showbackground": true,
            "ticks": "",
            "zerolinecolor": "#EBF0F8"
           },
           "yaxis": {
            "backgroundcolor": "white",
            "gridcolor": "#DFE8F3",
            "gridwidth": 2,
            "linecolor": "#EBF0F8",
            "showbackground": true,
            "ticks": "",
            "zerolinecolor": "#EBF0F8"
           },
           "zaxis": {
            "backgroundcolor": "white",
            "gridcolor": "#DFE8F3",
            "gridwidth": 2,
            "linecolor": "#EBF0F8",
            "showbackground": true,
            "ticks": "",
            "zerolinecolor": "#EBF0F8"
           }
          },
          "shapedefaults": {
           "line": {
            "color": "#2a3f5f"
           }
          },
          "ternary": {
           "aaxis": {
            "gridcolor": "#DFE8F3",
            "linecolor": "#A2B1C6",
            "ticks": ""
           },
           "baxis": {
            "gridcolor": "#DFE8F3",
            "linecolor": "#A2B1C6",
            "ticks": ""
           },
           "bgcolor": "white",
           "caxis": {
            "gridcolor": "#DFE8F3",
            "linecolor": "#A2B1C6",
            "ticks": ""
           }
          },
          "title": {
           "x": 0.05
          },
          "xaxis": {
           "automargin": true,
           "gridcolor": "#EBF0F8",
           "linecolor": "#EBF0F8",
           "ticks": "",
           "title": {
            "standoff": 15
           },
           "zerolinecolor": "#EBF0F8",
           "zerolinewidth": 2
          },
          "yaxis": {
           "automargin": true,
           "gridcolor": "#EBF0F8",
           "linecolor": "#EBF0F8",
           "ticks": "",
           "title": {
            "standoff": 15
           },
           "zerolinecolor": "#EBF0F8",
           "zerolinewidth": 2
          }
         }
        },
        "title": {
         "font": {
          "color": "Black",
          "size": 22
         },
         "text": "<b>Hierarchical Clustering</b>",
         "x": 0.5,
         "xanchor": "center",
         "yanchor": "top"
        },
        "width": 1000,
        "xaxis": {
         "mirror": "allticks",
         "rangemode": "tozero",
         "showgrid": false,
         "showline": true,
         "showticklabels": true,
         "ticks": "outside",
         "type": "linear",
         "zeroline": false
        },
        "yaxis": {
         "mirror": "allticks",
         "range": [
          -600,
          0
         ],
         "rangemode": "tozero",
         "showgrid": false,
         "showline": true,
         "showticklabels": true,
         "tickmode": "array",
         "ticks": "outside",
         "ticktext": [
          "42_deadlines_deadline_delays",
          "3_delivery date_delivery ti...",
          "0_delivery time_delivery da...",
          "13_deliveries_delivery time...",
          "20_quotations_pricing_quotes",
          "50_quotations_quotation_quo...",
          "27_offers_discount_negotiat...",
          "35_siemens_subsidiaries_fac...",
          "32_touch panel_touch screen...",
          "40_frequency converters_con...",
          "36_frequency converters_con...",
          "31_drives_speed drives_drive",
          "37_servo motors_servo_servos",
          "21_inverter_inverters_inver...",
          "6_programmable logic contro...",
          "12_technical support_progra...",
          "9_ten_nine_rate",
          "4_electrical_electricity_su...",
          "1_suppliers_supplier_compan...",
          "14_switches_switchgear_switch",
          "16_circuit breakers_breaker...",
          "19_quality_reliability_reas...",
          "8_price quality ratio_prici...",
          "33_rating_ratings_quality",
          "46_rating_grading_score",
          "44_reliable_reliability_qua...",
          "51_technical support_servic...",
          "23_quality_customer service...",
          "41_technical service_qualit...",
          "49_issues_problems_reliable",
          "57_cooperation_cooperative_...",
          "22_fine_perfectly_smoothly",
          "58_quick response_response_...",
          "59_kindness_polite_politeness",
          "38_explaining_explanations_...",
          "10_accuracy_precise_accurat...",
          "26_inquiries_inquiry_contac...",
          "52_cause_reason_problem",
          "39_solve problem_problem_so...",
          "43_solve problem_solving_so...",
          "45_efficiently_efficient_ef...",
          "47_responsiveness_responsiv...",
          "55_advice_guidance_advise",
          "53_feedback_quick response_...",
          "54_assistance_assisted_inte...",
          "29_resolved_troubleshooted_...",
          "30_troubleshooting_troubles...",
          "11_faults_faulty_failures",
          "24_ups_uninterruptible powe...",
          "28_support_competent_suppor...",
          "18_staff_competent_competence",
          "25_technician_technicians_t...",
          "7_technical support_technic...",
          "5_technical support_contact...",
          "2_response time_quick respo...",
          "15_customer service_custome...",
          "34_technical support_servic...",
          "17_competence_courtesy_polite",
          "48_service_excellent_apprec...",
          "56_service_good_"
         ],
         "tickvals": [
          -5,
          -15,
          -25,
          -35,
          -45,
          -55,
          -65,
          -75,
          -85,
          -95,
          -105,
          -115,
          -125,
          -135,
          -145,
          -155,
          -165,
          -175,
          -185,
          -195,
          -205,
          -215,
          -225,
          -235,
          -245,
          -255,
          -265,
          -275,
          -285,
          -295,
          -305,
          -315,
          -325,
          -335,
          -345,
          -355,
          -365,
          -375,
          -385,
          -395,
          -405,
          -415,
          -425,
          -435,
          -445,
          -455,
          -465,
          -475,
          -485,
          -495,
          -505,
          -515,
          -525,
          -535,
          -545,
          -555,
          -565,
          -575,
          -585,
          -595
         ],
         "type": "linear",
         "zeroline": false
        }
       }
      }
     },
     "metadata": {},
     "output_type": "display_data"
    }
   ],
   "source": [
    "hierarchical_topics = topic_model.hierarchical_topics(docs)\n",
    "topic_model.visualize_hierarchy(hierarchical_topics=hierarchical_topics)"
   ]
  },
  {
   "cell_type": "code",
   "execution_count": null,
   "metadata": {},
   "outputs": [],
   "source": [
    "tree = topic_model.get_topic_tree(hierarchical_topics)\n",
    "# print(tree)"
   ]
  },
  {
   "cell_type": "code",
   "execution_count": 12,
   "metadata": {},
   "outputs": [],
   "source": [
    "topics_to_merge = [ [42,3,0,13], #Delivery Deadlines : challenges and strategies involved in managing delivery deadlines in logistics operations. (vert)\n",
    "                    [20,50,27], #Quotation and Pricing Strategies (vert bas)\n",
    "                    [35,32], #Touch Panels and Screens (rouge, haut)\n",
    "                    [40,36], #Frequency Converters : frequency converters used in industrial applications and the technical support provided by manufacturers and suppliers (rouge, suite)\n",
    "                    [37,21,6,12,9,4,1,14,16,31,19], #“Automation Components” : hardware and software components used in industrial automation systems. (rouge centre)\n",
    "                    [33,46,8], #Product Evaluation : evaluate the quality, affordability and reliability of products and services (rouge, fin)\n",
    "                    [44,51,23,41,49,57,22], #Customer Support : Reliability and Quality in Customer Service and Support (bleu ciel)\n",
    "                    [58,59], #Quick Customer Service (marron)\n",
    "                    [38,10,26,52,39,43], #Problem Solving and Communication (focus on the importance of being efficient and precise when solving problems) (jaune)\n",
    "                    [45,47,55,53,54], #Assistance and Guidance (noir)\n",
    "                    [29,30,11,24], #Power Supply Issues (2e vert, haut)\n",
    "                    [7,5,2,25,15,34,18,28,17], #Technical Support (2e vert, bas)\n",
    "                    [48,56] #None : positive feedback (2e rouge)\n",
    "]\n",
    "\n",
    "names = [\"Delivery Deadlines\",\n",
    "    \"Pricing\", #Quotation and Pricing Strategies\n",
    "    \"Touch Screens\", #Touch Panels and Screens\n",
    "    \"Frequency Converters\",\n",
    "    \"Automation Components\",\n",
    "    \"Product Evaluation\",\n",
    "    \"Customer Support\", #Reliability and Quality in Customer Service and Support\n",
    "    \"Quick Customer Service\",\n",
    "    \"Problem Solving & Comm\",\n",
    "    \"Assistance\", #Assistance and Guidance\n",
    "    \"Power Supply Issues\",\n",
    "    \"Technical Support\",\n",
    "    \"positive feedback\"]\n",
    "\n",
    "# Create a dictionary where the keys are the topics and the values are the custom labels\n",
    "topic_labels_dict = {}\n",
    "topic_labels_dict[-1]=\"Outliers\"\n",
    "for i in range(len(topics_to_merge)):\n",
    "    for topic in topics_to_merge[i]:\n",
    "        topic_labels_dict[topic] = names[i]\n",
    "\n",
    "# topic_model_merged = copy.deepcopy(topic_model)\n",
    "# topic_model_merged.set_topic_labels(topic_labels_dict)\n",
    "# topic_model_merged.merge_topics(docs, topics_to_merge)\n",
    "\n",
    "# topic_model_merged.visualize_barchart(top_n_topics=50, custom_labels=True)"
   ]
  },
  {
   "cell_type": "code",
   "execution_count": 159,
   "metadata": {},
   "outputs": [
    {
     "name": "stderr",
     "output_type": "stream",
     "text": [
      "100%|██████████| 59/59 [00:08<00:00,  6.85it/s]\n"
     ]
    },
    {
     "data": {
      "application/vnd.plotly.v1+json": {
       "config": {
        "plotlyServerURL": "https://plot.ly"
       },
       "data": [
        {
         "hoverinfo": "text",
         "marker": {
          "color": "rgb(61,153,112)"
         },
         "mode": "lines",
         "text": [
          "delivery time_delivery date_deliveries_delivery_delays",
          "",
          "",
          "deliveries_delivery time_delays_delivering_delivery"
         ],
         "type": "scatter",
         "x": [
          0,
          0.2822775669675429,
          0.2822775669675429,
          0
         ],
         "xaxis": "x",
         "y": [
          -25,
          -25,
          -35,
          -35
         ],
         "yaxis": "y"
        },
        {
         "hoverinfo": "text",
         "marker": {
          "color": "rgb(61,153,112)"
         },
         "mode": "lines",
         "text": [
          "delivery date_delivery time_delivery_deliveries_delayed",
          "",
          "",
          "delivery time_deliveries_delays_delivery_shipments"
         ],
         "type": "scatter",
         "x": [
          0,
          0.34902907011542905,
          0.34902907011542905,
          0.2822775669675429
         ],
         "xaxis": "x",
         "y": [
          -15,
          -15,
          -30,
          -30
         ],
         "yaxis": "y"
        },
        {
         "hoverinfo": "text",
         "marker": {
          "color": "rgb(61,153,112)"
         },
         "mode": "lines",
         "text": [
          "deliveries_shipments_delivery time_delivery date_delivery",
          "",
          "",
          "quotations_pricing_quotes_invoices_quotation"
         ],
         "type": "scatter",
         "x": [
          0.34902907011542905,
          0.5941136744050203,
          0.5941136744050203,
          0
         ],
         "xaxis": "x",
         "y": [
          -22.5,
          -22.5,
          -45,
          -45
         ],
         "yaxis": "y"
        },
        {
         "hoverinfo": "text",
         "marker": {
          "color": "rgb(61,153,112)"
         },
         "mode": "lines",
         "text": [
          "quotations_quotation_quotes_responded_quoted",
          "",
          "",
          "offers_discount_negotiation_offered_refunded"
         ],
         "type": "scatter",
         "x": [
          0,
          0.7065485960439992,
          0.7065485960439992,
          0
         ],
         "xaxis": "x",
         "y": [
          -55,
          -55,
          -65,
          -65
         ],
         "yaxis": "y"
        },
        {
         "hoverinfo": "text",
         "marker": {
          "color": "rgb(61,153,112)"
         },
         "mode": "lines",
         "text": [
          "delivery time_delivery date_deliveries_delays_delivery",
          "",
          "",
          "responded_inquiries_refunded_sr_response time"
         ],
         "type": "scatter",
         "x": [
          0.5941136744050203,
          0.7571530255286162,
          0.7571530255286162,
          0.7065485960439992
         ],
         "xaxis": "x",
         "y": [
          -33.75,
          -33.75,
          -60,
          -60
         ],
         "yaxis": "y"
        },
        {
         "hoverinfo": "text",
         "marker": {
          "color": "rgb(61,153,112)"
         },
         "mode": "lines",
         "text": [
          "deadlines_deadline_delays_delaying_scheduling",
          "",
          "",
          "delivery time_delivery date_deliveries_delivery_delays"
         ],
         "type": "scatter",
         "x": [
          0,
          0.8322566594445302,
          0.8322566594445302,
          0.7571530255286162
         ],
         "xaxis": "x",
         "y": [
          -5,
          -5,
          -46.875,
          -46.875
         ],
         "yaxis": "y"
        },
        {
         "hoverinfo": "text",
         "marker": {
          "color": "rgb(255,65,54)"
         },
         "mode": "lines",
         "text": [
          "siemens_subsidiaries_factories_supplier_manufacturer",
          "",
          "",
          "touch panel_touch screen_dell_gp4501_gp4000"
         ],
         "type": "scatter",
         "x": [
          0,
          0.6742932256998437,
          0.6742932256998437,
          0
         ],
         "xaxis": "x",
         "y": [
          -75,
          -75,
          -85,
          -85
         ],
         "yaxis": "y"
        },
        {
         "hoverinfo": "text",
         "marker": {
          "color": "rgb(255,65,54)"
         },
         "mode": "lines",
         "text": [
          "frequency converters_converters_technical support_electric_manufacturers",
          "",
          "",
          "frequency converters_converters_frequency_converter_60hz"
         ],
         "type": "scatter",
         "x": [
          0,
          0.5056396729084509,
          0.5056396729084509,
          0
         ],
         "xaxis": "x",
         "y": [
          -95,
          -95,
          -105,
          -105
         ],
         "yaxis": "y"
        },
        {
         "hoverinfo": "text",
         "marker": {
          "color": "rgb(255,65,54)"
         },
         "mode": "lines",
         "text": [
          "servo motors_servo_servos_discontinued_motors",
          "",
          "",
          "inverter_inverters_invertor_frequency inverters_converters"
         ],
         "type": "scatter",
         "x": [
          0,
          0.46560654760944786,
          0.46560654760944786,
          0
         ],
         "xaxis": "x",
         "y": [
          -125,
          -125,
          -135,
          -135
         ],
         "yaxis": "y"
        },
        {
         "hoverinfo": "text",
         "marker": {
          "color": "rgb(255,65,54)"
         },
         "mode": "lines",
         "text": [
          "programmable logic controller_controllers_touch panel_hardware_programmable",
          "",
          "",
          "technical support_programmable logic controller_automation_controllers_programmable"
         ],
         "type": "scatter",
         "x": [
          0,
          0.36801723302818823,
          0.36801723302818823,
          0
         ],
         "xaxis": "x",
         "y": [
          -145,
          -145,
          -155,
          -155
         ],
         "yaxis": "y"
        },
        {
         "hoverinfo": "text",
         "marker": {
          "color": "rgb(255,65,54)"
         },
         "mode": "lines",
         "text": [
          "electrical_electricity_supplier_electric_products",
          "",
          "",
          "suppliers_supplier_companies_technical support_company"
         ],
         "type": "scatter",
         "x": [
          0,
          0.26418835315813083,
          0.26418835315813083,
          0
         ],
         "xaxis": "x",
         "y": [
          -175,
          -175,
          -185,
          -185
         ],
         "yaxis": "y"
        },
        {
         "hoverinfo": "text",
         "marker": {
          "color": "rgb(255,65,54)"
         },
         "mode": "lines",
         "text": [
          "ten_nine_rate_quality_pricing",
          "",
          "",
          "suppliers_supplier_brands_partnership_brand"
         ],
         "type": "scatter",
         "x": [
          0,
          0.3681475112723321,
          0.3681475112723321,
          0.26418835315813083
         ],
         "xaxis": "x",
         "y": [
          -165,
          -165,
          -180,
          -180
         ],
         "yaxis": "y"
        },
        {
         "hoverinfo": "text",
         "marker": {
          "color": "rgb(255,65,54)"
         },
         "mode": "lines",
         "text": [
          "switches_switchgear_switch_switchgears_switchboard",
          "",
          "",
          "circuit breakers_breakers_breaker_electrical_iec"
         ],
         "type": "scatter",
         "x": [
          0,
          0.39828764718537935,
          0.39828764718537935,
          0
         ],
         "xaxis": "x",
         "y": [
          -195,
          -195,
          -205,
          -205
         ],
         "yaxis": "y"
        },
        {
         "hoverinfo": "text",
         "marker": {
          "color": "rgb(255,65,54)"
         },
         "mode": "lines",
         "text": [
          "suppliers_supplier_distributors_products_brands",
          "",
          "",
          "circuit breakers_breakers_breaker_fuses_fuse"
         ],
         "type": "scatter",
         "x": [
          0.3681475112723321,
          0.47186877982403796,
          0.47186877982403796,
          0.39828764718537935
         ],
         "xaxis": "x",
         "y": [
          -172.5,
          -172.5,
          -200,
          -200
         ],
         "yaxis": "y"
        },
        {
         "hoverinfo": "text",
         "marker": {
          "color": "rgb(255,65,54)"
         },
         "mode": "lines",
         "text": [
          "programmable logic controller_controllers_technical support_hardware_controls",
          "",
          "",
          "technical support_breakers_brands_electric_circuit breakers"
         ],
         "type": "scatter",
         "x": [
          0.36801723302818823,
          0.4886010100969665,
          0.4886010100969665,
          0.47186877982403796
         ],
         "xaxis": "x",
         "y": [
          -150,
          -150,
          -186.25,
          -186.25
         ],
         "yaxis": "y"
        },
        {
         "hoverinfo": "text",
         "marker": {
          "color": "rgb(255,65,54)"
         },
         "mode": "lines",
         "text": [
          "servo motors_servo_inverters_servos_inverter",
          "",
          "",
          "technical support_programmable logic controller_siemens_equipment_products"
         ],
         "type": "scatter",
         "x": [
          0.46560654760944786,
          0.5200626718030168,
          0.5200626718030168,
          0.4886010100969665
         ],
         "xaxis": "x",
         "y": [
          -130,
          -130,
          -168.125,
          -168.125
         ],
         "yaxis": "y"
        },
        {
         "hoverinfo": "text",
         "marker": {
          "color": "rgb(255,65,54)"
         },
         "mode": "lines",
         "text": [
          "technical support_programmable logic controller_controllers_issues_supplier",
          "",
          "",
          "quality_reliability_reasons_discontinued_reliable"
         ],
         "type": "scatter",
         "x": [
          0.5200626718030168,
          0.5369764047865203,
          0.5369764047865203,
          0
         ],
         "xaxis": "x",
         "y": [
          -149.0625,
          -149.0625,
          -215,
          -215
         ],
         "yaxis": "y"
        },
        {
         "hoverinfo": "text",
         "marker": {
          "color": "rgb(255,65,54)"
         },
         "mode": "lines",
         "text": [
          "drives_speed drives_drive_troubleshooting_technical support",
          "",
          "",
          "technical support_siemens_automation_products_components"
         ],
         "type": "scatter",
         "x": [
          0,
          0.5839527602766339,
          0.5839527602766339,
          0.5369764047865203
         ],
         "xaxis": "x",
         "y": [
          -115,
          -115,
          -182.03125,
          -182.03125
         ],
         "yaxis": "y"
        },
        {
         "hoverinfo": "text",
         "marker": {
          "color": "rgb(255,65,54)"
         },
         "mode": "lines",
         "text": [
          "programmable logic controller_automation_technical support_controllers_controller",
          "",
          "",
          "price quality ratio_pricing_affordable_prices_quality"
         ],
         "type": "scatter",
         "x": [
          0.5839527602766339,
          0.5912926934301385,
          0.5912926934301385,
          0
         ],
         "xaxis": "x",
         "y": [
          -148.515625,
          -148.515625,
          -225,
          -225
         ],
         "yaxis": "y"
        },
        {
         "hoverinfo": "text",
         "marker": {
          "color": "rgb(255,65,54)"
         },
         "mode": "lines",
         "text": [
          "frequency converters_technical support_converters_converter_frequency",
          "",
          "",
          "technical support_automation_issues_switches_reliability"
         ],
         "type": "scatter",
         "x": [
          0.5056396729084509,
          0.6615759132243123,
          0.6615759132243123,
          0.5912926934301385
         ],
         "xaxis": "x",
         "y": [
          -100,
          -100,
          -186.7578125,
          -186.7578125
         ],
         "yaxis": "y"
        },
        {
         "hoverinfo": "text",
         "marker": {
          "color": "rgb(255,65,54)"
         },
         "mode": "lines",
         "text": [
          "rating_ratings_quality_reliability_rate",
          "",
          "",
          "rating_grading_score_evaluated_grade"
         ],
         "type": "scatter",
         "x": [
          0,
          0.5553259327128443,
          0.5553259327128443,
          0
         ],
         "xaxis": "x",
         "y": [
          -235,
          -235,
          -245,
          -245
         ],
         "yaxis": "y"
        },
        {
         "hoverinfo": "text",
         "marker": {
          "color": "rgb(255,65,54)"
         },
         "mode": "lines",
         "text": [
          "technical support_equipment_automation_programmable logic controller_reliability",
          "",
          "",
          "rating_rate_reliability_quality_score"
         ],
         "type": "scatter",
         "x": [
          0.6615759132243123,
          0.6931121590247846,
          0.6931121590247846,
          0.5553259327128443
         ],
         "xaxis": "x",
         "y": [
          -143.37890625,
          -143.37890625,
          -240,
          -240
         ],
         "yaxis": "y"
        },
        {
         "hoverinfo": "text",
         "marker": {
          "color": "rgb(255,65,54)"
         },
         "mode": "lines",
         "text": [
          "manufacturers_touch panel_siemens_manufacturer_compatibility",
          "",
          "",
          "programmable logic controller_programmable_technical support_automation_servo"
         ],
         "type": "scatter",
         "x": [
          0.6742932256998437,
          0.7256338689648636,
          0.7256338689648636,
          0.6931121590247846
         ],
         "xaxis": "x",
         "y": [
          -80,
          -80,
          -191.689453125,
          -191.689453125
         ],
         "yaxis": "y"
        },
        {
         "hoverinfo": "text",
         "marker": {
          "color": "rgb(35,205,205)"
         },
         "mode": "lines",
         "text": [
          "quality_customer service_services_satisfaction_reliability",
          "",
          "",
          "technical service_quality_materials_material_practicality"
         ],
         "type": "scatter",
         "x": [
          0,
          0.7063444009111499,
          0.7063444009111499,
          0
         ],
         "xaxis": "x",
         "y": [
          -275,
          -275,
          -285,
          -285
         ],
         "yaxis": "y"
        },
        {
         "hoverinfo": "text",
         "marker": {
          "color": "rgb(35,205,205)"
         },
         "mode": "lines",
         "text": [
          "technical support_service support_technical service_support_supports",
          "",
          "",
          "technical service_customer service_quality_services_service"
         ],
         "type": "scatter",
         "x": [
          0,
          0.737202780987623,
          0.737202780987623,
          0.7063444009111499
         ],
         "xaxis": "x",
         "y": [
          -265,
          -265,
          -280,
          -280
         ],
         "yaxis": "y"
        },
        {
         "hoverinfo": "text",
         "marker": {
          "color": "rgb(35,205,205)"
         },
         "mode": "lines",
         "text": [
          "reliable_reliability_quality_dependability_brand",
          "",
          "",
          "technical support_technical service_quality_service support_customer service"
         ],
         "type": "scatter",
         "x": [
          0,
          0.7577940142419695,
          0.7577940142419695,
          0.737202780987623
         ],
         "xaxis": "x",
         "y": [
          -255,
          -255,
          -272.5,
          -272.5
         ],
         "yaxis": "y"
        },
        {
         "hoverinfo": "text",
         "marker": {
          "color": "rgb(35,205,205)"
         },
         "mode": "lines",
         "text": [
          "issues_problems_reliable_defect_customer support",
          "",
          "",
          "cooperation_cooperative_collaboration_collaborating_collaborations"
         ],
         "type": "scatter",
         "x": [
          0,
          0.7905856882220921,
          0.7905856882220921,
          0
         ],
         "xaxis": "x",
         "y": [
          -295,
          -295,
          -305,
          -305
         ],
         "yaxis": "y"
        },
        {
         "hoverinfo": "text",
         "marker": {
          "color": "rgb(35,205,205)"
         },
         "mode": "lines",
         "text": [
          "technical support_technical service_quality_customer service_reliability",
          "",
          "",
          "cooperation_cooperative_collaboration_collaborating_collaborations"
         ],
         "type": "scatter",
         "x": [
          0.7577940142419695,
          0.8117987283143117,
          0.8117987283143117,
          0.7905856882220921
         ],
         "xaxis": "x",
         "y": [
          -263.75,
          -263.75,
          -300,
          -300
         ],
         "yaxis": "y"
        },
        {
         "hoverinfo": "text",
         "marker": {
          "color": "rgb(35,205,205)"
         },
         "mode": "lines",
         "text": [
          "technical support_technical service_customer service_availability_reliable",
          "",
          "",
          "fine_perfectly_smoothly_usual_everything"
         ],
         "type": "scatter",
         "x": [
          0.8117987283143117,
          0.8827224984931722,
          0.8827224984931722,
          0
         ],
         "xaxis": "x",
         "y": [
          -281.875,
          -281.875,
          -315,
          -315
         ],
         "yaxis": "y"
        },
        {
         "hoverinfo": "text",
         "marker": {
          "color": "rgb(0,116,217)"
         },
         "mode": "lines",
         "text": [
          "technical support_programmable logic controller_equipment_controller_reliability",
          "",
          "",
          "technical support_technical service_reliability_customer service_quality"
         ],
         "type": "scatter",
         "x": [
          0.7256338689648636,
          1.073219080992492,
          1.073219080992492,
          0.8827224984931722
         ],
         "xaxis": "x",
         "y": [
          -135.8447265625,
          -135.8447265625,
          -298.4375,
          -298.4375
         ],
         "yaxis": "y"
        },
        {
         "hoverinfo": "text",
         "marker": {
          "color": "rgb(0,116,217)"
         },
         "mode": "lines",
         "text": [
          "delivery date_delivery time_deliveries_delivery_deliver",
          "",
          "",
          "technical support_reliability_equipment_reliable_siemens"
         ],
         "type": "scatter",
         "x": [
          0.8322566594445302,
          1.1256513156635175,
          1.1256513156635175,
          1.073219080992492
         ],
         "xaxis": "x",
         "y": [
          -25.9375,
          -25.9375,
          -217.14111328125,
          -217.14111328125
         ],
         "yaxis": "y"
        },
        {
         "hoverinfo": "text",
         "marker": {
          "color": "rgb(133,20,75)"
         },
         "mode": "lines",
         "text": [
          "quick response_response_quick_reply_easy",
          "",
          "",
          "kindness_polite_politeness_helpful_appreciate"
         ],
         "type": "scatter",
         "x": [
          0,
          0.6356946517593769,
          0.6356946517593769,
          0
         ],
         "xaxis": "x",
         "y": [
          -325,
          -325,
          -335,
          -335
         ],
         "yaxis": "y"
        },
        {
         "hoverinfo": "text",
         "marker": {
          "color": "rgb(255,220,0)"
         },
         "mode": "lines",
         "text": [
          "accuracy_precise_accurately_answers_precision",
          "",
          "",
          "inquiries_inquiry_contacted_responded_polite"
         ],
         "type": "scatter",
         "x": [
          0,
          0.5665654307365563,
          0.5665654307365563,
          0
         ],
         "xaxis": "x",
         "y": [
          -355,
          -355,
          -365,
          -365
         ],
         "yaxis": "y"
        },
        {
         "hoverinfo": "text",
         "marker": {
          "color": "rgb(255,220,0)"
         },
         "mode": "lines",
         "text": [
          "explaining_explanations_explained_straightforward_polite",
          "",
          "",
          "answered_precise_accurately_answers_inquiry"
         ],
         "type": "scatter",
         "x": [
          0,
          0.6709946481864981,
          0.6709946481864981,
          0.5665654307365563
         ],
         "xaxis": "x",
         "y": [
          -345,
          -345,
          -360,
          -360
         ],
         "yaxis": "y"
        },
        {
         "hoverinfo": "text",
         "marker": {
          "color": "rgb(255,220,0)"
         },
         "mode": "lines",
         "text": [
          "solve problem_problem_solution_solutions_helped",
          "",
          "",
          "solve problem_solving_solve_quickly_efficiently"
         ],
         "type": "scatter",
         "x": [
          0,
          0.6591944013659694,
          0.6591944013659694,
          0
         ],
         "xaxis": "x",
         "y": [
          -385,
          -385,
          -395,
          -395
         ],
         "yaxis": "y"
        },
        {
         "hoverinfo": "text",
         "marker": {
          "color": "rgb(255,220,0)"
         },
         "mode": "lines",
         "text": [
          "cause_reason_problem_solve problem_explanation",
          "",
          "",
          "solve problem_solving_solve_solutions_problem"
         ],
         "type": "scatter",
         "x": [
          0,
          0.7684749056100543,
          0.7684749056100543,
          0.6591944013659694
         ],
         "xaxis": "x",
         "y": [
          -375,
          -375,
          -390,
          -390
         ],
         "yaxis": "y"
        },
        {
         "hoverinfo": "text",
         "marker": {
          "color": "rgb(255,220,0)"
         },
         "mode": "lines",
         "text": [
          "explained_explaining_polite_explanation_politely",
          "",
          "",
          "solve problem_solving_solutions_solve_problem"
         ],
         "type": "scatter",
         "x": [
          0.6709946481864981,
          0.9732682240523814,
          0.9732682240523814,
          0.7684749056100543
         ],
         "xaxis": "x",
         "y": [
          -352.5,
          -352.5,
          -382.5,
          -382.5
         ],
         "yaxis": "y"
        },
        {
         "hoverinfo": "text",
         "marker": {
          "color": "rgb(40,35,35)"
         },
         "mode": "lines",
         "text": [
          "efficiently_efficient_efficiency_performance_quickly",
          "",
          "",
          "responsiveness_responsive_resolution_flexible_services"
         ],
         "type": "scatter",
         "x": [
          0,
          0.8526356460751631,
          0.8526356460751631,
          0
         ],
         "xaxis": "x",
         "y": [
          -405,
          -405,
          -415,
          -415
         ],
         "yaxis": "y"
        },
        {
         "hoverinfo": "text",
         "marker": {
          "color": "rgb(40,35,35)"
         },
         "mode": "lines",
         "text": [
          "feedback_quick response_helpful_respond_response",
          "",
          "",
          "assistance_assisted_intervention_immediate_providing"
         ],
         "type": "scatter",
         "x": [
          0,
          0.7843856477197017,
          0.7843856477197017,
          0
         ],
         "xaxis": "x",
         "y": [
          -435,
          -435,
          -445,
          -445
         ],
         "yaxis": "y"
        },
        {
         "hoverinfo": "text",
         "marker": {
          "color": "rgb(40,35,35)"
         },
         "mode": "lines",
         "text": [
          "advice_guidance_advise_competent_tips",
          "",
          "",
          "feedback_helpful_helpfulness_helped_satisfactory"
         ],
         "type": "scatter",
         "x": [
          0,
          0.8533777475928891,
          0.8533777475928891,
          0.7843856477197017
         ],
         "xaxis": "x",
         "y": [
          -425,
          -425,
          -440,
          -440
         ],
         "yaxis": "y"
        },
        {
         "hoverinfo": "text",
         "marker": {
          "color": "rgb(40,35,35)"
         },
         "mode": "lines",
         "text": [
          "responsiveness_responsively_responsive_effective_effectiveness",
          "",
          "",
          "advice_guidance_tips_feedback_assistance"
         ],
         "type": "scatter",
         "x": [
          0.8526356460751631,
          0.9129756294431027,
          0.9129756294431027,
          0.8533777475928891
         ],
         "xaxis": "x",
         "y": [
          -410,
          -410,
          -432.5,
          -432.5
         ],
         "yaxis": "y"
        },
        {
         "hoverinfo": "text",
         "marker": {
          "color": "rgb(0,116,217)"
         },
         "mode": "lines",
         "text": [
          "precise_answered_answers_accurately_response",
          "",
          "",
          "responsiveness_responsively_responsive_advice_effective"
         ],
         "type": "scatter",
         "x": [
          0.9732682240523814,
          1.0628482907059276,
          1.0628482907059276,
          0.9129756294431027
         ],
         "xaxis": "x",
         "y": [
          -367.5,
          -367.5,
          -421.25,
          -421.25
         ],
         "yaxis": "y"
        },
        {
         "hoverinfo": "text",
         "marker": {
          "color": "rgb(0,116,217)"
         },
         "mode": "lines",
         "text": [
          "quick response_response_quick_reply_short",
          "",
          "",
          "answered_precise_accurately_polite_answers"
         ],
         "type": "scatter",
         "x": [
          0.6356946517593769,
          1.1221959599123834,
          1.1221959599123834,
          1.0628482907059276
         ],
         "xaxis": "x",
         "y": [
          -330,
          -330,
          -394.375,
          -394.375
         ],
         "yaxis": "y"
        },
        {
         "hoverinfo": "text",
         "marker": {
          "color": "rgb(61,153,112)"
         },
         "mode": "lines",
         "text": [
          "faults_faulty_failures_complaint_defect",
          "",
          "",
          "ups_uninterruptible power supply_troubleshooting_power supply_upc"
         ],
         "type": "scatter",
         "x": [
          0,
          0.49480607081462935,
          0.49480607081462935,
          0
         ],
         "xaxis": "x",
         "y": [
          -475,
          -475,
          -485,
          -485
         ],
         "yaxis": "y"
        },
        {
         "hoverinfo": "text",
         "marker": {
          "color": "rgb(61,153,112)"
         },
         "mode": "lines",
         "text": [
          "troubleshooting_troubleshoot_resolved_issue_reset",
          "",
          "",
          "ups_uninterruptible power supply_apc_troubleshooting_reliability"
         ],
         "type": "scatter",
         "x": [
          0,
          0.6415406144477784,
          0.6415406144477784,
          0.49480607081462935
         ],
         "xaxis": "x",
         "y": [
          -465,
          -465,
          -480,
          -480
         ],
         "yaxis": "y"
        },
        {
         "hoverinfo": "text",
         "marker": {
          "color": "rgb(61,153,112)"
         },
         "mode": "lines",
         "text": [
          "resolved_troubleshooted_fixed_issue_solved",
          "",
          "",
          "ups_uninterruptible power supply_technical support_apc_troubleshooting"
         ],
         "type": "scatter",
         "x": [
          0,
          0.7201503556642306,
          0.7201503556642306,
          0.6415406144477784
         ],
         "xaxis": "x",
         "y": [
          -455,
          -455,
          -472.5,
          -472.5
         ],
         "yaxis": "y"
        },
        {
         "hoverinfo": "text",
         "marker": {
          "color": "rgb(61,153,112)"
         },
         "mode": "lines",
         "text": [
          "technical support_technician_technicians_technical_tech",
          "",
          "",
          "technical support_contact_call center_technician_telephone"
         ],
         "type": "scatter",
         "x": [
          0,
          0.44136466446106115,
          0.44136466446106115,
          0
         ],
         "xaxis": "x",
         "y": [
          -525,
          -525,
          -535,
          -535
         ],
         "yaxis": "y"
        },
        {
         "hoverinfo": "text",
         "marker": {
          "color": "rgb(61,153,112)"
         },
         "mode": "lines",
         "text": [
          "technical support_technician_technicians_technical_tech",
          "",
          "",
          "response time_quick response_responses_responding_quickness"
         ],
         "type": "scatter",
         "x": [
          0.44136466446106115,
          0.5074193805773104,
          0.5074193805773104,
          0
         ],
         "xaxis": "x",
         "y": [
          -530,
          -530,
          -545,
          -545
         ],
         "yaxis": "y"
        },
        {
         "hoverinfo": "text",
         "marker": {
          "color": "rgb(61,153,112)"
         },
         "mode": "lines",
         "text": [
          "technician_technicians_tech_techs_knowledgeable",
          "",
          "",
          "technical support_response time_call_telephone_call back"
         ],
         "type": "scatter",
         "x": [
          0,
          0.6409961908855758,
          0.6409961908855758,
          0.5074193805773104
         ],
         "xaxis": "x",
         "y": [
          -515,
          -515,
          -537.5,
          -537.5
         ],
         "yaxis": "y"
        },
        {
         "hoverinfo": "text",
         "marker": {
          "color": "rgb(61,153,112)"
         },
         "mode": "lines",
         "text": [
          "response time_technical support_telephone_call_call back",
          "",
          "",
          "customer service_customer support_service_customer_services"
         ],
         "type": "scatter",
         "x": [
          0.6409961908855758,
          0.6518760881185548,
          0.6518760881185548,
          0
         ],
         "xaxis": "x",
         "y": [
          -526.25,
          -526.25,
          -555,
          -555
         ],
         "yaxis": "y"
        },
        {
         "hoverinfo": "text",
         "marker": {
          "color": "rgb(61,153,112)"
         },
         "mode": "lines",
         "text": [
          "technical support_response time_customer service_assistance_responses",
          "",
          "",
          "technical support_service support_support_technical_strengthened"
         ],
         "type": "scatter",
         "x": [
          0.6518760881185548,
          0.6885339370175934,
          0.6885339370175934,
          0
         ],
         "xaxis": "x",
         "y": [
          -540.625,
          -540.625,
          -565,
          -565
         ],
         "yaxis": "y"
        },
        {
         "hoverinfo": "text",
         "marker": {
          "color": "rgb(61,153,112)"
         },
         "mode": "lines",
         "text": [
          "staff_competent_competence_employee_employees",
          "",
          "",
          "response time_technical support_customer service_responses_inquiry"
         ],
         "type": "scatter",
         "x": [
          0,
          0.7360279455693574,
          0.7360279455693574,
          0.6885339370175934
         ],
         "xaxis": "x",
         "y": [
          -505,
          -505,
          -552.8125,
          -552.8125
         ],
         "yaxis": "y"
        },
        {
         "hoverinfo": "text",
         "marker": {
          "color": "rgb(61,153,112)"
         },
         "mode": "lines",
         "text": [
          "support_competent_supported_supporters_fast",
          "",
          "",
          "technical support_response time_customer service_technical_technician"
         ],
         "type": "scatter",
         "x": [
          0,
          0.8026844426266615,
          0.8026844426266615,
          0.7360279455693574
         ],
         "xaxis": "x",
         "y": [
          -495,
          -495,
          -528.90625,
          -528.90625
         ],
         "yaxis": "y"
        },
        {
         "hoverinfo": "text",
         "marker": {
          "color": "rgb(61,153,112)"
         },
         "mode": "lines",
         "text": [
          "technical support_response time_customer service_technician_technicians",
          "",
          "",
          "competence_courtesy_polite_sincerity_satisfaction"
         ],
         "type": "scatter",
         "x": [
          0.8026844426266615,
          0.8489734142606583,
          0.8489734142606583,
          0
         ],
         "xaxis": "x",
         "y": [
          -511.953125,
          -511.953125,
          -575,
          -575
         ],
         "yaxis": "y"
        },
        {
         "hoverinfo": "text",
         "marker": {
          "color": "rgb(61,153,112)"
         },
         "mode": "lines",
         "text": [
          "ups_uninterruptible power supply_apc_warranty_technical support",
          "",
          "",
          "technical support_customer service_technical_assistance_prompt"
         ],
         "type": "scatter",
         "x": [
          0.7201503556642306,
          0.897784358925363,
          0.897784358925363,
          0.8489734142606583
         ],
         "xaxis": "x",
         "y": [
          -463.75,
          -463.75,
          -543.4765625,
          -543.4765625
         ],
         "yaxis": "y"
        },
        {
         "hoverinfo": "text",
         "marker": {
          "color": "rgb(0,116,217)"
         },
         "mode": "lines",
         "text": [
          "quick response_explained_easy_explaining_quickly",
          "",
          "",
          "response time_ups_technical support_troubleshooting_customer service"
         ],
         "type": "scatter",
         "x": [
          1.1221959599123834,
          1.2384228117052207,
          1.2384228117052207,
          0.897784358925363
         ],
         "xaxis": "x",
         "y": [
          -362.1875,
          -362.1875,
          -503.61328125,
          -503.61328125
         ],
         "yaxis": "y"
        },
        {
         "hoverinfo": "text",
         "marker": {
          "color": "rgb(255,65,54)"
         },
         "mode": "lines",
         "text": [
          "service_excellent_appreciate_welcome_great",
          "",
          "",
          "service_good___"
         ],
         "type": "scatter",
         "x": [
          0,
          0.7269366900575038,
          0.7269366900575038,
          0
         ],
         "xaxis": "x",
         "y": [
          -585,
          -585,
          -595,
          -595
         ],
         "yaxis": "y"
        },
        {
         "hoverinfo": "text",
         "marker": {
          "color": "rgb(0,116,217)"
         },
         "mode": "lines",
         "text": [
          "ups_response time_technical support_battery_replacement",
          "",
          "",
          "service_excellent_appreciate_welcome_helpful"
         ],
         "type": "scatter",
         "x": [
          1.2384228117052207,
          1.3078865143497276,
          1.3078865143497276,
          0.7269366900575038
         ],
         "xaxis": "x",
         "y": [
          -432.900390625,
          -432.900390625,
          -590,
          -590
         ],
         "yaxis": "y"
        },
        {
         "hoverinfo": "text",
         "marker": {
          "color": "rgb(0,116,217)"
         },
         "mode": "lines",
         "text": [
          "technical support_supplier_delays_deliveries_reliable",
          "",
          "",
          "response time_technical support_issue_ups_call back"
         ],
         "type": "scatter",
         "x": [
          1.1256513156635175,
          1.982162065597069,
          1.982162065597069,
          1.3078865143497276
         ],
         "xaxis": "x",
         "y": [
          -121.539306640625,
          -121.539306640625,
          -511.4501953125,
          -511.4501953125
         ],
         "yaxis": "y"
        },
        {
         "hoverinfo": "text",
         "hovertext": [
          "deliveries_shipments_delivery time_delivery date_delivery",
          "delivery time_delivery date_deliveries_delays_delivery",
          "suppliers_supplier_distributors_products_brands",
          "programmable logic controller_controllers_technical support_hardware_controls",
          "servo motors_servo_inverters_servos_inverter",
          "technical support_programmable logic controller_controllers_issues_supplier",
          "programmable logic controller_automation_technical support_controllers_controller",
          "frequency converters_technical support_converters_converter_frequency",
          "technical support_equipment_automation_programmable logic controller_reliability",
          "manufacturers_touch panel_siemens_manufacturer_compatibility",
          "technical support_technical service_quality_customer service_reliability",
          "technical support_technical service_customer service_availability_reliable",
          "technical support_programmable logic controller_equipment_controller_reliability",
          "delivery date_delivery time_deliveries_delivery_deliver",
          "explained_explaining_polite_explanation_politely",
          "responsiveness_responsively_responsive_effective_effectiveness",
          "precise_answered_answers_accurately_response",
          "quick response_response_quick_reply_short",
          "technical support_technician_technicians_technical_tech",
          "response time_technical support_telephone_call_call back",
          "technical support_response time_customer service_assistance_responses",
          "technical support_response time_customer service_technician_technicians",
          "ups_uninterruptible power supply_apc_warranty_technical support",
          "quick response_explained_easy_explaining_quickly",
          "ups_response time_technical support_battery_replacement",
          "technical support_supplier_delays_deliveries_reliable"
         ],
         "marker": {
          "color": "black"
         },
         "mode": "markers",
         "showlegend": false,
         "type": "scatter",
         "x": [
          0.34902907011542905,
          0.5941136744050203,
          0.3681475112723321,
          0.36801723302818823,
          0.46560654760944786,
          0.5200626718030168,
          0.5839527602766339,
          0.5056396729084509,
          0.6615759132243123,
          0.6742932256998437,
          0.7577940142419695,
          0.8117987283143117,
          0.7256338689648636,
          0.8322566594445302,
          0.6709946481864981,
          0.8526356460751631,
          0.9732682240523814,
          0.6356946517593769,
          0.44136466446106115,
          0.6409961908855758,
          0.6518760881185548,
          0.8026844426266615,
          0.7201503556642306,
          1.1221959599123834,
          1.2384228117052207,
          1.1256513156635175
         ],
         "y": [
          -22.5,
          -33.75,
          -172.5,
          -150,
          -130,
          -149.0625,
          -148.515625,
          -100,
          -143.37890625,
          -80,
          -263.75,
          -281.875,
          -135.8447265625,
          -25.9375,
          -352.5,
          -410,
          -367.5,
          -330,
          -530,
          -526.25,
          -540.625,
          -511.953125,
          -463.75,
          -362.1875,
          -432.900390625,
          -121.539306640625
         ]
        },
        {
         "hoverinfo": "text",
         "hovertext": [
          "delivery time_deliveries_delays_delivery_shipments",
          "responded_inquiries_refunded_sr_response time",
          "delivery time_delivery date_deliveries_delivery_delays",
          "suppliers_supplier_brands_partnership_brand",
          "circuit breakers_breakers_breaker_fuses_fuse",
          "technical support_breakers_brands_electric_circuit breakers",
          "technical support_programmable logic controller_siemens_equipment_products",
          "technical support_siemens_automation_products_components",
          "technical support_automation_issues_switches_reliability",
          "rating_rate_reliability_quality_score",
          "programmable logic controller_programmable_technical support_automation_servo",
          "technical service_customer service_quality_services_service",
          "technical support_technical service_quality_service support_customer service",
          "cooperation_cooperative_collaboration_collaborating_collaborations",
          "technical support_technical service_reliability_customer service_quality",
          "technical support_reliability_equipment_reliable_siemens",
          "answered_precise_accurately_answers_inquiry",
          "solve problem_solving_solve_solutions_problem",
          "solve problem_solving_solutions_solve_problem",
          "feedback_helpful_helpfulness_helped_satisfactory",
          "advice_guidance_tips_feedback_assistance",
          "responsiveness_responsively_responsive_advice_effective",
          "answered_precise_accurately_polite_answers",
          "ups_uninterruptible power supply_apc_troubleshooting_reliability",
          "ups_uninterruptible power supply_technical support_apc_troubleshooting",
          "technical support_response time_call_telephone_call back",
          "response time_technical support_customer service_responses_inquiry",
          "technical support_response time_customer service_technical_technician",
          "technical support_customer service_technical_assistance_prompt",
          "response time_ups_technical support_troubleshooting_customer service",
          "service_excellent_appreciate_welcome_helpful",
          "response time_technical support_issue_ups_call back"
         ],
         "marker": {
          "color": "black"
         },
         "mode": "markers",
         "showlegend": false,
         "type": "scatter",
         "x": [
          0.2822775669675429,
          0.7065485960439992,
          0.7571530255286162,
          0.26418835315813083,
          0.39828764718537935,
          0.47186877982403796,
          0.4886010100969665,
          0.5369764047865203,
          0.5912926934301385,
          0.5553259327128443,
          0.6931121590247846,
          0.7063444009111499,
          0.737202780987623,
          0.7905856882220921,
          0.8827224984931722,
          1.073219080992492,
          0.5665654307365563,
          0.6591944013659694,
          0.7684749056100543,
          0.7843856477197017,
          0.8533777475928891,
          0.9129756294431027,
          1.0628482907059276,
          0.49480607081462935,
          0.6415406144477784,
          0.5074193805773104,
          0.6885339370175934,
          0.7360279455693574,
          0.8489734142606583,
          0.897784358925363,
          0.7269366900575038,
          1.3078865143497276
         ],
         "y": [
          -30,
          -60,
          -46.875,
          -180,
          -200,
          -186.25,
          -168.125,
          -182.03125,
          -186.7578125,
          -240,
          -191.689453125,
          -280,
          -272.5,
          -300,
          -298.4375,
          -217.14111328125,
          -360,
          -390,
          -382.5,
          -440,
          -432.5,
          -421.25,
          -394.375,
          -480,
          -472.5,
          -537.5,
          -552.8125,
          -528.90625,
          -543.4765625,
          -503.61328125,
          -590,
          -511.4501953125
         ]
        }
       ],
       "layout": {
        "autosize": false,
        "height": 1100,
        "hoverlabel": {
         "bgcolor": "white",
         "font": {
          "family": "Rockwell",
          "size": 16
         }
        },
        "hovermode": "closest",
        "plot_bgcolor": "#ECEFF1",
        "showlegend": false,
        "template": {
         "data": {
          "bar": [
           {
            "error_x": {
             "color": "#2a3f5f"
            },
            "error_y": {
             "color": "#2a3f5f"
            },
            "marker": {
             "line": {
              "color": "white",
              "width": 0.5
             },
             "pattern": {
              "fillmode": "overlay",
              "size": 10,
              "solidity": 0.2
             }
            },
            "type": "bar"
           }
          ],
          "barpolar": [
           {
            "marker": {
             "line": {
              "color": "white",
              "width": 0.5
             },
             "pattern": {
              "fillmode": "overlay",
              "size": 10,
              "solidity": 0.2
             }
            },
            "type": "barpolar"
           }
          ],
          "carpet": [
           {
            "aaxis": {
             "endlinecolor": "#2a3f5f",
             "gridcolor": "#C8D4E3",
             "linecolor": "#C8D4E3",
             "minorgridcolor": "#C8D4E3",
             "startlinecolor": "#2a3f5f"
            },
            "baxis": {
             "endlinecolor": "#2a3f5f",
             "gridcolor": "#C8D4E3",
             "linecolor": "#C8D4E3",
             "minorgridcolor": "#C8D4E3",
             "startlinecolor": "#2a3f5f"
            },
            "type": "carpet"
           }
          ],
          "choropleth": [
           {
            "colorbar": {
             "outlinewidth": 0,
             "ticks": ""
            },
            "type": "choropleth"
           }
          ],
          "contour": [
           {
            "colorbar": {
             "outlinewidth": 0,
             "ticks": ""
            },
            "colorscale": [
             [
              0,
              "#0d0887"
             ],
             [
              0.1111111111111111,
              "#46039f"
             ],
             [
              0.2222222222222222,
              "#7201a8"
             ],
             [
              0.3333333333333333,
              "#9c179e"
             ],
             [
              0.4444444444444444,
              "#bd3786"
             ],
             [
              0.5555555555555556,
              "#d8576b"
             ],
             [
              0.6666666666666666,
              "#ed7953"
             ],
             [
              0.7777777777777778,
              "#fb9f3a"
             ],
             [
              0.8888888888888888,
              "#fdca26"
             ],
             [
              1,
              "#f0f921"
             ]
            ],
            "type": "contour"
           }
          ],
          "contourcarpet": [
           {
            "colorbar": {
             "outlinewidth": 0,
             "ticks": ""
            },
            "type": "contourcarpet"
           }
          ],
          "heatmap": [
           {
            "colorbar": {
             "outlinewidth": 0,
             "ticks": ""
            },
            "colorscale": [
             [
              0,
              "#0d0887"
             ],
             [
              0.1111111111111111,
              "#46039f"
             ],
             [
              0.2222222222222222,
              "#7201a8"
             ],
             [
              0.3333333333333333,
              "#9c179e"
             ],
             [
              0.4444444444444444,
              "#bd3786"
             ],
             [
              0.5555555555555556,
              "#d8576b"
             ],
             [
              0.6666666666666666,
              "#ed7953"
             ],
             [
              0.7777777777777778,
              "#fb9f3a"
             ],
             [
              0.8888888888888888,
              "#fdca26"
             ],
             [
              1,
              "#f0f921"
             ]
            ],
            "type": "heatmap"
           }
          ],
          "heatmapgl": [
           {
            "colorbar": {
             "outlinewidth": 0,
             "ticks": ""
            },
            "colorscale": [
             [
              0,
              "#0d0887"
             ],
             [
              0.1111111111111111,
              "#46039f"
             ],
             [
              0.2222222222222222,
              "#7201a8"
             ],
             [
              0.3333333333333333,
              "#9c179e"
             ],
             [
              0.4444444444444444,
              "#bd3786"
             ],
             [
              0.5555555555555556,
              "#d8576b"
             ],
             [
              0.6666666666666666,
              "#ed7953"
             ],
             [
              0.7777777777777778,
              "#fb9f3a"
             ],
             [
              0.8888888888888888,
              "#fdca26"
             ],
             [
              1,
              "#f0f921"
             ]
            ],
            "type": "heatmapgl"
           }
          ],
          "histogram": [
           {
            "marker": {
             "pattern": {
              "fillmode": "overlay",
              "size": 10,
              "solidity": 0.2
             }
            },
            "type": "histogram"
           }
          ],
          "histogram2d": [
           {
            "colorbar": {
             "outlinewidth": 0,
             "ticks": ""
            },
            "colorscale": [
             [
              0,
              "#0d0887"
             ],
             [
              0.1111111111111111,
              "#46039f"
             ],
             [
              0.2222222222222222,
              "#7201a8"
             ],
             [
              0.3333333333333333,
              "#9c179e"
             ],
             [
              0.4444444444444444,
              "#bd3786"
             ],
             [
              0.5555555555555556,
              "#d8576b"
             ],
             [
              0.6666666666666666,
              "#ed7953"
             ],
             [
              0.7777777777777778,
              "#fb9f3a"
             ],
             [
              0.8888888888888888,
              "#fdca26"
             ],
             [
              1,
              "#f0f921"
             ]
            ],
            "type": "histogram2d"
           }
          ],
          "histogram2dcontour": [
           {
            "colorbar": {
             "outlinewidth": 0,
             "ticks": ""
            },
            "colorscale": [
             [
              0,
              "#0d0887"
             ],
             [
              0.1111111111111111,
              "#46039f"
             ],
             [
              0.2222222222222222,
              "#7201a8"
             ],
             [
              0.3333333333333333,
              "#9c179e"
             ],
             [
              0.4444444444444444,
              "#bd3786"
             ],
             [
              0.5555555555555556,
              "#d8576b"
             ],
             [
              0.6666666666666666,
              "#ed7953"
             ],
             [
              0.7777777777777778,
              "#fb9f3a"
             ],
             [
              0.8888888888888888,
              "#fdca26"
             ],
             [
              1,
              "#f0f921"
             ]
            ],
            "type": "histogram2dcontour"
           }
          ],
          "mesh3d": [
           {
            "colorbar": {
             "outlinewidth": 0,
             "ticks": ""
            },
            "type": "mesh3d"
           }
          ],
          "parcoords": [
           {
            "line": {
             "colorbar": {
              "outlinewidth": 0,
              "ticks": ""
             }
            },
            "type": "parcoords"
           }
          ],
          "pie": [
           {
            "automargin": true,
            "type": "pie"
           }
          ],
          "scatter": [
           {
            "fillpattern": {
             "fillmode": "overlay",
             "size": 10,
             "solidity": 0.2
            },
            "type": "scatter"
           }
          ],
          "scatter3d": [
           {
            "line": {
             "colorbar": {
              "outlinewidth": 0,
              "ticks": ""
             }
            },
            "marker": {
             "colorbar": {
              "outlinewidth": 0,
              "ticks": ""
             }
            },
            "type": "scatter3d"
           }
          ],
          "scattercarpet": [
           {
            "marker": {
             "colorbar": {
              "outlinewidth": 0,
              "ticks": ""
             }
            },
            "type": "scattercarpet"
           }
          ],
          "scattergeo": [
           {
            "marker": {
             "colorbar": {
              "outlinewidth": 0,
              "ticks": ""
             }
            },
            "type": "scattergeo"
           }
          ],
          "scattergl": [
           {
            "marker": {
             "colorbar": {
              "outlinewidth": 0,
              "ticks": ""
             }
            },
            "type": "scattergl"
           }
          ],
          "scattermapbox": [
           {
            "marker": {
             "colorbar": {
              "outlinewidth": 0,
              "ticks": ""
             }
            },
            "type": "scattermapbox"
           }
          ],
          "scatterpolar": [
           {
            "marker": {
             "colorbar": {
              "outlinewidth": 0,
              "ticks": ""
             }
            },
            "type": "scatterpolar"
           }
          ],
          "scatterpolargl": [
           {
            "marker": {
             "colorbar": {
              "outlinewidth": 0,
              "ticks": ""
             }
            },
            "type": "scatterpolargl"
           }
          ],
          "scatterternary": [
           {
            "marker": {
             "colorbar": {
              "outlinewidth": 0,
              "ticks": ""
             }
            },
            "type": "scatterternary"
           }
          ],
          "surface": [
           {
            "colorbar": {
             "outlinewidth": 0,
             "ticks": ""
            },
            "colorscale": [
             [
              0,
              "#0d0887"
             ],
             [
              0.1111111111111111,
              "#46039f"
             ],
             [
              0.2222222222222222,
              "#7201a8"
             ],
             [
              0.3333333333333333,
              "#9c179e"
             ],
             [
              0.4444444444444444,
              "#bd3786"
             ],
             [
              0.5555555555555556,
              "#d8576b"
             ],
             [
              0.6666666666666666,
              "#ed7953"
             ],
             [
              0.7777777777777778,
              "#fb9f3a"
             ],
             [
              0.8888888888888888,
              "#fdca26"
             ],
             [
              1,
              "#f0f921"
             ]
            ],
            "type": "surface"
           }
          ],
          "table": [
           {
            "cells": {
             "fill": {
              "color": "#EBF0F8"
             },
             "line": {
              "color": "white"
             }
            },
            "header": {
             "fill": {
              "color": "#C8D4E3"
             },
             "line": {
              "color": "white"
             }
            },
            "type": "table"
           }
          ]
         },
         "layout": {
          "annotationdefaults": {
           "arrowcolor": "#2a3f5f",
           "arrowhead": 0,
           "arrowwidth": 1
          },
          "autotypenumbers": "strict",
          "coloraxis": {
           "colorbar": {
            "outlinewidth": 0,
            "ticks": ""
           }
          },
          "colorscale": {
           "diverging": [
            [
             0,
             "#8e0152"
            ],
            [
             0.1,
             "#c51b7d"
            ],
            [
             0.2,
             "#de77ae"
            ],
            [
             0.3,
             "#f1b6da"
            ],
            [
             0.4,
             "#fde0ef"
            ],
            [
             0.5,
             "#f7f7f7"
            ],
            [
             0.6,
             "#e6f5d0"
            ],
            [
             0.7,
             "#b8e186"
            ],
            [
             0.8,
             "#7fbc41"
            ],
            [
             0.9,
             "#4d9221"
            ],
            [
             1,
             "#276419"
            ]
           ],
           "sequential": [
            [
             0,
             "#0d0887"
            ],
            [
             0.1111111111111111,
             "#46039f"
            ],
            [
             0.2222222222222222,
             "#7201a8"
            ],
            [
             0.3333333333333333,
             "#9c179e"
            ],
            [
             0.4444444444444444,
             "#bd3786"
            ],
            [
             0.5555555555555556,
             "#d8576b"
            ],
            [
             0.6666666666666666,
             "#ed7953"
            ],
            [
             0.7777777777777778,
             "#fb9f3a"
            ],
            [
             0.8888888888888888,
             "#fdca26"
            ],
            [
             1,
             "#f0f921"
            ]
           ],
           "sequentialminus": [
            [
             0,
             "#0d0887"
            ],
            [
             0.1111111111111111,
             "#46039f"
            ],
            [
             0.2222222222222222,
             "#7201a8"
            ],
            [
             0.3333333333333333,
             "#9c179e"
            ],
            [
             0.4444444444444444,
             "#bd3786"
            ],
            [
             0.5555555555555556,
             "#d8576b"
            ],
            [
             0.6666666666666666,
             "#ed7953"
            ],
            [
             0.7777777777777778,
             "#fb9f3a"
            ],
            [
             0.8888888888888888,
             "#fdca26"
            ],
            [
             1,
             "#f0f921"
            ]
           ]
          },
          "colorway": [
           "#636efa",
           "#EF553B",
           "#00cc96",
           "#ab63fa",
           "#FFA15A",
           "#19d3f3",
           "#FF6692",
           "#B6E880",
           "#FF97FF",
           "#FECB52"
          ],
          "font": {
           "color": "#2a3f5f"
          },
          "geo": {
           "bgcolor": "white",
           "lakecolor": "white",
           "landcolor": "white",
           "showlakes": true,
           "showland": true,
           "subunitcolor": "#C8D4E3"
          },
          "hoverlabel": {
           "align": "left"
          },
          "hovermode": "closest",
          "mapbox": {
           "style": "light"
          },
          "paper_bgcolor": "white",
          "plot_bgcolor": "white",
          "polar": {
           "angularaxis": {
            "gridcolor": "#EBF0F8",
            "linecolor": "#EBF0F8",
            "ticks": ""
           },
           "bgcolor": "white",
           "radialaxis": {
            "gridcolor": "#EBF0F8",
            "linecolor": "#EBF0F8",
            "ticks": ""
           }
          },
          "scene": {
           "xaxis": {
            "backgroundcolor": "white",
            "gridcolor": "#DFE8F3",
            "gridwidth": 2,
            "linecolor": "#EBF0F8",
            "showbackground": true,
            "ticks": "",
            "zerolinecolor": "#EBF0F8"
           },
           "yaxis": {
            "backgroundcolor": "white",
            "gridcolor": "#DFE8F3",
            "gridwidth": 2,
            "linecolor": "#EBF0F8",
            "showbackground": true,
            "ticks": "",
            "zerolinecolor": "#EBF0F8"
           },
           "zaxis": {
            "backgroundcolor": "white",
            "gridcolor": "#DFE8F3",
            "gridwidth": 2,
            "linecolor": "#EBF0F8",
            "showbackground": true,
            "ticks": "",
            "zerolinecolor": "#EBF0F8"
           }
          },
          "shapedefaults": {
           "line": {
            "color": "#2a3f5f"
           }
          },
          "ternary": {
           "aaxis": {
            "gridcolor": "#DFE8F3",
            "linecolor": "#A2B1C6",
            "ticks": ""
           },
           "baxis": {
            "gridcolor": "#DFE8F3",
            "linecolor": "#A2B1C6",
            "ticks": ""
           },
           "bgcolor": "white",
           "caxis": {
            "gridcolor": "#DFE8F3",
            "linecolor": "#A2B1C6",
            "ticks": ""
           }
          },
          "title": {
           "x": 0.05
          },
          "xaxis": {
           "automargin": true,
           "gridcolor": "#EBF0F8",
           "linecolor": "#EBF0F8",
           "ticks": "",
           "title": {
            "standoff": 15
           },
           "zerolinecolor": "#EBF0F8",
           "zerolinewidth": 2
          },
          "yaxis": {
           "automargin": true,
           "gridcolor": "#EBF0F8",
           "linecolor": "#EBF0F8",
           "ticks": "",
           "title": {
            "standoff": 15
           },
           "zerolinecolor": "#EBF0F8",
           "zerolinewidth": 2
          }
         }
        },
        "title": {
         "font": {
          "color": "Black",
          "size": 22
         },
         "text": "<b>Hierarchical Clustering</b>",
         "x": 0.5,
         "xanchor": "center",
         "yanchor": "top"
        },
        "width": 1000,
        "xaxis": {
         "mirror": "allticks",
         "rangemode": "tozero",
         "showgrid": false,
         "showline": true,
         "showticklabels": true,
         "ticks": "outside",
         "type": "linear",
         "zeroline": false
        },
        "yaxis": {
         "mirror": "allticks",
         "range": [
          -600,
          0
         ],
         "rangemode": "tozero",
         "showgrid": false,
         "showline": true,
         "showticklabels": true,
         "tickmode": "array",
         "ticks": "outside",
         "ticktext": [
          "42_deadlines_deadline_delays",
          "3_delivery date_delivery ti...",
          "0_delivery time_delivery da...",
          "13_deliveries_delivery time...",
          "20_quotations_pricing_quotes",
          "50_quotations_quotation_quo...",
          "27_offers_discount_negotiat...",
          "35_siemens_subsidiaries_fac...",
          "32_touch panel_touch screen...",
          "40_frequency converters_con...",
          "36_frequency converters_con...",
          "31_drives_speed drives_drive",
          "37_servo motors_servo_servos",
          "21_inverter_inverters_inver...",
          "6_programmable logic contro...",
          "12_technical support_progra...",
          "9_ten_nine_rate",
          "4_electrical_electricity_su...",
          "1_suppliers_supplier_compan...",
          "14_switches_switchgear_switch",
          "16_circuit breakers_breaker...",
          "19_quality_reliability_reas...",
          "8_price quality ratio_prici...",
          "33_rating_ratings_quality",
          "46_rating_grading_score",
          "44_reliable_reliability_qua...",
          "51_technical support_servic...",
          "23_quality_customer service...",
          "41_technical service_qualit...",
          "49_issues_problems_reliable",
          "57_cooperation_cooperative_...",
          "22_fine_perfectly_smoothly",
          "58_quick response_response_...",
          "59_kindness_polite_politeness",
          "38_explaining_explanations_...",
          "10_accuracy_precise_accurat...",
          "26_inquiries_inquiry_contac...",
          "52_cause_reason_problem",
          "39_solve problem_problem_so...",
          "43_solve problem_solving_so...",
          "45_efficiently_efficient_ef...",
          "47_responsiveness_responsiv...",
          "55_advice_guidance_advise",
          "53_feedback_quick response_...",
          "54_assistance_assisted_inte...",
          "29_resolved_troubleshooted_...",
          "30_troubleshooting_troubles...",
          "11_faults_faulty_failures",
          "24_ups_uninterruptible powe...",
          "28_support_competent_suppor...",
          "18_staff_competent_competence",
          "25_technician_technicians_t...",
          "7_technical support_technic...",
          "5_technical support_contact...",
          "2_response time_quick respo...",
          "15_customer service_custome...",
          "34_technical support_servic...",
          "17_competence_courtesy_polite",
          "48_service_excellent_apprec...",
          "56_service_good_"
         ],
         "tickvals": [
          -5,
          -15,
          -25,
          -35,
          -45,
          -55,
          -65,
          -75,
          -85,
          -95,
          -105,
          -115,
          -125,
          -135,
          -145,
          -155,
          -165,
          -175,
          -185,
          -195,
          -205,
          -215,
          -225,
          -235,
          -245,
          -255,
          -265,
          -275,
          -285,
          -295,
          -305,
          -315,
          -325,
          -335,
          -345,
          -355,
          -365,
          -375,
          -385,
          -395,
          -405,
          -415,
          -425,
          -435,
          -445,
          -455,
          -465,
          -475,
          -485,
          -495,
          -505,
          -515,
          -525,
          -535,
          -545,
          -555,
          -565,
          -575,
          -585,
          -595
         ],
         "type": "linear",
         "zeroline": false
        }
       }
      }
     },
     "metadata": {},
     "output_type": "display_data"
    }
   ],
   "source": [
    "hierarchical_topics = topic_model.hierarchical_topics(docs)\n",
    "topic_model.visualize_hierarchy(hierarchical_topics=hierarchical_topics, custom_labels=True)"
   ]
  },
  {
   "cell_type": "code",
   "execution_count": 226,
   "metadata": {},
   "outputs": [
    {
     "data": {
      "text/plain": [
       "'delivery time, deliveries, delivery date, delivery date, delivery time, delivery time, deliveries, delays, delivery, delivery, delivering, deliveries, delays, delivery, delayed, deliver, purchasing, delays, shipments, deliver, deliver, deadlines, orders, postponed, arrive, logistics, deadlines, shipment, supplier, deadline'"
      ]
     },
     "execution_count": 226,
     "metadata": {},
     "output_type": "execute_result"
    }
   ],
   "source": [
    "# [0,13] :  management of delivery times, shipments, and deadlines, as well as the logistics of delivering orders from suppliers.\n",
    "\n",
    "\n",
    "# Merge les keywords de différents topics en gardant leur ordre d'importance\n",
    "topics = [0,13,3]\n",
    "n = 10\n",
    "topic_keywords = {}\n",
    "for topic in topics:\n",
    "    topic_words = [word for word, _ in topic_model.get_topic(topic)[:n]]\n",
    "    topic_keywords[topic] = topic_words\n",
    "\n",
    "merged_keywords = []\n",
    "for i in range(n):\n",
    "    for topic in topics:\n",
    "        merged_keywords.append(topic_keywords[topic][i])\n",
    "\", \".join(merged_keywords)"
   ]
  },
  {
   "cell_type": "code",
   "execution_count": null,
   "metadata": {},
   "outputs": [],
   "source": [
    "topic_labels = topic_model.generate_topic_labels(nr_words=3, \n",
    "                                                 topic_prefix=False,\n",
    "                                                 word_length=10,\n",
    "                                                 separator=\", \")\n",
    "topic_model.set_topic_labels(topic_labels)\n"
   ]
  },
  {
   "cell_type": "code",
   "execution_count": null,
   "metadata": {},
   "outputs": [],
   "source": [
    "# Optimizing Label with 0shot\n",
    "\n",
    "from transformers import pipeline\n",
    "classifier = pipeline(\"zero-shot-classification\", model=\"facebook/bart-large-mnli\")\n",
    "\n",
    "# A selected topic representation\n",
    "sequence_to_classify =  \", \".join([word for word, _ in topic_model.get_topic(14)])\n",
    "\n",
    "# Our set of potential topic labels\n",
    "product = 'product quality : features and performance, license, software and framework, warranty and repairs, maintenance'\n",
    "price = 'pricing and offers : price, orders, payment, invoice, quote'\n",
    "quality = 'quality, warranty and repairs : complaint, issue, maintenance'\n",
    "delivery = 'delivery : shipping, lead time, deadline, ddt, schedule, delay'\n",
    "customer = 'customer support : customer service, communication, assistance, professionalism, response time'\n",
    "tech = 'technical support : technician, intervention, guidance, competence, explanation, solve, query, inquiry, resolution, troubleshooting'\n",
    "response = \"response time : correspondence, response, quick, answer\"\n",
    "business = \"business relation : collaboration, partnership, company, factories, supplier, cooperation, partnership, oem, business, commercial, siemens\"\n",
    "reputation = 'reputation : gratitude, public perception, brand image'\n",
    "\n",
    "candidate_labels = ['product, parts and components', 'pricing and offers', 'quality, warranty and repairs','delivery','customer support','business relations']\n",
    "# candidate_labels = [product, price, delivery, customer, business, reputation]\n",
    "\n",
    "classifier(sequence_to_classify, candidate_labels)"
   ]
  },
  {
   "cell_type": "code",
   "execution_count": null,
   "metadata": {},
   "outputs": [],
   "source": [
    "# visualize the topic representation of major topics per class:\n",
    "topics_per_class = model.topics_per_class(docs, classes=df.Liked.to_list())\n",
    "model.visualize_topics_per_class(topics_per_class, top_n_topics=14)"
   ]
  },
  {
   "cell_type": "code",
   "execution_count": 199,
   "metadata": {},
   "outputs": [
    {
     "data": {
      "text/plain": [
       "{0: 0.006422966174473185,\n",
       " 1: 0.0030636787080041564,\n",
       " 2: 0.0016778322661592353,\n",
       " 3: 0.0013679151056926239,\n",
       " 4: 0.0027962226268213202,\n",
       " 5: 0.0037184175416787916,\n",
       " 6: 0.0019099200177096953,\n",
       " 7: 0.004046900614063682,\n",
       " 8: 0.0063088903410571376,\n",
       " 9: 0.003265074051261276,\n",
       " 10: 0.009237731021548958,\n",
       " 11: 0.0024937312603352775,\n",
       " 12: 0.0036314962643877284,\n",
       " 13: 0.003955375042104501,\n",
       " 14: 0.003204122371745636,\n",
       " 15: 0.014746595146322117,\n",
       " 16: 0.0030439382085932242,\n",
       " 17: 0.004613907603554464,\n",
       " 18: 0.010559578738295102,\n",
       " 19: 0.006045203541753921,\n",
       " 20: 0.0018021515961719272,\n",
       " 21: 0.0031188798661248773,\n",
       " 22: 0.0788126682704439,\n",
       " 23: 0.008208460197756494,\n",
       " 24: 0.003955768477742252,\n",
       " 25: 0.006684707513072302,\n",
       " 26: 0.012296267393307445,\n",
       " 27: 0.007762271089481098,\n",
       " 28: 0.010488798585732085,\n",
       " 29: 0.007457265970370559,\n",
       " 30: 0.006787875751524238,\n",
       " 31: 0.0037245132137788467,\n",
       " 32: 0.00469340609503844,\n",
       " 33: 0.003920331056633325,\n",
       " 34: 0.008189835807416938,\n",
       " 35: 0.0015797374562505663,\n",
       " 36: 0.0031085878232085685,\n",
       " 37: 0.0036728556486165576,\n",
       " 38: 0.00961123596228003,\n",
       " 39: 0.008490993552411891,\n",
       " 40: 0.003094947113258821,\n",
       " 41: 0.005312082833416604,\n",
       " 42: 0.0076376720770263305,\n",
       " 43: 0.008051141991960782,\n",
       " 44: 0.005753552155794822,\n",
       " 45: 0.016136010341842276,\n",
       " 46: 0.003266504636105613,\n",
       " 47: 0.009613125326619315,\n",
       " 48: 0.01701133976038832,\n",
       " 49: 0.006561790608415192,\n",
       " 50: 0.008116669263016737,\n",
       " 51: 0.007971873385996846,\n",
       " 52: 0.008248500783224252,\n",
       " 53: 0.01625671334418322,\n",
       " 54: 0.011780357758664992,\n",
       " 55: 0.009990836679917537,\n",
       " 56: 0.002600599731711497,\n",
       " 57: 0.006711764992690281,\n",
       " 58: 0.0017064347970126828,\n",
       " 59: 0.009771177332225623}"
      ]
     },
     "execution_count": 199,
     "metadata": {},
     "output_type": "execute_result"
    }
   ],
   "source": [
    "# Create a dictionary where the keys are the topics and the values are the probabilities\n",
    "# proba_dict = []\n",
    "# for proba in probs:\n",
    "#     proba_dict.append(dict(zip(topic_model.get_topics().keys(), proba)))\n",
    "\n",
    "# Get a list of the topics in the correct order, excluding topic -1\n",
    "topic_order = [topic for topic in topic_model.get_topics().keys() if topic != -1]\n",
    "\n",
    "# Create a dictionary where the keys are the topic labels and the values are the probabilities\n",
    "proba_dict = []\n",
    "for proba in probs:\n",
    "    proba_dict.append(dict(zip(topic_order, proba)))\n",
    "proba_dict[0]\n"
   ]
  },
  {
   "cell_type": "code",
   "execution_count": 13,
   "metadata": {},
   "outputs": [
    {
     "data": {
      "text/plain": [
       "35804"
      ]
     },
     "execution_count": 13,
     "metadata": {},
     "output_type": "execute_result"
    }
   ],
   "source": [
    "df = pd.read_excel(\"/media/cattiaux/DATA/Wassati/team_data/schneider/OEM_Verbatims_base.xlsx\", engine='openpyxl')\n",
    "df = preprocess_data(df, countries_to_update, columns_to_join, \"allComment\", words_to_filter, replacements)\n",
    "\n",
    "# Add the proba column to the dataframe\n",
    "# df['proba'] = probs.tolist()\n",
    "\n",
    "# Get the topic and keywords\n",
    "topic_keywords = {}\n",
    "n = 10  # Number of keywords to include\n",
    "for topic in topic_model.get_topics().keys():\n",
    "    topic_words = [word for word, _ in topic_model.get_topic(topic)[:n]]\n",
    "    topic_keywords[topic] = \", \".join(topic_words)\n",
    "\n",
    "df['topic'] = topics\n",
    "df['keywords'] = df['topic'].map(topic_keywords)\n",
    "\n",
    "# Add the label and keywords columns to the dataframe\n",
    "topic_labels_dict[-1] = 'Outlier'\n",
    "df['label'] = df['topic'].map(topic_labels_dict)\n",
    "\n",
    "# Get a list of the topics in the correct order, excluding topic -1\n",
    "topic_order = [topic for topic in topic_model.get_topics().keys() if topic != -1]\n",
    "\n",
    "# Create a dictionary where the keys are the topic labels and the values are the probabilities\n",
    "proba_dict = []\n",
    "for proba in probs:\n",
    "    proba_dict.append(dict(sorted(zip(topic_order, proba), key=lambda item: item[1], reverse=True)))\n",
    "    \n",
    "# Add the proba_dict column to the dataframe\n",
    "df['proba_dict'] = proba_dict\n",
    "\n",
    "# df.to_csv(\"/media/cattiaux/DATA/Wassati/team_data/schneider/df_labelled.csv\",header=True)\n",
    "df.head(5)\n",
    "len(df)"
   ]
  },
  {
   "cell_type": "code",
   "execution_count": 16,
   "metadata": {},
   "outputs": [],
   "source": [
    "res = df.iloc[[x[1] for x in sorted([(max(v.values()), i) for i, v in enumerate(df['proba_dict'])], reverse=True)]]\n",
    "res[res[\"topic\"] == -1].to_csv(\"outliers_15K.csv\", header=True)"
   ]
  },
  {
   "cell_type": "code",
   "execution_count": 7,
   "metadata": {},
   "outputs": [
    {
     "name": "stderr",
     "output_type": "stream",
     "text": [
      "Batches: 100%|██████████| 488/488 [00:31<00:00, 15.29it/s]\n"
     ]
    }
   ],
   "source": [
    "model_name=\"all-MiniLM-L6-v2\"\n",
    "\n",
    "outliers_df = df[df[\"topic\"] == -1]\n",
    "outliers_docs = outliers_df[\"allComment\"].astype(str).tolist()\n",
    "\n",
    "vocabulary = create_custom_vocabulary(outliers_docs, ngrams_list, top_n=4, use_mmr=True, stop_words=stopwords, keyphrase_ngram_range=(1,1), nr_candidates=12)\n",
    "# Prepare sub-models\n",
    "custom_vectorizer_model = CountVectorizer(vocabulary=vocabulary, stop_words=stopwords, lowercase=True, ngram_range=(1, 3))\n",
    "representation_models = [KeyBERTInspired(), MaximalMarginalRelevance(diversity=0.3)] \n",
    "ctfidf_model = ClassTfidfTransformer(reduce_frequent_words=True)\n",
    "\n",
    "# compute embeddings using GPU\n",
    "sentence_model = SentenceTransformer(model_name, device=\"cuda\")\n",
    "embeddings = sentence_model.encode(outliers_docs, show_progress_bar=True)"
   ]
  },
  {
   "cell_type": "code",
   "execution_count": 8,
   "metadata": {},
   "outputs": [
    {
     "name": "stderr",
     "output_type": "stream",
     "text": [
      "Batches: 100%|██████████| 488/488 [00:32<00:00, 15.13it/s] \n"
     ]
    }
   ],
   "source": [
    "# compute embeddings using GPU\n",
    "sentence_model = SentenceTransformer(model_name, device=\"cuda\")\n",
    "embeddings = sentence_model.encode(outliers_docs, show_progress_bar=True)"
   ]
  },
  {
   "cell_type": "code",
   "execution_count": null,
   "metadata": {},
   "outputs": [],
   "source": [
    "    # Run BERTopic\n",
    "topic_model = BERTopic(embedding_model=sentence_model,\n",
    "                        vectorizer_model=custom_vectorizer_model,\n",
    "                        seed_topic_list=labels,\n",
    "                        ctfidf_model = ClassTfidfTransformer(reduce_frequent_words=True),\n",
    "                        representation_model= [KeyBERTInspired(), MaximalMarginalRelevance(diversity=0.3)],\n",
    "                        top_n_words=10,\n",
    "                        min_topic_size=70,\n",
    "                        calculate_probabilities=True)\n",
    "\n",
    "topics, probs = topic_model.fit_transform(outliers_docs, embeddings)"
   ]
  },
  {
   "cell_type": "code",
   "execution_count": 18,
   "metadata": {},
   "outputs": [
    {
     "name": "stdout",
     "output_type": "stream",
     "text": [
      "outliers:  15590\n"
     ]
    },
    {
     "name": "stderr",
     "output_type": "stream",
     "text": [
      "/home/cattiaux/anaconda3/envs/wassati/lib/python3.9/site-packages/bertopic/vectorizers/_ctfidf.py:69: RuntimeWarning: divide by zero encountered in divide\n",
      "  idf = np.log((avg_nr_samples / df)+1)\n"
     ]
    },
    {
     "data": {
      "text/html": [
       "<div>\n",
       "<style scoped>\n",
       "    .dataframe tbody tr th:only-of-type {\n",
       "        vertical-align: middle;\n",
       "    }\n",
       "\n",
       "    .dataframe tbody tr th {\n",
       "        vertical-align: top;\n",
       "    }\n",
       "\n",
       "    .dataframe thead th {\n",
       "        text-align: right;\n",
       "    }\n",
       "</style>\n",
       "<table border=\"1\" class=\"dataframe\">\n",
       "  <thead>\n",
       "    <tr style=\"text-align: right;\">\n",
       "      <th></th>\n",
       "      <th>Topic</th>\n",
       "      <th>Count</th>\n",
       "    </tr>\n",
       "  </thead>\n",
       "  <tbody>\n",
       "    <tr>\n",
       "      <th>6</th>\n",
       "      <td>-1</td>\n",
       "      <td>4705</td>\n",
       "    </tr>\n",
       "    <tr>\n",
       "      <th>5</th>\n",
       "      <td>0</td>\n",
       "      <td>2331</td>\n",
       "    </tr>\n",
       "    <tr>\n",
       "      <th>21</th>\n",
       "      <td>1</td>\n",
       "      <td>1971</td>\n",
       "    </tr>\n",
       "    <tr>\n",
       "      <th>4</th>\n",
       "      <td>2</td>\n",
       "      <td>1502</td>\n",
       "    </tr>\n",
       "    <tr>\n",
       "      <th>30</th>\n",
       "      <td>4</td>\n",
       "      <td>1457</td>\n",
       "    </tr>\n",
       "  </tbody>\n",
       "</table>\n",
       "</div>"
      ],
      "text/plain": [
       "    Topic  Count\n",
       "6      -1   4705\n",
       "5       0   2331\n",
       "21      1   1971\n",
       "4       2   1502\n",
       "30      4   1457"
      ]
     },
     "execution_count": 18,
     "metadata": {},
     "output_type": "execute_result"
    }
   ],
   "source": [
    "print(\"outliers: \",len(outliers_df))\n",
    "txt = df[\"allComment\"].astype(str).tolist()\n",
    "\n",
    "# Use the \"c-TF-IDF\" strategy with a threshold\n",
    "new_topics = topic_model.reduce_outliers(txt, topics, strategy=\"c-tf-idf\", threshold=0.1)\n",
    "topic_model.update_topics(txt, vectorizer_model=custom_vectorizer_model, topics=new_topics)\n",
    "topic_model.get_topic_freq().head()"
   ]
  },
  {
   "cell_type": "code",
   "execution_count": 17,
   "metadata": {},
   "outputs": [
    {
     "name": "stderr",
     "output_type": "stream",
     "text": [
      "100%|██████████| 59/59 [00:00<00:00, 59.88it/s]\n"
     ]
    },
    {
     "data": {
      "application/vnd.plotly.v1+json": {
       "config": {
        "plotlyServerURL": "https://plot.ly"
       },
       "data": [
        {
         "hoverinfo": "text",
         "marker": {
          "color": "rgb(61,153,112)"
         },
         "mode": "lines",
         "text": [
          "delivery_order_time_orders_electric",
          "",
          "",
          "delivery_order_delivered_deliveries_orders"
         ],
         "type": "scatter",
         "x": [
          0,
          0.13965751295956308,
          0.13965751295956308,
          0
         ],
         "xaxis": "x",
         "y": [
          -15,
          -15,
          -25,
          -25
         ],
         "yaxis": "y"
        },
        {
         "hoverinfo": "text",
         "marker": {
          "color": "rgb(61,153,112)"
         },
         "mode": "lines",
         "text": [
          "delivery_order_orders_time_delivery time",
          "",
          "",
          "delivery_date_delivery date_delivery time_time"
         ],
         "type": "scatter",
         "x": [
          0.13965751295956308,
          0.2787938107104577,
          0.2787938107104577,
          0
         ],
         "xaxis": "x",
         "y": [
          -20,
          -20,
          -35,
          -35
         ],
         "yaxis": "y"
        },
        {
         "hoverinfo": "text",
         "marker": {
          "color": "rgb(61,153,112)"
         },
         "mode": "lines",
         "text": [
          "deadlines_deadline_delays_respected_proposal",
          "",
          "",
          "delivery_order_date_delivery date_delivery time"
         ],
         "type": "scatter",
         "x": [
          0,
          0.8105574489502696,
          0.8105574489502696,
          0.2787938107104577
         ],
         "xaxis": "x",
         "y": [
          -5,
          -5,
          -27.5,
          -27.5
         ],
         "yaxis": "y"
        },
        {
         "hoverinfo": "text",
         "marker": {
          "color": "rgb(61,153,112)"
         },
         "mode": "lines",
         "text": [
          "quote_quotation_quotations_get_quotes",
          "",
          "",
          "quote_quotation_invoice_price_quotes"
         ],
         "type": "scatter",
         "x": [
          0,
          0.2835177721301555,
          0.2835177721301555,
          0
         ],
         "xaxis": "x",
         "y": [
          -45,
          -45,
          -55,
          -55
         ],
         "yaxis": "y"
        },
        {
         "hoverinfo": "text",
         "marker": {
          "color": "rgb(61,153,112)"
         },
         "mode": "lines",
         "text": [
          "quote_quotation_invoice_quotes_price",
          "",
          "",
          "offer_offers_received_request_receive"
         ],
         "type": "scatter",
         "x": [
          0.2835177721301555,
          0.8439097900252103,
          0.8439097900252103,
          0
         ],
         "xaxis": "x",
         "y": [
          -50,
          -50,
          -65,
          -65
         ],
         "yaxis": "y"
        },
        {
         "hoverinfo": "text",
         "marker": {
          "color": "rgb(61,153,112)"
         },
         "mode": "lines",
         "text": [
          "delivery_order_date_delivery date_delivery time",
          "",
          "",
          "quote_offer_quotation_invoice_price"
         ],
         "type": "scatter",
         "x": [
          0.8105574489502696,
          0.9739288516025922,
          0.9739288516025922,
          0.8439097900252103
         ],
         "xaxis": "x",
         "y": [
          -16.25,
          -16.25,
          -57.5,
          -57.5
         ],
         "yaxis": "y"
        },
        {
         "hoverinfo": "text",
         "marker": {
          "color": "rgb(255,65,54)"
         },
         "mode": "lines",
         "text": [
          "programmable logic controller_programmable_controller_software_support",
          "",
          "",
          "programmable logic controller_software_controller_programmable_touch panel"
         ],
         "type": "scatter",
         "x": [
          0,
          0.23319008264831353,
          0.23319008264831353,
          0
         ],
         "xaxis": "x",
         "y": [
          -85,
          -85,
          -95,
          -95
         ],
         "yaxis": "y"
        },
        {
         "hoverinfo": "text",
         "marker": {
          "color": "rgb(255,65,54)"
         },
         "mode": "lines",
         "text": [
          "programmable logic controller_controller_programmable_software_use",
          "",
          "",
          "touch_touch panel_panel_screen_touch screen"
         ],
         "type": "scatter",
         "x": [
          0.23319008264831353,
          0.510266792457341,
          0.510266792457341,
          0
         ],
         "xaxis": "x",
         "y": [
          -90,
          -90,
          -105,
          -105
         ],
         "yaxis": "y"
        },
        {
         "hoverinfo": "text",
         "marker": {
          "color": "rgb(255,65,54)"
         },
         "mode": "lines",
         "text": [
          "siemens_chinese_possible_china_reference",
          "",
          "",
          "programmable logic controller_controller_programmable_software_use"
         ],
         "type": "scatter",
         "x": [
          0,
          0.6455362542957556,
          0.6455362542957556,
          0.510266792457341
         ],
         "xaxis": "x",
         "y": [
          -75,
          -75,
          -97.5,
          -97.5
         ],
         "yaxis": "y"
        },
        {
         "hoverinfo": "text",
         "marker": {
          "color": "rgb(255,65,54)"
         },
         "mode": "lines",
         "text": [
          "frequency_frequency converters_converters_satisfied_hotline",
          "",
          "",
          "frequency_electric_contact_good_use"
         ],
         "type": "scatter",
         "x": [
          0,
          0.26065448255474843,
          0.26065448255474843,
          0
         ],
         "xaxis": "x",
         "y": [
          -115,
          -115,
          -125,
          -125
         ],
         "yaxis": "y"
        },
        {
         "hoverinfo": "text",
         "marker": {
          "color": "rgb(255,65,54)"
         },
         "mode": "lines",
         "text": [
          "rating_score_points_product_sales representative",
          "",
          "",
          "rating_score_grade_electric_quality"
         ],
         "type": "scatter",
         "x": [
          0,
          0.24727360276286237,
          0.24727360276286237,
          0
         ],
         "xaxis": "x",
         "y": [
          -135,
          -135,
          -145,
          -145
         ],
         "yaxis": "y"
        },
        {
         "hoverinfo": "text",
         "marker": {
          "color": "rgb(255,65,54)"
         },
         "mode": "lines",
         "text": [
          "electric_products_product_good_us",
          "",
          "",
          "product_good_products_technical_quality"
         ],
         "type": "scatter",
         "x": [
          0,
          0.11012531119714342,
          0.11012531119714342,
          0
         ],
         "xaxis": "x",
         "y": [
          -175,
          -175,
          -185,
          -185
         ],
         "yaxis": "y"
        },
        {
         "hoverinfo": "text",
         "marker": {
          "color": "rgb(255,65,54)"
         },
         "mode": "lines",
         "text": [
          "electric_products_product_good_us",
          "",
          "",
          "10_ten_give_would_think"
         ],
         "type": "scatter",
         "x": [
          0.11012531119714342,
          0.19042009114181935,
          0.19042009114181935,
          0
         ],
         "xaxis": "x",
         "y": [
          -180,
          -180,
          -195,
          -195
         ],
         "yaxis": "y"
        },
        {
         "hoverinfo": "text",
         "marker": {
          "color": "rgb(255,65,54)"
         },
         "mode": "lines",
         "text": [
          "reasons_main_reason_quality_product",
          "",
          "",
          "electric_products_product_good_would"
         ],
         "type": "scatter",
         "x": [
          0,
          0.3067305887441735,
          0.3067305887441735,
          0.19042009114181935
         ],
         "xaxis": "x",
         "y": [
          -165,
          -165,
          -187.5,
          -187.5
         ],
         "yaxis": "y"
        },
        {
         "hoverinfo": "text",
         "marker": {
          "color": "rgb(255,65,54)"
         },
         "mode": "lines",
         "text": [
          "switches_switch_contactors_switchgear_use",
          "",
          "",
          "breakers_circuit breakers_voltage_low_low voltage"
         ],
         "type": "scatter",
         "x": [
          0,
          0.3313308766801505,
          0.3313308766801505,
          0
         ],
         "xaxis": "x",
         "y": [
          -205,
          -205,
          -215,
          -215
         ],
         "yaxis": "y"
        },
        {
         "hoverinfo": "text",
         "marker": {
          "color": "rgb(255,65,54)"
         },
         "mode": "lines",
         "text": [
          "electric_products_product_good_quality",
          "",
          "",
          "breakers_use_contactors_product_quality"
         ],
         "type": "scatter",
         "x": [
          0.3067305887441735,
          0.4457624701625573,
          0.4457624701625573,
          0.3313308766801505
         ],
         "xaxis": "x",
         "y": [
          -176.25,
          -176.25,
          -210,
          -210
         ],
         "yaxis": "y"
        },
        {
         "hoverinfo": "text",
         "marker": {
          "color": "rgb(255,65,54)"
         },
         "mode": "lines",
         "text": [
          "problems_never_issues_experience_parts",
          "",
          "",
          "products_electric_product_good_quality"
         ],
         "type": "scatter",
         "x": [
          0,
          0.5002674785599214,
          0.5002674785599214,
          0.4457624701625573
         ],
         "xaxis": "x",
         "y": [
          -155,
          -155,
          -193.125,
          -193.125
         ],
         "yaxis": "y"
        },
        {
         "hoverinfo": "text",
         "marker": {
          "color": "rgb(255,65,54)"
         },
         "mode": "lines",
         "text": [
          "inverter_inverters_use_price_quality",
          "",
          "",
          "servo_motors_servo motors_problem_product"
         ],
         "type": "scatter",
         "x": [
          0,
          0.39467734307450975,
          0.39467734307450975,
          0
         ],
         "xaxis": "x",
         "y": [
          -225,
          -225,
          -235,
          -235
         ],
         "yaxis": "y"
        },
        {
         "hoverinfo": "text",
         "marker": {
          "color": "rgb(255,65,54)"
         },
         "mode": "lines",
         "text": [
          "products_electric_product_good_quality",
          "",
          "",
          "inverter_servo_inverters_problem_price"
         ],
         "type": "scatter",
         "x": [
          0.5002674785599214,
          0.5621545966330613,
          0.5621545966330613,
          0.39467734307450975
         ],
         "xaxis": "x",
         "y": [
          -174.0625,
          -174.0625,
          -230,
          -230
         ],
         "yaxis": "y"
        },
        {
         "hoverinfo": "text",
         "marker": {
          "color": "rgb(255,65,54)"
         },
         "mode": "lines",
         "text": [
          "products_product_electric_quality_good",
          "",
          "",
          "drive_drives_variable_support_altivar"
         ],
         "type": "scatter",
         "x": [
          0.5621545966330613,
          0.6038199955576985,
          0.6038199955576985,
          0
         ],
         "xaxis": "x",
         "y": [
          -202.03125,
          -202.03125,
          -245,
          -245
         ],
         "yaxis": "y"
        },
        {
         "hoverinfo": "text",
         "marker": {
          "color": "rgb(255,65,54)"
         },
         "mode": "lines",
         "text": [
          "rating_score_points_quality_products",
          "",
          "",
          "products_product_electric_quality_good"
         ],
         "type": "scatter",
         "x": [
          0.24727360276286237,
          0.671726723390339,
          0.671726723390339,
          0.6038199955576985
         ],
         "xaxis": "x",
         "y": [
          -140,
          -140,
          -223.515625,
          -223.515625
         ],
         "yaxis": "y"
        },
        {
         "hoverinfo": "text",
         "marker": {
          "color": "rgb(255,65,54)"
         },
         "mode": "lines",
         "text": [
          "frequency_frequency converters_converters_electric_contact",
          "",
          "",
          "products_product_electric_quality_good"
         ],
         "type": "scatter",
         "x": [
          0.26065448255474843,
          0.6978484438372693,
          0.6978484438372693,
          0.671726723390339
         ],
         "xaxis": "x",
         "y": [
          -120,
          -120,
          -181.7578125,
          -181.7578125
         ],
         "yaxis": "y"
        },
        {
         "hoverinfo": "text",
         "marker": {
          "color": "rgb(255,65,54)"
         },
         "mode": "lines",
         "text": [
          "quality_service_good_product_satisfaction",
          "",
          "",
          "price_quality_products_product_prices"
         ],
         "type": "scatter",
         "x": [
          0,
          0.3851604822271394,
          0.3851604822271394,
          0
         ],
         "xaxis": "x",
         "y": [
          -265,
          -265,
          -275,
          -275
         ],
         "yaxis": "y"
        },
        {
         "hoverinfo": "text",
         "marker": {
          "color": "rgb(255,65,54)"
         },
         "mode": "lines",
         "text": [
          "material_quality_nothing_commercial_add",
          "",
          "",
          "price_quality_product_products_good"
         ],
         "type": "scatter",
         "x": [
          0,
          0.5042009991364613,
          0.5042009991364613,
          0.3851604822271394
         ],
         "xaxis": "x",
         "y": [
          -255,
          -255,
          -270,
          -270
         ],
         "yaxis": "y"
        },
        {
         "hoverinfo": "text",
         "marker": {
          "color": "rgb(255,65,54)"
         },
         "mode": "lines",
         "text": [
          "price_quality_product_good_products",
          "",
          "",
          "reliable_reliability_quality_product_good"
         ],
         "type": "scatter",
         "x": [
          0.5042009991364613,
          0.6670681613966565,
          0.6670681613966565,
          0
         ],
         "xaxis": "x",
         "y": [
          -262.5,
          -262.5,
          -285,
          -285
         ],
         "yaxis": "y"
        },
        {
         "hoverinfo": "text",
         "marker": {
          "color": "rgb(255,65,54)"
         },
         "mode": "lines",
         "text": [
          "products_electric_product_quality_good",
          "",
          "",
          "quality_price_product_good_products"
         ],
         "type": "scatter",
         "x": [
          0.6978484438372693,
          0.8415427354496499,
          0.8415427354496499,
          0.6670681613966565
         ],
         "xaxis": "x",
         "y": [
          -150.87890625,
          -150.87890625,
          -273.75,
          -273.75
         ],
         "yaxis": "y"
        },
        {
         "hoverinfo": "text",
         "marker": {
          "color": "rgb(255,65,54)"
         },
         "mode": "lines",
         "text": [
          "programmable logic controller_controller_programmable_software_use",
          "",
          "",
          "products_quality_product_electric_good"
         ],
         "type": "scatter",
         "x": [
          0.6455362542957556,
          0.9385061937739975,
          0.9385061937739975,
          0.8415427354496499
         ],
         "xaxis": "x",
         "y": [
          -86.25,
          -86.25,
          -212.314453125,
          -212.314453125
         ],
         "yaxis": "y"
        },
        {
         "hoverinfo": "text",
         "marker": {
          "color": "rgb(0,116,217)"
         },
         "mode": "lines",
         "text": [
          "delivery_order_date_delivery date_time",
          "",
          "",
          "products_product_quality_electric_use"
         ],
         "type": "scatter",
         "x": [
          0.9739288516025922,
          1.3703675652692648,
          1.3703675652692648,
          0.9385061937739975
         ],
         "xaxis": "x",
         "y": [
          -36.875,
          -36.875,
          -149.2822265625,
          -149.2822265625
         ],
         "yaxis": "y"
        },
        {
         "hoverinfo": "text",
         "marker": {
          "color": "rgb(35,205,205)"
         },
         "mode": "lines",
         "text": [
          "professionalism_support_phone_call_chat",
          "",
          "",
          "information_inquiry_received_inquiries_response"
         ],
         "type": "scatter",
         "x": [
          0,
          0.5121429560021629,
          0.5121429560021629,
          0
         ],
         "xaxis": "x",
         "y": [
          -305,
          -305,
          -315,
          -315
         ],
         "yaxis": "y"
        },
        {
         "hoverinfo": "text",
         "marker": {
          "color": "rgb(35,205,205)"
         },
         "mode": "lines",
         "text": [
          "professionalism_phone_support_call_information",
          "",
          "",
          "answer_question_answered_answers_questions"
         ],
         "type": "scatter",
         "x": [
          0.5121429560021629,
          0.6371654339006181,
          0.6371654339006181,
          0
         ],
         "xaxis": "x",
         "y": [
          -310,
          -310,
          -325,
          -325
         ],
         "yaxis": "y"
        },
        {
         "hoverinfo": "text",
         "marker": {
          "color": "rgb(35,205,205)"
         },
         "mode": "lines",
         "text": [
          "explanation_understand_easy_polite_explained",
          "",
          "",
          "answer_question_answers_answered_got"
         ],
         "type": "scatter",
         "x": [
          0,
          0.7622415969525246,
          0.7622415969525246,
          0.6371654339006181
         ],
         "xaxis": "x",
         "y": [
          -295,
          -295,
          -317.5,
          -317.5
         ],
         "yaxis": "y"
        },
        {
         "hoverinfo": "text",
         "marker": {
          "color": "rgb(35,205,205)"
         },
         "mode": "lines",
         "text": [
          "answer_question_answers_explanation_answered",
          "",
          "",
          "assistance_helped_help_quickly_professionally"
         ],
         "type": "scatter",
         "x": [
          0.7622415969525246,
          0.8284116227859537,
          0.8284116227859537,
          0
         ],
         "xaxis": "x",
         "y": [
          -306.25,
          -306.25,
          -335,
          -335
         ],
         "yaxis": "y"
        },
        {
         "hoverinfo": "text",
         "marker": {
          "color": "rgb(35,205,205)"
         },
         "mode": "lines",
         "text": [
          "quick_quick response_response_reply_support",
          "",
          "",
          "response_quick_response time_answer_speed"
         ],
         "type": "scatter",
         "x": [
          0,
          0.37119469313075315,
          0.37119469313075315,
          0
         ],
         "xaxis": "x",
         "y": [
          -345,
          -345,
          -355,
          -355
         ],
         "yaxis": "y"
        },
        {
         "hoverinfo": "text",
         "marker": {
          "color": "rgb(35,205,205)"
         },
         "mode": "lines",
         "text": [
          "response_quick_quick response_response time_reply",
          "",
          "",
          "kindness_prompt_polite_response_reply"
         ],
         "type": "scatter",
         "x": [
          0.37119469313075315,
          0.7260716129377002,
          0.7260716129377002,
          0
         ],
         "xaxis": "x",
         "y": [
          -350,
          -350,
          -365,
          -365
         ],
         "yaxis": "y"
        },
        {
         "hoverinfo": "text",
         "marker": {
          "color": "rgb(35,205,205)"
         },
         "mode": "lines",
         "text": [
          "courtesy_competence_reactivity_gentleman_satisfaction",
          "",
          "",
          "fast_efficient_efficiency_speed_turnaround"
         ],
         "type": "scatter",
         "x": [
          0,
          0.8605223802890537,
          0.8605223802890537,
          0
         ],
         "xaxis": "x",
         "y": [
          -375,
          -375,
          -385,
          -385
         ],
         "yaxis": "y"
        },
        {
         "hoverinfo": "text",
         "marker": {
          "color": "rgb(35,205,205)"
         },
         "mode": "lines",
         "text": [
          "response_quick_quick response_response time_reply",
          "",
          "",
          "fast_courtesy_efficient_competence_efficiency"
         ],
         "type": "scatter",
         "x": [
          0.7260716129377002,
          0.9420991960144048,
          0.9420991960144048,
          0.8605223802890537
         ],
         "xaxis": "x",
         "y": [
          -357.5,
          -357.5,
          -380,
          -380
         ],
         "yaxis": "y"
        },
        {
         "hoverinfo": "text",
         "marker": {
          "color": "rgb(35,205,205)"
         },
         "mode": "lines",
         "text": [
          "answer_question_answers_explanation_assistance",
          "",
          "",
          "response_quick_quick response_response time_fast"
         ],
         "type": "scatter",
         "x": [
          0.8284116227859537,
          0.9870366199903119,
          0.9870366199903119,
          0.9420991960144048
         ],
         "xaxis": "x",
         "y": [
          -320.625,
          -320.625,
          -368.75,
          -368.75
         ],
         "yaxis": "y"
        },
        {
         "hoverinfo": "text",
         "marker": {
          "color": "rgb(133,20,75)"
         },
         "mode": "lines",
         "text": [
          "advice_competent_fast_friendly_professional",
          "",
          "",
          "competent_staff_friendly_professional_helpful"
         ],
         "type": "scatter",
         "x": [
          0,
          0.6186404492531223,
          0.6186404492531223,
          0
         ],
         "xaxis": "x",
         "y": [
          -395,
          -395,
          -405,
          -405
         ],
         "yaxis": "y"
        },
        {
         "hoverinfo": "text",
         "marker": {
          "color": "rgb(255,220,0)"
         },
         "mode": "lines",
         "text": [
          "support_technical support_technical_good_product",
          "",
          "",
          "technical support_technical_support_help_knowledgeable"
         ],
         "type": "scatter",
         "x": [
          0,
          0.20809946748935715,
          0.20809946748935715,
          0
         ],
         "xaxis": "x",
         "y": [
          -425,
          -425,
          -435,
          -435
         ],
         "yaxis": "y"
        },
        {
         "hoverinfo": "text",
         "marker": {
          "color": "rgb(255,220,0)"
         },
         "mode": "lines",
         "text": [
          "support_fast_competent_great_quick",
          "",
          "",
          "technical support_technical_support_good_help"
         ],
         "type": "scatter",
         "x": [
          0,
          0.6287000984538874,
          0.6287000984538874,
          0.20809946748935715
         ],
         "xaxis": "x",
         "y": [
          -415,
          -415,
          -430,
          -430
         ],
         "yaxis": "y"
        },
        {
         "hoverinfo": "text",
         "marker": {
          "color": "rgb(0,116,217)"
         },
         "mode": "lines",
         "text": [
          "competent_advice_staff_friendly_professional",
          "",
          "",
          "technical support_support_technical_good_help"
         ],
         "type": "scatter",
         "x": [
          0.6186404492531223,
          1.038351631161086,
          1.038351631161086,
          0.6287000984538874
         ],
         "xaxis": "x",
         "y": [
          -400,
          -400,
          -422.5,
          -422.5
         ],
         "yaxis": "y"
        },
        {
         "hoverinfo": "text",
         "marker": {
          "color": "rgb(40,35,35)"
         },
         "mode": "lines",
         "text": [
          "service_customer service_customer_fast_efficient",
          "",
          "",
          "service_good_quality_nice_attitude"
         ],
         "type": "scatter",
         "x": [
          0,
          0.3359317707664138,
          0.3359317707664138,
          0
         ],
         "xaxis": "x",
         "y": [
          -455,
          -455,
          -465,
          -465
         ],
         "yaxis": "y"
        },
        {
         "hoverinfo": "text",
         "marker": {
          "color": "rgb(40,35,35)"
         },
         "mode": "lines",
         "text": [
          "excellent_great_service_attention_support",
          "",
          "",
          "service_good_customer service_customer_fast"
         ],
         "type": "scatter",
         "x": [
          0,
          0.6511998459842592,
          0.6511998459842592,
          0.3359317707664138
         ],
         "xaxis": "x",
         "y": [
          -445,
          -445,
          -460,
          -460
         ],
         "yaxis": "y"
        },
        {
         "hoverinfo": "text",
         "marker": {
          "color": "rgb(61,153,112)"
         },
         "mode": "lines",
         "text": [
          "everything_fine_smoothly_worked_perfect",
          "",
          "",
          "cooperation_sales representative_representative_works_sales"
         ],
         "type": "scatter",
         "x": [
          0,
          0.7174331491094489,
          0.7174331491094489,
          0
         ],
         "xaxis": "x",
         "y": [
          -475,
          -475,
          -485,
          -485
         ],
         "yaxis": "y"
        },
        {
         "hoverinfo": "text",
         "marker": {
          "color": "rgb(61,153,112)"
         },
         "mode": "lines",
         "text": [
          "responsiveness_responsive_good_service_requests",
          "",
          "",
          "feedback_timely_quick_manner_fast"
         ],
         "type": "scatter",
         "x": [
          0,
          0.8697602621726255,
          0.8697602621726255,
          0
         ],
         "xaxis": "x",
         "y": [
          -495,
          -495,
          -505,
          -505
         ],
         "yaxis": "y"
        },
        {
         "hoverinfo": "text",
         "marker": {
          "color": "rgb(61,153,112)"
         },
         "mode": "lines",
         "text": [
          "cooperation_everything_fine_sales representative_works",
          "",
          "",
          "feedback_responsiveness_responsive_timely_quick"
         ],
         "type": "scatter",
         "x": [
          0.7174331491094489,
          0.8997588821124946,
          0.8997588821124946,
          0.8697602621726255
         ],
         "xaxis": "x",
         "y": [
          -480,
          -480,
          -500,
          -500
         ],
         "yaxis": "y"
        },
        {
         "hoverinfo": "text",
         "marker": {
          "color": "rgb(0,116,217)"
         },
         "mode": "lines",
         "text": [
          "service_excellent_good_customer service_great",
          "",
          "",
          "cooperation_feedback_everything_responsiveness_responsive"
         ],
         "type": "scatter",
         "x": [
          0.6511998459842592,
          1.001559205276719,
          1.001559205276719,
          0.8997588821124946
         ],
         "xaxis": "x",
         "y": [
          -452.5,
          -452.5,
          -490,
          -490
         ],
         "yaxis": "y"
        },
        {
         "hoverinfo": "text",
         "marker": {
          "color": "rgb(0,116,217)"
         },
         "mode": "lines",
         "text": [
          "support_technical support_technical_competent_advice",
          "",
          "",
          "service_excellent_good_feedback_cooperation"
         ],
         "type": "scatter",
         "x": [
          1.038351631161086,
          1.07969296159331,
          1.07969296159331,
          1.001559205276719
         ],
         "xaxis": "x",
         "y": [
          -411.25,
          -411.25,
          -471.25,
          -471.25
         ],
         "yaxis": "y"
        },
        {
         "hoverinfo": "text",
         "marker": {
          "color": "rgb(0,116,217)"
         },
         "mode": "lines",
         "text": [
          "response_quick_answer_quick response_question",
          "",
          "",
          "service_support_technical support_technical_good"
         ],
         "type": "scatter",
         "x": [
          0.9870366199903119,
          1.3104857025207748,
          1.3104857025207748,
          1.07969296159331
         ],
         "xaxis": "x",
         "y": [
          -344.6875,
          -344.6875,
          -441.25,
          -441.25
         ],
         "yaxis": "y"
        },
        {
         "hoverinfo": "text",
         "marker": {
          "color": "rgb(255,65,54)"
         },
         "mode": "lines",
         "text": [
          "ups_apc_battery_replacement_maintenance",
          "",
          "",
          "error_problem_fault_warranty_repair"
         ],
         "type": "scatter",
         "x": [
          0,
          0.5252361259303742,
          0.5252361259303742,
          0
         ],
         "xaxis": "x",
         "y": [
          -515,
          -515,
          -525,
          -525
         ],
         "yaxis": "y"
        },
        {
         "hoverinfo": "text",
         "marker": {
          "color": "rgb(255,65,54)"
         },
         "mode": "lines",
         "text": [
          "ups_battery_apc_replacement_problem",
          "",
          "",
          "resolved_issue_problem_resolve_quickly"
         ],
         "type": "scatter",
         "x": [
          0.5252361259303742,
          0.6868513975617739,
          0.6868513975617739,
          0
         ],
         "xaxis": "x",
         "y": [
          -520,
          -520,
          -535,
          -535
         ],
         "yaxis": "y"
        },
        {
         "hoverinfo": "text",
         "marker": {
          "color": "rgb(255,65,54)"
         },
         "mode": "lines",
         "text": [
          "technician_technicians_knowledgeable_tech_prepared",
          "",
          "",
          "technician_competence_technical_technicians_questions"
         ],
         "type": "scatter",
         "x": [
          0,
          0.26113599256542464,
          0.26113599256542464,
          0
         ],
         "xaxis": "x",
         "y": [
          -555,
          -555,
          -565,
          -565
         ],
         "yaxis": "y"
        },
        {
         "hoverinfo": "text",
         "marker": {
          "color": "rgb(255,65,54)"
         },
         "mode": "lines",
         "text": [
          "technician_troubleshooting_problem_issue_solved",
          "",
          "",
          "technician_competence_technicians_technical_prepared"
         ],
         "type": "scatter",
         "x": [
          0,
          0.3702815668314944,
          0.3702815668314944,
          0.26113599256542464
         ],
         "xaxis": "x",
         "y": [
          -545,
          -545,
          -560,
          -560
         ],
         "yaxis": "y"
        },
        {
         "hoverinfo": "text",
         "marker": {
          "color": "rgb(255,65,54)"
         },
         "mode": "lines",
         "text": [
          "ups_resolved_issue_battery_problem",
          "",
          "",
          "technician_competence_technicians_technical_problem"
         ],
         "type": "scatter",
         "x": [
          0.6868513975617739,
          0.9550350310992968,
          0.9550350310992968,
          0.3702815668314944
         ],
         "xaxis": "x",
         "y": [
          -527.5,
          -527.5,
          -552.5,
          -552.5
         ],
         "yaxis": "y"
        },
        {
         "hoverinfo": "text",
         "marker": {
          "color": "rgb(35,205,205)"
         },
         "mode": "lines",
         "text": [
          "solve_solved_resolved_problem_solve problem",
          "",
          "",
          "solved_problem_solve_solve problem_quickly"
         ],
         "type": "scatter",
         "x": [
          0,
          0.3167614076751114,
          0.3167614076751114,
          0
         ],
         "xaxis": "x",
         "y": [
          -585,
          -585,
          -595,
          -595
         ],
         "yaxis": "y"
        },
        {
         "hoverinfo": "text",
         "marker": {
          "color": "rgb(35,205,205)"
         },
         "mode": "lines",
         "text": [
          "solve_solve problem_solution_problem_resolution",
          "",
          "",
          "solved_problem_solve_solve problem_quickly"
         ],
         "type": "scatter",
         "x": [
          0,
          0.4635068348399785,
          0.4635068348399785,
          0.3167614076751114
         ],
         "xaxis": "x",
         "y": [
          -575,
          -575,
          -590,
          -590
         ],
         "yaxis": "y"
        },
        {
         "hoverinfo": "text",
         "marker": {
          "color": "rgb(0,116,217)"
         },
         "mode": "lines",
         "text": [
          "technician_ups_problem_issue_resolved",
          "",
          "",
          "solved_solve_problem_solve problem_solution"
         ],
         "type": "scatter",
         "x": [
          0.9550350310992968,
          1.1065959794815166,
          1.1065959794815166,
          0.4635068348399785
         ],
         "xaxis": "x",
         "y": [
          -540,
          -540,
          -582.5,
          -582.5
         ],
         "yaxis": "y"
        },
        {
         "hoverinfo": "text",
         "marker": {
          "color": "rgb(0,116,217)"
         },
         "mode": "lines",
         "text": [
          "response_quick_support_service_answer",
          "",
          "",
          "technician_problem_solved_solve_solve problem"
         ],
         "type": "scatter",
         "x": [
          1.3104857025207748,
          1.436863730631201,
          1.436863730631201,
          1.1065959794815166
         ],
         "xaxis": "x",
         "y": [
          -392.96875,
          -392.96875,
          -561.25,
          -561.25
         ],
         "yaxis": "y"
        },
        {
         "hoverinfo": "text",
         "marker": {
          "color": "rgb(0,116,217)"
         },
         "mode": "lines",
         "text": [
          "delivery_products_product_electric_quality",
          "",
          "",
          "response_quick_support_technical_problem"
         ],
         "type": "scatter",
         "x": [
          1.3703675652692648,
          2.0943684634663,
          2.0943684634663,
          1.436863730631201
         ],
         "xaxis": "x",
         "y": [
          -93.07861328125,
          -93.07861328125,
          -477.109375,
          -477.109375
         ],
         "yaxis": "y"
        },
        {
         "hoverinfo": "text",
         "hovertext": [
          "delivery_order_orders_time_delivery time",
          "quote_quotation_invoice_quotes_price",
          "delivery_order_date_delivery date_delivery time",
          "programmable logic controller_controller_programmable_software_use",
          "electric_products_product_good_us",
          "electric_products_product_good_quality",
          "products_electric_product_good_quality",
          "products_product_electric_quality_good",
          "rating_score_points_quality_products",
          "frequency_frequency converters_converters_electric_contact",
          "price_quality_product_good_products",
          "products_electric_product_quality_good",
          "programmable logic controller_controller_programmable_software_use",
          "delivery_order_date_delivery date_time",
          "professionalism_phone_support_call_information",
          "answer_question_answers_explanation_answered",
          "response_quick_quick response_response time_reply",
          "response_quick_quick response_response time_reply",
          "answer_question_answers_explanation_assistance",
          "competent_advice_staff_friendly_professional",
          "cooperation_everything_fine_sales representative_works",
          "service_excellent_good_customer service_great",
          "support_technical support_technical_competent_advice",
          "response_quick_answer_quick response_question",
          "ups_battery_apc_replacement_problem",
          "ups_resolved_issue_battery_problem",
          "technician_ups_problem_issue_resolved",
          "response_quick_support_service_answer",
          "delivery_products_product_electric_quality"
         ],
         "marker": {
          "color": "black"
         },
         "mode": "markers",
         "showlegend": false,
         "type": "scatter",
         "x": [
          0.13965751295956308,
          0.2835177721301555,
          0.8105574489502696,
          0.23319008264831353,
          0.11012531119714342,
          0.3067305887441735,
          0.5002674785599214,
          0.5621545966330613,
          0.24727360276286237,
          0.26065448255474843,
          0.5042009991364613,
          0.6978484438372693,
          0.6455362542957556,
          0.9739288516025922,
          0.5121429560021629,
          0.7622415969525246,
          0.37119469313075315,
          0.7260716129377002,
          0.8284116227859537,
          0.6186404492531223,
          0.7174331491094489,
          0.6511998459842592,
          1.038351631161086,
          0.9870366199903119,
          0.5252361259303742,
          0.6868513975617739,
          0.9550350310992968,
          1.3104857025207748,
          1.3703675652692648
         ],
         "y": [
          -20,
          -50,
          -16.25,
          -90,
          -180,
          -176.25,
          -174.0625,
          -202.03125,
          -140,
          -120,
          -262.5,
          -150.87890625,
          -86.25,
          -36.875,
          -310,
          -306.25,
          -350,
          -357.5,
          -320.625,
          -400,
          -480,
          -452.5,
          -411.25,
          -344.6875,
          -520,
          -527.5,
          -540,
          -392.96875,
          -93.07861328125
         ]
        },
        {
         "hoverinfo": "text",
         "hovertext": [
          "delivery_order_date_delivery date_delivery time",
          "quote_offer_quotation_invoice_price",
          "programmable logic controller_controller_programmable_software_use",
          "electric_products_product_good_would",
          "breakers_use_contactors_product_quality",
          "products_electric_product_good_quality",
          "inverter_servo_inverters_problem_price",
          "products_product_electric_quality_good",
          "products_product_electric_quality_good",
          "price_quality_product_products_good",
          "quality_price_product_good_products",
          "products_quality_product_electric_good",
          "products_product_quality_electric_use",
          "answer_question_answers_answered_got",
          "fast_courtesy_efficient_competence_efficiency",
          "response_quick_quick response_response time_fast",
          "technical support_technical_support_good_help",
          "technical support_support_technical_good_help",
          "service_good_customer service_customer_fast",
          "feedback_responsiveness_responsive_timely_quick",
          "cooperation_feedback_everything_responsiveness_responsive",
          "service_excellent_good_feedback_cooperation",
          "service_support_technical support_technical_good",
          "technician_competence_technicians_technical_prepared",
          "technician_competence_technicians_technical_problem",
          "solved_problem_solve_solve problem_quickly",
          "solved_solve_problem_solve problem_solution",
          "technician_problem_solved_solve_solve problem",
          "response_quick_support_technical_problem"
         ],
         "marker": {
          "color": "black"
         },
         "mode": "markers",
         "showlegend": false,
         "type": "scatter",
         "x": [
          0.2787938107104577,
          0.8439097900252103,
          0.510266792457341,
          0.19042009114181935,
          0.3313308766801505,
          0.4457624701625573,
          0.39467734307450975,
          0.6038199955576985,
          0.671726723390339,
          0.3851604822271394,
          0.6670681613966565,
          0.8415427354496499,
          0.9385061937739975,
          0.6371654339006181,
          0.8605223802890537,
          0.9420991960144048,
          0.20809946748935715,
          0.6287000984538874,
          0.3359317707664138,
          0.8697602621726255,
          0.8997588821124946,
          1.001559205276719,
          1.07969296159331,
          0.26113599256542464,
          0.3702815668314944,
          0.3167614076751114,
          0.4635068348399785,
          1.1065959794815166,
          1.436863730631201
         ],
         "y": [
          -27.5,
          -57.5,
          -97.5,
          -187.5,
          -210,
          -193.125,
          -230,
          -223.515625,
          -181.7578125,
          -270,
          -273.75,
          -212.314453125,
          -149.2822265625,
          -317.5,
          -380,
          -368.75,
          -430,
          -422.5,
          -460,
          -500,
          -490,
          -471.25,
          -441.25,
          -560,
          -552.5,
          -590,
          -582.5,
          -561.25,
          -477.109375
         ]
        }
       ],
       "layout": {
        "autosize": false,
        "height": 1100,
        "hoverlabel": {
         "bgcolor": "white",
         "font": {
          "family": "Rockwell",
          "size": 16
         }
        },
        "hovermode": "closest",
        "plot_bgcolor": "#ECEFF1",
        "showlegend": false,
        "template": {
         "data": {
          "bar": [
           {
            "error_x": {
             "color": "#2a3f5f"
            },
            "error_y": {
             "color": "#2a3f5f"
            },
            "marker": {
             "line": {
              "color": "white",
              "width": 0.5
             },
             "pattern": {
              "fillmode": "overlay",
              "size": 10,
              "solidity": 0.2
             }
            },
            "type": "bar"
           }
          ],
          "barpolar": [
           {
            "marker": {
             "line": {
              "color": "white",
              "width": 0.5
             },
             "pattern": {
              "fillmode": "overlay",
              "size": 10,
              "solidity": 0.2
             }
            },
            "type": "barpolar"
           }
          ],
          "carpet": [
           {
            "aaxis": {
             "endlinecolor": "#2a3f5f",
             "gridcolor": "#C8D4E3",
             "linecolor": "#C8D4E3",
             "minorgridcolor": "#C8D4E3",
             "startlinecolor": "#2a3f5f"
            },
            "baxis": {
             "endlinecolor": "#2a3f5f",
             "gridcolor": "#C8D4E3",
             "linecolor": "#C8D4E3",
             "minorgridcolor": "#C8D4E3",
             "startlinecolor": "#2a3f5f"
            },
            "type": "carpet"
           }
          ],
          "choropleth": [
           {
            "colorbar": {
             "outlinewidth": 0,
             "ticks": ""
            },
            "type": "choropleth"
           }
          ],
          "contour": [
           {
            "colorbar": {
             "outlinewidth": 0,
             "ticks": ""
            },
            "colorscale": [
             [
              0,
              "#0d0887"
             ],
             [
              0.1111111111111111,
              "#46039f"
             ],
             [
              0.2222222222222222,
              "#7201a8"
             ],
             [
              0.3333333333333333,
              "#9c179e"
             ],
             [
              0.4444444444444444,
              "#bd3786"
             ],
             [
              0.5555555555555556,
              "#d8576b"
             ],
             [
              0.6666666666666666,
              "#ed7953"
             ],
             [
              0.7777777777777778,
              "#fb9f3a"
             ],
             [
              0.8888888888888888,
              "#fdca26"
             ],
             [
              1,
              "#f0f921"
             ]
            ],
            "type": "contour"
           }
          ],
          "contourcarpet": [
           {
            "colorbar": {
             "outlinewidth": 0,
             "ticks": ""
            },
            "type": "contourcarpet"
           }
          ],
          "heatmap": [
           {
            "colorbar": {
             "outlinewidth": 0,
             "ticks": ""
            },
            "colorscale": [
             [
              0,
              "#0d0887"
             ],
             [
              0.1111111111111111,
              "#46039f"
             ],
             [
              0.2222222222222222,
              "#7201a8"
             ],
             [
              0.3333333333333333,
              "#9c179e"
             ],
             [
              0.4444444444444444,
              "#bd3786"
             ],
             [
              0.5555555555555556,
              "#d8576b"
             ],
             [
              0.6666666666666666,
              "#ed7953"
             ],
             [
              0.7777777777777778,
              "#fb9f3a"
             ],
             [
              0.8888888888888888,
              "#fdca26"
             ],
             [
              1,
              "#f0f921"
             ]
            ],
            "type": "heatmap"
           }
          ],
          "heatmapgl": [
           {
            "colorbar": {
             "outlinewidth": 0,
             "ticks": ""
            },
            "colorscale": [
             [
              0,
              "#0d0887"
             ],
             [
              0.1111111111111111,
              "#46039f"
             ],
             [
              0.2222222222222222,
              "#7201a8"
             ],
             [
              0.3333333333333333,
              "#9c179e"
             ],
             [
              0.4444444444444444,
              "#bd3786"
             ],
             [
              0.5555555555555556,
              "#d8576b"
             ],
             [
              0.6666666666666666,
              "#ed7953"
             ],
             [
              0.7777777777777778,
              "#fb9f3a"
             ],
             [
              0.8888888888888888,
              "#fdca26"
             ],
             [
              1,
              "#f0f921"
             ]
            ],
            "type": "heatmapgl"
           }
          ],
          "histogram": [
           {
            "marker": {
             "pattern": {
              "fillmode": "overlay",
              "size": 10,
              "solidity": 0.2
             }
            },
            "type": "histogram"
           }
          ],
          "histogram2d": [
           {
            "colorbar": {
             "outlinewidth": 0,
             "ticks": ""
            },
            "colorscale": [
             [
              0,
              "#0d0887"
             ],
             [
              0.1111111111111111,
              "#46039f"
             ],
             [
              0.2222222222222222,
              "#7201a8"
             ],
             [
              0.3333333333333333,
              "#9c179e"
             ],
             [
              0.4444444444444444,
              "#bd3786"
             ],
             [
              0.5555555555555556,
              "#d8576b"
             ],
             [
              0.6666666666666666,
              "#ed7953"
             ],
             [
              0.7777777777777778,
              "#fb9f3a"
             ],
             [
              0.8888888888888888,
              "#fdca26"
             ],
             [
              1,
              "#f0f921"
             ]
            ],
            "type": "histogram2d"
           }
          ],
          "histogram2dcontour": [
           {
            "colorbar": {
             "outlinewidth": 0,
             "ticks": ""
            },
            "colorscale": [
             [
              0,
              "#0d0887"
             ],
             [
              0.1111111111111111,
              "#46039f"
             ],
             [
              0.2222222222222222,
              "#7201a8"
             ],
             [
              0.3333333333333333,
              "#9c179e"
             ],
             [
              0.4444444444444444,
              "#bd3786"
             ],
             [
              0.5555555555555556,
              "#d8576b"
             ],
             [
              0.6666666666666666,
              "#ed7953"
             ],
             [
              0.7777777777777778,
              "#fb9f3a"
             ],
             [
              0.8888888888888888,
              "#fdca26"
             ],
             [
              1,
              "#f0f921"
             ]
            ],
            "type": "histogram2dcontour"
           }
          ],
          "mesh3d": [
           {
            "colorbar": {
             "outlinewidth": 0,
             "ticks": ""
            },
            "type": "mesh3d"
           }
          ],
          "parcoords": [
           {
            "line": {
             "colorbar": {
              "outlinewidth": 0,
              "ticks": ""
             }
            },
            "type": "parcoords"
           }
          ],
          "pie": [
           {
            "automargin": true,
            "type": "pie"
           }
          ],
          "scatter": [
           {
            "fillpattern": {
             "fillmode": "overlay",
             "size": 10,
             "solidity": 0.2
            },
            "type": "scatter"
           }
          ],
          "scatter3d": [
           {
            "line": {
             "colorbar": {
              "outlinewidth": 0,
              "ticks": ""
             }
            },
            "marker": {
             "colorbar": {
              "outlinewidth": 0,
              "ticks": ""
             }
            },
            "type": "scatter3d"
           }
          ],
          "scattercarpet": [
           {
            "marker": {
             "colorbar": {
              "outlinewidth": 0,
              "ticks": ""
             }
            },
            "type": "scattercarpet"
           }
          ],
          "scattergeo": [
           {
            "marker": {
             "colorbar": {
              "outlinewidth": 0,
              "ticks": ""
             }
            },
            "type": "scattergeo"
           }
          ],
          "scattergl": [
           {
            "marker": {
             "colorbar": {
              "outlinewidth": 0,
              "ticks": ""
             }
            },
            "type": "scattergl"
           }
          ],
          "scattermapbox": [
           {
            "marker": {
             "colorbar": {
              "outlinewidth": 0,
              "ticks": ""
             }
            },
            "type": "scattermapbox"
           }
          ],
          "scatterpolar": [
           {
            "marker": {
             "colorbar": {
              "outlinewidth": 0,
              "ticks": ""
             }
            },
            "type": "scatterpolar"
           }
          ],
          "scatterpolargl": [
           {
            "marker": {
             "colorbar": {
              "outlinewidth": 0,
              "ticks": ""
             }
            },
            "type": "scatterpolargl"
           }
          ],
          "scatterternary": [
           {
            "marker": {
             "colorbar": {
              "outlinewidth": 0,
              "ticks": ""
             }
            },
            "type": "scatterternary"
           }
          ],
          "surface": [
           {
            "colorbar": {
             "outlinewidth": 0,
             "ticks": ""
            },
            "colorscale": [
             [
              0,
              "#0d0887"
             ],
             [
              0.1111111111111111,
              "#46039f"
             ],
             [
              0.2222222222222222,
              "#7201a8"
             ],
             [
              0.3333333333333333,
              "#9c179e"
             ],
             [
              0.4444444444444444,
              "#bd3786"
             ],
             [
              0.5555555555555556,
              "#d8576b"
             ],
             [
              0.6666666666666666,
              "#ed7953"
             ],
             [
              0.7777777777777778,
              "#fb9f3a"
             ],
             [
              0.8888888888888888,
              "#fdca26"
             ],
             [
              1,
              "#f0f921"
             ]
            ],
            "type": "surface"
           }
          ],
          "table": [
           {
            "cells": {
             "fill": {
              "color": "#EBF0F8"
             },
             "line": {
              "color": "white"
             }
            },
            "header": {
             "fill": {
              "color": "#C8D4E3"
             },
             "line": {
              "color": "white"
             }
            },
            "type": "table"
           }
          ]
         },
         "layout": {
          "annotationdefaults": {
           "arrowcolor": "#2a3f5f",
           "arrowhead": 0,
           "arrowwidth": 1
          },
          "autotypenumbers": "strict",
          "coloraxis": {
           "colorbar": {
            "outlinewidth": 0,
            "ticks": ""
           }
          },
          "colorscale": {
           "diverging": [
            [
             0,
             "#8e0152"
            ],
            [
             0.1,
             "#c51b7d"
            ],
            [
             0.2,
             "#de77ae"
            ],
            [
             0.3,
             "#f1b6da"
            ],
            [
             0.4,
             "#fde0ef"
            ],
            [
             0.5,
             "#f7f7f7"
            ],
            [
             0.6,
             "#e6f5d0"
            ],
            [
             0.7,
             "#b8e186"
            ],
            [
             0.8,
             "#7fbc41"
            ],
            [
             0.9,
             "#4d9221"
            ],
            [
             1,
             "#276419"
            ]
           ],
           "sequential": [
            [
             0,
             "#0d0887"
            ],
            [
             0.1111111111111111,
             "#46039f"
            ],
            [
             0.2222222222222222,
             "#7201a8"
            ],
            [
             0.3333333333333333,
             "#9c179e"
            ],
            [
             0.4444444444444444,
             "#bd3786"
            ],
            [
             0.5555555555555556,
             "#d8576b"
            ],
            [
             0.6666666666666666,
             "#ed7953"
            ],
            [
             0.7777777777777778,
             "#fb9f3a"
            ],
            [
             0.8888888888888888,
             "#fdca26"
            ],
            [
             1,
             "#f0f921"
            ]
           ],
           "sequentialminus": [
            [
             0,
             "#0d0887"
            ],
            [
             0.1111111111111111,
             "#46039f"
            ],
            [
             0.2222222222222222,
             "#7201a8"
            ],
            [
             0.3333333333333333,
             "#9c179e"
            ],
            [
             0.4444444444444444,
             "#bd3786"
            ],
            [
             0.5555555555555556,
             "#d8576b"
            ],
            [
             0.6666666666666666,
             "#ed7953"
            ],
            [
             0.7777777777777778,
             "#fb9f3a"
            ],
            [
             0.8888888888888888,
             "#fdca26"
            ],
            [
             1,
             "#f0f921"
            ]
           ]
          },
          "colorway": [
           "#636efa",
           "#EF553B",
           "#00cc96",
           "#ab63fa",
           "#FFA15A",
           "#19d3f3",
           "#FF6692",
           "#B6E880",
           "#FF97FF",
           "#FECB52"
          ],
          "font": {
           "color": "#2a3f5f"
          },
          "geo": {
           "bgcolor": "white",
           "lakecolor": "white",
           "landcolor": "white",
           "showlakes": true,
           "showland": true,
           "subunitcolor": "#C8D4E3"
          },
          "hoverlabel": {
           "align": "left"
          },
          "hovermode": "closest",
          "mapbox": {
           "style": "light"
          },
          "paper_bgcolor": "white",
          "plot_bgcolor": "white",
          "polar": {
           "angularaxis": {
            "gridcolor": "#EBF0F8",
            "linecolor": "#EBF0F8",
            "ticks": ""
           },
           "bgcolor": "white",
           "radialaxis": {
            "gridcolor": "#EBF0F8",
            "linecolor": "#EBF0F8",
            "ticks": ""
           }
          },
          "scene": {
           "xaxis": {
            "backgroundcolor": "white",
            "gridcolor": "#DFE8F3",
            "gridwidth": 2,
            "linecolor": "#EBF0F8",
            "showbackground": true,
            "ticks": "",
            "zerolinecolor": "#EBF0F8"
           },
           "yaxis": {
            "backgroundcolor": "white",
            "gridcolor": "#DFE8F3",
            "gridwidth": 2,
            "linecolor": "#EBF0F8",
            "showbackground": true,
            "ticks": "",
            "zerolinecolor": "#EBF0F8"
           },
           "zaxis": {
            "backgroundcolor": "white",
            "gridcolor": "#DFE8F3",
            "gridwidth": 2,
            "linecolor": "#EBF0F8",
            "showbackground": true,
            "ticks": "",
            "zerolinecolor": "#EBF0F8"
           }
          },
          "shapedefaults": {
           "line": {
            "color": "#2a3f5f"
           }
          },
          "ternary": {
           "aaxis": {
            "gridcolor": "#DFE8F3",
            "linecolor": "#A2B1C6",
            "ticks": ""
           },
           "baxis": {
            "gridcolor": "#DFE8F3",
            "linecolor": "#A2B1C6",
            "ticks": ""
           },
           "bgcolor": "white",
           "caxis": {
            "gridcolor": "#DFE8F3",
            "linecolor": "#A2B1C6",
            "ticks": ""
           }
          },
          "title": {
           "x": 0.05
          },
          "xaxis": {
           "automargin": true,
           "gridcolor": "#EBF0F8",
           "linecolor": "#EBF0F8",
           "ticks": "",
           "title": {
            "standoff": 15
           },
           "zerolinecolor": "#EBF0F8",
           "zerolinewidth": 2
          },
          "yaxis": {
           "automargin": true,
           "gridcolor": "#EBF0F8",
           "linecolor": "#EBF0F8",
           "ticks": "",
           "title": {
            "standoff": 15
           },
           "zerolinecolor": "#EBF0F8",
           "zerolinewidth": 2
          }
         }
        },
        "title": {
         "font": {
          "color": "Black",
          "size": 22
         },
         "text": "<b>Hierarchical Clustering</b>",
         "x": 0.5,
         "xanchor": "center",
         "yanchor": "top"
        },
        "width": 1000,
        "xaxis": {
         "mirror": "allticks",
         "rangemode": "tozero",
         "showgrid": false,
         "showline": true,
         "showticklabels": true,
         "ticks": "outside",
         "type": "linear",
         "zeroline": false
        },
        "yaxis": {
         "mirror": "allticks",
         "range": [
          -600,
          0
         ],
         "rangemode": "tozero",
         "showgrid": false,
         "showline": true,
         "showticklabels": true,
         "tickmode": "array",
         "ticks": "outside",
         "ticktext": [
          "42_deadlines_deadline_delays",
          "13_delivery_order_time",
          "0_delivery_order_delivered",
          "3_delivery_date_delivery date",
          "50_quote_quotation_quotations",
          "20_quote_quotation_invoice",
          "27_offer_offers_received",
          "35_siemens_chinese_possible",
          "12_programmable logic contr...",
          "6_programmable logic contro...",
          "32_touch_touch panel_panel",
          "36_frequency_frequency conv...",
          "40_frequency_electric_contact",
          "33_rating_score_points",
          "46_rating_score_grade",
          "49_problems_never_issues",
          "19_reasons_main_reason",
          "4_electric_products_product",
          "1_product_good_products",
          "9_10_ten_give",
          "14_switches_switch_contactors",
          "16_breakers_circuit breaker...",
          "21_inverter_inverters_use",
          "37_servo_motors_servo motors",
          "31_drive_drives_variable",
          "41_material_quality_nothing",
          "23_quality_service_good",
          "8_price_quality_products",
          "44_reliable_reliability_qua...",
          "38_explanation_understand_e...",
          "5_professionalism_support_p...",
          "26_information_inquiry_rece...",
          "10_answer_question_answered",
          "54_assistance_helped_help",
          "58_quick_quick response_res...",
          "2_response_quick_response t...",
          "59_kindness_prompt_polite",
          "17_courtesy_competence_reac...",
          "45_fast_efficient_efficiency",
          "55_advice_competent_fast",
          "18_competent_staff_friendly",
          "28_support_fast_competent",
          "51_support_technical suppor...",
          "34_technical support_techni...",
          "48_excellent_great_service",
          "15_service_customer service...",
          "56_service_good_quality",
          "22_everything_fine_smoothly",
          "57_cooperation_sales repres...",
          "47_responsiveness_responsiv...",
          "53_feedback_timely_quick",
          "24_ups_apc_battery",
          "11_error_problem_fault",
          "29_resolved_issue_problem",
          "30_technician_troubleshooti...",
          "25_technician_technicians_k...",
          "7_technician_competence_tec...",
          "43_solve_solve problem_solu...",
          "52_solve_solved_resolved",
          "39_solved_problem_solve"
         ],
         "tickvals": [
          -5,
          -15,
          -25,
          -35,
          -45,
          -55,
          -65,
          -75,
          -85,
          -95,
          -105,
          -115,
          -125,
          -135,
          -145,
          -155,
          -165,
          -175,
          -185,
          -195,
          -205,
          -215,
          -225,
          -235,
          -245,
          -255,
          -265,
          -275,
          -285,
          -295,
          -305,
          -315,
          -325,
          -335,
          -345,
          -355,
          -365,
          -375,
          -385,
          -395,
          -405,
          -415,
          -425,
          -435,
          -445,
          -455,
          -465,
          -475,
          -485,
          -495,
          -505,
          -515,
          -525,
          -535,
          -545,
          -555,
          -565,
          -575,
          -585,
          -595
         ],
         "type": "linear",
         "zeroline": false
        }
       }
      }
     },
     "metadata": {},
     "output_type": "display_data"
    }
   ],
   "source": [
    "hierarchical_topics_reduced = topic_model.hierarchical_topics(txt)\n",
    "topic_model.visualize_hierarchy(hierarchical_topics=hierarchical_topics_reduced, custom_labels=True)"
   ]
  },
  {
   "cell_type": "code",
   "execution_count": null,
   "metadata": {},
   "outputs": [],
   "source": []
  }
 ],
 "metadata": {
  "kernelspec": {
   "display_name": "wassati",
   "language": "python",
   "name": "python3"
  },
  "language_info": {
   "codemirror_mode": {
    "name": "ipython",
    "version": 3
   },
   "file_extension": ".py",
   "mimetype": "text/x-python",
   "name": "python",
   "nbconvert_exporter": "python",
   "pygments_lexer": "ipython3",
   "version": "3.9.17"
  },
  "orig_nbformat": 4
 },
 "nbformat": 4,
 "nbformat_minor": 2
}
