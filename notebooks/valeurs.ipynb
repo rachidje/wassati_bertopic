{
 "cells": [
  {
   "cell_type": "code",
   "execution_count": 1,
   "metadata": {},
   "outputs": [],
   "source": [
    "import pandas as pd"
   ]
  },
  {
   "cell_type": "code",
   "execution_count": 26,
   "metadata": {},
   "outputs": [
    {
     "name": "stderr",
     "output_type": "stream",
     "text": [
      "/tmp/ipykernel_8587/1764759512.py:1: DtypeWarning: Columns (5,6,14,15,16,18,29,37,38,39,40) have mixed types. Specify dtype option on import or set low_memory=False.\n",
      "  df = pd.read_csv(\"../data/csv_files/schneider_en-US_202311_predicted_EN_CS_C21.csv\", sep=\"|\")\n"
     ]
    }
   ],
   "source": [
    "df = pd.read_csv(\"../data/csv_files/schneider_en-US_202311_predicted_EN_CS_C21.csv\", sep=\"|\")"
   ]
  },
  {
   "cell_type": "code",
   "execution_count": 49,
   "metadata": {},
   "outputs": [
    {
     "data": {
      "text/plain": [
       "Economic Justice     6842\n",
       "Justice              2047\n",
       "Politics             1555\n",
       "City                 1548\n",
       "Covid                1150\n",
       "Environment           991\n",
       "Education             934\n",
       "Sport                 788\n",
       "Entertainment         546\n",
       "Animal protection     341\n",
       "Women's right          98\n",
       "Children's right       50\n",
       "Name: dominant topic, dtype: int64"
      ]
     },
     "execution_count": 49,
     "metadata": {},
     "output_type": "execute_result"
    }
   ],
   "source": [
    "df[\"dominant topic\"].value_counts().sum()/len(df)*100\n",
    "df[\"dominant topic\"].value_counts()"
   ]
  },
  {
   "cell_type": "code",
   "execution_count": 46,
   "metadata": {},
   "outputs": [
    {
     "data": {
      "text/html": [
       "<div>\n",
       "<style scoped>\n",
       "    .dataframe tbody tr th:only-of-type {\n",
       "        vertical-align: middle;\n",
       "    }\n",
       "\n",
       "    .dataframe tbody tr th {\n",
       "        vertical-align: top;\n",
       "    }\n",
       "\n",
       "    .dataframe thead th {\n",
       "        text-align: right;\n",
       "    }\n",
       "</style>\n",
       "<table border=\"1\" class=\"dataframe\">\n",
       "  <thead>\n",
       "    <tr style=\"text-align: right;\">\n",
       "      <th></th>\n",
       "      <th>allComment</th>\n",
       "      <th>dominant score</th>\n",
       "    </tr>\n",
       "  </thead>\n",
       "  <tbody>\n",
       "    <tr>\n",
       "      <th>35197</th>\n",
       "      <td>NaN</td>\n",
       "      <td>0.163100</td>\n",
       "    </tr>\n",
       "    <tr>\n",
       "      <th>15466</th>\n",
       "      <td>merchandise has not been properly delivered. we are stopped with equipment waiting for the push push game between schneider and carrier.</td>\n",
       "      <td>0.163100</td>\n",
       "    </tr>\n",
       "    <tr>\n",
       "      <th>28650</th>\n",
       "      <td>you are playing only passing ball game with customer...and your representative not respond quickly... i got help but not satisfied...</td>\n",
       "      <td>0.163100</td>\n",
       "    </tr>\n",
       "    <tr>\n",
       "      <th>104</th>\n",
       "      <td>quality service. the communication, their response time. in the past 2 years, schneider has probably gone from my least preferred supplier to my preferred supplier. they used to absolutely painful to deal with, but they've really turned the game around.</td>\n",
       "      <td>0.114534</td>\n",
       "    </tr>\n",
       "    <tr>\n",
       "      <th>342</th>\n",
       "      <td>when we started this company, we were exclusively schneider, over the years we found other products which are as good or better fitted for what we use them for. i am not exclusively schneider anymore. they have had issues with supply, which i guess everyone has in the last couple of years, they are slightly overpriced compared to their competitors. i am quite happy with the product that we buy through schneider, we have expanded to a few different suppliers now, and i don't have an issue with the product. it is good gear if and when you can get hold of it, i think they need to up the game of keeping you informed on how things are going from their end with delays in delivery lead time.</td>\n",
       "      <td>0.113869</td>\n",
       "    </tr>\n",
       "  </tbody>\n",
       "</table>\n",
       "</div>"
      ],
      "text/plain": [
       "                                                                                                                                                                                                                                                                                                                                                                                                                                                                                                                                                                                                                                                                                                                  allComment  \\\n",
       "35197                                                                                                                                                                                                                                                                                                                                                                                                                                                                                                                                                                                                                                                                                                                    NaN   \n",
       "15466                                                                                                                                                                                                                                                                                                                                                                                                                                                                                                                                                                               merchandise has not been properly delivered. we are stopped with equipment waiting for the push push game between schneider and carrier.   \n",
       "28650                                                                                                                                                                                                                                                                                                                                                                                                                                                                                                                                                                                  you are playing only passing ball game with customer...and your representative not respond quickly... i got help but not satisfied...   \n",
       "104                                                                                                                                                                                                                                                                                                                                                                                                                                                            quality service. the communication, their response time. in the past 2 years, schneider has probably gone from my least preferred supplier to my preferred supplier. they used to absolutely painful to deal with, but they've really turned the game around.   \n",
       "342    when we started this company, we were exclusively schneider, over the years we found other products which are as good or better fitted for what we use them for. i am not exclusively schneider anymore. they have had issues with supply, which i guess everyone has in the last couple of years, they are slightly overpriced compared to their competitors. i am quite happy with the product that we buy through schneider, we have expanded to a few different suppliers now, and i don't have an issue with the product. it is good gear if and when you can get hold of it, i think they need to up the game of keeping you informed on how things are going from their end with delays in delivery lead time.   \n",
       "\n",
       "       dominant score  \n",
       "35197        0.163100  \n",
       "15466        0.163100  \n",
       "28650        0.163100  \n",
       "104          0.114534  \n",
       "342          0.113869  "
      ]
     },
     "execution_count": 46,
     "metadata": {},
     "output_type": "execute_result"
    }
   ],
   "source": [
    "def top_n_docs(df, topic, n):\n",
    "    # Filter the DataFrame for the specific topic\n",
    "    topic_df = df[df['dominant topic'] == topic]\n",
    "    \n",
    "    # Sort the DataFrame by the 'dominant_score' column in descending order\n",
    "    sorted_df = topic_df.sort_values(by='dominant score', ascending=False)\n",
    "    \n",
    "    # Return the top 'n' rows\n",
    "    return sorted_df.head(n)[[\"allComment\",\"dominant score\"]]\n",
    "\n",
    "pd.set_option('display.max_colwidth', None)\n",
    "\n",
    "top_docs = top_n_docs(df, \"Sport\", 5)\n",
    "top_docs"
   ]
  },
  {
   "cell_type": "code",
   "execution_count": null,
   "metadata": {},
   "outputs": [],
   "source": [
    "#### Valeurs Scwhartz\n",
    "\n"
   ]
  }
 ],
 "metadata": {
  "kernelspec": {
   "display_name": "wassati",
   "language": "python",
   "name": "python3"
  },
  "language_info": {
   "codemirror_mode": {
    "name": "ipython",
    "version": 3
   },
   "file_extension": ".py",
   "mimetype": "text/x-python",
   "name": "python",
   "nbconvert_exporter": "python",
   "pygments_lexer": "ipython3",
   "version": "3.9.17"
  }
 },
 "nbformat": 4,
 "nbformat_minor": 2
}
