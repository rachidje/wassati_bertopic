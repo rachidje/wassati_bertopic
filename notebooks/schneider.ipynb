{
 "cells": [
  {
   "cell_type": "code",
   "execution_count": 1,
   "metadata": {},
   "outputs": [
    {
     "name": "stderr",
     "output_type": "stream",
     "text": [
      "/home/cattiaux/anaconda3/envs/wassati/lib/python3.9/site-packages/umap/distances.py:1063: NumbaDeprecationWarning: The 'nopython' keyword argument was not supplied to the 'numba.jit' decorator. The implicit default value for this argument is currently False, but it will be changed to True in Numba 0.59.0. See https://numba.readthedocs.io/en/stable/reference/deprecation.html#deprecation-of-object-mode-fall-back-behaviour-when-using-jit for details.\n",
      "  @numba.jit()\n",
      "/home/cattiaux/anaconda3/envs/wassati/lib/python3.9/site-packages/umap/distances.py:1071: NumbaDeprecationWarning: The 'nopython' keyword argument was not supplied to the 'numba.jit' decorator. The implicit default value for this argument is currently False, but it will be changed to True in Numba 0.59.0. See https://numba.readthedocs.io/en/stable/reference/deprecation.html#deprecation-of-object-mode-fall-back-behaviour-when-using-jit for details.\n",
      "  @numba.jit()\n",
      "/home/cattiaux/anaconda3/envs/wassati/lib/python3.9/site-packages/umap/distances.py:1086: NumbaDeprecationWarning: The 'nopython' keyword argument was not supplied to the 'numba.jit' decorator. The implicit default value for this argument is currently False, but it will be changed to True in Numba 0.59.0. See https://numba.readthedocs.io/en/stable/reference/deprecation.html#deprecation-of-object-mode-fall-back-behaviour-when-using-jit for details.\n",
      "  @numba.jit()\n",
      "/home/cattiaux/anaconda3/envs/wassati/lib/python3.9/site-packages/umap/umap_.py:660: NumbaDeprecationWarning: The 'nopython' keyword argument was not supplied to the 'numba.jit' decorator. The implicit default value for this argument is currently False, but it will be changed to True in Numba 0.59.0. See https://numba.readthedocs.io/en/stable/reference/deprecation.html#deprecation-of-object-mode-fall-back-behaviour-when-using-jit for details.\n",
      "  @numba.jit()\n"
     ]
    },
    {
     "data": {
      "text/plain": [
       "True"
      ]
     },
     "execution_count": 1,
     "metadata": {},
     "output_type": "execute_result"
    }
   ],
   "source": [
    "import pandas as pd\n",
    "import numpy as np\n",
    "import pickle\n",
    "import ast\n",
    "import os\n",
    "import copy\n",
    "import nltk\n",
    "import seaborn as sns\n",
    "import matplotlib.pyplot as plt\n",
    "import plotly.io as pio\n",
    "import plotly.graph_objects as go\n",
    "import plotly.express as px\n",
    "import random\n",
    "import ipywidgets as widgets\n",
    "\n",
    "from IPython.display import display, clear_output\n",
    "from PIL import Image\n",
    "from wordcloud import WordCloud\n",
    "from matplotlib.colors import ListedColormap\n",
    "from nltk.stem import WordNetLemmatizer\n",
    "from nltk.corpus import wordnet\n",
    "from transformers import AutoTokenizer, AutoModelForSequenceClassification, pipeline\n",
    "import torch\n",
    "from bertopic import BERTopic\n",
    "from umap import UMAP\n",
    "from typing import List, Union\n",
    "from sklearn.preprocessing import normalize\n",
    "\n",
    "torch.cuda.is_available()"
   ]
  },
  {
   "cell_type": "code",
   "execution_count": 7,
   "metadata": {},
   "outputs": [
    {
     "name": "stderr",
     "output_type": "stream",
     "text": [
      "/tmp/ipykernel_13691/579513060.py:2: DtypeWarning: Columns (6,7,11,15,16,17,19,30,31,38,39,40,41) have mixed types. Specify dtype option on import or set low_memory=False.\n",
      "  df = pd.read_csv(\"/media/cattiaux/DATA/Wassati/team_data/schneider/df_labelled.csv\")\n",
      "/tmp/ipykernel_13691/579513060.py:3: DtypeWarning: Columns (7,8,12,16,17,18,20,31,32,39,40,41,42) have mixed types. Specify dtype option on import or set low_memory=False.\n",
      "  df2 = pd.read_csv(\"/media/cattiaux/DATA/Wassati/team_data/schneider/df_sentiment_labelled.csv\")\n",
      "/tmp/ipykernel_13691/579513060.py:4: DtypeWarning: Columns (8,9,13,17,18,19,21,32,33,40,41,42,43) have mixed types. Specify dtype option on import or set low_memory=False.\n",
      "  df3 = pd.read_csv(\"/media/cattiaux/DATA/Wassati/team_data/schneider/df_emotions_labelled.csv\")\n",
      "/tmp/ipykernel_13691/579513060.py:22: DtypeWarning: Columns (10,11,15,19,20,21,23,34,35,42,43,44,45) have mixed types. Specify dtype option on import or set low_memory=False.\n",
      "  df4 = pd.read_csv(\"/media/cattiaux/DATA/Wassati/team_data/schneider/df_all_labelled.csv\", dtype={'year': str})\n"
     ]
    }
   ],
   "source": [
    "# Read the excel review file\n",
    "df = pd.read_csv(\"/media/cattiaux/DATA/Wassati/team_data/schneider/df_labelled.csv\")\n",
    "df2 = pd.read_csv(\"/media/cattiaux/DATA/Wassati/team_data/schneider/df_sentiment_labelled.csv\")\n",
    "df3 = pd.read_csv(\"/media/cattiaux/DATA/Wassati/team_data/schneider/df_emotions_labelled.csv\")\n",
    "\n",
    "# Create a processed_data to be iso with the preprocessing output from the OOP \n",
    "df3[\"processed_data\"] = df3[\"allComment\"]\n",
    "# Convert the string values in the 'predicted_labels' column into lists\n",
    "df3['predicted_labels'] = df3['predicted_labels'].apply(lambda x: ast.literal_eval(x))\n",
    "# Convert the string values in the 'predicted_scores' column into dictionaries\n",
    "df3['predicted_scores'] = df3['predicted_scores'].apply(lambda x: ast.literal_eval(x))\n",
    "# Convert the string values in the 'proba_dict' column into dictionaries\n",
    "df3['proba_dict'] = df3['proba_dict'].apply(lambda x: ast.literal_eval(x))\n",
    "# Fill empty values in Market Segment column\n",
    "df3['Market Segment'] = df3['Market Segment'].fillna('Unknown')\n",
    "# Convertir la colonne de date en un objet datetime\n",
    "df3['Response Date'] = pd.to_datetime(df3['Response Date'])\n",
    "# Extraire l'année et le mois et les stocker dans une nouvelle colonne\n",
    "df3['year_month'] = df3['Response Date'].dt.to_period('M').dt.to_timestamp()\n",
    "\n",
    "\n",
    "df4 = pd.read_csv(\"/media/cattiaux/DATA/Wassati/team_data/schneider/df_all_labelled.csv\", dtype={'year': str})\n",
    "# df4['year'] = df4['year'].astype(str)"
   ]
  },
  {
   "cell_type": "code",
   "execution_count": 2,
   "metadata": {},
   "outputs": [
    {
     "name": "stderr",
     "output_type": "stream",
     "text": [
      "/tmp/ipykernel_12501/3834264840.py:1: DtypeWarning: Columns (5,6,11) have mixed types. Specify dtype option on import or set low_memory=False.\n",
      "  df_full = pd.read_csv(\"../data/csv_files/schneider_all_processed_labelled_full_newBertopic.csv\", dtype={'year': str})\n"
     ]
    }
   ],
   "source": [
    "df_full = pd.read_csv(\"../data/csv_files/schneider_all_processed_labelled_full_newBertopic.csv\", dtype={'year': str})\n",
    "df_full_commented = df_full[df_full['non_empty_rows']]"
   ]
  },
  {
   "cell_type": "code",
   "execution_count": 3,
   "metadata": {},
   "outputs": [],
   "source": [
    "### Analyse de Sentiments simple : positif - négatif - neutre\n",
    "\n",
    "def load_model_huggingface(model_name, task, problem_type=None, **kwargs):\n",
    "    \"\"\"\n",
    "    This function loads a model and tokenizer from a given model name, then creates a pipeline to perform a specified task.\n",
    "\n",
    "    Args:\n",
    "        model_name (str): The name of the model to load.\n",
    "        task (str): The type of task to perform with the pipeline.\n",
    "        problem_type (str): The type of problem to solve (\"multi_label_classification\" for multi-label tasks).\n",
    "        **kwargs: Additional arguments to pass to the pipeline.\n",
    "\n",
    "    Returns:\n",
    "        pipeline: A pipeline configured to perform the specified task with the loaded model and tokenizer.\n",
    "    \"\"\"\n",
    "    model = AutoModelForSequenceClassification.from_pretrained(model_name, problem_type=problem_type)\n",
    "    tokenizer = AutoTokenizer.from_pretrained(model_name)\n",
    "    classifier = pipeline(task, model=model, tokenizer=tokenizer, **kwargs)\n",
    "    return classifier\n",
    "\n",
    "def add_single_label_predictions(df, predictions, predicted_column_name):\n",
    "    \"\"\"\n",
    "    This function merges the DataFrame of single-label predictions with the original DataFrame.\n",
    "\n",
    "    Args:\n",
    "        df (pd.DataFrame): The original DataFrame.\n",
    "        predictions (list): The list of predictions. Each prediction is a dictionary containing a 'label' and a 'score'.\n",
    "        predicted_column_name (str): The name of the column to be added to the DataFrame.\n",
    "\n",
    "    Returns:\n",
    "        pd.DataFrame: The original DataFrame with added columns for the predicted labels and their scores.\n",
    "    \"\"\"\n",
    "    predicted_df = df\n",
    "    # Convert the predictions to a DataFrame\n",
    "    prediction_results = pd.DataFrame(predictions)\n",
    "    prediction_results.rename(columns={'label': predicted_column_name}, inplace=True)\n",
    "    # # Reset the indices of the DataFrames (if necessary)\n",
    "    # df.reset_index(drop=True, inplace=True)\n",
    "    # prediction_results.reset_index(drop=True, inplace=True)\n",
    "    # Merge the original DataFrame with the prediction results\n",
    "    df_predicted = pd.concat([predicted_df, prediction_results], axis=1)\n",
    "    return df_predicted\n",
    "\n",
    "def add_multi_label_predictions(df, predictions, predicted_column_name):\n",
    "    \"\"\"\n",
    "    This function adds a new column with multi-label predictions to the DataFrame and also adds two more columns for \n",
    "    the best label and its score.\n",
    "\n",
    "    Args:\n",
    "        df (pd.DataFrame): The original DataFrame.\n",
    "        predictions (list): The list of predictions. Each prediction is a list of dictionaries, where each dictionary \n",
    "                            contains a 'label' and a 'score'.\n",
    "        predicted_column_name (str): The name of the column to be added to the DataFrame.\n",
    "\n",
    "    Returns:\n",
    "        pd.DataFrame: The original DataFrame with added columns for the predicted labels and their scores, as well as \n",
    "                      columns for the best label and its score.\n",
    "    \"\"\"\n",
    "    predicted_df = df\n",
    "    # Keep the original predictions as they are (a list of dictionaries) and add them to the DataFrame as a new column\n",
    "    predicted_df[predicted_column_name] = predictions\n",
    "    # Add columns for the best label and its score\n",
    "    predicted_df[f'best_{predicted_column_name}'] = predicted_df[predicted_column_name].apply(lambda x: max(x.keys(), key=lambda k: x[k]) if x else None)\n",
    "    predicted_df[f'best_{predicted_column_name}_score'] = predicted_df[predicted_column_name].apply(lambda x: x[max(x.keys(), key=lambda k: x[k])] if x else None)\n",
    "    return predicted_df\n",
    "\n",
    "def make_predictions_df(classifier, df, predicted_column_name):\n",
    "    \"\"\"\n",
    "    This function makes predictions on a DataFrame of documents using a given classifier. It adds the predictions to \n",
    "    the DataFrame as new columns. If the classifier is for single-label classification, it adds one column for the \n",
    "    predicted label and one for the score. If the classifier is for multi-label classification, it adds one column \n",
    "    with a dictionary of label-score pairs for each document, and two additional columns for the best label and its score.\n",
    "\n",
    "    Args:\n",
    "        classifier (pipeline): The Hugging Face pipeline object for making predictions.\n",
    "        df (pd.DataFrame): The DataFrame containing the documents to make predictions on. It must have a 'processed_data' \n",
    "                           column with the preprocessed text of each document.\n",
    "        predicted_column_name (str): The name of the column to be added to the DataFrame for the predictions.\n",
    "\n",
    "    Returns:\n",
    "        pd.DataFrame: The original DataFrame with added columns for the predictions.\n",
    "    \"\"\"\n",
    "    # Get the list of documents from the DataFrame\n",
    "    docs = df[\"processed_data\"].tolist()\n",
    "    # Get predictions\n",
    "    predictions = classifier(docs)\n",
    "    \n",
    "    # Check if predictions is a list of dictionaries (single-label case)\n",
    "    if isinstance(predictions, list) and isinstance(predictions[0], dict):\n",
    "        df_predicted = add_single_label_predictions(df, predictions, predicted_column_name)\n",
    "    \n",
    "    # Multi-label case\n",
    "    elif isinstance(predictions, list) and isinstance(predictions[0], list):\n",
    "        df_predicted = add_multi_label_predictions(df, predictions, predicted_column_name)\n",
    "\n",
    "    return df_predicted\n",
    "\n",
    "classifier = load_model_huggingface(\"cardiffnlp/twitter-roberta-base-sentiment-latest\", \"text-classification\", max_length=512, truncation=True)\n",
    "predicted_df = make_predictions_df(classifier, df3, 'sentiment_label')\n",
    "\n",
    "# model = AutoModelForSequenceClassification.from_pretrained(\"cardiffnlp/twitter-roberta-base-sentiment-latest\")\n",
    "# tokenizer = AutoTokenizer.from_pretrained(\"cardiffnlp/twitter-roberta-base-sentiment-latest\")\n",
    "# classifier = pipeline('text-classification', model=model, tokenizer=tokenizer, max_length=512, truncation=True)\n",
    "\n",
    "# predictions = []\n",
    "# for review in [[x] for x in df.allComment.tolist()]:\n",
    "      ## Effectuer une prédiction pour le document en utilisant le classificateur\n",
    "#     prediction = classifier(review)\n",
    "      ## Ajouter la prédiction à la liste des prédictions\n",
    "#     predictions.append(prediction)\n",
    "\n",
    "## Création d'un DataFrame à partir des résultats de prédiction\n",
    "# res = pd.DataFrame([item for sublist in predictions for item in sublist])\n",
    "# df_pred = pd.concat([df, res], axis=1)\n",
    "\n",
    "# The model created a column 'label' to store the prediction, BUT the df already had one column 'label', then :\n",
    "# # Rename the second 'label' column to 'sentiment_label'\n",
    "# cols = df_pred.columns.tolist()\n",
    "# cols[len(cols) - 1 - cols[::-1].index('label')] = 'sentiment_label'\n",
    "# df_pred.columns = cols\n",
    "\n",
    "# df_pred.to_csv(\"/media/cattiaux/DATA/Wassati/team_data/schneider/df_sentiment_labelled.csv\")"
   ]
  },
  {
   "cell_type": "code",
   "execution_count": null,
   "metadata": {},
   "outputs": [],
   "source": [
    "### Analyse de Sentiments approfondie : par 28 émotions\n",
    "\n",
    "# # en multilabel, avec GPU et par batch pour accélerer le traitement\n",
    "\n",
    "# # Check if a CUDA-enabled GPU is available\n",
    "# device = torch.device('cuda' if torch.cuda.is_available() else 'cpu')\n",
    "\n",
    "# model_name = \"SamLowe/roberta-base-go_emotions\"\n",
    "# tokenizer = AutoTokenizer.from_pretrained(model_name)\n",
    "# model = AutoModelForSequenceClassification.from_pretrained(model_name, problem_type=\"multi_label_classification\", max_length=512)\n",
    "\n",
    "# # Move the model to the GPU\n",
    "# model = model.to(device)\n",
    "\n",
    "# # Set the batch size\n",
    "# batch_size = 2\n",
    "\n",
    "# # Create a list of label names\n",
    "# label_emotions = ['admiration', 'amusement', 'anger', 'annoyance', 'approval', 'caring', 'confusion', 'curiosity', 'desire', 'disappointment', 'disapproval', 'disgust', 'embarrassment', 'excitement', 'fear', 'gratitude', 'grief', 'joy', 'love', 'nervousness', 'optimism', 'pride', 'realization', 'relief', 'remorse', 'sadness', 'surprise','neutral']\n",
    "\n",
    "# # Initialize lists to store the predicted labels and scores\n",
    "# predicted_labels = []\n",
    "# predicted_scores = []\n",
    "\n",
    "# df3 = df2\n",
    "# # Iterate over the rows of the DataFrame in batches\n",
    "# for i in range(0, len(df3), batch_size):\n",
    "#     batch = df3[i:i+batch_size]\n",
    "#     texts = batch['allComment'].tolist()\n",
    "#     inputs = tokenizer(texts, return_tensors=\"pt\", padding=True, truncation=True)\n",
    "    \n",
    "#     # Move the inputs to the GPU\n",
    "#     inputs = {k: v.to(device) for k, v in inputs.items()}\n",
    "    \n",
    "#     outputs = model(**inputs)\n",
    "#     probs = outputs.logits.sigmoid().detach().cpu().numpy()\n",
    "    \n",
    "#     # Apply a threshold to the probabilities to get the predicted labels\n",
    "#     threshold = 0.5\n",
    "#     labels = [[label_emotions[i] for i, prob in enumerate(prob_row) if prob > threshold] for prob_row in probs]\n",
    "    \n",
    "#     # Store the predicted labels and scores\n",
    "#     predicted_labels.extend(labels)\n",
    "#     scores = [{label_emotions[i]: prob for i, prob in enumerate(prob_row)} for prob_row in probs]\n",
    "#     # predicted_scores.extend(probs.tolist())\n",
    "#     predicted_scores.extend(scores)\n",
    "\n",
    "# # Add the predicted labels and scores as new columns in the DataFrame\n",
    "# df3['predicted_labels'] = predicted_labels\n",
    "# df3['predicted_scores'] = predicted_scores\n",
    "\n",
    "# # Convert the string values in the 'predicted_labels' column into lists\n",
    "# df3['predicted_labels'] = df3['predicted_labels'].apply(lambda x: ast.literal_eval(x))\n",
    "# # Convert the string values in the 'predicted_scores' column into dictionaries\n",
    "# df3['predicted_scores'] = df3['predicted_scores'].apply(lambda x: ast.literal_eval(x))\n",
    "\n",
    "# # df3.to_csv(\"/media/cattiaux/DATA/Wassati/team_data/schneider/df_emotions_labelled.csv\")"
   ]
  },
  {
   "cell_type": "code",
   "execution_count": 4,
   "metadata": {},
   "outputs": [],
   "source": [
    "def convert_dict(input_dict, conversion_type='keys_to_values'):\n",
    "    \"\"\"\n",
    "    This function converts between a key-to-value dictionary and a value-to-keys dictionary.\n",
    "\n",
    "    Args:\n",
    "        input_dict (dict): The input dictionary. If conversion_type is 'keys_to_values', this should be a dictionary where \n",
    "                           the keys are the original keys and the values are the corresponding values. If conversion_type is \n",
    "                           'values_to_keys', this should be a dictionary where the keys are the original values and the values \n",
    "                           are lists of keys for each value.\n",
    "        conversion_type (str): The type of conversion to perform. Can be either 'keys_to_values' or 'values_to_keys'.\n",
    "\n",
    "    Returns:\n",
    "        dict: The converted dictionary. If conversion_type is 'keys_to_values', this will be a dictionary where the keys \n",
    "              are the original values and the values are lists of keys for each value. If conversion_type is 'values_to_keys', \n",
    "              this will be a dictionary where the keys are the original keys and the values are the corresponding values.\n",
    "    \"\"\"\n",
    "    if conversion_type == 'keys_to_values':\n",
    "        output_dict = {}\n",
    "        for key, value in input_dict.items():\n",
    "            if value not in output_dict:\n",
    "                output_dict[value] = []\n",
    "            output_dict[value].append(key)\n",
    "    elif conversion_type == 'values_to_keys':\n",
    "        output_dict = {key: value for value, keys in input_dict.items() for key in keys}\n",
    "    else:\n",
    "        raise ValueError(\"Invalid conversion_type. Must be either 'keys_to_values' or 'values_to_keys'.\")\n",
    "    \n",
    "    return output_dict\n",
    "\n",
    "def add_grouping_column(df, key_column, group_dict, group_column_name):\n",
    "    \"\"\"\n",
    "    This function adds a new column to a DataFrame with the group name of each key.\n",
    "\n",
    "    Args:\n",
    "        df (pd.DataFrame): The original DataFrame.\n",
    "        key_column (str): The name of the column in df that contains the keys.\n",
    "        group_dict (dict): A dictionary where the keys are the original keys and the values are the corresponding group names.\n",
    "        group_column_name (str): The name of the new column to be added to df for the groups.\n",
    "\n",
    "    Returns:\n",
    "        pd.DataFrame: The original DataFrame with an added column for the groups.\n",
    "    \"\"\"\n",
    "    df[group_column_name] = df[key_column].map(group_dict)\n",
    "    return df\n",
    "\n",
    "# transform the multilabel results from the emotions analysis in single label\n",
    "# Define the groups\n",
    "positive_emotions = ['admiration','approval','gratitude','caring','realization','joy','optimism','love','excitement','amusement','relief']\n",
    "negative_emotions = ['disappointment','disapproval','annoyance','confusion','nervousness','fear','sadness','remorse','disgust','embarrassment','anger']\n",
    "neutral_emotions = ['neutral','desire','surprise','curiosity']\n",
    "# Create a dictionary where the keys are the group names and the values are the lists of labels\n",
    "groups = {\"positive\": positive_emotions, \"negative\": negative_emotions, \"neutral\": neutral_emotions}\n",
    "# Convert the groups to a group_dict\n",
    "group_dict = convert_dict(groups, conversion_type='values_to_keys')\n",
    "\n",
    "# Now you can use group_dict with add_grouping_column\n",
    "df3 = add_grouping_column(df3, \"predicted_label\", group_dict, \"sentiment_from_emotion_label\")\n",
    "\n",
    "# # Create a new column 'single_emotion_label' that contains the label with the highest score\n",
    "# df3['single_emotion_label'] = df3['predicted_scores'].apply(lambda x: max(x, key=x.get))\n",
    "# # Create a new column 'sentiment' that contains the sentiment of the emotion in the 'single_emotion_label' column\n",
    "# df3['single_sentiment_from_emotion'] = df3['single_emotion_label'].apply(lambda x: 'positive' if x in positive_emotions else ('negative' if x in negative_emotions else ('neutral' if x in neutral_emotions else 'unknown')))\n",
    "\n",
    "# df3.to_csv(\"/media/cattiaux/DATA/Wassati/team_data/schneider/df_all_labelled.csv\")\n",
    "\n",
    "# Use the explode() method to transform each element of the list into a row\n",
    "# new_df3 = df3.explode('predicted_labels')\n",
    "# new_df3 = new_df3.rename(columns={'predicted_labels': 'emotion_label'})\n",
    "\n",
    "# Pour retourner au df initial avec une liste de label\n",
    "# Group the rows by the original index and aggregate the 'emotion_label' column into a list\n",
    "# original_df = new_df.groupby(new_df.index).agg({'emotion_label': list})"
   ]
  },
  {
   "cell_type": "code",
   "execution_count": 6,
   "metadata": {},
   "outputs": [],
   "source": [
    "### comparaison entre analyse de sentiment simple et les résultats du single label issus de l'analyse d'émotions\n",
    "\n",
    "# Calculate the total number of rows for each sentiment in the 'sentiment_label' column\n",
    "total_positive = len(df3[df3['sentiment_label'] == 'positive'])\n",
    "total_negative = len(df3[df3['sentiment_label'] == 'negative'])\n",
    "total_neutral = len(df3[df3['sentiment_label'] == 'neutral'])\n",
    "\n",
    "# Calculate the number of matches for each sentiment\n",
    "positive_matches = len(df3[(df3['sentiment_label'] == 'positive') & (df3['single_sentiment_from_emotion'] == 'positive')])\n",
    "negative_matches = len(df3[(df3['sentiment_label'] == 'negative') & (df3['single_sentiment_from_emotion'] == 'negative')])\n",
    "neutral_matches = len(df3[(df3['sentiment_label'] == 'neutral') & (df3['single_sentiment_from_emotion'] == 'neutral')])\n",
    "\n",
    "# Calculate the percentage of matches for each sentiment\n",
    "positive_match_percent = positive_matches / total_positive * 100 if total_positive > 0 else 0\n",
    "negative_match_percent = negative_matches / total_negative * 100 if total_negative > 0 else 0\n",
    "neutral_match_percent = neutral_matches / total_neutral * 100 if total_neutral > 0 else 0\n",
    "\n",
    "# Calculate the number of differences for each sentiment\n",
    "positive_differences = total_positive - positive_matches\n",
    "negative_differences = total_negative - negative_matches\n",
    "neutral_differences = total_neutral - neutral_matches\n",
    "\n",
    "# Calculate the percentage of differences for each sentiment\n",
    "positive_difference_percent = positive_differences / total_positive * 100 if total_positive > 0 else 0\n",
    "negative_difference_percent = negative_differences / total_negative * 100 if total_negative > 0 else 0\n",
    "neutral_difference_percent = neutral_differences / total_neutral * 100 if total_neutral > 0 else 0\n",
    "\n",
    "# Calculate the distribution of differences for each sentiment\n",
    "positive_to_negative = len(df3[(df3['sentiment_label'] == 'positive') & (df3['single_sentiment_from_emotion'] == 'negative')])\n",
    "positive_to_neutral = len(df3[(df3['sentiment_label'] == 'positive') & (df3['single_sentiment_from_emotion'] == 'neutral')])\n",
    "negative_to_positive = len(df3[(df3['sentiment_label'] == 'negative') & (df3['single_sentiment_from_emotion'] == 'positive')])\n",
    "negative_to_neutral = len(df3[(df3['sentiment_label'] == 'negative') & (df3['single_sentiment_from_emotion'] == 'neutral')])\n",
    "neutral_to_positive = len(df3[(df3['sentiment_label'] == 'neutral') & (df3['single_sentiment_from_emotion'] == 'positive')])\n",
    "neutral_to_negative = len(df3[(df3['sentiment_label'] == 'neutral') & (df3['single_sentiment_from_emotion'] == 'negative')])\n",
    "\n",
    "# Print the results\n",
    "print(f\"Positive matches: {positive_match_percent:.2f}%\")\n",
    "print(f\"Negative matches: {negative_match_percent:.2f}%\")\n",
    "print(f\"Neutral matches: {neutral_match_percent:.2f}%\")\n",
    "print(f\"Positive differences: {positive_difference_percent:.2f}%\")\n",
    "print(f\"Negative differences: {negative_difference_percent:.2f}%\")\n",
    "print(f\"Neutral differences: {neutral_difference_percent:.2f}%\")\n",
    "print(f\"Positive to Negative: {positive_to_negative / total_positive * 100:.2f}%\" if total_positive > 0 else \"Positive to Negative: N/A\")\n",
    "print(f\"Positive to Neutral: {positive_to_neutral / total_positive * 100:.2f}%\" if total_positive > 0 else \"Positive to Neutral: N/A\")\n",
    "print(f\"Negative to Positive: {negative_to_positive / total_negative * 100:.2f}%\" if total_negative > 0 else \"Negative to Positive: N/A\")\n",
    "print(f\"Negative to Neutral: {negative_to_neutral / total_negative * 100:.2f}%\" if total_negative > 0 else \"Negative to Neutral: N/A\")\n",
    "print(f\"Neutral to Positive: {neutral_to_positive / total_neutral * 100:.2f}%\" if total_neutral > 0 else \"Neutral to Positive: N/A\")\n",
    "print(f\"Neutral to Negative: {neutral_to_negative / total_neutral * 100:.2f}%\" if total_neutral > 0 else \"Neutral to Negative: N/A\")\n",
    "\n",
    "# Filter the DataFrame to only include rows where the 'sentiment_label' is 'negative' and the 'single_sentiment_label' is 'neutral'\n",
    "negative_to_neutral = df3[(df3['sentiment_label'] == 'negative') & (df3['single_sentiment_from_emotion'] == 'neutral')]\n",
    "\n",
    "# Calculate the distribution of emotions in the 'single_emotion_label' column\n",
    "emotion_distribution = negative_to_neutral['single_emotion_label'].value_counts(normalize=True) * 100\n",
    "\n",
    "# Print the results\n",
    "emotion_distribution"
   ]
  },
  {
   "cell_type": "code",
   "execution_count": 3,
   "metadata": {},
   "outputs": [],
   "source": [
    "### chargement du model bertopic\n",
    "\n",
    "def load_bertopic_model(filename):\n",
    "    \"\"\"\n",
    "    Load a BERTopic model and associated data from a file.\n",
    "    \n",
    "    :param filename: The name of the file to load the data from.\n",
    "    :return: A tuple containing the loaded BERTopic model, topics, probs, and docs variables.\n",
    "    \"\"\"\n",
    "    # Load the BERTopic model\n",
    "    topic_model = BERTopic.load(filename)\n",
    "    \n",
    "    # Load the topics, probs, and docs variables\n",
    "    with open(filename + '_data.pkl', 'rb') as f:\n",
    "        topics, probs, embeddings, docs = pickle.load(f)\n",
    "    \n",
    "    return topic_model, topics, probs, embeddings, docs\n",
    "\n",
    "# topic_model, topics, probs, embeddings, docs = load_bertopic_model('../models/raw_keybert_bertopic_model')\n",
    "topic_model, topics, probs, embeddings, docs = load_bertopic_model('../models/schneider_bertopic_model_2023')"
   ]
  },
  {
   "cell_type": "code",
   "execution_count": 4,
   "metadata": {},
   "outputs": [
    {
     "name": "stderr",
     "output_type": "stream",
     "text": [
      "/home/cattiaux/anaconda3/envs/wassati/lib/python3.9/site-packages/bertopic/vectorizers/_ctfidf.py:82: RuntimeWarning: divide by zero encountered in divide\n",
      "  idf = np.log((avg_nr_samples / df)+1)\n"
     ]
    }
   ],
   "source": [
    "def create_merged_model(docs, bertopic_model, topics_to_merge_dict, label_names_dict):\n",
    "    \"\"\"\n",
    "    Create a new BERTopic model by merging topics from an existing model.\n",
    "\n",
    "    This function takes as input a list of documents `docs`, an existing BERTopic model `bertopic_model`, a dictionary `topics_to_merge_dict` specifying which topics to merge, and a dictionary `label_names_dict` specifying the labels for the merged topics.\n",
    "\n",
    "    The function creates a deep copy of the input BERTopic model and merges the specified topics using the `merge_topics` method. Then, it sets the topic labels for the merged model using the `set_topic_labels` method and the provided `label_names_dict`.\n",
    "\n",
    "    The resulting merged BERTopic model is then returned.\n",
    "\n",
    "    Parameters:\n",
    "        docs (list): A list of documents used to fit the BERTopic model.\n",
    "        bertopic_model (BERTopic): The input BERTopic model to be merged.\n",
    "        topics_to_merge_dict (dict): A dictionary specifying which topics to merge. The keys are the topic numbers to be merged, and the values are the topic numbers into which they should be merged.\n",
    "        label_names_dict (dict): A dictionary specifying the labels for the merged topics. The keys are the topic numbers, and the values are the corresponding labels.\n",
    "\n",
    "    Returns:\n",
    "        BERTopic: The resulting merged BERTopic model.\n",
    "    \"\"\"\n",
    "    topic_model_merged = copy.deepcopy(bertopic_model)\n",
    "    topic_model_merged.merge_topics(docs, topics_to_merge_dict)\n",
    "\n",
    "    # Create a dictionary to match the aggregated name to their corresponding topic number\n",
    "    mergedtopic_labels_dict = {i-1: item for i, item in enumerate(label_names_dict)}\n",
    "    # Set topic labels for the aggregated model\n",
    "    topic_model_merged.set_topic_labels(mergedtopic_labels_dict)\n",
    "\n",
    "    return topic_model_merged### Création du modèle bertopic aggrégé pour topics finaux\n",
    "\n",
    "# List of topics numbers. Each value of this list is a list that contains the topic number of the topics to join together\n",
    "# topics_to_merge = [ [42,3,0,13], #Delivery Deadlines : challenges and strategies involved in managing delivery deadlines in logistics operations. (vert)\n",
    "#                     [20,50,27], #Quotation and Pricing Strategies (vert bas)\n",
    "#                     [35,32], #Touch Panels and Screens (rouge, haut)\n",
    "#                     [40,36], #Frequency Converters : frequency converters used in industrial applications and the technical support provided by manufacturers and suppliers (rouge, suite)\n",
    "#                     [37,21,6,12,9,4,1,14,16,31,19], #“Automation Components” : hardware and software components used in industrial automation systems. (rouge centre)\n",
    "#                     [33,46,8], #Product Evaluation : evaluate the quality, affordability and reliability of products and services (rouge, fin)\n",
    "#                     [44,51,23,41,49,57,22], #Customer Support : Reliability and Quality in Customer Service and Support (bleu ciel)\n",
    "#                     [58,59], #Quick Customer Service (marron)\n",
    "#                     [38,10,26,52,39,43], #Problem Solving and Communication (focus on the importance of being efficient and precise when solving problems) (jaune)\n",
    "#                     [45,47,55,53,54], #Assistance and Guidance (noir)\n",
    "#                     [29,30,11,24], #Power Supply Issues (2e vert, haut)\n",
    "#                     [7,5,2,25,15,34,18,28,17], #Technical Support (2e vert, bas)\n",
    "#                     [48,56] #None : positive feedback (2e rouge)\n",
    "# ]\n",
    "\n",
    "topics_to_merge = [\n",
    "                    [0,1,4,8,11,20], # Product Quality and Sales\n",
    "                    [9,14], # Inverters and Drives Support : about providing support and service for inverters and drives\n",
    "                    [23,5,12,6,7], # Technical Support and Maintenance for UPS Systems and Touch Panels\n",
    "                    [13,15], # Quotations and Offers Management\n",
    "                    [29,27,16,22], # Customer Service and Delivery Scheduling\n",
    "                    [2,3,10,17,25,21], # Technical Support and Problem Resolution\n",
    "                    [24,18,30,31,19,32,28,26] # Communication, Guidance and Feedback\n",
    "]\n",
    "\n",
    "# Set the topic names for the new aggregated topic\n",
    "# label_names = [\n",
    "#     \"Outliers\",\n",
    "#     \"Automation Components\",\n",
    "#     \"Technical Support\",\n",
    "#     \"Delivery Deadlines\",\n",
    "#     \"Problem Solving & Comm\",\n",
    "#     \"Power Supply Issues\",\n",
    "#     \"Customer Support\", #Reliability and Quality in Customer Service and Support\n",
    "#     \"Product Evaluation\",\n",
    "#     \"Pricing\", #Quotation and Pricing Strategies\n",
    "#     \"Assistance\", #Assistance and Guidance\n",
    "#     \"Touch Screens\", #Touch Panels and Screens\n",
    "#     \"Frequency Converters\",\n",
    "#     \"Positive feedback\",\n",
    "#     \"Quick Customer Service\"\n",
    "#     ]\n",
    "\n",
    "label_names = [\n",
    "    \"Outliers\",\n",
    "    \"Product Quality & Sales\",\n",
    "    \"Tech Support & Problem Resolution\",\n",
    "    \"UPS & Touch Panels\",\n",
    "    \"Communication, Guidance & Feedback\",\n",
    "    \"Inverters & Drives Support\",\n",
    "    \"Quotations & Offers\",\n",
    "    \"Customer Service & Delivery\"\n",
    "    ]\n",
    "\n",
    "# Create a new merged bertopic model \n",
    "topic_model_merged = create_merged_model(docs, topic_model, topics_to_merge, label_names)\n",
    "# topic_model_merged.get_topic_info()"
   ]
  },
  {
   "cell_type": "code",
   "execution_count": 1,
   "metadata": {},
   "outputs": [],
   "source": [
    "# # Modify the visualize_topics_per_class method from bertopic to be able to print a barchart vertically\n",
    "# def visualize_topics_per_class_orient(topic_model,\n",
    "#                                topics_per_class: pd.DataFrame,\n",
    "#                                top_n_topics: int = 10,\n",
    "#                                topics: List[int] = None,\n",
    "#                                normalize_frequency: bool = False,\n",
    "#                                custom_labels: Union[bool, str] = False,\n",
    "#                                title: str = \"<b>Topics per Class</b>\",\n",
    "#                                width: int = 1250,\n",
    "#                                height: int = 900,\n",
    "#                                orient: str = \"h\") -> go.Figure:\n",
    "#     \"\"\" Visualize topics per class\n",
    "\n",
    "#     Arguments:\n",
    "#         topic_model: A fitted BERTopic instance.\n",
    "#         topics_per_class: The topics you would like to be visualized with the\n",
    "#                           corresponding topic representation\n",
    "#         top_n_topics: To visualize the most frequent topics instead of all\n",
    "#         topics: Select which topics you would like to be visualized\n",
    "#         normalize_frequency: Whether to normalize each topic's frequency individually\n",
    "#         custom_labels: If bool, whether to use custom topic labels that were defined using \n",
    "#                        `topic_model.set_topic_labels`.\n",
    "#                        If `str`, it uses labels from other aspects, e.g., \"Aspect1\".\n",
    "#         title: Title of the plot.\n",
    "#         width: The width of the figure.\n",
    "#         height: The height of the figure.\n",
    "#         orient: The orientation of the barchart, 'h' for horizontal, anything else for vertical\n",
    "\n",
    "#     Returns:\n",
    "#         A plotly.graph_objects.Figure including all traces\n",
    "\n",
    "#     Examples:\n",
    "\n",
    "#     To visualize the topics per class, simply run:\n",
    "\n",
    "#     ```python\n",
    "#     topics_per_class = topic_model.topics_per_class(docs, classes)\n",
    "#     topic_model.visualize_topics_per_class(topics_per_class)\n",
    "#     ```\n",
    "\n",
    "#     Or if you want to save the resulting figure:\n",
    "\n",
    "#     ```python\n",
    "#     fig = topic_model.visualize_topics_per_class(topics_per_class)\n",
    "#     fig.write_html(\"path/to/file.html\")\n",
    "#     ```\n",
    "#     <iframe src=\"../../getting_started/visualization/topics_per_class.html\"\n",
    "#     style=\"width:1400px; height: 1000px; border: 0px;\"\"></iframe>\n",
    "#     \"\"\"\n",
    "#     colors = [\"#E69F00\", \"#56B4E9\", \"#009E73\", \"#F0E442\", \"#D55E00\", \"#0072B2\", \"#CC79A7\"]\n",
    "\n",
    "#     # Select topics based on top_n and topics args\n",
    "#     freq_df = topic_model.get_topic_freq()\n",
    "#     freq_df = freq_df.loc[freq_df.Topic != -1, :]\n",
    "#     if topics is not None:\n",
    "#         selected_topics = list(topics)\n",
    "#     elif top_n_topics is not None:\n",
    "#         selected_topics = sorted(freq_df.Topic.to_list()[:top_n_topics])\n",
    "#     else:\n",
    "#         selected_topics = sorted(freq_df.Topic.to_list())\n",
    "\n",
    "#     # Prepare data\n",
    "#     if isinstance(custom_labels, str):\n",
    "#         topic_names = [[[str(topic), None]] + topic_model.topic_aspects_[custom_labels][topic] for topic in topics]\n",
    "#         topic_names = [\"_\".join([label[0] for label in labels[:4]]) for labels in topic_names]\n",
    "#         topic_names = [label if len(label) < 30 else label[:27] + \"...\" for label in topic_names]\n",
    "#         topic_names = {key: topic_names[index] for index, key in enumerate(topic_model.topic_labels_.keys())}\n",
    "#     elif topic_model.custom_labels_ is not None and custom_labels:\n",
    "#         topic_names = {key: topic_model.custom_labels_[key + topic_model._outliers] for key, _ in topic_model.topic_labels_.items()}\n",
    "#     else:\n",
    "#         topic_names = {key: value[:40] + \"...\" if len(value) > 40 else value\n",
    "#                        for key, value in topic_model.topic_labels_.items()}\n",
    "#     topics_per_class[\"Name\"] = topics_per_class.Topic.map(topic_names)\n",
    "#     data = topics_per_class.loc[topics_per_class.Topic.isin(selected_topics), :]\n",
    "\n",
    "#     # Add traces\n",
    "#     fig = go.Figure()\n",
    "#     for index, topic in enumerate(selected_topics):\n",
    "#         if index == 0:\n",
    "#             visible = True\n",
    "#         else:\n",
    "#             visible = \"legendonly\"\n",
    "#         trace_data = data.loc[data.Topic == topic, :]\n",
    "#         topic_name = trace_data.Name.values[0]\n",
    "#         words = trace_data.Words.values\n",
    "#         if normalize_frequency:\n",
    "#             x = normalize(trace_data.Frequency.values.reshape(1, -1))[0]\n",
    "#         else:\n",
    "#             x = trace_data.Frequency\n",
    "\n",
    "#         ### Old part from the source github of bertopic ###\n",
    "#         # fig.add_trace(go.Bar(y=trace_data.Class,\n",
    "#         #                      x=x,\n",
    "#         #                      visible=visible,\n",
    "#         #                      marker_color=colors[index % 7],\n",
    "#         #                      hoverinfo=\"text\",\n",
    "#         #                      name=topic_name,\n",
    "#         #                      orientation=\"h\",\n",
    "#         #                      hovertext=[f'<b>Topic {topic}</b><br>Words: {word}' for word in words]))\n",
    "        \n",
    "#         fig.add_trace(go.Bar(y=trace_data.Class if orient == \"h\" else x,\n",
    "#                             x=x if orient == \"h\" else trace_data.Class,\n",
    "#                             visible=visible,\n",
    "#                             marker_color=colors[index % 7],\n",
    "#                             hoverinfo=\"text\",\n",
    "#                             name=topic_name,\n",
    "#                             orientation=orient,\n",
    "#                             hovertext=[f'<b>Topic {topic}</b><br>Words: {word}' for word in words]))\n",
    "\n",
    "#     # Styling of the visualization\n",
    "#     fig.update_xaxes(showgrid=True)\n",
    "#     fig.update_yaxes(showgrid=True)\n",
    "#     fig.update_layout(\n",
    "#         xaxis_title=\"Normalized Frequency\" if normalize_frequency else \"Frequency\",\n",
    "#         yaxis_title=\"Class\",\n",
    "#         title={\n",
    "#             'text': f\"{title}\",\n",
    "#             'y': .95,\n",
    "#             'x': 0.40,\n",
    "#             'xanchor': 'center',\n",
    "#             'yanchor': 'top',\n",
    "#             'font': dict(\n",
    "#                 size=22,\n",
    "#                 color=\"Black\")\n",
    "#         },\n",
    "#         template=\"simple_white\",\n",
    "#         width=width,\n",
    "#         height=height,\n",
    "#         hoverlabel=dict(\n",
    "#             bgcolor=\"white\",\n",
    "#             font_size=16,\n",
    "#             font_family=\"Rockwell\"\n",
    "#         ),\n",
    "#         legend=dict(\n",
    "#             title=\"<b>Global Topic Representation\",\n",
    "#         )\n",
    "#     )\n",
    "#     return fig"
   ]
  },
  {
   "cell_type": "code",
   "execution_count": 5,
   "metadata": {},
   "outputs": [],
   "source": [
    "def add_percentage_old(df, topic_col='Topic', freq_col='Frequency', class_col=None, group_by=None):\n",
    "    \"\"\"\n",
    "    This function adds a percentage column to a dataframe. The percentage is calculated as the frequency of each topic within each class.\n",
    "    \n",
    "    Parameters:\n",
    "    df (DataFrame): The input dataframe.\n",
    "    topic_col (str, optional): The name of the topic column in the dataframe. Defaults to 'Topic'.\n",
    "    freq_col (str, optional): The name of the frequency column in the dataframe. Defaults to 'Frequency'.\n",
    "    class_col (str, optional): The name of the class column in the dataframe. If specified, the function will calculate the percentage for each topic within each class. Defaults to None.\n",
    "    group_by (str, optional): Specifies whether to group by 'topic' or 'class'. Defaults to 'topic' if class_col is None, else defaults to 'class'.\n",
    "\n",
    "    Returns:\n",
    "    DataFrame: A dataframe with an added 'Percentage' column.\n",
    "    \n",
    "    Raises:\n",
    "    ValueError: If `group_by` is not 'topic' or 'class'.\n",
    "    \"\"\"\n",
    "    if group_by is None:\n",
    "        group_by = 'Topic' if class_col is None else 'Class'\n",
    "        \n",
    "    if group_by not in ['Topic', 'Class']:\n",
    "        raise ValueError(\"`group_by` should be either 'Topic' or 'Class'\")\n",
    "        \n",
    "    # Check if columns exist in dataframe\n",
    "    for col in [col for col in [topic_col, class_col, freq_col] if col is not None]:\n",
    "        if col not in df.columns:\n",
    "            print(f\"Warning: Column '{col}' not found in dataframe. The function will proceed with default column names.\")\n",
    "\n",
    "    # Calculate the total frequency per group\n",
    "    if group_by == 'Topic' or class_col is None:\n",
    "        df_total = df.groupby(topic_col)[freq_col].sum().reset_index()\n",
    "    else:  # group_by == 'Class'\n",
    "        df_total = df.groupby(class_col)[freq_col].sum().reset_index()\n",
    "        \n",
    "    df_total.columns = [group_by, 'Total']\n",
    "\n",
    "    # Merge these two dataframes\n",
    "    df_merged = pd.merge(df, df_total, on=group_by)\n",
    "    # Calculate the percentage and round to 2 decimal places\n",
    "    df_merged['Percentage'] = (df_merged[freq_col] / df_merged['Total'] * 100).round(2)\n",
    "    \n",
    "    # Replace NaN values with 0\n",
    "    df_merged['Percentage'].fillna(0, inplace=True)\n",
    "    # Drop the 'Total' column\n",
    "    df_merged.drop(columns=['Total'], inplace=True)\n",
    "\n",
    "    return df_merged\n",
    "\n",
    "def add_percentage(df, topic_col='Topic', freq_col='Frequency', include_outliers=False):\n",
    "    \"\"\"\n",
    "    This function adds two percentage columns to a dataframe. The first percentage is calculated as the frequency of each topic within each class. The second percentage is calculated as the frequency of each class within each topic.\n",
    "    \n",
    "    Parameters:\n",
    "    df (DataFrame): The input dataframe.\n",
    "    topic_col (str, optional): The name of the topic column in the dataframe. Defaults to 'Topic'.\n",
    "    freq_col (str, optional): The name of the frequency column in the dataframe. Defaults to 'Frequency'.\n",
    "    include_outliers (bool, optional): Whether to include outliers (topic number -1) in the percentage computation. Defaults to True.\n",
    "\n",
    "    Returns:\n",
    "    DataFrame: A dataframe with added 'Topic_Percentage' and 'Class_Percentage' columns.\n",
    "    \"\"\" \n",
    "    # If not including outliers, remove them from the dataframe\n",
    "    if not include_outliers:\n",
    "        df = df[df[topic_col] != -1]\n",
    "\n",
    "    # Check if columns exist in dataframe\n",
    "    for col in [col for col in [topic_col, freq_col] if col is not None]:\n",
    "        if col not in df.columns:\n",
    "            print(f\"Warning: Column '{col}' not found in dataframe. The function will proceed with default column names.\")\n",
    "\n",
    "    # Calculate the total frequency per topic\n",
    "    df_total_topic = df.groupby(topic_col)[freq_col].sum().reset_index()\n",
    "    df_total_topic.columns = [topic_col, 'Total_Topic']\n",
    "\n",
    "    # Calculate the total frequency per class\n",
    "    df_total_class = df.groupby(\"Class\")[freq_col].sum().reset_index()\n",
    "    df_total_class.columns = [\"Class\", 'Total_Class']\n",
    "\n",
    "    # Merge these two dataframes with original dataframe\n",
    "    df_merged = pd.merge(df, df_total_topic, on=topic_col)\n",
    "    df_merged = pd.merge(df_merged, df_total_class, on=\"Class\")\n",
    "\n",
    "    # Calculate the percentages and round to 2 decimal places\n",
    "    df_merged['Topic_Percentage'] = (df_merged[freq_col] / df_merged['Total_Topic'] * 100).round(2)\n",
    "    df_merged['Class_Percentage'] = (df_merged[freq_col] / df_merged['Total_Class'] * 100).round(2)\n",
    "    \n",
    "    # Replace NaN values with 0\n",
    "    df_merged['Topic_Percentage'].fillna(0, inplace=True)\n",
    "    df_merged['Class_Percentage'].fillna(0, inplace=True)\n",
    "\n",
    "    # Drop the 'Total' columns\n",
    "    df_merged.drop(columns=['Total_Topic', 'Total_Class'], inplace=True)\n",
    "\n",
    "    return df_merged\n",
    "\n",
    "def add_customLabelCol(df, bertopic_model):\n",
    "    \"\"\"\n",
    "    This function adds a new column 'Name' to the input DataFrame 'df' based on the custom labels \n",
    "    from the BERTopic model 'bertopic_model'. The new column 'Name' is mapped from the 'Topic' \n",
    "    column of the DataFrame using the custom labels.\n",
    "\n",
    "    Parameters:\n",
    "    df (pandas.DataFrame): The input DataFrame to which the new column will be added.\n",
    "    bertopic_model (BERTopic): The BERTopic model which contains the custom labels.\n",
    "\n",
    "    Returns:\n",
    "    new_df (pandas.DataFrame): The DataFrame with the added 'Name' column.\n",
    "    \"\"\"\n",
    "    new_df=df\n",
    "    custom_labels = bertopic_model.custom_labels_\n",
    "    custom_labels_dict = {i-1: label for i, label in enumerate(custom_labels)}\n",
    "    # Add a new column 'Custom_Label' to the DataFrame\n",
    "    new_df['Name'] = new_df['Topic'].map(custom_labels_dict)\n",
    "    return new_df\n",
    "\n",
    "def old_create_topics_per_class_df(df, bertopic_model, classes_column, filter=False, filter_group=None, filter_value=None,  sortedBy=None, ascending=True):\n",
    "    \"\"\"\n",
    "    Create a dataframe representing the topics per class.\n",
    "\n",
    "    This function takes as input a dataframe `df`, a BERTopic model `bertopic_model`, a column name `classes_column` representing the classes, an optional boolean parameter `filter` which determines whether to filter the data based on a subclass, an optional parameter `filter_group` representing the column name of the subclass to filter on, an optional parameter `filter_value` representing the value of the subclass to filter on, an optional parameter `sortedBy` which can be used to sort the topics by either \"Frequency\" or \"Name\", and an optional boolean parameter `ascending` which determines the sorting order (ascending or descending).\n",
    "\n",
    "    The function first checks that the values of `sortedBy`, `ascending`, and `subclass_name` and `subclass_value` (if `filter` is `True`) are valid. If any of these values are not valid, a ValueError is raised with an appropriate error message.\n",
    "\n",
    "    Then, depending on whether `filter` is `True` or not, the function either calculates the topics per class using the `topics_per_class` method of the BERTopic model or calls a nested function `topics_per_subclass` to compute the topics per class with filtering. It also adds a percentage column to the topics_per_class dataframe using add_percentage() method. The percentage is calculated as the frequency of each class within each topic.\n",
    "\n",
    "    If `sortedBy` is \"Frequency\", the resulting dataframe is sorted by frequency in either ascending or descending order depending on the value of `ascending`.\n",
    "\n",
    "    The resulting dataframe is then returned.\n",
    "\n",
    "    Parameters:\n",
    "        df (pandas.DataFrame): The input dataframe containing the data to be used.\n",
    "        bertopic_model (BERTopic): The BERTopic model used to calculate the topics per class.\n",
    "        classes_column (str): The name of the column in `df` representing the classes.\n",
    "        filter (bool): An optional boolean parameter used to determine whether to filter the data based on a subclass. Defaults to False.\n",
    "        filter_group (str): An optional parameter representing the column name of the subclass to filter on. Only used if `filter` is True. Defaults to None.\n",
    "        filter_value: An optional parameter representing the value of the subclass to filter on. Only used if `filter` is True. Defaults to None.\n",
    "        sortedBy (str): An optional parameter used to sort the topics by either \"Frequency\" or \"Name\". Defaults to None.\n",
    "        ascending (bool): An optional boolean parameter used to determine the sorting order. If True, sorts in ascending order. If False, sorts in descending order. Defaults to True.\n",
    "\n",
    "    Returns:\n",
    "        pandas.DataFrame: A dataframe representing the topics per class.\n",
    "    \"\"\"\n",
    "    # Check that the value of sortedBy is valid\n",
    "    if sortedBy not in [None, \"Frequency\", \"Class\", \"Topic_Percentage\", \"Class_Percentage\"]:\n",
    "        raise ValueError(\"sortedBy must be either None (default value), 'Frequency',  'Class', 'Topic_Percentage' or 'Class_Percentage'\")\n",
    "    # Check that ascending is only used if sortedBy is not None\n",
    "    if sortedBy is None and ascending != True:\n",
    "        raise ValueError(\"ascending can only be used if sortedBy parameter is used\")\n",
    "    # Check that the value of ascending is valid\n",
    "    if ascending not in [True, False]:\n",
    "        raise ValueError(\"ascending must be either True or False\")\n",
    "    # Check that subclass_name and subclass_value are provided if filter is True\n",
    "    if filter and (filter_group is None or filter_value is None):\n",
    "        raise ValueError(\"If filter is True, both filter_name and filter_value must be provided\")\n",
    "    \n",
    "    df['year'] = df['year'].astype(str)\n",
    "    \n",
    "    # Define a function to compute topics_per_class with filtering\n",
    "    def topics_per_subclass():\n",
    "        \"\"\"\n",
    "        Create a dataframe that contains the topic number, the list of words that describe the topic,\n",
    "        and the frequency of documents from this topic that belong to the element from the first \"Class\" column\n",
    "        for a subset of data that is filtered by a given subclass value.\n",
    "        Basically it does the same as topics_per_class method from bertopic adding a filter that depends on an other class\n",
    "\n",
    "        :param df: A pandas DataFrame containing the full data\n",
    "        :param bertopic_model: A bertopic model used to compute the topics\n",
    "        :param classes_column: The name of the column in df that contains the class values\n",
    "        :param filter_group: The name of the column in df that contains the subclass values (the filter values)\n",
    "        :param filter_value: The value of the subclass to filter the data by\n",
    "        :return: A pandas DataFrame containing the topic number, the list of words that describe the topic,\n",
    "                and the frequency of documents from this topic that belong to the element from the first \"Class\" column\n",
    "                for the filtered data (subclass data)\n",
    "        \"\"\"\n",
    "        # Filter your data based on the values from the chosen subclass\n",
    "        filtered_data = df[df[filter_group] == filter_value]\n",
    "        classes_filtered_data=filtered_data[classes_column].astype(str).tolist()\n",
    "        filtered_topics = [bertopic_model.topics_[i] for i in filtered_data.index.tolist()]\n",
    "\n",
    "        # Create manually a topic_per_class dataframe from a subset of the full documents\n",
    "        topics_per_subClass_df = pd.DataFrame({'Topic': filtered_topics, 'Class': classes_filtered_data})\n",
    "        # Calculate the frequency of each topic for each class\n",
    "        topics_per_subClass_df = topics_per_subClass_df.groupby(['Topic', 'Class']).size().reset_index(name='Frequency')\n",
    "        # Add the words that describe each topic\n",
    "        topic_words = {row['Topic']: row['Name'] for _, row in bertopic_model.get_topic_info().iterrows()}\n",
    "        topics_per_subClass_df['Words'] = topics_per_subClass_df['Topic'].map(topic_words)\n",
    "\n",
    "        # Add rows for missing topics with a frequency of 0\n",
    "        missing_topics = set(bertopic_model.get_topics().keys()) - set(topics_per_subClass_df['Topic'].unique())\n",
    "        for topic in missing_topics:\n",
    "            for class_ in topics_per_subClass_df['Class'].unique():\n",
    "                new_row = pd.DataFrame({\n",
    "                    'Topic': [topic],\n",
    "                    'Words': [topic_words[topic]],\n",
    "                    'Frequency': [0],\n",
    "                    'Class': [class_]\n",
    "                })\n",
    "                topics_per_subClass_df = pd.concat([topics_per_subClass_df, new_row], ignore_index=True)\n",
    "                \n",
    "        topics_per_subClass_df = add_percentage(topics_per_subClass_df, topic_col='Topic', freq_col='Frequency')\n",
    "\n",
    "        return topics_per_subClass_df\n",
    "\n",
    "    # Define a function to compute topics_per_class with filtering\n",
    "    def topics_per_subclass_new():\n",
    "        \"\"\"\n",
    "        Create a dataframe that contains the topic number, the list of words that describe the topic,\n",
    "        and the frequency of documents from this topic that belong to the element from the first \"Class\" column\n",
    "        for a subset of data that is filtered by a given subclass value.\n",
    "        Basically it does the same as topics_per_class method from bertopic adding a filter that depends on an other class\n",
    "\n",
    "        :param df: A pandas DataFrame containing the full data\n",
    "        :param bertopic_model: A bertopic model used to compute the topics\n",
    "        :param classes_column: The name of the column in df that contains the class values\n",
    "        :param filter_group: The name of the column in df that contains the subclass values (the filter values)\n",
    "        :param filter_value: The value of the subclass to filter the data by\n",
    "        :return: A pandas DataFrame containing the topic number, the list of words that describe the topic,\n",
    "                and the frequency of documents from this topic that belong to the element from the first \"Class\" column\n",
    "                for the filtered data (subclass data)\n",
    "        \"\"\"\n",
    "        topics_per_class = bertopic_model.topics_per_class(df[\"processed_data\"].astype(str).tolist(), classes=df[classes_column].to_list())\n",
    "        topics_per_class = add_percentage(topics_per_class, topic_col='Topic', freq_col='Frequency')\n",
    "        # Filter your data based on the values from the chosen subclass\n",
    "        topics_per_subClass_df = topics_per_class[topics_per_class['Class'] == filter_value]\n",
    "\n",
    "        # Add rows for missing topics with a frequency of 0\n",
    "        topic_words = {row['Topic']: row['Name'] for _, row in bertopic_model.get_topic_info().iterrows()}\n",
    "        # missing_topics = set(bertopic_model.get_topics().keys()) - set(topics_per_subClass_df['Topic'].unique())\n",
    "        missing_topics = {topic for topic in bertopic_model.get_topics().keys() if topic != -1} - set(topics_per_subClass_df['Topic'].unique())\n",
    "        for topic in missing_topics:\n",
    "            for class_ in topics_per_subClass_df['Class'].unique():\n",
    "                new_row = pd.DataFrame({\n",
    "                    'Topic': [topic],\n",
    "                    'Words': [topic_words[topic]],\n",
    "                    'Frequency': [0],\n",
    "                    'Topic_Percentage': [0],\n",
    "                    'Class_Percentage': [0],\n",
    "                    'Class': [class_]\n",
    "                })\n",
    "                topics_per_subClass_df = pd.concat([topics_per_subClass_df, new_row], ignore_index=True)\n",
    "        \n",
    "        return topics_per_subClass_df\n",
    "\n",
    "    if filter:\n",
    "        topics_per_class = topics_per_subclass()\n",
    "    else:\n",
    "        topics_per_class = bertopic_model.topics_per_class(df[\"processed_data\"].astype(str).tolist(), classes=df[classes_column].to_list())\n",
    "        # Add percentage columns to dataframe\n",
    "        topics_per_class = add_percentage(topics_per_class, topic_col='Topic', freq_col='Frequency')\n",
    "\n",
    "    # Check if there are existing custom_labels names in the bertopic model and add them in a column if there are some\n",
    "    if bertopic_model.custom_labels_ is not None :\n",
    "        topics_per_class = add_customLabelCol(topics_per_class, bertopic_model)\n",
    "\n",
    "    if sortedBy:\n",
    "        topics_per_class = topics_per_class.sort_values(by=sortedBy, ascending=ascending)\n",
    "    \n",
    "    return topics_per_class\n",
    "\n",
    "def create_topics_per_class_df(df, bertopic_model, classes_column, filter_value=None,  sortedBy=None, ascending=True):\n",
    "    \"\"\"\n",
    "    Computes the distribution of topics per class in the given DataFrame. Optionally filters the data by a given subclass and sorts the resulting DataFrame.\n",
    "\n",
    "    Parameters:\n",
    "    df (pandas.DataFrame): The input DataFrame.\n",
    "    bertopic_model (BERTopic): The BERTopic model used to compute the topics.\n",
    "    classes_column (str): The name of the column in df that contains the class values.\n",
    "    filter_value (str, optional): The value of the subclass to filter the data by. Required if filter is True.\n",
    "    sortedBy (str, optional): Column name to sort by. Must be either None (default), 'Frequency', 'Class', 'Topic_Percentage' or 'Class_Percentage'.\n",
    "    ascending (bool, optional): Whether to sort in ascending order. Default is True. Can only be used if sortedBy is not None.\n",
    "\n",
    "    Returns:\n",
    "    pandas.DataFrame: A DataFrame containing the topic number, the list of words that describe the topic, and the frequency and percentage of documents from this topic that belong to each class.\n",
    "    \"\"\"\n",
    "    # Check that the value of sortedBy is valid\n",
    "    if sortedBy not in [None, \"Frequency\", \"Class\", \"Topic_Percentage\", \"Class_Percentage\"]:\n",
    "        raise ValueError(\"sortedBy must be either None (default value), 'Frequency',  'Class', 'Topic_Percentage' or 'Class_Percentage'\")\n",
    "    # Check that ascending is only used if sortedBy is not None\n",
    "    if sortedBy is None and ascending != True:\n",
    "        raise ValueError(\"ascending can only be used if sortedBy parameter is used\")\n",
    "    # Check that the value of ascending is valid\n",
    "    if ascending not in [True, False]:\n",
    "        raise ValueError(\"ascending must be either True or False\")\n",
    "    \n",
    "    # Compute topics_per_class dataframe using bertopic method\n",
    "    topics_per_class = bertopic_model.topics_per_class(df[\"processed_data\"].astype(str).tolist(), classes=df[classes_column].to_list())\n",
    "    # Add percentage columns to dataframe\n",
    "    topics_per_class = add_percentage(topics_per_class, topic_col='Topic', freq_col='Frequency')\n",
    "\n",
    "    if filter_value : \n",
    "        # Filter your data based on the values from the chosen subclass\n",
    "        topics_per_class = topics_per_class[topics_per_class['Class'] == filter_value]\n",
    "\n",
    "        # Add rows for missing topics with a frequency of 0\n",
    "        topic_words = {row['Topic']: row['Name'] for _, row in bertopic_model.get_topic_info().iterrows()}\n",
    "        missing_topics = {topic for topic in bertopic_model.get_topics().keys() if topic != -1} - set(topics_per_class['Topic'].unique())\n",
    "        for topic in missing_topics:\n",
    "            for class_ in topics_per_class['Class'].unique():\n",
    "                new_row = pd.DataFrame({\n",
    "                    'Topic': [topic],\n",
    "                    'Words': [topic_words[topic]],\n",
    "                    'Frequency': [0],\n",
    "                    'Topic_Percentage': [0],\n",
    "                    'Class_Percentage': [0],\n",
    "                    'Class': [class_]\n",
    "                })\n",
    "                topics_per_class = pd.concat([topics_per_class, new_row], ignore_index=True)\n",
    "\n",
    "    # Check if there are existing custom_labels names in the bertopic model and add them in a column if there are some\n",
    "    if bertopic_model.custom_labels_ is not None :\n",
    "        topics_per_class = add_customLabelCol(topics_per_class, bertopic_model)\n",
    "    # Sort the dataframe to prepare the visualization\n",
    "    if sortedBy:\n",
    "        topics_per_class = topics_per_class.sort_values(by=sortedBy, ascending=ascending)\n",
    "    \n",
    "    return topics_per_class\n",
    "\n",
    "def visualize_topics_per_class_options(topic_model, topics_per_class, orient=\"h\", percentage_by=None, viz_from_source=False, stacked=False, **kwargs):\n",
    "    \"\"\"\n",
    "    Visualizes the distribution of topics per class with additional options for orientation and percentage usage.\n",
    "\n",
    "    Parameters:\n",
    "    topic_model : The trained BERTopic model.\n",
    "    topics_per_class : A DataFrame containing the topics per class.\n",
    "    orient (str, optional): The orientation of the plot. Defaults to \"h\".\n",
    "    use_percentage (bool, optional): Whether to use percentage for the representation of the data. Defaults to False.\n",
    "    **kwargs: Arbitrary keyword arguments for the visualize_topics_per_class_orient function.\n",
    "\n",
    "    Returns:\n",
    "    go.Figure: A Plotly figure object containing the visualization.\n",
    "    \"\"\"\n",
    "    # Modify the visualize_topics_per_class method from bertopic to be able to print a barchart vertically\n",
    "    def visualize_topics_per_class_orient(topic_model,\n",
    "                                topics_per_class: pd.DataFrame,\n",
    "                                top_n_topics: Union[int,None] = None,\n",
    "                                topics: List[int] = None,\n",
    "                                normalize_frequency: bool = False,\n",
    "                                percentage_by: Union[str,None] = None,\n",
    "                                custom_labels: Union[bool, str] = False,\n",
    "                                title: str = \"<b>Topics per Class</b>\",\n",
    "                                width: int = 1250,\n",
    "                                height: int = 900,\n",
    "                                orient: str = \"h\") -> go.Figure:\n",
    "        \"\"\"\n",
    "        Visualizes the distribution of topics per class.\n",
    "\n",
    "        Parameters:\n",
    "        topic_model : The trained BERTopic model.\n",
    "        topics_per_class (pd.DataFrame): A DataFrame containing the topics per class.\n",
    "        top_n_topics (int, optional): The number of top topics to visualize. Defaults to 10.\n",
    "        topics (List[int], optional): A list of specific topics to visualize. Defaults to None.\n",
    "        normalize_frequency (bool, optional): Whether to normalize the frequency. Defaults to False.\n",
    "        percentage_by (string, optional): Which percentage calcul to use for the representation of the data. Defaults to None.\n",
    "        custom_labels (Union[bool, str], optional): Whether to use custom labels for the topics. Defaults to False.\n",
    "        title (str, optional): The title of the plot. Defaults to \"<b>Topics per Class</b>\".\n",
    "        width (int, optional): The width of the plot. Defaults to 1250.\n",
    "        height (int, optional): The height of the plot. Defaults to 900.\n",
    "        orient (str, optional): The orientation of the plot. Defaults to \"h\".\n",
    "\n",
    "        Returns:\n",
    "        go.Figure: A Plotly figure object containing the visualization.\n",
    "        \"\"\"\n",
    "        colors = [\"#E69F00\", \"#56B4E9\", \"#009E73\", \"#F0E442\", \"#D55E00\", \"#0072B2\", \"#CC79A7\"]\n",
    "\n",
    "        if percentage_by not in [\"Topic\",\"Class\",None] :\n",
    "            raise ValueError(\"'percentage_by' possible values are ['Topic','Class', None]\")\n",
    "    \n",
    "        # Select topics based on top_n and topics args\n",
    "        freq_df = topic_model.get_topic_freq()\n",
    "        freq_df = freq_df.loc[freq_df.Topic != -1, :]\n",
    "        if topics is not None:\n",
    "            selected_topics = list(topics)\n",
    "        elif top_n_topics is not None:\n",
    "            selected_topics = sorted(freq_df.Topic.to_list()[:top_n_topics])\n",
    "        else:\n",
    "            selected_topics = sorted(freq_df.Topic.to_list())\n",
    "\n",
    "        # Prepare data\n",
    "        if isinstance(custom_labels, str):\n",
    "            topic_names = [[[str(topic), None]] + topic_model.topic_aspects_[custom_labels][topic] for topic in topics]\n",
    "            topic_names = [\"_\".join([label[0] for label in labels[:4]]) for labels in topic_names]\n",
    "            topic_names = [label if len(label) < 30 else label[:27] + \"...\" for label in topic_names]\n",
    "            topic_names = {key: topic_names[index] for index, key in enumerate(topic_model.topic_labels_.keys())}\n",
    "        elif topic_model.custom_labels_ is not None and custom_labels:\n",
    "            topic_names = {key: topic_model.custom_labels_[key + topic_model._outliers] for key, _ in topic_model.topic_labels_.items()}\n",
    "        else:\n",
    "            topic_names = {key: value[:40] + \"...\" if len(value) > 40 else value\n",
    "                        for key, value in topic_model.topic_labels_.items()}\n",
    "        topics_per_class[\"Name\"] = topics_per_class.Topic.map(topic_names)\n",
    "        data = topics_per_class.loc[topics_per_class.Topic.isin(selected_topics), :]\n",
    "\n",
    "        # Add traces\n",
    "        fig = go.Figure()\n",
    "        for index, topic in enumerate(selected_topics):\n",
    "            if index == 0:\n",
    "                visible = True\n",
    "            else:\n",
    "                visible = \"legendonly\"\n",
    "            trace_data = data.loc[data.Topic == topic, :]\n",
    "            topic_name = trace_data.Name.values[0]\n",
    "            words = trace_data.Words.values\n",
    "\n",
    "        # Check if 'percentage_by' is defined and if the corresponding percentage column exists, and use it for x values if it does\n",
    "            if percentage_by is not None :\n",
    "                col_name = f'{percentage_by}_Percentage'\n",
    "                if col_name in trace_data.columns:\n",
    "                    x = trace_data[col_name]\n",
    "                else:\n",
    "                    raise ValueError(f\"{col_name} column does not exist\")\n",
    "            elif normalize_frequency:\n",
    "                x = normalize(trace_data.Frequency.values.reshape(1, -1))[0]\n",
    "            else:\n",
    "                x = trace_data.Frequency\n",
    "\n",
    "            ### Old part from the source github of bertopic ###\n",
    "            # fig.add_trace(go.Bar(y=trace_data.Class,\n",
    "            #                      x=x,\n",
    "            #                      visible=visible,\n",
    "            #                      marker_color=colors[index % 7],\n",
    "            #                      hoverinfo=\"text\",\n",
    "            #                      name=topic_name,\n",
    "            #                      orientation=\"h\",\n",
    "            #                      hovertext=[f'<b>Topic {topic}</b><br>Words: {word}' for word in words]))\n",
    "            \n",
    "            fig.add_trace(go.Bar(y=trace_data.Class if orient == \"h\" else x,\n",
    "                                x=x if orient == \"h\" else trace_data.Class,\n",
    "                                visible=visible,\n",
    "                                marker_color=colors[index % 7],\n",
    "                                hoverinfo=\"text\",\n",
    "                                name=topic_name,\n",
    "                                orientation=orient,\n",
    "                                hovertext=[f'<b>Topic {topic_names[topic]}</b><br>Words: {word}' for word in words] if percentage_by==None else [f'<b>Topic {topic_names[topic]}</b><br>Words: {word}<br>Count: {count}<br>Percentage: {p}%' for word, p, count in zip(words, x, trace_data.Frequency)]\n",
    "                                ))\n",
    "\n",
    "        # Styling of the visualization\n",
    "        fig.update_xaxes(showgrid=True)\n",
    "        fig.update_yaxes(showgrid=True)\n",
    "        fig.update_layout(\n",
    "            xaxis_title=\"Normalized Frequency\" if normalize_frequency else \"Frequency\",\n",
    "            yaxis_title=\"Class\",\n",
    "            barmode='stack' if stacked else \"group\",\n",
    "            title={\n",
    "                'text': f\"{title}\",\n",
    "                'y': .95,\n",
    "                'x': 0.40,\n",
    "                'xanchor': 'center',\n",
    "                'yanchor': 'top',\n",
    "                'font': dict(\n",
    "                    size=22,\n",
    "                    color=\"Black\")\n",
    "            },\n",
    "            template=\"simple_white\",\n",
    "            width=width,\n",
    "            height=height,\n",
    "            hoverlabel=dict(\n",
    "                bgcolor=\"white\",\n",
    "                font_size=16,\n",
    "                font_family=\"Rockwell\"\n",
    "            ),\n",
    "            legend=dict(\n",
    "                title=\"<b>Global Topic Representation\",\n",
    "            )\n",
    "        )\n",
    "        return fig\n",
    "\n",
    "    if viz_from_source==True and (orient!=\"h\" or percentage_by!=None):\n",
    "        raise ValueError(\"the option 'orient' and 'percentage_by' are not available in the visualization from bertopic source code\")\n",
    "    if orient==\"h\" and percentage_by==None and viz_from_source==True:\n",
    "        # using the source method to do it, without having the possibility to choose the orient (at the date of 09/2023)\n",
    "        # we keep the use of the source method even if we could use only the new visualize_topics_per_class_orient. Because it permits to know and enjoy the modifications done in visualize_topics_per_class in the future by the owner of this source code\n",
    "        fig = topic_model.visualize_topics_per_class(topics_per_class, top_n_topics=None, **kwargs)\n",
    "    else:  \n",
    "        # using the modified source method to do it, adding the option to print the chart vertically\n",
    "        fig = visualize_topics_per_class_orient(topic_model, topics_per_class, orient=orient, percentage_by=percentage_by, **kwargs)\n",
    "\n",
    "    return fig\n",
    "\n",
    "def old_create_chart_per_class(\n",
    "                            df, \n",
    "                            bertopic_model, \n",
    "                            classes_column, \n",
    "                            filter=False, \n",
    "                            filter_group=None, \n",
    "                            filter_value=None, \n",
    "                            sortedBy=None, \n",
    "                            ascending=True, \n",
    "                            orient=\"h\",\n",
    "                            viz_from_source=False,\n",
    "                            **kwargs):\n",
    "    \"\"\"\n",
    "    Create a chart representing the topics per class.\n",
    "\n",
    "    This function takes as input a dataframe `df`, a BERTopic model `bertopic_model`, a column name `classes_column` representing the classes, an optional boolean parameter `filter` which determines whether to filter the data based on a subclass, an optional parameter `subclass_name` representing the column name of the subclass to filter on, an optional parameter `subclass_value` representing the value of the subclass to filter on, an optional parameter `sortedBy` which can be used to sort the topics by either \"Frequency\" or \"Name\", an optional boolean parameter `ascending` which determines the sorting order (ascending or descending), an orientation `orient` which can be either horizontal (\"h\") or vertical (\"v\"), and additional keyword arguments `**kwargs`.\n",
    "\n",
    "    The function first calls the `create_topics_per_class_df` function to create a dataframe representing the topics per class. Then, it calls the `visualize_topics_per_class_options` function to create a chart from this dataframe. The resulting chart is then returned.\n",
    "\n",
    "    Parameters:\n",
    "        df (pandas.DataFrame): The input dataframe containing the data to be visualized.\n",
    "        bertopic_model (BERTopic): The BERTopic model used to calculate the topics per class.\n",
    "        classes_column (str): The name of the column in `df` representing the classes.\n",
    "        filter (bool): An optional boolean parameter used to determine whether to filter the data based on a subclass. Defaults to False.\n",
    "        filter_group (str): An optional parameter representing the column name of the subclass to filter on. Only used if `filter` is True. Defaults to None.\n",
    "        filter_value: An optional parameter representing the value of the subclass to filter on. Only used if `filter` is True. Defaults to None.\n",
    "        sortedBy (str): An optional parameter used to sort the topics by either \"Frequency\" or \"Name\". Defaults to None.\n",
    "        ascending (bool): An optional boolean parameter used to determine the sorting order. If True, sorts in ascending order. If False, sorts in descending order. Defaults to True.\n",
    "        orient (str): The orientation of the visualization. Can be either \"h\" for horizontal or \"v\" for vertical. Defaults to \"h\".\n",
    "        **kwargs: Additional keyword arguments passed to the visualization method.\n",
    "\n",
    "    Returns:\n",
    "        plotly.graph_objs.Figure: The resulting chart representing the topics per class.\n",
    "    \"\"\"\n",
    "    topics_per_class = old_create_topics_per_class_df(df, bertopic_model, classes_column, filter=filter, filter_group=filter_group, filter_value=filter_value, sortedBy=sortedBy, ascending=ascending)\n",
    "    fig = visualize_topics_per_class_options(bertopic_model, topics_per_class, orient=orient, viz_from_source=viz_from_source, **kwargs)\n",
    "\n",
    "    return fig \n",
    "\n",
    "def create_chart_per_class(\n",
    "                            df, \n",
    "                            bertopic_model, \n",
    "                            classes_column, \n",
    "                            filter_value=None, \n",
    "                            sortedBy=None, \n",
    "                            ascending=True, \n",
    "                            orient=\"h\",\n",
    "                            viz_from_source=False,\n",
    "                            stacked=False,\n",
    "                            percentage_by=None,\n",
    "                            **kwargs):\n",
    "    \"\"\"\n",
    "    Create a chart representing the topics per class.\n",
    "\n",
    "    This function takes as input a dataframe `df`, a BERTopic model `bertopic_model`, a column name `classes_column` representing the classes, an optional parameter `filter_value` representing the value of the class to filter on, an optional parameter `sortedBy` which can be used to sort the topics by either \"Frequency\" or \"Name\", an optional boolean parameter `ascending` which determines the sorting order (ascending or descending), an orientation `orient` which can be either horizontal (\"h\") or vertical (\"v\"), and additional keyword arguments `**kwargs`.\n",
    "\n",
    "    The function first calls the `create_topics_per_class_df` function to create a dataframe representing the topics per class. Then, it calls the `visualize_topics_per_class_options` function to create a chart from this dataframe. The resulting chart is then returned.\n",
    "\n",
    "    Parameters:\n",
    "        df (pandas.DataFrame): The input dataframe containing the data to be visualized.\n",
    "        bertopic_model (BERTopic): The BERTopic model used to calculate the topics per class.\n",
    "        classes_column (str): The name of the column in `df` representing the classes.\n",
    "        filter_value: An optional parameter representing the value of the subclass to filter on. Only used if `filter` is True. Defaults to None.\n",
    "        sortedBy (str): An optional parameter used to sort the topics by either \"Frequency\" or \"Name\". Defaults to None.\n",
    "        ascending (bool): An optional boolean parameter used to determine the sorting order. If True, sorts in ascending order. If False, sorts in descending order. Defaults to True.\n",
    "        orient (str): The orientation of the visualization. Can be either \"h\" for horizontal or \"v\" for vertical. Defaults to \"h\".\n",
    "        **kwargs: Additional keyword arguments passed to the visualization method.\n",
    "\n",
    "    Returns:\n",
    "        plotly.graph_objs.Figure: The resulting chart representing the topics per class.\n",
    "    \"\"\"\n",
    "    topics_per_class = create_topics_per_class_df(df, bertopic_model, classes_column, filter_value=filter_value, sortedBy=sortedBy, ascending=ascending)\n",
    "    fig = visualize_topics_per_class_options(bertopic_model, topics_per_class, orient=orient, viz_from_source=viz_from_source, stacked=stacked, percentage_by=percentage_by, **kwargs)\n",
    "\n",
    "    return fig \n",
    "\n",
    "def save_graph_html(fig, path, name):\n",
    "    \"\"\"\n",
    "    Saves a Plotly figure as an HTML file at the specified path.\n",
    "\n",
    "    Parameters:\n",
    "    fig (go.Figure): The Plotly figure to save.\n",
    "    path (str): The directory where the HTML file will be saved.\n",
    "    name (str): The name of the HTML file (without the .html extension).\n",
    "\n",
    "    Returns:\n",
    "    None\n",
    "    \"\"\"\n",
    "    # Create the directory if it doesn't exist\n",
    "    if not os.path.exists(path):\n",
    "        os.makedirs(path)\n",
    "        \n",
    "    return fig.write_html(path+\"/\"+name+\".html\")"
   ]
  },
  {
   "cell_type": "code",
   "execution_count": 42,
   "metadata": {},
   "outputs": [],
   "source": [
    "### Graph barchart topics by \"by_class_name\" parameter for each value from \"subclass_names\"\n",
    "\n",
    "# Create a dictionary that match column name to a shorter name for saving name file\n",
    "shorter_names={\n",
    "    \"single_emotion_label\":\"emotion\",\n",
    "    \"sentiment_label\":\"sentiment\",\n",
    "    \"Market Segment\":\"market\",\n",
    "    \"Account Country\":\"country\",\n",
    "    \"Zone\":\"zone\",\n",
    "    \"Clusters\":\"cluster\",\n",
    "    \"year\":\"year\"\n",
    "}\n",
    "\n",
    "filter_group = \"single_emotion_label\"\n",
    "filter_group_shorter = shorter_names[filter_group]\n",
    "by_class_name = \"Zone\"\n",
    "# Loop for each value from the subclass\n",
    "for filter_value in df4[filter_group].unique() :\n",
    "    # visualize the topic representation of major topics per by_class_name for each value from subclass_name:\n",
    "    fig = old_create_chart_per_class(df4, topic_model_merged, by_class_name,\n",
    "                                filter=True, \n",
    "                                filter_group=filter_group, filter_value=filter_value, \n",
    "                                sortedBy=\"Frequency\",\n",
    "                                custom_labels=True, \n",
    "                                percentage_by=\"Topic\",\n",
    "                                stacked=False,\n",
    "                                title=f\"Topics per {shorter_names[by_class_name]} - {filter_group_shorter}: {filter_value}\", \n",
    "                                width=1400, height=750)\n",
    "\n",
    "    # Save the figure as an HTML file\n",
    "    path = f\"../data/graphs/Sentiment_Analysis/by_emotion/repartition_per_topic/emotion_by_class/by_{by_class_name}\"\n",
    "    # save_graph_html(fig, path, filter_value)\n",
    "    # save_graph_html(fig, path, filter_value+\"_pct\")\n",
    "\n",
    "\n",
    "# fig = old_create_chart_per_class(df4, topic_model_merged, by_class_name,\n",
    "#                             filter=True, \n",
    "#                             filter_group=filter_group, filter_value=\"admiration\", \n",
    "#                             sortedBy=\"Frequency\",\n",
    "#                             custom_labels=True, \n",
    "#                             percentage_by=\"Class\",\n",
    "#                             stacked=True,\n",
    "#                             title=f\"Topics per {shorter_names[by_class_name]} - {filter_group_shorter}: admiration\", \n",
    "#                             width=1400, height=750)\n",
    "\n",
    "# fig"
   ]
  },
  {
   "cell_type": "code",
   "execution_count": 7,
   "metadata": {},
   "outputs": [],
   "source": [
    "from matplotlib.colors import LinearSegmentedColormap\n",
    "import matplotlib.colors as mcolors\n",
    "\n",
    "# Define the colors\n",
    "colors = [\"#FFFB8D\", \"#F5F05F\", \"#FFC974\", \"#FFA674\", \"#5ECEAF\", \"#8CE4CC\", \"#5DFBEA\"]\n",
    "\n",
    "brand_colors = {\n",
    "    \"violet\": {\n",
    "        \"light\": \"#C8AADE\",\n",
    "        \"normal\": \"#9D6FC0\",\n",
    "        \"dark\": \"#7C46A5\",\n",
    "        \"dark2\": \"#672B95\"\n",
    "    },\n",
    "    \"bleu marine\": {\n",
    "        \"light\": \"#C5DBF5\",\n",
    "        \"normal\": \"#93B8E4\",\n",
    "        \"dark\": \"#6795CD\",\n",
    "        \"dark2\": \"#4174B2\"\n",
    "    },\n",
    "    \"bleu roi\": {\n",
    "        \"light\": \"#9DC1F6\",\n",
    "        \"normal\": \"#5C9EFF\",\n",
    "        \"dark\": \"#3B8AFF\",\n",
    "        \"dark2\": \"#096CFF\"\n",
    "    },\n",
    "    \"cyan\": {\n",
    "        \"light\": \"#C4FEF8\",\n",
    "        \"normal\": \"#8CFCF0\",\n",
    "        \"dark\": \"#5EF8E8\",\n",
    "        \"dark2\": \"#32EFDB\"\n",
    "    },\n",
    "    \"bleu-vert\": {\n",
    "        \"light\": \"#C1F5E7\",\n",
    "        \"normal\": \"#8CE4CC\",\n",
    "        \"dark\": \"#5ECEAF\",\n",
    "        \"dark2\": \"#37B290\"\n",
    "    },\n",
    "    \"vert\": {\n",
    "        \"light\": \"#D7FBC6\",\n",
    "        \"normal\": \"#B4F496\",\n",
    "        \"dark\": \"#96EC6C\",\n",
    "        \"dark2\": \"#78E146\"\n",
    "    },\n",
    "    \"jaune\": {\n",
    "        \"light\": \"#FFFEB2\",\n",
    "        \"normal\": \"#FFFD87\",\n",
    "        \"dark\": \"#FFFC4C\",\n",
    "        \"dark2\": \"#F9F400\"\n",
    "    },\n",
    "    \"orange\": {\n",
    "        \"light\": \"#FFE8BD\",\n",
    "        \"normal\": \"#FFD78E\",\n",
    "        \"dark\": \"#FFC761\",\n",
    "        \"dark2\": \"#FFB836\"\n",
    "    },\n",
    "    \"orange-rouge\": {\n",
    "        \"light\": \"#FFDCC9\",\n",
    "        \"normal\": \"#FFC09D\",\n",
    "        \"dark\": \"#FFA674\",\n",
    "        \"dark2\": \"#FF8E4F\"\n",
    "    },\n",
    "    \"rouge\": {\n",
    "        \"light\": \"#FFD6D6\",\n",
    "        \"normal\": \"#FF8F8F\",\n",
    "        \"dark\": \"#FF6B6B\",\n",
    "        \"dark2\": \"#FF4C4C\"\n",
    "    },\n",
    "}\n",
    "\n",
    "def hex_to_rgb(color):\n",
    "    return mcolors.hex2color(color)\n",
    "\n",
    "def display_palette(palette):\n",
    "    fig, ax = plt.subplots(len(palette), 1, figsize=(2, 12),\n",
    "                           dpi=80, sharex=True, sharey=True)\n",
    "    for i, color in enumerate(palette):\n",
    "        ax[i].imshow([[hex_to_rgb(palette[color][shade]) for shade in palette[color]]])\n",
    "        ax[i].axis('off')\n",
    "    plt.tight_layout()\n",
    "    plt.show()\n",
    "\n",
    "# Create the colormap\n",
    "colormap = LinearSegmentedColormap.from_list(\"my_colormap\", colors, N=12)\n",
    "\n",
    "# Generate a gradient image for demonstration\n",
    "gradient = np.linspace(0, 1, 256)  # Gradient from 0 to 1\n",
    "gradient = np.vstack((gradient, gradient))  # Stack to make a 2D image\n",
    "\n",
    "# plt.imshow(gradient, aspect='auto', cmap=colormap)\n",
    "# plt.show()\n",
    "\n",
    "# Usage\n",
    "# display_palette(brand_colors)"
   ]
  },
  {
   "cell_type": "code",
   "execution_count": 9,
   "metadata": {},
   "outputs": [
    {
     "data": {
      "application/vnd.plotly.v1+json": {
       "config": {
        "plotlyServerURL": "https://plot.ly"
       },
       "data": [
        {
         "hole": 0.6,
         "hovertemplate": "%{label}: %{value}<extra></extra>",
         "labels": [
          "Automation Components",
          "Technical Support",
          "Delivery Deadlines",
          "Problem Solving & Comm",
          "Power Supply Issues",
          "Customer Support",
          "Product Evaluation",
          "Pricing",
          "Assistance",
          "Touch Screens",
          "Frequency Converters",
          "Positive feedback",
          "Quick Customer Service"
         ],
         "type": "pie",
         "values": [
          2124,
          379,
          487,
          51,
          103,
          332,
          296,
          67,
          24,
          84,
          91,
          7,
          2
         ]
        }
       ],
       "layout": {
        "autosize": false,
        "height": 500,
        "legend": {
         "title": {
          "text": "Topics"
         }
        },
        "template": {
         "data": {
          "bar": [
           {
            "error_x": {
             "color": "#2a3f5f"
            },
            "error_y": {
             "color": "#2a3f5f"
            },
            "marker": {
             "line": {
              "color": "#E5ECF6",
              "width": 0.5
             },
             "pattern": {
              "fillmode": "overlay",
              "size": 10,
              "solidity": 0.2
             }
            },
            "type": "bar"
           }
          ],
          "barpolar": [
           {
            "marker": {
             "line": {
              "color": "#E5ECF6",
              "width": 0.5
             },
             "pattern": {
              "fillmode": "overlay",
              "size": 10,
              "solidity": 0.2
             }
            },
            "type": "barpolar"
           }
          ],
          "carpet": [
           {
            "aaxis": {
             "endlinecolor": "#2a3f5f",
             "gridcolor": "white",
             "linecolor": "white",
             "minorgridcolor": "white",
             "startlinecolor": "#2a3f5f"
            },
            "baxis": {
             "endlinecolor": "#2a3f5f",
             "gridcolor": "white",
             "linecolor": "white",
             "minorgridcolor": "white",
             "startlinecolor": "#2a3f5f"
            },
            "type": "carpet"
           }
          ],
          "choropleth": [
           {
            "colorbar": {
             "outlinewidth": 0,
             "ticks": ""
            },
            "type": "choropleth"
           }
          ],
          "contour": [
           {
            "colorbar": {
             "outlinewidth": 0,
             "ticks": ""
            },
            "colorscale": [
             [
              0,
              "#0d0887"
             ],
             [
              0.1111111111111111,
              "#46039f"
             ],
             [
              0.2222222222222222,
              "#7201a8"
             ],
             [
              0.3333333333333333,
              "#9c179e"
             ],
             [
              0.4444444444444444,
              "#bd3786"
             ],
             [
              0.5555555555555556,
              "#d8576b"
             ],
             [
              0.6666666666666666,
              "#ed7953"
             ],
             [
              0.7777777777777778,
              "#fb9f3a"
             ],
             [
              0.8888888888888888,
              "#fdca26"
             ],
             [
              1,
              "#f0f921"
             ]
            ],
            "type": "contour"
           }
          ],
          "contourcarpet": [
           {
            "colorbar": {
             "outlinewidth": 0,
             "ticks": ""
            },
            "type": "contourcarpet"
           }
          ],
          "heatmap": [
           {
            "colorbar": {
             "outlinewidth": 0,
             "ticks": ""
            },
            "colorscale": [
             [
              0,
              "#0d0887"
             ],
             [
              0.1111111111111111,
              "#46039f"
             ],
             [
              0.2222222222222222,
              "#7201a8"
             ],
             [
              0.3333333333333333,
              "#9c179e"
             ],
             [
              0.4444444444444444,
              "#bd3786"
             ],
             [
              0.5555555555555556,
              "#d8576b"
             ],
             [
              0.6666666666666666,
              "#ed7953"
             ],
             [
              0.7777777777777778,
              "#fb9f3a"
             ],
             [
              0.8888888888888888,
              "#fdca26"
             ],
             [
              1,
              "#f0f921"
             ]
            ],
            "type": "heatmap"
           }
          ],
          "heatmapgl": [
           {
            "colorbar": {
             "outlinewidth": 0,
             "ticks": ""
            },
            "colorscale": [
             [
              0,
              "#0d0887"
             ],
             [
              0.1111111111111111,
              "#46039f"
             ],
             [
              0.2222222222222222,
              "#7201a8"
             ],
             [
              0.3333333333333333,
              "#9c179e"
             ],
             [
              0.4444444444444444,
              "#bd3786"
             ],
             [
              0.5555555555555556,
              "#d8576b"
             ],
             [
              0.6666666666666666,
              "#ed7953"
             ],
             [
              0.7777777777777778,
              "#fb9f3a"
             ],
             [
              0.8888888888888888,
              "#fdca26"
             ],
             [
              1,
              "#f0f921"
             ]
            ],
            "type": "heatmapgl"
           }
          ],
          "histogram": [
           {
            "marker": {
             "pattern": {
              "fillmode": "overlay",
              "size": 10,
              "solidity": 0.2
             }
            },
            "type": "histogram"
           }
          ],
          "histogram2d": [
           {
            "colorbar": {
             "outlinewidth": 0,
             "ticks": ""
            },
            "colorscale": [
             [
              0,
              "#0d0887"
             ],
             [
              0.1111111111111111,
              "#46039f"
             ],
             [
              0.2222222222222222,
              "#7201a8"
             ],
             [
              0.3333333333333333,
              "#9c179e"
             ],
             [
              0.4444444444444444,
              "#bd3786"
             ],
             [
              0.5555555555555556,
              "#d8576b"
             ],
             [
              0.6666666666666666,
              "#ed7953"
             ],
             [
              0.7777777777777778,
              "#fb9f3a"
             ],
             [
              0.8888888888888888,
              "#fdca26"
             ],
             [
              1,
              "#f0f921"
             ]
            ],
            "type": "histogram2d"
           }
          ],
          "histogram2dcontour": [
           {
            "colorbar": {
             "outlinewidth": 0,
             "ticks": ""
            },
            "colorscale": [
             [
              0,
              "#0d0887"
             ],
             [
              0.1111111111111111,
              "#46039f"
             ],
             [
              0.2222222222222222,
              "#7201a8"
             ],
             [
              0.3333333333333333,
              "#9c179e"
             ],
             [
              0.4444444444444444,
              "#bd3786"
             ],
             [
              0.5555555555555556,
              "#d8576b"
             ],
             [
              0.6666666666666666,
              "#ed7953"
             ],
             [
              0.7777777777777778,
              "#fb9f3a"
             ],
             [
              0.8888888888888888,
              "#fdca26"
             ],
             [
              1,
              "#f0f921"
             ]
            ],
            "type": "histogram2dcontour"
           }
          ],
          "mesh3d": [
           {
            "colorbar": {
             "outlinewidth": 0,
             "ticks": ""
            },
            "type": "mesh3d"
           }
          ],
          "parcoords": [
           {
            "line": {
             "colorbar": {
              "outlinewidth": 0,
              "ticks": ""
             }
            },
            "type": "parcoords"
           }
          ],
          "pie": [
           {
            "automargin": true,
            "type": "pie"
           }
          ],
          "scatter": [
           {
            "fillpattern": {
             "fillmode": "overlay",
             "size": 10,
             "solidity": 0.2
            },
            "type": "scatter"
           }
          ],
          "scatter3d": [
           {
            "line": {
             "colorbar": {
              "outlinewidth": 0,
              "ticks": ""
             }
            },
            "marker": {
             "colorbar": {
              "outlinewidth": 0,
              "ticks": ""
             }
            },
            "type": "scatter3d"
           }
          ],
          "scattercarpet": [
           {
            "marker": {
             "colorbar": {
              "outlinewidth": 0,
              "ticks": ""
             }
            },
            "type": "scattercarpet"
           }
          ],
          "scattergeo": [
           {
            "marker": {
             "colorbar": {
              "outlinewidth": 0,
              "ticks": ""
             }
            },
            "type": "scattergeo"
           }
          ],
          "scattergl": [
           {
            "marker": {
             "colorbar": {
              "outlinewidth": 0,
              "ticks": ""
             }
            },
            "type": "scattergl"
           }
          ],
          "scattermapbox": [
           {
            "marker": {
             "colorbar": {
              "outlinewidth": 0,
              "ticks": ""
             }
            },
            "type": "scattermapbox"
           }
          ],
          "scatterpolar": [
           {
            "marker": {
             "colorbar": {
              "outlinewidth": 0,
              "ticks": ""
             }
            },
            "type": "scatterpolar"
           }
          ],
          "scatterpolargl": [
           {
            "marker": {
             "colorbar": {
              "outlinewidth": 0,
              "ticks": ""
             }
            },
            "type": "scatterpolargl"
           }
          ],
          "scatterternary": [
           {
            "marker": {
             "colorbar": {
              "outlinewidth": 0,
              "ticks": ""
             }
            },
            "type": "scatterternary"
           }
          ],
          "surface": [
           {
            "colorbar": {
             "outlinewidth": 0,
             "ticks": ""
            },
            "colorscale": [
             [
              0,
              "#0d0887"
             ],
             [
              0.1111111111111111,
              "#46039f"
             ],
             [
              0.2222222222222222,
              "#7201a8"
             ],
             [
              0.3333333333333333,
              "#9c179e"
             ],
             [
              0.4444444444444444,
              "#bd3786"
             ],
             [
              0.5555555555555556,
              "#d8576b"
             ],
             [
              0.6666666666666666,
              "#ed7953"
             ],
             [
              0.7777777777777778,
              "#fb9f3a"
             ],
             [
              0.8888888888888888,
              "#fdca26"
             ],
             [
              1,
              "#f0f921"
             ]
            ],
            "type": "surface"
           }
          ],
          "table": [
           {
            "cells": {
             "fill": {
              "color": "#EBF0F8"
             },
             "line": {
              "color": "white"
             }
            },
            "header": {
             "fill": {
              "color": "#C8D4E3"
             },
             "line": {
              "color": "white"
             }
            },
            "type": "table"
           }
          ]
         },
         "layout": {
          "annotationdefaults": {
           "arrowcolor": "#2a3f5f",
           "arrowhead": 0,
           "arrowwidth": 1
          },
          "autotypenumbers": "strict",
          "coloraxis": {
           "colorbar": {
            "outlinewidth": 0,
            "ticks": ""
           }
          },
          "colorscale": {
           "diverging": [
            [
             0,
             "#8e0152"
            ],
            [
             0.1,
             "#c51b7d"
            ],
            [
             0.2,
             "#de77ae"
            ],
            [
             0.3,
             "#f1b6da"
            ],
            [
             0.4,
             "#fde0ef"
            ],
            [
             0.5,
             "#f7f7f7"
            ],
            [
             0.6,
             "#e6f5d0"
            ],
            [
             0.7,
             "#b8e186"
            ],
            [
             0.8,
             "#7fbc41"
            ],
            [
             0.9,
             "#4d9221"
            ],
            [
             1,
             "#276419"
            ]
           ],
           "sequential": [
            [
             0,
             "#0d0887"
            ],
            [
             0.1111111111111111,
             "#46039f"
            ],
            [
             0.2222222222222222,
             "#7201a8"
            ],
            [
             0.3333333333333333,
             "#9c179e"
            ],
            [
             0.4444444444444444,
             "#bd3786"
            ],
            [
             0.5555555555555556,
             "#d8576b"
            ],
            [
             0.6666666666666666,
             "#ed7953"
            ],
            [
             0.7777777777777778,
             "#fb9f3a"
            ],
            [
             0.8888888888888888,
             "#fdca26"
            ],
            [
             1,
             "#f0f921"
            ]
           ],
           "sequentialminus": [
            [
             0,
             "#0d0887"
            ],
            [
             0.1111111111111111,
             "#46039f"
            ],
            [
             0.2222222222222222,
             "#7201a8"
            ],
            [
             0.3333333333333333,
             "#9c179e"
            ],
            [
             0.4444444444444444,
             "#bd3786"
            ],
            [
             0.5555555555555556,
             "#d8576b"
            ],
            [
             0.6666666666666666,
             "#ed7953"
            ],
            [
             0.7777777777777778,
             "#fb9f3a"
            ],
            [
             0.8888888888888888,
             "#fdca26"
            ],
            [
             1,
             "#f0f921"
            ]
           ]
          },
          "colorway": [
           "#636efa",
           "#EF553B",
           "#00cc96",
           "#ab63fa",
           "#FFA15A",
           "#19d3f3",
           "#FF6692",
           "#B6E880",
           "#FF97FF",
           "#FECB52"
          ],
          "font": {
           "color": "#2a3f5f"
          },
          "geo": {
           "bgcolor": "white",
           "lakecolor": "white",
           "landcolor": "#E5ECF6",
           "showlakes": true,
           "showland": true,
           "subunitcolor": "white"
          },
          "hoverlabel": {
           "align": "left"
          },
          "hovermode": "closest",
          "mapbox": {
           "style": "light"
          },
          "paper_bgcolor": "white",
          "plot_bgcolor": "#E5ECF6",
          "polar": {
           "angularaxis": {
            "gridcolor": "white",
            "linecolor": "white",
            "ticks": ""
           },
           "bgcolor": "#E5ECF6",
           "radialaxis": {
            "gridcolor": "white",
            "linecolor": "white",
            "ticks": ""
           }
          },
          "scene": {
           "xaxis": {
            "backgroundcolor": "#E5ECF6",
            "gridcolor": "white",
            "gridwidth": 2,
            "linecolor": "white",
            "showbackground": true,
            "ticks": "",
            "zerolinecolor": "white"
           },
           "yaxis": {
            "backgroundcolor": "#E5ECF6",
            "gridcolor": "white",
            "gridwidth": 2,
            "linecolor": "white",
            "showbackground": true,
            "ticks": "",
            "zerolinecolor": "white"
           },
           "zaxis": {
            "backgroundcolor": "#E5ECF6",
            "gridcolor": "white",
            "gridwidth": 2,
            "linecolor": "white",
            "showbackground": true,
            "ticks": "",
            "zerolinecolor": "white"
           }
          },
          "shapedefaults": {
           "line": {
            "color": "#2a3f5f"
           }
          },
          "ternary": {
           "aaxis": {
            "gridcolor": "white",
            "linecolor": "white",
            "ticks": ""
           },
           "baxis": {
            "gridcolor": "white",
            "linecolor": "white",
            "ticks": ""
           },
           "bgcolor": "#E5ECF6",
           "caxis": {
            "gridcolor": "white",
            "linecolor": "white",
            "ticks": ""
           }
          },
          "title": {
           "x": 0.05
          },
          "xaxis": {
           "automargin": true,
           "gridcolor": "white",
           "linecolor": "white",
           "ticks": "",
           "title": {
            "standoff": 15
           },
           "zerolinecolor": "white",
           "zerolinewidth": 2
          },
          "yaxis": {
           "automargin": true,
           "gridcolor": "white",
           "linecolor": "white",
           "ticks": "",
           "title": {
            "standoff": 15
           },
           "zerolinecolor": "white",
           "zerolinewidth": 2
          }
         }
        },
        "title": {
         "font": {
          "color": "rgb(107, 107, 107)",
          "size": 20
         },
         "text": "Topics' Repartition",
         "x": 0.5,
         "xanchor": "center",
         "y": 0.9,
         "yanchor": "top"
        },
        "width": 800
       }
      }
     },
     "metadata": {},
     "output_type": "display_data"
    }
   ],
   "source": [
    "def create_donut_chart(df, value):\n",
    "    if value not in [\"Frequency\",\"Topic_Percentage\",\"Class_Percentage\"]:\n",
    "        raise ValueError(f\"{value} is not a discrete column from the df in parameter\")\n",
    "    palette = [brand_colors[color][\"dark2\"] for color in brand_colors]\n",
    "    # Create the donut chart\n",
    "    fig = go.Figure(data=[go.Pie(labels=df['Name'], \n",
    "                                 values=df[value], \n",
    "                                 hole=.6,\n",
    "                                #  marker=dict(colors=palette), \n",
    "                                # default:['#1f77b4',  '#ff7f0e',  '#2ca02c',  '#d62728',  '#9467bd',  '#8c564b',  '#e377c2',  '#7f7f7f',  '#bcbd22',  '#17becf']\n",
    "                                #  color_discrete_sequence=palette,\n",
    "                                 hovertemplate='%{label}: %{value}<extra></extra>'\n",
    "                                )\n",
    "                    ])\n",
    "    \n",
    "    fig.update_layout(\n",
    "        legend_title_text='Topics',\n",
    "        title={'text': \"Topics' Repartition\",\n",
    "               'y':0.9,'x':0.5,\n",
    "               'xanchor': 'center','yanchor': 'top'},\n",
    "        title_font=dict(size=20,\n",
    "                        color='rgb(107, 107, 107)'),\n",
    "        autosize=False,\n",
    "        width=800,\n",
    "        height=500\n",
    "    )\n",
    "    return fig\n",
    "\n",
    "# Call the function with your dataframe and a specific year\n",
    "fig = create_donut_chart(res_df, \"Frequency\")\n",
    "fig\n",
    "# Save the figure as an HTML file\n",
    "# pio.write_html(fig, 'my_figure.html')"
   ]
  },
  {
   "cell_type": "code",
   "execution_count": 6,
   "metadata": {},
   "outputs": [
    {
     "data": {
      "application/vnd.plotly.v1+json": {
       "config": {
        "plotlyServerURL": "https://plot.ly"
       },
       "data": [
        {
         "branchvalues": "total",
         "hovertext": [
          "12.09%",
          "6.28%",
          "12.17%",
          "6.32%",
          "13.25%",
          "3.74%",
          "6.61%",
          "5.35%",
          "3.95%",
          "5.66%",
          "5.25%",
          "6.26%",
          "3.52%",
          "4.42%",
          "2.51%",
          "2.57%",
          "0.05%",
          "26.17%",
          "61.02%",
          "81.14%",
          "77.55%",
          "27.67%",
          "100.00%",
          "100.00%",
          "22.45%",
          "18.86%",
          "28.84%",
          "71.36%",
          "26.48%",
          "80.22%",
          "99.79%",
          "18.06%",
          "18.51%",
          "72.76%",
          "76.55%",
          "3.52%",
          "44.32%",
          "98.11%",
          "10.80%",
          "11.29%",
          "55.68%",
          "27.24%",
          "8.98%",
          "1.87%",
          "15.56%",
          "100.00%",
          "1.89%",
          "7.92%",
          "3.47%",
          "0.21%",
          "1.49%",
          "0.02%",
          "0.21%",
          "69.07%",
          "32.11%",
          "9.86%",
          "93.06%",
          "93.16%",
          "43.85%",
          "20.06%",
          "40.16%",
          "99.51%",
          "28.08%",
          "26.38%",
          "15.99%",
          "56.62%",
          "10.87%",
          "0.99%",
          "80.95%",
          "5.85%",
          "7.76%",
          "100.00%",
          "8.68%",
          "100.00%",
          "5.02%",
          "3.57%",
          "2.78%",
          "2.74%",
          "95.92%",
          "66.67%",
          "18.26%",
          "19.05%",
          "1.54%",
          "71.43%",
          "2.04%",
          "33.33%",
          "2.62%",
          "2.04%",
          "0.91%",
          "0.05%",
          "0.49%",
          "100.00%",
          "14.29%",
          "9.52%",
          "4.76%",
          "32.74%"
         ],
         "labels": [
          "Italy",
          "Nordic & Baltics",
          "DACH",
          "Iberia",
          "East Asia Japan",
          "Greater India",
          "US",
          "France",
          "Middle East and Africa",
          "CEEI",
          "China & HK",
          "South America",
          "Pacific",
          "BeNe",
          "UK and Ireland",
          "Canada",
          "Mexico & Central America",
          "Sweden",
          "Germany",
          "Spain",
          "North East Asia",
          "Switzerland",
          "India",
          "USA",
          "South East Asia",
          "Portugal",
          "Finland & Baltics",
          "Turkey Central Asia and Pakistan",
          "Denmark",
          "Middle Eastern Europe",
          "China",
          "Argentina, Uruguay and Paraguay",
          "Norway",
          "Australia",
          "Brazil",
          "Chile",
          "Belgium",
          "United Kingdom",
          "Southeast Europe",
          "Austria",
          "Netherlands",
          "New Zealand",
          "Israel",
          "Andean Cluster",
          "Anglophone Africa",
          "Mexico",
          "Ireland",
          "Saudi Arabia & Yemen",
          "North East Africa and Levant",
          "Francophone Africa",
          "Gulf",
          "Liechtenstein",
          "Hong Kong & Macao",
          "Japan",
          "Thailand",
          "Vietnam",
          "Finland",
          "Turkey",
          "Poland",
          "Korea, Republic of",
          "Czech Republic",
          "Argentina",
          "Indonesia",
          "Singapore",
          "Slovakia",
          "Romania",
          "Taiwan",
          "Pakistan",
          "Colombia",
          "Kazakhstan",
          "Bulgaria",
          "South Africa",
          "Croatia",
          "Saudi Arabia",
          "Greece",
          "Malaysia",
          "Lithuania",
          "Serbia",
          "Egypt",
          "Morocco",
          "Hungary",
          "Peru",
          "Estonia",
          "United Arab Emirates",
          "Lebanon",
          "Dominican Republic",
          "Latvia",
          "Jordan",
          "Slovenia",
          "San Marino",
          "Paraguay",
          "Hong Kong",
          "Kuwait",
          "Qatar",
          "Oman",
          "Geo Levels"
         ],
         "parents": [
          "Geo Levels",
          "Geo Levels",
          "Geo Levels",
          "Geo Levels",
          "Geo Levels",
          "Geo Levels",
          "Geo Levels",
          "Geo Levels",
          "Geo Levels",
          "Geo Levels",
          "Geo Levels",
          "Geo Levels",
          "Geo Levels",
          "Geo Levels",
          "Geo Levels",
          "Geo Levels",
          "Geo Levels",
          "Nordic & Baltics",
          "DACH",
          "Iberia",
          "East Asia Japan",
          "DACH",
          "Greater India",
          "US",
          "East Asia Japan",
          "Iberia",
          "Nordic & Baltics",
          "Middle East and Africa",
          "Nordic & Baltics",
          "CEEI",
          "China & HK",
          "South America",
          "Nordic & Baltics",
          "Pacific",
          "South America",
          "South America",
          "BeNe",
          "UK and Ireland",
          "CEEI",
          "DACH",
          "BeNe",
          "Pacific",
          "CEEI",
          "South America",
          "Middle East and Africa",
          "Mexico & Central America",
          "UK and Ireland",
          "Middle East and Africa",
          "Middle East and Africa",
          "Middle East and Africa",
          "Middle East and Africa",
          "DACH",
          "China & HK",
          "North East Asia",
          "South East Asia",
          "South East Asia",
          "Finland & Baltics",
          "Turkey Central Asia and Pakistan",
          "Middle Eastern Europe",
          "North East Asia",
          "Middle Eastern Europe",
          "Argentina, Uruguay and Paraguay",
          "South East Asia",
          "South East Asia",
          "Middle Eastern Europe",
          "Southeast Europe",
          "North East Asia",
          "Turkey Central Asia and Pakistan",
          "Andean Cluster",
          "Turkey Central Asia and Pakistan",
          "Southeast Europe",
          "Anglophone Africa",
          "Southeast Europe",
          "Saudi Arabia & Yemen",
          "Southeast Europe",
          "South East Asia",
          "Finland & Baltics",
          "Southeast Europe",
          "North East Africa and Levant",
          "Francophone Africa",
          "Southeast Europe",
          "Andean Cluster",
          "Finland & Baltics",
          "Gulf",
          "North East Africa and Levant",
          "Francophone Africa",
          "Finland & Baltics",
          "North East Africa and Levant",
          "Southeast Europe",
          "Italy",
          "Argentina, Uruguay and Paraguay",
          "Hong Kong & Macao",
          "Gulf",
          "Gulf",
          "Gulf",
          ""
         ],
         "type": "sunburst",
         "values": [
          4328,
          2247,
          4359,
          2264,
          4744,
          1339,
          2367,
          1914,
          1414,
          2027,
          1878,
          2243,
          1259,
          1584,
          898,
          919,
          18,
          588,
          2660,
          1837,
          3679,
          1206,
          1339,
          2367,
          1065,
          427,
          648,
          1009,
          595,
          1626,
          1874,
          405,
          416,
          916,
          1717,
          79,
          702,
          881,
          219,
          492,
          882,
          343,
          182,
          42,
          220,
          18,
          17,
          112,
          49,
          3,
          21,
          1,
          4,
          2541,
          342,
          105,
          603,
          940,
          713,
          738,
          653,
          403,
          299,
          281,
          260,
          124,
          400,
          10,
          34,
          59,
          17,
          220,
          19,
          112,
          11,
          38,
          18,
          6,
          47,
          2,
          40,
          8,
          10,
          15,
          1,
          1,
          17,
          1,
          2,
          2,
          2,
          4,
          3,
          2,
          1,
          35804
         ]
        }
       ],
       "layout": {
        "height": 1000,
        "template": {
         "data": {
          "bar": [
           {
            "error_x": {
             "color": "#2a3f5f"
            },
            "error_y": {
             "color": "#2a3f5f"
            },
            "marker": {
             "line": {
              "color": "#E5ECF6",
              "width": 0.5
             },
             "pattern": {
              "fillmode": "overlay",
              "size": 10,
              "solidity": 0.2
             }
            },
            "type": "bar"
           }
          ],
          "barpolar": [
           {
            "marker": {
             "line": {
              "color": "#E5ECF6",
              "width": 0.5
             },
             "pattern": {
              "fillmode": "overlay",
              "size": 10,
              "solidity": 0.2
             }
            },
            "type": "barpolar"
           }
          ],
          "carpet": [
           {
            "aaxis": {
             "endlinecolor": "#2a3f5f",
             "gridcolor": "white",
             "linecolor": "white",
             "minorgridcolor": "white",
             "startlinecolor": "#2a3f5f"
            },
            "baxis": {
             "endlinecolor": "#2a3f5f",
             "gridcolor": "white",
             "linecolor": "white",
             "minorgridcolor": "white",
             "startlinecolor": "#2a3f5f"
            },
            "type": "carpet"
           }
          ],
          "choropleth": [
           {
            "colorbar": {
             "outlinewidth": 0,
             "ticks": ""
            },
            "type": "choropleth"
           }
          ],
          "contour": [
           {
            "colorbar": {
             "outlinewidth": 0,
             "ticks": ""
            },
            "colorscale": [
             [
              0,
              "#0d0887"
             ],
             [
              0.1111111111111111,
              "#46039f"
             ],
             [
              0.2222222222222222,
              "#7201a8"
             ],
             [
              0.3333333333333333,
              "#9c179e"
             ],
             [
              0.4444444444444444,
              "#bd3786"
             ],
             [
              0.5555555555555556,
              "#d8576b"
             ],
             [
              0.6666666666666666,
              "#ed7953"
             ],
             [
              0.7777777777777778,
              "#fb9f3a"
             ],
             [
              0.8888888888888888,
              "#fdca26"
             ],
             [
              1,
              "#f0f921"
             ]
            ],
            "type": "contour"
           }
          ],
          "contourcarpet": [
           {
            "colorbar": {
             "outlinewidth": 0,
             "ticks": ""
            },
            "type": "contourcarpet"
           }
          ],
          "heatmap": [
           {
            "colorbar": {
             "outlinewidth": 0,
             "ticks": ""
            },
            "colorscale": [
             [
              0,
              "#0d0887"
             ],
             [
              0.1111111111111111,
              "#46039f"
             ],
             [
              0.2222222222222222,
              "#7201a8"
             ],
             [
              0.3333333333333333,
              "#9c179e"
             ],
             [
              0.4444444444444444,
              "#bd3786"
             ],
             [
              0.5555555555555556,
              "#d8576b"
             ],
             [
              0.6666666666666666,
              "#ed7953"
             ],
             [
              0.7777777777777778,
              "#fb9f3a"
             ],
             [
              0.8888888888888888,
              "#fdca26"
             ],
             [
              1,
              "#f0f921"
             ]
            ],
            "type": "heatmap"
           }
          ],
          "heatmapgl": [
           {
            "colorbar": {
             "outlinewidth": 0,
             "ticks": ""
            },
            "colorscale": [
             [
              0,
              "#0d0887"
             ],
             [
              0.1111111111111111,
              "#46039f"
             ],
             [
              0.2222222222222222,
              "#7201a8"
             ],
             [
              0.3333333333333333,
              "#9c179e"
             ],
             [
              0.4444444444444444,
              "#bd3786"
             ],
             [
              0.5555555555555556,
              "#d8576b"
             ],
             [
              0.6666666666666666,
              "#ed7953"
             ],
             [
              0.7777777777777778,
              "#fb9f3a"
             ],
             [
              0.8888888888888888,
              "#fdca26"
             ],
             [
              1,
              "#f0f921"
             ]
            ],
            "type": "heatmapgl"
           }
          ],
          "histogram": [
           {
            "marker": {
             "pattern": {
              "fillmode": "overlay",
              "size": 10,
              "solidity": 0.2
             }
            },
            "type": "histogram"
           }
          ],
          "histogram2d": [
           {
            "colorbar": {
             "outlinewidth": 0,
             "ticks": ""
            },
            "colorscale": [
             [
              0,
              "#0d0887"
             ],
             [
              0.1111111111111111,
              "#46039f"
             ],
             [
              0.2222222222222222,
              "#7201a8"
             ],
             [
              0.3333333333333333,
              "#9c179e"
             ],
             [
              0.4444444444444444,
              "#bd3786"
             ],
             [
              0.5555555555555556,
              "#d8576b"
             ],
             [
              0.6666666666666666,
              "#ed7953"
             ],
             [
              0.7777777777777778,
              "#fb9f3a"
             ],
             [
              0.8888888888888888,
              "#fdca26"
             ],
             [
              1,
              "#f0f921"
             ]
            ],
            "type": "histogram2d"
           }
          ],
          "histogram2dcontour": [
           {
            "colorbar": {
             "outlinewidth": 0,
             "ticks": ""
            },
            "colorscale": [
             [
              0,
              "#0d0887"
             ],
             [
              0.1111111111111111,
              "#46039f"
             ],
             [
              0.2222222222222222,
              "#7201a8"
             ],
             [
              0.3333333333333333,
              "#9c179e"
             ],
             [
              0.4444444444444444,
              "#bd3786"
             ],
             [
              0.5555555555555556,
              "#d8576b"
             ],
             [
              0.6666666666666666,
              "#ed7953"
             ],
             [
              0.7777777777777778,
              "#fb9f3a"
             ],
             [
              0.8888888888888888,
              "#fdca26"
             ],
             [
              1,
              "#f0f921"
             ]
            ],
            "type": "histogram2dcontour"
           }
          ],
          "mesh3d": [
           {
            "colorbar": {
             "outlinewidth": 0,
             "ticks": ""
            },
            "type": "mesh3d"
           }
          ],
          "parcoords": [
           {
            "line": {
             "colorbar": {
              "outlinewidth": 0,
              "ticks": ""
             }
            },
            "type": "parcoords"
           }
          ],
          "pie": [
           {
            "automargin": true,
            "type": "pie"
           }
          ],
          "scatter": [
           {
            "fillpattern": {
             "fillmode": "overlay",
             "size": 10,
             "solidity": 0.2
            },
            "type": "scatter"
           }
          ],
          "scatter3d": [
           {
            "line": {
             "colorbar": {
              "outlinewidth": 0,
              "ticks": ""
             }
            },
            "marker": {
             "colorbar": {
              "outlinewidth": 0,
              "ticks": ""
             }
            },
            "type": "scatter3d"
           }
          ],
          "scattercarpet": [
           {
            "marker": {
             "colorbar": {
              "outlinewidth": 0,
              "ticks": ""
             }
            },
            "type": "scattercarpet"
           }
          ],
          "scattergeo": [
           {
            "marker": {
             "colorbar": {
              "outlinewidth": 0,
              "ticks": ""
             }
            },
            "type": "scattergeo"
           }
          ],
          "scattergl": [
           {
            "marker": {
             "colorbar": {
              "outlinewidth": 0,
              "ticks": ""
             }
            },
            "type": "scattergl"
           }
          ],
          "scattermapbox": [
           {
            "marker": {
             "colorbar": {
              "outlinewidth": 0,
              "ticks": ""
             }
            },
            "type": "scattermapbox"
           }
          ],
          "scatterpolar": [
           {
            "marker": {
             "colorbar": {
              "outlinewidth": 0,
              "ticks": ""
             }
            },
            "type": "scatterpolar"
           }
          ],
          "scatterpolargl": [
           {
            "marker": {
             "colorbar": {
              "outlinewidth": 0,
              "ticks": ""
             }
            },
            "type": "scatterpolargl"
           }
          ],
          "scatterternary": [
           {
            "marker": {
             "colorbar": {
              "outlinewidth": 0,
              "ticks": ""
             }
            },
            "type": "scatterternary"
           }
          ],
          "surface": [
           {
            "colorbar": {
             "outlinewidth": 0,
             "ticks": ""
            },
            "colorscale": [
             [
              0,
              "#0d0887"
             ],
             [
              0.1111111111111111,
              "#46039f"
             ],
             [
              0.2222222222222222,
              "#7201a8"
             ],
             [
              0.3333333333333333,
              "#9c179e"
             ],
             [
              0.4444444444444444,
              "#bd3786"
             ],
             [
              0.5555555555555556,
              "#d8576b"
             ],
             [
              0.6666666666666666,
              "#ed7953"
             ],
             [
              0.7777777777777778,
              "#fb9f3a"
             ],
             [
              0.8888888888888888,
              "#fdca26"
             ],
             [
              1,
              "#f0f921"
             ]
            ],
            "type": "surface"
           }
          ],
          "table": [
           {
            "cells": {
             "fill": {
              "color": "#EBF0F8"
             },
             "line": {
              "color": "white"
             }
            },
            "header": {
             "fill": {
              "color": "#C8D4E3"
             },
             "line": {
              "color": "white"
             }
            },
            "type": "table"
           }
          ]
         },
         "layout": {
          "annotationdefaults": {
           "arrowcolor": "#2a3f5f",
           "arrowhead": 0,
           "arrowwidth": 1
          },
          "autotypenumbers": "strict",
          "coloraxis": {
           "colorbar": {
            "outlinewidth": 0,
            "ticks": ""
           }
          },
          "colorscale": {
           "diverging": [
            [
             0,
             "#8e0152"
            ],
            [
             0.1,
             "#c51b7d"
            ],
            [
             0.2,
             "#de77ae"
            ],
            [
             0.3,
             "#f1b6da"
            ],
            [
             0.4,
             "#fde0ef"
            ],
            [
             0.5,
             "#f7f7f7"
            ],
            [
             0.6,
             "#e6f5d0"
            ],
            [
             0.7,
             "#b8e186"
            ],
            [
             0.8,
             "#7fbc41"
            ],
            [
             0.9,
             "#4d9221"
            ],
            [
             1,
             "#276419"
            ]
           ],
           "sequential": [
            [
             0,
             "#0d0887"
            ],
            [
             0.1111111111111111,
             "#46039f"
            ],
            [
             0.2222222222222222,
             "#7201a8"
            ],
            [
             0.3333333333333333,
             "#9c179e"
            ],
            [
             0.4444444444444444,
             "#bd3786"
            ],
            [
             0.5555555555555556,
             "#d8576b"
            ],
            [
             0.6666666666666666,
             "#ed7953"
            ],
            [
             0.7777777777777778,
             "#fb9f3a"
            ],
            [
             0.8888888888888888,
             "#fdca26"
            ],
            [
             1,
             "#f0f921"
            ]
           ],
           "sequentialminus": [
            [
             0,
             "#0d0887"
            ],
            [
             0.1111111111111111,
             "#46039f"
            ],
            [
             0.2222222222222222,
             "#7201a8"
            ],
            [
             0.3333333333333333,
             "#9c179e"
            ],
            [
             0.4444444444444444,
             "#bd3786"
            ],
            [
             0.5555555555555556,
             "#d8576b"
            ],
            [
             0.6666666666666666,
             "#ed7953"
            ],
            [
             0.7777777777777778,
             "#fb9f3a"
            ],
            [
             0.8888888888888888,
             "#fdca26"
            ],
            [
             1,
             "#f0f921"
            ]
           ]
          },
          "colorway": [
           "#636efa",
           "#EF553B",
           "#00cc96",
           "#ab63fa",
           "#FFA15A",
           "#19d3f3",
           "#FF6692",
           "#B6E880",
           "#FF97FF",
           "#FECB52"
          ],
          "font": {
           "color": "#2a3f5f"
          },
          "geo": {
           "bgcolor": "white",
           "lakecolor": "white",
           "landcolor": "#E5ECF6",
           "showlakes": true,
           "showland": true,
           "subunitcolor": "white"
          },
          "hoverlabel": {
           "align": "left"
          },
          "hovermode": "closest",
          "mapbox": {
           "style": "light"
          },
          "paper_bgcolor": "white",
          "plot_bgcolor": "#E5ECF6",
          "polar": {
           "angularaxis": {
            "gridcolor": "white",
            "linecolor": "white",
            "ticks": ""
           },
           "bgcolor": "#E5ECF6",
           "radialaxis": {
            "gridcolor": "white",
            "linecolor": "white",
            "ticks": ""
           }
          },
          "scene": {
           "xaxis": {
            "backgroundcolor": "#E5ECF6",
            "gridcolor": "white",
            "gridwidth": 2,
            "linecolor": "white",
            "showbackground": true,
            "ticks": "",
            "zerolinecolor": "white"
           },
           "yaxis": {
            "backgroundcolor": "#E5ECF6",
            "gridcolor": "white",
            "gridwidth": 2,
            "linecolor": "white",
            "showbackground": true,
            "ticks": "",
            "zerolinecolor": "white"
           },
           "zaxis": {
            "backgroundcolor": "#E5ECF6",
            "gridcolor": "white",
            "gridwidth": 2,
            "linecolor": "white",
            "showbackground": true,
            "ticks": "",
            "zerolinecolor": "white"
           }
          },
          "shapedefaults": {
           "line": {
            "color": "#2a3f5f"
           }
          },
          "ternary": {
           "aaxis": {
            "gridcolor": "white",
            "linecolor": "white",
            "ticks": ""
           },
           "baxis": {
            "gridcolor": "white",
            "linecolor": "white",
            "ticks": ""
           },
           "bgcolor": "#E5ECF6",
           "caxis": {
            "gridcolor": "white",
            "linecolor": "white",
            "ticks": ""
           }
          },
          "title": {
           "x": 0.05
          },
          "xaxis": {
           "automargin": true,
           "gridcolor": "white",
           "linecolor": "white",
           "ticks": "",
           "title": {
            "standoff": 15
           },
           "zerolinecolor": "white",
           "zerolinewidth": 2
          },
          "yaxis": {
           "automargin": true,
           "gridcolor": "white",
           "linecolor": "white",
           "ticks": "",
           "title": {
            "standoff": 15
           },
           "zerolinecolor": "white",
           "zerolinewidth": 2
          }
         }
        },
        "title": {
         "font": {
          "color": "rgb(107, 107, 107)",
          "size": 20
         },
         "text": "Geographical Distribution",
         "x": 0.5,
         "xanchor": "center",
         "y": 0.9,
         "yanchor": "top"
        },
        "width": 1100
       }
      }
     },
     "metadata": {},
     "output_type": "display_data"
    }
   ],
   "source": [
    "def build_hierarchical_dataframe(df, levels, value_column, color_columns=None):\n",
    "    df_sunburst = df[levels + [value_column]].drop_duplicates()\n",
    "\n",
    "    if color_columns:\n",
    "        df_sunburst[color_columns] = df.groupby(levels)[color_columns].mean()\n",
    "    \n",
    "    return df_sunburst\n",
    "\n",
    "def old_build_sunburst_lists(df, levels):\n",
    "    labels_set = set()\n",
    "    labels = []\n",
    "    parents = []\n",
    "    values = []\n",
    "    percentages = []\n",
    "\n",
    "    for i in range(len(levels)):\n",
    "        # Get lists for current level and parent level\n",
    "        current_level = df[levels[i]].tolist()\n",
    "        parent_level = [''] * len(current_level) if i == 0 else df[levels[i - 1]].tolist()\n",
    "\n",
    "        # Get parents for current level\n",
    "        parents_current_level = ['' if current_level[j] == parent_level[j] else parent_level[j] for j in range(len(current_level))]\n",
    "\n",
    "        # Append current level and parents to labels and parents lists, avoiding duplicates\n",
    "        for j in range(len(current_level)):\n",
    "            if current_level[j] not in labels_set:\n",
    "                labels.append(current_level[j])\n",
    "                parents.append(parents_current_level[j])\n",
    "                labels_set.add(current_level[j])\n",
    "\n",
    "    # Add 'Geo' as the parent of all 'Zone' labels\n",
    "    for i in range(len(labels)):\n",
    "        if parents[i] == '':\n",
    "            parents[i] = 'Geo Levels'\n",
    "\n",
    "    # Add 'Geo' to the labels list with no parent\n",
    "    labels.append('Geo Levels')\n",
    "    parents.append('')\n",
    "\n",
    "    # Compute values for each label\n",
    "    for label in labels:\n",
    "        if label in df['Account Country'].values:\n",
    "            # If label is an 'Account Country', use the corresponding 'Count' value\n",
    "            values.append(df.loc[df['Account Country'] == label, 'Count'].values[0])\n",
    "        elif label in df['Clusters'].values:\n",
    "            # If label is a 'Clusters', sum the 'Count' values of its 'Account Country'\n",
    "            values.append(df.loc[df['Clusters'] == label, 'Count'].sum())\n",
    "        elif label in df['Zone'].values:\n",
    "            # If label is a 'Zone', sum the 'Count' values of its 'Clusters'\n",
    "            clusters_in_zone = df.loc[df['Zone'] == label, 'Clusters'].unique()\n",
    "            values.append(df.loc[df['Clusters'].isin(clusters_in_zone), 'Count'].sum())\n",
    "        elif label == 'Geo Levels':\n",
    "            values.append(df[\"Count\"].sum())\n",
    "\n",
    "    # Create a dictionary to map labels to their corresponding values\n",
    "    value_dict = dict(zip(labels, values))\n",
    "\n",
    "    # Calculate percentages based on the parent's value\n",
    "    for i in range(len(labels)):\n",
    "        parent_value = value_dict[parents[i]] if parents[i] else sum(values)\n",
    "        percentages.append(values[i] / parent_value * 100)\n",
    "            \n",
    "    return labels, parents, values, percentages\n",
    "\n",
    "def get_current_level_and_parents(df, levels):\n",
    "    labels_set = set()\n",
    "    labels = []\n",
    "    parents = []\n",
    "\n",
    "    for i in range(len(levels)):\n",
    "        current_level = df[levels[i]].tolist()\n",
    "        parent_level = [''] * len(current_level) if i == 0 else df[levels[i - 1]].tolist()\n",
    "\n",
    "        parents_current_level = ['' if current_level[j] == parent_level[j] else parent_level[j] for j in range(len(current_level))]\n",
    "\n",
    "        for j in range(len(current_level)):\n",
    "            if current_level[j] not in labels_set:\n",
    "                labels.append(current_level[j])\n",
    "                parents.append(parents_current_level[j])\n",
    "                labels_set.add(current_level[j])\n",
    "\n",
    "    return labels, parents\n",
    "\n",
    "def add_unique_parent(labels, parents, unique_parent_name):\n",
    "    for i in range(len(labels)):\n",
    "        if parents[i] == '':\n",
    "            parents[i] = unique_parent_name\n",
    "\n",
    "    labels.append(unique_parent_name)\n",
    "    parents.append('')\n",
    "\n",
    "    return labels, parents\n",
    "\n",
    "def compute_values(df, labels):\n",
    "    values = []\n",
    "\n",
    "    for label in labels:\n",
    "        if label in df['Account Country'].values:\n",
    "            values.append(df.loc[df['Account Country'] == label, 'Count'].values[0])\n",
    "        elif label in df['Clusters'].values:\n",
    "            values.append(df.loc[df['Clusters'] == label, 'Count'].sum())\n",
    "        elif label in df['Zone'].values:\n",
    "            clusters_in_zone = df.loc[df['Zone'] == label, 'Clusters'].unique()\n",
    "            values.append(df.loc[df['Clusters'].isin(clusters_in_zone), 'Count'].sum())\n",
    "        elif label == 'Geo Levels':\n",
    "            values.append(df[\"Count\"].sum())\n",
    "\n",
    "    return values\n",
    "\n",
    "def old_calculate_percentages(labels, parents, values):\n",
    "    value_dict = dict(zip(labels, values))\n",
    "    percentages = []\n",
    "\n",
    "    for i in range(len(labels)):\n",
    "        parent_value = value_dict[parents[i]] if parents[i] else sum(values)\n",
    "        percentages.append(values[i] / parent_value * 100)\n",
    "\n",
    "    return percentages\n",
    "\n",
    "def calculate_percentages(df, labels, parents, values, percentage_by_zone=False):\n",
    "    value_dict = dict(zip(labels, values))\n",
    "    percentages = []\n",
    "\n",
    "    for i in range(len(labels)):\n",
    "        if percentage_by_zone and parents[i] in df['Zone'].values:\n",
    "            parent_value = df.loc[df['Zone'] == parents[i], 'Count'].sum()\n",
    "        else:\n",
    "            parent_value = value_dict[parents[i]] if parents[i] else sum(values)\n",
    "        \n",
    "        percentages.append(values[i] / parent_value * 100)\n",
    "\n",
    "    return percentages\n",
    "\n",
    "def build_sunburst_lists(df, levels, unique_parent=True, percentage_by_zone=False, unique_parent_name=\"Geo Levels\"):\n",
    "    labels, parents = get_current_level_and_parents(df, levels)\n",
    "    if unique_parent:\n",
    "        labels, parents = add_unique_parent(labels, parents, unique_parent_name)\n",
    "    values = compute_values(df, labels)\n",
    "    percentages = calculate_percentages(df, labels, parents, values, percentage_by_zone)\n",
    "\n",
    "    return labels, parents, values, percentages\n",
    "\n",
    "def create_sunburst(labels, parents, values, percentages, **sunburst_kwargs):\n",
    "    # Create a list of hover texts that includes the percentage for each label\n",
    "    hover_text = [f'{percentage:.2f}%' for _, _, percentage in zip(labels, values, percentages)]\n",
    "    fig = go.Figure(data=go.Sunburst(\n",
    "        labels=labels,\n",
    "        parents=parents,\n",
    "        values=values,\n",
    "        branchvalues='total',\n",
    "        hovertext=hover_text,\n",
    "        **sunburst_kwargs\n",
    "    ))\n",
    "    \n",
    "    fig.update_layout(\n",
    "        title={'text': f\"Geographical Distribution\",\n",
    "               'y':0.9,'x':0.5,\n",
    "               'xanchor': 'center','yanchor': 'top'},\n",
    "        title_font=dict(size=20,\n",
    "                        color='rgb(107, 107, 107)'),\n",
    "        width=1100,\n",
    "        height=1000\n",
    "    )\n",
    "\n",
    "    return fig\n",
    "\n",
    "df5=df4.copy()\n",
    "# df5 = filter_docs(df4, \"sentiment_label\", \"positive\")[0]\n",
    "\n",
    "df5['Count'] = df5.groupby('Account Country')['Account Country'].transform('count')\n",
    "res_df5 = build_hierarchical_dataframe(df5, ['Zone','Clusters','Account Country'], 'Count')\n",
    "\n",
    "labels, parents, values, percentages = build_sunburst_lists(res_df5, ['Zone','Clusters','Account Country'], percentage_by_zone=False, unique_parent=True)\n",
    "\n",
    "create_sunburst(labels, parents, values, percentages)"
   ]
  },
  {
   "cell_type": "code",
   "execution_count": 16,
   "metadata": {},
   "outputs": [
    {
     "data": {
      "text/plain": [
       "Index(['Account Country', 'Front Office Country', 'Clusters', 'Zone',\n",
       "       'Operation', 'Primary Coverage Model', 'Account owner role',\n",
       "       'Market Segment', 'Leading BU', 'Personas', 'State/Province',\n",
       "       'Account ID Text', 'Classification Level 1 Name',\n",
       "       'Classification Level 2', 'bFO Account ID', 'Job Title', 'Job Role',\n",
       "       'Contact ID', 'bFO Contact ID', 'Survey ID', 'Unique ID',\n",
       "       'Creation Date', 'Local Response Date', 'Response Date',\n",
       "       'Accepted for reporting on date', 'Touchpoint', 'Interaction', 'Brand',\n",
       "       'Survey language', 'Quarantine Rule Exception',\n",
       "       'What is the Customer Feedback?', 'Likelihood to Recommend (SE)',\n",
       "       'Customer_Comments', 'Translation_Customer_Comments',\n",
       "       'Overall_Additional_Comments',\n",
       "       'Translation_Overall_Additional_Comments', 'Overall Satisfaction',\n",
       "       'Reason_for_Score_Comment', 'Translation_Reason_for_Score_Comment',\n",
       "       'Anything_Else_Comment', 'Translation_Anything_Else_Comment', 'year',\n",
       "       'id', 'processed_data', 'non_empty_rows', 'allComment', 'keywords_old',\n",
       "       'label_old', 'predicted_labels', 'predicted_scores', 'proba_dict_old',\n",
       "       'score', 'sentiment_label', 'single_emotion_label',\n",
       "       'single_sentiment_from_emotion', 'topic_old', 'year_month',\n",
       "       'schwartz_labels', 'schwartz_label', 'schwartz_score',\n",
       "       'schwartz_multilabels', 'schwartz_multiscores', 'topic', 'keywords',\n",
       "       'label', 'proba_dict'],\n",
       "      dtype='object')"
      ]
     },
     "execution_count": 16,
     "metadata": {},
     "output_type": "execute_result"
    }
   ],
   "source": [
    "df_full_commented.columns"
   ]
  },
  {
   "cell_type": "code",
   "execution_count": 18,
   "metadata": {},
   "outputs": [
    {
     "data": {
      "application/vnd.plotly.v1+json": {
       "config": {
        "plotlyServerURL": "https://plot.ly"
       },
       "data": [
        {
         "hoverinfo": "text",
         "hovertext": [
          "<b>Topic Product Quality & Sales</b><br>Words: customers, company, distributor, deliveries, brands<br>Count: 2957<br>Percentage: 54.94%",
          "<b>Topic Product Quality & Sales</b><br>Words: delays, customers, customer, delivery time, service<br>Count: 3332<br>Percentage: 71.64%",
          "<b>Topic Product Quality & Sales</b><br>Words: technical support, customer service, products, customers, sales<br>Count: 6818<br>Percentage: 65.34%"
         ],
         "marker": {
          "color": "#E69F00"
         },
         "name": "Product Quality & Sales",
         "orientation": "v",
         "type": "bar",
         "visible": true,
         "x": [
          "neutral",
          "negative",
          "positive"
         ],
         "y": [
          54.94,
          71.64,
          65.34
         ]
        },
        {
         "hoverinfo": "text",
         "hovertext": [
          "<b>Topic Tech Support & Problem Resolution</b><br>Words: technical support, technical, technicians, technician, support<br>Count: 272<br>Percentage: 5.85%",
          "<b>Topic Tech Support & Problem Resolution</b><br>Words: quick response, technicians, technician, answers, technical<br>Count: 989<br>Percentage: 18.38%",
          "<b>Topic Tech Support & Problem Resolution</b><br>Words: technical support, technical, technicians, technician, tech<br>Count: 1977<br>Percentage: 18.95%"
         ],
         "marker": {
          "color": "#56B4E9"
         },
         "name": "Tech Support & Problem Resolution",
         "orientation": "v",
         "type": "bar",
         "visible": "legendonly",
         "x": [
          "negative",
          "neutral",
          "positive"
         ],
         "y": [
          5.85,
          18.38,
          18.95
         ]
        },
        {
         "hoverinfo": "text",
         "hovertext": [
          "<b>Topic UPS & Touch Panels</b><br>Words: repair, ups, contact, customer, call back<br>Count: 605<br>Percentage: 13.01%",
          "<b>Topic UPS & Touch Panels</b><br>Words: touch panel, touch screen, gp4000, touch, panel<br>Count: 610<br>Percentage: 5.85%",
          "<b>Topic UPS & Touch Panels</b><br>Words: touch panel, panel, touch, device, gp4000<br>Count: 651<br>Percentage: 12.1%"
         ],
         "marker": {
          "color": "#009E73"
         },
         "name": "UPS & Touch Panels",
         "orientation": "v",
         "type": "bar",
         "visible": "legendonly",
         "x": [
          "negative",
          "positive",
          "neutral"
         ],
         "y": [
          13.01,
          5.85,
          12.1
         ]
        },
        {
         "hoverinfo": "text",
         "hovertext": [
          "<b>Topic Communication, Guidance & Feedback</b><br>Words: feedback, slowness, slow, long time, responds<br>Count: 22<br>Percentage: 0.47%",
          "<b>Topic Communication, Guidance & Feedback</b><br>Words: quick response, response, quick, quickness, reply<br>Count: 334<br>Percentage: 6.21%",
          "<b>Topic Communication, Guidance & Feedback</b><br>Words: professionalism, competence, kindness, competent, professional<br>Count: 376<br>Percentage: 3.6%"
         ],
         "marker": {
          "color": "#F0E442"
         },
         "name": "Communication, Guidance & Feedback",
         "orientation": "v",
         "type": "bar",
         "visible": "legendonly",
         "x": [
          "negative",
          "neutral",
          "positive"
         ],
         "y": [
          0.47,
          6.21,
          3.6
         ]
        },
        {
         "hoverinfo": "text",
         "hovertext": [
          "<b>Topic Inverters & Drives Support</b><br>Words: inverters, inverter, invertor, equipment, technical support<br>Count: 119<br>Percentage: 2.21%",
          "<b>Topic Inverters & Drives Support</b><br>Words: inverter, inverters, factory, frequency inverters, technical support<br>Count: 190<br>Percentage: 4.09%",
          "<b>Topic Inverters & Drives Support</b><br>Words: technical support, drives, inverters, equipment, software<br>Count: 245<br>Percentage: 2.35%"
         ],
         "marker": {
          "color": "#D55E00"
         },
         "name": "Inverters & Drives Support",
         "orientation": "v",
         "type": "bar",
         "visible": "legendonly",
         "x": [
          "neutral",
          "negative",
          "positive"
         ],
         "y": [
          2.21,
          4.09,
          2.35
         ]
        },
        {
         "hoverinfo": "text",
         "hovertext": [
          "<b>Topic Quotations & Offers</b><br>Words: quotation, customer, quotations, delayed, inquiries<br>Count: 148<br>Percentage: 3.18%",
          "<b>Topic Quotations & Offers</b><br>Words: quotations, quotes, quotation, quoted, quote<br>Count: 160<br>Percentage: 1.53%",
          "<b>Topic Quotations & Offers</b><br>Words: quoting, quotations, quotes, quotation, quoted<br>Count: 181<br>Percentage: 3.36%"
         ],
         "marker": {
          "color": "#0072B2"
         },
         "name": "Quotations & Offers",
         "orientation": "v",
         "type": "bar",
         "visible": "legendonly",
         "x": [
          "negative",
          "positive",
          "neutral"
         ],
         "y": [
          3.18,
          1.53,
          3.36
         ]
        },
        {
         "hoverinfo": "text",
         "hovertext": [
          "<b>Topic Customer Service & Delivery</b><br>Words: deadlines, deadline, delays, delay, schedule<br>Count: 82<br>Percentage: 1.76%",
          "<b>Topic Customer Service & Delivery</b><br>Words: deadlines, deadline, schedule, timing, delays<br>Count: 151<br>Percentage: 2.81%",
          "<b>Topic Customer Service & Delivery</b><br>Words: perfectly, worked, everything, great, wonderful<br>Count: 249<br>Percentage: 2.39%"
         ],
         "marker": {
          "color": "#CC79A7"
         },
         "name": "Customer Service & Delivery",
         "orientation": "v",
         "type": "bar",
         "visible": "legendonly",
         "x": [
          "negative",
          "neutral",
          "positive"
         ],
         "y": [
          1.76,
          2.81,
          2.39
         ]
        }
       ],
       "layout": {
        "barmode": "stack",
        "height": 750,
        "hoverlabel": {
         "bgcolor": "white",
         "font": {
          "family": "Rockwell",
          "size": 16
         }
        },
        "legend": {
         "title": {
          "text": "<b>Global Topic Representation"
         }
        },
        "template": {
         "data": {
          "bar": [
           {
            "error_x": {
             "color": "rgb(36,36,36)"
            },
            "error_y": {
             "color": "rgb(36,36,36)"
            },
            "marker": {
             "line": {
              "color": "white",
              "width": 0.5
             },
             "pattern": {
              "fillmode": "overlay",
              "size": 10,
              "solidity": 0.2
             }
            },
            "type": "bar"
           }
          ],
          "barpolar": [
           {
            "marker": {
             "line": {
              "color": "white",
              "width": 0.5
             },
             "pattern": {
              "fillmode": "overlay",
              "size": 10,
              "solidity": 0.2
             }
            },
            "type": "barpolar"
           }
          ],
          "carpet": [
           {
            "aaxis": {
             "endlinecolor": "rgb(36,36,36)",
             "gridcolor": "white",
             "linecolor": "white",
             "minorgridcolor": "white",
             "startlinecolor": "rgb(36,36,36)"
            },
            "baxis": {
             "endlinecolor": "rgb(36,36,36)",
             "gridcolor": "white",
             "linecolor": "white",
             "minorgridcolor": "white",
             "startlinecolor": "rgb(36,36,36)"
            },
            "type": "carpet"
           }
          ],
          "choropleth": [
           {
            "colorbar": {
             "outlinewidth": 1,
             "tickcolor": "rgb(36,36,36)",
             "ticks": "outside"
            },
            "type": "choropleth"
           }
          ],
          "contour": [
           {
            "colorbar": {
             "outlinewidth": 1,
             "tickcolor": "rgb(36,36,36)",
             "ticks": "outside"
            },
            "colorscale": [
             [
              0,
              "#440154"
             ],
             [
              0.1111111111111111,
              "#482878"
             ],
             [
              0.2222222222222222,
              "#3e4989"
             ],
             [
              0.3333333333333333,
              "#31688e"
             ],
             [
              0.4444444444444444,
              "#26828e"
             ],
             [
              0.5555555555555556,
              "#1f9e89"
             ],
             [
              0.6666666666666666,
              "#35b779"
             ],
             [
              0.7777777777777778,
              "#6ece58"
             ],
             [
              0.8888888888888888,
              "#b5de2b"
             ],
             [
              1,
              "#fde725"
             ]
            ],
            "type": "contour"
           }
          ],
          "contourcarpet": [
           {
            "colorbar": {
             "outlinewidth": 1,
             "tickcolor": "rgb(36,36,36)",
             "ticks": "outside"
            },
            "type": "contourcarpet"
           }
          ],
          "heatmap": [
           {
            "colorbar": {
             "outlinewidth": 1,
             "tickcolor": "rgb(36,36,36)",
             "ticks": "outside"
            },
            "colorscale": [
             [
              0,
              "#440154"
             ],
             [
              0.1111111111111111,
              "#482878"
             ],
             [
              0.2222222222222222,
              "#3e4989"
             ],
             [
              0.3333333333333333,
              "#31688e"
             ],
             [
              0.4444444444444444,
              "#26828e"
             ],
             [
              0.5555555555555556,
              "#1f9e89"
             ],
             [
              0.6666666666666666,
              "#35b779"
             ],
             [
              0.7777777777777778,
              "#6ece58"
             ],
             [
              0.8888888888888888,
              "#b5de2b"
             ],
             [
              1,
              "#fde725"
             ]
            ],
            "type": "heatmap"
           }
          ],
          "heatmapgl": [
           {
            "colorbar": {
             "outlinewidth": 1,
             "tickcolor": "rgb(36,36,36)",
             "ticks": "outside"
            },
            "colorscale": [
             [
              0,
              "#440154"
             ],
             [
              0.1111111111111111,
              "#482878"
             ],
             [
              0.2222222222222222,
              "#3e4989"
             ],
             [
              0.3333333333333333,
              "#31688e"
             ],
             [
              0.4444444444444444,
              "#26828e"
             ],
             [
              0.5555555555555556,
              "#1f9e89"
             ],
             [
              0.6666666666666666,
              "#35b779"
             ],
             [
              0.7777777777777778,
              "#6ece58"
             ],
             [
              0.8888888888888888,
              "#b5de2b"
             ],
             [
              1,
              "#fde725"
             ]
            ],
            "type": "heatmapgl"
           }
          ],
          "histogram": [
           {
            "marker": {
             "line": {
              "color": "white",
              "width": 0.6
             }
            },
            "type": "histogram"
           }
          ],
          "histogram2d": [
           {
            "colorbar": {
             "outlinewidth": 1,
             "tickcolor": "rgb(36,36,36)",
             "ticks": "outside"
            },
            "colorscale": [
             [
              0,
              "#440154"
             ],
             [
              0.1111111111111111,
              "#482878"
             ],
             [
              0.2222222222222222,
              "#3e4989"
             ],
             [
              0.3333333333333333,
              "#31688e"
             ],
             [
              0.4444444444444444,
              "#26828e"
             ],
             [
              0.5555555555555556,
              "#1f9e89"
             ],
             [
              0.6666666666666666,
              "#35b779"
             ],
             [
              0.7777777777777778,
              "#6ece58"
             ],
             [
              0.8888888888888888,
              "#b5de2b"
             ],
             [
              1,
              "#fde725"
             ]
            ],
            "type": "histogram2d"
           }
          ],
          "histogram2dcontour": [
           {
            "colorbar": {
             "outlinewidth": 1,
             "tickcolor": "rgb(36,36,36)",
             "ticks": "outside"
            },
            "colorscale": [
             [
              0,
              "#440154"
             ],
             [
              0.1111111111111111,
              "#482878"
             ],
             [
              0.2222222222222222,
              "#3e4989"
             ],
             [
              0.3333333333333333,
              "#31688e"
             ],
             [
              0.4444444444444444,
              "#26828e"
             ],
             [
              0.5555555555555556,
              "#1f9e89"
             ],
             [
              0.6666666666666666,
              "#35b779"
             ],
             [
              0.7777777777777778,
              "#6ece58"
             ],
             [
              0.8888888888888888,
              "#b5de2b"
             ],
             [
              1,
              "#fde725"
             ]
            ],
            "type": "histogram2dcontour"
           }
          ],
          "mesh3d": [
           {
            "colorbar": {
             "outlinewidth": 1,
             "tickcolor": "rgb(36,36,36)",
             "ticks": "outside"
            },
            "type": "mesh3d"
           }
          ],
          "parcoords": [
           {
            "line": {
             "colorbar": {
              "outlinewidth": 1,
              "tickcolor": "rgb(36,36,36)",
              "ticks": "outside"
             }
            },
            "type": "parcoords"
           }
          ],
          "pie": [
           {
            "automargin": true,
            "type": "pie"
           }
          ],
          "scatter": [
           {
            "fillpattern": {
             "fillmode": "overlay",
             "size": 10,
             "solidity": 0.2
            },
            "type": "scatter"
           }
          ],
          "scatter3d": [
           {
            "line": {
             "colorbar": {
              "outlinewidth": 1,
              "tickcolor": "rgb(36,36,36)",
              "ticks": "outside"
             }
            },
            "marker": {
             "colorbar": {
              "outlinewidth": 1,
              "tickcolor": "rgb(36,36,36)",
              "ticks": "outside"
             }
            },
            "type": "scatter3d"
           }
          ],
          "scattercarpet": [
           {
            "marker": {
             "colorbar": {
              "outlinewidth": 1,
              "tickcolor": "rgb(36,36,36)",
              "ticks": "outside"
             }
            },
            "type": "scattercarpet"
           }
          ],
          "scattergeo": [
           {
            "marker": {
             "colorbar": {
              "outlinewidth": 1,
              "tickcolor": "rgb(36,36,36)",
              "ticks": "outside"
             }
            },
            "type": "scattergeo"
           }
          ],
          "scattergl": [
           {
            "marker": {
             "colorbar": {
              "outlinewidth": 1,
              "tickcolor": "rgb(36,36,36)",
              "ticks": "outside"
             }
            },
            "type": "scattergl"
           }
          ],
          "scattermapbox": [
           {
            "marker": {
             "colorbar": {
              "outlinewidth": 1,
              "tickcolor": "rgb(36,36,36)",
              "ticks": "outside"
             }
            },
            "type": "scattermapbox"
           }
          ],
          "scatterpolar": [
           {
            "marker": {
             "colorbar": {
              "outlinewidth": 1,
              "tickcolor": "rgb(36,36,36)",
              "ticks": "outside"
             }
            },
            "type": "scatterpolar"
           }
          ],
          "scatterpolargl": [
           {
            "marker": {
             "colorbar": {
              "outlinewidth": 1,
              "tickcolor": "rgb(36,36,36)",
              "ticks": "outside"
             }
            },
            "type": "scatterpolargl"
           }
          ],
          "scatterternary": [
           {
            "marker": {
             "colorbar": {
              "outlinewidth": 1,
              "tickcolor": "rgb(36,36,36)",
              "ticks": "outside"
             }
            },
            "type": "scatterternary"
           }
          ],
          "surface": [
           {
            "colorbar": {
             "outlinewidth": 1,
             "tickcolor": "rgb(36,36,36)",
             "ticks": "outside"
            },
            "colorscale": [
             [
              0,
              "#440154"
             ],
             [
              0.1111111111111111,
              "#482878"
             ],
             [
              0.2222222222222222,
              "#3e4989"
             ],
             [
              0.3333333333333333,
              "#31688e"
             ],
             [
              0.4444444444444444,
              "#26828e"
             ],
             [
              0.5555555555555556,
              "#1f9e89"
             ],
             [
              0.6666666666666666,
              "#35b779"
             ],
             [
              0.7777777777777778,
              "#6ece58"
             ],
             [
              0.8888888888888888,
              "#b5de2b"
             ],
             [
              1,
              "#fde725"
             ]
            ],
            "type": "surface"
           }
          ],
          "table": [
           {
            "cells": {
             "fill": {
              "color": "rgb(237,237,237)"
             },
             "line": {
              "color": "white"
             }
            },
            "header": {
             "fill": {
              "color": "rgb(217,217,217)"
             },
             "line": {
              "color": "white"
             }
            },
            "type": "table"
           }
          ]
         },
         "layout": {
          "annotationdefaults": {
           "arrowhead": 0,
           "arrowwidth": 1
          },
          "autotypenumbers": "strict",
          "coloraxis": {
           "colorbar": {
            "outlinewidth": 1,
            "tickcolor": "rgb(36,36,36)",
            "ticks": "outside"
           }
          },
          "colorscale": {
           "diverging": [
            [
             0,
             "rgb(103,0,31)"
            ],
            [
             0.1,
             "rgb(178,24,43)"
            ],
            [
             0.2,
             "rgb(214,96,77)"
            ],
            [
             0.3,
             "rgb(244,165,130)"
            ],
            [
             0.4,
             "rgb(253,219,199)"
            ],
            [
             0.5,
             "rgb(247,247,247)"
            ],
            [
             0.6,
             "rgb(209,229,240)"
            ],
            [
             0.7,
             "rgb(146,197,222)"
            ],
            [
             0.8,
             "rgb(67,147,195)"
            ],
            [
             0.9,
             "rgb(33,102,172)"
            ],
            [
             1,
             "rgb(5,48,97)"
            ]
           ],
           "sequential": [
            [
             0,
             "#440154"
            ],
            [
             0.1111111111111111,
             "#482878"
            ],
            [
             0.2222222222222222,
             "#3e4989"
            ],
            [
             0.3333333333333333,
             "#31688e"
            ],
            [
             0.4444444444444444,
             "#26828e"
            ],
            [
             0.5555555555555556,
             "#1f9e89"
            ],
            [
             0.6666666666666666,
             "#35b779"
            ],
            [
             0.7777777777777778,
             "#6ece58"
            ],
            [
             0.8888888888888888,
             "#b5de2b"
            ],
            [
             1,
             "#fde725"
            ]
           ],
           "sequentialminus": [
            [
             0,
             "#440154"
            ],
            [
             0.1111111111111111,
             "#482878"
            ],
            [
             0.2222222222222222,
             "#3e4989"
            ],
            [
             0.3333333333333333,
             "#31688e"
            ],
            [
             0.4444444444444444,
             "#26828e"
            ],
            [
             0.5555555555555556,
             "#1f9e89"
            ],
            [
             0.6666666666666666,
             "#35b779"
            ],
            [
             0.7777777777777778,
             "#6ece58"
            ],
            [
             0.8888888888888888,
             "#b5de2b"
            ],
            [
             1,
             "#fde725"
            ]
           ]
          },
          "colorway": [
           "#1F77B4",
           "#FF7F0E",
           "#2CA02C",
           "#D62728",
           "#9467BD",
           "#8C564B",
           "#E377C2",
           "#7F7F7F",
           "#BCBD22",
           "#17BECF"
          ],
          "font": {
           "color": "rgb(36,36,36)"
          },
          "geo": {
           "bgcolor": "white",
           "lakecolor": "white",
           "landcolor": "white",
           "showlakes": true,
           "showland": true,
           "subunitcolor": "white"
          },
          "hoverlabel": {
           "align": "left"
          },
          "hovermode": "closest",
          "mapbox": {
           "style": "light"
          },
          "paper_bgcolor": "white",
          "plot_bgcolor": "white",
          "polar": {
           "angularaxis": {
            "gridcolor": "rgb(232,232,232)",
            "linecolor": "rgb(36,36,36)",
            "showgrid": false,
            "showline": true,
            "ticks": "outside"
           },
           "bgcolor": "white",
           "radialaxis": {
            "gridcolor": "rgb(232,232,232)",
            "linecolor": "rgb(36,36,36)",
            "showgrid": false,
            "showline": true,
            "ticks": "outside"
           }
          },
          "scene": {
           "xaxis": {
            "backgroundcolor": "white",
            "gridcolor": "rgb(232,232,232)",
            "gridwidth": 2,
            "linecolor": "rgb(36,36,36)",
            "showbackground": true,
            "showgrid": false,
            "showline": true,
            "ticks": "outside",
            "zeroline": false,
            "zerolinecolor": "rgb(36,36,36)"
           },
           "yaxis": {
            "backgroundcolor": "white",
            "gridcolor": "rgb(232,232,232)",
            "gridwidth": 2,
            "linecolor": "rgb(36,36,36)",
            "showbackground": true,
            "showgrid": false,
            "showline": true,
            "ticks": "outside",
            "zeroline": false,
            "zerolinecolor": "rgb(36,36,36)"
           },
           "zaxis": {
            "backgroundcolor": "white",
            "gridcolor": "rgb(232,232,232)",
            "gridwidth": 2,
            "linecolor": "rgb(36,36,36)",
            "showbackground": true,
            "showgrid": false,
            "showline": true,
            "ticks": "outside",
            "zeroline": false,
            "zerolinecolor": "rgb(36,36,36)"
           }
          },
          "shapedefaults": {
           "fillcolor": "black",
           "line": {
            "width": 0
           },
           "opacity": 0.3
          },
          "ternary": {
           "aaxis": {
            "gridcolor": "rgb(232,232,232)",
            "linecolor": "rgb(36,36,36)",
            "showgrid": false,
            "showline": true,
            "ticks": "outside"
           },
           "baxis": {
            "gridcolor": "rgb(232,232,232)",
            "linecolor": "rgb(36,36,36)",
            "showgrid": false,
            "showline": true,
            "ticks": "outside"
           },
           "bgcolor": "white",
           "caxis": {
            "gridcolor": "rgb(232,232,232)",
            "linecolor": "rgb(36,36,36)",
            "showgrid": false,
            "showline": true,
            "ticks": "outside"
           }
          },
          "title": {
           "x": 0.05
          },
          "xaxis": {
           "automargin": true,
           "gridcolor": "rgb(232,232,232)",
           "linecolor": "rgb(36,36,36)",
           "showgrid": false,
           "showline": true,
           "ticks": "outside",
           "title": {
            "standoff": 15
           },
           "zeroline": false,
           "zerolinecolor": "rgb(36,36,36)"
          },
          "yaxis": {
           "automargin": true,
           "gridcolor": "rgb(232,232,232)",
           "linecolor": "rgb(36,36,36)",
           "showgrid": false,
           "showline": true,
           "ticks": "outside",
           "title": {
            "standoff": 15
           },
           "zeroline": false,
           "zerolinecolor": "rgb(36,36,36)"
          }
         }
        },
        "title": {
         "font": {
          "color": "Black",
          "size": 22
         },
         "text": "Topics per Sentiment",
         "x": 0.4,
         "xanchor": "center",
         "y": 0.95,
         "yanchor": "top"
        },
        "width": 500,
        "xaxis": {
         "showgrid": true,
         "title": {
          "text": "Frequency"
         }
        },
        "yaxis": {
         "showgrid": true,
         "title": {
          "text": "Class"
         }
        }
       }
      }
     },
     "metadata": {},
     "output_type": "display_data"
    }
   ],
   "source": [
    "### Graph barchart topics by sentiment\n",
    "\n",
    "# Code without using the create_chart_per_class wrapper function\n",
    "# create topics_per_class df in order to run the visualization then.\n",
    "# topics_per_class = create_topics_per_class_df(df4, topic_model_merged, \"sentiment_label\", sortedBy=\"Frequency\")\n",
    "# visualize the topic representation of major topics per Sentiment (positive, negative, neutral):\n",
    "# fig = visualize_topics_per_class_options(topic_model_merged, topics_per_class, orient=\"v\", custom_labels=True, title=\"Topics per Sentiment\", width=500, height=750)\n",
    "\n",
    "# Code using the create_chart_per_class wrapper function\n",
    "fig = create_chart_per_class(df_full_commented, topic_model_merged, \"sentiment_label\", \n",
    "                             sortedBy=\"Frequency\", \n",
    "                             orient=\"v\", \n",
    "                             custom_labels=True, \n",
    "                             percentage_by=\"Class\",\n",
    "                             stacked=True,\n",
    "                             title=\"Topics per Sentiment\", \n",
    "                             width=500, height=750)\n",
    "\n",
    "# Save the figure as an HTML file\n",
    "# save_graph_html(fig, \"../data/graphs/Sentiment_Analysis/by_sentiment/repartition_per_topic/global\", \"new_model_merged_per_sentiment_class_pct\")\n",
    "fig"
   ]
  },
  {
   "cell_type": "code",
   "execution_count": 60,
   "metadata": {},
   "outputs": [
    {
     "data": {
      "application/vnd.plotly.v1+json": {
       "config": {
        "plotlyServerURL": "https://plot.ly"
       },
       "data": [
        {
         "hoverinfo": "text",
         "hovertext": [
          "<b>Topic Product Quality & Sales</b><br>Words: votes, maximum, many, lot, high<br>Count: 1<br>Percentage: 9.09%",
          "<b>Topic Product Quality & Sales</b><br>Words: rating, quality, reasons, diversity, reason<br>Count: 1<br>Percentage: 100.0%",
          "<b>Topic Product Quality & Sales</b><br>Words: bartolini, products, product, obsolete, quality<br>Count: 2<br>Percentage: 14.29%",
          "<b>Topic Product Quality & Sales</b><br>Words: excellent, great, customer, customers, service<br>Count: 8<br>Percentage: 42.11%",
          "<b>Topic Product Quality & Sales</b><br>Words: brand, brands, quality, trustworthy, credibility<br>Count: 9<br>Percentage: 69.23%",
          "<b>Topic Product Quality & Sales</b><br>Words: service, products, product, company, customers<br>Count: 11<br>Percentage: 78.57%",
          "<b>Topic Product Quality & Sales</b><br>Words: discrete, deliveries, breakers, sav, delivery<br>Count: 13<br>Percentage: 44.83%",
          "<b>Topic Product Quality & Sales</b><br>Words: safety, stable, protective, security, manufacturer<br>Count: 14<br>Percentage: 60.87%",
          "<b>Topic Product Quality & Sales</b><br>Words: resellers, prices, priced, billing, purchase<br>Count: 16<br>Percentage: 72.73%",
          "<b>Topic Product Quality & Sales</b><br>Words: customer service, customers, customer, freight, orders<br>Count: 18<br>Percentage: 21.95%",
          "<b>Topic Product Quality & Sales</b><br>Words: packaging, packing, boxes, packaged, cardboard<br>Count: 28<br>Percentage: 90.32%",
          "<b>Topic Product Quality & Sales</b><br>Words: delivery date, delivery, fulfillment, postponed, order<br>Count: 47<br>Percentage: 35.34%",
          "<b>Topic Product Quality & Sales</b><br>Words: deliveries, replenishment, delivery date, shipments, delivery<br>Count: 54<br>Percentage: 80.6%",
          "<b>Topic Product Quality & Sales</b><br>Words: pricing, prices, priced, delivery, quality<br>Count: 77<br>Percentage: 81.05%",
          "<b>Topic Product Quality & Sales</b><br>Words: distributor, purchase, customers, customer, sales<br>Count: 205<br>Percentage: 65.5%",
          "<b>Topic Product Quality & Sales</b><br>Words: customer service, delays, orders, deliveries, delivery time<br>Count: 574<br>Percentage: 41.87%",
          "<b>Topic Product Quality & Sales</b><br>Words: distributors, distributor, sales, pricing, customers<br>Count: 592<br>Percentage: 81.88%",
          "<b>Topic Product Quality & Sales</b><br>Words: deliveries, delivery time, delivery, sales, delivery date<br>Count: 1183<br>Percentage: 55.88%",
          "<b>Topic Product Quality & Sales</b><br>Words: technical support, plc, customer service, issues, reliable<br>Count: 10254<br>Percentage: 66.64%"
         ],
         "marker": {
          "color": "#E69F00"
         },
         "name": "Product Quality & Sales",
         "orientation": "h",
         "type": "bar",
         "visible": true,
         "x": [
          9.09,
          100,
          14.29,
          42.11,
          69.23,
          78.57,
          44.83,
          60.87,
          72.73,
          21.95,
          90.32,
          35.34,
          80.6,
          81.05,
          65.5,
          41.87,
          81.88,
          55.88,
          66.64
         ],
         "y": [
          "Power: dominance",
          "Universalism: tolerance",
          "Self-direction: thought",
          "Hedonism",
          "Face",
          "Tradition",
          "none",
          "Security: societal",
          "Universalism: concern",
          "Conformity: interpersonal",
          "Universalism: nature",
          "Conformity: rules",
          "Benevolence: dependability",
          "Power: resources",
          "Self-direction: action",
          "Benevolence: caring",
          "Security: personal",
          "Universalism: objectivity",
          "Achievement"
         ]
        },
        {
         "hoverinfo": "text",
         "hovertext": [
          "<b>Topic Tech Support & Problem Resolution</b><br>Words: satisfaction, satisfied, satisfactory, moment, attentive<br>Count: 1<br>Percentage: 50.0%",
          "<b>Topic Tech Support & Problem Resolution</b><br>Words: satisfaction, explanation, problem, knowledge, support<br>Count: 1<br>Percentage: 1.49%",
          "<b>Topic Tech Support & Problem Resolution</b><br>Words: staff, support, technical support, understaffing, assistance<br>Count: 1<br>Percentage: 1.05%",
          "<b>Topic Tech Support & Problem Resolution</b><br>Words: satisfied, satisfaction, satisfactory, moderately, thorough<br>Count: 2<br>Percentage: 6.9%",
          "<b>Topic Tech Support & Problem Resolution</b><br>Words: support, god, lord, satisfied, satisfaction<br>Count: 2<br>Percentage: 14.29%",
          "<b>Topic Tech Support & Problem Resolution</b><br>Words: treatment, solution, problem, solve problem, support<br>Count: 3<br>Percentage: 13.64%",
          "<b>Topic Tech Support & Problem Resolution</b><br>Words: incident, support, immediately, immediate, decisive<br>Count: 4<br>Percentage: 17.39%",
          "<b>Topic Tech Support & Problem Resolution</b><br>Words: satisfaction, satisfied, enjoyable, satisfactory, attentive<br>Count: 4<br>Percentage: 21.05%",
          "<b>Topic Tech Support & Problem Resolution</b><br>Words: supporters, satisfaction, support, impression, attentive<br>Count: 4<br>Percentage: 30.77%",
          "<b>Topic Tech Support & Problem Resolution</b><br>Words: enlightened, information, told, knowledge, page<br>Count: 9<br>Percentage: 64.29%",
          "<b>Topic Tech Support & Problem Resolution</b><br>Words: response time, decisive, response, immediate, quick response<br>Count: 9<br>Percentage: 81.82%",
          "<b>Topic Tech Support & Problem Resolution</b><br>Words: courteous, courteously, polite, responses, response<br>Count: 12<br>Percentage: 9.02%",
          "<b>Topic Tech Support & Problem Resolution</b><br>Words: technical support, support, satisfaction, satisfied, reason<br>Count: 21<br>Percentage: 6.71%",
          "<b>Topic Tech Support & Problem Resolution</b><br>Words: support, training, attentive, assistance, satisfaction<br>Count: 46<br>Percentage: 6.36%",
          "<b>Topic Tech Support & Problem Resolution</b><br>Words: polite, politely, responses, respond, rude<br>Count: 51<br>Percentage: 62.2%",
          "<b>Topic Tech Support & Problem Resolution</b><br>Words: technician, technicians, helpfulness, technical support, tech<br>Count: 358<br>Percentage: 26.11%",
          "<b>Topic Tech Support & Problem Resolution</b><br>Words: answered, answer, question, answers, quick response<br>Count: 447<br>Percentage: 21.11%",
          "<b>Topic Tech Support & Problem Resolution</b><br>Words: technical support, technician, technicians, tech, technical<br>Count: 2263<br>Percentage: 14.71%"
         ],
         "marker": {
          "color": "#56B4E9"
         },
         "name": "Tech Support & Problem Resolution",
         "orientation": "h",
         "type": "bar",
         "visible": "legendonly",
         "x": [
          50,
          1.49,
          1.05,
          6.9,
          14.29,
          13.64,
          17.39,
          21.05,
          30.77,
          64.29,
          81.82,
          9.02,
          6.71,
          6.36,
          62.2,
          26.11,
          21.11,
          14.71
         ],
         "y": [
          "Humility",
          "Benevolence: dependability",
          "Power: resources",
          "none",
          "Tradition",
          "Universalism: concern",
          "Security: societal",
          "Hedonism",
          "Face",
          "Self-direction: thought",
          "Power: dominance",
          "Conformity: rules",
          "Self-direction: action",
          "Security: personal",
          "Conformity: interpersonal",
          "Benevolence: caring",
          "Universalism: objectivity",
          "Achievement"
         ]
        },
        {
         "hoverinfo": "text",
         "hovertext": [
          "<b>Topic UPS & Touch Panels</b><br>Words: ups, upss, eocr, electric, products<br>Count: 1<br>Percentage: 1.05%",
          "<b>Topic UPS & Touch Panels</b><br>Words: agp, gender, changer, com2, replacing<br>Count: 1<br>Percentage: 3.45%",
          "<b>Topic UPS & Touch Panels</b><br>Words: resolved, glad, fixed, issue, solved<br>Count: 1<br>Percentage: 4.55%",
          "<b>Topic UPS & Touch Panels</b><br>Words: ultraviolet, touch panel, sheet, panel, touch<br>Count: 1<br>Percentage: 3.23%",
          "<b>Topic UPS & Touch Panels</b><br>Words: issue, ups, problems, problem, arc<br>Count: 3<br>Percentage: 13.04%",
          "<b>Topic UPS & Touch Panels</b><br>Words: owe, call back, contract, issue, call<br>Count: 7<br>Percentage: 5.26%",
          "<b>Topic UPS & Touch Panels</b><br>Words: call center, telephone, call back, call, calling<br>Count: 9<br>Percentage: 10.98%",
          "<b>Topic UPS & Touch Panels</b><br>Words: repair, repairs, defective, issue, ups<br>Count: 10<br>Percentage: 14.93%",
          "<b>Topic UPS & Touch Panels</b><br>Words: plcpfxgp4401tad, touch panel, dial, lt3300, gp4000<br>Count: 28<br>Percentage: 3.87%",
          "<b>Topic UPS & Touch Panels</b><br>Words: telephone, dial, call, call back, calls<br>Count: 47<br>Percentage: 15.02%",
          "<b>Topic UPS & Touch Panels</b><br>Words: call back, call, telephone, calling, calls<br>Count: 199<br>Percentage: 14.51%",
          "<b>Topic UPS & Touch Panels</b><br>Words: ups, gp4000, troubleshooting, warranty, usb<br>Count: 211<br>Percentage: 9.97%",
          "<b>Topic UPS & Touch Panels</b><br>Words: ups, upss, repair, maintenance, customer<br>Count: 1348<br>Percentage: 8.76%"
         ],
         "marker": {
          "color": "#009E73"
         },
         "name": "UPS & Touch Panels",
         "orientation": "h",
         "type": "bar",
         "visible": "legendonly",
         "x": [
          1.05,
          3.45,
          4.55,
          3.23,
          13.04,
          5.26,
          10.98,
          14.93,
          3.87,
          15.02,
          14.51,
          9.97,
          8.76
         ],
         "y": [
          "Power: resources",
          "none",
          "Universalism: concern",
          "Universalism: nature",
          "Security: societal",
          "Conformity: rules",
          "Conformity: interpersonal",
          "Benevolence: dependability",
          "Security: personal",
          "Self-direction: action",
          "Benevolence: caring",
          "Universalism: objectivity",
          "Achievement"
         ]
        },
        {
         "hoverinfo": "text",
         "hovertext": [
          "<b>Topic Communication, Guidance & Feedback</b><br>Words: prompt, prompter, promptness, saved, promptitude<br>Count: 1<br>Percentage: 4.35%",
          "<b>Topic Communication, Guidance & Feedback</b><br>Words: promptness, prompt, prompter, responses, decisive<br>Count: 1<br>Percentage: 9.09%",
          "<b>Topic Communication, Guidance & Feedback</b><br>Words: valentino, applause, promptness, prompt, prompter<br>Count: 1<br>Percentage: 5.26%",
          "<b>Topic Communication, Guidance & Feedback</b><br>Words: kindness, fairness, friendliness, courtesy, manner<br>Count: 1<br>Percentage: 4.55%",
          "<b>Topic Communication, Guidance & Feedback</b><br>Words: compelling, interest, uncomplicated, quick, quickly<br>Count: 2<br>Percentage: 14.29%",
          "<b>Topic Communication, Guidance & Feedback</b><br>Words: professionalism, condescending, courtesy, friendliness, professional<br>Count: 3<br>Percentage: 3.66%",
          "<b>Topic Communication, Guidance & Feedback</b><br>Words: prompt, promptness, courtesy, appointment, feedback<br>Count: 6<br>Percentage: 1.92%",
          "<b>Topic Communication, Guidance & Feedback</b><br>Words: quickly, fast, quickness, rapid, speed<br>Count: 9<br>Percentage: 1.24%",
          "<b>Topic Communication, Guidance & Feedback</b><br>Words: interest, attention, fast, effective, quickly<br>Count: 12<br>Percentage: 41.38%",
          "<b>Topic Communication, Guidance & Feedback</b><br>Words: promptness, prompt, courtesy, responses, response<br>Count: 24<br>Percentage: 18.05%",
          "<b>Topic Communication, Guidance & Feedback</b><br>Words: quick response, response, quick, quickly, reply<br>Count: 95<br>Percentage: 4.49%",
          "<b>Topic Communication, Guidance & Feedback</b><br>Words: responsiveness, advice, guidance, responsive, advise<br>Count: 116<br>Percentage: 8.46%",
          "<b>Topic Communication, Guidance & Feedback</b><br>Words: quickness, attention, quick response, quickly, rapid<br>Count: 461<br>Percentage: 3.0%"
         ],
         "marker": {
          "color": "#F0E442"
         },
         "name": "Communication, Guidance & Feedback",
         "orientation": "h",
         "type": "bar",
         "visible": "legendonly",
         "x": [
          4.35,
          9.09,
          5.26,
          4.55,
          14.29,
          3.66,
          1.92,
          1.24,
          41.38,
          18.05,
          4.49,
          8.46,
          3
         ],
         "y": [
          "Security: societal",
          "Power: dominance",
          "Hedonism",
          "Universalism: concern",
          "Self-direction: thought",
          "Conformity: interpersonal",
          "Self-direction: action",
          "Security: personal",
          "none",
          "Conformity: rules",
          "Universalism: objectivity",
          "Benevolence: caring",
          "Achievement"
         ]
        },
        {
         "hoverinfo": "text",
         "hovertext": [
          "<b>Topic Inverters & Drives Support</b><br>Words: altivar, drives, drive, 930, explosion<br>Count: 1<br>Percentage: 4.35%",
          "<b>Topic Inverters & Drives Support</b><br>Words: inverters, inverter, customer service, issues, problems<br>Count: 3<br>Percentage: 0.96%",
          "<b>Topic Inverters & Drives Support</b><br>Words: inverters, frequency inverters, inverter, drives, pricing<br>Count: 4<br>Percentage: 4.21%",
          "<b>Topic Inverters & Drives Support</b><br>Words: drives, inverter, drive, support, reset<br>Count: 10<br>Percentage: 0.73%",
          "<b>Topic Inverters & Drives Support</b><br>Words: inverters, inverter, technical support, customer, factories<br>Count: 13<br>Percentage: 1.8%",
          "<b>Topic Inverters & Drives Support</b><br>Words: inverter, inverters, invertor, atv320, atv340<br>Count: 61<br>Percentage: 2.88%",
          "<b>Topic Inverters & Drives Support</b><br>Words: inverter, inverters, atv320, technical support, atv630<br>Count: 462<br>Percentage: 3.0%"
         ],
         "marker": {
          "color": "#D55E00"
         },
         "name": "Inverters & Drives Support",
         "orientation": "h",
         "type": "bar",
         "visible": "legendonly",
         "x": [
          4.35,
          0.96,
          4.21,
          0.73,
          1.8,
          2.88,
          3
         ],
         "y": [
          "Security: societal",
          "Self-direction: action",
          "Power: resources",
          "Benevolence: caring",
          "Security: personal",
          "Universalism: objectivity",
          "Achievement"
         ]
        },
        {
         "hoverinfo": "text",
         "hovertext": [
          "<b>Topic Quotations & Offers</b><br>Words: urges, offers, waiting, may, requesting<br>Count: 1<br>Percentage: 5.26%",
          "<b>Topic Quotations & Offers</b><br>Words: emails, email, send, quotations, requests<br>Count: 1<br>Percentage: 1.22%",
          "<b>Topic Quotations & Offers</b><br>Words: gasworks, offers, inquiries, sales, discount<br>Count: 1<br>Percentage: 3.23%",
          "<b>Topic Quotations & Offers</b><br>Words: agreements, demand, delivering, requests, provide<br>Count: 3<br>Percentage: 2.26%",
          "<b>Topic Quotations & Offers</b><br>Words: payment, prices, bid, price, interest<br>Count: 11<br>Percentage: 11.58%",
          "<b>Topic Quotations & Offers</b><br>Words: cost, cheaper, fee, delays, quotatin<br>Count: 13<br>Percentage: 1.8%",
          "<b>Topic Quotations & Offers</b><br>Words: negotiate, bidding, purchasing, buyer, prices<br>Count: 18<br>Percentage: 5.75%",
          "<b>Topic Quotations & Offers</b><br>Words: discount, customer, offers, price, cancel<br>Count: 58<br>Percentage: 4.23%",
          "<b>Topic Quotations & Offers</b><br>Words: quoting, quotation, quotes, quoted, quotations<br>Count: 69<br>Percentage: 3.26%",
          "<b>Topic Quotations & Offers</b><br>Words: quoting, quotations, quotation, quotes, quoted<br>Count: 314<br>Percentage: 2.04%"
         ],
         "marker": {
          "color": "#0072B2"
         },
         "name": "Quotations & Offers",
         "orientation": "h",
         "type": "bar",
         "visible": "legendonly",
         "x": [
          5.26,
          1.22,
          3.23,
          2.26,
          11.58,
          1.8,
          5.75,
          4.23,
          3.26,
          2.04
         ],
         "y": [
          "Hedonism",
          "Conformity: interpersonal",
          "Universalism: nature",
          "Conformity: rules",
          "Power: resources",
          "Security: personal",
          "Self-direction: action",
          "Benevolence: caring",
          "Universalism: objectivity",
          "Achievement"
         ]
        },
        {
         "hoverinfo": "text",
         "hovertext": [
          "<b>Topic Customer Service & Delivery</b><br>Words: everything, perfectly, expectations, nothing, adequate<br>Count: 1<br>Percentage: 7.14%",
          "<b>Topic Customer Service & Delivery</b><br>Words: invoice, proposal, commercial, deadline, deadlines<br>Count: 1<br>Percentage: 1.05%",
          "<b>Topic Customer Service & Delivery</b><br>Words: war, fine, spoken, alright, rights<br>Count: 1<br>Percentage: 3.45%",
          "<b>Topic Customer Service & Delivery</b><br>Words: liked, great, excellent, pretty, good<br>Count: 1<br>Percentage: 7.14%",
          "<b>Topic Customer Service & Delivery</b><br>Words: war, spoken, fine, rights, respect<br>Count: 1<br>Percentage: 4.55%",
          "<b>Topic Customer Service & Delivery</b><br>Words: taken, long, waiting, time, delay<br>Count: 1<br>Percentage: 50.0%",
          "<b>Topic Customer Service & Delivery</b><br>Words: delays, delay, timing, waiting, deadlines<br>Count: 1<br>Percentage: 3.23%",
          "<b>Topic Customer Service & Delivery</b><br>Words: deadlines, deadline, order, delays, timing<br>Count: 2<br>Percentage: 2.99%",
          "<b>Topic Customer Service & Delivery</b><br>Words: great, excellent, good, perfectly, fine<br>Count: 5<br>Percentage: 26.32%",
          "<b>Topic Customer Service & Delivery</b><br>Words: fine, everything, perfectly, alright, smoothly<br>Count: 13<br>Percentage: 4.15%",
          "<b>Topic Customer Service & Delivery</b><br>Words: fine, everything, perfectly, happy, overall<br>Count: 22<br>Percentage: 3.04%",
          "<b>Topic Customer Service & Delivery</b><br>Words: deadline, deadlines, respected, timing, schedule<br>Count: 40<br>Percentage: 30.08%",
          "<b>Topic Customer Service & Delivery</b><br>Words: delayed, delays, fine, everything, problems<br>Count: 51<br>Percentage: 2.41%",
          "<b>Topic Customer Service & Delivery</b><br>Words: service, delays, delayed, delay, complaints<br>Count: 56<br>Percentage: 4.08%",
          "<b>Topic Customer Service & Delivery</b><br>Words: deadlines, deadline, delays, delay, schedule<br>Count: 286<br>Percentage: 1.86%"
         ],
         "marker": {
          "color": "#CC79A7"
         },
         "name": "Customer Service & Delivery",
         "orientation": "h",
         "type": "bar",
         "visible": "legendonly",
         "x": [
          7.14,
          1.05,
          3.45,
          7.14,
          4.55,
          50,
          3.23,
          2.99,
          26.32,
          4.15,
          3.04,
          30.08,
          2.41,
          4.08,
          1.86
         ],
         "y": [
          "Tradition",
          "Power: resources",
          "none",
          "Self-direction: thought",
          "Universalism: concern",
          "Humility",
          "Universalism: nature",
          "Benevolence: dependability",
          "Hedonism",
          "Self-direction: action",
          "Security: personal",
          "Conformity: rules",
          "Universalism: objectivity",
          "Benevolence: caring",
          "Achievement"
         ]
        }
       ],
       "layout": {
        "barmode": "stack",
        "height": 750,
        "hoverlabel": {
         "bgcolor": "white",
         "font": {
          "family": "Rockwell",
          "size": 16
         }
        },
        "legend": {
         "title": {
          "text": "<b>Global Topic Representation"
         }
        },
        "template": {
         "data": {
          "bar": [
           {
            "error_x": {
             "color": "rgb(36,36,36)"
            },
            "error_y": {
             "color": "rgb(36,36,36)"
            },
            "marker": {
             "line": {
              "color": "white",
              "width": 0.5
             },
             "pattern": {
              "fillmode": "overlay",
              "size": 10,
              "solidity": 0.2
             }
            },
            "type": "bar"
           }
          ],
          "barpolar": [
           {
            "marker": {
             "line": {
              "color": "white",
              "width": 0.5
             },
             "pattern": {
              "fillmode": "overlay",
              "size": 10,
              "solidity": 0.2
             }
            },
            "type": "barpolar"
           }
          ],
          "carpet": [
           {
            "aaxis": {
             "endlinecolor": "rgb(36,36,36)",
             "gridcolor": "white",
             "linecolor": "white",
             "minorgridcolor": "white",
             "startlinecolor": "rgb(36,36,36)"
            },
            "baxis": {
             "endlinecolor": "rgb(36,36,36)",
             "gridcolor": "white",
             "linecolor": "white",
             "minorgridcolor": "white",
             "startlinecolor": "rgb(36,36,36)"
            },
            "type": "carpet"
           }
          ],
          "choropleth": [
           {
            "colorbar": {
             "outlinewidth": 1,
             "tickcolor": "rgb(36,36,36)",
             "ticks": "outside"
            },
            "type": "choropleth"
           }
          ],
          "contour": [
           {
            "colorbar": {
             "outlinewidth": 1,
             "tickcolor": "rgb(36,36,36)",
             "ticks": "outside"
            },
            "colorscale": [
             [
              0,
              "#440154"
             ],
             [
              0.1111111111111111,
              "#482878"
             ],
             [
              0.2222222222222222,
              "#3e4989"
             ],
             [
              0.3333333333333333,
              "#31688e"
             ],
             [
              0.4444444444444444,
              "#26828e"
             ],
             [
              0.5555555555555556,
              "#1f9e89"
             ],
             [
              0.6666666666666666,
              "#35b779"
             ],
             [
              0.7777777777777778,
              "#6ece58"
             ],
             [
              0.8888888888888888,
              "#b5de2b"
             ],
             [
              1,
              "#fde725"
             ]
            ],
            "type": "contour"
           }
          ],
          "contourcarpet": [
           {
            "colorbar": {
             "outlinewidth": 1,
             "tickcolor": "rgb(36,36,36)",
             "ticks": "outside"
            },
            "type": "contourcarpet"
           }
          ],
          "heatmap": [
           {
            "colorbar": {
             "outlinewidth": 1,
             "tickcolor": "rgb(36,36,36)",
             "ticks": "outside"
            },
            "colorscale": [
             [
              0,
              "#440154"
             ],
             [
              0.1111111111111111,
              "#482878"
             ],
             [
              0.2222222222222222,
              "#3e4989"
             ],
             [
              0.3333333333333333,
              "#31688e"
             ],
             [
              0.4444444444444444,
              "#26828e"
             ],
             [
              0.5555555555555556,
              "#1f9e89"
             ],
             [
              0.6666666666666666,
              "#35b779"
             ],
             [
              0.7777777777777778,
              "#6ece58"
             ],
             [
              0.8888888888888888,
              "#b5de2b"
             ],
             [
              1,
              "#fde725"
             ]
            ],
            "type": "heatmap"
           }
          ],
          "heatmapgl": [
           {
            "colorbar": {
             "outlinewidth": 1,
             "tickcolor": "rgb(36,36,36)",
             "ticks": "outside"
            },
            "colorscale": [
             [
              0,
              "#440154"
             ],
             [
              0.1111111111111111,
              "#482878"
             ],
             [
              0.2222222222222222,
              "#3e4989"
             ],
             [
              0.3333333333333333,
              "#31688e"
             ],
             [
              0.4444444444444444,
              "#26828e"
             ],
             [
              0.5555555555555556,
              "#1f9e89"
             ],
             [
              0.6666666666666666,
              "#35b779"
             ],
             [
              0.7777777777777778,
              "#6ece58"
             ],
             [
              0.8888888888888888,
              "#b5de2b"
             ],
             [
              1,
              "#fde725"
             ]
            ],
            "type": "heatmapgl"
           }
          ],
          "histogram": [
           {
            "marker": {
             "line": {
              "color": "white",
              "width": 0.6
             }
            },
            "type": "histogram"
           }
          ],
          "histogram2d": [
           {
            "colorbar": {
             "outlinewidth": 1,
             "tickcolor": "rgb(36,36,36)",
             "ticks": "outside"
            },
            "colorscale": [
             [
              0,
              "#440154"
             ],
             [
              0.1111111111111111,
              "#482878"
             ],
             [
              0.2222222222222222,
              "#3e4989"
             ],
             [
              0.3333333333333333,
              "#31688e"
             ],
             [
              0.4444444444444444,
              "#26828e"
             ],
             [
              0.5555555555555556,
              "#1f9e89"
             ],
             [
              0.6666666666666666,
              "#35b779"
             ],
             [
              0.7777777777777778,
              "#6ece58"
             ],
             [
              0.8888888888888888,
              "#b5de2b"
             ],
             [
              1,
              "#fde725"
             ]
            ],
            "type": "histogram2d"
           }
          ],
          "histogram2dcontour": [
           {
            "colorbar": {
             "outlinewidth": 1,
             "tickcolor": "rgb(36,36,36)",
             "ticks": "outside"
            },
            "colorscale": [
             [
              0,
              "#440154"
             ],
             [
              0.1111111111111111,
              "#482878"
             ],
             [
              0.2222222222222222,
              "#3e4989"
             ],
             [
              0.3333333333333333,
              "#31688e"
             ],
             [
              0.4444444444444444,
              "#26828e"
             ],
             [
              0.5555555555555556,
              "#1f9e89"
             ],
             [
              0.6666666666666666,
              "#35b779"
             ],
             [
              0.7777777777777778,
              "#6ece58"
             ],
             [
              0.8888888888888888,
              "#b5de2b"
             ],
             [
              1,
              "#fde725"
             ]
            ],
            "type": "histogram2dcontour"
           }
          ],
          "mesh3d": [
           {
            "colorbar": {
             "outlinewidth": 1,
             "tickcolor": "rgb(36,36,36)",
             "ticks": "outside"
            },
            "type": "mesh3d"
           }
          ],
          "parcoords": [
           {
            "line": {
             "colorbar": {
              "outlinewidth": 1,
              "tickcolor": "rgb(36,36,36)",
              "ticks": "outside"
             }
            },
            "type": "parcoords"
           }
          ],
          "pie": [
           {
            "automargin": true,
            "type": "pie"
           }
          ],
          "scatter": [
           {
            "fillpattern": {
             "fillmode": "overlay",
             "size": 10,
             "solidity": 0.2
            },
            "type": "scatter"
           }
          ],
          "scatter3d": [
           {
            "line": {
             "colorbar": {
              "outlinewidth": 1,
              "tickcolor": "rgb(36,36,36)",
              "ticks": "outside"
             }
            },
            "marker": {
             "colorbar": {
              "outlinewidth": 1,
              "tickcolor": "rgb(36,36,36)",
              "ticks": "outside"
             }
            },
            "type": "scatter3d"
           }
          ],
          "scattercarpet": [
           {
            "marker": {
             "colorbar": {
              "outlinewidth": 1,
              "tickcolor": "rgb(36,36,36)",
              "ticks": "outside"
             }
            },
            "type": "scattercarpet"
           }
          ],
          "scattergeo": [
           {
            "marker": {
             "colorbar": {
              "outlinewidth": 1,
              "tickcolor": "rgb(36,36,36)",
              "ticks": "outside"
             }
            },
            "type": "scattergeo"
           }
          ],
          "scattergl": [
           {
            "marker": {
             "colorbar": {
              "outlinewidth": 1,
              "tickcolor": "rgb(36,36,36)",
              "ticks": "outside"
             }
            },
            "type": "scattergl"
           }
          ],
          "scattermapbox": [
           {
            "marker": {
             "colorbar": {
              "outlinewidth": 1,
              "tickcolor": "rgb(36,36,36)",
              "ticks": "outside"
             }
            },
            "type": "scattermapbox"
           }
          ],
          "scatterpolar": [
           {
            "marker": {
             "colorbar": {
              "outlinewidth": 1,
              "tickcolor": "rgb(36,36,36)",
              "ticks": "outside"
             }
            },
            "type": "scatterpolar"
           }
          ],
          "scatterpolargl": [
           {
            "marker": {
             "colorbar": {
              "outlinewidth": 1,
              "tickcolor": "rgb(36,36,36)",
              "ticks": "outside"
             }
            },
            "type": "scatterpolargl"
           }
          ],
          "scatterternary": [
           {
            "marker": {
             "colorbar": {
              "outlinewidth": 1,
              "tickcolor": "rgb(36,36,36)",
              "ticks": "outside"
             }
            },
            "type": "scatterternary"
           }
          ],
          "surface": [
           {
            "colorbar": {
             "outlinewidth": 1,
             "tickcolor": "rgb(36,36,36)",
             "ticks": "outside"
            },
            "colorscale": [
             [
              0,
              "#440154"
             ],
             [
              0.1111111111111111,
              "#482878"
             ],
             [
              0.2222222222222222,
              "#3e4989"
             ],
             [
              0.3333333333333333,
              "#31688e"
             ],
             [
              0.4444444444444444,
              "#26828e"
             ],
             [
              0.5555555555555556,
              "#1f9e89"
             ],
             [
              0.6666666666666666,
              "#35b779"
             ],
             [
              0.7777777777777778,
              "#6ece58"
             ],
             [
              0.8888888888888888,
              "#b5de2b"
             ],
             [
              1,
              "#fde725"
             ]
            ],
            "type": "surface"
           }
          ],
          "table": [
           {
            "cells": {
             "fill": {
              "color": "rgb(237,237,237)"
             },
             "line": {
              "color": "white"
             }
            },
            "header": {
             "fill": {
              "color": "rgb(217,217,217)"
             },
             "line": {
              "color": "white"
             }
            },
            "type": "table"
           }
          ]
         },
         "layout": {
          "annotationdefaults": {
           "arrowhead": 0,
           "arrowwidth": 1
          },
          "autotypenumbers": "strict",
          "coloraxis": {
           "colorbar": {
            "outlinewidth": 1,
            "tickcolor": "rgb(36,36,36)",
            "ticks": "outside"
           }
          },
          "colorscale": {
           "diverging": [
            [
             0,
             "rgb(103,0,31)"
            ],
            [
             0.1,
             "rgb(178,24,43)"
            ],
            [
             0.2,
             "rgb(214,96,77)"
            ],
            [
             0.3,
             "rgb(244,165,130)"
            ],
            [
             0.4,
             "rgb(253,219,199)"
            ],
            [
             0.5,
             "rgb(247,247,247)"
            ],
            [
             0.6,
             "rgb(209,229,240)"
            ],
            [
             0.7,
             "rgb(146,197,222)"
            ],
            [
             0.8,
             "rgb(67,147,195)"
            ],
            [
             0.9,
             "rgb(33,102,172)"
            ],
            [
             1,
             "rgb(5,48,97)"
            ]
           ],
           "sequential": [
            [
             0,
             "#440154"
            ],
            [
             0.1111111111111111,
             "#482878"
            ],
            [
             0.2222222222222222,
             "#3e4989"
            ],
            [
             0.3333333333333333,
             "#31688e"
            ],
            [
             0.4444444444444444,
             "#26828e"
            ],
            [
             0.5555555555555556,
             "#1f9e89"
            ],
            [
             0.6666666666666666,
             "#35b779"
            ],
            [
             0.7777777777777778,
             "#6ece58"
            ],
            [
             0.8888888888888888,
             "#b5de2b"
            ],
            [
             1,
             "#fde725"
            ]
           ],
           "sequentialminus": [
            [
             0,
             "#440154"
            ],
            [
             0.1111111111111111,
             "#482878"
            ],
            [
             0.2222222222222222,
             "#3e4989"
            ],
            [
             0.3333333333333333,
             "#31688e"
            ],
            [
             0.4444444444444444,
             "#26828e"
            ],
            [
             0.5555555555555556,
             "#1f9e89"
            ],
            [
             0.6666666666666666,
             "#35b779"
            ],
            [
             0.7777777777777778,
             "#6ece58"
            ],
            [
             0.8888888888888888,
             "#b5de2b"
            ],
            [
             1,
             "#fde725"
            ]
           ]
          },
          "colorway": [
           "#1F77B4",
           "#FF7F0E",
           "#2CA02C",
           "#D62728",
           "#9467BD",
           "#8C564B",
           "#E377C2",
           "#7F7F7F",
           "#BCBD22",
           "#17BECF"
          ],
          "font": {
           "color": "rgb(36,36,36)"
          },
          "geo": {
           "bgcolor": "white",
           "lakecolor": "white",
           "landcolor": "white",
           "showlakes": true,
           "showland": true,
           "subunitcolor": "white"
          },
          "hoverlabel": {
           "align": "left"
          },
          "hovermode": "closest",
          "mapbox": {
           "style": "light"
          },
          "paper_bgcolor": "white",
          "plot_bgcolor": "white",
          "polar": {
           "angularaxis": {
            "gridcolor": "rgb(232,232,232)",
            "linecolor": "rgb(36,36,36)",
            "showgrid": false,
            "showline": true,
            "ticks": "outside"
           },
           "bgcolor": "white",
           "radialaxis": {
            "gridcolor": "rgb(232,232,232)",
            "linecolor": "rgb(36,36,36)",
            "showgrid": false,
            "showline": true,
            "ticks": "outside"
           }
          },
          "scene": {
           "xaxis": {
            "backgroundcolor": "white",
            "gridcolor": "rgb(232,232,232)",
            "gridwidth": 2,
            "linecolor": "rgb(36,36,36)",
            "showbackground": true,
            "showgrid": false,
            "showline": true,
            "ticks": "outside",
            "zeroline": false,
            "zerolinecolor": "rgb(36,36,36)"
           },
           "yaxis": {
            "backgroundcolor": "white",
            "gridcolor": "rgb(232,232,232)",
            "gridwidth": 2,
            "linecolor": "rgb(36,36,36)",
            "showbackground": true,
            "showgrid": false,
            "showline": true,
            "ticks": "outside",
            "zeroline": false,
            "zerolinecolor": "rgb(36,36,36)"
           },
           "zaxis": {
            "backgroundcolor": "white",
            "gridcolor": "rgb(232,232,232)",
            "gridwidth": 2,
            "linecolor": "rgb(36,36,36)",
            "showbackground": true,
            "showgrid": false,
            "showline": true,
            "ticks": "outside",
            "zeroline": false,
            "zerolinecolor": "rgb(36,36,36)"
           }
          },
          "shapedefaults": {
           "fillcolor": "black",
           "line": {
            "width": 0
           },
           "opacity": 0.3
          },
          "ternary": {
           "aaxis": {
            "gridcolor": "rgb(232,232,232)",
            "linecolor": "rgb(36,36,36)",
            "showgrid": false,
            "showline": true,
            "ticks": "outside"
           },
           "baxis": {
            "gridcolor": "rgb(232,232,232)",
            "linecolor": "rgb(36,36,36)",
            "showgrid": false,
            "showline": true,
            "ticks": "outside"
           },
           "bgcolor": "white",
           "caxis": {
            "gridcolor": "rgb(232,232,232)",
            "linecolor": "rgb(36,36,36)",
            "showgrid": false,
            "showline": true,
            "ticks": "outside"
           }
          },
          "title": {
           "x": 0.05
          },
          "xaxis": {
           "automargin": true,
           "gridcolor": "rgb(232,232,232)",
           "linecolor": "rgb(36,36,36)",
           "showgrid": false,
           "showline": true,
           "ticks": "outside",
           "title": {
            "standoff": 15
           },
           "zeroline": false,
           "zerolinecolor": "rgb(36,36,36)"
          },
          "yaxis": {
           "automargin": true,
           "gridcolor": "rgb(232,232,232)",
           "linecolor": "rgb(36,36,36)",
           "showgrid": false,
           "showline": true,
           "ticks": "outside",
           "title": {
            "standoff": 15
           },
           "zeroline": false,
           "zerolinecolor": "rgb(36,36,36)"
          }
         }
        },
        "title": {
         "font": {
          "color": "Black",
          "size": 22
         },
         "text": "Topics per Human Values",
         "x": 0.4,
         "xanchor": "center",
         "y": 0.95,
         "yanchor": "top"
        },
        "width": 1150,
        "xaxis": {
         "showgrid": true,
         "title": {
          "text": "Frequency"
         }
        },
        "yaxis": {
         "showgrid": true,
         "title": {
          "text": "Class"
         }
        }
       }
      }
     },
     "metadata": {},
     "output_type": "display_data"
    }
   ],
   "source": [
    "### Graph barchart topics by schwartz value\n",
    "\n",
    "# Filter out rows where 'schwartz_label' is NaN\n",
    "# filtered_df = df_full_commented[pd.notna(df_full_commented['schwartz_label'])]\n",
    "# Change nan value by string value\n",
    "df_full_commented['schwartz_label'] = df_full_commented['schwartz_label'].fillna('none')\n",
    "\n",
    "# visualize the topic representation of major topics per human values (20 different values):\n",
    "fig = create_chart_per_class(df_full_commented, topic_model_merged, \"schwartz_label\", \n",
    "                             custom_labels=True, \n",
    "                             percentage_by=\"Class\",\n",
    "                             stacked=True,\n",
    "                             title=\"Topics per Human Values\", \n",
    "                             sortedBy=\"Frequency\", \n",
    "                             width=1150, height=750)\n",
    "# Save the figure as an HTML file\n",
    "# save_graph_html(fig, \"../data/graphs/Schwartz_Analysis/repartition_per_topic/global\", \"model_merged_per_humanvalue_class_pct\")\n",
    "fig"
   ]
  },
  {
   "cell_type": "code",
   "execution_count": 23,
   "metadata": {},
   "outputs": [
    {
     "data": {
      "application/vnd.plotly.v1+json": {
       "config": {
        "plotlyServerURL": "https://plot.ly"
       },
       "data": [
        {
         "hoverinfo": "text",
         "hovertext": [
          "<b>Topic Product Quality & Sales</b><br>Words: delivery time, products, market, deliveries, stock<br>Count: 2<br>Percentage: 0.02%",
          "<b>Topic Product Quality & Sales</b><br>Words: prices, discounts, awful, sales, price<br>Count: 3<br>Percentage: 0.02%",
          "<b>Topic Product Quality & Sales</b><br>Words: delivery time, delays, reporting, service, sales<br>Count: 3<br>Percentage: 0.02%",
          "<b>Topic Product Quality & Sales</b><br>Words: deliveries, delivery time, delivery, orders, deliver<br>Count: 5<br>Percentage: 0.04%",
          "<b>Topic Product Quality & Sales</b><br>Words: deliveries, quality, delivery time, delivery, issues<br>Count: 7<br>Percentage: 0.05%",
          "<b>Topic Product Quality & Sales</b><br>Words: resellers, products, product, vw3a3408, customers<br>Count: 8<br>Percentage: 0.06%",
          "<b>Topic Product Quality & Sales</b><br>Words: delivery, quality, manufacturer, customer, bpx<br>Count: 12<br>Percentage: 0.09%",
          "<b>Topic Product Quality & Sales</b><br>Words: manufacturers, frequency converters, contact person, electric, accessories<br>Count: 15<br>Percentage: 0.11%",
          "<b>Topic Product Quality & Sales</b><br>Words: plc, industrial, delivery, customers, problems<br>Count: 17<br>Percentage: 0.13%",
          "<b>Topic Product Quality & Sales</b><br>Words: delivery date, orders, invoice, delivery, ordering<br>Count: 18<br>Percentage: 0.14%",
          "<b>Topic Product Quality & Sales</b><br>Words: electricdirect, manufacturer, electric, prices, competitors<br>Count: 22<br>Percentage: 0.17%",
          "<b>Topic Product Quality & Sales</b><br>Words: plcs, plc, electrical, product line, electric<br>Count: 39<br>Percentage: 0.3%",
          "<b>Topic Product Quality & Sales</b><br>Words: quality, sales, customer service, products, customers<br>Count: 48<br>Percentage: 0.37%",
          "<b>Topic Product Quality & Sales</b><br>Words: technical support, electrical, electric, promotional, prices<br>Count: 76<br>Percentage: 0.58%",
          "<b>Topic Product Quality & Sales</b><br>Words: delays, customer service, orders, deliveries, customers<br>Count: 78<br>Percentage: 0.6%",
          "<b>Topic Product Quality & Sales</b><br>Words: deliveries, technical support, plc, sales, customer service<br>Count: 198<br>Percentage: 1.51%",
          "<b>Topic Product Quality & Sales</b><br>Words: logistics, deliveries, plc, delivery time, distributor<br>Count: 211<br>Percentage: 1.61%",
          "<b>Topic Product Quality & Sales</b><br>Words: distributor, customers, sales, delivery time, delivery<br>Count: 232<br>Percentage: 1.77%",
          "<b>Topic Product Quality & Sales</b><br>Words: customer service, customer, electric, products, sales representative<br>Count: 255<br>Percentage: 1.95%",
          "<b>Topic Product Quality & Sales</b><br>Words: customers, sales, customer, deliveries, electric<br>Count: 480<br>Percentage: 3.66%",
          "<b>Topic Product Quality & Sales</b><br>Words: deliveries, customers, service, sales, customer<br>Count: 688<br>Percentage: 5.25%",
          "<b>Topic Product Quality & Sales</b><br>Words: deliveries, delivery time, delivery, sales, customers<br>Count: 2325<br>Percentage: 17.74%",
          "<b>Topic Product Quality & Sales</b><br>Words: technical support, customer service, reliable, contactors, products<br>Count: 3084<br>Percentage: 23.53%",
          "<b>Topic Product Quality & Sales</b><br>Words: delivery time, delivery date, deliveries, sales, orders<br>Count: 5281<br>Percentage: 40.29%"
         ],
         "marker": {
          "color": "#E69F00"
         },
         "name": "Product Quality & Sales",
         "orientation": "h",
         "type": "bar",
         "visible": true,
         "x": [
          0.02,
          0.02,
          0.02,
          0.04,
          0.05,
          0.06,
          0.09,
          0.11,
          0.13,
          0.14,
          0.17,
          0.3,
          0.37,
          0.58,
          0.6,
          1.51,
          1.61,
          1.77,
          1.95,
          3.66,
          5.25,
          17.74,
          23.53,
          40.29
         ],
         "y": [
          "nervousness",
          "disgust",
          "excitement",
          "amusement",
          "embarrassment",
          "sadness",
          "fear",
          "surprise",
          "remorse",
          "realization",
          "curiosity",
          "love",
          "caring",
          "desire",
          "annoyance",
          "gratitude",
          "optimism",
          "confusion",
          "joy",
          "disapproval",
          "disappointment",
          "approval",
          "admiration",
          "neutral"
         ]
        },
        {
         "hoverinfo": "text",
         "hovertext": [
          "<b>Topic Tech Support & Problem Resolution</b><br>Words: questions, stupid, stop, question, inquiry<br>Count: 1<br>Percentage: 0.03%",
          "<b>Topic Tech Support & Problem Resolution</b><br>Words: accessibility, support, technical support, comments, concrete<br>Count: 1<br>Percentage: 0.03%",
          "<b>Topic Tech Support & Problem Resolution</b><br>Words: promptly, complete, realization, politely, immediate<br>Count: 1<br>Percentage: 0.03%",
          "<b>Topic Tech Support & Problem Resolution</b><br>Words: response time, timer, response, respond, responded<br>Count: 1<br>Percentage: 0.03%",
          "<b>Topic Tech Support & Problem Resolution</b><br>Words: technical support, technical, support, tech, reactive<br>Count: 1<br>Percentage: 0.03%",
          "<b>Topic Tech Support & Problem Resolution</b><br>Words: technical support, responsiveness, technical, tech, support<br>Count: 2<br>Percentage: 0.06%",
          "<b>Topic Tech Support & Problem Resolution</b><br>Words: support, technical support, satisfied, assistance, helped<br>Count: 2<br>Percentage: 0.06%",
          "<b>Topic Tech Support & Problem Resolution</b><br>Words: technical support, enthusiastic, support, technical, expertise<br>Count: 3<br>Percentage: 0.09%",
          "<b>Topic Tech Support & Problem Resolution</b><br>Words: competent, thorough, accurately, unexpected, surprised<br>Count: 4<br>Percentage: 0.12%",
          "<b>Topic Tech Support & Problem Resolution</b><br>Words: miserable, support, pity, assistance, assisted<br>Count: 4<br>Percentage: 0.12%",
          "<b>Topic Tech Support & Problem Resolution</b><br>Words: technical support, support, hoped, assistance, desired<br>Count: 5<br>Percentage: 0.15%",
          "<b>Topic Tech Support & Problem Resolution</b><br>Words: technical support, polite, technical, technicians, technician<br>Count: 8<br>Percentage: 0.25%",
          "<b>Topic Tech Support & Problem Resolution</b><br>Words: technical support, technical, technicians, technician, software<br>Count: 8<br>Percentage: 0.25%",
          "<b>Topic Tech Support & Problem Resolution</b><br>Words: technical support, technical, issues, technicians, problems<br>Count: 20<br>Percentage: 0.62%",
          "<b>Topic Tech Support & Problem Resolution</b><br>Words: technical support, response time, technicians, technical, problems<br>Count: 27<br>Percentage: 0.83%",
          "<b>Topic Tech Support & Problem Resolution</b><br>Words: response, technical support, complaint, responded, quick response<br>Count: 37<br>Percentage: 1.14%",
          "<b>Topic Tech Support & Problem Resolution</b><br>Words: assistance, helped, helps, helpful, helpfull<br>Count: 41<br>Percentage: 1.27%",
          "<b>Topic Tech Support & Problem Resolution</b><br>Words: technical support, support, technical, technicians, technician<br>Count: 52<br>Percentage: 1.61%",
          "<b>Topic Tech Support & Problem Resolution</b><br>Words: technical support, technical, support, technicians, technician<br>Count: 122<br>Percentage: 3.77%",
          "<b>Topic Tech Support & Problem Resolution</b><br>Words: technician, technicians, technical support, tech, technical<br>Count: 682<br>Percentage: 21.06%",
          "<b>Topic Tech Support & Problem Resolution</b><br>Words: quick response, answered, answers, response, precise<br>Count: 739<br>Percentage: 22.82%",
          "<b>Topic Tech Support & Problem Resolution</b><br>Words: technical support, technician, technical, technicians, tech<br>Count: 1477<br>Percentage: 45.61%"
         ],
         "marker": {
          "color": "#56B4E9"
         },
         "name": "Tech Support & Problem Resolution",
         "orientation": "h",
         "type": "bar",
         "visible": "legendonly",
         "x": [
          0.03,
          0.03,
          0.03,
          0.03,
          0.03,
          0.06,
          0.06,
          0.09,
          0.12,
          0.12,
          0.15,
          0.25,
          0.25,
          0.62,
          0.83,
          1.14,
          1.27,
          1.61,
          3.77,
          21.06,
          22.82,
          45.61
         ],
         "y": [
          "anger",
          "love",
          "realization",
          "curiosity",
          "nervousness",
          "fear",
          "remorse",
          "excitement",
          "surprise",
          "sadness",
          "desire",
          "annoyance",
          "optimism",
          "confusion",
          "disapproval",
          "joy",
          "caring",
          "disappointment",
          "gratitude",
          "admiration",
          "approval",
          "neutral"
         ]
        },
        {
         "hoverinfo": "text",
         "hovertext": [
          "<b>Topic UPS & Touch Panels</b><br>Words: screen, outdated, indecent, replacement, touch panel<br>Count: 1<br>Percentage: 0.05%",
          "<b>Topic UPS & Touch Panels</b><br>Words: batteries, battery, ups, replaced, removed<br>Count: 1<br>Percentage: 0.05%",
          "<b>Topic UPS & Touch Panels</b><br>Words: call back, call, returned, quickly, upss<br>Count: 2<br>Percentage: 0.11%",
          "<b>Topic UPS & Touch Panels</b><br>Words: telephone, phone, hearing, cable, call<br>Count: 2<br>Percentage: 0.11%",
          "<b>Topic UPS & Touch Panels</b><br>Words: apc, ups, upss, mitsubishi, technical support<br>Count: 2<br>Percentage: 0.11%",
          "<b>Topic UPS & Touch Panels</b><br>Words: workaround, defective, issue, bug, call back<br>Count: 6<br>Percentage: 0.32%",
          "<b>Topic UPS & Touch Panels</b><br>Words: touch panel, manual, panel, screen, interface<br>Count: 7<br>Percentage: 0.38%",
          "<b>Topic UPS & Touch Panels</b><br>Words: touch panel, touch, pfxgp4401tad, digital, panel<br>Count: 7<br>Percentage: 0.38%",
          "<b>Topic UPS & Touch Panels</b><br>Words: technical support, repairs, contact, touch panel, resolved<br>Count: 10<br>Percentage: 0.54%",
          "<b>Topic UPS & Touch Panels</b><br>Words: issue, resolved, error, problem, connecting<br>Count: 10<br>Percentage: 0.54%",
          "<b>Topic UPS & Touch Panels</b><br>Words: touch panel, call back, call, troubleshooting, troubleshoot<br>Count: 15<br>Percentage: 0.8%",
          "<b>Topic UPS & Touch Panels</b><br>Words: touch panel, panel, complaint, firmware, ups<br>Count: 19<br>Percentage: 1.02%",
          "<b>Topic UPS & Touch Panels</b><br>Words: touch panel, touch, panel, device, screen<br>Count: 22<br>Percentage: 1.18%",
          "<b>Topic UPS & Touch Panels</b><br>Words: gp4301, gp430, gp4000, dell, touch panel<br>Count: 26<br>Percentage: 1.39%",
          "<b>Topic UPS & Touch Panels</b><br>Words: touch panel, ups, panel, repair, touch<br>Count: 43<br>Percentage: 2.3%",
          "<b>Topic UPS & Touch Panels</b><br>Words: battery, bb3, software, gp470, batteries<br>Count: 52<br>Percentage: 2.79%",
          "<b>Topic UPS & Touch Panels</b><br>Words: ups, upss, troubleshooting, support, issue<br>Count: 115<br>Percentage: 6.16%",
          "<b>Topic UPS & Touch Panels</b><br>Words: ups, upss, technical support, warranty, customer<br>Count: 134<br>Percentage: 7.18%",
          "<b>Topic UPS & Touch Panels</b><br>Words: troubleshooting, repair, support, issue, ups<br>Count: 152<br>Percentage: 8.15%",
          "<b>Topic UPS & Touch Panels</b><br>Words: touch panel, panel, ups, touch, upss<br>Count: 335<br>Percentage: 17.95%",
          "<b>Topic UPS & Touch Panels</b><br>Words: touch panel, ups, panel, replacement, maintenance<br>Count: 905<br>Percentage: 48.5%"
         ],
         "marker": {
          "color": "#009E73"
         },
         "name": "UPS & Touch Panels",
         "orientation": "h",
         "type": "bar",
         "visible": "legendonly",
         "x": [
          0.05,
          0.05,
          0.11,
          0.11,
          0.11,
          0.32,
          0.38,
          0.38,
          0.54,
          0.54,
          0.8,
          1.02,
          1.18,
          1.39,
          2.3,
          2.79,
          6.16,
          7.18,
          8.15,
          17.95,
          48.5
         ],
         "y": [
          "disgust",
          "excitement",
          "surprise",
          "sadness",
          "love",
          "remorse",
          "curiosity",
          "nervousness",
          "caring",
          "realization",
          "annoyance",
          "joy",
          "desire",
          "optimism",
          "confusion",
          "disapproval",
          "disappointment",
          "admiration",
          "gratitude",
          "approval",
          "neutral"
         ]
        },
        {
         "hoverinfo": "text",
         "hovertext": [
          "<b>Topic Communication, Guidance & Feedback</b><br>Words: carpentry, efficient, efficiency, fast, quickness<br>Count: 1<br>Percentage: 0.14%",
          "<b>Topic Communication, Guidance & Feedback</b><br>Words: health, team, business, professionalism, kindness<br>Count: 1<br>Percentage: 0.14%",
          "<b>Topic Communication, Guidance & Feedback</b><br>Words: feedback, lack, responses, responsiveness, promptness<br>Count: 1<br>Percentage: 0.14%",
          "<b>Topic Communication, Guidance & Feedback</b><br>Words: processing, feedback, speed, efficiency, efficient<br>Count: 1<br>Percentage: 0.14%",
          "<b>Topic Communication, Guidance & Feedback</b><br>Words: user friendly, uncomplicated, confusing, friendly, comments<br>Count: 1<br>Percentage: 0.14%",
          "<b>Topic Communication, Guidance & Feedback</b><br>Words: message, flexible, want, prompt, display<br>Count: 2<br>Percentage: 0.27%",
          "<b>Topic Communication, Guidance & Feedback</b><br>Words: feedback, attention, responses, application, promptness<br>Count: 2<br>Percentage: 0.27%",
          "<b>Topic Communication, Guidance & Feedback</b><br>Words: responsiveness, feedback, responsive, slowness, quality<br>Count: 7<br>Percentage: 0.96%",
          "<b>Topic Communication, Guidance & Feedback</b><br>Words: advice, tips, guidance, helpful, expert<br>Count: 8<br>Percentage: 1.09%",
          "<b>Topic Communication, Guidance & Feedback</b><br>Words: responsiveness, feedback, responding, perseverance, response<br>Count: 16<br>Percentage: 2.19%",
          "<b>Topic Communication, Guidance & Feedback</b><br>Words: advice, advise, guidance, competent, practice<br>Count: 65<br>Percentage: 8.88%",
          "<b>Topic Communication, Guidance & Feedback</b><br>Words: responsiveness, responsively, responsive, attention, effective<br>Count: 124<br>Percentage: 16.94%",
          "<b>Topic Communication, Guidance & Feedback</b><br>Words: quick response, response, quick, quickness, quickly<br>Count: 503<br>Percentage: 68.72%"
         ],
         "marker": {
          "color": "#F0E442"
         },
         "name": "Communication, Guidance & Feedback",
         "orientation": "h",
         "type": "bar",
         "visible": "legendonly",
         "x": [
          0.14,
          0.14,
          0.14,
          0.14,
          0.14,
          0.27,
          0.27,
          0.96,
          1.09,
          2.19,
          8.88,
          16.94,
          68.72
         ],
         "y": [
          "optimism",
          "love",
          "annoyance",
          "disapproval",
          "confusion",
          "desire",
          "joy",
          "disappointment",
          "caring",
          "gratitude",
          "approval",
          "admiration",
          "neutral"
         ]
        },
        {
         "hoverinfo": "text",
         "hovertext": [
          "<b>Topic Inverters & Drives Support</b><br>Words: distributor, drives, speed drives, products, sales<br>Count: 1<br>Percentage: 0.18%",
          "<b>Topic Inverters & Drives Support</b><br>Words: inverters, inverter, atv71, pushback, atv630<br>Count: 1<br>Percentage: 0.18%",
          "<b>Topic Inverters & Drives Support</b><br>Words: atv320, vw3a1101, atv630, atv, catalog<br>Count: 1<br>Percentage: 0.18%",
          "<b>Topic Inverters & Drives Support</b><br>Words: atv320, inverters, inverter, atv, mitsubishi<br>Count: 2<br>Percentage: 0.36%",
          "<b>Topic Inverters & Drives Support</b><br>Words: customer service, drives, problems, customer, atv320<br>Count: 2<br>Percentage: 0.36%",
          "<b>Topic Inverters & Drives Support</b><br>Words: inverter, inverters, frequency inverters, invertor, electrical<br>Count: 3<br>Percentage: 0.54%",
          "<b>Topic Inverters & Drives Support</b><br>Words: atv312, atv, complaints, reliability, inverters<br>Count: 4<br>Percentage: 0.72%",
          "<b>Topic Inverters & Drives Support</b><br>Words: inverter, inverters, drives, drive, sales service<br>Count: 5<br>Percentage: 0.9%",
          "<b>Topic Inverters & Drives Support</b><br>Words: inverter, inverters, sales service, atv320, drives<br>Count: 5<br>Percentage: 0.9%",
          "<b>Topic Inverters & Drives Support</b><br>Words: drives, inverters, inverter, drive, manufacturer<br>Count: 11<br>Percentage: 1.99%",
          "<b>Topic Inverters & Drives Support</b><br>Words: inverters, inverter, invertor, atv320, motordrive<br>Count: 13<br>Percentage: 2.35%",
          "<b>Topic Inverters & Drives Support</b><br>Words: inverters, inverter, brands, consumers, quality<br>Count: 14<br>Percentage: 2.53%",
          "<b>Topic Inverters & Drives Support</b><br>Words: technical support, inverter, inverters, converters, drives<br>Count: 18<br>Percentage: 3.25%",
          "<b>Topic Inverters & Drives Support</b><br>Words: drives, speed drives, drive, altivar, atv320<br>Count: 27<br>Percentage: 4.87%",
          "<b>Topic Inverters & Drives Support</b><br>Words: atv320, atv930, atv630, atv32, atv31<br>Count: 34<br>Percentage: 6.14%",
          "<b>Topic Inverters & Drives Support</b><br>Words: inverters, inverter, frequency inverters, drives, atv320<br>Count: 88<br>Percentage: 15.88%",
          "<b>Topic Inverters & Drives Support</b><br>Words: technical support, inverter, inverters, customer support, technician<br>Count: 96<br>Percentage: 17.33%",
          "<b>Topic Inverters & Drives Support</b><br>Words: inverter, inverters, technical support, frequency inverters, factory<br>Count: 229<br>Percentage: 41.34%"
         ],
         "marker": {
          "color": "#D55E00"
         },
         "name": "Inverters & Drives Support",
         "orientation": "h",
         "type": "bar",
         "visible": "legendonly",
         "x": [
          0.18,
          0.18,
          0.18,
          0.36,
          0.36,
          0.54,
          0.72,
          0.9,
          0.9,
          1.99,
          2.35,
          2.53,
          3.25,
          4.87,
          6.14,
          15.88,
          17.33,
          41.34
         ],
         "y": [
          "love",
          "realization",
          "surprise",
          "nervousness",
          "remorse",
          "caring",
          "curiosity",
          "desire",
          "annoyance",
          "joy",
          "confusion",
          "optimism",
          "disapproval",
          "disappointment",
          "gratitude",
          "approval",
          "admiration",
          "neutral"
         ]
        },
        {
         "hoverinfo": "text",
         "hovertext": [
          "<b>Topic Quotations & Offers</b><br>Words: quotations, quotation, quoting, quotes, quoted<br>Count: 1<br>Percentage: 0.2%",
          "<b>Topic Quotations & Offers</b><br>Words: delivery time, delivery, products, quotes, quoting<br>Count: 1<br>Percentage: 0.2%",
          "<b>Topic Quotations & Offers</b><br>Words: covd, order, promptly, staffing, enquiry<br>Count: 1<br>Percentage: 0.2%",
          "<b>Topic Quotations & Offers</b><br>Words: quotations, quotes, quotation, received, resolved<br>Count: 2<br>Percentage: 0.41%",
          "<b>Topic Quotations & Offers</b><br>Words: quotations, quotes, quotation, quote, acceptance<br>Count: 3<br>Percentage: 0.61%",
          "<b>Topic Quotations & Offers</b><br>Words: payment, quotation, quotations, quotes, purchase<br>Count: 3<br>Percentage: 0.61%",
          "<b>Topic Quotations & Offers</b><br>Words: customer service, quotations, quoting, quoted, quotes<br>Count: 4<br>Percentage: 0.82%",
          "<b>Topic Quotations & Offers</b><br>Words: loadbanks, quotes, quote, quotations, distributor<br>Count: 4<br>Percentage: 0.82%",
          "<b>Topic Quotations & Offers</b><br>Words: quotation, response time, quote, replying, client<br>Count: 10<br>Percentage: 2.04%",
          "<b>Topic Quotations & Offers</b><br>Words: tariff, asco, customs, sourcing, received<br>Count: 17<br>Percentage: 3.48%",
          "<b>Topic Quotations & Offers</b><br>Words: bidding, inquiries, quotation, proposal, quotations<br>Count: 23<br>Percentage: 4.7%",
          "<b>Topic Quotations & Offers</b><br>Words: quotations, quotation, quoting, delayed, delivering<br>Count: 27<br>Percentage: 5.52%",
          "<b>Topic Quotations & Offers</b><br>Words: quotations, quotation, quotes, quote, feedback<br>Count: 52<br>Percentage: 10.63%",
          "<b>Topic Quotations & Offers</b><br>Words: quotations, quotes, quotation, quote, bid<br>Count: 52<br>Percentage: 10.63%",
          "<b>Topic Quotations & Offers</b><br>Words: response time, quoting, quotations, customer, quotes<br>Count: 289<br>Percentage: 59.1%"
         ],
         "marker": {
          "color": "#0072B2"
         },
         "name": "Quotations & Offers",
         "orientation": "h",
         "type": "bar",
         "visible": "legendonly",
         "x": [
          0.2,
          0.2,
          0.2,
          0.41,
          0.61,
          0.61,
          0.82,
          0.82,
          2.04,
          3.48,
          4.7,
          5.52,
          10.63,
          10.63,
          59.1
         ],
         "y": [
          "surprise",
          "love",
          "realization",
          "caring",
          "joy",
          "optimism",
          "annoyance",
          "curiosity",
          "confusion",
          "gratitude",
          "disapproval",
          "disappointment",
          "admiration",
          "approval",
          "neutral"
         ]
        },
        {
         "hoverinfo": "text",
         "hovertext": [
          "<b>Topic Customer Service & Delivery</b><br>Words: deadlines, deadline, delays, delay, requests<br>Count: 1<br>Percentage: 0.21%",
          "<b>Topic Customer Service & Delivery</b><br>Words: deadlines, deadline, delays, delay, timing<br>Count: 1<br>Percentage: 0.21%",
          "<b>Topic Customer Service & Delivery</b><br>Words: wished, could, expectations, well, perfectly<br>Count: 1<br>Percentage: 0.21%",
          "<b>Topic Customer Service & Delivery</b><br>Words: liked, fits, improvement, agreed, best<br>Count: 2<br>Percentage: 0.41%",
          "<b>Topic Customer Service & Delivery</b><br>Words: artons, deadline, deadlines, schedule, production<br>Count: 2<br>Percentage: 0.41%",
          "<b>Topic Customer Service & Delivery</b><br>Words: deadlines, deadline, problems, delays, feedback<br>Count: 4<br>Percentage: 0.83%",
          "<b>Topic Customer Service & Delivery</b><br>Words: happy, pleased, smoothly, always, adequate<br>Count: 4<br>Percentage: 0.83%",
          "<b>Topic Customer Service & Delivery</b><br>Words: delays, deadlines, deadline, delay, proposal<br>Count: 5<br>Percentage: 1.04%",
          "<b>Topic Customer Service & Delivery</b><br>Words: delays, delay, deadlines, deadline, complaints<br>Count: 13<br>Percentage: 2.7%",
          "<b>Topic Customer Service & Delivery</b><br>Words: service, welcome, send, xlsx, appreciation<br>Count: 25<br>Percentage: 5.19%",
          "<b>Topic Customer Service & Delivery</b><br>Words: service, excellent, amazing, wonderful, great<br>Count: 109<br>Percentage: 22.61%",
          "<b>Topic Customer Service & Delivery</b><br>Words: fine, everything, perfectly, usual, worked<br>Count: 127<br>Percentage: 26.35%",
          "<b>Topic Customer Service & Delivery</b><br>Words: deadlines, deadline, delays, schedule, expectations<br>Count: 188<br>Percentage: 39.0%"
         ],
         "marker": {
          "color": "#CC79A7"
         },
         "name": "Customer Service & Delivery",
         "orientation": "h",
         "type": "bar",
         "visible": "legendonly",
         "x": [
          0.21,
          0.21,
          0.21,
          0.41,
          0.41,
          0.83,
          0.83,
          1.04,
          2.7,
          5.19,
          22.61,
          26.35,
          39
         ],
         "y": [
          "curiosity",
          "optimism",
          "desire",
          "love",
          "annoyance",
          "disapproval",
          "joy",
          "confusion",
          "disappointment",
          "gratitude",
          "admiration",
          "approval",
          "neutral"
         ]
        }
       ],
       "layout": {
        "barmode": "group",
        "height": 750,
        "hoverlabel": {
         "bgcolor": "white",
         "font": {
          "family": "Rockwell",
          "size": 16
         }
        },
        "legend": {
         "title": {
          "text": "<b>Global Topic Representation"
         }
        },
        "template": {
         "data": {
          "bar": [
           {
            "error_x": {
             "color": "rgb(36,36,36)"
            },
            "error_y": {
             "color": "rgb(36,36,36)"
            },
            "marker": {
             "line": {
              "color": "white",
              "width": 0.5
             },
             "pattern": {
              "fillmode": "overlay",
              "size": 10,
              "solidity": 0.2
             }
            },
            "type": "bar"
           }
          ],
          "barpolar": [
           {
            "marker": {
             "line": {
              "color": "white",
              "width": 0.5
             },
             "pattern": {
              "fillmode": "overlay",
              "size": 10,
              "solidity": 0.2
             }
            },
            "type": "barpolar"
           }
          ],
          "carpet": [
           {
            "aaxis": {
             "endlinecolor": "rgb(36,36,36)",
             "gridcolor": "white",
             "linecolor": "white",
             "minorgridcolor": "white",
             "startlinecolor": "rgb(36,36,36)"
            },
            "baxis": {
             "endlinecolor": "rgb(36,36,36)",
             "gridcolor": "white",
             "linecolor": "white",
             "minorgridcolor": "white",
             "startlinecolor": "rgb(36,36,36)"
            },
            "type": "carpet"
           }
          ],
          "choropleth": [
           {
            "colorbar": {
             "outlinewidth": 1,
             "tickcolor": "rgb(36,36,36)",
             "ticks": "outside"
            },
            "type": "choropleth"
           }
          ],
          "contour": [
           {
            "colorbar": {
             "outlinewidth": 1,
             "tickcolor": "rgb(36,36,36)",
             "ticks": "outside"
            },
            "colorscale": [
             [
              0,
              "#440154"
             ],
             [
              0.1111111111111111,
              "#482878"
             ],
             [
              0.2222222222222222,
              "#3e4989"
             ],
             [
              0.3333333333333333,
              "#31688e"
             ],
             [
              0.4444444444444444,
              "#26828e"
             ],
             [
              0.5555555555555556,
              "#1f9e89"
             ],
             [
              0.6666666666666666,
              "#35b779"
             ],
             [
              0.7777777777777778,
              "#6ece58"
             ],
             [
              0.8888888888888888,
              "#b5de2b"
             ],
             [
              1,
              "#fde725"
             ]
            ],
            "type": "contour"
           }
          ],
          "contourcarpet": [
           {
            "colorbar": {
             "outlinewidth": 1,
             "tickcolor": "rgb(36,36,36)",
             "ticks": "outside"
            },
            "type": "contourcarpet"
           }
          ],
          "heatmap": [
           {
            "colorbar": {
             "outlinewidth": 1,
             "tickcolor": "rgb(36,36,36)",
             "ticks": "outside"
            },
            "colorscale": [
             [
              0,
              "#440154"
             ],
             [
              0.1111111111111111,
              "#482878"
             ],
             [
              0.2222222222222222,
              "#3e4989"
             ],
             [
              0.3333333333333333,
              "#31688e"
             ],
             [
              0.4444444444444444,
              "#26828e"
             ],
             [
              0.5555555555555556,
              "#1f9e89"
             ],
             [
              0.6666666666666666,
              "#35b779"
             ],
             [
              0.7777777777777778,
              "#6ece58"
             ],
             [
              0.8888888888888888,
              "#b5de2b"
             ],
             [
              1,
              "#fde725"
             ]
            ],
            "type": "heatmap"
           }
          ],
          "heatmapgl": [
           {
            "colorbar": {
             "outlinewidth": 1,
             "tickcolor": "rgb(36,36,36)",
             "ticks": "outside"
            },
            "colorscale": [
             [
              0,
              "#440154"
             ],
             [
              0.1111111111111111,
              "#482878"
             ],
             [
              0.2222222222222222,
              "#3e4989"
             ],
             [
              0.3333333333333333,
              "#31688e"
             ],
             [
              0.4444444444444444,
              "#26828e"
             ],
             [
              0.5555555555555556,
              "#1f9e89"
             ],
             [
              0.6666666666666666,
              "#35b779"
             ],
             [
              0.7777777777777778,
              "#6ece58"
             ],
             [
              0.8888888888888888,
              "#b5de2b"
             ],
             [
              1,
              "#fde725"
             ]
            ],
            "type": "heatmapgl"
           }
          ],
          "histogram": [
           {
            "marker": {
             "line": {
              "color": "white",
              "width": 0.6
             }
            },
            "type": "histogram"
           }
          ],
          "histogram2d": [
           {
            "colorbar": {
             "outlinewidth": 1,
             "tickcolor": "rgb(36,36,36)",
             "ticks": "outside"
            },
            "colorscale": [
             [
              0,
              "#440154"
             ],
             [
              0.1111111111111111,
              "#482878"
             ],
             [
              0.2222222222222222,
              "#3e4989"
             ],
             [
              0.3333333333333333,
              "#31688e"
             ],
             [
              0.4444444444444444,
              "#26828e"
             ],
             [
              0.5555555555555556,
              "#1f9e89"
             ],
             [
              0.6666666666666666,
              "#35b779"
             ],
             [
              0.7777777777777778,
              "#6ece58"
             ],
             [
              0.8888888888888888,
              "#b5de2b"
             ],
             [
              1,
              "#fde725"
             ]
            ],
            "type": "histogram2d"
           }
          ],
          "histogram2dcontour": [
           {
            "colorbar": {
             "outlinewidth": 1,
             "tickcolor": "rgb(36,36,36)",
             "ticks": "outside"
            },
            "colorscale": [
             [
              0,
              "#440154"
             ],
             [
              0.1111111111111111,
              "#482878"
             ],
             [
              0.2222222222222222,
              "#3e4989"
             ],
             [
              0.3333333333333333,
              "#31688e"
             ],
             [
              0.4444444444444444,
              "#26828e"
             ],
             [
              0.5555555555555556,
              "#1f9e89"
             ],
             [
              0.6666666666666666,
              "#35b779"
             ],
             [
              0.7777777777777778,
              "#6ece58"
             ],
             [
              0.8888888888888888,
              "#b5de2b"
             ],
             [
              1,
              "#fde725"
             ]
            ],
            "type": "histogram2dcontour"
           }
          ],
          "mesh3d": [
           {
            "colorbar": {
             "outlinewidth": 1,
             "tickcolor": "rgb(36,36,36)",
             "ticks": "outside"
            },
            "type": "mesh3d"
           }
          ],
          "parcoords": [
           {
            "line": {
             "colorbar": {
              "outlinewidth": 1,
              "tickcolor": "rgb(36,36,36)",
              "ticks": "outside"
             }
            },
            "type": "parcoords"
           }
          ],
          "pie": [
           {
            "automargin": true,
            "type": "pie"
           }
          ],
          "scatter": [
           {
            "fillpattern": {
             "fillmode": "overlay",
             "size": 10,
             "solidity": 0.2
            },
            "type": "scatter"
           }
          ],
          "scatter3d": [
           {
            "line": {
             "colorbar": {
              "outlinewidth": 1,
              "tickcolor": "rgb(36,36,36)",
              "ticks": "outside"
             }
            },
            "marker": {
             "colorbar": {
              "outlinewidth": 1,
              "tickcolor": "rgb(36,36,36)",
              "ticks": "outside"
             }
            },
            "type": "scatter3d"
           }
          ],
          "scattercarpet": [
           {
            "marker": {
             "colorbar": {
              "outlinewidth": 1,
              "tickcolor": "rgb(36,36,36)",
              "ticks": "outside"
             }
            },
            "type": "scattercarpet"
           }
          ],
          "scattergeo": [
           {
            "marker": {
             "colorbar": {
              "outlinewidth": 1,
              "tickcolor": "rgb(36,36,36)",
              "ticks": "outside"
             }
            },
            "type": "scattergeo"
           }
          ],
          "scattergl": [
           {
            "marker": {
             "colorbar": {
              "outlinewidth": 1,
              "tickcolor": "rgb(36,36,36)",
              "ticks": "outside"
             }
            },
            "type": "scattergl"
           }
          ],
          "scattermapbox": [
           {
            "marker": {
             "colorbar": {
              "outlinewidth": 1,
              "tickcolor": "rgb(36,36,36)",
              "ticks": "outside"
             }
            },
            "type": "scattermapbox"
           }
          ],
          "scatterpolar": [
           {
            "marker": {
             "colorbar": {
              "outlinewidth": 1,
              "tickcolor": "rgb(36,36,36)",
              "ticks": "outside"
             }
            },
            "type": "scatterpolar"
           }
          ],
          "scatterpolargl": [
           {
            "marker": {
             "colorbar": {
              "outlinewidth": 1,
              "tickcolor": "rgb(36,36,36)",
              "ticks": "outside"
             }
            },
            "type": "scatterpolargl"
           }
          ],
          "scatterternary": [
           {
            "marker": {
             "colorbar": {
              "outlinewidth": 1,
              "tickcolor": "rgb(36,36,36)",
              "ticks": "outside"
             }
            },
            "type": "scatterternary"
           }
          ],
          "surface": [
           {
            "colorbar": {
             "outlinewidth": 1,
             "tickcolor": "rgb(36,36,36)",
             "ticks": "outside"
            },
            "colorscale": [
             [
              0,
              "#440154"
             ],
             [
              0.1111111111111111,
              "#482878"
             ],
             [
              0.2222222222222222,
              "#3e4989"
             ],
             [
              0.3333333333333333,
              "#31688e"
             ],
             [
              0.4444444444444444,
              "#26828e"
             ],
             [
              0.5555555555555556,
              "#1f9e89"
             ],
             [
              0.6666666666666666,
              "#35b779"
             ],
             [
              0.7777777777777778,
              "#6ece58"
             ],
             [
              0.8888888888888888,
              "#b5de2b"
             ],
             [
              1,
              "#fde725"
             ]
            ],
            "type": "surface"
           }
          ],
          "table": [
           {
            "cells": {
             "fill": {
              "color": "rgb(237,237,237)"
             },
             "line": {
              "color": "white"
             }
            },
            "header": {
             "fill": {
              "color": "rgb(217,217,217)"
             },
             "line": {
              "color": "white"
             }
            },
            "type": "table"
           }
          ]
         },
         "layout": {
          "annotationdefaults": {
           "arrowhead": 0,
           "arrowwidth": 1
          },
          "autotypenumbers": "strict",
          "coloraxis": {
           "colorbar": {
            "outlinewidth": 1,
            "tickcolor": "rgb(36,36,36)",
            "ticks": "outside"
           }
          },
          "colorscale": {
           "diverging": [
            [
             0,
             "rgb(103,0,31)"
            ],
            [
             0.1,
             "rgb(178,24,43)"
            ],
            [
             0.2,
             "rgb(214,96,77)"
            ],
            [
             0.3,
             "rgb(244,165,130)"
            ],
            [
             0.4,
             "rgb(253,219,199)"
            ],
            [
             0.5,
             "rgb(247,247,247)"
            ],
            [
             0.6,
             "rgb(209,229,240)"
            ],
            [
             0.7,
             "rgb(146,197,222)"
            ],
            [
             0.8,
             "rgb(67,147,195)"
            ],
            [
             0.9,
             "rgb(33,102,172)"
            ],
            [
             1,
             "rgb(5,48,97)"
            ]
           ],
           "sequential": [
            [
             0,
             "#440154"
            ],
            [
             0.1111111111111111,
             "#482878"
            ],
            [
             0.2222222222222222,
             "#3e4989"
            ],
            [
             0.3333333333333333,
             "#31688e"
            ],
            [
             0.4444444444444444,
             "#26828e"
            ],
            [
             0.5555555555555556,
             "#1f9e89"
            ],
            [
             0.6666666666666666,
             "#35b779"
            ],
            [
             0.7777777777777778,
             "#6ece58"
            ],
            [
             0.8888888888888888,
             "#b5de2b"
            ],
            [
             1,
             "#fde725"
            ]
           ],
           "sequentialminus": [
            [
             0,
             "#440154"
            ],
            [
             0.1111111111111111,
             "#482878"
            ],
            [
             0.2222222222222222,
             "#3e4989"
            ],
            [
             0.3333333333333333,
             "#31688e"
            ],
            [
             0.4444444444444444,
             "#26828e"
            ],
            [
             0.5555555555555556,
             "#1f9e89"
            ],
            [
             0.6666666666666666,
             "#35b779"
            ],
            [
             0.7777777777777778,
             "#6ece58"
            ],
            [
             0.8888888888888888,
             "#b5de2b"
            ],
            [
             1,
             "#fde725"
            ]
           ]
          },
          "colorway": [
           "#1F77B4",
           "#FF7F0E",
           "#2CA02C",
           "#D62728",
           "#9467BD",
           "#8C564B",
           "#E377C2",
           "#7F7F7F",
           "#BCBD22",
           "#17BECF"
          ],
          "font": {
           "color": "rgb(36,36,36)"
          },
          "geo": {
           "bgcolor": "white",
           "lakecolor": "white",
           "landcolor": "white",
           "showlakes": true,
           "showland": true,
           "subunitcolor": "white"
          },
          "hoverlabel": {
           "align": "left"
          },
          "hovermode": "closest",
          "mapbox": {
           "style": "light"
          },
          "paper_bgcolor": "white",
          "plot_bgcolor": "white",
          "polar": {
           "angularaxis": {
            "gridcolor": "rgb(232,232,232)",
            "linecolor": "rgb(36,36,36)",
            "showgrid": false,
            "showline": true,
            "ticks": "outside"
           },
           "bgcolor": "white",
           "radialaxis": {
            "gridcolor": "rgb(232,232,232)",
            "linecolor": "rgb(36,36,36)",
            "showgrid": false,
            "showline": true,
            "ticks": "outside"
           }
          },
          "scene": {
           "xaxis": {
            "backgroundcolor": "white",
            "gridcolor": "rgb(232,232,232)",
            "gridwidth": 2,
            "linecolor": "rgb(36,36,36)",
            "showbackground": true,
            "showgrid": false,
            "showline": true,
            "ticks": "outside",
            "zeroline": false,
            "zerolinecolor": "rgb(36,36,36)"
           },
           "yaxis": {
            "backgroundcolor": "white",
            "gridcolor": "rgb(232,232,232)",
            "gridwidth": 2,
            "linecolor": "rgb(36,36,36)",
            "showbackground": true,
            "showgrid": false,
            "showline": true,
            "ticks": "outside",
            "zeroline": false,
            "zerolinecolor": "rgb(36,36,36)"
           },
           "zaxis": {
            "backgroundcolor": "white",
            "gridcolor": "rgb(232,232,232)",
            "gridwidth": 2,
            "linecolor": "rgb(36,36,36)",
            "showbackground": true,
            "showgrid": false,
            "showline": true,
            "ticks": "outside",
            "zeroline": false,
            "zerolinecolor": "rgb(36,36,36)"
           }
          },
          "shapedefaults": {
           "fillcolor": "black",
           "line": {
            "width": 0
           },
           "opacity": 0.3
          },
          "ternary": {
           "aaxis": {
            "gridcolor": "rgb(232,232,232)",
            "linecolor": "rgb(36,36,36)",
            "showgrid": false,
            "showline": true,
            "ticks": "outside"
           },
           "baxis": {
            "gridcolor": "rgb(232,232,232)",
            "linecolor": "rgb(36,36,36)",
            "showgrid": false,
            "showline": true,
            "ticks": "outside"
           },
           "bgcolor": "white",
           "caxis": {
            "gridcolor": "rgb(232,232,232)",
            "linecolor": "rgb(36,36,36)",
            "showgrid": false,
            "showline": true,
            "ticks": "outside"
           }
          },
          "title": {
           "x": 0.05
          },
          "xaxis": {
           "automargin": true,
           "gridcolor": "rgb(232,232,232)",
           "linecolor": "rgb(36,36,36)",
           "showgrid": false,
           "showline": true,
           "ticks": "outside",
           "title": {
            "standoff": 15
           },
           "zeroline": false,
           "zerolinecolor": "rgb(36,36,36)"
          },
          "yaxis": {
           "automargin": true,
           "gridcolor": "rgb(232,232,232)",
           "linecolor": "rgb(36,36,36)",
           "showgrid": false,
           "showline": true,
           "ticks": "outside",
           "title": {
            "standoff": 15
           },
           "zeroline": false,
           "zerolinecolor": "rgb(36,36,36)"
          }
         }
        },
        "title": {
         "font": {
          "color": "Black",
          "size": 22
         },
         "text": "Topics per Emotion",
         "x": 0.4,
         "xanchor": "center",
         "y": 0.95,
         "yanchor": "top"
        },
        "width": 1150,
        "xaxis": {
         "showgrid": true,
         "title": {
          "text": "Frequency"
         }
        },
        "yaxis": {
         "showgrid": true,
         "title": {
          "text": "Class"
         }
        }
       }
      }
     },
     "metadata": {},
     "output_type": "display_data"
    }
   ],
   "source": [
    "### Graph barchart topics by emotion\n",
    "\n",
    "# visualize the topic representation of major topics per Emotions (28 different emotions):\n",
    "fig = create_chart_per_class(df_full_commented, topic_model_merged, \"single_emotion_label\", \n",
    "                             custom_labels=True, \n",
    "                             percentage_by=\"Topic\",\n",
    "                            #  stacked=True,\n",
    "                             title=\"Topics per Emotion\", \n",
    "                             sortedBy=\"Frequency\", \n",
    "                             width=1150, height=750)\n",
    "# Save the figure as an HTML file\n",
    "# save_graph_html(fig, \"../data/graphs/Sentiment_Analysis/by_emotion/repartition_per_topic/global\", \"new_model_merged_per_emotion_pct\")\n",
    "fig"
   ]
  },
  {
   "cell_type": "code",
   "execution_count": 56,
   "metadata": {},
   "outputs": [],
   "source": [
    "### Graph barchart topics by \"by_class_name\" parameter for each value from \"subclass_names\"\n",
    "\n",
    "# Create a dictionary that match column name to a shorter name for saving name file\n",
    "shorter_names={\n",
    "    \"single_emotion_label\":\"emotion\",\n",
    "    \"sentiment_label\":\"sentiment\",\n",
    "    \"Market Segment\":\"market\",\n",
    "    \"Account Country\":\"country\",\n",
    "    \"Zone\":\"zone\",\n",
    "    \"Clusters\":\"cluster\",\n",
    "    \"year\":\"year\"\n",
    "}\n",
    "\n",
    "filter_group = \"single_emotion_label\"\n",
    "filter_group_shorter = shorter_names[filter_group]\n",
    "by_class_name = \"year\"\n",
    "# Loop for each value from the subclass\n",
    "for filter_value in df_full_commented[filter_group].unique() :\n",
    "    # visualize the topic representation of major topics per by_class_name for each value from subclass_name:\n",
    "    fig = old_create_chart_per_class(df_full_commented, topic_model_merged, by_class_name,\n",
    "                                filter=True, \n",
    "                                filter_group=filter_group, filter_value=filter_value, \n",
    "                                sortedBy=\"Frequency\",\n",
    "                                custom_labels=True, \n",
    "                                percentage_by=\"Class\",\n",
    "                                stacked=True,\n",
    "                                title=f\"Topics per {shorter_names[by_class_name]} - {filter_group_shorter}: {filter_value}\", \n",
    "                                width=1400, height=750)\n",
    "    fig\n",
    "\n",
    "    # Save the figure as an HTML file\n",
    "    path = f\"../data/graphs/Sentiment_Analysis/by_emotion/repartition_per_topic/emotion_by_class/by_{by_class_name}\"\n",
    "    # save_graph_html(fig, path, filter_value)\n",
    "    # save_graph_html(fig, path, \"new_\"+filter_value+\"_class_pct\")"
   ]
  },
  {
   "cell_type": "code",
   "execution_count": 48,
   "metadata": {},
   "outputs": [],
   "source": [
    "### Graph barchart topics by \"by_class_name\" parameter for each value from \"subclass_names\"\n",
    "\n",
    "# Create a dictionary that match column name to a shorter name for saving name file\n",
    "shorter_names={\n",
    "    \"single_emotion_label\":\"emotion\",\n",
    "    \"sentiment_label\":\"sentiment\",\n",
    "    \"Market Segment\":\"market\",\n",
    "    \"Account Country\":\"country\",\n",
    "    \"Zone\":\"zone\",\n",
    "    \"Clusters\":\"cluster\",\n",
    "    \"year\":\"year\",\n",
    "    \"schwartz_label\":\"human values\"\n",
    "}\n",
    "\n",
    "filter_group = \"schwartz_label\"\n",
    "filter_group_shorter = shorter_names[filter_group]\n",
    "by_class_name = \"year\"\n",
    "# Loop for each value from the subclass\n",
    "# for filter_value in df_full_commented[filter_group].unique() :\n",
    "# new for loop that filters out the nan value\n",
    "for filter_value in df_full_commented[pd.notna(df_full_commented[filter_group])][filter_group].unique() :\n",
    "    # visualize the topic representation of major topics per by_class_name for each value from subclass_name:\n",
    "    fig = old_create_chart_per_class(df_full_commented, topic_model_merged, by_class_name,\n",
    "                                filter=True, \n",
    "                                filter_group=filter_group, filter_value=filter_value, \n",
    "                                sortedBy=\"Frequency\",\n",
    "                                custom_labels=True, \n",
    "                                percentage_by=\"Class\",\n",
    "                                stacked=True,\n",
    "                                title=f\"Topics per {shorter_names[by_class_name]} - {filter_group_shorter}: {filter_value}\", \n",
    "                                width=1400, height=750)\n",
    "    # fig\n",
    "\n",
    "    # Save the figure as an HTML file\n",
    "    path = f\"../data/graphs/Schwartz_Analysis/repartition_per_topic/human_values_by_class/by_{by_class_name}\"\n",
    "    # save_graph_html(fig, path, filter_value)\n",
    "    save_graph_html(fig, path, filter_value+\"class_pct\")"
   ]
  },
  {
   "cell_type": "code",
   "execution_count": 51,
   "metadata": {},
   "outputs": [
    {
     "data": {
      "text/html": [
       "<div>\n",
       "<style scoped>\n",
       "    .dataframe tbody tr th:only-of-type {\n",
       "        vertical-align: middle;\n",
       "    }\n",
       "\n",
       "    .dataframe tbody tr th {\n",
       "        vertical-align: top;\n",
       "    }\n",
       "\n",
       "    .dataframe thead th {\n",
       "        text-align: right;\n",
       "    }\n",
       "</style>\n",
       "<table border=\"1\" class=\"dataframe\">\n",
       "  <thead>\n",
       "    <tr style=\"text-align: right;\">\n",
       "      <th></th>\n",
       "      <th>Market Segment</th>\n",
       "      <th>Zone</th>\n",
       "      <th>Clusters</th>\n",
       "      <th>Account Country</th>\n",
       "      <th>processed_data</th>\n",
       "      <th>year</th>\n",
       "    </tr>\n",
       "  </thead>\n",
       "  <tbody>\n",
       "    <tr>\n",
       "      <th>156</th>\n",
       "      <td>NaN</td>\n",
       "      <td>East Asia Japan</td>\n",
       "      <td>North East Asia</td>\n",
       "      <td>Japan</td>\n",
       "      <td>Thank you for your prompt reply. Anyway, thank...</td>\n",
       "      <td>2023</td>\n",
       "    </tr>\n",
       "    <tr>\n",
       "      <th>157</th>\n",
       "      <td>NaN</td>\n",
       "      <td>Italy</td>\n",
       "      <td>Italy</td>\n",
       "      <td>Italy</td>\n",
       "      <td>In addition to the exhaustiveness of the infor...</td>\n",
       "      <td>2023</td>\n",
       "    </tr>\n",
       "    <tr>\n",
       "      <th>201</th>\n",
       "      <td>NaN</td>\n",
       "      <td>Italy</td>\n",
       "      <td>Italy</td>\n",
       "      <td>Italy</td>\n",
       "      <td>I feel that Schneider products are of the high...</td>\n",
       "      <td>2023</td>\n",
       "    </tr>\n",
       "    <tr>\n",
       "      <th>227</th>\n",
       "      <td>NaN</td>\n",
       "      <td>East Asia Japan</td>\n",
       "      <td>North East Asia</td>\n",
       "      <td>Japan</td>\n",
       "      <td>PLC programs cannot be shared when using both ...</td>\n",
       "      <td>2023</td>\n",
       "    </tr>\n",
       "    <tr>\n",
       "      <th>302</th>\n",
       "      <td>NaN</td>\n",
       "      <td>US</td>\n",
       "      <td>USA</td>\n",
       "      <td>USA</td>\n",
       "      <td>Problem was not resolved at the end of the int...</td>\n",
       "      <td>2023</td>\n",
       "    </tr>\n",
       "    <tr>\n",
       "      <th>...</th>\n",
       "      <td>...</td>\n",
       "      <td>...</td>\n",
       "      <td>...</td>\n",
       "      <td>...</td>\n",
       "      <td>...</td>\n",
       "      <td>...</td>\n",
       "    </tr>\n",
       "    <tr>\n",
       "      <th>35780</th>\n",
       "      <td>NaN</td>\n",
       "      <td>Greater India</td>\n",
       "      <td>India</td>\n",
       "      <td>India</td>\n",
       "      <td>The products are all good. We did a new trial ...</td>\n",
       "      <td>2018</td>\n",
       "    </tr>\n",
       "    <tr>\n",
       "      <th>35781</th>\n",
       "      <td>NaN</td>\n",
       "      <td>US</td>\n",
       "      <td>USA</td>\n",
       "      <td>USA</td>\n",
       "      <td>How much we use it, and probably good response...</td>\n",
       "      <td>2018</td>\n",
       "    </tr>\n",
       "    <tr>\n",
       "      <th>35782</th>\n",
       "      <td>NaN</td>\n",
       "      <td>Nordic &amp; Baltics</td>\n",
       "      <td>Finland &amp; Baltics</td>\n",
       "      <td>Finland</td>\n",
       "      <td>Delivery is fast, good selection, prices quite...</td>\n",
       "      <td>2018</td>\n",
       "    </tr>\n",
       "    <tr>\n",
       "      <th>35783</th>\n",
       "      <td>NaN</td>\n",
       "      <td>Nordic &amp; Baltics</td>\n",
       "      <td>Finland &amp; Baltics</td>\n",
       "      <td>Finland</td>\n",
       "      <td>The products are of high quality and support i...</td>\n",
       "      <td>2018</td>\n",
       "    </tr>\n",
       "    <tr>\n",
       "      <th>35784</th>\n",
       "      <td>NaN</td>\n",
       "      <td>China &amp; HK</td>\n",
       "      <td>China</td>\n",
       "      <td>China</td>\n",
       "      <td>We've been using your low-voltage power produc...</td>\n",
       "      <td>2018</td>\n",
       "    </tr>\n",
       "  </tbody>\n",
       "</table>\n",
       "<p>7307 rows × 6 columns</p>\n",
       "</div>"
      ],
      "text/plain": [
       "      Market Segment              Zone           Clusters Account Country  \\\n",
       "156              NaN   East Asia Japan    North East Asia           Japan   \n",
       "157              NaN             Italy              Italy           Italy   \n",
       "201              NaN             Italy              Italy           Italy   \n",
       "227              NaN   East Asia Japan    North East Asia           Japan   \n",
       "302              NaN                US                USA             USA   \n",
       "...              ...               ...                ...             ...   \n",
       "35780            NaN     Greater India              India           India   \n",
       "35781            NaN                US                USA             USA   \n",
       "35782            NaN  Nordic & Baltics  Finland & Baltics         Finland   \n",
       "35783            NaN  Nordic & Baltics  Finland & Baltics         Finland   \n",
       "35784            NaN        China & HK              China           China   \n",
       "\n",
       "                                          processed_data  year  \n",
       "156    Thank you for your prompt reply. Anyway, thank...  2023  \n",
       "157    In addition to the exhaustiveness of the infor...  2023  \n",
       "201    I feel that Schneider products are of the high...  2023  \n",
       "227    PLC programs cannot be shared when using both ...  2023  \n",
       "302    Problem was not resolved at the end of the int...  2023  \n",
       "...                                                  ...   ...  \n",
       "35780  The products are all good. We did a new trial ...  2018  \n",
       "35781  How much we use it, and probably good response...  2018  \n",
       "35782  Delivery is fast, good selection, prices quite...  2018  \n",
       "35783  The products are of high quality and support i...  2018  \n",
       "35784  We've been using your low-voltage power produc...  2018  \n",
       "\n",
       "[7307 rows x 6 columns]"
      ]
     },
     "execution_count": 51,
     "metadata": {},
     "output_type": "execute_result"
    }
   ],
   "source": [
    "df_full_commented[df_full_commented[\"Market Segment\"].isnull()][[\"Market Segment\",\"Zone\",\"Clusters\",\"Account Country\",\"processed_data\",\"year\"]]"
   ]
  },
  {
   "cell_type": "code",
   "execution_count": 52,
   "metadata": {},
   "outputs": [],
   "source": [
    "# Create a dictionary that match column name to a shorter name for saving name file\n",
    "shorter_names={\n",
    "    \"single_emotion_label\":\"emotion\",\n",
    "    \"sentiment_label\":\"sentiment\",\n",
    "    \"Market Segment\":\"market\",\n",
    "    \"Account Country\":\"country\",\n",
    "    \"Zone\":\"zone\",\n",
    "    \"Clusters\":\"cluster\",\n",
    "    \"year\":\"year\",\n",
    "    \"schwartz_label\":\"human values\"\n",
    "}\n",
    "\n",
    "filter_group = \"Market Segment\"\n",
    "filter_group_shorter = shorter_names[filter_group]\n",
    "by_class_name = \"schwartz_label\"\n",
    "# Loop for each value from the subclass\n",
    "# for filter_value in df_full_commented[filter_group].unique() :\n",
    "# new for loop that filters out the nan value\n",
    "for filter_value in df_full_commented[pd.notna(df_full_commented[filter_group])][filter_group].unique() :\n",
    "    # visualize the topic representation of major topics per by_class_name for each value from subclass_name:\n",
    "    fig = old_create_chart_per_class(df_full_commented, topic_model_merged, by_class_name,\n",
    "                                filter=True, \n",
    "                                filter_group=filter_group, filter_value=filter_value, \n",
    "                                sortedBy=\"Frequency\",\n",
    "                                custom_labels=True, \n",
    "                                percentage_by=\"Topic\",\n",
    "                                # stacked=True,\n",
    "                                title=f\"Topics per {shorter_names[by_class_name]} - {filter_group_shorter}: {filter_value}\", \n",
    "                                width=1400, height=750)\n",
    "\n",
    "    # Save the figure as an HTML file\n",
    "    path = f\"../data/graphs/Schwartz_Analysis/repartition_per_topic/class_by_human_values/by_{filter_group}\"\n",
    "    # save_graph_html(fig, path, str(filter_value))\n",
    "    save_graph_html(fig, path, str(filter_value)+\"_pct\")"
   ]
  },
  {
   "cell_type": "code",
   "execution_count": 54,
   "metadata": {},
   "outputs": [],
   "source": [
    "# Create a dictionary that match column name to a shorter name for saving name file\n",
    "shorter_names={\n",
    "    \"single_emotion_label\":\"emotion\",\n",
    "    \"sentiment_label\":\"sentiment\",\n",
    "    \"Market Segment\":\"market\",\n",
    "    \"Account Country\":\"country\",\n",
    "    \"Zone\":\"zone\",\n",
    "    \"Clusters\":\"cluster\",\n",
    "    \"year\":\"year\"\n",
    "}\n",
    "\n",
    "filter_group = \"Market Segment\"\n",
    "filter_group_shorter = shorter_names[filter_group]\n",
    "by_class_name = \"single_emotion_label\"\n",
    "# Loop for each value from the subclass\n",
    "# for filter_value in df_full_commented[filter_group].unique() :\n",
    "# new for loop that filters out the nan value\n",
    "for filter_value in df_full_commented[pd.notna(df_full_commented[filter_group])][filter_group].unique() :\n",
    "    # visualize the topic representation of major topics per by_class_name for each value from subclass_name:\n",
    "    fig = old_create_chart_per_class(df_full_commented, topic_model_merged, by_class_name,\n",
    "                                filter=True, \n",
    "                                filter_group=filter_group, filter_value=filter_value, \n",
    "                                sortedBy=\"Frequency\",\n",
    "                                custom_labels=True, \n",
    "                                percentage_by=\"Topic\",\n",
    "                                # stacked=True,\n",
    "                                title=f\"Topics per {shorter_names[by_class_name]} - {filter_group_shorter}: {filter_value}\", \n",
    "                                width=1400, height=750)\n",
    "\n",
    "    # Save the figure as an HTML file\n",
    "    path = f\"../data/graphs/Sentiment_Analysis/by_emotion/repartition_per_topic/class_by_emotions/by_{filter_group}\"\n",
    "    # save_graph_html(fig, path, str(filter_value))\n",
    "    # save_graph_html(fig, path, \"new_\"+str(filter_value)+\"_pct\")"
   ]
  },
  {
   "cell_type": "code",
   "execution_count": 123,
   "metadata": {},
   "outputs": [],
   "source": [
    "### Graph barchart for each topic with their top 5 keywords\n",
    "\n",
    "# create barchart for each of the top_n_topics best topics\n",
    "fig = topic_model.visualize_barchart(top_n_topics=12)\n",
    "# Save the figure as an HTML file\n",
    "# save_graph_html(fig, \"../data/graphs/Clustering/global\", \"top_12_topics_barchart_viz\")\n",
    "# fig"
   ]
  },
  {
   "cell_type": "code",
   "execution_count": 126,
   "metadata": {},
   "outputs": [
    {
     "name": "stderr",
     "output_type": "stream",
     "text": [
      "100%|██████████| 59/59 [00:09<00:00,  6.50it/s]\n"
     ]
    }
   ],
   "source": [
    "### Graph hierarchical topics\n",
    "\n",
    "bertopic_model = topic_model\n",
    "hierarchical_topics = bertopic_model.hierarchical_topics(docs)\n",
    "fig = bertopic_model.visualize_hierarchy(hierarchical_topics=hierarchical_topics, custom_labels=True, width=1200, height=950)\n",
    "# Save the figure as an HTML file\n",
    "# save_graph_html(fig, \"../data/graphs/Clustering/hierarchy\", \"topics_hierarchy\")\n",
    "# fig"
   ]
  },
  {
   "cell_type": "code",
   "execution_count": 131,
   "metadata": {},
   "outputs": [],
   "source": [
    "### Graph visualization of the documents in space\n",
    "\n",
    "# Run the visualization with the original embeddings\n",
    "topic_model_merged.visualize_documents(docs, embeddings=embeddings, custom_labels=True, hide_annotations=True)\n",
    "# Save the figure as an HTML file\n",
    "# save_graph_html(fig, \"../data/graphs/Clustering/documents_viz\", \"topic_merged_visualize_docs\")\n",
    "# fig"
   ]
  },
  {
   "cell_type": "code",
   "execution_count": 130,
   "metadata": {},
   "outputs": [],
   "source": [
    "### Graph visualization of the documents after reducing embeddings in space\n",
    "\n",
    "# Reduce dimensionality of embeddings, this step is optional\n",
    "reduced_embeddings = UMAP(n_neighbors=10, n_components=2, min_dist=0.0, metric='cosine').fit_transform(embeddings)\n",
    "fig=topic_model_merged.visualize_documents(docs, reduced_embeddings=reduced_embeddings, custom_labels=True, hide_annotations=True)\n",
    "# Save the figure as an HTML file\n",
    "# save_graph_html(fig, \"../data/graphs/Clustering/documents_viz\", \"topic_merged_visualize_reduced_docs\")\n",
    "fig"
   ]
  },
  {
   "cell_type": "code",
   "execution_count": 133,
   "metadata": {},
   "outputs": [],
   "source": [
    "### Graph visualization of the topics over time\n",
    "\n",
    "bertopic_model = topic_model_merged\n",
    "topics_over_time = bertopic_model.topics_over_time(docs, df4['year_month'])#, nr_bins=20)\n",
    "fig = bertopic_model.visualize_topics_over_time(topics_over_time, custom_labels=True)\n",
    "# Save the figure as an HTML file\n",
    "# save_graph_html(fig, \"../data/graphs/Clustering/topic_in_time\", \"topic_merged_time_by_months\")\n",
    "# fig"
   ]
  },
  {
   "cell_type": "code",
   "execution_count": 134,
   "metadata": {},
   "outputs": [],
   "source": [
    "### Graph heatmap\n",
    "\n",
    "fig = topic_model_merged.visualize_heatmap(custom_labels=True, n_clusters=4, height=600)\n",
    "# Save the figure as an HTML file\n",
    "save_graph_html(fig, \"../data/graphs/Clustering/heatmap\", \"topic_merged_heatmap\")\n",
    "\n",
    "fig2 = topic_model.visualize_heatmap(n_clusters=8,  height=750)\n",
    "# Save the figure as an HTML file\n",
    "save_graph_html(fig2, \"../data/graphs/Clustering/heatmap\", \"topic_heatmap\")\n",
    "\n",
    "# fig"
   ]
  },
  {
   "cell_type": "code",
   "execution_count": 135,
   "metadata": {},
   "outputs": [],
   "source": [
    "### Graph Visualize topics in 2D space\n",
    "\n",
    "fig = topic_model.visualize_topics()\n",
    "# Save the figure as an HTML file\n",
    "save_graph_html(fig, \"../data/graphs/Clustering/global\", \"topic_visualize_topics\")\n",
    "\n",
    "fig2 = topic_model_merged.visualize_topics()\n",
    "# Save the figure as an HTML file\n",
    "save_graph_html(fig2, \"../data/graphs/Clustering/global\", \"topic_merged_visualize_topics\")\n",
    "\n",
    "# fig2"
   ]
  },
  {
   "cell_type": "code",
   "execution_count": 83,
   "metadata": {},
   "outputs": [],
   "source": [
    "### Graph Topic distribution for one specific document\n",
    "\n",
    "topic_distr, topic_token_distr = topic_model_merged.approximate_distribution(docs, calculate_tokens=True)\n",
    "topic_model_merged.visualize_distribution(topic_distr[1], custom_labels=True)"
   ]
  },
  {
   "cell_type": "code",
   "execution_count": 85,
   "metadata": {},
   "outputs": [],
   "source": [
    "### Graph Topic distribution by keywords for one specific document\n",
    "\n",
    "bertopic_model = topic_model_merged\n",
    "topic_distr, topic_token_distr = bertopic_model.approximate_distribution(docs, calculate_tokens=True, window=4)\n",
    "# # Visualize the token-level distributions\n",
    "bertopic_model.visualize_approximate_distribution(docs[1], topic_token_distr[1])"
   ]
  },
  {
   "cell_type": "code",
   "execution_count": null,
   "metadata": {},
   "outputs": [],
   "source": [
    "### Create the vocabulary using the OOP\n",
    "\n",
    "# import nltk\n",
    "# import sys\n",
    "# sys.path.insert(0, '..')\n",
    "# from utils import ngrams_list, more_stopwords, keybert_kwargs\n",
    "# from vocabulary.vocabulary import VocabularyCreator\n",
    "# from sklearn.feature_extraction.text import CountVectorizer\n",
    "\n",
    "# nltk.download('stopwords')\n",
    "# stopwords = nltk.corpus.stopwords.words('english')\n",
    "# stopwords.extend(more_stopwords)\n",
    "\n",
    "# vocabulary_creator = VocabularyCreator(ngrams_list, **keybert_kwargs)\n",
    "# vocabulary_list = vocabulary_creator.keybert_vocabulary(df4)\n",
    "# bertopic_vectorizer = CountVectorizer(vocabulary=vocabulary_list, stop_words=stopwords, lowercase=True, ngram_range=(1, 3))"
   ]
  },
  {
   "cell_type": "code",
   "execution_count": 15,
   "metadata": {},
   "outputs": [
    {
     "name": "stderr",
     "output_type": "stream",
     "text": [
      "[nltk_data] Downloading package averaged_perceptron_tagger to\n",
      "[nltk_data]     /home/cattiaux/nltk_data...\n",
      "[nltk_data]   Package averaged_perceptron_tagger is already up-to-\n",
      "[nltk_data]       date!\n",
      "[nltk_data] Downloading package wordnet to /home/cattiaux/nltk_data...\n",
      "[nltk_data]   Package wordnet is already up-to-date!\n",
      "[nltk_data] Downloading package punkt to /home/cattiaux/nltk_data...\n",
      "[nltk_data]   Package punkt is already up-to-date!\n"
     ]
    }
   ],
   "source": [
    "### Wordcloud \n",
    "# Lemmatize keywords and recompute their probabilities for the wordcloud image\n",
    "\n",
    "# Download required resources\n",
    "nltk.download('averaged_perceptron_tagger')\n",
    "nltk.download('wordnet')\n",
    "nltk.download('punkt')\n",
    "\n",
    "def lemmatize_words(topic_words):\n",
    "    \"\"\"\n",
    "    Lemmatize the words and combine their probabilities.\n",
    "\n",
    "    This function takes as input a list of tuples `topic_words`, where each tuple contains a word and its probability. The function lemmatizes each word using the WordNetLemmatizer from the NLTK library, and combines the probabilities of the lemmas and their inflected forms.\n",
    "\n",
    "    The resulting dictionary, where the keys are the lemmas and the values are their combined probabilities, is then returned.\n",
    "\n",
    "    Parameters:\n",
    "        topic_words (list): A list of tuples, where each tuple contains a word (str) and its probability (float).\n",
    "\n",
    "    Returns:\n",
    "        dict: A dictionary where the keys are the lemmas (str) and the values are their combined probabilities (float).\n",
    "    \"\"\"\n",
    "    def get_wordnet_pos(treebank_tag):\n",
    "        \"\"\"\n",
    "        Convert NLTK part of speech tags to WordNet tags.\n",
    "\n",
    "        This function takes as input a part of speech tag in the format used by the NLTK library and returns the corresponding WordNet tag. The mapping between NLTK and WordNet tags is as follows:\n",
    "        - 'J' (adjective) maps to `wordnet.ADJ`\n",
    "        - 'V' (verb) maps to `wordnet.VERB`\n",
    "        - 'N' (noun) maps to `wordnet.NOUN`\n",
    "        - 'R' (adverb) maps to `wordnet.ADV`\n",
    "        - All other tags map to `wordnet.NOUN`\n",
    "\n",
    "        Parameters:\n",
    "            treebank_tag (str): The NLTK part of speech tag to be converted.\n",
    "\n",
    "        Returns:\n",
    "            str: The corresponding WordNet part of speech tag.\n",
    "        \"\"\"\n",
    "        if treebank_tag.startswith('J'):\n",
    "            return wordnet.ADJ\n",
    "        elif treebank_tag.startswith('V'):\n",
    "            return wordnet.VERB\n",
    "        elif treebank_tag.startswith('N'):\n",
    "            return wordnet.NOUN\n",
    "        elif treebank_tag.startswith('R'):\n",
    "            return wordnet.ADV\n",
    "        else:\n",
    "            return wordnet.NOUN\n",
    "\n",
    "    # Create a lemmatizer object\n",
    "    lemmatizer = WordNetLemmatizer()\n",
    "    # Create a dictionary to store the lemmas and their probabilities\n",
    "    lemma_prob = {}\n",
    "\n",
    "    # Lemmatize each word and combine their probabilities\n",
    "    for word, prob in topic_words:\n",
    "        # Tokenize the word and get its part of speech\n",
    "        tokens = nltk.word_tokenize(word)\n",
    "        pos = nltk.pos_tag(tokens)[0][1]\n",
    "        # Get the WordNet part of speech tag\n",
    "        wordnet_pos = get_wordnet_pos(pos)\n",
    "        # Lemmatize the word\n",
    "        lemma = lemmatizer.lemmatize(word, pos=wordnet_pos)\n",
    "        \n",
    "        # Combine the probabilities of the lemma and its inflected forms\n",
    "        if lemma in lemma_prob:\n",
    "            lemma_prob[lemma] += prob\n",
    "        else:\n",
    "            lemma_prob[lemma] = prob\n",
    "    \n",
    "    return lemma_prob\n",
    "\n",
    "def recalculate_probabilities(lemma_prob, docs, topic_model):\n",
    "    \"\"\"\n",
    "    Recalculate the c-TF-IDF scores for the lemmas.\n",
    "\n",
    "    This function takes as input a dictionary `lemma_prob` containing the lemmas and their probabilities, a list of documents `docs`, and a BERTopic model `topic_model`. The function recalculates the c-TF-IDF scores for the lemmas using the provided documents and BERTopic model.\n",
    "\n",
    "    The function first calculates the term frequencies for each lemma using the CountVectorizer from the BERTopic model. Then, it calculates the inverse document frequencies for each lemma and uses these values to compute the c-TF-IDF scores. The c-TF-IDF scores are then normalized and used to update the probabilities of the lemmas.\n",
    "\n",
    "    The resulting dictionary, where the keys are the lemmas and the values are their updated probabilities, is then returned.\n",
    "\n",
    "    Parameters:\n",
    "        lemma_prob (dict): A dictionary where the keys are the lemmas (str) and the values are their probabilities (float).\n",
    "        docs (list): A list of documents used to fit the BERTopic model.\n",
    "        topic_model (BERTopic): The BERTopic model used to calculate the c-TF-IDF scores.\n",
    "\n",
    "    Returns:\n",
    "        dict: A dictionary where the keys are the lemmas (str) and the values are their updated probabilities (float).\n",
    "    \"\"\"\n",
    "    # Calculate the term frequencies using the provided CountVectorizer\n",
    "    X = topic_model.vectorizer_model.transform(docs)\n",
    "    \n",
    "    # Calculate the term frequencies for each lemma\n",
    "    tf = {}\n",
    "    for lemma, prob in lemma_prob.items():\n",
    "        index = topic_model.vectorizer_model.vocabulary_.get(lemma)\n",
    "        if index is not None:\n",
    "            tf[lemma] = np.sum(X[:, index])\n",
    "\n",
    "    # Calculate the inverse document frequencies for each lemma\n",
    "    df = np.sum(X > 0, axis=0)\n",
    "    N = X.shape[0]\n",
    "    idf = np.log(N / (df + 1))\n",
    "\n",
    "    # Calculate the c-TF-IDF scores for each lemma and normalize them\n",
    "    c_tf_idf = {}\n",
    "    for lemma, prob in lemma_prob.items():\n",
    "        index = topic_model.vectorizer_model.vocabulary_.get(lemma)\n",
    "        if index is not None:\n",
    "            c_tf_idf[lemma] = tf[lemma] * idf[0, index]\n",
    "    c_tf_idf_sum = np.sum(list(c_tf_idf.values()))\n",
    "    for lemma, score in c_tf_idf.items():\n",
    "        c_tf_idf[lemma] /= c_tf_idf_sum\n",
    "\n",
    "    # Update the probabilities of the lemmas based on their c-TF-IDF scores\n",
    "    new_lemma_prob = {}\n",
    "    for lemma, prob in lemma_prob.items():\n",
    "        if lemma in c_tf_idf:\n",
    "            new_lemma_prob[lemma] = c_tf_idf[lemma]\n",
    "    \n",
    "    return new_lemma_prob"
   ]
  },
  {
   "cell_type": "code",
   "execution_count": 41,
   "metadata": {},
   "outputs": [],
   "source": [
    "### Wordcloud\n",
    "\n",
    "def get_topic_words(bertopic_model, topic, top_n=10):\n",
    "    \"\"\"\n",
    "    Get the top n words for a given topic.\n",
    "\n",
    "    This function takes as input a BERTopic model `topic_model`, a topic number `topic`, and an optional integer parameter `top_n` specifying the number of words to return. The function returns the top n words for the given topic, along with their probabilities, as a list of tuples.\n",
    "\n",
    "    The function first retrieves the c-TF-IDF matrix and feature names from the BERTopic model. Then, it gets the row of the c-TF-IDF matrix corresponding to the given topic and uses it to find the indices of the top n words. Finally, it retrieves the words and their probabilities and returns them as a list of tuples.\n",
    "\n",
    "    Parameters:\n",
    "        topic_model (BERTopic): The BERTopic model used to calculate the topic words.\n",
    "        topic (int): The topic number for which to retrieve the top n words.\n",
    "        top_n (int): An optional integer parameter specifying the number of words to return. Defaults to 10.\n",
    "\n",
    "    Returns:\n",
    "        list: A list of tuples, where each tuple contains a word (str) and its probability (float).\n",
    "    \"\"\"\n",
    "    # Get the c-TF-IDF matrix and feature names\n",
    "    c_tf_idf = bertopic_model.c_tf_idf_.toarray()\n",
    "    feature_names = bertopic_model.vectorizer_model.get_feature_names_out()\n",
    "    \n",
    "    # Get the row of the c-TF-IDF matrix corresponding to the topic\n",
    "    topic_row = c_tf_idf[topic]\n",
    "    \n",
    "    # Get the indices of the top_n words for the topic\n",
    "    top_n_indices = np.argsort(topic_row)[::-1][:top_n]\n",
    "    \n",
    "    # Get the words and their probabilities\n",
    "    words = [feature_names[i] for i in top_n_indices]\n",
    "    probabilities = [topic_row[i] for i in top_n_indices]\n",
    "    \n",
    "    # Return the words and their probabilities as a list of tuples\n",
    "    return list(zip(words, probabilities))\n",
    "\n",
    "def group_docs_by_topic(docs, bertopic_model):\n",
    "    \"\"\"\n",
    "    Group documents by their assigned topic.\n",
    "\n",
    "    This function takes as input a list of documents `docs` and a BERTopic model `bertopic_model`. It creates a dictionary where the keys are topic numbers and the values are lists of documents assigned to each topic.\n",
    "\n",
    "    Parameters:\n",
    "        docs (list): A list of documents used to fit the BERTopic model.\n",
    "        bertopic_model (BERTopic): The BERTopic model used to assign topics to the documents.\n",
    "\n",
    "    Returns:\n",
    "        dict: A dictionary where the keys are topic numbers (int) and the values are lists of documents (list) assigned to each topic.\n",
    "    \"\"\"\n",
    "    docs_by_topic = {}\n",
    "    for doc, topic in zip(docs, bertopic_model.topics_):\n",
    "        if topic+1 not in docs_by_topic:\n",
    "            docs_by_topic[topic+1] = []\n",
    "        docs_by_topic[topic+1].append(doc)\n",
    "    \n",
    "    return docs_by_topic \n",
    "\n",
    "def get_word_freq(bertopic_model, docs, topic, top_n=10, scale=1, lemmatize=False):\n",
    "    \"\"\"\n",
    "    Get the word frequencies for a given topic.\n",
    "\n",
    "    This function takes as input a BERTopic model `bertopic_model`, a list of documents `docs`, a topic number `topic`, an optional integer parameter `top_n` specifying the number of words to include, an optional float parameter `scale` used to scale the probabilities of the words and an optional boolean parameter `lemmatize` which determines whether to lemmatize the words before calculating their frequencies.\n",
    "\n",
    "    The function first retrieves the top n words for the given topic using the `get_topic_words` function and scales their probabilities using the provided `scale` parameter. If `lemmatize` is `True`, the function lemmatizes the words using the `lemmatize_words` function and recalculates their probabilities using the `recalculate_probabilities` function. Otherwise, it uses the original words and their probabilities.\n",
    "\n",
    "    Parameters:\n",
    "        bertopic_model (BERTopic): The BERTopic model used to calculate the topic words.\n",
    "        docs (list): A list of documents used to fit the BERTopic model.\n",
    "        topic (int): The topic number for which to calculate the word frequencies.\n",
    "        top_n (int): An optional integer parameter specifying the number of words to include. Defaults to 10.\n",
    "        scale (float): An optional float parameter used to scale the probabilities of the words. Defaults to 1.\n",
    "        lemmatize (bool): An optional boolean parameter used to determine whether to lemmatize the words before calculating their frequencies. Defaults to False.\n",
    "\n",
    "    Returns:\n",
    "        dict: A dictionary where the keys are the words/lemmas (str) and the values are their probabilities (float).\n",
    "    \"\"\"\n",
    "    # Get the topic words and their probabilities\n",
    "    topic_words = get_topic_words(bertopic_model, topic, top_n=top_n)\n",
    "    # Scale the probabilities\n",
    "    topic_words = [(word, prob ** scale) for word, prob in topic_words]\n",
    "\n",
    "    if lemmatize:\n",
    "        # Group documents by their assigned topic.\n",
    "        docs_by_topic = group_docs_by_topic(docs, bertopic_model)\n",
    "        # get the documents assigned to a specific topic\n",
    "        my_docs = docs_by_topic.get(topic, [])\n",
    "        # Lemmatize the words and combine their probabilities\n",
    "        lemma_prob = lemmatize_words(topic_words)\n",
    "        # Recalculate the c-TF-IDF scores for the lemmas\n",
    "        topic_words_lemma = recalculate_probabilities(lemma_prob, my_docs, bertopic_model)\n",
    "        # Create a dictionary with the lemmas and their probabilities\n",
    "        word_freq = {lemma: prob for lemma, prob in topic_words_lemma.items()}\n",
    "    \n",
    "    else:\n",
    "        # Create a dictionary with the words and their probabilities\n",
    "        word_freq = {word: prob for word, prob in topic_words}\n",
    "    \n",
    "    return word_freq \n",
    "\n",
    "def create_wordcloud(bertopic_model, docs, topic, top_n=10, scale=1, lemmatize=False, stopwords=None, wordcloud_kwargs=None):\n",
    "    \"\"\"\n",
    "    Create a word cloud from a BERTopic model and a topic.\n",
    "\n",
    "    This function takes as input a BERTopic model `topic_model`, a list of documents `docs`, a topic number `topic`, an optional integer parameter `top_n` specifying the number of words to include in the word cloud, an optional float parameter `scale` used to scale the probabilities of the words, an optional boolean parameter `lemmatize` which determines whether to lemmatize the words before creating the word cloud, an optional list of stopwords `stopwords` to be removed from the word cloud, and an optional dictionary of keyword arguments `wordcloud_kwargs` to be passed to the WordCloud constructor.\n",
    "\n",
    "    The function first retrieves the top n words for the given topic using the `get_topic_words` function and scales their probabilities using the provided `scale` parameter. If `lemmatize` is `True`, the function lemmatizes the words using the `lemmatize_words` function and recalculates their probabilities using the `recalculate_probabilities` function. Otherwise, it uses the original words and their probabilities.\n",
    "\n",
    "    The function then removes any stopwords from the list of words (if provided) and creates a word cloud using the WordCloud class from the wordcloud library. The resulting word cloud is then returned.\n",
    "\n",
    "    Parameters:\n",
    "        topic_model (BERTopic): The BERTopic model used to calculate the topic words.\n",
    "        docs (list): A list of documents used to fit the BERTopic model.\n",
    "        topic (int): The topic number for which to create the word cloud.\n",
    "        top_n (int): An optional integer parameter specifying the number of words to include in the word cloud. Defaults to 10.\n",
    "        scale (float): An optional float parameter used to scale the probabilities of the words. Defaults to 1.\n",
    "        lemmatize (bool): An optional boolean parameter used to determine whether to lemmatize the words before creating the word cloud. Defaults to False.\n",
    "        stopwords (list): An optional list of stopwords to be removed from the word cloud. Defaults to None.\n",
    "        wordcloud_kwargs (dict): An optional dictionary of keyword arguments to be passed to the WordCloud constructor. Defaults to None.\n",
    "\n",
    "    Returns:\n",
    "        wordcloud.WordCloud: The resulting word cloud.\n",
    "    \"\"\"\n",
    "    # Get the word frequencies for a given topic.\n",
    "    word_freq = get_word_freq(bertopic_model, docs, topic, top_n=top_n, scale=scale, lemmatize=lemmatize)\n",
    "\n",
    "    # Remove stopwords from word_freq if provided\n",
    "    if stopwords:\n",
    "        word_freq = {word: freq for word, freq in word_freq.items() if word not in stopwords}\n",
    "    \n",
    "    # Create the word cloud using the words/lemmas and their probabilities\n",
    "    wc = WordCloud(**(wordcloud_kwargs or {}))\n",
    "    wc.generate_from_frequencies(word_freq)\n",
    "\n",
    "    # Display the word cloud\n",
    "    # plt.imshow(wc, interpolation='bilinear')\n",
    "    # plt.axis(\"off\")\n",
    "    # plt.show()\n",
    "    return wc\n",
    "\n",
    "def create_wordclouds_bertopic(bertopic_model, docs, top_n=10, scale=1, lemmatize=False, stopwords=None, wordcloud_kwargs=None, to_save=False, save_path=None):\n",
    "    \"\"\"\n",
    "    Create word clouds for all topics in a BERTopic model.\n",
    "\n",
    "    This function takes as input a BERTopic model `bertopic_model`, a list of documents `docs`, an optional integer parameter `top_n` specifying the number of words to include in each word cloud, an optional float parameter `scale` used to scale the probabilities of the words, an optional boolean parameter `lemmatize` which determines whether to lemmatize the words before creating the word clouds, an optional list of stopwords `stopwords` to be removed from the word clouds, an optional dictionary of keyword arguments `wordcloud_kwargs` to be passed to the WordCloud constructor, an optional boolean parameter `to_save` which determines whether to save the word clouds as image files, and an optional string parameter `save_path` specifying the path where the image files should be saved.\n",
    "\n",
    "    The function first retrieves the topic information from the BERTopic model and sets the index of the resulting DataFrame to be the topic number. Then, it loops over the topic numbers in the DataFrame and calls the `create_wordcloud` function to create a word cloud for each topic. If `to_save` is `True`, it saves each word cloud as an image file at the specified location using the custom name of the topic.\n",
    "\n",
    "    The resulting dictionary, where the keys are the custom names of the topics and the values are their corresponding word clouds, is then returned.\n",
    "\n",
    "    Parameters:\n",
    "        bertopic_model (BERTopic): The BERTopic model used to calculate the topic words.\n",
    "        docs (list): A list of documents used to fit the BERTopic model.\n",
    "        top_n (int): An optional integer parameter specifying the number of words to include in each word cloud. Defaults to 10.\n",
    "        scale (float): An optional float parameter used to scale the probabilities of the words. Defaults to 1.\n",
    "        lemmatize (bool): An optional boolean parameter used to determine whether to lemmatize the words before creating the word clouds. Defaults to False.\n",
    "        stopwords (list): An optional list of stopwords to be removed from each word cloud. Defaults to None.\n",
    "        wordcloud_kwargs (dict): An optional dictionary of keyword arguments to be passed to each WordCloud constructor. Defaults to None.\n",
    "        to_save (bool): An optional boolean parameter used to determine whether to save each word cloud as an image file. Defaults to False.\n",
    "        save_path (str): An optional string parameter specifying the path where each image file should be saved. Only used if `to_save` is True. Defaults to None.\n",
    "\n",
    "    Returns:\n",
    "        dict: A dictionary where the keys are the custom names of the topics (str) and the values are their corresponding word clouds (wordcloud.WordCloud).\n",
    "    \"\"\"\n",
    "    # Check that save_path is provided if to_save is True\n",
    "    if to_save and save_path is None:\n",
    "        raise ValueError(\"If to_save is True, save_path must be provided\")\n",
    "    \n",
    "    # Get the topic information\n",
    "    topic_info = bertopic_model.get_topic_info()\n",
    "    # Set the index of the DataFrame to be the topic number\n",
    "    topic_info = topic_info.set_index('Topic')\n",
    "    wc_pics={}\n",
    "    # Loop over the topic numbers in the DataFrame\n",
    "    for topic_number in topic_info.index:\n",
    "        # Get the custom name of the current topic for saving purpose\n",
    "        topic_custom_name = topic_info.loc[topic_number, 'CustomName']\n",
    "        wc_pic = create_wordcloud(bertopic_model, docs, topic_number+1, top_n=top_n, scale=scale, lemmatize=lemmatize, stopwords=stopwords, wordcloud_kwargs=wordcloud_kwargs)\n",
    "        wc_pics.update({topic_custom_name: wc_pic})\n",
    "\n",
    "        if to_save and lemmatize:\n",
    "            wc_pic.to_file(f'{save_path}/{topic_custom_name}_lemmatized.png')\n",
    "        elif to_save and lemmatize==False:\n",
    "            wc_pic.to_file(f'{save_path}/{topic_custom_name}.png')\n",
    "\n",
    "    return wc_pics\n",
    "\n",
    "# examples of default colors for the wordcloud\n",
    "# colormaps = [\n",
    "#     'viridis', 'plasma', 'inferno', 'magma', 'cividis',\n",
    "#     'Greys', 'Purples', 'Blues', 'Greens', 'Oranges',\n",
    "#     'Reds', 'YlOrBr', 'YlOrRd', 'OrRd', 'PuRd',\n",
    "#     'RdPu', 'BuPu', 'GnBu', 'PuBu', 'YlGnBu',\n",
    "#     'PuBuGn', 'BuGn', 'YlGn'\n",
    "# ]\n",
    "\n",
    "# Create a custom colormap\n",
    "# colors = [\"#294D61\", \"#6DA5C0\", \"#0F969C\", \"#0C7075\", \"#072E33\",\"#05161A\"]\n",
    "colors = [\"#F1916D\", \"#F5D7DB\", \"#BD83B8\", \"#473E66\", \"#1B3358\",\"#06142E\"]\n",
    "my_cmap = ListedColormap(colors)\n",
    "\n",
    "# Create a binary mask from an image\n",
    "# make sure that the image is black and white, where black pixels indicate where to draw words and white pixels indicate where not to draw words.\n",
    "# mask = np.array(Image.open('circle.png'))\n",
    "\n",
    "wordcloud_stopwords = [\"get\",\"would\",\"us\",\"good\",\"like\",\"goods\",\"got\",\"able\",\"quite\",\"always\",\"nothing\",\"add\",\"everything\",\"think\",\"gave\",\"due\",\"find\",\"say\",\"took\",\"still\",\"within\",\"22\",\"10\",\"one\",\"makhloufi\",\"saliger\",\"kessler\",\"naldrin\",\"hidde\",\"mohua\",\"possible\",\"since\",\"could\",\"especially\",\"altivar\",\"every\",\"anyway\",\"egawa\",\"sometimes\"]\n",
    "\n",
    "wordcloud_kwargs = {\n",
    "    'width': 800,\n",
    "    'height': 400,\n",
    "    'background_color': 'black',\n",
    "    'contour_width': 100,\n",
    "    'contour_color': 'red',\n",
    "    'colormap': 'GnBu',\n",
    "    \"contour_width\": 5,\n",
    "    \"contour_color\": 'red'\n",
    "    # \"mask\":mask\n",
    "}\n",
    "\n",
    "wordclouds = create_wordclouds_bertopic(topic_model_merged, docs, \n",
    "                           top_n=50, scale=1, \n",
    "                           lemmatize=True, \n",
    "                           stopwords=wordcloud_stopwords, \n",
    "                           wordcloud_kwargs=wordcloud_kwargs,\n",
    "                           to_save=True, \n",
    "                           save_path=\"../data/wordclouds/test2\")"
   ]
  },
  {
   "cell_type": "code",
   "execution_count": 45,
   "metadata": {},
   "outputs": [],
   "source": [
    "# Barchart from seaborn : emotions by year\n",
    "\n",
    "# # Create a count plot\n",
    "# sns.set(style=\"whitegrid\")\n",
    "# g = sns.catplot(x=\"year\", y=None, hue=\"single_emotion_label\", data=df4, kind=\"count\", height=4, aspect=2)\n",
    "\n",
    "# # Set the axis labels\n",
    "# g.set_axis_labels(\"Year\", \"Count\")\n",
    "\n",
    "# # Set the title\n",
    "# plt.title(\"Count of Emotions by Year\")\n",
    "\n",
    "# # Show the plot\n",
    "# plt.show()"
   ]
  },
  {
   "cell_type": "code",
   "execution_count": 148,
   "metadata": {},
   "outputs": [],
   "source": [
    "# Graph avec plotly.express : barchart for one defined emotion\n",
    "\n",
    "def plot_emotion(df, emotions_col_name, emotion, year_col_name, nbins=20):\n",
    "    \"\"\"\n",
    "    Plot a histogram of the distribution of a given emotion by year.\n",
    "\n",
    "    This function takes as input a dataframe `df`, an emotion `emotion` and creates a histogram showing the distribution of this emotion by year. The data is filtered to only include rows with the specified emotion, and a histogram is created using the Plotly Express library. The axis labels and title are set, and the resulting plot is shown.\n",
    "\n",
    "    Parameters:\n",
    "        df (pandas.DataFrame): The input dataframe containing the data to be plotted.\n",
    "        emotion (str): The emotion to be plotted.\n",
    "\n",
    "    Returns:\n",
    "        plotly.graph_objs.Figure: The resulting histogram plot.\n",
    "    \"\"\"\n",
    "    # Filter the data to only include rows with the specified emotion\n",
    "    filtered_data = df[df[emotions_col_name] == emotion]\n",
    "    \n",
    "    # Create a histogram\n",
    "    fig = px.histogram(filtered_data, x=year_col_name, nbins=nbins)\n",
    "    \n",
    "    # Set the axis labels\n",
    "    fig.update_layout(xaxis_title='Year', yaxis_title='Count')\n",
    "    \n",
    "    # Set the title\n",
    "    fig.update_layout(title=f'Distribution of {emotion} by Year')\n",
    "    \n",
    "    return fig\n",
    "\n",
    "# # Call the function with the desired emotion\n",
    "# plot_emotion(df4, 'disappointment')\n",
    "\n",
    "## Tests graph précédent avec menu déroulant pour choisir son emotion\n",
    "\n",
    "# # Create a dropdown menu with all unique emotions in 'single_emotion_label' column\n",
    "# emotions = df4['single_emotion_label'].unique()\n",
    "# dropdown = widgets.Dropdown(options=emotions)\n",
    "\n",
    "# # Create an output widget to display the plot\n",
    "# output = widgets.Output()\n",
    "\n",
    "# # Define a function that updates the plot when a new emotion is selected\n",
    "# def on_change(change):\n",
    "#     if change['name'] == 'value':\n",
    "#         with output:\n",
    "#             output.clear_output()\n",
    "#             plot_emotion(change['new'])\n",
    "\n",
    "# # Register the function as a callback for changes in the dropdown value\n",
    "# dropdown.observe(on_change)\n",
    "\n",
    "# # # Display the widgets\n",
    "# display(dropdown)\n",
    "# display(output)"
   ]
  },
  {
   "cell_type": "code",
   "execution_count": 258,
   "metadata": {},
   "outputs": [],
   "source": [
    "### Graph barchart of one given emotion by a specified class (year, zone, etc.)\n",
    "\n",
    "# Plot a bar chart or histogram of the distribution of a given emotion by a specified class\n",
    "def plot_emotion(df, emotion, class_name, time_period=None, use_percentage=False, random_colors=True, set_colors=['#96ceb4', '#87bdd8', '#ffcc5c', '#ff6f69', '#f4a688', '#d96459'], set_color=None):\n",
    "    \"\"\"\n",
    "    This function plots a bar chart of the distribution of a specified emotion by a specified class.\n",
    "\n",
    "    Parameters:\n",
    "    df (DataFrame): The input dataframe.\n",
    "    emotion (str): The emotion to filter the dataframe by.\n",
    "    class_name (str): The name of the class column in the dataframe.\n",
    "    time_period (int, optional): The time period to filter the dataframe by. Defaults to None.\n",
    "    use_percentage (bool, optional): Whether to calculate and plot percentages instead of counts. Defaults to False.\n",
    "    random_colors (bool, optional): Whether to choose a color randomly from the set_colors list. If False, set_color must be provided. Defaults to True.\n",
    "    set_colors (list of str, optional): The list of colors to choose from if random_colors is True. Defaults to ['#96ceb4', '#87bdd8', '#ffcc5c', '#ff6f69', '#f4a688', '#d96459'].\n",
    "    set_color (str, optional): The color to use for the plot if random_colors is False. Defaults to None.\n",
    "\n",
    "    Returns:\n",
    "    Figure: A Plotly figure containing the bar chart.\n",
    "    \"\"\"\n",
    "    # Check that set_color is provided if random_colors is False\n",
    "    if random_colors==False and set_color is None:\n",
    "        raise ValueError(\"set_color must be provided if random_colors is False\")\n",
    "    \n",
    "    # Filter the data to only include rows with the specified emotion\n",
    "    filtered_data = df[df['single_emotion_label'] == emotion]\n",
    "\n",
    "    # Filter the data by the specified time period if provided\n",
    "    if time_period != None:\n",
    "        if class_name == 'year':\n",
    "            raise ValueError(\"class_name cannot be 'year' when time_period is defined\")\n",
    "        filtered_data = filtered_data[filtered_data['year'] == time_period]\n",
    "\n",
    "    if random_colors:\n",
    "        # Randomly choose a color from the defined colors list\n",
    "        colors_list = set_colors\n",
    "        color = random.choice(colors_list)\n",
    "    else:\n",
    "        color = set_color\n",
    "\n",
    "    # Calculate the percentage if use_percentage is True\n",
    "    if use_percentage:\n",
    "        total_per_zone = df.groupby(class_name).size()\n",
    "        filtered_data = (filtered_data[class_name].value_counts() / total_per_zone * 100).reset_index()\n",
    "        filtered_data.columns = [class_name, 'percentage']\n",
    "        y_value = 'percentage'\n",
    "    else:\n",
    "        filtered_data = filtered_data[class_name].value_counts().reset_index()\n",
    "        filtered_data.columns = [class_name, 'count']\n",
    "        y_value = 'count'\n",
    "\n",
    "    # Sort the data by ascending frequency if class_name is not 'year'\n",
    "    if class_name != 'year':\n",
    "        filtered_data.sort_values(by=y_value, ascending=True, inplace=True)\n",
    "\n",
    "    fig = px.bar(filtered_data, x=class_name, y=y_value, color_discrete_sequence=[color], width=1100, height=600)\n",
    "\n",
    "    # Set the axis labels\n",
    "    fig.update_layout(xaxis_title=class_name, yaxis_title=y_value)\n",
    "    # Set the title\n",
    "    fig.update_layout(title=f'Distribution of {emotion} by {class_name}' + (f' in {time_period}' if time_period is not None else ''))\n",
    "    # Center the title\n",
    "    fig.update_layout(title_x=0.5)\n",
    "\n",
    "    return fig\n",
    "\n",
    "emotions = df4['single_emotion_label'].unique()\n",
    "class_name = \"year\"\n",
    "time_period = None\n",
    "# Loop over each emotion and save the corresponding graph\n",
    "for emotion in emotions:\n",
    "    fig = plot_emotion(df4, emotion, class_name, time_period, use_percentage=True)\n",
    "    # Export the chart as a PNG image\n",
    "    pio.write_image(fig, f'../data/graphs/Sentiment_Analysis/by_emotion/repartition/by_{class_name}/{emotion}_pct.png')\n",
    "\n",
    "# plot_emotion(df4, \"admiration\", \"Zone\", time_period=None, use_percentage=True)"
   ]
  },
  {
   "cell_type": "code",
   "execution_count": 69,
   "metadata": {},
   "outputs": [],
   "source": [
    "\n",
    "def get_top_topic_docs(probabilities, df, topic, top_n_docs=len(df)):\n",
    "    \"\"\"\n",
    "    Get the top n documents for a specified topic.\n",
    "\n",
    "    Parameters:\n",
    "    probabilities (numpy.ndarray): The probabilities from the BERTopic model.\n",
    "    df (pandas.DataFrame): The dataframe containing the documents.\n",
    "    topic (int): The topic to get the top n documents for.\n",
    "    top_n_docs (int): The number of top documents to return. Defaults to the length of df.\n",
    "\n",
    "    Returns:\n",
    "    tuple: A tuple containing a dataframe with the top n documents for the specified topic and a list with their content.\n",
    "    \"\"\"\n",
    "    def sort_docs_with_same_prob(probabilities, prob, topic):\n",
    "        \"\"\"\n",
    "        Sort documents that have the same probability for a specified topic.\n",
    "\n",
    "        Parameters:\n",
    "        probabilities (numpy.ndarray): The probabilities from the BERTopic model.\n",
    "        prob (float): The probability to filter by.\n",
    "        topic (int): The topic to sort the documents for.\n",
    "\n",
    "        Returns:\n",
    "        numpy.ndarray: An array containing the sorted indices of the documents that have the specified probability for the specified topic.\n",
    "        \"\"\"\n",
    "        # Get the indices of all documents that have the current probability for the defined topic\n",
    "        top_docs_indices = np.where(probabilities[:, topic] == prob)[0]\n",
    "        # Sort the probabilities for each document in descending order\n",
    "        sorted_probs = -np.sort(-probabilities[top_docs_indices], axis=1)\n",
    "        # Compute the score for each document based on the difference between their first and second scores\n",
    "        scores = sorted_probs[:, 0] - sorted_probs[:, 1]\n",
    "        # Sort these top documents based on their scores\n",
    "        sorted_top_docs_indices = top_docs_indices[np.argsort(scores)[::-1]]\n",
    "        \n",
    "        return sorted_top_docs_indices\n",
    "    \n",
    "    # Get the unique probabilities for the defined topic\n",
    "    unique_probs = np.unique(probabilities[:, topic])\n",
    "    # Sort the unique probabilities in descending order\n",
    "    sorted_unique_probs = np.sort(unique_probs)[::-1]\n",
    "    \n",
    "    # Initialize an empty list to store the sorted indices of all documents\n",
    "    sorted_docs_indices = []\n",
    "    \n",
    "    # Loop over the unique probabilities\n",
    "    for prob in sorted_unique_probs:\n",
    "        # Sort the documents that have the current probability for the defined topic\n",
    "        sorted_top_docs_indices = sort_docs_with_same_prob(probabilities, prob, topic)\n",
    "        # Append these indices to the list of sorted indices of all documents\n",
    "        sorted_docs_indices.extend(sorted_top_docs_indices)\n",
    "    \n",
    "    # Take the top n from this sorted list\n",
    "    final_top_docs_indices = np.array(sorted_docs_indices)[:top_n_docs]\n",
    "    \n",
    "    # Get the content of the top n documents from your dataframe\n",
    "    top_docs_df = df.iloc[final_top_docs_indices]\n",
    "    top_docs_content = top_docs_df[\"processed_data\"].to_list()\n",
    "    \n",
    "    return top_docs_df, top_docs_content\n",
    "\n",
    "def filter_docs(df, filter_column, filter_value):\n",
    "    \"\"\"\n",
    "    Filter a dataframe based on a specified column and value.\n",
    "\n",
    "    Parameters:\n",
    "    df (pandas.DataFrame): The dataframe to filter.\n",
    "    filter_column (str): The name of the column to filter by.\n",
    "    filter_value (str): The value to filter by in the specified column.\n",
    "\n",
    "    Returns:\n",
    "    tuple: A tuple containing the filtered dataframe and a boolean mask indicating which rows match the specified filter.\n",
    "    \"\"\"\n",
    "    filter_mask = df[filter_column] == filter_value\n",
    "    return df[filter_mask], filter_mask\n",
    "\n",
    "# Filter the top docs based on the specified column and value\n",
    "filtered_top_docs, filter_mask = filter_docs(df4, \"Account Country\", \"France\")\n",
    "top_docs_df, top_docs_content = get_top_topic_docs(topic_model_merged.probabilities_[filter_mask], filtered_top_docs, topic=2, top_n_docs=10)\n",
    "\n",
    "# top_docs_content"
   ]
  },
  {
   "cell_type": "code",
   "execution_count": null,
   "metadata": {},
   "outputs": [],
   "source": []
  },
  {
   "cell_type": "code",
   "execution_count": null,
   "metadata": {},
   "outputs": [],
   "source": []
  },
  {
   "cell_type": "code",
   "execution_count": null,
   "metadata": {},
   "outputs": [],
   "source": []
  }
 ],
 "metadata": {
  "kernelspec": {
   "display_name": "wassati",
   "language": "python",
   "name": "python3"
  },
  "language_info": {
   "codemirror_mode": {
    "name": "ipython",
    "version": 3
   },
   "file_extension": ".py",
   "mimetype": "text/x-python",
   "name": "python",
   "nbconvert_exporter": "python",
   "pygments_lexer": "ipython3",
   "version": "3.9.17"
  },
  "orig_nbformat": 4
 },
 "nbformat": 4,
 "nbformat_minor": 2
}
