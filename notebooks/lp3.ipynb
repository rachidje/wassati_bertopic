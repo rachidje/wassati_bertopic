{
 "cells": [
  {
   "cell_type": "code",
   "execution_count": 1,
   "metadata": {
    "metadata": {}
   },
   "outputs": [
    {
     "name": "stderr",
     "output_type": "stream",
     "text": [
      "/home/cattiaux/anaconda3/envs/wassati/lib/python3.9/site-packages/umap/distances.py:1063: NumbaDeprecationWarning: The 'nopython' keyword argument was not supplied to the 'numba.jit' decorator. The implicit default value for this argument is currently False, but it will be changed to True in Numba 0.59.0. See https://numba.readthedocs.io/en/stable/reference/deprecation.html#deprecation-of-object-mode-fall-back-behaviour-when-using-jit for details.\n",
      "  @numba.jit()\n",
      "/home/cattiaux/anaconda3/envs/wassati/lib/python3.9/site-packages/umap/distances.py:1071: NumbaDeprecationWarning: The 'nopython' keyword argument was not supplied to the 'numba.jit' decorator. The implicit default value for this argument is currently False, but it will be changed to True in Numba 0.59.0. See https://numba.readthedocs.io/en/stable/reference/deprecation.html#deprecation-of-object-mode-fall-back-behaviour-when-using-jit for details.\n",
      "  @numba.jit()\n",
      "/home/cattiaux/anaconda3/envs/wassati/lib/python3.9/site-packages/umap/distances.py:1086: NumbaDeprecationWarning: The 'nopython' keyword argument was not supplied to the 'numba.jit' decorator. The implicit default value for this argument is currently False, but it will be changed to True in Numba 0.59.0. See https://numba.readthedocs.io/en/stable/reference/deprecation.html#deprecation-of-object-mode-fall-back-behaviour-when-using-jit for details.\n",
      "  @numba.jit()\n",
      "/home/cattiaux/anaconda3/envs/wassati/lib/python3.9/site-packages/umap/umap_.py:660: NumbaDeprecationWarning: The 'nopython' keyword argument was not supplied to the 'numba.jit' decorator. The implicit default value for this argument is currently False, but it will be changed to True in Numba 0.59.0. See https://numba.readthedocs.io/en/stable/reference/deprecation.html#deprecation-of-object-mode-fall-back-behaviour-when-using-jit for details.\n",
      "  @numba.jit()\n"
     ]
    },
    {
     "data": {
      "text/plain": [
       "True"
      ]
     },
     "execution_count": 1,
     "metadata": {},
     "output_type": "execute_result"
    }
   ],
   "source": [
    "import pandas as pd\n",
    "import numpy as np\n",
    "import re \n",
    "import nltk \n",
    "\n",
    "from bertopic import BERTopic\n",
    "from bertopic.vectorizers import ClassTfidfTransformer\n",
    "from bertopic.representation import KeyBERTInspired, MaximalMarginalRelevance\n",
    "from sentence_transformers import SentenceTransformer\n",
    "from clustering.clustering import ClusteringMethod\n",
    "from sklearn.feature_extraction.text import CountVectorizer\n",
    "from keybert import KeyBERT\n",
    "\n",
    "import torch\n",
    "torch.cuda.is_available()"
   ]
  },
  {
   "cell_type": "code",
   "execution_count": 10,
   "metadata": {
    "metadata": {}
   },
   "outputs": [],
   "source": [
    "##### PREPROCESS ##########\n",
    "\n",
    "df = pd.read_excel(\"/media/cattiaux/DATA/Wassati/team_data/lp3/Umfrage ZSP 2022 - Coop Gruppe(1-3749).xlsx\", engine='openpyxl')\n",
    "# Rename columns for readability\n",
    "df = df.rename(columns={\n",
    "    'Was zeichnet nach Ihren Erfahrungen einen guten Vorgesetzten / eine gute Vorgesetzte aus und was erwarten Sie von ihm respektive ihr? (Stichworte oder Fliesstext)': 'Comments'})\n",
    "# df['year'] = pd.DatetimeIndex(df[\"Startzeit\"]).year\n",
    "# Replace 'Deutsch' with 'de'\n",
    "df['Language'] = df['Language'].replace('Deutsch', 'de')\n",
    "# Replace 'Français (France)' with 'fr'\n",
    "df['Language'] = df['Language'].replace('Français (France)', 'fr')\n",
    "# Replace 'English (United Kingdom)' with 'en'\n",
    "df['Language'] = df['Language'].replace('English (United Kingdom)‎', 'en')\n",
    "# Replace 'Italiano' with 'it'\n",
    "df['Language'] = df['Language'].replace('Italiano', 'it')\n",
    "# df.to_csv(\"/media/cattiaux/DATA/Wassati/team_data/lp3/lp3_comments.csv\", header=True, index=False)\n",
    "\n",
    "df2 = pd.read_csv(\"/media/cattiaux/DATA/Wassati/team_data/lp3/hlt_open_answer_with_language.csv\")\n",
    "df2 = df2.rename(columns={'languages':'Language', 'answer':\"Comments\"})\n",
    "\n",
    "df_merge = df.append(df2, ignore_index=True)\n",
    "\n",
    "# df_merge.to_csv(\"/media/cattiaux/DATA/Wassati/team_data/lp3/lp3_comments_merge.csv\", header=True, index=False)\n",
    "# df_merge = pd.read_csv(\"/media/cattiaux/DATA/Wassati/team_data/lp3/lp3_comments_merge.csv\")\n",
    "\n",
    "# Filter rows where the 'Language' column is in the specified values\n",
    "desired_languages = ['en', 'it', 'fr', 'de']\n",
    "df_merge = df_merge[df_merge['Language'].isin(desired_languages)]\n",
    "\n",
    "# Replace newline characters with a space\n",
    "df_merge['Comments'] = df_merge['Comments'].str.replace('\\n', '. ')\n",
    "\n",
    "df_merge = df_merge.dropna(subset=['Comments'])"
   ]
  },
  {
   "cell_type": "code",
   "execution_count": 2,
   "metadata": {
    "metadata": {}
   },
   "outputs": [],
   "source": [
    "# # Mapping of language codes to full language names\n",
    "# language_mapping = {\n",
    "#     'fr': 'French',\n",
    "#     'de': 'German',\n",
    "#     'es': 'Spanish',\n",
    "#     'it': 'Italian'\n",
    "# }\n",
    "\n",
    "# # Add the prefix based on the language value\n",
    "# df_merge['comment_to_translate'] = df_merge.apply(lambda row: f\"Translate {language_mapping.get(row['Language'], row['Language'])} to English: {row['Comments']}\" if row['Language'] != 'en' else row['Comments'], axis=1)"
   ]
  },
  {
   "cell_type": "code",
   "execution_count": 11,
   "metadata": {},
   "outputs": [],
   "source": [
    "###################### MAUVAISE TRADUCTION ###\n",
    "\n",
    "# traduire iloc 4113 : A GOOD CHIEF IS A PERSON WHO HAS A GREAT SENSE OF LISTENING AND WHO KNOWS HOW TO APPRECIATE THE NEEDS OF HIS COLLABORATORS AND RESPOND TO THEM WHILE TAKING INTO ACCOUNT THE REQUIREMENTS OF COMPANY POLICY. IT'S ALSO SOMEONE WHO KNOWS MY JOB AND NOT MY TASKS, AND WHO CAN UNDERSTAND MY EXPECTATIONS AND NEEDS FOR DEVELOPMENT. IT'S ALSO SOMEONE WHO KNOWS HOW TO CONGRATULATE AND REPRIMAND, TO SET THE RIGHT PACE AND GIVE RESPONSIBILITY TO EMPLOYEES. \n",
    "# traduire iloc 1505 : Give trust (if it is not negatively exploited); trust high performance and hand over responsibility; support the employee (stand by him/her, also towards superiors); stand by his/her word; offer support in case of problems; give feedback (especially positive but also potential for improvement) and, where appropriate, tips for improvement; be a role model with regard to work commitment, work ethic, behavior and dealing with others; show interest in the employees (e.g. ask in the EC how things are going); support further development if possible.\n",
    "# traduire iloc 2742 : Coaching, listening well, supporting and encouraging employees, networked thinking\n",
    "# traduire iloc 444 : Role model, help in Rayon, to all employees, loyal, ensure information\n",
    "# traduire iloc 4703 : A good boss is: Resilient Close to the employees Has time for his team Addresses good and bad issues directly Objective or treats all team members equally\n",
    "# traduire iloc 634 : Freedom for self-development, but also certain guard rails. Objective and critical exchange on both sides.  Clear communication, not one way today, one way tomorrow.  Just leave it simple.\n",
    "# traduire iloc 3030 : Expect him to be there when I need him.  A good boss must be correct, experienced and a leader.\n",
    "# traduire iloc 2306 : Openness and honesty in communication, support with problems before and/or with customers, support with issues related to the Head of Customer, and not always having to hear ‘yes, that’s just how it is,’ but also expressing what is expected from the front to the Head of Customer\n",
    "# traduire iloc 280 : Overall situation in view, fairness, respect, clear line, human, direct and timely conversation, if something does not go as it should, where feasible give freedom/responsibility to employees, coach in certain situations\n",
    "# traduire iloc 682 : Role model, loyal, human\n",
    "# traduire iloc 5470 : Good bosses take employees seriously and show them how. Bosses have foresight and strategic thinking and don't just dwell on the small details, but also need humility towards detail. Bosses need distance to subordinate employees without being arrogant, aloof and distant from them. Good bosses should be able to accept criticism and recognize narcissistic slights in themselves.\n",
    "# traduire iloc 2177 : A good supervisor should lead with intelligence, not with empty talk. And why give an explanation ?\n",
    "# traduire iloc 5847 : -Steers the employee in the desired direction in a way that he/she can understand -Can express him/herself clearly and comprehensibly -Does not play games with the employee -Is willing to listen and engage with the employee. -A feeling for the employees and the ability to manage them correctly and fairly is more important than a great deal of specialist knowledge. -Delivers the tasks to be performed, clearly defined and with the necessary responsibilities and competencies. Allows new or different solutions to be proposed\n",
    "# traduire iloc 5305 (typo gleih -> gleich) : that we are all treated EQUALLY by him/her ... human, fair, correct that i can talk to him/her in case of problems (no matter work or private) that he/she can listen and give information that can laugh and support who is needed that lie the whole team and not only some (good friend) is doing well at work ( we are a team) \n",
    "# traduire iloc 3002 : Recognition of performance, fair, positive\n",
    "# traduire iloc 3904 : Humanity, clear orders, helps to solve problems, good communication\n",
    "# traduire iloc 4401 : Human and professionally competent\n",
    "# traduire iloc 6280 : Balance between AUTHORITY AND COLLABORATION, PROFESSIONAL, COMMUNICATIVE, RESPECTFUL, CLEAR AND ACCURATE, CAN GIVE A GOOD SPEECH, DOWN TO EARTH, CAREFUL APPEARANCE, RELIABLE, HUMAN, RISK-READY, CONVINCING, SELF-AWARE \n",
    "# traduire iloc 1829 : A good manager is someone who is transparent, correct, exemplary, committed and a leader. (ménager au lieu de manager, de au lieu de fr)\n",
    "# traduire iloc 3306 : A good manager sets a clear course for success by adapting to the profiles of his subordinates. I expect him to give me his trust and candor when necessary. \n",
    "\n",
    "\n",
    "# interest in MAB show -> show interest in employees\n",
    "# Fach- & Sozialkompetenz -> Professional and social competence\n",
    "# Thus the leader gets the \"Sörgeli u Ängstli\" with. -> This way, the leader becomes aware of the team’s concerns and anxieties.\n",
    "# the 5s stand. -> things slide.\n",
    "# even a 5 straight -> even let things slide\n",
    "\n",
    "########################## SIGLES ###\n",
    "\n",
    "# MAs -> employees (Mitarbeiter)\n",
    "# MA -> employee (Mitarbeiter)\n",
    "# MT -> management team\n",
    "# vg -> supervisor / manager (Vorgesetzter)\n",
    "# VST -> managers /supervisors (Vorgesetzter)\n",
    "# SBB -> State Library Berlin (Staatsbibliothek zu Berlin)\n",
    "# ggü -> towards (gegenüber)\n",
    "# AKV -> Tasks, Competencies, Responsability (Aufgaben, Kompetenzen, Verantwortung)\n",
    "# Stv -> representative (stellvertretend)\n",
    "# GFs -> managers (Geschäftsführer)\n",
    "# GF -> managers (Geschäftsführer)\n",
    "# abbot -> department (Abteilung)\n",
    "# Abt -> department (Abteilung)\n",
    "# PK Kostenrechnung -> process cost calculation (Prozesskostenrechnung)\n",
    "# SK -> expertise (Sachkompetenz)\n",
    "# AL -> head of department (Abteilungleiter) (AL/RL dans le texte)\n",
    "# RL -> Regional manager (Regionalleiter)\n",
    "# PEP -> Energy\n",
    "# AG -> employer (Arbeitgeber)\n",
    "# AN -> employee (Arbeitnehmer)\n",
    "# A + O -> Alpha and Omega\n",
    "# KVP -> Continual Improvement Process (CIP) (Kontinuierlicher Verbesserungsprozess)\n",
    "# Bzw. -> repectively / or (beziehungsweise)\n",
    "# GL/GV -> gender relations (Geschlechtverkehr)\n",
    "# FL -> branch manager (Filialleiter)\n",
    "# RVL -> sales manager (Verkaufsleiter)\n",
    "# SZB -> Biel Hospital Center (Spitalzentrum Biel)\n",
    "\n",
    "# drh -> human resources manager\n",
    "# rh -> human resources\n",
    "# HR -> human resources\n",
    "# dg -> general manager\n",
    "\n",
    "# cla -> Contributor License Agreement\n",
    "# HC -> Head Coach\n",
    "# MBO -> Management By Objectives\n",
    "# VC -> Venture Capitalist\n",
    "\n",
    "# pdv -> point of sale (point de vente / punto di vendita)\n",
    "\n",
    "####################### ERREURS DE TYPO ###\n",
    "\n",
    "# mangment -> management\n",
    "# methrises -> masters (métrise au lieu de maîtrise et donc traduit methrises)\n",
    "# mangment of equpy -> team management (managment d'équpi)\n",
    "# Vobild -> Role model / leading (Vorbild)\n",
    "# Vorbil, -> Role model, (Vorbild)\n",
    "# vorblidfunktion -> role model function\n",
    "# Nn -> doesn't (non)\n",
    "# suvisory -> sufficient\n",
    "# saoirs -> knowledge (savoirs)\n",
    "# Preceive with -> Leading by \n",
    "# iformations -> information\n",
    "# SMARTE -> SMART\n",
    "# challengen -> challenge\n",
    "# Mutivation -> motivation\n",
    "# Autenthcity -> Authenticity\n",
    "# KLARE KOMMUNIKATIN -> Clear communicator\n",
    "# mitarbiters -> employees\n",
    "# sitautions -> situations\n",
    "# esprit -> spirit (ésprit au lieu de esprit)\n",
    "# Erliche -> honest (erliche au lieu de ehrliche)\n",
    "# Ehrichness -> honesty\n",
    "# ehrich -> honest\n",
    "# bos -> boss\n",
    "# a aller -> an ally (typo allier au lieu de allié)\n",
    "# Erlichkeit -> honesty (typo ehrlichkeit)\n",
    "# Iel -> He (typo il)\n",
    "# pk -> why\n",
    "# makromanagemen -> macromanagement (typo)\n",
    "# Teli -> part (typo for Teil)\n",
    "# Fuehrundsfaehigket -> Leadership skills (Führungsfähigkeit)\n",
    "# fuehrungsbereitschaft -> willingness to lead (führungsbereitschaft)\n",
    "# delegateing -> delegating\n",
    "# metered -> measured\n",
    "# orchestieren -> orchestrating\n",
    "# yaka -> all you have to do is / it's just a matter of (il n'y a qu'à)\n",
    "# aurat -> accurate (akurat au lieu de akkurat)\n",
    "# examplearity -> examplarity\n",
    "# dialigo -> dialogue (dialogo)\n",
    "# besoi,n -> need\n",
    "# fairnaiss -> fairness\n",
    "# qqn -> someone,\n",
    "# accessibilita -> accessibility\n",
    "# deligate -> delegate\n",
    "\n",
    "#################### OTHER REPLACMENT ###\n",
    "\n",
    "# laisse faire -> laisser faire\n",
    "# laisser-faire -> laisser faire\n",
    "# laissez-faire -> laisser faire\n",
    "# selfmanagement -> self management\n",
    "# self-management -> self management\n",
    "# Mut -> Courage\n",
    "# Menschenfreund -> philanthropist / humanitarian\n",
    "# ehrlich -> honest\n",
    "# fehl -> wrong\n",
    "# CCC: Comandare, Controllare, Correggere -> CCC: Command, Control, Correct.\n",
    "# kritik -> Specialist knowledge\n",
    "# chefin -> boss\n",
    "# \"LEITET\" -> LEADS\n",
    "# \"LEITEN\" -> suffer\n",
    "# ziel -> target\n",
    "# prudentia -> prudence\n",
    "# 1x1 -> one on one\n",
    "# clairvoyance -> clear-sightedness\n",
    "# Vorbildsfunktion -> Role model function\n",
    "# merci -> thank you\n",
    "# troupes -> troops\n",
    "# leist -> performance\n",
    "# rigueur -> rigor\n",
    "# lob -> praise\n",
    "# clientele -> customers\n",
    "# Gelichbehandlungen -> treat the same\n",
    "# \"wischi\" waschi -> wishy-washy \n",
    "# agreementrity -> agreement\n",
    "# patron -> boss\n",
    "# Führungsbereitung -> leadership preparation"
   ]
  },
  {
   "cell_type": "code",
   "execution_count": 32,
   "metadata": {},
   "outputs": [
    {
     "data": {
      "text/html": [
       "<div>\n",
       "<style scoped>\n",
       "    .dataframe tbody tr th:only-of-type {\n",
       "        vertical-align: middle;\n",
       "    }\n",
       "\n",
       "    .dataframe tbody tr th {\n",
       "        vertical-align: top;\n",
       "    }\n",
       "\n",
       "    .dataframe thead th {\n",
       "        text-align: right;\n",
       "    }\n",
       "</style>\n",
       "<table border=\"1\" class=\"dataframe\">\n",
       "  <thead>\n",
       "    <tr style=\"text-align: right;\">\n",
       "      <th></th>\n",
       "      <th>ID</th>\n",
       "      <th>Startzeit</th>\n",
       "      <th>Fertigstellungszeit</th>\n",
       "      <th>E-Mail</th>\n",
       "      <th>Name</th>\n",
       "      <th>Language</th>\n",
       "      <th>Comments</th>\n",
       "      <th>is_boss</th>\n",
       "      <th>coach</th>\n",
       "      <th>comment_to_translate</th>\n",
       "      <th>translated_comments</th>\n",
       "    </tr>\n",
       "  </thead>\n",
       "  <tbody>\n",
       "    <tr>\n",
       "      <th>5518</th>\n",
       "      <td>NaN</td>\n",
       "      <td>NaN</td>\n",
       "      <td>NaN</td>\n",
       "      <td>NaN</td>\n",
       "      <td>NaN</td>\n",
       "      <td>de</td>\n",
       "      <td>fhsfg</td>\n",
       "      <td>0.0</td>\n",
       "      <td>KV Business School Zürich AG</td>\n",
       "      <td>Translate German to English: fhsfg</td>\n",
       "      <td>fhsfg</td>\n",
       "    </tr>\n",
       "  </tbody>\n",
       "</table>\n",
       "</div>"
      ],
      "text/plain": [
       "      ID Startzeit Fertigstellungszeit E-Mail  Name Language Comments  \\\n",
       "5518 NaN       NaN                 NaN    NaN   NaN       de    fhsfg   \n",
       "\n",
       "      is_boss                         coach  \\\n",
       "5518      0.0  KV Business School Zürich AG   \n",
       "\n",
       "                    comment_to_translate translated_comments  \n",
       "5518  Translate German to English: fhsfg               fhsfg  "
      ]
     },
     "execution_count": 32,
     "metadata": {},
     "output_type": "execute_result"
    }
   ],
   "source": [
    "# Find rows that contain specific word\n",
    "pd.set_option('display.max_colwidth', None)\n",
    "df_translated[df_translated['translated_comments'].str.contains(\"fhsfg\", case=False)] \n",
    "\n",
    "# df_translated.iloc[5513:5515]\n"
   ]
  },
  {
   "cell_type": "code",
   "execution_count": 16,
   "metadata": {},
   "outputs": [
    {
     "name": "stderr",
     "output_type": "stream",
     "text": [
      "[nltk_data] Downloading package stopwords to\n",
      "[nltk_data]     /home/cattiaux/nltk_data...\n",
      "[nltk_data]   Package stopwords is already up-to-date!\n"
     ]
    }
   ],
   "source": [
    "update_rows = {\n",
    "    4113:\"\"\"A GOOD CHIEF IS A PERSON WHO HAS A GREAT SENSE OF LISTENING AND WHO KNOWS HOW TO APPRECIATE THE NEEDS OF HIS COLLABORATORS AND RESPOND TO THEM WHILE TAKING INTO ACCOUNT THE REQUIREMENTS OF COMPANY POLICY. IT'S ALSO SOMEONE WHO KNOWS MY JOB AND NOT MY TASKS, AND WHO CAN UNDERSTAND MY EXPECTATIONS AND NEEDS FOR DEVELOPMENT. IT'S ALSO SOMEONE WHO KNOWS HOW TO CONGRATULATE AND REPRIMAND, TO SET THE RIGHT PACE AND GIVE RESPONSIBILITY TO EMPLOYEES.\"\"\",\n",
    "    1505:\"\"\"Give trust (if it is not negatively exploited); trust high performance and hand over responsibility; support the employee (stand by him/her, also towards superiors); stand by his/her word; offer support in case of problems; give feedback (especially positive but also potential for improvement) and, where appropriate, tips for improvement; be a role model with regard to work commitment, work ethic, behavior and dealing with others; show interest in the employees (e.g. ask in the EC how things are going); support further development if possible.\"\"\",\n",
    "    2742:\"\"\"Coaching, listening well, supporting and encouraging employees, networked thinking\"\"\",\n",
    "    444:\"\"\"Role model, help in Rayon, to all employees, loyal, ensure information\"\"\",\n",
    "    4703:\"\"\"A good boss is: Resilient Close to the employees Has time for his team Addresses good and bad issues directly Objective or treats all team members equally\"\"\",\n",
    "    634:\"\"\"Freedom for self-development, but also certain guard rails. Objective and critical exchange on both sides.  Clear communication, not one way today, one way tomorrow. Just leave it simple.\"\"\",\n",
    "    3030:\"\"\"Expect him to be there when I need him.  A good boss must be correct, experienced and a leader.\"\"\",\n",
    "    2306:\"\"\"Openness and honesty in communication, support with problems before and/or with customers, support with issues related to the Head of Customer, and not always having to hear \"yes, that’s just how it is\" but also expressing what is expected from the front to the Head of Customer\"\"\",\n",
    "    280:\"\"\"Overall situation in view, fairness, respect, clear line, human, direct and timely conversation, if something does not go as it should, where feasible give freedom/responsibility to employees, coach in certain situations\"\"\",\n",
    "    682:\"\"\"Role model, loyal, human\"\"\",\n",
    "    5470:\"\"\"Good bosses take employees seriously and show them how. Bosses have foresight and strategic thinking and don't just dwell on the small details, but also need humility towards detail. Bosses need distance to subordinate employees without being arrogant, aloof and distant from them. Good bosses should be able to accept criticism and recognize narcissistic slights in themselves.\"\"\",\n",
    "    2177:\"\"\"A good supervisor should lead with intelligence, not with empty talk. And why give an explanation ?\"\"\",\n",
    "    5847:\"\"\"-Steers the employee in the desired direction in a way that he/she can understand -Can express him/herself clearly and comprehensibly -Does not play games with the employee -Is willing to listen and engage with the employee. -A feeling for the employees and the ability to manage them correctly and fairly is more important than a great deal of specialist knowledge. -Delivers the tasks to be performed, clearly defined and with the necessary responsibilities and competencies. Allows new or different solutions to be proposed\"\"\",\n",
    "    5305:\"\"\"that we are all treated EQUALLY by him/her ... human, fair, correct that i can talk to him/her in case of problems (no matter work or private) that he/she can listen and give information that can laugh and support who is needed that lie the whole team and not only some (good friend) is doing well at work ( we are a team) \"\"\",\n",
    "    3002:\"\"\"Recognition of performance, fair, positive\"\"\",\n",
    "    3904:\"\"\"Humanity, clear orders, helps to solve problems, good communication\"\"\",\n",
    "    4401:\"\"\"Human and professionally competent\"\"\",\n",
    "    6280:\"\"\"Balance between AUTHORITY AND COLLABORATION, PROFESSIONAL, COMMUNICATIVE, RESPECTFUL, CLEAR AND ACCURATE, CAN GIVE A GOOD SPEECH, DOWN TO EARTH, CAREFUL APPEARANCE, RELIABLE, HUMAN, RISK-READY, CONVINCING, SELF-AWARE\"\"\",\n",
    "    1829:\"\"\"A good manager is someone who is transparent, correct, exemplary, committed and a leader.\"\"\",\n",
    "    3306:\"\"\"A good manager sets a clear course for success by adapting to the profiles of his subordinates. I expect him to give me his trust and candor when necessary.\"\"\",\n",
    "    5945:\"\"\"role model function in terms of professional competence and social skills. A boss should encourage employees\"\"\",\n",
    "    3706:\"A clear vision and exemplary behavior\",\n",
    "    5695:\"\"\"-Good supervisors fulfill their management tasks (in particular: planning, ensuring goals are achieved, having processes under \"control\", making decisions, communicating). -Their professional competence enables them to make appropriate decisions and communicate. -Their social competence enables them to understand employees as people, to respond to them and to inspire/motivate them for their tasks.\"\"\"\n",
    "    }\n",
    "\n",
    "replacements_sentence = {\n",
    "    \"interest in MAB show\" : \"show interest in employees\",\n",
    "    \"Fach- & Sozialkompetenz\" : \"Professional and social competence\",\n",
    "    \"\"\"Thus the leader gets the \"Sörgeli u Ängstli\" with.\"\"\" : \"\"\"This way, the leader becomes aware of the team’s concerns and anxieties.\"\"\",\n",
    "    \"the 5s stand.\" : \"things slide.\",\n",
    "    \"even a 5 straight\" : \"even let things slide\",\n",
    "    \"Unterstüzung anbieten\":\"offer support\"\n",
    "}\n",
    "\n",
    "replacements_sigle = {\n",
    "    \" MAs \":\" employee \",\n",
    "    \" MA \":\" employee \",\n",
    "    \" MA,\":\" employee,\",\n",
    "    \" MT \":\" management team \",\n",
    "    \" vgs \":\"manager\",\n",
    "    \" vg \":\" manager \",\n",
    "    \" vsts\":\" manager\",\n",
    "    \" VST\":\" manager\",\n",
    "    \" SBB\":\" State Library Berlin\",\n",
    "    \" ggü\":\" towards\",\n",
    "    \"AKV\":\"Tasks, Competencies, Responsability\",\n",
    "    \"Stv\":\"representative\",\n",
    "    \" GFs\":\" manager\",\n",
    "    \" GF\":\" manager\",\n",
    "    \"abbot\":\"department\",\n",
    "    \" Abt\":\" department\",\n",
    "    \"PK Kostenrechnung\":\"process cost calculation\",\n",
    "    \" SK \":\" expertise \",\n",
    "    \" AL \":\" head of department \",\n",
    "    \" AL/\":\" head of department/\",\n",
    "    \"RL \":\"regional manager \",\n",
    "    \" PEP\":\" energy\",\n",
    "    \" AG \":\" employer \",\n",
    "    \" AN \":\" employee \",\n",
    "    \"A + O\":\"alpha and omega\",\n",
    "    \"KVP\":\"Continual Improvement Process (CIP)\",\n",
    "    \"Bzw.\":\"or\",\n",
    "    \"GL/GV\":\"gender relations\",\n",
    "    \" FL \":\" branch manager \",\n",
    "    \" RVL\":\" sales manager\",\n",
    "    \"SZB\":\"Biel Hospital Center\",\n",
    "    \" drh\":\" human resoures manager\",\n",
    "    \" rh\":\" human resources\",\n",
    "    \" HR\":\" human resources\",\n",
    "    \" dg\":\" general manager\",\n",
    "    \" cla \":\" Contributor License Agreement \",\n",
    "    \" HC \":\" head coach \",\n",
    "    \" pdv\":\" point of sale\",\n",
    "    \" mbo\":\" Management By Objectives\",\n",
    "    \" vc\":\" venture capitalist\"\n",
    "}\n",
    "\n",
    "replacements_typo = {\n",
    "    \"methrises\":\"masters\",\n",
    "    \"mangment of equpy\":\"team management\",\n",
    "    \"mangment\":\"management\",\n",
    "    \"Vobild\":\"role model\",\n",
    "    \"Vorbil,\":\"role model\",\n",
    "    \"vorbldfunction\":\"role model function\",\n",
    "    \"vorblidfunktion\":\"rol model function\",\n",
    "    \" Nn \":\" does not \",\n",
    "    \"suvisory\":\"sufficient\",\n",
    "    \"saoirs\":\"knowledge\",\n",
    "    \"Preceive with\":\"leading by\",\n",
    "    \"iformations\":\"information\",\n",
    "    \"SMARTE \":\"SMART \",\n",
    "    \"challengen\":\"challenge\",\n",
    "    \"Mutivation\":\"motivation\",\n",
    "    \"Autenthcity\":\"authenticity\",\n",
    "    \"KLARE KOMMUNIKATIN\":\"clear communicator\",\n",
    "    \"mitarbiters\":\"employees\",\n",
    "    \"sitautions\":\"situations\",\n",
    "    \"esprit \":\"spirit \",\n",
    "    \"Erliche \":\"honest \",\n",
    "    \"Ehrichness\":\"honesty\",\n",
    "    \"ehrich\":\"honest\",\n",
    "    \" bos \":\" boss \",\n",
    "    \"a aller\":\"an ally\",\n",
    "    \"Erlichkeit\":\"honesty\",\n",
    "    \" Iel \":\" He \",\n",
    "    \" pk \":\" why \",\n",
    "    \"makromanagemen\":\"macromanagement\",\n",
    "    \"Teli \":\"part \",\n",
    "    \"Fuehrundsfaehigket\":\"Leadership skills\",\n",
    "    \"fuehrungsbereitschaft\":\"willingness to lead\",\n",
    "    \"delegateing\":\"delegating\",\n",
    "    \"metered\":\"measured\",\n",
    "    \"orchestieren\":\"orchestrating\",\n",
    "    \"yaka\":\"it's just a matter of\",\n",
    "    \"aurat \":\"accurate \",\n",
    "    \"examplearity\":\"examplarity\",\n",
    "    \"dialigo\":\"dialogue\",\n",
    "    \"besoi,n\":\"need\",\n",
    "    \"fairnaiss\":\"fairness\",\n",
    "    \"qqn\":\"someone\",\n",
    "    \"accessibilita\":\"accessibility\",\n",
    "    \"deligate\":\"delegate\",\n",
    "    \"cheffs\":\"bosses\"\n",
    "}\n",
    "\n",
    "replacements_others = {\n",
    "    \"Mut \":\"courage \",\n",
    "    \"Menschenfreund\":\"philanthropist\",\n",
    "    \"ehrlich\":\"honest\",\n",
    "    \"fehl\":\"wrong\",\n",
    "    \"CCC: Comandare, Controllare, Correggere\":\"CCC: Command, Control, Correct\",\n",
    "    \"kritik\":\"specialist knowledge\",\n",
    "    \"chefin\":\"boss\",\n",
    "    \"LEITET\":\"leads\",\n",
    "    \"leiten\":\"suffer\",\n",
    "    \"ziel\":\"target\",\n",
    "    \"prudentia\":\"prudence\",\n",
    "    \"1x1\":\"one on one\",\n",
    "    \"clairvoyance\":\"clear-sightedness\",\n",
    "    \"Vorbildsfunktion\":\"role model function\",\n",
    "    \"merci\":\"thank you\",\n",
    "    \"leist\":\"performance\",\n",
    "    \"rigueur\":\"rigor\",\n",
    "    \"Visionär\":\"visionary\",\n",
    "    \"Zielstrebig\":\"determined\",\n",
    "    \"Offen \":\"open \",\n",
    "    \"laisser-faire\":\"laisser faire\",\n",
    "    \"laissez-faire\":\"laisser faire\",\n",
    "    \"laisse faire\":\"laisser faire\",\n",
    "    \"lob \":\"praise \",\n",
    "    \"clientele\":\"customer\",\n",
    "    \"Gelichbehandlungen\":\"treat the same\",\n",
    "    \"'wischi' waschi\":\"wishy washy\",\n",
    "    \"wishy-washy\":\"wishy washy\",\n",
    "    \"agreementrity\":\"agreement\",\n",
    "    \"patron\":\"boss\",\n",
    "    \"Führungsbereitung\":\"leadership preparation\",\n",
    "    \"orientedness\":\"oriented\",\n",
    "    \"openness\":\"open\",\n",
    "    \"fairness\":\"fair\",\n",
    "    \"helpiveness\":\"helpfulness\",\n",
    "    \"exemplaryness\":\"exemplary\",\n",
    "    \"exemplaryity\":\"exemplarity\",\n",
    "    \"exemplararity\":\"exemplarity\",\n",
    "    \"exemplarité\":\"exemplarity\",\n",
    "    \"value-oriented\":\"value oriented\",\n",
    "    \"Teamable\":\"team player\",\n",
    "    \"teamplayer\":\"team player\",\n",
    "    \"long-term\":\"long term\",\n",
    "    \"superiors\":\"superior\",\n",
    "    \"chefs\":\"chef\",\n",
    "    \"collaborators\":\"collaborator\",\n",
    "    \"ears\":\"ear\",\n",
    "    \"criticisms\":\"criticism\",\n",
    "    \"freedoms\":\"freedom\",\n",
    "    \"competences\":\"competence\",\n",
    "    \"teamness\":\"team spirit\",\n",
    "    \"loyality\":\"loyalty\",\n",
    "    \"dealings\":\"treatment\",\n",
    "    \"motivative\":\"motivate\",\n",
    "    \"leaven\":\"calm\",\n",
    "    \"sparing\":\"sparring\",\n",
    "    \"manages\":\"manage\",\n",
    "    \"bosses\":\"boss\",\n",
    "    \"supervisors\":\"supervisor\",\n",
    "    \"coaches\":\"coach\",\n",
    "    \"employees\":\"employee\",\n",
    "    \"employing\":\"employs\",\n",
    "    \"motivates\":\"motivate\",\n",
    "    \"communicates\":\"communicate\",\n",
    "    \"trusting\":\"trust\",\n",
    "    \"managers\":\"manager\",\n",
    "    \"communicators\":\"communicator\",\n",
    "    \"leads\":\"lead\",\n",
    "    \"commissions\":\"commission\",\n",
    "    \"leaders\":\"leader\",\n",
    "    \"questions\":\"question\",\n",
    "    \"colleagues\":\"colleague\",\n",
    "    \"motivating\":\"motivate\",\n",
    "    \"communications\":\"communication\",\n",
    "    \"listening\":\"listen\",\n",
    "    \"listened\":\"listen\",\n",
    "    \"partners\":\"partner\",\n",
    "    \"communicating\":\"communicate\",\n",
    "    \"meetings\":\"meeting\",\n",
    "    \"communicated\":\"communicate\",\n",
    "    \"customers\":\"customer\",\n",
    "    \"keeping\":\"keep\",\n",
    "    \"waiting\":\"wait\",\n",
    "    \"understands\":\"understand\",\n",
    "    \"answered\":\"answer\",\n",
    "    \"participates\":\"participate\",\n",
    "    \"trusts\":\"trust\"\n",
    "}\n",
    "\n",
    "ngrams_list = [\"laisser faire\", \"Anselm Grün\", \"specialist knowledge\", \"dossier knowledge\", \"force majeure\", \"thank you\", \"professional competence\", \"human resources\", \"branch manager\", \"sales manager\", \"lao tzeu\", \"management team\", \"wishy washy\", \"venture capitalist\", \"self management\", \"ear criticism\", \"supports problems\", \"decisions order\", \"lead person\",\"value oriented\", \"distributed tasks\", \"analytical mind\", \"labour market\", \"confidentiality information\", \"resetting ego\", \"team player\", \"team organization\", \"cooperative spirit\", \"team spirit\", \"trust team\", \"open ear\",\"role model\", \"make decisions\", \"high level\", \"clear rules\", \"clear vision\", \"clear line\", \"clear communication\", \"honest communication\", \"transparent communication\", \"clear goals\", \"clear orders\", \"clear guidelines\", \"clear objectives\", \"clear decisions\", \"clear instructions\", \"clear tasks\", \"clear targets\", \"social competence\", \"team collaboration\", \"team members\", \"value oriented\", \"constructive feedback\", \"open communication\", \"goes ahead\", \"stands up\", \"equal treatment\", \"long leash\", \"short leash\", \"eye level\", \"professionally competent\", \"socially competent\", \"work organization\", \"target agreement\",\"soial skills\", \"communication skills\", \"professional skills\", \"leadership skills\", \"soft skills\", \"observation skills\", \"team skills\", \"difficult situations\", \"personal development\", \"professional development\", \"career development\", \"further development\", \"keep promises\", \"respectful treatment\", \"remain calm\", \"stay calm\", \"back cover\", \"blind spot\", \"front line\", \"good example\", \"good leader\",\"good supervisor\",\"good manager\",\"good boss\", \"good superior\", \"family member\", \"sparring partner\", \"exemplary behavior\", \"Continual Improvement Process\", \"one on one\", \"process cost calculation\", \"Biel Hospital Center\", \"Management By Objectives\", \"point of sale\", \"strengths and weaknesses\", \"climate of trust\", \"people with disabilities\", \"long term vision\"]\n",
    "\n",
    "more_stopwords = [\"MMMM\",\"style\",\"good boss\",\"good leader\",\"good supervisor\",\"good superior\",\"good manager\",\"good coach\",\"good\",\"boss\",\"leader\",\"manager\",\"superior\", \"supervisor\",\"person\"]\n",
    "nltk.download('stopwords')\n",
    "stopwords = nltk.corpus.stopwords.words('english')\n",
    "stopwords.extend(more_stopwords)"
   ]
  },
  {
   "cell_type": "code",
   "execution_count": 31,
   "metadata": {
    "metadata": {}
   },
   "outputs": [],
   "source": [
    "df_translated = pd.read_csv(\"/media/cattiaux/DATA/Wassati/team_data/lp3/lp3_comments_merge_translated.csv\")\n",
    "\n",
    "# List of rows to be excluded\n",
    "rows_to_exclude = [2466,3191,3366,3976,4015,6562,6614]\n",
    "rows_to_exclude2 = [2116,5351,7055,5334,4566,4232,6103,6104,6105,6109,6110,3776,4397,5513]\n",
    "\n",
    "# Selecting rows that are not in the list\n",
    "df_translated = df_translated[~df_translated.index.isin(rows_to_exclude)]\n",
    "\n",
    "# Update the \"translated_comments\" column using the dictionary\n",
    "for iloc, new_comment in update_rows.items():\n",
    "    df_translated.at[df_translated.index[iloc], 'translated_comments'] = new_comment\n",
    "\n",
    "# Replace the words in the 'translated_comments' column\n",
    "# Create a combined regex pattern from the dictionary keys\n",
    "df_translated['translated_comments'] = df_translated['translated_comments'].replace(replacements_sentence, regex=True)\n",
    "# regex_pattern = '(' + '|'.join(re.escape(key) for key in replacements_sigle.keys()) + ')'\n",
    "# df_translated['translated_comments'] = df_translated['translated_comments'].str.replace(regex_pattern, lambda m: replacements_sigle.get(m.group(0).lower(), m.group(0)), flags=re.IGNORECASE, regex=True)\n",
    "# # df_translated['translated_comments'] = df_translated['translated_comments'].str.replace(regex_pattern, replacement_function, flags=re.IGNORECASE, regex=True)\n",
    "# regex_pattern = '(' + '|'.join(re.escape(key) for key in replacements_typo.keys()) + ')'\n",
    "# df_translated['translated_comments'] = df_translated['translated_comments'].str.replace(regex_pattern, lambda m: replacements_typo.get(m.group(0).lower(), m.group(0)), flags=re.IGNORECASE, regex=True)\n",
    "# regex_pattern = '(' + '|'.join(re.escape(key) for key in replacements_others.keys()) + ')'\n",
    "# df_translated['translated_comments'] = df_translated['translated_comments'].str.replace(regex_pattern, lambda m: replacements_others.get(m.group(0).lower(), m.group(0)), flags=re.IGNORECASE, regex=True)\n",
    "\n",
    "\n",
    "# Function to replace keys in the text with their corresponding values\n",
    "def replace_keys(text, dico):\n",
    "    pattern = '(' + '|'.join(re.escape(key) for key in dico.keys()) + ')'\n",
    "    def match_case(match):\n",
    "        key = match.group(0).lower()\n",
    "        return dico.get(key, key)\n",
    "    return re.sub(pattern, match_case, text, flags=re.IGNORECASE)\n",
    "\n",
    "# Apply the function to the 'translated_comments' column\n",
    "df_translated['translated_comments'] = df_translated['translated_comments'].apply(lambda text: replace_keys(text, replacements_sigle))\n",
    "df_translated['translated_comments'] = df_translated['translated_comments'].apply(lambda text: replace_keys(text, replacements_typo))\n",
    "df_translated['translated_comments'] = df_translated['translated_comments'].apply(lambda text: replace_keys(text, replacements_others))\n",
    "\n",
    "df_translated = df_translated[~df_translated.index.isin(rows_to_exclude2)]\n",
    "\n",
    "# Filter out the rows that contain any of the specified tests\n",
    "tests_to_exclude = '|'.join(['Test 1', 'Test 2', 'Test 3', 'Test 4'])\n",
    "df_translated = df_translated[~df_translated['translated_comments'].str.contains(tests_to_exclude, case=False, na=False)]\n",
    "\n",
    "# df_translated.iloc[3306:3307]"
   ]
  },
  {
   "cell_type": "code",
   "execution_count": null,
   "metadata": {},
   "outputs": [],
   "source": [
    "########## CHECK KEYWORDS WITH KEYERT ################\n",
    "\n",
    "# model_name = \"all-MiniLM-L6-v2\"\n",
    "\n",
    "# # Initialize KeyBERT with the specified model\n",
    "# kw_model = KeyBERT(model_name)\n",
    "\n",
    "# # Extract the top n unigrams for each document\n",
    "# df_translated['top_unigrams'] = df_translated['translated_comments'].apply(\n",
    "#     lambda doc: kw_model.extract_keywords(doc, keyphrase_ngram_range=(2, 2), stop_words='english', \n",
    "#                                           use_mmr=True, top_n=4)\n",
    "# )\n",
    "\n",
    "# # To get a list of unique unigrams across all documents\n",
    "# unique_unigrams = set()\n",
    "# df_translated['top_unigrams'].apply(lambda keywords: unique_unigrams.update([word for word, _ in keywords]))\n",
    "\n",
    "# # Convert the set to a list\n",
    "# vocabulary_list = list(unique_unigrams)\n",
    "# vocabulary_list"
   ]
  },
  {
   "cell_type": "code",
   "execution_count": 33,
   "metadata": {},
   "outputs": [],
   "source": [
    "from collections import Counter\n",
    "from nltk.util import ngrams\n",
    "\n",
    "##### CHECK LIST BEST NGRAMS ################\n",
    "\n",
    "# Function to generate n-grams from a list of tokens\n",
    "def generate_ngrams(tokens, n):\n",
    "    return list(ngrams(tokens, n))\n",
    "\n",
    "# Choose the value of n for n-grams (e.g., 2 for bigrams, 3 for trigrams, etc.)\n",
    "n = 2\n",
    "\n",
    "# Generate n-grams for each row in the DataFrame\n",
    "df_translated['ngrams'] = df_translated['translated_comments'].apply(lambda x: generate_ngrams(x.split(), n))\n",
    "\n",
    "# Flatten the list of n-grams and count occurrences\n",
    "ngram_counts = Counter([ngram for sublist in df_translated['ngrams'] for ngram in sublist])\n",
    "\n",
    "# Create a DataFrame with n-grams and their frequencies\n",
    "ngram_df = pd.DataFrame(ngram_counts.items(), columns=['Ngram', 'Frequency']).sort_values(by='Frequency', ascending=False)\n",
    "# ngram_df.iloc[0:50]\n",
    "\n",
    "# Function to check if the specified word is in the n-gram tuple\n",
    "def contains_word(ngram_tuple, word, position=None):\n",
    "    # Convert the tuple to lowercase to perform case-insensitive comparison\n",
    "    ngram_tuple_lower = tuple(map(str.lower, ngram_tuple))\n",
    "    word_lower = word.lower()\n",
    "    # If position is specified, check the specific index\n",
    "    if position is not None:\n",
    "        return ngram_tuple_lower[position] == word_lower if position < len(ngram_tuple_lower) else False\n",
    "    # If position is not specified, check if the word is anywhere in the tuple\n",
    "    return word_lower in ngram_tuple_lower\n",
    "\n",
    "# ngram_df[ngram_df['Ngram'].apply(lambda x: contains_word(x, \"team\"))][:50]\n",
    "\n",
    "# back,\n"
   ]
  },
  {
   "cell_type": "code",
   "execution_count": 31,
   "metadata": {},
   "outputs": [
    {
     "data": {
      "text/plain": [
       "3412"
      ]
     },
     "execution_count": 31,
     "metadata": {},
     "output_type": "execute_result"
    }
   ],
   "source": [
    "from vocabulary.vocabulary import VocabularyCreator\n",
    "\n",
    "df_translated = df_translated.rename(columns={\n",
    "    'translated_comments': 'processed_data'})\n",
    "\n",
    "model_name = \"all-MiniLM-L6-v2\"\n",
    "\n",
    "keybert_kwargs={\n",
    "    \"top_n\": 5,\n",
    "    \"use_mmr\": True,\n",
    "    \"stop_words\": \"english\",\n",
    "    \"keyphrase_ngram_range\": (1, 1),\n",
    "    \"nr_candidates\": 12\n",
    "}\n",
    "\n",
    "vocabulary_creator = VocabularyCreator(model_name,ngrams_list,**keybert_kwargs)\n",
    "vocabulary_list = vocabulary_creator.keybert_vocabulary(df_translated)\n",
    "len(vocabulary_list)"
   ]
  },
  {
   "cell_type": "code",
   "execution_count": 54,
   "metadata": {},
   "outputs": [
    {
     "name": "stderr",
     "output_type": "stream",
     "text": [
      "/home/cattiaux/anaconda3/envs/wassati/lib/python3.9/site-packages/transformers/models/marian/tokenization_marian.py:194: UserWarning: Recommended: pip install sacremoses.\n",
      "  warnings.warn(\"Recommended: pip install sacremoses.\")\n"
     ]
    }
   ],
   "source": [
    "######### MODULE TRANSLATE ###########\n",
    "\n",
    "# Use a pipeline as a high-level helper\n",
    "from transformers import pipeline\n",
    "\n",
    "# Set the device to GPU if available, otherwise use CPU\n",
    "# device = torch.device(\"cuda\" if torch.cuda.is_available() else \"cpu\")\n",
    "\n",
    "# Create translation pipelines for each language pair\n",
    "german_to_english = pipeline(\"translation\", model=\"Helsinki-NLP/opus-mt-de-en\", max_length=1350)#, device=device)\n",
    "french_to_english = pipeline(\"translation\", model=\"Helsinki-NLP/opus-mt-fr-en\", max_length=1350)#, device=device)\n",
    "italian_to_english = pipeline(\"translation\", model=\"Helsinki-NLP/opus-mt-it-en\", max_length=1350)#, device=device)"
   ]
  },
  {
   "cell_type": "code",
   "execution_count": 131,
   "metadata": {},
   "outputs": [],
   "source": [
    "######### MODULE TRANSLATE ###########\n",
    "\n",
    "########## TEST traduction AVEC mbart MODEL ###########\n",
    "\n",
    "# from transformers import AutoTokenizer, AutoModelForSeq2SeqLM\n",
    "\n",
    "# tokenizer = AutoTokenizer.from_pretrained(\"facebook/mbart-large-50-many-to-many-mmt\")\n",
    "# model = AutoModelForSeq2SeqLM.from_pretrained(\"facebook/mbart-large-50-many-to-many-mmt\")\n",
    "\n",
    "# # Define the manual mapping of language codes\n",
    "# language_mapping = {\n",
    "#     \"fr\": \"fr_XX\",  # French\n",
    "#     \"de\": \"de_DE\",  # German\n",
    "#     \"it\": \"it_IT\",  # Italian\n",
    "#     # Add more mappings as needed\n",
    "# }\n",
    "\n",
    "# def translate_comment(comment, language_code):\n",
    "#     if language_code == \"en\":\n",
    "#         # No need to translate English comments\n",
    "#         return comment\n",
    "#     else:\n",
    "#         src_lang = language_mapping.get(language_code, None)\n",
    "#         if src_lang is None:\n",
    "#             raise ValueError(f\"Unsupported language code: {language_code}\")\n",
    "        \n",
    "#         tgt_lang = \"en_XX\"\n",
    "#         encoded_comment = tokenizer(comment, return_tensors=\"pt\")\n",
    "#         generated_tokens = model.generate(\n",
    "#             **encoded_comment,\n",
    "#             forced_bos_token_id=tokenizer.lang_code_to_id[tgt_lang]\n",
    "#         )\n",
    "#         translated_comment = tokenizer.batch_decode(generated_tokens, skip_special_tokens=True)[0]\n",
    "#         return translated_comment\n",
    "    \n",
    "# # df_merge[\"Translated_Comments\"] = df_merge.apply(lambda row: translate_comment(row[\"Comments\"], row[\"Language\"]), axis=1)\n",
    "# df_merge.iloc[1100:1150].apply(lambda row: translate_comment(row[\"Comments\"], row[\"Language\"]), axis=1)\n"
   ]
  },
  {
   "cell_type": "code",
   "execution_count": 156,
   "metadata": {},
   "outputs": [],
   "source": [
    "######## TRANSLATION MODELS TO ENGLISH ##########\n",
    "\n",
    "from semantic_text_splitter import TextSplitter\n",
    "\n",
    "def translate_comment(row):\n",
    "    comment = row['Comments']\n",
    "    lang = row['Language']\n",
    "    \n",
    "    if lang == 'fr':\n",
    "        # Translate French to English\n",
    "        return french_to_english(comment)[0]['translation_text']\n",
    "    elif lang == 'de':\n",
    "        # Translate German to English\n",
    "        return german_to_english(comment)[0]['translation_text']\n",
    "    elif lang == 'it':\n",
    "        # Translate Italian to English\n",
    "        return italian_to_english(comment)[0]['translation_text']\n",
    "    else:\n",
    "        # No translation needed for English comments\n",
    "        return comment\n",
    "\n",
    "def translate_comment_by_seq(row):\n",
    "    comment = row['Comments']\n",
    "    lang = row['Language']\n",
    "    \n",
    "    # Split the comment into sentences (adjust the splitting logic)\n",
    "    def split_sentences(text):\n",
    "        sentences = []\n",
    "        current_sentence = \"\"\n",
    "        for token in text.split(\". \"):\n",
    "            if token[0].isdigit() and len(token) > 1 and token[1] == \".\":\n",
    "                # Append the current sentence and start a new one\n",
    "                sentences.append(current_sentence.strip())\n",
    "                current_sentence = token\n",
    "            else:\n",
    "                current_sentence += \". \" + token\n",
    "        sentences.append(current_sentence.strip())  # Append the last sentence\n",
    "        return sentences\n",
    "    \n",
    "    sentences = split_sentences(comment)\n",
    "    sentences = comment.split(\". \")\n",
    "\n",
    "    # Initialize an empty list to store translated sentences\n",
    "    translated_sentences = []\n",
    "\n",
    "    # Translate each sentence separately\n",
    "    for sentence in sentences:\n",
    "        if lang == 'fr':\n",
    "            # Translate French to English\n",
    "            try:\n",
    "                translated_sentence = french_to_english(sentence)[0]['translation_text']\n",
    "            except IndexError:\n",
    "                translated_sentence = sentence\n",
    "        elif lang == 'de':\n",
    "            # Translate German to English\n",
    "            try:\n",
    "                translated_sentence = german_to_english(sentence)[0]['translation_text']\n",
    "            except IndexError:\n",
    "                translated_sentence = sentence\n",
    "        elif lang == 'it':\n",
    "            # Translate Italian to English\n",
    "            try :\n",
    "                translated_sentence = italian_to_english(sentence)[0]['translation_text']\n",
    "            except IndexError:\n",
    "                translated_sentence = sentence\n",
    "        else:\n",
    "            # No translation needed for English comments\n",
    "            translated_sentence = sentence\n",
    "\n",
    "        # Append the translated sentence to the list\n",
    "        translated_sentences.append(translated_sentence)\n",
    "\n",
    "    # Combine the translated sentences\n",
    "    full_translation = \". \".join(translated_sentences)\n",
    "    return full_translation\n",
    "\n",
    "def translate_comment_by_chunks(row, chunk_size=400):\n",
    "    comment = row['Comments']\n",
    "    lang = row['Language']\n",
    "\n",
    "    # Initialize the TextSplitter with the desired chunk size\n",
    "    splitter = TextSplitter(chunk_size)\n",
    "\n",
    "    # Split the comment into chunks\n",
    "    chunks = splitter.chunks(comment)\n",
    "\n",
    "    # Initialize an empty list to store translated chunks\n",
    "    translated_chunks = []\n",
    "\n",
    "    # Translate each chunk separately\n",
    "    for chunk in chunks:\n",
    "        if lang == 'fr':\n",
    "            # Translate French to English\n",
    "            try:\n",
    "                translated_chunk = french_to_english(chunk)[0]['translation_text']\n",
    "            except IndexError:\n",
    "                translated_chunk = chunk\n",
    "        elif lang == 'de':\n",
    "            # Translate German to English\n",
    "            try:\n",
    "                translated_chunk = german_to_english(chunk)[0]['translation_text']\n",
    "            except IndexError:\n",
    "                translated_chunk = chunk\n",
    "        elif lang == 'it':\n",
    "            # Translate Italian to English\n",
    "            try:\n",
    "                translated_chunk = italian_to_english(chunk)[0]['translation_text']\n",
    "            except IndexError:\n",
    "                translated_chunk = chunk\n",
    "        else:\n",
    "            # No translation needed for English comments\n",
    "            translated_chunk = chunk\n",
    "\n",
    "        # Append the translated chunk to the list\n",
    "        translated_chunks.append(translated_chunk)\n",
    "\n",
    "    # Combine the translated chunks\n",
    "    full_translation = \" \".join(translated_chunks)\n",
    "    return full_translation\n",
    "\n",
    "# Apply translation to each row\n",
    "df_merge['translated_comments'] = df_merge.apply(translate_comment_by_chunks, axis=1)\n",
    "# df_merge[2000:3000].apply(translate_comment_by_chunks, axis=1)\n",
    "\n",
    "# df_merge.to_csv(\"/media/cattiaux/DATA/Wassati/team_data/lp3/lp3_comments_merge_translated.csv\", header=True, index=False)"
   ]
  },
  {
   "cell_type": "code",
   "execution_count": 36,
   "metadata": {},
   "outputs": [
    {
     "data": {
      "application/vnd.jupyter.widget-view+json": {
       "model_id": "20b64b85d5d4401b81d1952f48ee671c",
       "version_major": 2,
       "version_minor": 0
      },
      "text/plain": [
       "Batches:   0%|          | 0/228 [00:00<?, ?it/s]"
      ]
     },
     "metadata": {},
     "output_type": "display_data"
    },
    {
     "name": "stderr",
     "output_type": "stream",
     "text": [
      "/home/cattiaux/anaconda3/envs/wassati/lib/python3.9/site-packages/bertopic/vectorizers/_ctfidf.py:82: RuntimeWarning:\n",
      "\n",
      "divide by zero encountered in divide\n",
      "\n",
      "/home/cattiaux/anaconda3/envs/wassati/lib/python3.9/site-packages/bertopic/vectorizers/_ctfidf.py:82: RuntimeWarning:\n",
      "\n",
      "divide by zero encountered in divide\n",
      "\n"
     ]
    }
   ],
   "source": [
    "# Run BERTopic\n",
    "\n",
    "clustering = ClusteringMethod(model_name)\n",
    "\n",
    "bertopic_kwargs={\n",
    "    \"nr_topics\":\"auto\",\n",
    "    \"ctfidf_model\": ClassTfidfTransformer(reduce_frequent_words=True),\n",
    "    \"representation_model\": [KeyBERTInspired(), MaximalMarginalRelevance(diversity=0.4)], # possible values : KeyBERTInspired() or MaximalMarginalRelevance(diversity=0.5)\n",
    "    \"top_n_words\":10,\n",
    "    # \"min_topic_size\":50,\n",
    "    \"calculate_probabilities\": True\n",
    "}\n",
    "\n",
    "bertopic_kwargs['vectorizer_model'] = CountVectorizer(\n",
    "                    vocabulary=vocabulary_list, \n",
    "                    stop_words=stopwords, \n",
    "                    lowercase=True, \n",
    "                    ngram_range=(1, 3)\n",
    "                )\n",
    "\n",
    "docs = df_translated[\"processed_data\"].astype(str).tolist()\n",
    "\n",
    "topics, probs, topic_model, embeddings = clustering.run_bertopic(\n",
    "    df= df_translated,\n",
    "    **bertopic_kwargs\n",
    "    )"
   ]
  },
  {
   "cell_type": "code",
   "execution_count": 88,
   "metadata": {},
   "outputs": [],
   "source": [
    "# ADD NGRAM AFTER CREATION OF THE BERTOPIC MODEL\n",
    "# from sklearn.feature_extraction.text import CountVectorizer\n",
    "# vectorizer_model = CountVectorizer(ngram_range=(1, 3), stop_words=\"english\")\n",
    "# topic_model.update_topics(docs, vectorizer_model=vectorizer_model)"
   ]
  },
  {
   "cell_type": "code",
   "execution_count": 37,
   "metadata": {},
   "outputs": [
    {
     "data": {
      "application/vnd.plotly.v1+json": {
       "config": {
        "plotlyServerURL": "https://plot.ly"
       },
       "data": [
        {
         "customdata": [
          [
           0,
           "leaderhip | management | subordinates | manage | skills",
           1550
          ],
          [
           1,
           "role model | skills | role | ability | loyalty",
           1433
          ],
          [
           2,
           "role model | role | responsibilities | weaknesses | staff",
           244
          ],
          [
           3,
           "open communication | communication | clear communication | availability | communicative",
           170
          ],
          [
           4,
           "competent | role model | role | strengths | leaderhip",
           163
          ],
          [
           5,
           "authority | colleague | spokesperson | collaborator | responsibilities",
           162
          ],
          [
           6,
           "characterizes | entrusted | conscientiously | characteristics | delegate",
           130
          ],
          [
           7,
           "exemplary | exemplary behavior | disciplined | competent | visionary",
           82
          ],
          [
           8,
           "respectful treatment | handling | clear orders | respectful | open communication",
           79
          ],
          [
           9,
           "coaching | coached | coach | trained | charism",
           69
          ],
          [
           10,
           "management | advisor | organisation | organisations | improve",
           67
          ],
          [
           11,
           "motivate | motivation | encouragements | motivated | inspiration",
           59
          ],
          [
           12,
           "collaborator | diplomacy | colleague | participates | manage",
           57
          ],
          [
           13,
           "profession | manage | organisational | understands | demotivate",
           55
          ],
          [
           14,
           "chef | supervise | qualities | specialist knowledge | collaborator",
           52
          ],
          [
           15,
           "honest communication | leash | long leash | ethical | strengthens",
           51
          ],
          [
           16,
           "leading | role model | lead | guiding | role",
           51
          ],
          [
           17,
           "model | motivator | competent | commitment | instruct",
           51
          ],
          [
           18,
           "curious | example | test | answered | open",
           36
          ],
          [
           19,
           "social competence | competence | professional competence | social | skills",
           33
          ],
          [
           20,
           "sparring partner | sparring | loyalty | partner | participate",
           28
          ],
          [
           21,
           "guidance | advises | responsibilities | helping | management",
           26
          ],
          [
           22,
           "communication | honest communication | clear communication | communicative | responsibilities",
           26
          ],
          [
           23,
           "skills | competencies | communication skills | competence | ability",
           23
          ],
          [
           24,
           "respect | respectful | ras | bli | soft",
           21
          ],
          [
           25,
           "model | predictable | erlichkeit | emphatic | informed",
           21
          ],
          [
           26,
           "trust | trusts | commitment | role model | support",
           20
          ],
          [
           27,
           "open ear | ear | back cover | listener | cover",
           20
          ],
          [
           28,
           "cooperation | cooperate | trust | trustful | togetherness",
           19
          ],
          [
           29,
           "model | function | control | development | understanding",
           18
          ],
          [
           30,
           "exemplar | exemplarity | guided | vision | recognition",
           15
          ],
          [
           31,
           "company | corporate | impartiality | strategic | quality",
           14
          ],
          [
           32,
           "support | supporting | demanding | strong | perspective",
           13
          ],
          [
           33,
           "clear line | lines | line | clear | clear communication",
           13
          ],
          [
           34,
           "humanity | communicate | communication | leaderhip | information",
           13
          ],
          [
           35,
           "confidence | liability | freedom | respect | ",
           12
          ],
          [
           36,
           "appreciation | appreciable | fhsfg | receive | achievements",
           12
          ],
          [
           37,
           "communication | clear communication | confidence | ambition | constructive feedback",
           11
          ],
          [
           38,
           "communication | honest communication | open communication | conversations | eye level",
           11
          ],
          [
           39,
           "honest communication | open communication | communication | honesty | honest",
           10
          ]
         ],
         "hovertemplate": "<b>Topic %{customdata[0]}</b><br>%{customdata[1]}<br>Size: %{customdata[2]}",
         "legendgroup": "",
         "marker": {
          "color": "#B0BEC5",
          "line": {
           "color": "DarkSlateGrey",
           "width": 2
          },
          "size": [
           1550,
           1433,
           244,
           170,
           163,
           162,
           130,
           82,
           79,
           69,
           67,
           59,
           57,
           55,
           52,
           51,
           51,
           51,
           36,
           33,
           28,
           26,
           26,
           23,
           21,
           21,
           20,
           20,
           19,
           18,
           15,
           14,
           13,
           13,
           13,
           12,
           12,
           11,
           11,
           10
          ],
          "sizemode": "area",
          "sizeref": 0.96875,
          "symbol": "circle"
         },
         "mode": "markers",
         "name": "",
         "orientation": "v",
         "showlegend": false,
         "type": "scatter",
         "x": [
          20.016357421875,
          5.3402934074401855,
          19.933177947998047,
          4.854275226593018,
          4.145736217498779,
          4.105677604675293,
          19.82018280029297,
          4.443516254425049,
          3.609710454940796,
          3.708956241607666,
          20.29098129272461,
          3.204880475997925,
          5.324934959411621,
          4.680060863494873,
          3.4347708225250244,
          12.232670783996582,
          5.1452107429504395,
          3.6585001945495605,
          3.244767904281616,
          5.0855560302734375,
          4.926297664642334,
          12.153810501098633,
          3.693789005279541,
          5.211925029754639,
          3.5628793239593506,
          3.4468371868133545,
          3.413559913635254,
          5.149662017822266,
          5.08554744720459,
          3.1617064476013184,
          4.899403095245361,
          4.857408046722412,
          3.2875349521636963,
          3.838118314743042,
          4.2166314125061035,
          4.090863227844238,
          2.982158899307251,
          3.9872448444366455,
          3.6277084350585938,
          3.9590067863464355
         ],
         "xaxis": "x",
         "y": [
          11.241146087646484,
          12.828760147094727,
          11.324295043945312,
          -10.171748161315918,
          12.797410011291504,
          12.477038383483887,
          11.43725872039795,
          12.318102836608887,
          -7.4867634773254395,
          13.1812162399292,
          10.966177940368652,
          -10.147497177124023,
          12.498709678649902,
          13.29509449005127,
          13.173812866210938,
          -0.0894637182354927,
          13.00793170928955,
          14.251299858093262,
          -10.01399040222168,
          11.526639938354492,
          13.264183044433594,
          -0.01664956472814083,
          -7.96498966217041,
          11.681394577026367,
          -7.359326362609863,
          14.41567325592041,
          11.208559036254883,
          -10.45318603515625,
          12.57551097869873,
          14.656041145324707,
          -10.197916984558105,
          12.879864692687988,
          11.098803520202637,
          -7.642948627471924,
          -9.452303886413574,
          -9.884888648986816,
          -10.382073402404785,
          -9.6430025100708,
          -9.483755111694336,
          -9.204662322998047
         ],
         "yaxis": "y"
        }
       ],
       "layout": {
        "annotations": [
         {
          "showarrow": false,
          "text": "D1",
          "x": 2.5348350644111632,
          "y": 2.4166416883468624,
          "yshift": 10
         },
         {
          "showarrow": false,
          "text": "D2",
          "x": 12.93473177552223,
          "xshift": 10,
          "y": 16.854447317123412
         }
        ],
        "height": 650,
        "hoverlabel": {
         "bgcolor": "white",
         "font": {
          "family": "Rockwell",
          "size": 16
         }
        },
        "legend": {
         "itemsizing": "constant",
         "tracegroupgap": 0
        },
        "margin": {
         "t": 60
        },
        "shapes": [
         {
          "line": {
           "color": "#CFD8DC",
           "width": 2
          },
          "type": "line",
          "x0": 12.93473177552223,
          "x1": 12.93473177552223,
          "y0": -12.021163940429688,
          "y1": 16.854447317123412
         },
         {
          "line": {
           "color": "#9E9E9E",
           "width": 2
          },
          "type": "line",
          "x0": 2.5348350644111632,
          "x1": 23.3346284866333,
          "y0": 2.4166416883468624,
          "y1": 2.4166416883468624
         }
        ],
        "sliders": [
         {
          "active": 0,
          "pad": {
           "t": 50
          },
          "steps": [
           {
            "args": [
             {
              "marker.color": [
               [
                "red",
                "#B0BEC5",
                "#B0BEC5",
                "#B0BEC5",
                "#B0BEC5",
                "#B0BEC5",
                "#B0BEC5",
                "#B0BEC5",
                "#B0BEC5",
                "#B0BEC5",
                "#B0BEC5",
                "#B0BEC5",
                "#B0BEC5",
                "#B0BEC5",
                "#B0BEC5",
                "#B0BEC5",
                "#B0BEC5",
                "#B0BEC5",
                "#B0BEC5",
                "#B0BEC5",
                "#B0BEC5",
                "#B0BEC5",
                "#B0BEC5",
                "#B0BEC5",
                "#B0BEC5",
                "#B0BEC5",
                "#B0BEC5",
                "#B0BEC5",
                "#B0BEC5",
                "#B0BEC5",
                "#B0BEC5",
                "#B0BEC5",
                "#B0BEC5",
                "#B0BEC5",
                "#B0BEC5",
                "#B0BEC5",
                "#B0BEC5",
                "#B0BEC5",
                "#B0BEC5",
                "#B0BEC5"
               ]
              ]
             }
            ],
            "label": "Topic 0",
            "method": "update"
           },
           {
            "args": [
             {
              "marker.color": [
               [
                "#B0BEC5",
                "red",
                "#B0BEC5",
                "#B0BEC5",
                "#B0BEC5",
                "#B0BEC5",
                "#B0BEC5",
                "#B0BEC5",
                "#B0BEC5",
                "#B0BEC5",
                "#B0BEC5",
                "#B0BEC5",
                "#B0BEC5",
                "#B0BEC5",
                "#B0BEC5",
                "#B0BEC5",
                "#B0BEC5",
                "#B0BEC5",
                "#B0BEC5",
                "#B0BEC5",
                "#B0BEC5",
                "#B0BEC5",
                "#B0BEC5",
                "#B0BEC5",
                "#B0BEC5",
                "#B0BEC5",
                "#B0BEC5",
                "#B0BEC5",
                "#B0BEC5",
                "#B0BEC5",
                "#B0BEC5",
                "#B0BEC5",
                "#B0BEC5",
                "#B0BEC5",
                "#B0BEC5",
                "#B0BEC5",
                "#B0BEC5",
                "#B0BEC5",
                "#B0BEC5",
                "#B0BEC5"
               ]
              ]
             }
            ],
            "label": "Topic 1",
            "method": "update"
           },
           {
            "args": [
             {
              "marker.color": [
               [
                "#B0BEC5",
                "#B0BEC5",
                "red",
                "#B0BEC5",
                "#B0BEC5",
                "#B0BEC5",
                "#B0BEC5",
                "#B0BEC5",
                "#B0BEC5",
                "#B0BEC5",
                "#B0BEC5",
                "#B0BEC5",
                "#B0BEC5",
                "#B0BEC5",
                "#B0BEC5",
                "#B0BEC5",
                "#B0BEC5",
                "#B0BEC5",
                "#B0BEC5",
                "#B0BEC5",
                "#B0BEC5",
                "#B0BEC5",
                "#B0BEC5",
                "#B0BEC5",
                "#B0BEC5",
                "#B0BEC5",
                "#B0BEC5",
                "#B0BEC5",
                "#B0BEC5",
                "#B0BEC5",
                "#B0BEC5",
                "#B0BEC5",
                "#B0BEC5",
                "#B0BEC5",
                "#B0BEC5",
                "#B0BEC5",
                "#B0BEC5",
                "#B0BEC5",
                "#B0BEC5",
                "#B0BEC5"
               ]
              ]
             }
            ],
            "label": "Topic 2",
            "method": "update"
           },
           {
            "args": [
             {
              "marker.color": [
               [
                "#B0BEC5",
                "#B0BEC5",
                "#B0BEC5",
                "red",
                "#B0BEC5",
                "#B0BEC5",
                "#B0BEC5",
                "#B0BEC5",
                "#B0BEC5",
                "#B0BEC5",
                "#B0BEC5",
                "#B0BEC5",
                "#B0BEC5",
                "#B0BEC5",
                "#B0BEC5",
                "#B0BEC5",
                "#B0BEC5",
                "#B0BEC5",
                "#B0BEC5",
                "#B0BEC5",
                "#B0BEC5",
                "#B0BEC5",
                "#B0BEC5",
                "#B0BEC5",
                "#B0BEC5",
                "#B0BEC5",
                "#B0BEC5",
                "#B0BEC5",
                "#B0BEC5",
                "#B0BEC5",
                "#B0BEC5",
                "#B0BEC5",
                "#B0BEC5",
                "#B0BEC5",
                "#B0BEC5",
                "#B0BEC5",
                "#B0BEC5",
                "#B0BEC5",
                "#B0BEC5",
                "#B0BEC5"
               ]
              ]
             }
            ],
            "label": "Topic 3",
            "method": "update"
           },
           {
            "args": [
             {
              "marker.color": [
               [
                "#B0BEC5",
                "#B0BEC5",
                "#B0BEC5",
                "#B0BEC5",
                "red",
                "#B0BEC5",
                "#B0BEC5",
                "#B0BEC5",
                "#B0BEC5",
                "#B0BEC5",
                "#B0BEC5",
                "#B0BEC5",
                "#B0BEC5",
                "#B0BEC5",
                "#B0BEC5",
                "#B0BEC5",
                "#B0BEC5",
                "#B0BEC5",
                "#B0BEC5",
                "#B0BEC5",
                "#B0BEC5",
                "#B0BEC5",
                "#B0BEC5",
                "#B0BEC5",
                "#B0BEC5",
                "#B0BEC5",
                "#B0BEC5",
                "#B0BEC5",
                "#B0BEC5",
                "#B0BEC5",
                "#B0BEC5",
                "#B0BEC5",
                "#B0BEC5",
                "#B0BEC5",
                "#B0BEC5",
                "#B0BEC5",
                "#B0BEC5",
                "#B0BEC5",
                "#B0BEC5",
                "#B0BEC5"
               ]
              ]
             }
            ],
            "label": "Topic 4",
            "method": "update"
           },
           {
            "args": [
             {
              "marker.color": [
               [
                "#B0BEC5",
                "#B0BEC5",
                "#B0BEC5",
                "#B0BEC5",
                "#B0BEC5",
                "red",
                "#B0BEC5",
                "#B0BEC5",
                "#B0BEC5",
                "#B0BEC5",
                "#B0BEC5",
                "#B0BEC5",
                "#B0BEC5",
                "#B0BEC5",
                "#B0BEC5",
                "#B0BEC5",
                "#B0BEC5",
                "#B0BEC5",
                "#B0BEC5",
                "#B0BEC5",
                "#B0BEC5",
                "#B0BEC5",
                "#B0BEC5",
                "#B0BEC5",
                "#B0BEC5",
                "#B0BEC5",
                "#B0BEC5",
                "#B0BEC5",
                "#B0BEC5",
                "#B0BEC5",
                "#B0BEC5",
                "#B0BEC5",
                "#B0BEC5",
                "#B0BEC5",
                "#B0BEC5",
                "#B0BEC5",
                "#B0BEC5",
                "#B0BEC5",
                "#B0BEC5",
                "#B0BEC5"
               ]
              ]
             }
            ],
            "label": "Topic 5",
            "method": "update"
           },
           {
            "args": [
             {
              "marker.color": [
               [
                "#B0BEC5",
                "#B0BEC5",
                "#B0BEC5",
                "#B0BEC5",
                "#B0BEC5",
                "#B0BEC5",
                "red",
                "#B0BEC5",
                "#B0BEC5",
                "#B0BEC5",
                "#B0BEC5",
                "#B0BEC5",
                "#B0BEC5",
                "#B0BEC5",
                "#B0BEC5",
                "#B0BEC5",
                "#B0BEC5",
                "#B0BEC5",
                "#B0BEC5",
                "#B0BEC5",
                "#B0BEC5",
                "#B0BEC5",
                "#B0BEC5",
                "#B0BEC5",
                "#B0BEC5",
                "#B0BEC5",
                "#B0BEC5",
                "#B0BEC5",
                "#B0BEC5",
                "#B0BEC5",
                "#B0BEC5",
                "#B0BEC5",
                "#B0BEC5",
                "#B0BEC5",
                "#B0BEC5",
                "#B0BEC5",
                "#B0BEC5",
                "#B0BEC5",
                "#B0BEC5",
                "#B0BEC5"
               ]
              ]
             }
            ],
            "label": "Topic 6",
            "method": "update"
           },
           {
            "args": [
             {
              "marker.color": [
               [
                "#B0BEC5",
                "#B0BEC5",
                "#B0BEC5",
                "#B0BEC5",
                "#B0BEC5",
                "#B0BEC5",
                "#B0BEC5",
                "red",
                "#B0BEC5",
                "#B0BEC5",
                "#B0BEC5",
                "#B0BEC5",
                "#B0BEC5",
                "#B0BEC5",
                "#B0BEC5",
                "#B0BEC5",
                "#B0BEC5",
                "#B0BEC5",
                "#B0BEC5",
                "#B0BEC5",
                "#B0BEC5",
                "#B0BEC5",
                "#B0BEC5",
                "#B0BEC5",
                "#B0BEC5",
                "#B0BEC5",
                "#B0BEC5",
                "#B0BEC5",
                "#B0BEC5",
                "#B0BEC5",
                "#B0BEC5",
                "#B0BEC5",
                "#B0BEC5",
                "#B0BEC5",
                "#B0BEC5",
                "#B0BEC5",
                "#B0BEC5",
                "#B0BEC5",
                "#B0BEC5",
                "#B0BEC5"
               ]
              ]
             }
            ],
            "label": "Topic 7",
            "method": "update"
           },
           {
            "args": [
             {
              "marker.color": [
               [
                "#B0BEC5",
                "#B0BEC5",
                "#B0BEC5",
                "#B0BEC5",
                "#B0BEC5",
                "#B0BEC5",
                "#B0BEC5",
                "#B0BEC5",
                "red",
                "#B0BEC5",
                "#B0BEC5",
                "#B0BEC5",
                "#B0BEC5",
                "#B0BEC5",
                "#B0BEC5",
                "#B0BEC5",
                "#B0BEC5",
                "#B0BEC5",
                "#B0BEC5",
                "#B0BEC5",
                "#B0BEC5",
                "#B0BEC5",
                "#B0BEC5",
                "#B0BEC5",
                "#B0BEC5",
                "#B0BEC5",
                "#B0BEC5",
                "#B0BEC5",
                "#B0BEC5",
                "#B0BEC5",
                "#B0BEC5",
                "#B0BEC5",
                "#B0BEC5",
                "#B0BEC5",
                "#B0BEC5",
                "#B0BEC5",
                "#B0BEC5",
                "#B0BEC5",
                "#B0BEC5",
                "#B0BEC5"
               ]
              ]
             }
            ],
            "label": "Topic 8",
            "method": "update"
           },
           {
            "args": [
             {
              "marker.color": [
               [
                "#B0BEC5",
                "#B0BEC5",
                "#B0BEC5",
                "#B0BEC5",
                "#B0BEC5",
                "#B0BEC5",
                "#B0BEC5",
                "#B0BEC5",
                "#B0BEC5",
                "red",
                "#B0BEC5",
                "#B0BEC5",
                "#B0BEC5",
                "#B0BEC5",
                "#B0BEC5",
                "#B0BEC5",
                "#B0BEC5",
                "#B0BEC5",
                "#B0BEC5",
                "#B0BEC5",
                "#B0BEC5",
                "#B0BEC5",
                "#B0BEC5",
                "#B0BEC5",
                "#B0BEC5",
                "#B0BEC5",
                "#B0BEC5",
                "#B0BEC5",
                "#B0BEC5",
                "#B0BEC5",
                "#B0BEC5",
                "#B0BEC5",
                "#B0BEC5",
                "#B0BEC5",
                "#B0BEC5",
                "#B0BEC5",
                "#B0BEC5",
                "#B0BEC5",
                "#B0BEC5",
                "#B0BEC5"
               ]
              ]
             }
            ],
            "label": "Topic 9",
            "method": "update"
           },
           {
            "args": [
             {
              "marker.color": [
               [
                "#B0BEC5",
                "#B0BEC5",
                "#B0BEC5",
                "#B0BEC5",
                "#B0BEC5",
                "#B0BEC5",
                "#B0BEC5",
                "#B0BEC5",
                "#B0BEC5",
                "#B0BEC5",
                "red",
                "#B0BEC5",
                "#B0BEC5",
                "#B0BEC5",
                "#B0BEC5",
                "#B0BEC5",
                "#B0BEC5",
                "#B0BEC5",
                "#B0BEC5",
                "#B0BEC5",
                "#B0BEC5",
                "#B0BEC5",
                "#B0BEC5",
                "#B0BEC5",
                "#B0BEC5",
                "#B0BEC5",
                "#B0BEC5",
                "#B0BEC5",
                "#B0BEC5",
                "#B0BEC5",
                "#B0BEC5",
                "#B0BEC5",
                "#B0BEC5",
                "#B0BEC5",
                "#B0BEC5",
                "#B0BEC5",
                "#B0BEC5",
                "#B0BEC5",
                "#B0BEC5",
                "#B0BEC5"
               ]
              ]
             }
            ],
            "label": "Topic 10",
            "method": "update"
           },
           {
            "args": [
             {
              "marker.color": [
               [
                "#B0BEC5",
                "#B0BEC5",
                "#B0BEC5",
                "#B0BEC5",
                "#B0BEC5",
                "#B0BEC5",
                "#B0BEC5",
                "#B0BEC5",
                "#B0BEC5",
                "#B0BEC5",
                "#B0BEC5",
                "red",
                "#B0BEC5",
                "#B0BEC5",
                "#B0BEC5",
                "#B0BEC5",
                "#B0BEC5",
                "#B0BEC5",
                "#B0BEC5",
                "#B0BEC5",
                "#B0BEC5",
                "#B0BEC5",
                "#B0BEC5",
                "#B0BEC5",
                "#B0BEC5",
                "#B0BEC5",
                "#B0BEC5",
                "#B0BEC5",
                "#B0BEC5",
                "#B0BEC5",
                "#B0BEC5",
                "#B0BEC5",
                "#B0BEC5",
                "#B0BEC5",
                "#B0BEC5",
                "#B0BEC5",
                "#B0BEC5",
                "#B0BEC5",
                "#B0BEC5",
                "#B0BEC5"
               ]
              ]
             }
            ],
            "label": "Topic 11",
            "method": "update"
           },
           {
            "args": [
             {
              "marker.color": [
               [
                "#B0BEC5",
                "#B0BEC5",
                "#B0BEC5",
                "#B0BEC5",
                "#B0BEC5",
                "#B0BEC5",
                "#B0BEC5",
                "#B0BEC5",
                "#B0BEC5",
                "#B0BEC5",
                "#B0BEC5",
                "#B0BEC5",
                "red",
                "#B0BEC5",
                "#B0BEC5",
                "#B0BEC5",
                "#B0BEC5",
                "#B0BEC5",
                "#B0BEC5",
                "#B0BEC5",
                "#B0BEC5",
                "#B0BEC5",
                "#B0BEC5",
                "#B0BEC5",
                "#B0BEC5",
                "#B0BEC5",
                "#B0BEC5",
                "#B0BEC5",
                "#B0BEC5",
                "#B0BEC5",
                "#B0BEC5",
                "#B0BEC5",
                "#B0BEC5",
                "#B0BEC5",
                "#B0BEC5",
                "#B0BEC5",
                "#B0BEC5",
                "#B0BEC5",
                "#B0BEC5",
                "#B0BEC5"
               ]
              ]
             }
            ],
            "label": "Topic 12",
            "method": "update"
           },
           {
            "args": [
             {
              "marker.color": [
               [
                "#B0BEC5",
                "#B0BEC5",
                "#B0BEC5",
                "#B0BEC5",
                "#B0BEC5",
                "#B0BEC5",
                "#B0BEC5",
                "#B0BEC5",
                "#B0BEC5",
                "#B0BEC5",
                "#B0BEC5",
                "#B0BEC5",
                "#B0BEC5",
                "red",
                "#B0BEC5",
                "#B0BEC5",
                "#B0BEC5",
                "#B0BEC5",
                "#B0BEC5",
                "#B0BEC5",
                "#B0BEC5",
                "#B0BEC5",
                "#B0BEC5",
                "#B0BEC5",
                "#B0BEC5",
                "#B0BEC5",
                "#B0BEC5",
                "#B0BEC5",
                "#B0BEC5",
                "#B0BEC5",
                "#B0BEC5",
                "#B0BEC5",
                "#B0BEC5",
                "#B0BEC5",
                "#B0BEC5",
                "#B0BEC5",
                "#B0BEC5",
                "#B0BEC5",
                "#B0BEC5",
                "#B0BEC5"
               ]
              ]
             }
            ],
            "label": "Topic 13",
            "method": "update"
           },
           {
            "args": [
             {
              "marker.color": [
               [
                "#B0BEC5",
                "#B0BEC5",
                "#B0BEC5",
                "#B0BEC5",
                "#B0BEC5",
                "#B0BEC5",
                "#B0BEC5",
                "#B0BEC5",
                "#B0BEC5",
                "#B0BEC5",
                "#B0BEC5",
                "#B0BEC5",
                "#B0BEC5",
                "#B0BEC5",
                "red",
                "#B0BEC5",
                "#B0BEC5",
                "#B0BEC5",
                "#B0BEC5",
                "#B0BEC5",
                "#B0BEC5",
                "#B0BEC5",
                "#B0BEC5",
                "#B0BEC5",
                "#B0BEC5",
                "#B0BEC5",
                "#B0BEC5",
                "#B0BEC5",
                "#B0BEC5",
                "#B0BEC5",
                "#B0BEC5",
                "#B0BEC5",
                "#B0BEC5",
                "#B0BEC5",
                "#B0BEC5",
                "#B0BEC5",
                "#B0BEC5",
                "#B0BEC5",
                "#B0BEC5",
                "#B0BEC5"
               ]
              ]
             }
            ],
            "label": "Topic 14",
            "method": "update"
           },
           {
            "args": [
             {
              "marker.color": [
               [
                "#B0BEC5",
                "#B0BEC5",
                "#B0BEC5",
                "#B0BEC5",
                "#B0BEC5",
                "#B0BEC5",
                "#B0BEC5",
                "#B0BEC5",
                "#B0BEC5",
                "#B0BEC5",
                "#B0BEC5",
                "#B0BEC5",
                "#B0BEC5",
                "#B0BEC5",
                "#B0BEC5",
                "red",
                "#B0BEC5",
                "#B0BEC5",
                "#B0BEC5",
                "#B0BEC5",
                "#B0BEC5",
                "#B0BEC5",
                "#B0BEC5",
                "#B0BEC5",
                "#B0BEC5",
                "#B0BEC5",
                "#B0BEC5",
                "#B0BEC5",
                "#B0BEC5",
                "#B0BEC5",
                "#B0BEC5",
                "#B0BEC5",
                "#B0BEC5",
                "#B0BEC5",
                "#B0BEC5",
                "#B0BEC5",
                "#B0BEC5",
                "#B0BEC5",
                "#B0BEC5",
                "#B0BEC5"
               ]
              ]
             }
            ],
            "label": "Topic 15",
            "method": "update"
           },
           {
            "args": [
             {
              "marker.color": [
               [
                "#B0BEC5",
                "#B0BEC5",
                "#B0BEC5",
                "#B0BEC5",
                "#B0BEC5",
                "#B0BEC5",
                "#B0BEC5",
                "#B0BEC5",
                "#B0BEC5",
                "#B0BEC5",
                "#B0BEC5",
                "#B0BEC5",
                "#B0BEC5",
                "#B0BEC5",
                "#B0BEC5",
                "#B0BEC5",
                "red",
                "#B0BEC5",
                "#B0BEC5",
                "#B0BEC5",
                "#B0BEC5",
                "#B0BEC5",
                "#B0BEC5",
                "#B0BEC5",
                "#B0BEC5",
                "#B0BEC5",
                "#B0BEC5",
                "#B0BEC5",
                "#B0BEC5",
                "#B0BEC5",
                "#B0BEC5",
                "#B0BEC5",
                "#B0BEC5",
                "#B0BEC5",
                "#B0BEC5",
                "#B0BEC5",
                "#B0BEC5",
                "#B0BEC5",
                "#B0BEC5",
                "#B0BEC5"
               ]
              ]
             }
            ],
            "label": "Topic 16",
            "method": "update"
           },
           {
            "args": [
             {
              "marker.color": [
               [
                "#B0BEC5",
                "#B0BEC5",
                "#B0BEC5",
                "#B0BEC5",
                "#B0BEC5",
                "#B0BEC5",
                "#B0BEC5",
                "#B0BEC5",
                "#B0BEC5",
                "#B0BEC5",
                "#B0BEC5",
                "#B0BEC5",
                "#B0BEC5",
                "#B0BEC5",
                "#B0BEC5",
                "#B0BEC5",
                "#B0BEC5",
                "red",
                "#B0BEC5",
                "#B0BEC5",
                "#B0BEC5",
                "#B0BEC5",
                "#B0BEC5",
                "#B0BEC5",
                "#B0BEC5",
                "#B0BEC5",
                "#B0BEC5",
                "#B0BEC5",
                "#B0BEC5",
                "#B0BEC5",
                "#B0BEC5",
                "#B0BEC5",
                "#B0BEC5",
                "#B0BEC5",
                "#B0BEC5",
                "#B0BEC5",
                "#B0BEC5",
                "#B0BEC5",
                "#B0BEC5",
                "#B0BEC5"
               ]
              ]
             }
            ],
            "label": "Topic 17",
            "method": "update"
           },
           {
            "args": [
             {
              "marker.color": [
               [
                "#B0BEC5",
                "#B0BEC5",
                "#B0BEC5",
                "#B0BEC5",
                "#B0BEC5",
                "#B0BEC5",
                "#B0BEC5",
                "#B0BEC5",
                "#B0BEC5",
                "#B0BEC5",
                "#B0BEC5",
                "#B0BEC5",
                "#B0BEC5",
                "#B0BEC5",
                "#B0BEC5",
                "#B0BEC5",
                "#B0BEC5",
                "#B0BEC5",
                "red",
                "#B0BEC5",
                "#B0BEC5",
                "#B0BEC5",
                "#B0BEC5",
                "#B0BEC5",
                "#B0BEC5",
                "#B0BEC5",
                "#B0BEC5",
                "#B0BEC5",
                "#B0BEC5",
                "#B0BEC5",
                "#B0BEC5",
                "#B0BEC5",
                "#B0BEC5",
                "#B0BEC5",
                "#B0BEC5",
                "#B0BEC5",
                "#B0BEC5",
                "#B0BEC5",
                "#B0BEC5",
                "#B0BEC5"
               ]
              ]
             }
            ],
            "label": "Topic 18",
            "method": "update"
           },
           {
            "args": [
             {
              "marker.color": [
               [
                "#B0BEC5",
                "#B0BEC5",
                "#B0BEC5",
                "#B0BEC5",
                "#B0BEC5",
                "#B0BEC5",
                "#B0BEC5",
                "#B0BEC5",
                "#B0BEC5",
                "#B0BEC5",
                "#B0BEC5",
                "#B0BEC5",
                "#B0BEC5",
                "#B0BEC5",
                "#B0BEC5",
                "#B0BEC5",
                "#B0BEC5",
                "#B0BEC5",
                "#B0BEC5",
                "red",
                "#B0BEC5",
                "#B0BEC5",
                "#B0BEC5",
                "#B0BEC5",
                "#B0BEC5",
                "#B0BEC5",
                "#B0BEC5",
                "#B0BEC5",
                "#B0BEC5",
                "#B0BEC5",
                "#B0BEC5",
                "#B0BEC5",
                "#B0BEC5",
                "#B0BEC5",
                "#B0BEC5",
                "#B0BEC5",
                "#B0BEC5",
                "#B0BEC5",
                "#B0BEC5",
                "#B0BEC5"
               ]
              ]
             }
            ],
            "label": "Topic 19",
            "method": "update"
           },
           {
            "args": [
             {
              "marker.color": [
               [
                "#B0BEC5",
                "#B0BEC5",
                "#B0BEC5",
                "#B0BEC5",
                "#B0BEC5",
                "#B0BEC5",
                "#B0BEC5",
                "#B0BEC5",
                "#B0BEC5",
                "#B0BEC5",
                "#B0BEC5",
                "#B0BEC5",
                "#B0BEC5",
                "#B0BEC5",
                "#B0BEC5",
                "#B0BEC5",
                "#B0BEC5",
                "#B0BEC5",
                "#B0BEC5",
                "#B0BEC5",
                "red",
                "#B0BEC5",
                "#B0BEC5",
                "#B0BEC5",
                "#B0BEC5",
                "#B0BEC5",
                "#B0BEC5",
                "#B0BEC5",
                "#B0BEC5",
                "#B0BEC5",
                "#B0BEC5",
                "#B0BEC5",
                "#B0BEC5",
                "#B0BEC5",
                "#B0BEC5",
                "#B0BEC5",
                "#B0BEC5",
                "#B0BEC5",
                "#B0BEC5",
                "#B0BEC5"
               ]
              ]
             }
            ],
            "label": "Topic 20",
            "method": "update"
           },
           {
            "args": [
             {
              "marker.color": [
               [
                "#B0BEC5",
                "#B0BEC5",
                "#B0BEC5",
                "#B0BEC5",
                "#B0BEC5",
                "#B0BEC5",
                "#B0BEC5",
                "#B0BEC5",
                "#B0BEC5",
                "#B0BEC5",
                "#B0BEC5",
                "#B0BEC5",
                "#B0BEC5",
                "#B0BEC5",
                "#B0BEC5",
                "#B0BEC5",
                "#B0BEC5",
                "#B0BEC5",
                "#B0BEC5",
                "#B0BEC5",
                "#B0BEC5",
                "red",
                "#B0BEC5",
                "#B0BEC5",
                "#B0BEC5",
                "#B0BEC5",
                "#B0BEC5",
                "#B0BEC5",
                "#B0BEC5",
                "#B0BEC5",
                "#B0BEC5",
                "#B0BEC5",
                "#B0BEC5",
                "#B0BEC5",
                "#B0BEC5",
                "#B0BEC5",
                "#B0BEC5",
                "#B0BEC5",
                "#B0BEC5",
                "#B0BEC5"
               ]
              ]
             }
            ],
            "label": "Topic 21",
            "method": "update"
           },
           {
            "args": [
             {
              "marker.color": [
               [
                "#B0BEC5",
                "#B0BEC5",
                "#B0BEC5",
                "#B0BEC5",
                "#B0BEC5",
                "#B0BEC5",
                "#B0BEC5",
                "#B0BEC5",
                "#B0BEC5",
                "#B0BEC5",
                "#B0BEC5",
                "#B0BEC5",
                "#B0BEC5",
                "#B0BEC5",
                "#B0BEC5",
                "#B0BEC5",
                "#B0BEC5",
                "#B0BEC5",
                "#B0BEC5",
                "#B0BEC5",
                "#B0BEC5",
                "#B0BEC5",
                "red",
                "#B0BEC5",
                "#B0BEC5",
                "#B0BEC5",
                "#B0BEC5",
                "#B0BEC5",
                "#B0BEC5",
                "#B0BEC5",
                "#B0BEC5",
                "#B0BEC5",
                "#B0BEC5",
                "#B0BEC5",
                "#B0BEC5",
                "#B0BEC5",
                "#B0BEC5",
                "#B0BEC5",
                "#B0BEC5",
                "#B0BEC5"
               ]
              ]
             }
            ],
            "label": "Topic 22",
            "method": "update"
           },
           {
            "args": [
             {
              "marker.color": [
               [
                "#B0BEC5",
                "#B0BEC5",
                "#B0BEC5",
                "#B0BEC5",
                "#B0BEC5",
                "#B0BEC5",
                "#B0BEC5",
                "#B0BEC5",
                "#B0BEC5",
                "#B0BEC5",
                "#B0BEC5",
                "#B0BEC5",
                "#B0BEC5",
                "#B0BEC5",
                "#B0BEC5",
                "#B0BEC5",
                "#B0BEC5",
                "#B0BEC5",
                "#B0BEC5",
                "#B0BEC5",
                "#B0BEC5",
                "#B0BEC5",
                "#B0BEC5",
                "red",
                "#B0BEC5",
                "#B0BEC5",
                "#B0BEC5",
                "#B0BEC5",
                "#B0BEC5",
                "#B0BEC5",
                "#B0BEC5",
                "#B0BEC5",
                "#B0BEC5",
                "#B0BEC5",
                "#B0BEC5",
                "#B0BEC5",
                "#B0BEC5",
                "#B0BEC5",
                "#B0BEC5",
                "#B0BEC5"
               ]
              ]
             }
            ],
            "label": "Topic 23",
            "method": "update"
           },
           {
            "args": [
             {
              "marker.color": [
               [
                "#B0BEC5",
                "#B0BEC5",
                "#B0BEC5",
                "#B0BEC5",
                "#B0BEC5",
                "#B0BEC5",
                "#B0BEC5",
                "#B0BEC5",
                "#B0BEC5",
                "#B0BEC5",
                "#B0BEC5",
                "#B0BEC5",
                "#B0BEC5",
                "#B0BEC5",
                "#B0BEC5",
                "#B0BEC5",
                "#B0BEC5",
                "#B0BEC5",
                "#B0BEC5",
                "#B0BEC5",
                "#B0BEC5",
                "#B0BEC5",
                "#B0BEC5",
                "#B0BEC5",
                "red",
                "#B0BEC5",
                "#B0BEC5",
                "#B0BEC5",
                "#B0BEC5",
                "#B0BEC5",
                "#B0BEC5",
                "#B0BEC5",
                "#B0BEC5",
                "#B0BEC5",
                "#B0BEC5",
                "#B0BEC5",
                "#B0BEC5",
                "#B0BEC5",
                "#B0BEC5",
                "#B0BEC5"
               ]
              ]
             }
            ],
            "label": "Topic 24",
            "method": "update"
           },
           {
            "args": [
             {
              "marker.color": [
               [
                "#B0BEC5",
                "#B0BEC5",
                "#B0BEC5",
                "#B0BEC5",
                "#B0BEC5",
                "#B0BEC5",
                "#B0BEC5",
                "#B0BEC5",
                "#B0BEC5",
                "#B0BEC5",
                "#B0BEC5",
                "#B0BEC5",
                "#B0BEC5",
                "#B0BEC5",
                "#B0BEC5",
                "#B0BEC5",
                "#B0BEC5",
                "#B0BEC5",
                "#B0BEC5",
                "#B0BEC5",
                "#B0BEC5",
                "#B0BEC5",
                "#B0BEC5",
                "#B0BEC5",
                "#B0BEC5",
                "red",
                "#B0BEC5",
                "#B0BEC5",
                "#B0BEC5",
                "#B0BEC5",
                "#B0BEC5",
                "#B0BEC5",
                "#B0BEC5",
                "#B0BEC5",
                "#B0BEC5",
                "#B0BEC5",
                "#B0BEC5",
                "#B0BEC5",
                "#B0BEC5",
                "#B0BEC5"
               ]
              ]
             }
            ],
            "label": "Topic 25",
            "method": "update"
           },
           {
            "args": [
             {
              "marker.color": [
               [
                "#B0BEC5",
                "#B0BEC5",
                "#B0BEC5",
                "#B0BEC5",
                "#B0BEC5",
                "#B0BEC5",
                "#B0BEC5",
                "#B0BEC5",
                "#B0BEC5",
                "#B0BEC5",
                "#B0BEC5",
                "#B0BEC5",
                "#B0BEC5",
                "#B0BEC5",
                "#B0BEC5",
                "#B0BEC5",
                "#B0BEC5",
                "#B0BEC5",
                "#B0BEC5",
                "#B0BEC5",
                "#B0BEC5",
                "#B0BEC5",
                "#B0BEC5",
                "#B0BEC5",
                "#B0BEC5",
                "#B0BEC5",
                "red",
                "#B0BEC5",
                "#B0BEC5",
                "#B0BEC5",
                "#B0BEC5",
                "#B0BEC5",
                "#B0BEC5",
                "#B0BEC5",
                "#B0BEC5",
                "#B0BEC5",
                "#B0BEC5",
                "#B0BEC5",
                "#B0BEC5",
                "#B0BEC5"
               ]
              ]
             }
            ],
            "label": "Topic 26",
            "method": "update"
           },
           {
            "args": [
             {
              "marker.color": [
               [
                "#B0BEC5",
                "#B0BEC5",
                "#B0BEC5",
                "#B0BEC5",
                "#B0BEC5",
                "#B0BEC5",
                "#B0BEC5",
                "#B0BEC5",
                "#B0BEC5",
                "#B0BEC5",
                "#B0BEC5",
                "#B0BEC5",
                "#B0BEC5",
                "#B0BEC5",
                "#B0BEC5",
                "#B0BEC5",
                "#B0BEC5",
                "#B0BEC5",
                "#B0BEC5",
                "#B0BEC5",
                "#B0BEC5",
                "#B0BEC5",
                "#B0BEC5",
                "#B0BEC5",
                "#B0BEC5",
                "#B0BEC5",
                "#B0BEC5",
                "red",
                "#B0BEC5",
                "#B0BEC5",
                "#B0BEC5",
                "#B0BEC5",
                "#B0BEC5",
                "#B0BEC5",
                "#B0BEC5",
                "#B0BEC5",
                "#B0BEC5",
                "#B0BEC5",
                "#B0BEC5",
                "#B0BEC5"
               ]
              ]
             }
            ],
            "label": "Topic 27",
            "method": "update"
           },
           {
            "args": [
             {
              "marker.color": [
               [
                "#B0BEC5",
                "#B0BEC5",
                "#B0BEC5",
                "#B0BEC5",
                "#B0BEC5",
                "#B0BEC5",
                "#B0BEC5",
                "#B0BEC5",
                "#B0BEC5",
                "#B0BEC5",
                "#B0BEC5",
                "#B0BEC5",
                "#B0BEC5",
                "#B0BEC5",
                "#B0BEC5",
                "#B0BEC5",
                "#B0BEC5",
                "#B0BEC5",
                "#B0BEC5",
                "#B0BEC5",
                "#B0BEC5",
                "#B0BEC5",
                "#B0BEC5",
                "#B0BEC5",
                "#B0BEC5",
                "#B0BEC5",
                "#B0BEC5",
                "#B0BEC5",
                "red",
                "#B0BEC5",
                "#B0BEC5",
                "#B0BEC5",
                "#B0BEC5",
                "#B0BEC5",
                "#B0BEC5",
                "#B0BEC5",
                "#B0BEC5",
                "#B0BEC5",
                "#B0BEC5",
                "#B0BEC5"
               ]
              ]
             }
            ],
            "label": "Topic 28",
            "method": "update"
           },
           {
            "args": [
             {
              "marker.color": [
               [
                "#B0BEC5",
                "#B0BEC5",
                "#B0BEC5",
                "#B0BEC5",
                "#B0BEC5",
                "#B0BEC5",
                "#B0BEC5",
                "#B0BEC5",
                "#B0BEC5",
                "#B0BEC5",
                "#B0BEC5",
                "#B0BEC5",
                "#B0BEC5",
                "#B0BEC5",
                "#B0BEC5",
                "#B0BEC5",
                "#B0BEC5",
                "#B0BEC5",
                "#B0BEC5",
                "#B0BEC5",
                "#B0BEC5",
                "#B0BEC5",
                "#B0BEC5",
                "#B0BEC5",
                "#B0BEC5",
                "#B0BEC5",
                "#B0BEC5",
                "#B0BEC5",
                "#B0BEC5",
                "red",
                "#B0BEC5",
                "#B0BEC5",
                "#B0BEC5",
                "#B0BEC5",
                "#B0BEC5",
                "#B0BEC5",
                "#B0BEC5",
                "#B0BEC5",
                "#B0BEC5",
                "#B0BEC5"
               ]
              ]
             }
            ],
            "label": "Topic 29",
            "method": "update"
           },
           {
            "args": [
             {
              "marker.color": [
               [
                "#B0BEC5",
                "#B0BEC5",
                "#B0BEC5",
                "#B0BEC5",
                "#B0BEC5",
                "#B0BEC5",
                "#B0BEC5",
                "#B0BEC5",
                "#B0BEC5",
                "#B0BEC5",
                "#B0BEC5",
                "#B0BEC5",
                "#B0BEC5",
                "#B0BEC5",
                "#B0BEC5",
                "#B0BEC5",
                "#B0BEC5",
                "#B0BEC5",
                "#B0BEC5",
                "#B0BEC5",
                "#B0BEC5",
                "#B0BEC5",
                "#B0BEC5",
                "#B0BEC5",
                "#B0BEC5",
                "#B0BEC5",
                "#B0BEC5",
                "#B0BEC5",
                "#B0BEC5",
                "#B0BEC5",
                "red",
                "#B0BEC5",
                "#B0BEC5",
                "#B0BEC5",
                "#B0BEC5",
                "#B0BEC5",
                "#B0BEC5",
                "#B0BEC5",
                "#B0BEC5",
                "#B0BEC5"
               ]
              ]
             }
            ],
            "label": "Topic 30",
            "method": "update"
           },
           {
            "args": [
             {
              "marker.color": [
               [
                "#B0BEC5",
                "#B0BEC5",
                "#B0BEC5",
                "#B0BEC5",
                "#B0BEC5",
                "#B0BEC5",
                "#B0BEC5",
                "#B0BEC5",
                "#B0BEC5",
                "#B0BEC5",
                "#B0BEC5",
                "#B0BEC5",
                "#B0BEC5",
                "#B0BEC5",
                "#B0BEC5",
                "#B0BEC5",
                "#B0BEC5",
                "#B0BEC5",
                "#B0BEC5",
                "#B0BEC5",
                "#B0BEC5",
                "#B0BEC5",
                "#B0BEC5",
                "#B0BEC5",
                "#B0BEC5",
                "#B0BEC5",
                "#B0BEC5",
                "#B0BEC5",
                "#B0BEC5",
                "#B0BEC5",
                "#B0BEC5",
                "red",
                "#B0BEC5",
                "#B0BEC5",
                "#B0BEC5",
                "#B0BEC5",
                "#B0BEC5",
                "#B0BEC5",
                "#B0BEC5",
                "#B0BEC5"
               ]
              ]
             }
            ],
            "label": "Topic 31",
            "method": "update"
           },
           {
            "args": [
             {
              "marker.color": [
               [
                "#B0BEC5",
                "#B0BEC5",
                "#B0BEC5",
                "#B0BEC5",
                "#B0BEC5",
                "#B0BEC5",
                "#B0BEC5",
                "#B0BEC5",
                "#B0BEC5",
                "#B0BEC5",
                "#B0BEC5",
                "#B0BEC5",
                "#B0BEC5",
                "#B0BEC5",
                "#B0BEC5",
                "#B0BEC5",
                "#B0BEC5",
                "#B0BEC5",
                "#B0BEC5",
                "#B0BEC5",
                "#B0BEC5",
                "#B0BEC5",
                "#B0BEC5",
                "#B0BEC5",
                "#B0BEC5",
                "#B0BEC5",
                "#B0BEC5",
                "#B0BEC5",
                "#B0BEC5",
                "#B0BEC5",
                "#B0BEC5",
                "#B0BEC5",
                "red",
                "#B0BEC5",
                "#B0BEC5",
                "#B0BEC5",
                "#B0BEC5",
                "#B0BEC5",
                "#B0BEC5",
                "#B0BEC5"
               ]
              ]
             }
            ],
            "label": "Topic 32",
            "method": "update"
           },
           {
            "args": [
             {
              "marker.color": [
               [
                "#B0BEC5",
                "#B0BEC5",
                "#B0BEC5",
                "#B0BEC5",
                "#B0BEC5",
                "#B0BEC5",
                "#B0BEC5",
                "#B0BEC5",
                "#B0BEC5",
                "#B0BEC5",
                "#B0BEC5",
                "#B0BEC5",
                "#B0BEC5",
                "#B0BEC5",
                "#B0BEC5",
                "#B0BEC5",
                "#B0BEC5",
                "#B0BEC5",
                "#B0BEC5",
                "#B0BEC5",
                "#B0BEC5",
                "#B0BEC5",
                "#B0BEC5",
                "#B0BEC5",
                "#B0BEC5",
                "#B0BEC5",
                "#B0BEC5",
                "#B0BEC5",
                "#B0BEC5",
                "#B0BEC5",
                "#B0BEC5",
                "#B0BEC5",
                "#B0BEC5",
                "red",
                "#B0BEC5",
                "#B0BEC5",
                "#B0BEC5",
                "#B0BEC5",
                "#B0BEC5",
                "#B0BEC5"
               ]
              ]
             }
            ],
            "label": "Topic 33",
            "method": "update"
           },
           {
            "args": [
             {
              "marker.color": [
               [
                "#B0BEC5",
                "#B0BEC5",
                "#B0BEC5",
                "#B0BEC5",
                "#B0BEC5",
                "#B0BEC5",
                "#B0BEC5",
                "#B0BEC5",
                "#B0BEC5",
                "#B0BEC5",
                "#B0BEC5",
                "#B0BEC5",
                "#B0BEC5",
                "#B0BEC5",
                "#B0BEC5",
                "#B0BEC5",
                "#B0BEC5",
                "#B0BEC5",
                "#B0BEC5",
                "#B0BEC5",
                "#B0BEC5",
                "#B0BEC5",
                "#B0BEC5",
                "#B0BEC5",
                "#B0BEC5",
                "#B0BEC5",
                "#B0BEC5",
                "#B0BEC5",
                "#B0BEC5",
                "#B0BEC5",
                "#B0BEC5",
                "#B0BEC5",
                "#B0BEC5",
                "#B0BEC5",
                "red",
                "#B0BEC5",
                "#B0BEC5",
                "#B0BEC5",
                "#B0BEC5",
                "#B0BEC5"
               ]
              ]
             }
            ],
            "label": "Topic 34",
            "method": "update"
           },
           {
            "args": [
             {
              "marker.color": [
               [
                "#B0BEC5",
                "#B0BEC5",
                "#B0BEC5",
                "#B0BEC5",
                "#B0BEC5",
                "#B0BEC5",
                "#B0BEC5",
                "#B0BEC5",
                "#B0BEC5",
                "#B0BEC5",
                "#B0BEC5",
                "#B0BEC5",
                "#B0BEC5",
                "#B0BEC5",
                "#B0BEC5",
                "#B0BEC5",
                "#B0BEC5",
                "#B0BEC5",
                "#B0BEC5",
                "#B0BEC5",
                "#B0BEC5",
                "#B0BEC5",
                "#B0BEC5",
                "#B0BEC5",
                "#B0BEC5",
                "#B0BEC5",
                "#B0BEC5",
                "#B0BEC5",
                "#B0BEC5",
                "#B0BEC5",
                "#B0BEC5",
                "#B0BEC5",
                "#B0BEC5",
                "#B0BEC5",
                "#B0BEC5",
                "red",
                "#B0BEC5",
                "#B0BEC5",
                "#B0BEC5",
                "#B0BEC5"
               ]
              ]
             }
            ],
            "label": "Topic 35",
            "method": "update"
           },
           {
            "args": [
             {
              "marker.color": [
               [
                "#B0BEC5",
                "#B0BEC5",
                "#B0BEC5",
                "#B0BEC5",
                "#B0BEC5",
                "#B0BEC5",
                "#B0BEC5",
                "#B0BEC5",
                "#B0BEC5",
                "#B0BEC5",
                "#B0BEC5",
                "#B0BEC5",
                "#B0BEC5",
                "#B0BEC5",
                "#B0BEC5",
                "#B0BEC5",
                "#B0BEC5",
                "#B0BEC5",
                "#B0BEC5",
                "#B0BEC5",
                "#B0BEC5",
                "#B0BEC5",
                "#B0BEC5",
                "#B0BEC5",
                "#B0BEC5",
                "#B0BEC5",
                "#B0BEC5",
                "#B0BEC5",
                "#B0BEC5",
                "#B0BEC5",
                "#B0BEC5",
                "#B0BEC5",
                "#B0BEC5",
                "#B0BEC5",
                "#B0BEC5",
                "#B0BEC5",
                "red",
                "#B0BEC5",
                "#B0BEC5",
                "#B0BEC5"
               ]
              ]
             }
            ],
            "label": "Topic 36",
            "method": "update"
           },
           {
            "args": [
             {
              "marker.color": [
               [
                "#B0BEC5",
                "#B0BEC5",
                "#B0BEC5",
                "#B0BEC5",
                "#B0BEC5",
                "#B0BEC5",
                "#B0BEC5",
                "#B0BEC5",
                "#B0BEC5",
                "#B0BEC5",
                "#B0BEC5",
                "#B0BEC5",
                "#B0BEC5",
                "#B0BEC5",
                "#B0BEC5",
                "#B0BEC5",
                "#B0BEC5",
                "#B0BEC5",
                "#B0BEC5",
                "#B0BEC5",
                "#B0BEC5",
                "#B0BEC5",
                "#B0BEC5",
                "#B0BEC5",
                "#B0BEC5",
                "#B0BEC5",
                "#B0BEC5",
                "#B0BEC5",
                "#B0BEC5",
                "#B0BEC5",
                "#B0BEC5",
                "#B0BEC5",
                "#B0BEC5",
                "#B0BEC5",
                "#B0BEC5",
                "#B0BEC5",
                "#B0BEC5",
                "red",
                "#B0BEC5",
                "#B0BEC5"
               ]
              ]
             }
            ],
            "label": "Topic 37",
            "method": "update"
           },
           {
            "args": [
             {
              "marker.color": [
               [
                "#B0BEC5",
                "#B0BEC5",
                "#B0BEC5",
                "#B0BEC5",
                "#B0BEC5",
                "#B0BEC5",
                "#B0BEC5",
                "#B0BEC5",
                "#B0BEC5",
                "#B0BEC5",
                "#B0BEC5",
                "#B0BEC5",
                "#B0BEC5",
                "#B0BEC5",
                "#B0BEC5",
                "#B0BEC5",
                "#B0BEC5",
                "#B0BEC5",
                "#B0BEC5",
                "#B0BEC5",
                "#B0BEC5",
                "#B0BEC5",
                "#B0BEC5",
                "#B0BEC5",
                "#B0BEC5",
                "#B0BEC5",
                "#B0BEC5",
                "#B0BEC5",
                "#B0BEC5",
                "#B0BEC5",
                "#B0BEC5",
                "#B0BEC5",
                "#B0BEC5",
                "#B0BEC5",
                "#B0BEC5",
                "#B0BEC5",
                "#B0BEC5",
                "#B0BEC5",
                "red",
                "#B0BEC5"
               ]
              ]
             }
            ],
            "label": "Topic 38",
            "method": "update"
           },
           {
            "args": [
             {
              "marker.color": [
               [
                "#B0BEC5",
                "#B0BEC5",
                "#B0BEC5",
                "#B0BEC5",
                "#B0BEC5",
                "#B0BEC5",
                "#B0BEC5",
                "#B0BEC5",
                "#B0BEC5",
                "#B0BEC5",
                "#B0BEC5",
                "#B0BEC5",
                "#B0BEC5",
                "#B0BEC5",
                "#B0BEC5",
                "#B0BEC5",
                "#B0BEC5",
                "#B0BEC5",
                "#B0BEC5",
                "#B0BEC5",
                "#B0BEC5",
                "#B0BEC5",
                "#B0BEC5",
                "#B0BEC5",
                "#B0BEC5",
                "#B0BEC5",
                "#B0BEC5",
                "#B0BEC5",
                "#B0BEC5",
                "#B0BEC5",
                "#B0BEC5",
                "#B0BEC5",
                "#B0BEC5",
                "#B0BEC5",
                "#B0BEC5",
                "#B0BEC5",
                "#B0BEC5",
                "#B0BEC5",
                "#B0BEC5",
                "red"
               ]
              ]
             }
            ],
            "label": "Topic 39",
            "method": "update"
           }
          ]
         }
        ],
        "template": {
         "data": {
          "bar": [
           {
            "error_x": {
             "color": "rgb(36,36,36)"
            },
            "error_y": {
             "color": "rgb(36,36,36)"
            },
            "marker": {
             "line": {
              "color": "white",
              "width": 0.5
             },
             "pattern": {
              "fillmode": "overlay",
              "size": 10,
              "solidity": 0.2
             }
            },
            "type": "bar"
           }
          ],
          "barpolar": [
           {
            "marker": {
             "line": {
              "color": "white",
              "width": 0.5
             },
             "pattern": {
              "fillmode": "overlay",
              "size": 10,
              "solidity": 0.2
             }
            },
            "type": "barpolar"
           }
          ],
          "carpet": [
           {
            "aaxis": {
             "endlinecolor": "rgb(36,36,36)",
             "gridcolor": "white",
             "linecolor": "white",
             "minorgridcolor": "white",
             "startlinecolor": "rgb(36,36,36)"
            },
            "baxis": {
             "endlinecolor": "rgb(36,36,36)",
             "gridcolor": "white",
             "linecolor": "white",
             "minorgridcolor": "white",
             "startlinecolor": "rgb(36,36,36)"
            },
            "type": "carpet"
           }
          ],
          "choropleth": [
           {
            "colorbar": {
             "outlinewidth": 1,
             "tickcolor": "rgb(36,36,36)",
             "ticks": "outside"
            },
            "type": "choropleth"
           }
          ],
          "contour": [
           {
            "colorbar": {
             "outlinewidth": 1,
             "tickcolor": "rgb(36,36,36)",
             "ticks": "outside"
            },
            "colorscale": [
             [
              0,
              "#440154"
             ],
             [
              0.1111111111111111,
              "#482878"
             ],
             [
              0.2222222222222222,
              "#3e4989"
             ],
             [
              0.3333333333333333,
              "#31688e"
             ],
             [
              0.4444444444444444,
              "#26828e"
             ],
             [
              0.5555555555555556,
              "#1f9e89"
             ],
             [
              0.6666666666666666,
              "#35b779"
             ],
             [
              0.7777777777777778,
              "#6ece58"
             ],
             [
              0.8888888888888888,
              "#b5de2b"
             ],
             [
              1,
              "#fde725"
             ]
            ],
            "type": "contour"
           }
          ],
          "contourcarpet": [
           {
            "colorbar": {
             "outlinewidth": 1,
             "tickcolor": "rgb(36,36,36)",
             "ticks": "outside"
            },
            "type": "contourcarpet"
           }
          ],
          "heatmap": [
           {
            "colorbar": {
             "outlinewidth": 1,
             "tickcolor": "rgb(36,36,36)",
             "ticks": "outside"
            },
            "colorscale": [
             [
              0,
              "#440154"
             ],
             [
              0.1111111111111111,
              "#482878"
             ],
             [
              0.2222222222222222,
              "#3e4989"
             ],
             [
              0.3333333333333333,
              "#31688e"
             ],
             [
              0.4444444444444444,
              "#26828e"
             ],
             [
              0.5555555555555556,
              "#1f9e89"
             ],
             [
              0.6666666666666666,
              "#35b779"
             ],
             [
              0.7777777777777778,
              "#6ece58"
             ],
             [
              0.8888888888888888,
              "#b5de2b"
             ],
             [
              1,
              "#fde725"
             ]
            ],
            "type": "heatmap"
           }
          ],
          "heatmapgl": [
           {
            "colorbar": {
             "outlinewidth": 1,
             "tickcolor": "rgb(36,36,36)",
             "ticks": "outside"
            },
            "colorscale": [
             [
              0,
              "#440154"
             ],
             [
              0.1111111111111111,
              "#482878"
             ],
             [
              0.2222222222222222,
              "#3e4989"
             ],
             [
              0.3333333333333333,
              "#31688e"
             ],
             [
              0.4444444444444444,
              "#26828e"
             ],
             [
              0.5555555555555556,
              "#1f9e89"
             ],
             [
              0.6666666666666666,
              "#35b779"
             ],
             [
              0.7777777777777778,
              "#6ece58"
             ],
             [
              0.8888888888888888,
              "#b5de2b"
             ],
             [
              1,
              "#fde725"
             ]
            ],
            "type": "heatmapgl"
           }
          ],
          "histogram": [
           {
            "marker": {
             "line": {
              "color": "white",
              "width": 0.6
             }
            },
            "type": "histogram"
           }
          ],
          "histogram2d": [
           {
            "colorbar": {
             "outlinewidth": 1,
             "tickcolor": "rgb(36,36,36)",
             "ticks": "outside"
            },
            "colorscale": [
             [
              0,
              "#440154"
             ],
             [
              0.1111111111111111,
              "#482878"
             ],
             [
              0.2222222222222222,
              "#3e4989"
             ],
             [
              0.3333333333333333,
              "#31688e"
             ],
             [
              0.4444444444444444,
              "#26828e"
             ],
             [
              0.5555555555555556,
              "#1f9e89"
             ],
             [
              0.6666666666666666,
              "#35b779"
             ],
             [
              0.7777777777777778,
              "#6ece58"
             ],
             [
              0.8888888888888888,
              "#b5de2b"
             ],
             [
              1,
              "#fde725"
             ]
            ],
            "type": "histogram2d"
           }
          ],
          "histogram2dcontour": [
           {
            "colorbar": {
             "outlinewidth": 1,
             "tickcolor": "rgb(36,36,36)",
             "ticks": "outside"
            },
            "colorscale": [
             [
              0,
              "#440154"
             ],
             [
              0.1111111111111111,
              "#482878"
             ],
             [
              0.2222222222222222,
              "#3e4989"
             ],
             [
              0.3333333333333333,
              "#31688e"
             ],
             [
              0.4444444444444444,
              "#26828e"
             ],
             [
              0.5555555555555556,
              "#1f9e89"
             ],
             [
              0.6666666666666666,
              "#35b779"
             ],
             [
              0.7777777777777778,
              "#6ece58"
             ],
             [
              0.8888888888888888,
              "#b5de2b"
             ],
             [
              1,
              "#fde725"
             ]
            ],
            "type": "histogram2dcontour"
           }
          ],
          "mesh3d": [
           {
            "colorbar": {
             "outlinewidth": 1,
             "tickcolor": "rgb(36,36,36)",
             "ticks": "outside"
            },
            "type": "mesh3d"
           }
          ],
          "parcoords": [
           {
            "line": {
             "colorbar": {
              "outlinewidth": 1,
              "tickcolor": "rgb(36,36,36)",
              "ticks": "outside"
             }
            },
            "type": "parcoords"
           }
          ],
          "pie": [
           {
            "automargin": true,
            "type": "pie"
           }
          ],
          "scatter": [
           {
            "fillpattern": {
             "fillmode": "overlay",
             "size": 10,
             "solidity": 0.2
            },
            "type": "scatter"
           }
          ],
          "scatter3d": [
           {
            "line": {
             "colorbar": {
              "outlinewidth": 1,
              "tickcolor": "rgb(36,36,36)",
              "ticks": "outside"
             }
            },
            "marker": {
             "colorbar": {
              "outlinewidth": 1,
              "tickcolor": "rgb(36,36,36)",
              "ticks": "outside"
             }
            },
            "type": "scatter3d"
           }
          ],
          "scattercarpet": [
           {
            "marker": {
             "colorbar": {
              "outlinewidth": 1,
              "tickcolor": "rgb(36,36,36)",
              "ticks": "outside"
             }
            },
            "type": "scattercarpet"
           }
          ],
          "scattergeo": [
           {
            "marker": {
             "colorbar": {
              "outlinewidth": 1,
              "tickcolor": "rgb(36,36,36)",
              "ticks": "outside"
             }
            },
            "type": "scattergeo"
           }
          ],
          "scattergl": [
           {
            "marker": {
             "colorbar": {
              "outlinewidth": 1,
              "tickcolor": "rgb(36,36,36)",
              "ticks": "outside"
             }
            },
            "type": "scattergl"
           }
          ],
          "scattermapbox": [
           {
            "marker": {
             "colorbar": {
              "outlinewidth": 1,
              "tickcolor": "rgb(36,36,36)",
              "ticks": "outside"
             }
            },
            "type": "scattermapbox"
           }
          ],
          "scatterpolar": [
           {
            "marker": {
             "colorbar": {
              "outlinewidth": 1,
              "tickcolor": "rgb(36,36,36)",
              "ticks": "outside"
             }
            },
            "type": "scatterpolar"
           }
          ],
          "scatterpolargl": [
           {
            "marker": {
             "colorbar": {
              "outlinewidth": 1,
              "tickcolor": "rgb(36,36,36)",
              "ticks": "outside"
             }
            },
            "type": "scatterpolargl"
           }
          ],
          "scatterternary": [
           {
            "marker": {
             "colorbar": {
              "outlinewidth": 1,
              "tickcolor": "rgb(36,36,36)",
              "ticks": "outside"
             }
            },
            "type": "scatterternary"
           }
          ],
          "surface": [
           {
            "colorbar": {
             "outlinewidth": 1,
             "tickcolor": "rgb(36,36,36)",
             "ticks": "outside"
            },
            "colorscale": [
             [
              0,
              "#440154"
             ],
             [
              0.1111111111111111,
              "#482878"
             ],
             [
              0.2222222222222222,
              "#3e4989"
             ],
             [
              0.3333333333333333,
              "#31688e"
             ],
             [
              0.4444444444444444,
              "#26828e"
             ],
             [
              0.5555555555555556,
              "#1f9e89"
             ],
             [
              0.6666666666666666,
              "#35b779"
             ],
             [
              0.7777777777777778,
              "#6ece58"
             ],
             [
              0.8888888888888888,
              "#b5de2b"
             ],
             [
              1,
              "#fde725"
             ]
            ],
            "type": "surface"
           }
          ],
          "table": [
           {
            "cells": {
             "fill": {
              "color": "rgb(237,237,237)"
             },
             "line": {
              "color": "white"
             }
            },
            "header": {
             "fill": {
              "color": "rgb(217,217,217)"
             },
             "line": {
              "color": "white"
             }
            },
            "type": "table"
           }
          ]
         },
         "layout": {
          "annotationdefaults": {
           "arrowhead": 0,
           "arrowwidth": 1
          },
          "autotypenumbers": "strict",
          "coloraxis": {
           "colorbar": {
            "outlinewidth": 1,
            "tickcolor": "rgb(36,36,36)",
            "ticks": "outside"
           }
          },
          "colorscale": {
           "diverging": [
            [
             0,
             "rgb(103,0,31)"
            ],
            [
             0.1,
             "rgb(178,24,43)"
            ],
            [
             0.2,
             "rgb(214,96,77)"
            ],
            [
             0.3,
             "rgb(244,165,130)"
            ],
            [
             0.4,
             "rgb(253,219,199)"
            ],
            [
             0.5,
             "rgb(247,247,247)"
            ],
            [
             0.6,
             "rgb(209,229,240)"
            ],
            [
             0.7,
             "rgb(146,197,222)"
            ],
            [
             0.8,
             "rgb(67,147,195)"
            ],
            [
             0.9,
             "rgb(33,102,172)"
            ],
            [
             1,
             "rgb(5,48,97)"
            ]
           ],
           "sequential": [
            [
             0,
             "#440154"
            ],
            [
             0.1111111111111111,
             "#482878"
            ],
            [
             0.2222222222222222,
             "#3e4989"
            ],
            [
             0.3333333333333333,
             "#31688e"
            ],
            [
             0.4444444444444444,
             "#26828e"
            ],
            [
             0.5555555555555556,
             "#1f9e89"
            ],
            [
             0.6666666666666666,
             "#35b779"
            ],
            [
             0.7777777777777778,
             "#6ece58"
            ],
            [
             0.8888888888888888,
             "#b5de2b"
            ],
            [
             1,
             "#fde725"
            ]
           ],
           "sequentialminus": [
            [
             0,
             "#440154"
            ],
            [
             0.1111111111111111,
             "#482878"
            ],
            [
             0.2222222222222222,
             "#3e4989"
            ],
            [
             0.3333333333333333,
             "#31688e"
            ],
            [
             0.4444444444444444,
             "#26828e"
            ],
            [
             0.5555555555555556,
             "#1f9e89"
            ],
            [
             0.6666666666666666,
             "#35b779"
            ],
            [
             0.7777777777777778,
             "#6ece58"
            ],
            [
             0.8888888888888888,
             "#b5de2b"
            ],
            [
             1,
             "#fde725"
            ]
           ]
          },
          "colorway": [
           "#1F77B4",
           "#FF7F0E",
           "#2CA02C",
           "#D62728",
           "#9467BD",
           "#8C564B",
           "#E377C2",
           "#7F7F7F",
           "#BCBD22",
           "#17BECF"
          ],
          "font": {
           "color": "rgb(36,36,36)"
          },
          "geo": {
           "bgcolor": "white",
           "lakecolor": "white",
           "landcolor": "white",
           "showlakes": true,
           "showland": true,
           "subunitcolor": "white"
          },
          "hoverlabel": {
           "align": "left"
          },
          "hovermode": "closest",
          "mapbox": {
           "style": "light"
          },
          "paper_bgcolor": "white",
          "plot_bgcolor": "white",
          "polar": {
           "angularaxis": {
            "gridcolor": "rgb(232,232,232)",
            "linecolor": "rgb(36,36,36)",
            "showgrid": false,
            "showline": true,
            "ticks": "outside"
           },
           "bgcolor": "white",
           "radialaxis": {
            "gridcolor": "rgb(232,232,232)",
            "linecolor": "rgb(36,36,36)",
            "showgrid": false,
            "showline": true,
            "ticks": "outside"
           }
          },
          "scene": {
           "xaxis": {
            "backgroundcolor": "white",
            "gridcolor": "rgb(232,232,232)",
            "gridwidth": 2,
            "linecolor": "rgb(36,36,36)",
            "showbackground": true,
            "showgrid": false,
            "showline": true,
            "ticks": "outside",
            "zeroline": false,
            "zerolinecolor": "rgb(36,36,36)"
           },
           "yaxis": {
            "backgroundcolor": "white",
            "gridcolor": "rgb(232,232,232)",
            "gridwidth": 2,
            "linecolor": "rgb(36,36,36)",
            "showbackground": true,
            "showgrid": false,
            "showline": true,
            "ticks": "outside",
            "zeroline": false,
            "zerolinecolor": "rgb(36,36,36)"
           },
           "zaxis": {
            "backgroundcolor": "white",
            "gridcolor": "rgb(232,232,232)",
            "gridwidth": 2,
            "linecolor": "rgb(36,36,36)",
            "showbackground": true,
            "showgrid": false,
            "showline": true,
            "ticks": "outside",
            "zeroline": false,
            "zerolinecolor": "rgb(36,36,36)"
           }
          },
          "shapedefaults": {
           "fillcolor": "black",
           "line": {
            "width": 0
           },
           "opacity": 0.3
          },
          "ternary": {
           "aaxis": {
            "gridcolor": "rgb(232,232,232)",
            "linecolor": "rgb(36,36,36)",
            "showgrid": false,
            "showline": true,
            "ticks": "outside"
           },
           "baxis": {
            "gridcolor": "rgb(232,232,232)",
            "linecolor": "rgb(36,36,36)",
            "showgrid": false,
            "showline": true,
            "ticks": "outside"
           },
           "bgcolor": "white",
           "caxis": {
            "gridcolor": "rgb(232,232,232)",
            "linecolor": "rgb(36,36,36)",
            "showgrid": false,
            "showline": true,
            "ticks": "outside"
           }
          },
          "title": {
           "x": 0.05
          },
          "xaxis": {
           "automargin": true,
           "gridcolor": "rgb(232,232,232)",
           "linecolor": "rgb(36,36,36)",
           "showgrid": false,
           "showline": true,
           "ticks": "outside",
           "title": {
            "standoff": 15
           },
           "zeroline": false,
           "zerolinecolor": "rgb(36,36,36)"
          },
          "yaxis": {
           "automargin": true,
           "gridcolor": "rgb(232,232,232)",
           "linecolor": "rgb(36,36,36)",
           "showgrid": false,
           "showline": true,
           "ticks": "outside",
           "title": {
            "standoff": 15
           },
           "zeroline": false,
           "zerolinecolor": "rgb(36,36,36)"
          }
         }
        },
        "title": {
         "font": {
          "color": "Black",
          "size": 22
         },
         "text": "<b>Intertopic Distance Map</b>",
         "x": 0.5,
         "xanchor": "center",
         "y": 0.95,
         "yanchor": "top"
        },
        "width": 650,
        "xaxis": {
         "anchor": "y",
         "domain": [
          0,
          1
         ],
         "range": [
          2.5348350644111632,
          23.3346284866333
         ],
         "title": {
          "text": ""
         },
         "visible": false
        },
        "yaxis": {
         "anchor": "x",
         "domain": [
          0,
          1
         ],
         "range": [
          -12.021163940429688,
          16.854447317123412
         ],
         "title": {
          "text": ""
         },
         "visible": false
        }
       }
      }
     },
     "metadata": {},
     "output_type": "display_data"
    }
   ],
   "source": [
    "topic_model.visualize_topics()"
   ]
  },
  {
   "cell_type": "code",
   "execution_count": 191,
   "metadata": {},
   "outputs": [
    {
     "name": "stderr",
     "output_type": "stream",
     "text": [
      "100%|██████████| 17/17 [04:18<00:00, 15.18s/it]\n"
     ]
    },
    {
     "data": {
      "application/vnd.plotly.v1+json": {
       "config": {
        "plotlyServerURL": "https://plot.ly"
       },
       "data": [
        {
         "hoverinfo": "text",
         "marker": {
          "color": "rgb(61,153,112)"
         },
         "mode": "lines",
         "text": [
          "leadership_role model_leader_role_good leader",
          "",
          "",
          "good superior_superior_superiors_exemplary_confidence"
         ],
         "type": "scatter",
         "x": [
          0,
          0.3912244953350692,
          0.3912244953350692,
          0
         ],
         "xaxis": "x",
         "y": [
          -15,
          -15,
          -25,
          -25
         ],
         "yaxis": "y"
        },
        {
         "hoverinfo": "text",
         "marker": {
          "color": "rgb(61,153,112)"
         },
         "mode": "lines",
         "text": [
          "chef_chefs_supervise_authority_qualities",
          "",
          "",
          "leadership_good supervisor_good leader_leader_role model"
         ],
         "type": "scatter",
         "x": [
          0,
          0.5945267272970043,
          0.5945267272970043,
          0.3912244953350692
         ],
         "xaxis": "x",
         "y": [
          -5,
          -5,
          -20,
          -20
         ],
         "yaxis": "y"
        },
        {
         "hoverinfo": "text",
         "marker": {
          "color": "rgb(61,153,112)"
         },
         "mode": "lines",
         "text": [
          "collaborator_collaborators_cooperation_communicate_develop",
          "",
          "",
          "availability_listening_communicating_communication_clear communication"
         ],
         "type": "scatter",
         "x": [
          0,
          0.7602291232813475,
          0.7602291232813475,
          0
         ],
         "xaxis": "x",
         "y": [
          -35,
          -35,
          -45,
          -45
         ],
         "yaxis": "y"
        },
        {
         "hoverinfo": "text",
         "marker": {
          "color": "rgb(61,153,112)"
         },
         "mode": "lines",
         "text": [
          "leadership_leader_good leader_good supervisor_role model",
          "",
          "",
          "communication_collaborators_collaborator_facilitate_availability"
         ],
         "type": "scatter",
         "x": [
          0.5945267272970043,
          0.9333017858564238,
          0.9333017858564238,
          0.7602291232813475
         ],
         "xaxis": "x",
         "y": [
          -12.5,
          -12.5,
          -40,
          -40
         ],
         "yaxis": "y"
        },
        {
         "hoverinfo": "text",
         "marker": {
          "color": "rgb(255,65,54)"
         },
         "mode": "lines",
         "text": [
          "criticise_criticism_praise_criticisms_constructively",
          "",
          "",
          "support_supporting_availability_strong_perspective"
         ],
         "type": "scatter",
         "x": [
          0,
          0.9363830738576527,
          0.9363830738576527,
          0
         ],
         "xaxis": "x",
         "y": [
          -55,
          -55,
          -65,
          -65
         ],
         "yaxis": "y"
        },
        {
         "hoverinfo": "text",
         "marker": {
          "color": "rgb(255,65,54)"
         },
         "mode": "lines",
         "text": [
          "open ear_ear_ears_model_cover",
          "",
          "",
          "clear line_line_clear_clear communication_leader"
         ],
         "type": "scatter",
         "x": [
          0,
          0.8308399397071538,
          0.8308399397071538,
          0
         ],
         "xaxis": "x",
         "y": [
          -85,
          -85,
          -95,
          -95
         ],
         "yaxis": "y"
        },
        {
         "hoverinfo": "text",
         "marker": {
          "color": "rgb(255,65,54)"
         },
         "mode": "lines",
         "text": [
          "model_function_control_development_understanding",
          "",
          "",
          "open ear_ear_ears_clear communication_clear line"
         ],
         "type": "scatter",
         "x": [
          0,
          0.9006176434944457,
          0.9006176434944457,
          0.8308399397071538
         ],
         "xaxis": "x",
         "y": [
          -75,
          -75,
          -90,
          -90
         ],
         "yaxis": "y"
        },
        {
         "hoverinfo": "text",
         "marker": {
          "color": "rgb(255,65,54)"
         },
         "mode": "lines",
         "text": [
          "criticise_praise_criticism_constructively_constructive",
          "",
          "",
          "open ear_ear_ears_model_listening"
         ],
         "type": "scatter",
         "x": [
          0.9363830738576527,
          0.9842570919863252,
          0.9842570919863252,
          0.9006176434944457
         ],
         "xaxis": "x",
         "y": [
          -60,
          -60,
          -82.5,
          -82.5
         ],
         "yaxis": "y"
        },
        {
         "hoverinfo": "text",
         "marker": {
          "color": "rgb(35,205,205)"
         },
         "mode": "lines",
         "text": [
          "freedoms_freedom_competences_objectives_development",
          "",
          "",
          "sparring_coaching_partners_strategic_trust"
         ],
         "type": "scatter",
         "x": [
          0,
          0.7893416686063495,
          0.7893416686063495,
          0
         ],
         "xaxis": "x",
         "y": [
          -105,
          -105,
          -115,
          -115
         ],
         "yaxis": "y"
        },
        {
         "hoverinfo": "text",
         "marker": {
          "color": "rgb(35,205,205)"
         },
         "mode": "lines",
         "text": [
          "sparring_loyalty_partners_trust_attributes",
          "",
          "",
          "communication_open communication_eye level_conversations_meeting"
         ],
         "type": "scatter",
         "x": [
          0.7893416686063495,
          0.8628259921504356,
          0.8628259921504356,
          0
         ],
         "xaxis": "x",
         "y": [
          -110,
          -110,
          -125,
          -125
         ],
         "yaxis": "y"
        },
        {
         "hoverinfo": "text",
         "marker": {
          "color": "rgb(0,116,217)"
         },
         "mode": "lines",
         "text": [
          "open ear_ear_ears_model_clear line",
          "",
          "",
          "sparring_meetings_loyalty_promotion_partners"
         ],
         "type": "scatter",
         "x": [
          0.9842570919863252,
          1.0620384256258826,
          1.0620384256258826,
          0.8628259921504356
         ],
         "xaxis": "x",
         "y": [
          -71.25,
          -71.25,
          -117.5,
          -117.5
         ],
         "yaxis": "y"
        },
        {
         "hoverinfo": "text",
         "marker": {
          "color": "rgb(133,20,75)"
         },
         "mode": "lines",
         "text": [
          "respect_respectful_clear_soft_support",
          "",
          "",
          "appreciation_appreciable_achievements_progress_receive"
         ],
         "type": "scatter",
         "x": [
          0,
          0.9415042302860345,
          0.9415042302860345,
          0
         ],
         "xaxis": "x",
         "y": [
          -145,
          -145,
          -155,
          -155
         ],
         "yaxis": "y"
        },
        {
         "hoverinfo": "text",
         "marker": {
          "color": "rgb(133,20,75)"
         },
         "mode": "lines",
         "text": [
          "confidence_skills_attitude_motivation_mistakes",
          "",
          "",
          "respect_respectful_appreciation_progress_appreciable"
         ],
         "type": "scatter",
         "x": [
          0,
          0.9915930575736903,
          0.9915930575736903,
          0.9415042302860345
         ],
         "xaxis": "x",
         "y": [
          -135,
          -135,
          -150,
          -150
         ],
         "yaxis": "y"
        },
        {
         "hoverinfo": "text",
         "marker": {
          "color": "rgb(255,220,0)"
         },
         "mode": "lines",
         "text": [
          "exemplar_exemplarity_guided_vision_recognition",
          "",
          "",
          "example_good example_questions_understanding_ideas"
         ],
         "type": "scatter",
         "x": [
          0,
          0.946714373895259,
          0.946714373895259,
          0
         ],
         "xaxis": "x",
         "y": [
          -165,
          -165,
          -175,
          -175
         ],
         "yaxis": "y"
        },
        {
         "hoverinfo": "text",
         "marker": {
          "color": "rgb(0,116,217)"
         },
         "mode": "lines",
         "text": [
          "confidence_skills_attitude_respect_perceived",
          "",
          "",
          "exemplar_exemplarity_guided_actions_guide"
         ],
         "type": "scatter",
         "x": [
          0.9915930575736903,
          1.0263084380089937,
          1.0263084380089937,
          0.946714373895259
         ],
         "xaxis": "x",
         "y": [
          -142.5,
          -142.5,
          -170,
          -170
         ],
         "yaxis": "y"
        },
        {
         "hoverinfo": "text",
         "marker": {
          "color": "rgb(0,116,217)"
         },
         "mode": "lines",
         "text": [
          "sparring_partners_promotion_partner_trust",
          "",
          "",
          "exemplar_exemplarity_guided_advance_actions"
         ],
         "type": "scatter",
         "x": [
          1.0620384256258826,
          1.0927440727115483,
          1.0927440727115483,
          1.0263084380089937
         ],
         "xaxis": "x",
         "y": [
          -94.375,
          -94.375,
          -156.25,
          -156.25
         ],
         "yaxis": "y"
        },
        {
         "hoverinfo": "text",
         "marker": {
          "color": "rgb(0,116,217)"
         },
         "mode": "lines",
         "text": [
          "good supervisor_supervisor_leadership_good leader_competent",
          "",
          "",
          "sparring_partners_individualities_partner_confidence"
         ],
         "type": "scatter",
         "x": [
          0.9333017858564238,
          1.1978835233847949,
          1.1978835233847949,
          1.0927440727115483
         ],
         "xaxis": "x",
         "y": [
          -26.25,
          -26.25,
          -125.3125,
          -125.3125
         ],
         "yaxis": "y"
        },
        {
         "hoverinfo": "text",
         "hovertext": [
          "leadership_leader_good leader_good supervisor_role model",
          "criticise_praise_criticism_constructively_constructive",
          "sparring_loyalty_partners_trust_attributes",
          "open ear_ear_ears_model_clear line",
          "confidence_skills_attitude_respect_perceived",
          "sparring_partners_promotion_partner_trust",
          "good supervisor_supervisor_leadership_good leader_competent"
         ],
         "marker": {
          "color": "black"
         },
         "mode": "markers",
         "showlegend": false,
         "type": "scatter",
         "x": [
          0.5945267272970043,
          0.9363830738576527,
          0.7893416686063495,
          0.9842570919863252,
          0.9915930575736903,
          1.0620384256258826,
          0.9333017858564238
         ],
         "y": [
          -12.5,
          -60,
          -110,
          -71.25,
          -142.5,
          -94.375,
          -26.25
         ]
        },
        {
         "hoverinfo": "text",
         "hovertext": [
          "leadership_good supervisor_good leader_leader_role model",
          "communication_collaborators_collaborator_facilitate_availability",
          "open ear_ear_ears_clear communication_clear line",
          "open ear_ear_ears_model_listening",
          "sparring_meetings_loyalty_promotion_partners",
          "respect_respectful_appreciation_progress_appreciable",
          "exemplar_exemplarity_guided_actions_guide",
          "exemplar_exemplarity_guided_advance_actions",
          "sparring_partners_individualities_partner_confidence"
         ],
         "marker": {
          "color": "black"
         },
         "mode": "markers",
         "showlegend": false,
         "type": "scatter",
         "x": [
          0.3912244953350692,
          0.7602291232813475,
          0.8308399397071538,
          0.9006176434944457,
          0.8628259921504356,
          0.9415042302860345,
          0.946714373895259,
          1.0263084380089937,
          1.0927440727115483
         ],
         "y": [
          -20,
          -40,
          -90,
          -82.5,
          -117.5,
          -150,
          -170,
          -156.25,
          -125.3125
         ]
        }
       ],
       "layout": {
        "autosize": false,
        "height": 470,
        "hoverlabel": {
         "bgcolor": "white",
         "font": {
          "family": "Rockwell",
          "size": 16
         }
        },
        "hovermode": "closest",
        "plot_bgcolor": "#ECEFF1",
        "showlegend": false,
        "template": {
         "data": {
          "bar": [
           {
            "error_x": {
             "color": "#2a3f5f"
            },
            "error_y": {
             "color": "#2a3f5f"
            },
            "marker": {
             "line": {
              "color": "white",
              "width": 0.5
             },
             "pattern": {
              "fillmode": "overlay",
              "size": 10,
              "solidity": 0.2
             }
            },
            "type": "bar"
           }
          ],
          "barpolar": [
           {
            "marker": {
             "line": {
              "color": "white",
              "width": 0.5
             },
             "pattern": {
              "fillmode": "overlay",
              "size": 10,
              "solidity": 0.2
             }
            },
            "type": "barpolar"
           }
          ],
          "carpet": [
           {
            "aaxis": {
             "endlinecolor": "#2a3f5f",
             "gridcolor": "#C8D4E3",
             "linecolor": "#C8D4E3",
             "minorgridcolor": "#C8D4E3",
             "startlinecolor": "#2a3f5f"
            },
            "baxis": {
             "endlinecolor": "#2a3f5f",
             "gridcolor": "#C8D4E3",
             "linecolor": "#C8D4E3",
             "minorgridcolor": "#C8D4E3",
             "startlinecolor": "#2a3f5f"
            },
            "type": "carpet"
           }
          ],
          "choropleth": [
           {
            "colorbar": {
             "outlinewidth": 0,
             "ticks": ""
            },
            "type": "choropleth"
           }
          ],
          "contour": [
           {
            "colorbar": {
             "outlinewidth": 0,
             "ticks": ""
            },
            "colorscale": [
             [
              0,
              "#0d0887"
             ],
             [
              0.1111111111111111,
              "#46039f"
             ],
             [
              0.2222222222222222,
              "#7201a8"
             ],
             [
              0.3333333333333333,
              "#9c179e"
             ],
             [
              0.4444444444444444,
              "#bd3786"
             ],
             [
              0.5555555555555556,
              "#d8576b"
             ],
             [
              0.6666666666666666,
              "#ed7953"
             ],
             [
              0.7777777777777778,
              "#fb9f3a"
             ],
             [
              0.8888888888888888,
              "#fdca26"
             ],
             [
              1,
              "#f0f921"
             ]
            ],
            "type": "contour"
           }
          ],
          "contourcarpet": [
           {
            "colorbar": {
             "outlinewidth": 0,
             "ticks": ""
            },
            "type": "contourcarpet"
           }
          ],
          "heatmap": [
           {
            "colorbar": {
             "outlinewidth": 0,
             "ticks": ""
            },
            "colorscale": [
             [
              0,
              "#0d0887"
             ],
             [
              0.1111111111111111,
              "#46039f"
             ],
             [
              0.2222222222222222,
              "#7201a8"
             ],
             [
              0.3333333333333333,
              "#9c179e"
             ],
             [
              0.4444444444444444,
              "#bd3786"
             ],
             [
              0.5555555555555556,
              "#d8576b"
             ],
             [
              0.6666666666666666,
              "#ed7953"
             ],
             [
              0.7777777777777778,
              "#fb9f3a"
             ],
             [
              0.8888888888888888,
              "#fdca26"
             ],
             [
              1,
              "#f0f921"
             ]
            ],
            "type": "heatmap"
           }
          ],
          "heatmapgl": [
           {
            "colorbar": {
             "outlinewidth": 0,
             "ticks": ""
            },
            "colorscale": [
             [
              0,
              "#0d0887"
             ],
             [
              0.1111111111111111,
              "#46039f"
             ],
             [
              0.2222222222222222,
              "#7201a8"
             ],
             [
              0.3333333333333333,
              "#9c179e"
             ],
             [
              0.4444444444444444,
              "#bd3786"
             ],
             [
              0.5555555555555556,
              "#d8576b"
             ],
             [
              0.6666666666666666,
              "#ed7953"
             ],
             [
              0.7777777777777778,
              "#fb9f3a"
             ],
             [
              0.8888888888888888,
              "#fdca26"
             ],
             [
              1,
              "#f0f921"
             ]
            ],
            "type": "heatmapgl"
           }
          ],
          "histogram": [
           {
            "marker": {
             "pattern": {
              "fillmode": "overlay",
              "size": 10,
              "solidity": 0.2
             }
            },
            "type": "histogram"
           }
          ],
          "histogram2d": [
           {
            "colorbar": {
             "outlinewidth": 0,
             "ticks": ""
            },
            "colorscale": [
             [
              0,
              "#0d0887"
             ],
             [
              0.1111111111111111,
              "#46039f"
             ],
             [
              0.2222222222222222,
              "#7201a8"
             ],
             [
              0.3333333333333333,
              "#9c179e"
             ],
             [
              0.4444444444444444,
              "#bd3786"
             ],
             [
              0.5555555555555556,
              "#d8576b"
             ],
             [
              0.6666666666666666,
              "#ed7953"
             ],
             [
              0.7777777777777778,
              "#fb9f3a"
             ],
             [
              0.8888888888888888,
              "#fdca26"
             ],
             [
              1,
              "#f0f921"
             ]
            ],
            "type": "histogram2d"
           }
          ],
          "histogram2dcontour": [
           {
            "colorbar": {
             "outlinewidth": 0,
             "ticks": ""
            },
            "colorscale": [
             [
              0,
              "#0d0887"
             ],
             [
              0.1111111111111111,
              "#46039f"
             ],
             [
              0.2222222222222222,
              "#7201a8"
             ],
             [
              0.3333333333333333,
              "#9c179e"
             ],
             [
              0.4444444444444444,
              "#bd3786"
             ],
             [
              0.5555555555555556,
              "#d8576b"
             ],
             [
              0.6666666666666666,
              "#ed7953"
             ],
             [
              0.7777777777777778,
              "#fb9f3a"
             ],
             [
              0.8888888888888888,
              "#fdca26"
             ],
             [
              1,
              "#f0f921"
             ]
            ],
            "type": "histogram2dcontour"
           }
          ],
          "mesh3d": [
           {
            "colorbar": {
             "outlinewidth": 0,
             "ticks": ""
            },
            "type": "mesh3d"
           }
          ],
          "parcoords": [
           {
            "line": {
             "colorbar": {
              "outlinewidth": 0,
              "ticks": ""
             }
            },
            "type": "parcoords"
           }
          ],
          "pie": [
           {
            "automargin": true,
            "type": "pie"
           }
          ],
          "scatter": [
           {
            "fillpattern": {
             "fillmode": "overlay",
             "size": 10,
             "solidity": 0.2
            },
            "type": "scatter"
           }
          ],
          "scatter3d": [
           {
            "line": {
             "colorbar": {
              "outlinewidth": 0,
              "ticks": ""
             }
            },
            "marker": {
             "colorbar": {
              "outlinewidth": 0,
              "ticks": ""
             }
            },
            "type": "scatter3d"
           }
          ],
          "scattercarpet": [
           {
            "marker": {
             "colorbar": {
              "outlinewidth": 0,
              "ticks": ""
             }
            },
            "type": "scattercarpet"
           }
          ],
          "scattergeo": [
           {
            "marker": {
             "colorbar": {
              "outlinewidth": 0,
              "ticks": ""
             }
            },
            "type": "scattergeo"
           }
          ],
          "scattergl": [
           {
            "marker": {
             "colorbar": {
              "outlinewidth": 0,
              "ticks": ""
             }
            },
            "type": "scattergl"
           }
          ],
          "scattermapbox": [
           {
            "marker": {
             "colorbar": {
              "outlinewidth": 0,
              "ticks": ""
             }
            },
            "type": "scattermapbox"
           }
          ],
          "scatterpolar": [
           {
            "marker": {
             "colorbar": {
              "outlinewidth": 0,
              "ticks": ""
             }
            },
            "type": "scatterpolar"
           }
          ],
          "scatterpolargl": [
           {
            "marker": {
             "colorbar": {
              "outlinewidth": 0,
              "ticks": ""
             }
            },
            "type": "scatterpolargl"
           }
          ],
          "scatterternary": [
           {
            "marker": {
             "colorbar": {
              "outlinewidth": 0,
              "ticks": ""
             }
            },
            "type": "scatterternary"
           }
          ],
          "surface": [
           {
            "colorbar": {
             "outlinewidth": 0,
             "ticks": ""
            },
            "colorscale": [
             [
              0,
              "#0d0887"
             ],
             [
              0.1111111111111111,
              "#46039f"
             ],
             [
              0.2222222222222222,
              "#7201a8"
             ],
             [
              0.3333333333333333,
              "#9c179e"
             ],
             [
              0.4444444444444444,
              "#bd3786"
             ],
             [
              0.5555555555555556,
              "#d8576b"
             ],
             [
              0.6666666666666666,
              "#ed7953"
             ],
             [
              0.7777777777777778,
              "#fb9f3a"
             ],
             [
              0.8888888888888888,
              "#fdca26"
             ],
             [
              1,
              "#f0f921"
             ]
            ],
            "type": "surface"
           }
          ],
          "table": [
           {
            "cells": {
             "fill": {
              "color": "#EBF0F8"
             },
             "line": {
              "color": "white"
             }
            },
            "header": {
             "fill": {
              "color": "#C8D4E3"
             },
             "line": {
              "color": "white"
             }
            },
            "type": "table"
           }
          ]
         },
         "layout": {
          "annotationdefaults": {
           "arrowcolor": "#2a3f5f",
           "arrowhead": 0,
           "arrowwidth": 1
          },
          "autotypenumbers": "strict",
          "coloraxis": {
           "colorbar": {
            "outlinewidth": 0,
            "ticks": ""
           }
          },
          "colorscale": {
           "diverging": [
            [
             0,
             "#8e0152"
            ],
            [
             0.1,
             "#c51b7d"
            ],
            [
             0.2,
             "#de77ae"
            ],
            [
             0.3,
             "#f1b6da"
            ],
            [
             0.4,
             "#fde0ef"
            ],
            [
             0.5,
             "#f7f7f7"
            ],
            [
             0.6,
             "#e6f5d0"
            ],
            [
             0.7,
             "#b8e186"
            ],
            [
             0.8,
             "#7fbc41"
            ],
            [
             0.9,
             "#4d9221"
            ],
            [
             1,
             "#276419"
            ]
           ],
           "sequential": [
            [
             0,
             "#0d0887"
            ],
            [
             0.1111111111111111,
             "#46039f"
            ],
            [
             0.2222222222222222,
             "#7201a8"
            ],
            [
             0.3333333333333333,
             "#9c179e"
            ],
            [
             0.4444444444444444,
             "#bd3786"
            ],
            [
             0.5555555555555556,
             "#d8576b"
            ],
            [
             0.6666666666666666,
             "#ed7953"
            ],
            [
             0.7777777777777778,
             "#fb9f3a"
            ],
            [
             0.8888888888888888,
             "#fdca26"
            ],
            [
             1,
             "#f0f921"
            ]
           ],
           "sequentialminus": [
            [
             0,
             "#0d0887"
            ],
            [
             0.1111111111111111,
             "#46039f"
            ],
            [
             0.2222222222222222,
             "#7201a8"
            ],
            [
             0.3333333333333333,
             "#9c179e"
            ],
            [
             0.4444444444444444,
             "#bd3786"
            ],
            [
             0.5555555555555556,
             "#d8576b"
            ],
            [
             0.6666666666666666,
             "#ed7953"
            ],
            [
             0.7777777777777778,
             "#fb9f3a"
            ],
            [
             0.8888888888888888,
             "#fdca26"
            ],
            [
             1,
             "#f0f921"
            ]
           ]
          },
          "colorway": [
           "#636efa",
           "#EF553B",
           "#00cc96",
           "#ab63fa",
           "#FFA15A",
           "#19d3f3",
           "#FF6692",
           "#B6E880",
           "#FF97FF",
           "#FECB52"
          ],
          "font": {
           "color": "#2a3f5f"
          },
          "geo": {
           "bgcolor": "white",
           "lakecolor": "white",
           "landcolor": "white",
           "showlakes": true,
           "showland": true,
           "subunitcolor": "#C8D4E3"
          },
          "hoverlabel": {
           "align": "left"
          },
          "hovermode": "closest",
          "mapbox": {
           "style": "light"
          },
          "paper_bgcolor": "white",
          "plot_bgcolor": "white",
          "polar": {
           "angularaxis": {
            "gridcolor": "#EBF0F8",
            "linecolor": "#EBF0F8",
            "ticks": ""
           },
           "bgcolor": "white",
           "radialaxis": {
            "gridcolor": "#EBF0F8",
            "linecolor": "#EBF0F8",
            "ticks": ""
           }
          },
          "scene": {
           "xaxis": {
            "backgroundcolor": "white",
            "gridcolor": "#DFE8F3",
            "gridwidth": 2,
            "linecolor": "#EBF0F8",
            "showbackground": true,
            "ticks": "",
            "zerolinecolor": "#EBF0F8"
           },
           "yaxis": {
            "backgroundcolor": "white",
            "gridcolor": "#DFE8F3",
            "gridwidth": 2,
            "linecolor": "#EBF0F8",
            "showbackground": true,
            "ticks": "",
            "zerolinecolor": "#EBF0F8"
           },
           "zaxis": {
            "backgroundcolor": "white",
            "gridcolor": "#DFE8F3",
            "gridwidth": 2,
            "linecolor": "#EBF0F8",
            "showbackground": true,
            "ticks": "",
            "zerolinecolor": "#EBF0F8"
           }
          },
          "shapedefaults": {
           "line": {
            "color": "#2a3f5f"
           }
          },
          "ternary": {
           "aaxis": {
            "gridcolor": "#DFE8F3",
            "linecolor": "#A2B1C6",
            "ticks": ""
           },
           "baxis": {
            "gridcolor": "#DFE8F3",
            "linecolor": "#A2B1C6",
            "ticks": ""
           },
           "bgcolor": "white",
           "caxis": {
            "gridcolor": "#DFE8F3",
            "linecolor": "#A2B1C6",
            "ticks": ""
           }
          },
          "title": {
           "x": 0.05
          },
          "xaxis": {
           "automargin": true,
           "gridcolor": "#EBF0F8",
           "linecolor": "#EBF0F8",
           "ticks": "",
           "title": {
            "standoff": 15
           },
           "zerolinecolor": "#EBF0F8",
           "zerolinewidth": 2
          },
          "yaxis": {
           "automargin": true,
           "gridcolor": "#EBF0F8",
           "linecolor": "#EBF0F8",
           "ticks": "",
           "title": {
            "standoff": 15
           },
           "zerolinecolor": "#EBF0F8",
           "zerolinewidth": 2
          }
         }
        },
        "title": {
         "font": {
          "color": "Black",
          "size": 22
         },
         "text": "<b>Hierarchical Clustering</b>",
         "x": 0.5,
         "xanchor": "center",
         "yanchor": "top"
        },
        "width": 1000,
        "xaxis": {
         "mirror": "allticks",
         "rangemode": "tozero",
         "showgrid": false,
         "showline": true,
         "showticklabels": true,
         "ticks": "outside",
         "type": "linear",
         "zeroline": false
        },
        "yaxis": {
         "mirror": "allticks",
         "range": [
          -180,
          0
         ],
         "rangemode": "tozero",
         "showgrid": false,
         "showline": true,
         "showticklabels": true,
         "tickmode": "array",
         "ticks": "outside",
         "ticktext": [
          "3_chef_chefs_supervise",
          "0_leadership_role model_lea...",
          "1_good superior_superior_su...",
          "6_collaborator_collaborator...",
          "2_availability_listening_co...",
          "14_criticise_criticism_praise",
          "15_support_supporting_avail...",
          "9_model_function_control",
          "7_open ear_ear_ears",
          "13_clear line_line_clear",
          "16_freedoms_freedom_compete...",
          "5_sparring_coaching_partners",
          "17_communication_open commu...",
          "10_confidence_skills_attitude",
          "8_respect_respectful_clear",
          "12_appreciation_appreciable...",
          "11_exemplar_exemplarity_gui...",
          "4_example_good example_ques..."
         ],
         "tickvals": [
          -5,
          -15,
          -25,
          -35,
          -45,
          -55,
          -65,
          -75,
          -85,
          -95,
          -105,
          -115,
          -125,
          -135,
          -145,
          -155,
          -165,
          -175
         ],
         "type": "linear",
         "zeroline": false
        }
       }
      }
     },
     "metadata": {},
     "output_type": "display_data"
    }
   ],
   "source": [
    "hierarchical_topics = topic_model.hierarchical_topics(docs)\n",
    "topic_model.visualize_hierarchy(hierarchical_topics=hierarchical_topics)"
   ]
  },
  {
   "cell_type": "code",
   "execution_count": 38,
   "metadata": {},
   "outputs": [
    {
     "data": {
      "application/vnd.plotly.v1+json": {
       "config": {
        "plotlyServerURL": "https://plot.ly"
       },
       "data": [
        {
         "marker": {
          "color": "#D55E00"
         },
         "orientation": "h",
         "type": "bar",
         "x": [
          0.3725411295890808,
          0.39523470401763916,
          0.42716366052627563,
          0.44418051838874817,
          0.5180777311325073
         ],
         "xaxis": "x",
         "y": [
          "skills  ",
          "manage  ",
          "subordinates  ",
          "management  ",
          "leaderhip  "
         ],
         "yaxis": "y"
        },
        {
         "marker": {
          "color": "#0072B2"
         },
         "orientation": "h",
         "type": "bar",
         "x": [
          0.4284893274307251,
          0.46934276819229126,
          0.5097819566726685,
          0.5857149362564087,
          0.5937038064002991
         ],
         "xaxis": "x2",
         "y": [
          "loyalty  ",
          "ability  ",
          "role  ",
          "skills  ",
          "role model  "
         ],
         "yaxis": "y2"
        },
        {
         "marker": {
          "color": "#CC79A7"
         },
         "orientation": "h",
         "type": "bar",
         "x": [
          0.24981772899627686,
          0.2551394999027252,
          0.25812622904777527,
          0.326812207698822,
          0.40693485736846924
         ],
         "xaxis": "x3",
         "y": [
          "staff  ",
          "weaknesses  ",
          "responsibilities  ",
          "role  ",
          "role model  "
         ],
         "yaxis": "y3"
        },
        {
         "marker": {
          "color": "#E69F00"
         },
         "orientation": "h",
         "type": "bar",
         "x": [
          0.4851205348968506,
          0.517172634601593,
          0.5355755686759949,
          0.5569961071014404,
          0.5737208127975464
         ],
         "xaxis": "x4",
         "y": [
          "communicative  ",
          "availability  ",
          "clear communication  ",
          "communication  ",
          "open communication  "
         ],
         "yaxis": "y4"
        },
        {
         "marker": {
          "color": "#56B4E9"
         },
         "orientation": "h",
         "type": "bar",
         "x": [
          0.39213091135025024,
          0.3954885005950928,
          0.4053015112876892,
          0.4551052451133728,
          0.537064790725708
         ],
         "xaxis": "x5",
         "y": [
          "leaderhip  ",
          "strengths  ",
          "role  ",
          "role model  ",
          "competent  "
         ],
         "yaxis": "y5"
        },
        {
         "marker": {
          "color": "#009E73"
         },
         "orientation": "h",
         "type": "bar",
         "x": [
          0.3919287919998169,
          0.4041786193847656,
          0.40756431221961975,
          0.4138459265232086,
          0.4400024712085724
         ],
         "xaxis": "x6",
         "y": [
          "responsibilities  ",
          "collaborator  ",
          "spokesperson  ",
          "colleague  ",
          "authority  "
         ],
         "yaxis": "y6"
        },
        {
         "marker": {
          "color": "#F0E442"
         },
         "orientation": "h",
         "type": "bar",
         "x": [
          0.2759232521057129,
          0.2812931537628174,
          0.28840965032577515,
          0.3014832139015198,
          0.31061428785324097
         ],
         "xaxis": "x7",
         "y": [
          "delegate  ",
          "characteristics  ",
          "conscientiously  ",
          "entrusted  ",
          "characterizes  "
         ],
         "yaxis": "y7"
        },
        {
         "marker": {
          "color": "#D55E00"
         },
         "orientation": "h",
         "type": "bar",
         "x": [
          0.40070468187332153,
          0.45216816663742065,
          0.4676367938518524,
          0.716605007648468,
          0.7220586538314819
         ],
         "xaxis": "x8",
         "y": [
          "visionary  ",
          "competent  ",
          "disciplined  ",
          "exemplary behavior  ",
          "exemplary  "
         ],
         "yaxis": "y8"
        },
        {
         "marker": {
          "color": "#0072B2"
         },
         "orientation": "h",
         "type": "bar",
         "x": [
          0.4681883454322815,
          0.4695860743522644,
          0.48561543226242065,
          0.5036702156066895,
          0.5551081299781799
         ],
         "xaxis": "x9",
         "y": [
          "open communication  ",
          "respectful  ",
          "clear orders  ",
          "handling  ",
          "respectful treatment  "
         ],
         "yaxis": "y9"
        },
        {
         "marker": {
          "color": "#CC79A7"
         },
         "orientation": "h",
         "type": "bar",
         "x": [
          0.395188570022583,
          0.40501925349235535,
          0.5169528722763062,
          0.5322144031524658,
          0.5782040357589722
         ],
         "xaxis": "x10",
         "y": [
          "charism  ",
          "trained  ",
          "coach  ",
          "coached  ",
          "coaching  "
         ],
         "yaxis": "y10"
        },
        {
         "marker": {
          "color": "#E69F00"
         },
         "orientation": "h",
         "type": "bar",
         "x": [
          0.35289835929870605,
          0.35608404874801636,
          0.3596348166465759,
          0.37089231610298157,
          0.6125514507293701
         ],
         "xaxis": "x11",
         "y": [
          "improve  ",
          "organisations  ",
          "organisation  ",
          "advisor  ",
          "management  "
         ],
         "yaxis": "y11"
        },
        {
         "marker": {
          "color": "#56B4E9"
         },
         "orientation": "h",
         "type": "bar",
         "x": [
          0.43981659412384033,
          0.517127275466919,
          0.5507078170776367,
          0.5993865728378296,
          0.6493593454360962
         ],
         "xaxis": "x12",
         "y": [
          "inspiration  ",
          "motivated  ",
          "encouragements  ",
          "motivation  ",
          "motivate  "
         ],
         "yaxis": "y12"
        },
        {
         "marker": {
          "color": "#009E73"
         },
         "orientation": "h",
         "type": "bar",
         "x": [
          0.4063946604728699,
          0.41596972942352295,
          0.42552316188812256,
          0.4260852634906769,
          0.5618623495101929
         ],
         "xaxis": "x13",
         "y": [
          "manage  ",
          "participates  ",
          "colleague  ",
          "diplomacy  ",
          "collaborator  "
         ],
         "yaxis": "y13"
        },
        {
         "marker": {
          "color": "#F0E442"
         },
         "orientation": "h",
         "type": "bar",
         "x": [
          0.2969460189342499,
          0.30211156606674194,
          0.35546454787254333,
          0.37031322717666626,
          0.4072332978248596
         ],
         "xaxis": "x14",
         "y": [
          "demotivate  ",
          "understands  ",
          "organisational  ",
          "manage  ",
          "profession  "
         ],
         "yaxis": "y14"
        },
        {
         "marker": {
          "color": "#D55E00"
         },
         "orientation": "h",
         "type": "bar",
         "x": [
          0.29822874069213867,
          0.30124741792678833,
          0.33888304233551025,
          0.35719814896583557,
          0.7002086639404297
         ],
         "xaxis": "x15",
         "y": [
          "collaborator  ",
          "specialist knowledge  ",
          "qualities  ",
          "supervise  ",
          "chef  "
         ],
         "yaxis": "y15"
        },
        {
         "marker": {
          "color": "#0072B2"
         },
         "orientation": "h",
         "type": "bar",
         "x": [
          0.23520049452781677,
          0.24022895097732544,
          0.25937485694885254,
          0.2810018062591553,
          0.34055525064468384
         ],
         "xaxis": "x16",
         "y": [
          "strengthens  ",
          "ethical  ",
          "long leash  ",
          "leash  ",
          "honest communication  "
         ],
         "yaxis": "y16"
        },
        {
         "marker": {
          "color": "#CC79A7"
         },
         "orientation": "h",
         "type": "bar",
         "x": [
          0.5236067771911621,
          0.5483264923095703,
          0.558073878288269,
          0.6248180866241455,
          0.6365286111831665
         ],
         "xaxis": "x17",
         "y": [
          "role  ",
          "guiding  ",
          "lead  ",
          "role model  ",
          "leading  "
         ],
         "yaxis": "y17"
        },
        {
         "marker": {
          "color": "#E69F00"
         },
         "orientation": "h",
         "type": "bar",
         "x": [
          0.42109960317611694,
          0.4228407144546509,
          0.4293774664402008,
          0.47974711656570435,
          0.6001342535018921
         ],
         "xaxis": "x18",
         "y": [
          "instruct  ",
          "commitment  ",
          "competent  ",
          "motivator  ",
          "model  "
         ],
         "yaxis": "y18"
        },
        {
         "marker": {
          "color": "#56B4E9"
         },
         "orientation": "h",
         "type": "bar",
         "x": [
          0.3788056969642639,
          0.3821991980075836,
          0.3856116533279419,
          0.3882903456687927,
          0.3885309398174286
         ],
         "xaxis": "x19",
         "y": [
          "open  ",
          "answered  ",
          "test  ",
          "example  ",
          "curious  "
         ],
         "yaxis": "y19"
        },
        {
         "marker": {
          "color": "#009E73"
         },
         "orientation": "h",
         "type": "bar",
         "x": [
          0.47684693336486816,
          0.5874383449554443,
          0.6232864856719971,
          0.653705358505249,
          0.9012740850448608
         ],
         "xaxis": "x20",
         "y": [
          "skills  ",
          "social  ",
          "professional competence  ",
          "competence  ",
          "social competence  "
         ],
         "yaxis": "y20"
        },
        {
         "marker": {
          "color": "#F0E442"
         },
         "orientation": "h",
         "type": "bar",
         "x": [
          0.34610238671302795,
          0.4103286862373352,
          0.41805100440979004,
          0.6510841846466064,
          0.7336832284927368
         ],
         "xaxis": "x21",
         "y": [
          "participate  ",
          "partner  ",
          "loyalty  ",
          "sparring  ",
          "sparring partner  "
         ],
         "yaxis": "y21"
        },
        {
         "marker": {
          "color": "#D55E00"
         },
         "orientation": "h",
         "type": "bar",
         "x": [
          0.2618708610534668,
          0.2760482728481293,
          0.2958661615848541,
          0.33655717968940735,
          0.3441890776157379
         ],
         "xaxis": "x22",
         "y": [
          "management  ",
          "helping  ",
          "responsibilities  ",
          "advises  ",
          "guidance  "
         ],
         "yaxis": "y22"
        },
        {
         "marker": {
          "color": "#0072B2"
         },
         "orientation": "h",
         "type": "bar",
         "x": [
          0.46852582693099976,
          0.4861229658126831,
          0.5421755909919739,
          0.5509599447250366,
          0.5562701225280762
         ],
         "xaxis": "x23",
         "y": [
          "responsibilities  ",
          "communicative  ",
          "clear communication  ",
          "honest communication  ",
          "communication  "
         ],
         "yaxis": "y23"
        },
        {
         "marker": {
          "color": "#CC79A7"
         },
         "orientation": "h",
         "type": "bar",
         "x": [
          0.5190621614456177,
          0.5396751761436462,
          0.542060136795044,
          0.5873204469680786,
          0.6455360651016235
         ],
         "xaxis": "x24",
         "y": [
          "ability  ",
          "competence  ",
          "communication skills  ",
          "competencies  ",
          "skills  "
         ],
         "yaxis": "y24"
        },
        {
         "marker": {
          "color": "#E69F00"
         },
         "orientation": "h",
         "type": "bar",
         "x": [
          0.5570194721221924,
          0.58154296875,
          0.5945210456848145,
          0.6888718008995056,
          0.7214972972869873
         ],
         "xaxis": "x25",
         "y": [
          "soft  ",
          "bli  ",
          "ras  ",
          "respectful  ",
          "respect  "
         ],
         "yaxis": "y25"
        },
        {
         "marker": {
          "color": "#56B4E9"
         },
         "orientation": "h",
         "type": "bar",
         "x": [
          0.3549426794052124,
          0.37275588512420654,
          0.3952711820602417,
          0.46067488193511963,
          0.7386263608932495
         ],
         "xaxis": "x26",
         "y": [
          "informed  ",
          "emphatic  ",
          "erlichkeit  ",
          "predictable  ",
          "model  "
         ],
         "yaxis": "y26"
        },
        {
         "marker": {
          "color": "#009E73"
         },
         "orientation": "h",
         "type": "bar",
         "x": [
          0.42569398880004883,
          0.4588180184364319,
          0.4933168888092041,
          0.530360996723175,
          0.6113489866256714
         ],
         "xaxis": "x27",
         "y": [
          "support  ",
          "role model  ",
          "commitment  ",
          "trusts  ",
          "trust  "
         ],
         "yaxis": "y27"
        },
        {
         "marker": {
          "color": "#F0E442"
         },
         "orientation": "h",
         "type": "bar",
         "x": [
          0.37490782141685486,
          0.3874329924583435,
          0.4534619450569153,
          0.6112416982650757,
          0.6982494592666626
         ],
         "xaxis": "x28",
         "y": [
          "cover  ",
          "listener  ",
          "back cover  ",
          "ear  ",
          "open ear  "
         ],
         "yaxis": "y28"
        },
        {
         "marker": {
          "color": "#D55E00"
         },
         "orientation": "h",
         "type": "bar",
         "x": [
          0.5256548523902893,
          0.5692286491394043,
          0.6147292852401733,
          0.7387913465499878,
          0.8955860137939453
         ],
         "xaxis": "x29",
         "y": [
          "togetherness  ",
          "trustful  ",
          "trust  ",
          "cooperate  ",
          "cooperation  "
         ],
         "yaxis": "y29"
        },
        {
         "marker": {
          "color": "#0072B2"
         },
         "orientation": "h",
         "type": "bar",
         "x": [
          0.22275881469249725,
          0.26157593727111816,
          0.26510682702064514,
          0.5552294254302979,
          0.7076834440231323
         ],
         "xaxis": "x30",
         "y": [
          "understanding  ",
          "development  ",
          "control  ",
          "function  ",
          "model  "
         ],
         "yaxis": "y30"
        },
        {
         "marker": {
          "color": "#CC79A7"
         },
         "orientation": "h",
         "type": "bar",
         "x": [
          0.3174577057361603,
          0.32086747884750366,
          0.5495707988739014,
          0.633545994758606,
          0.814726710319519
         ],
         "xaxis": "x31",
         "y": [
          "recognition  ",
          "vision  ",
          "guided  ",
          "exemplarity  ",
          "exemplar  "
         ],
         "yaxis": "y31"
        },
        {
         "marker": {
          "color": "#E69F00"
         },
         "orientation": "h",
         "type": "bar",
         "x": [
          0.4032951891422272,
          0.4051348567008972,
          0.41056960821151733,
          0.46311599016189575,
          0.5086798667907715
         ],
         "xaxis": "x32",
         "y": [
          "quality  ",
          "strategic  ",
          "impartiality  ",
          "corporate  ",
          "company  "
         ],
         "yaxis": "y32"
        },
        {
         "marker": {
          "color": "#56B4E9"
         },
         "orientation": "h",
         "type": "bar",
         "x": [
          0.42038679122924805,
          0.4219236969947815,
          0.4294804632663727,
          0.7764638662338257,
          0.7936151027679443
         ],
         "xaxis": "x33",
         "y": [
          "perspective  ",
          "strong  ",
          "demanding  ",
          "supporting  ",
          "support  "
         ],
         "yaxis": "y33"
        },
        {
         "marker": {
          "color": "#009E73"
         },
         "orientation": "h",
         "type": "bar",
         "x": [
          0.5324016809463501,
          0.6241428256034851,
          0.6525634527206421,
          0.6594229936599731,
          0.8594496250152588
         ],
         "xaxis": "x34",
         "y": [
          "clear communication  ",
          "clear  ",
          "line  ",
          "lines  ",
          "clear line  "
         ],
         "yaxis": "y34"
        },
        {
         "marker": {
          "color": "#F0E442"
         },
         "orientation": "h",
         "type": "bar",
         "x": [
          0.4247366189956665,
          0.4345269203186035,
          0.49479931592941284,
          0.5109297037124634,
          0.6786525249481201
         ],
         "xaxis": "x35",
         "y": [
          "information  ",
          "leaderhip  ",
          "communication  ",
          "communicate  ",
          "humanity  "
         ],
         "yaxis": "y35"
        },
        {
         "marker": {
          "color": "#D55E00"
         },
         "orientation": "h",
         "type": "bar",
         "x": [
          0.2074766606092453,
          0.2748265564441681,
          0.3028091490268707,
          0.40351003408432007,
          0.9733102321624756
         ],
         "xaxis": "x36",
         "y": [
          "  ",
          "respect  ",
          "freedom  ",
          "liability  ",
          "confidence  "
         ],
         "yaxis": "y36"
        },
        {
         "marker": {
          "color": "#0072B2"
         },
         "orientation": "h",
         "type": "bar",
         "x": [
          0.4541657567024231,
          0.4576364755630493,
          0.5209158658981323,
          0.6772054433822632,
          0.7765781283378601
         ],
         "xaxis": "x37",
         "y": [
          "achievements  ",
          "receive  ",
          "fhsfg  ",
          "appreciable  ",
          "appreciation  "
         ],
         "yaxis": "y37"
        },
        {
         "marker": {
          "color": "#CC79A7"
         },
         "orientation": "h",
         "type": "bar",
         "x": [
          0.4463522434234619,
          0.4549942910671234,
          0.4562859535217285,
          0.5422415733337402,
          0.6077587604522705
         ],
         "xaxis": "x38",
         "y": [
          "constructive feedback  ",
          "ambition  ",
          "confidence  ",
          "clear communication  ",
          "communication  "
         ],
         "yaxis": "y38"
        },
        {
         "marker": {
          "color": "#E69F00"
         },
         "orientation": "h",
         "type": "bar",
         "x": [
          0.5048214793205261,
          0.5661883354187012,
          0.5883865356445312,
          0.6053483486175537,
          0.6537694931030273
         ],
         "xaxis": "x39",
         "y": [
          "eye level  ",
          "conversations  ",
          "open communication  ",
          "honest communication  ",
          "communication  "
         ],
         "yaxis": "y39"
        },
        {
         "marker": {
          "color": "#56B4E9"
         },
         "orientation": "h",
         "type": "bar",
         "x": [
          0.4213627278804779,
          0.5403094291687012,
          0.6196267008781433,
          0.6382421255111694,
          0.86339271068573
         ],
         "xaxis": "x40",
         "y": [
          "honest  ",
          "honesty  ",
          "communication  ",
          "open communication  ",
          "honest communication  "
         ],
         "yaxis": "y40"
        }
       ],
       "layout": {
        "annotations": [
         {
          "font": {
           "size": 16
          },
          "showarrow": false,
          "text": "Topic 0",
          "x": 0.0875,
          "xanchor": "center",
          "xref": "paper",
          "y": 1,
          "yanchor": "bottom",
          "yref": "paper"
         },
         {
          "font": {
           "size": 16
          },
          "showarrow": false,
          "text": "Topic 1",
          "x": 0.36250000000000004,
          "xanchor": "center",
          "xref": "paper",
          "y": 1,
          "yanchor": "bottom",
          "yref": "paper"
         },
         {
          "font": {
           "size": 16
          },
          "showarrow": false,
          "text": "Topic 2",
          "x": 0.6375000000000001,
          "xanchor": "center",
          "xref": "paper",
          "y": 1,
          "yanchor": "bottom",
          "yref": "paper"
         },
         {
          "font": {
           "size": 16
          },
          "showarrow": false,
          "text": "Topic 3",
          "x": 0.9125,
          "xanchor": "center",
          "xref": "paper",
          "y": 1,
          "yanchor": "bottom",
          "yref": "paper"
         },
         {
          "font": {
           "size": 16
          },
          "showarrow": false,
          "text": "Topic 4",
          "x": 0.0875,
          "xanchor": "center",
          "xref": "paper",
          "y": 0.8960000000000001,
          "yanchor": "bottom",
          "yref": "paper"
         },
         {
          "font": {
           "size": 16
          },
          "showarrow": false,
          "text": "Topic 5",
          "x": 0.36250000000000004,
          "xanchor": "center",
          "xref": "paper",
          "y": 0.8960000000000001,
          "yanchor": "bottom",
          "yref": "paper"
         },
         {
          "font": {
           "size": 16
          },
          "showarrow": false,
          "text": "Topic 6",
          "x": 0.6375000000000001,
          "xanchor": "center",
          "xref": "paper",
          "y": 0.8960000000000001,
          "yanchor": "bottom",
          "yref": "paper"
         },
         {
          "font": {
           "size": 16
          },
          "showarrow": false,
          "text": "Topic 7",
          "x": 0.9125,
          "xanchor": "center",
          "xref": "paper",
          "y": 0.8960000000000001,
          "yanchor": "bottom",
          "yref": "paper"
         },
         {
          "font": {
           "size": 16
          },
          "showarrow": false,
          "text": "Topic 8",
          "x": 0.0875,
          "xanchor": "center",
          "xref": "paper",
          "y": 0.792,
          "yanchor": "bottom",
          "yref": "paper"
         },
         {
          "font": {
           "size": 16
          },
          "showarrow": false,
          "text": "Topic 9",
          "x": 0.36250000000000004,
          "xanchor": "center",
          "xref": "paper",
          "y": 0.792,
          "yanchor": "bottom",
          "yref": "paper"
         },
         {
          "font": {
           "size": 16
          },
          "showarrow": false,
          "text": "Topic 10",
          "x": 0.6375000000000001,
          "xanchor": "center",
          "xref": "paper",
          "y": 0.792,
          "yanchor": "bottom",
          "yref": "paper"
         },
         {
          "font": {
           "size": 16
          },
          "showarrow": false,
          "text": "Topic 11",
          "x": 0.9125,
          "xanchor": "center",
          "xref": "paper",
          "y": 0.792,
          "yanchor": "bottom",
          "yref": "paper"
         },
         {
          "font": {
           "size": 16
          },
          "showarrow": false,
          "text": "Topic 12",
          "x": 0.0875,
          "xanchor": "center",
          "xref": "paper",
          "y": 0.688,
          "yanchor": "bottom",
          "yref": "paper"
         },
         {
          "font": {
           "size": 16
          },
          "showarrow": false,
          "text": "Topic 13",
          "x": 0.36250000000000004,
          "xanchor": "center",
          "xref": "paper",
          "y": 0.688,
          "yanchor": "bottom",
          "yref": "paper"
         },
         {
          "font": {
           "size": 16
          },
          "showarrow": false,
          "text": "Topic 14",
          "x": 0.6375000000000001,
          "xanchor": "center",
          "xref": "paper",
          "y": 0.688,
          "yanchor": "bottom",
          "yref": "paper"
         },
         {
          "font": {
           "size": 16
          },
          "showarrow": false,
          "text": "Topic 15",
          "x": 0.9125,
          "xanchor": "center",
          "xref": "paper",
          "y": 0.688,
          "yanchor": "bottom",
          "yref": "paper"
         },
         {
          "font": {
           "size": 16
          },
          "showarrow": false,
          "text": "Topic 16",
          "x": 0.0875,
          "xanchor": "center",
          "xref": "paper",
          "y": 0.5840000000000001,
          "yanchor": "bottom",
          "yref": "paper"
         },
         {
          "font": {
           "size": 16
          },
          "showarrow": false,
          "text": "Topic 17",
          "x": 0.36250000000000004,
          "xanchor": "center",
          "xref": "paper",
          "y": 0.5840000000000001,
          "yanchor": "bottom",
          "yref": "paper"
         },
         {
          "font": {
           "size": 16
          },
          "showarrow": false,
          "text": "Topic 18",
          "x": 0.6375000000000001,
          "xanchor": "center",
          "xref": "paper",
          "y": 0.5840000000000001,
          "yanchor": "bottom",
          "yref": "paper"
         },
         {
          "font": {
           "size": 16
          },
          "showarrow": false,
          "text": "Topic 19",
          "x": 0.9125,
          "xanchor": "center",
          "xref": "paper",
          "y": 0.5840000000000001,
          "yanchor": "bottom",
          "yref": "paper"
         },
         {
          "font": {
           "size": 16
          },
          "showarrow": false,
          "text": "Topic 20",
          "x": 0.0875,
          "xanchor": "center",
          "xref": "paper",
          "y": 0.48000000000000004,
          "yanchor": "bottom",
          "yref": "paper"
         },
         {
          "font": {
           "size": 16
          },
          "showarrow": false,
          "text": "Topic 21",
          "x": 0.36250000000000004,
          "xanchor": "center",
          "xref": "paper",
          "y": 0.48000000000000004,
          "yanchor": "bottom",
          "yref": "paper"
         },
         {
          "font": {
           "size": 16
          },
          "showarrow": false,
          "text": "Topic 22",
          "x": 0.6375000000000001,
          "xanchor": "center",
          "xref": "paper",
          "y": 0.48000000000000004,
          "yanchor": "bottom",
          "yref": "paper"
         },
         {
          "font": {
           "size": 16
          },
          "showarrow": false,
          "text": "Topic 23",
          "x": 0.9125,
          "xanchor": "center",
          "xref": "paper",
          "y": 0.48000000000000004,
          "yanchor": "bottom",
          "yref": "paper"
         },
         {
          "font": {
           "size": 16
          },
          "showarrow": false,
          "text": "Topic 24",
          "x": 0.0875,
          "xanchor": "center",
          "xref": "paper",
          "y": 0.376,
          "yanchor": "bottom",
          "yref": "paper"
         },
         {
          "font": {
           "size": 16
          },
          "showarrow": false,
          "text": "Topic 25",
          "x": 0.36250000000000004,
          "xanchor": "center",
          "xref": "paper",
          "y": 0.376,
          "yanchor": "bottom",
          "yref": "paper"
         },
         {
          "font": {
           "size": 16
          },
          "showarrow": false,
          "text": "Topic 26",
          "x": 0.6375000000000001,
          "xanchor": "center",
          "xref": "paper",
          "y": 0.376,
          "yanchor": "bottom",
          "yref": "paper"
         },
         {
          "font": {
           "size": 16
          },
          "showarrow": false,
          "text": "Topic 27",
          "x": 0.9125,
          "xanchor": "center",
          "xref": "paper",
          "y": 0.376,
          "yanchor": "bottom",
          "yref": "paper"
         },
         {
          "font": {
           "size": 16
          },
          "showarrow": false,
          "text": "Topic 28",
          "x": 0.0875,
          "xanchor": "center",
          "xref": "paper",
          "y": 0.272,
          "yanchor": "bottom",
          "yref": "paper"
         },
         {
          "font": {
           "size": 16
          },
          "showarrow": false,
          "text": "Topic 29",
          "x": 0.36250000000000004,
          "xanchor": "center",
          "xref": "paper",
          "y": 0.272,
          "yanchor": "bottom",
          "yref": "paper"
         },
         {
          "font": {
           "size": 16
          },
          "showarrow": false,
          "text": "Topic 30",
          "x": 0.6375000000000001,
          "xanchor": "center",
          "xref": "paper",
          "y": 0.272,
          "yanchor": "bottom",
          "yref": "paper"
         },
         {
          "font": {
           "size": 16
          },
          "showarrow": false,
          "text": "Topic 31",
          "x": 0.9125,
          "xanchor": "center",
          "xref": "paper",
          "y": 0.272,
          "yanchor": "bottom",
          "yref": "paper"
         },
         {
          "font": {
           "size": 16
          },
          "showarrow": false,
          "text": "Topic 32",
          "x": 0.0875,
          "xanchor": "center",
          "xref": "paper",
          "y": 0.168,
          "yanchor": "bottom",
          "yref": "paper"
         },
         {
          "font": {
           "size": 16
          },
          "showarrow": false,
          "text": "Topic 33",
          "x": 0.36250000000000004,
          "xanchor": "center",
          "xref": "paper",
          "y": 0.168,
          "yanchor": "bottom",
          "yref": "paper"
         },
         {
          "font": {
           "size": 16
          },
          "showarrow": false,
          "text": "Topic 34",
          "x": 0.6375000000000001,
          "xanchor": "center",
          "xref": "paper",
          "y": 0.168,
          "yanchor": "bottom",
          "yref": "paper"
         },
         {
          "font": {
           "size": 16
          },
          "showarrow": false,
          "text": "Topic 35",
          "x": 0.9125,
          "xanchor": "center",
          "xref": "paper",
          "y": 0.168,
          "yanchor": "bottom",
          "yref": "paper"
         },
         {
          "font": {
           "size": 16
          },
          "showarrow": false,
          "text": "Topic 36",
          "x": 0.0875,
          "xanchor": "center",
          "xref": "paper",
          "y": 0.064,
          "yanchor": "bottom",
          "yref": "paper"
         },
         {
          "font": {
           "size": 16
          },
          "showarrow": false,
          "text": "Topic 37",
          "x": 0.36250000000000004,
          "xanchor": "center",
          "xref": "paper",
          "y": 0.064,
          "yanchor": "bottom",
          "yref": "paper"
         },
         {
          "font": {
           "size": 16
          },
          "showarrow": false,
          "text": "Topic 38",
          "x": 0.6375000000000001,
          "xanchor": "center",
          "xref": "paper",
          "y": 0.064,
          "yanchor": "bottom",
          "yref": "paper"
         },
         {
          "font": {
           "size": 16
          },
          "showarrow": false,
          "text": "Topic 39",
          "x": 0.9125,
          "xanchor": "center",
          "xref": "paper",
          "y": 0.064,
          "yanchor": "bottom",
          "yref": "paper"
         }
        ],
        "height": 2500,
        "hoverlabel": {
         "bgcolor": "white",
         "font": {
          "family": "Rockwell",
          "size": 16
         }
        },
        "showlegend": false,
        "template": {
         "data": {
          "bar": [
           {
            "error_x": {
             "color": "#2a3f5f"
            },
            "error_y": {
             "color": "#2a3f5f"
            },
            "marker": {
             "line": {
              "color": "white",
              "width": 0.5
             },
             "pattern": {
              "fillmode": "overlay",
              "size": 10,
              "solidity": 0.2
             }
            },
            "type": "bar"
           }
          ],
          "barpolar": [
           {
            "marker": {
             "line": {
              "color": "white",
              "width": 0.5
             },
             "pattern": {
              "fillmode": "overlay",
              "size": 10,
              "solidity": 0.2
             }
            },
            "type": "barpolar"
           }
          ],
          "carpet": [
           {
            "aaxis": {
             "endlinecolor": "#2a3f5f",
             "gridcolor": "#C8D4E3",
             "linecolor": "#C8D4E3",
             "minorgridcolor": "#C8D4E3",
             "startlinecolor": "#2a3f5f"
            },
            "baxis": {
             "endlinecolor": "#2a3f5f",
             "gridcolor": "#C8D4E3",
             "linecolor": "#C8D4E3",
             "minorgridcolor": "#C8D4E3",
             "startlinecolor": "#2a3f5f"
            },
            "type": "carpet"
           }
          ],
          "choropleth": [
           {
            "colorbar": {
             "outlinewidth": 0,
             "ticks": ""
            },
            "type": "choropleth"
           }
          ],
          "contour": [
           {
            "colorbar": {
             "outlinewidth": 0,
             "ticks": ""
            },
            "colorscale": [
             [
              0,
              "#0d0887"
             ],
             [
              0.1111111111111111,
              "#46039f"
             ],
             [
              0.2222222222222222,
              "#7201a8"
             ],
             [
              0.3333333333333333,
              "#9c179e"
             ],
             [
              0.4444444444444444,
              "#bd3786"
             ],
             [
              0.5555555555555556,
              "#d8576b"
             ],
             [
              0.6666666666666666,
              "#ed7953"
             ],
             [
              0.7777777777777778,
              "#fb9f3a"
             ],
             [
              0.8888888888888888,
              "#fdca26"
             ],
             [
              1,
              "#f0f921"
             ]
            ],
            "type": "contour"
           }
          ],
          "contourcarpet": [
           {
            "colorbar": {
             "outlinewidth": 0,
             "ticks": ""
            },
            "type": "contourcarpet"
           }
          ],
          "heatmap": [
           {
            "colorbar": {
             "outlinewidth": 0,
             "ticks": ""
            },
            "colorscale": [
             [
              0,
              "#0d0887"
             ],
             [
              0.1111111111111111,
              "#46039f"
             ],
             [
              0.2222222222222222,
              "#7201a8"
             ],
             [
              0.3333333333333333,
              "#9c179e"
             ],
             [
              0.4444444444444444,
              "#bd3786"
             ],
             [
              0.5555555555555556,
              "#d8576b"
             ],
             [
              0.6666666666666666,
              "#ed7953"
             ],
             [
              0.7777777777777778,
              "#fb9f3a"
             ],
             [
              0.8888888888888888,
              "#fdca26"
             ],
             [
              1,
              "#f0f921"
             ]
            ],
            "type": "heatmap"
           }
          ],
          "heatmapgl": [
           {
            "colorbar": {
             "outlinewidth": 0,
             "ticks": ""
            },
            "colorscale": [
             [
              0,
              "#0d0887"
             ],
             [
              0.1111111111111111,
              "#46039f"
             ],
             [
              0.2222222222222222,
              "#7201a8"
             ],
             [
              0.3333333333333333,
              "#9c179e"
             ],
             [
              0.4444444444444444,
              "#bd3786"
             ],
             [
              0.5555555555555556,
              "#d8576b"
             ],
             [
              0.6666666666666666,
              "#ed7953"
             ],
             [
              0.7777777777777778,
              "#fb9f3a"
             ],
             [
              0.8888888888888888,
              "#fdca26"
             ],
             [
              1,
              "#f0f921"
             ]
            ],
            "type": "heatmapgl"
           }
          ],
          "histogram": [
           {
            "marker": {
             "pattern": {
              "fillmode": "overlay",
              "size": 10,
              "solidity": 0.2
             }
            },
            "type": "histogram"
           }
          ],
          "histogram2d": [
           {
            "colorbar": {
             "outlinewidth": 0,
             "ticks": ""
            },
            "colorscale": [
             [
              0,
              "#0d0887"
             ],
             [
              0.1111111111111111,
              "#46039f"
             ],
             [
              0.2222222222222222,
              "#7201a8"
             ],
             [
              0.3333333333333333,
              "#9c179e"
             ],
             [
              0.4444444444444444,
              "#bd3786"
             ],
             [
              0.5555555555555556,
              "#d8576b"
             ],
             [
              0.6666666666666666,
              "#ed7953"
             ],
             [
              0.7777777777777778,
              "#fb9f3a"
             ],
             [
              0.8888888888888888,
              "#fdca26"
             ],
             [
              1,
              "#f0f921"
             ]
            ],
            "type": "histogram2d"
           }
          ],
          "histogram2dcontour": [
           {
            "colorbar": {
             "outlinewidth": 0,
             "ticks": ""
            },
            "colorscale": [
             [
              0,
              "#0d0887"
             ],
             [
              0.1111111111111111,
              "#46039f"
             ],
             [
              0.2222222222222222,
              "#7201a8"
             ],
             [
              0.3333333333333333,
              "#9c179e"
             ],
             [
              0.4444444444444444,
              "#bd3786"
             ],
             [
              0.5555555555555556,
              "#d8576b"
             ],
             [
              0.6666666666666666,
              "#ed7953"
             ],
             [
              0.7777777777777778,
              "#fb9f3a"
             ],
             [
              0.8888888888888888,
              "#fdca26"
             ],
             [
              1,
              "#f0f921"
             ]
            ],
            "type": "histogram2dcontour"
           }
          ],
          "mesh3d": [
           {
            "colorbar": {
             "outlinewidth": 0,
             "ticks": ""
            },
            "type": "mesh3d"
           }
          ],
          "parcoords": [
           {
            "line": {
             "colorbar": {
              "outlinewidth": 0,
              "ticks": ""
             }
            },
            "type": "parcoords"
           }
          ],
          "pie": [
           {
            "automargin": true,
            "type": "pie"
           }
          ],
          "scatter": [
           {
            "fillpattern": {
             "fillmode": "overlay",
             "size": 10,
             "solidity": 0.2
            },
            "type": "scatter"
           }
          ],
          "scatter3d": [
           {
            "line": {
             "colorbar": {
              "outlinewidth": 0,
              "ticks": ""
             }
            },
            "marker": {
             "colorbar": {
              "outlinewidth": 0,
              "ticks": ""
             }
            },
            "type": "scatter3d"
           }
          ],
          "scattercarpet": [
           {
            "marker": {
             "colorbar": {
              "outlinewidth": 0,
              "ticks": ""
             }
            },
            "type": "scattercarpet"
           }
          ],
          "scattergeo": [
           {
            "marker": {
             "colorbar": {
              "outlinewidth": 0,
              "ticks": ""
             }
            },
            "type": "scattergeo"
           }
          ],
          "scattergl": [
           {
            "marker": {
             "colorbar": {
              "outlinewidth": 0,
              "ticks": ""
             }
            },
            "type": "scattergl"
           }
          ],
          "scattermapbox": [
           {
            "marker": {
             "colorbar": {
              "outlinewidth": 0,
              "ticks": ""
             }
            },
            "type": "scattermapbox"
           }
          ],
          "scatterpolar": [
           {
            "marker": {
             "colorbar": {
              "outlinewidth": 0,
              "ticks": ""
             }
            },
            "type": "scatterpolar"
           }
          ],
          "scatterpolargl": [
           {
            "marker": {
             "colorbar": {
              "outlinewidth": 0,
              "ticks": ""
             }
            },
            "type": "scatterpolargl"
           }
          ],
          "scatterternary": [
           {
            "marker": {
             "colorbar": {
              "outlinewidth": 0,
              "ticks": ""
             }
            },
            "type": "scatterternary"
           }
          ],
          "surface": [
           {
            "colorbar": {
             "outlinewidth": 0,
             "ticks": ""
            },
            "colorscale": [
             [
              0,
              "#0d0887"
             ],
             [
              0.1111111111111111,
              "#46039f"
             ],
             [
              0.2222222222222222,
              "#7201a8"
             ],
             [
              0.3333333333333333,
              "#9c179e"
             ],
             [
              0.4444444444444444,
              "#bd3786"
             ],
             [
              0.5555555555555556,
              "#d8576b"
             ],
             [
              0.6666666666666666,
              "#ed7953"
             ],
             [
              0.7777777777777778,
              "#fb9f3a"
             ],
             [
              0.8888888888888888,
              "#fdca26"
             ],
             [
              1,
              "#f0f921"
             ]
            ],
            "type": "surface"
           }
          ],
          "table": [
           {
            "cells": {
             "fill": {
              "color": "#EBF0F8"
             },
             "line": {
              "color": "white"
             }
            },
            "header": {
             "fill": {
              "color": "#C8D4E3"
             },
             "line": {
              "color": "white"
             }
            },
            "type": "table"
           }
          ]
         },
         "layout": {
          "annotationdefaults": {
           "arrowcolor": "#2a3f5f",
           "arrowhead": 0,
           "arrowwidth": 1
          },
          "autotypenumbers": "strict",
          "coloraxis": {
           "colorbar": {
            "outlinewidth": 0,
            "ticks": ""
           }
          },
          "colorscale": {
           "diverging": [
            [
             0,
             "#8e0152"
            ],
            [
             0.1,
             "#c51b7d"
            ],
            [
             0.2,
             "#de77ae"
            ],
            [
             0.3,
             "#f1b6da"
            ],
            [
             0.4,
             "#fde0ef"
            ],
            [
             0.5,
             "#f7f7f7"
            ],
            [
             0.6,
             "#e6f5d0"
            ],
            [
             0.7,
             "#b8e186"
            ],
            [
             0.8,
             "#7fbc41"
            ],
            [
             0.9,
             "#4d9221"
            ],
            [
             1,
             "#276419"
            ]
           ],
           "sequential": [
            [
             0,
             "#0d0887"
            ],
            [
             0.1111111111111111,
             "#46039f"
            ],
            [
             0.2222222222222222,
             "#7201a8"
            ],
            [
             0.3333333333333333,
             "#9c179e"
            ],
            [
             0.4444444444444444,
             "#bd3786"
            ],
            [
             0.5555555555555556,
             "#d8576b"
            ],
            [
             0.6666666666666666,
             "#ed7953"
            ],
            [
             0.7777777777777778,
             "#fb9f3a"
            ],
            [
             0.8888888888888888,
             "#fdca26"
            ],
            [
             1,
             "#f0f921"
            ]
           ],
           "sequentialminus": [
            [
             0,
             "#0d0887"
            ],
            [
             0.1111111111111111,
             "#46039f"
            ],
            [
             0.2222222222222222,
             "#7201a8"
            ],
            [
             0.3333333333333333,
             "#9c179e"
            ],
            [
             0.4444444444444444,
             "#bd3786"
            ],
            [
             0.5555555555555556,
             "#d8576b"
            ],
            [
             0.6666666666666666,
             "#ed7953"
            ],
            [
             0.7777777777777778,
             "#fb9f3a"
            ],
            [
             0.8888888888888888,
             "#fdca26"
            ],
            [
             1,
             "#f0f921"
            ]
           ]
          },
          "colorway": [
           "#636efa",
           "#EF553B",
           "#00cc96",
           "#ab63fa",
           "#FFA15A",
           "#19d3f3",
           "#FF6692",
           "#B6E880",
           "#FF97FF",
           "#FECB52"
          ],
          "font": {
           "color": "#2a3f5f"
          },
          "geo": {
           "bgcolor": "white",
           "lakecolor": "white",
           "landcolor": "white",
           "showlakes": true,
           "showland": true,
           "subunitcolor": "#C8D4E3"
          },
          "hoverlabel": {
           "align": "left"
          },
          "hovermode": "closest",
          "mapbox": {
           "style": "light"
          },
          "paper_bgcolor": "white",
          "plot_bgcolor": "white",
          "polar": {
           "angularaxis": {
            "gridcolor": "#EBF0F8",
            "linecolor": "#EBF0F8",
            "ticks": ""
           },
           "bgcolor": "white",
           "radialaxis": {
            "gridcolor": "#EBF0F8",
            "linecolor": "#EBF0F8",
            "ticks": ""
           }
          },
          "scene": {
           "xaxis": {
            "backgroundcolor": "white",
            "gridcolor": "#DFE8F3",
            "gridwidth": 2,
            "linecolor": "#EBF0F8",
            "showbackground": true,
            "ticks": "",
            "zerolinecolor": "#EBF0F8"
           },
           "yaxis": {
            "backgroundcolor": "white",
            "gridcolor": "#DFE8F3",
            "gridwidth": 2,
            "linecolor": "#EBF0F8",
            "showbackground": true,
            "ticks": "",
            "zerolinecolor": "#EBF0F8"
           },
           "zaxis": {
            "backgroundcolor": "white",
            "gridcolor": "#DFE8F3",
            "gridwidth": 2,
            "linecolor": "#EBF0F8",
            "showbackground": true,
            "ticks": "",
            "zerolinecolor": "#EBF0F8"
           }
          },
          "shapedefaults": {
           "line": {
            "color": "#2a3f5f"
           }
          },
          "ternary": {
           "aaxis": {
            "gridcolor": "#DFE8F3",
            "linecolor": "#A2B1C6",
            "ticks": ""
           },
           "baxis": {
            "gridcolor": "#DFE8F3",
            "linecolor": "#A2B1C6",
            "ticks": ""
           },
           "bgcolor": "white",
           "caxis": {
            "gridcolor": "#DFE8F3",
            "linecolor": "#A2B1C6",
            "ticks": ""
           }
          },
          "title": {
           "x": 0.05
          },
          "xaxis": {
           "automargin": true,
           "gridcolor": "#EBF0F8",
           "linecolor": "#EBF0F8",
           "ticks": "",
           "title": {
            "standoff": 15
           },
           "zerolinecolor": "#EBF0F8",
           "zerolinewidth": 2
          },
          "yaxis": {
           "automargin": true,
           "gridcolor": "#EBF0F8",
           "linecolor": "#EBF0F8",
           "ticks": "",
           "title": {
            "standoff": 15
           },
           "zerolinecolor": "#EBF0F8",
           "zerolinewidth": 2
          }
         }
        },
        "title": {
         "font": {
          "color": "Black",
          "size": 22
         },
         "text": "Topic Word Scores",
         "x": 0.5,
         "xanchor": "center",
         "yanchor": "top"
        },
        "width": 1000,
        "xaxis": {
         "anchor": "y",
         "domain": [
          0,
          0.175
         ],
         "showgrid": true
        },
        "xaxis10": {
         "anchor": "y10",
         "domain": [
          0.275,
          0.45
         ],
         "showgrid": true
        },
        "xaxis11": {
         "anchor": "y11",
         "domain": [
          0.55,
          0.7250000000000001
         ],
         "showgrid": true
        },
        "xaxis12": {
         "anchor": "y12",
         "domain": [
          0.825,
          1
         ],
         "showgrid": true
        },
        "xaxis13": {
         "anchor": "y13",
         "domain": [
          0,
          0.175
         ],
         "showgrid": true
        },
        "xaxis14": {
         "anchor": "y14",
         "domain": [
          0.275,
          0.45
         ],
         "showgrid": true
        },
        "xaxis15": {
         "anchor": "y15",
         "domain": [
          0.55,
          0.7250000000000001
         ],
         "showgrid": true
        },
        "xaxis16": {
         "anchor": "y16",
         "domain": [
          0.825,
          1
         ],
         "showgrid": true
        },
        "xaxis17": {
         "anchor": "y17",
         "domain": [
          0,
          0.175
         ],
         "showgrid": true
        },
        "xaxis18": {
         "anchor": "y18",
         "domain": [
          0.275,
          0.45
         ],
         "showgrid": true
        },
        "xaxis19": {
         "anchor": "y19",
         "domain": [
          0.55,
          0.7250000000000001
         ],
         "showgrid": true
        },
        "xaxis2": {
         "anchor": "y2",
         "domain": [
          0.275,
          0.45
         ],
         "showgrid": true
        },
        "xaxis20": {
         "anchor": "y20",
         "domain": [
          0.825,
          1
         ],
         "showgrid": true
        },
        "xaxis21": {
         "anchor": "y21",
         "domain": [
          0,
          0.175
         ],
         "showgrid": true
        },
        "xaxis22": {
         "anchor": "y22",
         "domain": [
          0.275,
          0.45
         ],
         "showgrid": true
        },
        "xaxis23": {
         "anchor": "y23",
         "domain": [
          0.55,
          0.7250000000000001
         ],
         "showgrid": true
        },
        "xaxis24": {
         "anchor": "y24",
         "domain": [
          0.825,
          1
         ],
         "showgrid": true
        },
        "xaxis25": {
         "anchor": "y25",
         "domain": [
          0,
          0.175
         ],
         "showgrid": true
        },
        "xaxis26": {
         "anchor": "y26",
         "domain": [
          0.275,
          0.45
         ],
         "showgrid": true
        },
        "xaxis27": {
         "anchor": "y27",
         "domain": [
          0.55,
          0.7250000000000001
         ],
         "showgrid": true
        },
        "xaxis28": {
         "anchor": "y28",
         "domain": [
          0.825,
          1
         ],
         "showgrid": true
        },
        "xaxis29": {
         "anchor": "y29",
         "domain": [
          0,
          0.175
         ],
         "showgrid": true
        },
        "xaxis3": {
         "anchor": "y3",
         "domain": [
          0.55,
          0.7250000000000001
         ],
         "showgrid": true
        },
        "xaxis30": {
         "anchor": "y30",
         "domain": [
          0.275,
          0.45
         ],
         "showgrid": true
        },
        "xaxis31": {
         "anchor": "y31",
         "domain": [
          0.55,
          0.7250000000000001
         ],
         "showgrid": true
        },
        "xaxis32": {
         "anchor": "y32",
         "domain": [
          0.825,
          1
         ],
         "showgrid": true
        },
        "xaxis33": {
         "anchor": "y33",
         "domain": [
          0,
          0.175
         ],
         "showgrid": true
        },
        "xaxis34": {
         "anchor": "y34",
         "domain": [
          0.275,
          0.45
         ],
         "showgrid": true
        },
        "xaxis35": {
         "anchor": "y35",
         "domain": [
          0.55,
          0.7250000000000001
         ],
         "showgrid": true
        },
        "xaxis36": {
         "anchor": "y36",
         "domain": [
          0.825,
          1
         ],
         "showgrid": true
        },
        "xaxis37": {
         "anchor": "y37",
         "domain": [
          0,
          0.175
         ],
         "showgrid": true
        },
        "xaxis38": {
         "anchor": "y38",
         "domain": [
          0.275,
          0.45
         ],
         "showgrid": true
        },
        "xaxis39": {
         "anchor": "y39",
         "domain": [
          0.55,
          0.7250000000000001
         ],
         "showgrid": true
        },
        "xaxis4": {
         "anchor": "y4",
         "domain": [
          0.825,
          1
         ],
         "showgrid": true
        },
        "xaxis40": {
         "anchor": "y40",
         "domain": [
          0.825,
          1
         ],
         "showgrid": true
        },
        "xaxis5": {
         "anchor": "y5",
         "domain": [
          0,
          0.175
         ],
         "showgrid": true
        },
        "xaxis6": {
         "anchor": "y6",
         "domain": [
          0.275,
          0.45
         ],
         "showgrid": true
        },
        "xaxis7": {
         "anchor": "y7",
         "domain": [
          0.55,
          0.7250000000000001
         ],
         "showgrid": true
        },
        "xaxis8": {
         "anchor": "y8",
         "domain": [
          0.825,
          1
         ],
         "showgrid": true
        },
        "xaxis9": {
         "anchor": "y9",
         "domain": [
          0,
          0.175
         ],
         "showgrid": true
        },
        "yaxis": {
         "anchor": "x",
         "domain": [
          0.936,
          1
         ],
         "showgrid": true
        },
        "yaxis10": {
         "anchor": "x10",
         "domain": [
          0.728,
          0.792
         ],
         "showgrid": true
        },
        "yaxis11": {
         "anchor": "x11",
         "domain": [
          0.728,
          0.792
         ],
         "showgrid": true
        },
        "yaxis12": {
         "anchor": "x12",
         "domain": [
          0.728,
          0.792
         ],
         "showgrid": true
        },
        "yaxis13": {
         "anchor": "x13",
         "domain": [
          0.624,
          0.688
         ],
         "showgrid": true
        },
        "yaxis14": {
         "anchor": "x14",
         "domain": [
          0.624,
          0.688
         ],
         "showgrid": true
        },
        "yaxis15": {
         "anchor": "x15",
         "domain": [
          0.624,
          0.688
         ],
         "showgrid": true
        },
        "yaxis16": {
         "anchor": "x16",
         "domain": [
          0.624,
          0.688
         ],
         "showgrid": true
        },
        "yaxis17": {
         "anchor": "x17",
         "domain": [
          0.52,
          0.5840000000000001
         ],
         "showgrid": true
        },
        "yaxis18": {
         "anchor": "x18",
         "domain": [
          0.52,
          0.5840000000000001
         ],
         "showgrid": true
        },
        "yaxis19": {
         "anchor": "x19",
         "domain": [
          0.52,
          0.5840000000000001
         ],
         "showgrid": true
        },
        "yaxis2": {
         "anchor": "x2",
         "domain": [
          0.936,
          1
         ],
         "showgrid": true
        },
        "yaxis20": {
         "anchor": "x20",
         "domain": [
          0.52,
          0.5840000000000001
         ],
         "showgrid": true
        },
        "yaxis21": {
         "anchor": "x21",
         "domain": [
          0.41600000000000004,
          0.48000000000000004
         ],
         "showgrid": true
        },
        "yaxis22": {
         "anchor": "x22",
         "domain": [
          0.41600000000000004,
          0.48000000000000004
         ],
         "showgrid": true
        },
        "yaxis23": {
         "anchor": "x23",
         "domain": [
          0.41600000000000004,
          0.48000000000000004
         ],
         "showgrid": true
        },
        "yaxis24": {
         "anchor": "x24",
         "domain": [
          0.41600000000000004,
          0.48000000000000004
         ],
         "showgrid": true
        },
        "yaxis25": {
         "anchor": "x25",
         "domain": [
          0.312,
          0.376
         ],
         "showgrid": true
        },
        "yaxis26": {
         "anchor": "x26",
         "domain": [
          0.312,
          0.376
         ],
         "showgrid": true
        },
        "yaxis27": {
         "anchor": "x27",
         "domain": [
          0.312,
          0.376
         ],
         "showgrid": true
        },
        "yaxis28": {
         "anchor": "x28",
         "domain": [
          0.312,
          0.376
         ],
         "showgrid": true
        },
        "yaxis29": {
         "anchor": "x29",
         "domain": [
          0.20800000000000002,
          0.272
         ],
         "showgrid": true
        },
        "yaxis3": {
         "anchor": "x3",
         "domain": [
          0.936,
          1
         ],
         "showgrid": true
        },
        "yaxis30": {
         "anchor": "x30",
         "domain": [
          0.20800000000000002,
          0.272
         ],
         "showgrid": true
        },
        "yaxis31": {
         "anchor": "x31",
         "domain": [
          0.20800000000000002,
          0.272
         ],
         "showgrid": true
        },
        "yaxis32": {
         "anchor": "x32",
         "domain": [
          0.20800000000000002,
          0.272
         ],
         "showgrid": true
        },
        "yaxis33": {
         "anchor": "x33",
         "domain": [
          0.10400000000000001,
          0.168
         ],
         "showgrid": true
        },
        "yaxis34": {
         "anchor": "x34",
         "domain": [
          0.10400000000000001,
          0.168
         ],
         "showgrid": true
        },
        "yaxis35": {
         "anchor": "x35",
         "domain": [
          0.10400000000000001,
          0.168
         ],
         "showgrid": true
        },
        "yaxis36": {
         "anchor": "x36",
         "domain": [
          0.10400000000000001,
          0.168
         ],
         "showgrid": true
        },
        "yaxis37": {
         "anchor": "x37",
         "domain": [
          0,
          0.064
         ],
         "showgrid": true
        },
        "yaxis38": {
         "anchor": "x38",
         "domain": [
          0,
          0.064
         ],
         "showgrid": true
        },
        "yaxis39": {
         "anchor": "x39",
         "domain": [
          0,
          0.064
         ],
         "showgrid": true
        },
        "yaxis4": {
         "anchor": "x4",
         "domain": [
          0.936,
          1
         ],
         "showgrid": true
        },
        "yaxis40": {
         "anchor": "x40",
         "domain": [
          0,
          0.064
         ],
         "showgrid": true
        },
        "yaxis5": {
         "anchor": "x5",
         "domain": [
          0.8320000000000001,
          0.8960000000000001
         ],
         "showgrid": true
        },
        "yaxis6": {
         "anchor": "x6",
         "domain": [
          0.8320000000000001,
          0.8960000000000001
         ],
         "showgrid": true
        },
        "yaxis7": {
         "anchor": "x7",
         "domain": [
          0.8320000000000001,
          0.8960000000000001
         ],
         "showgrid": true
        },
        "yaxis8": {
         "anchor": "x8",
         "domain": [
          0.8320000000000001,
          0.8960000000000001
         ],
         "showgrid": true
        },
        "yaxis9": {
         "anchor": "x9",
         "domain": [
          0.728,
          0.792
         ],
         "showgrid": true
        }
       }
      }
     },
     "metadata": {},
     "output_type": "display_data"
    }
   ],
   "source": [
    "topic_model.visualize_barchart(top_n_topics=50)\n",
    "# "
   ]
  },
  {
   "cell_type": "code",
   "execution_count": null,
   "metadata": {},
   "outputs": [],
   "source": []
  },
  {
   "cell_type": "code",
   "execution_count": null,
   "metadata": {},
   "outputs": [],
   "source": []
  },
  {
   "cell_type": "code",
   "execution_count": null,
   "metadata": {},
   "outputs": [],
   "source": []
  },
  {
   "cell_type": "code",
   "execution_count": null,
   "metadata": {},
   "outputs": [],
   "source": []
  },
  {
   "cell_type": "code",
   "execution_count": null,
   "metadata": {},
   "outputs": [],
   "source": []
  },
  {
   "cell_type": "code",
   "execution_count": null,
   "metadata": {},
   "outputs": [],
   "source": []
  },
  {
   "cell_type": "code",
   "execution_count": 42,
   "metadata": {},
   "outputs": [
    {
     "data": {
      "text/plain": [
       "['06338734703', '06338764700']"
      ]
     },
     "execution_count": 42,
     "metadata": {},
     "output_type": "execute_result"
    }
   ],
   "source": [
    "def isValid_cpf(cpf):\n",
    "    # Remove any formatting\n",
    "    cpf = ''.join(filter(str.isdigit, cpf))\n",
    "    \n",
    "    # Check if CPF has 11 digits\n",
    "    if len(cpf) != 11:\n",
    "        return False\n",
    "    \n",
    "    # Check if CPF has all digits equal\n",
    "    if cpf == cpf[0] * len(cpf):\n",
    "        return False\n",
    "    \n",
    "    # Calculate first check digit\n",
    "    first_check_sum = sum(int(digit) * weight for digit, weight in zip(cpf[:9], range(10, 1, -1)))\n",
    "    first_check_digit = (first_check_sum * 10 % 11) % 10\n",
    "    if int(cpf[9]) != first_check_digit:\n",
    "        return False\n",
    "    \n",
    "    # Calculate second check digit\n",
    "    second_check_sum = sum(int(digit) * weight for digit, weight in zip(cpf[:10], range(11, 1, -1)))\n",
    "    second_check_digit = (second_check_sum * 10 % 11) % 10\n",
    "    if int(cpf[10]) != second_check_digit:\n",
    "        return False\n",
    "    \n",
    "    return True\n",
    "\n",
    "isValid_cpf(\"11418074403\")\n",
    "\n",
    "def complete_cpf(incomplete_cpf, nb_possibilities=None):\n",
    "    def calculate_check_digit(digits, position):\n",
    "        sum_of_products = sum(int(digit) * weight for digit, weight in zip(digits, range(position, 1, -1)))\n",
    "        check_digit = (sum_of_products * 10 % 11) % 10\n",
    "        return str(check_digit)\n",
    "\n",
    "    def generate_possibilities(cpf, missing_indices, current_index, possibilities):\n",
    "        if current_index == len(missing_indices):\n",
    "            # Only calculate check digits if they are missing (marked by asterisks)\n",
    "            if cpf[9] == '*':\n",
    "                cpf[9] = calculate_check_digit(cpf[:9], 10)\n",
    "            if cpf[10] == '*':\n",
    "                cpf[10] = calculate_check_digit(cpf[:10], 11)\n",
    "            completed_cpf_str = ''.join(cpf)\n",
    "            if isValid_cpf(completed_cpf_str) and completed_cpf_str not in possibilities:\n",
    "                possibilities.append(completed_cpf_str)\n",
    "            return\n",
    "\n",
    "        for digit in '0123456789':\n",
    "            cpf[missing_indices[current_index]] = digit\n",
    "            generate_possibilities(cpf, missing_indices, current_index + 1, possibilities)\n",
    "\n",
    "    # Remove formatting and find missing indices\n",
    "    cpf = list(incomplete_cpf.replace('.', '').replace('-', ''))\n",
    "\n",
    "    missing_indices = [i for i, digit in enumerate(cpf) if digit == '*']\n",
    "\n",
    "    if len(cpf) != 11 or len(missing_indices) == 0:\n",
    "        return []\n",
    "\n",
    "    possibilities = []\n",
    "    generate_possibilities(cpf, missing_indices, 0, possibilities)\n",
    "\n",
    "    if nb_possibilities is not None:\n",
    "        return possibilities[:nb_possibilities]\n",
    "    return possibilities\n",
    "\n",
    "complete_cpf('063.387.*47-0*')  # Returns all valid CPF completions"
   ]
  },
  {
   "cell_type": "code",
   "execution_count": null,
   "metadata": {},
   "outputs": [],
   "source": []
  }
 ],
 "metadata": {
  "kernelspec": {
   "display_name": "wassati",
   "language": "python",
   "name": "python3"
  },
  "language_info": {
   "codemirror_mode": {
    "name": "ipython",
    "version": 3
   },
   "file_extension": ".py",
   "mimetype": "text/x-python",
   "name": "python",
   "nbconvert_exporter": "python",
   "pygments_lexer": "ipython3",
   "version": "3.9.17"
  }
 },
 "nbformat": 4,
 "nbformat_minor": 2
}
