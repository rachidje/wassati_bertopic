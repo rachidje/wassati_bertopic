{
 "cells": [
  {
   "cell_type": "code",
   "execution_count": 1,
   "metadata": {
    "metadata": {}
   },
   "outputs": [
    {
     "name": "stderr",
     "output_type": "stream",
     "text": [
      "/home/cattiaux/anaconda3/envs/wassati/lib/python3.9/site-packages/umap/distances.py:1063: NumbaDeprecationWarning: The 'nopython' keyword argument was not supplied to the 'numba.jit' decorator. The implicit default value for this argument is currently False, but it will be changed to True in Numba 0.59.0. See https://numba.readthedocs.io/en/stable/reference/deprecation.html#deprecation-of-object-mode-fall-back-behaviour-when-using-jit for details.\n",
      "  @numba.jit()\n",
      "/home/cattiaux/anaconda3/envs/wassati/lib/python3.9/site-packages/umap/distances.py:1071: NumbaDeprecationWarning: The 'nopython' keyword argument was not supplied to the 'numba.jit' decorator. The implicit default value for this argument is currently False, but it will be changed to True in Numba 0.59.0. See https://numba.readthedocs.io/en/stable/reference/deprecation.html#deprecation-of-object-mode-fall-back-behaviour-when-using-jit for details.\n",
      "  @numba.jit()\n",
      "/home/cattiaux/anaconda3/envs/wassati/lib/python3.9/site-packages/umap/distances.py:1086: NumbaDeprecationWarning: The 'nopython' keyword argument was not supplied to the 'numba.jit' decorator. The implicit default value for this argument is currently False, but it will be changed to True in Numba 0.59.0. See https://numba.readthedocs.io/en/stable/reference/deprecation.html#deprecation-of-object-mode-fall-back-behaviour-when-using-jit for details.\n",
      "  @numba.jit()\n",
      "/home/cattiaux/anaconda3/envs/wassati/lib/python3.9/site-packages/umap/umap_.py:660: NumbaDeprecationWarning: The 'nopython' keyword argument was not supplied to the 'numba.jit' decorator. The implicit default value for this argument is currently False, but it will be changed to True in Numba 0.59.0. See https://numba.readthedocs.io/en/stable/reference/deprecation.html#deprecation-of-object-mode-fall-back-behaviour-when-using-jit for details.\n",
      "  @numba.jit()\n"
     ]
    },
    {
     "data": {
      "text/plain": [
       "True"
      ]
     },
     "execution_count": 1,
     "metadata": {},
     "output_type": "execute_result"
    }
   ],
   "source": [
    "import pandas as pd\n",
    "import numpy as np\n",
    "import re \n",
    "import nltk \n",
    "\n",
    "from bertopic import BERTopic\n",
    "from bertopic.vectorizers import ClassTfidfTransformer\n",
    "from bertopic.representation import KeyBERTInspired, MaximalMarginalRelevance\n",
    "from sentence_transformers import SentenceTransformer\n",
    "from clustering.clustering import ClusteringMethod\n",
    "from sklearn.feature_extraction.text import CountVectorizer\n",
    "from keybert import KeyBERT\n",
    "\n",
    "import torch\n",
    "torch.cuda.is_available()"
   ]
  },
  {
   "cell_type": "code",
   "execution_count": 10,
   "metadata": {
    "metadata": {}
   },
   "outputs": [],
   "source": [
    "##### PREPROCESS ##########\n",
    "\n",
    "df = pd.read_excel(\"/media/cattiaux/DATA/Wassati/team_data/lp3/Umfrage ZSP 2022 - Coop Gruppe(1-3749).xlsx\", engine='openpyxl')\n",
    "# Rename columns for readability\n",
    "df = df.rename(columns={\n",
    "    'Was zeichnet nach Ihren Erfahrungen einen guten Vorgesetzten / eine gute Vorgesetzte aus und was erwarten Sie von ihm respektive ihr? (Stichworte oder Fliesstext)': 'Comments'})\n",
    "# df['year'] = pd.DatetimeIndex(df[\"Startzeit\"]).year\n",
    "# Replace 'Deutsch' with 'de'\n",
    "df['Language'] = df['Language'].replace('Deutsch', 'de')\n",
    "# Replace 'Français (France)' with 'fr'\n",
    "df['Language'] = df['Language'].replace('Français (France)', 'fr')\n",
    "# Replace 'English (United Kingdom)' with 'en'\n",
    "df['Language'] = df['Language'].replace('English (United Kingdom)‎', 'en')\n",
    "# Replace 'Italiano' with 'it'\n",
    "df['Language'] = df['Language'].replace('Italiano', 'it')\n",
    "# df.to_csv(\"/media/cattiaux/DATA/Wassati/team_data/lp3/lp3_comments.csv\", header=True, index=False)\n",
    "\n",
    "df2 = pd.read_csv(\"/media/cattiaux/DATA/Wassati/team_data/lp3/hlt_open_answer_with_language.csv\")\n",
    "df2 = df2.rename(columns={'languages':'Language', 'answer':\"Comments\"})\n",
    "\n",
    "df_merge = df.append(df2, ignore_index=True)\n",
    "\n",
    "# df_merge.to_csv(\"/media/cattiaux/DATA/Wassati/team_data/lp3/lp3_comments_merge.csv\", header=True, index=False)\n",
    "# df_merge = pd.read_csv(\"/media/cattiaux/DATA/Wassati/team_data/lp3/lp3_comments_merge.csv\")\n",
    "\n",
    "# Filter rows where the 'Language' column is in the specified values\n",
    "desired_languages = ['en', 'it', 'fr', 'de']\n",
    "df_merge = df_merge[df_merge['Language'].isin(desired_languages)]\n",
    "\n",
    "# Replace newline characters with a space\n",
    "df_merge['Comments'] = df_merge['Comments'].str.replace('\\n', '. ')\n",
    "\n",
    "df_merge = df_merge.dropna(subset=['Comments'])"
   ]
  },
  {
   "cell_type": "code",
   "execution_count": 2,
   "metadata": {
    "metadata": {}
   },
   "outputs": [],
   "source": [
    "# # Mapping of language codes to full language names\n",
    "# language_mapping = {\n",
    "#     'fr': 'French',\n",
    "#     'de': 'German',\n",
    "#     'es': 'Spanish',\n",
    "#     'it': 'Italian'\n",
    "# }\n",
    "\n",
    "# # Add the prefix based on the language value\n",
    "# df_merge['comment_to_translate'] = df_merge.apply(lambda row: f\"Translate {language_mapping.get(row['Language'], row['Language'])} to English: {row['Comments']}\" if row['Language'] != 'en' else row['Comments'], axis=1)"
   ]
  },
  {
   "cell_type": "code",
   "execution_count": 11,
   "metadata": {},
   "outputs": [],
   "source": [
    "###################### MAUVAISE TRADUCTION ###\n",
    "\n",
    "# traduire iloc 4113 : A GOOD CHIEF IS A PERSON WHO HAS A GREAT SENSE OF LISTENING AND WHO KNOWS HOW TO APPRECIATE THE NEEDS OF HIS COLLABORATORS AND RESPOND TO THEM WHILE TAKING INTO ACCOUNT THE REQUIREMENTS OF COMPANY POLICY. IT'S ALSO SOMEONE WHO KNOWS MY JOB AND NOT MY TASKS, AND WHO CAN UNDERSTAND MY EXPECTATIONS AND NEEDS FOR DEVELOPMENT. IT'S ALSO SOMEONE WHO KNOWS HOW TO CONGRATULATE AND REPRIMAND, TO SET THE RIGHT PACE AND GIVE RESPONSIBILITY TO EMPLOYEES. \n",
    "# traduire iloc 1505 : Give trust (if it is not negatively exploited); trust high performance and hand over responsibility; support the employee (stand by him/her, also towards superiors); stand by his/her word; offer support in case of problems; give feedback (especially positive but also potential for improvement) and, where appropriate, tips for improvement; be a role model with regard to work commitment, work ethic, behavior and dealing with others; show interest in the employees (e.g. ask in the EC how things are going); support further development if possible.\n",
    "# traduire iloc 2742 : Coaching, listening well, supporting and encouraging employees, networked thinking\n",
    "# traduire iloc 444 : Role model, help in Rayon, to all employees, loyal, ensure information\n",
    "# traduire iloc 4703 : A good boss is: Resilient Close to the employees Has time for his team Addresses good and bad issues directly Objective or treats all team members equally\n",
    "# traduire iloc 634 : Freedom for self-development, but also certain guard rails. Objective and critical exchange on both sides.  Clear communication, not one way today, one way tomorrow.  Just leave it simple.\n",
    "# traduire iloc 3030 : Expect him to be there when I need him.  A good boss must be correct, experienced and a leader.\n",
    "# traduire iloc 2306 : Openness and honesty in communication, support with problems before and/or with customers, support with issues related to the Head of Customer, and not always having to hear ‘yes, that’s just how it is,’ but also expressing what is expected from the front to the Head of Customer\n",
    "# traduire iloc 280 : Overall situation in view, fairness, respect, clear line, human, direct and timely conversation, if something does not go as it should, where feasible give freedom/responsibility to employees, coach in certain situations\n",
    "# traduire iloc 682 : Role model, loyal, human\n",
    "# traduire iloc 5470 : Good bosses take employees seriously and show them how. Bosses have foresight and strategic thinking and don't just dwell on the small details, but also need humility towards detail. Bosses need distance to subordinate employees without being arrogant, aloof and distant from them. Good bosses should be able to accept criticism and recognize narcissistic slights in themselves.\n",
    "# traduire iloc 2177 : A good supervisor should lead with intelligence, not with empty talk. And why give an explanation ?\n",
    "# traduire iloc 5847 : -Steers the employee in the desired direction in a way that he/she can understand -Can express him/herself clearly and comprehensibly -Does not play games with the employee -Is willing to listen and engage with the employee. -A feeling for the employees and the ability to manage them correctly and fairly is more important than a great deal of specialist knowledge. -Delivers the tasks to be performed, clearly defined and with the necessary responsibilities and competencies. Allows new or different solutions to be proposed\n",
    "# traduire iloc 5305 (typo gleih -> gleich) : that we are all treated EQUALLY by him/her ... human, fair, correct that i can talk to him/her in case of problems (no matter work or private) that he/she can listen and give information that can laugh and support who is needed that lie the whole team and not only some (good friend) is doing well at work ( we are a team) \n",
    "# traduire iloc 3002 : Recognition of performance, fair, positive\n",
    "# traduire iloc 3904 : Humanity, clear orders, helps to solve problems, good communication\n",
    "# traduire iloc 4401 : Human and professionally competent\n",
    "# traduire iloc 6280 : Balance between AUTHORITY AND COLLABORATION, PROFESSIONAL, COMMUNICATIVE, RESPECTFUL, CLEAR AND ACCURATE, CAN GIVE A GOOD SPEECH, DOWN TO EARTH, CAREFUL APPEARANCE, RELIABLE, HUMAN, RISK-READY, CONVINCING, SELF-AWARE \n",
    "# traduire iloc 1829 : A good manager is someone who is transparent, correct, exemplary, committed and a leader. (ménager au lieu de manager, de au lieu de fr)\n",
    "# traduire iloc 3306 : A good manager sets a clear course for success by adapting to the profiles of his subordinates. I expect him to give me his trust and candor when necessary. \n",
    "\n",
    "\n",
    "# interest in MAB show -> show interest in employees\n",
    "# Fach- & Sozialkompetenz -> Professional and social competence\n",
    "# Thus the leader gets the \"Sörgeli u Ängstli\" with. -> This way, the leader becomes aware of the team’s concerns and anxieties.\n",
    "# the 5s stand. -> things slide.\n",
    "# even a 5 straight -> even let things slide\n",
    "\n",
    "########################## SIGLES ###\n",
    "\n",
    "# MAs -> employees (Mitarbeiter)\n",
    "# MA -> employee (Mitarbeiter)\n",
    "# MT -> management team\n",
    "# vg -> supervisor / manager (Vorgesetzter)\n",
    "# VST -> managers /supervisors (Vorgesetzter)\n",
    "# FK -> manager (Führungskraft)\n",
    "# SBB -> State Library Berlin (Staatsbibliothek zu Berlin)\n",
    "# ggü -> towards (gegenüber)\n",
    "# AKV -> Tasks, Competencies, Responsability (Aufgaben, Kompetenzen, Verantwortung)\n",
    "# Stv -> representative (stellvertretend)\n",
    "# GFs -> managers (Geschäftsführer)\n",
    "# GF -> managers (Geschäftsführer)\n",
    "# abbot -> department (Abteilung)\n",
    "# Abt -> department (Abteilung)\n",
    "# PK Kostenrechnung -> process cost calculation (Prozesskostenrechnung)\n",
    "# SK -> expertise (Sachkompetenz)\n",
    "# AL -> head of department (Abteilungleiter) (AL/RL dans le texte)\n",
    "# RL -> Regional manager (Regionalleiter)\n",
    "# PEP -> Energy\n",
    "# AG -> employer (Arbeitgeber)\n",
    "# AN -> employee (Arbeitnehmer)\n",
    "# A + O -> Alpha and Omega\n",
    "# KVP -> Continual Improvement Process (CIP) (Kontinuierlicher Verbesserungsprozess)\n",
    "# Bzw. -> repectively / or (beziehungsweise)\n",
    "# GL/GV -> gender relations (Geschlechtverkehr)\n",
    "# FL -> branch manager (Filialleiter)\n",
    "# RVL -> sales manager (Verkaufsleiter)\n",
    "# SZB -> Biel Hospital Center (Spitalzentrum Biel)\n",
    "\n",
    "# drh -> human resources manager\n",
    "# rh -> human resources\n",
    "# HR -> human resources\n",
    "# dg -> general manager\n",
    "\n",
    "# cla -> Contributor License Agreement\n",
    "# HC -> Head Coach\n",
    "# MBO -> Management By Objectives\n",
    "# VC -> Venture Capitalist\n",
    "\n",
    "# pdv -> point of sale (point de vente / punto di vendita)\n",
    "\n",
    "####################### ERREURS DE TYPO ###\n",
    "\n",
    "# mangment -> management\n",
    "# methrises -> masters (métrise au lieu de maîtrise et donc traduit methrises)\n",
    "# mangment of equpy -> team management (managment d'équpi)\n",
    "# Vobild -> Role model / leading (Vorbild)\n",
    "# Vorbil, -> Role model, (Vorbild)\n",
    "# vorblidfunktion -> role model function\n",
    "# Nn -> doesn't (non)\n",
    "# suvisory -> sufficient\n",
    "# saoirs -> knowledge (savoirs)\n",
    "# Preceive with -> Leading by \n",
    "# iformations -> information\n",
    "# SMARTE -> SMART\n",
    "# challengen -> challenge\n",
    "# Mutivation -> motivation\n",
    "# Autenthcity -> Authenticity\n",
    "# KLARE KOMMUNIKATIN -> Clear communicator\n",
    "# mitarbiters -> employees\n",
    "# sitautions -> situations\n",
    "# esprit -> spirit (ésprit au lieu de esprit)\n",
    "# Erliche -> honest (erliche au lieu de ehrliche)\n",
    "# Ehrichness -> honesty\n",
    "# ehrich -> honest\n",
    "# bos -> boss\n",
    "# a aller -> an ally (typo allier au lieu de allié)\n",
    "# Erlichkeit -> honesty (typo ehrlichkeit)\n",
    "# Iel -> He (typo il)\n",
    "# pk -> why\n",
    "# makromanagemen -> macromanagement (typo)\n",
    "# Teli -> part (typo for Teil)\n",
    "# Fuehrundsfaehigket -> Leadership skills (Führungsfähigkeit)\n",
    "# fuehrungsbereitschaft -> willingness to lead (führungsbereitschaft)\n",
    "# delegateing -> delegating\n",
    "# metered -> measured\n",
    "# orchestieren -> orchestrating\n",
    "# yaka -> all you have to do is / it's just a matter of (il n'y a qu'à)\n",
    "# aurat -> accurate (akurat au lieu de akkurat)\n",
    "# examplearity -> examplarity\n",
    "# dialigo -> dialogue (dialogo)\n",
    "# besoi,n -> need\n",
    "# fairnaiss -> fairness\n",
    "# qqn -> someone,\n",
    "# accessibilita -> accessibility\n",
    "# deligate -> delegate\n",
    "\n",
    "#################### OTHER REPLACMENT ###\n",
    "\n",
    "# laisse faire -> laisser faire\n",
    "# laisser-faire -> laisser faire\n",
    "# laissez-faire -> laisser faire\n",
    "# selfmanagement -> self management\n",
    "# self-management -> self management\n",
    "# Mut -> Courage\n",
    "# Menschenfreund -> philanthropist / humanitarian\n",
    "# ehrlich -> honest\n",
    "# fehl -> wrong\n",
    "# CCC: Comandare, Controllare, Correggere -> CCC: Command, Control, Correct.\n",
    "# kritik -> Specialist knowledge\n",
    "# chefin -> boss\n",
    "# \"LEITET\" -> LEADS\n",
    "# \"LEITEN\" -> suffer\n",
    "# ziel -> target\n",
    "# prudentia -> prudence\n",
    "# 1x1 -> one on one\n",
    "# clairvoyance -> clear-sightedness\n",
    "# Vorbildsfunktion -> Role model function\n",
    "# merci -> thank you\n",
    "# troupes -> troops\n",
    "# leist -> performance\n",
    "# rigueur -> rigor\n",
    "# lob -> praise\n",
    "# clientele -> customers\n",
    "# Gelichbehandlungen -> treat the same\n",
    "# \"wischi\" waschi -> wishy-washy \n",
    "# agreementrity -> agreement\n",
    "# patron -> boss\n",
    "# Führungsbereitung -> leadership preparation"
   ]
  },
  {
   "cell_type": "code",
   "execution_count": 37,
   "metadata": {},
   "outputs": [
    {
     "data": {
      "text/html": [
       "<div>\n",
       "<style scoped>\n",
       "    .dataframe tbody tr th:only-of-type {\n",
       "        vertical-align: middle;\n",
       "    }\n",
       "\n",
       "    .dataframe tbody tr th {\n",
       "        vertical-align: top;\n",
       "    }\n",
       "\n",
       "    .dataframe thead th {\n",
       "        text-align: right;\n",
       "    }\n",
       "</style>\n",
       "<table border=\"1\" class=\"dataframe\">\n",
       "  <thead>\n",
       "    <tr style=\"text-align: right;\">\n",
       "      <th></th>\n",
       "      <th>ID</th>\n",
       "      <th>Startzeit</th>\n",
       "      <th>Fertigstellungszeit</th>\n",
       "      <th>E-Mail</th>\n",
       "      <th>Name</th>\n",
       "      <th>Language</th>\n",
       "      <th>Comments</th>\n",
       "      <th>is_boss</th>\n",
       "      <th>coach</th>\n",
       "      <th>comment_to_translate</th>\n",
       "      <th>translated_comments</th>\n",
       "    </tr>\n",
       "  </thead>\n",
       "  <tbody>\n",
       "    <tr>\n",
       "      <th>1152</th>\n",
       "      <td>1165.0</td>\n",
       "      <td>2021-06-08 15:01:16</td>\n",
       "      <td>2021-06-08 15:02:42</td>\n",
       "      <td>anonymous</td>\n",
       "      <td>NaN</td>\n",
       "      <td>de</td>\n",
       "      <td>Eine klare Richtlinie, Genauigkeit und fordern/ fördernDas der Vorgestzte die Vorbild Funktion lebt.</td>\n",
       "      <td>NaN</td>\n",
       "      <td>NaN</td>\n",
       "      <td>Translate German to English: Eine klare Richtlinie, Genauigkeit und fordern/ fördernDas der Vorgestzte die Vorbild Funktion lebt.</td>\n",
       "      <td>a clear guideline, accuracy and demand/promotethe model function lives up to the target.</td>\n",
       "    </tr>\n",
       "  </tbody>\n",
       "</table>\n",
       "</div>"
      ],
      "text/plain": [
       "          ID            Startzeit  Fertigstellungszeit     E-Mail  Name  \\\n",
       "1152  1165.0  2021-06-08 15:01:16  2021-06-08 15:02:42  anonymous   NaN   \n",
       "\n",
       "     Language  \\\n",
       "1152       de   \n",
       "\n",
       "                                                                                                  Comments  \\\n",
       "1152  Eine klare Richtlinie, Genauigkeit und fordern/ fördernDas der Vorgestzte die Vorbild Funktion lebt.   \n",
       "\n",
       "      is_boss coach  \\\n",
       "1152      NaN   NaN   \n",
       "\n",
       "                                                                                                                   comment_to_translate  \\\n",
       "1152  Translate German to English: Eine klare Richtlinie, Genauigkeit und fordern/ fördernDas der Vorgestzte die Vorbild Funktion lebt.   \n",
       "\n",
       "                                                                           translated_comments  \n",
       "1152  a clear guideline, accuracy and demand/promotethe model function lives up to the target.  "
      ]
     },
     "execution_count": 37,
     "metadata": {},
     "output_type": "execute_result"
    }
   ],
   "source": [
    "# Find rows that contain specific word\n",
    "pd.set_option('display.max_colwidth', None)\n",
    "df_translated[df_translated['translated_comments'].str.contains(\"promotethe\", case=False)] \n",
    "\n",
    "# df_translated.iloc[3776:3786]"
   ]
  },
  {
   "cell_type": "code",
   "execution_count": 39,
   "metadata": {},
   "outputs": [
    {
     "name": "stderr",
     "output_type": "stream",
     "text": [
      "[nltk_data] Downloading package stopwords to\n",
      "[nltk_data]     /home/cattiaux/nltk_data...\n",
      "[nltk_data]   Package stopwords is already up-to-date!\n"
     ]
    }
   ],
   "source": [
    "update_rows = {\n",
    "    4113:\"\"\"A GOOD CHIEF IS A PERSON WHO HAS A GREAT SENSE OF LISTENING AND WHO KNOWS HOW TO APPRECIATE THE NEEDS OF HIS COLLABORATORS AND RESPOND TO THEM WHILE TAKING INTO ACCOUNT THE REQUIREMENTS OF COMPANY POLICY. IT'S ALSO SOMEONE WHO KNOWS MY JOB AND NOT MY TASKS, AND WHO CAN UNDERSTAND MY EXPECTATIONS AND NEEDS FOR DEVELOPMENT. IT'S ALSO SOMEONE WHO KNOWS HOW TO CONGRATULATE AND REPRIMAND, TO SET THE RIGHT PACE AND GIVE RESPONSIBILITY TO EMPLOYEES.\"\"\",\n",
    "    1505:\"\"\"Give trust (if it is not negatively exploited); trust high performance and hand over responsibility; support the employee (stand by him/her, also towards superiors); stand by his/her word; offer support in case of problems; give feedback (especially positive but also potential for improvement) and, where appropriate, tips for improvement; be a role model with regard to work commitment, work ethic, behavior and dealing with others; show interest in the employees (e.g. ask in the EC how things are going); support further development if possible.\"\"\",\n",
    "    2742:\"\"\"Coaching, listening well, supporting and encouraging employees, networked thinking\"\"\",\n",
    "    444:\"\"\"Role model, help in Rayon, to all employees, loyal, ensure information\"\"\",\n",
    "    4703:\"\"\"A good boss is: Resilient Close to the employees Has time for his team Addresses good and bad issues directly Objective or treats all team members equally\"\"\",\n",
    "    634:\"\"\"Freedom for self-development, but also certain guard rails. Objective and critical exchange on both sides.  Clear communication, not one way today, one way tomorrow. Just leave it simple.\"\"\",\n",
    "    3030:\"\"\"Expect him to be there when I need him.  A good boss must be correct, experienced and a leader.\"\"\",\n",
    "    2306:\"\"\"Openness and honesty in communication, support with problems before and/or with customers, support with issues related to the Head of Customer, and not always having to hear \"yes, that’s just how it is\" but also expressing what is expected from the front to the Head of Customer\"\"\",\n",
    "    280:\"\"\"Overall situation in view, fairness, respect, clear line, human, direct and timely conversation, if something does not go as it should, where feasible give freedom/responsibility to employees, coach in certain situations\"\"\",\n",
    "    682:\"\"\"Role model, loyal, human\"\"\",\n",
    "    5470:\"\"\"Good bosses take employees seriously and show them how. Bosses have foresight and strategic thinking and don't just dwell on the small details, but also need humility towards detail. Bosses need distance to subordinate employees without being arrogant, aloof and distant from them. Good bosses should be able to accept criticism and recognize narcissistic slights in themselves.\"\"\",\n",
    "    2177:\"\"\"A good supervisor should lead with intelligence, not with empty talk. And why give an explanation ?\"\"\",\n",
    "    5847:\"\"\"-Steers the employee in the desired direction in a way that he/she can understand -Can express him/herself clearly and comprehensibly -Does not play games with the employee -Is willing to listen and engage with the employee. -A feeling for the employees and the ability to manage them correctly and fairly is more important than a great deal of specialist knowledge. -Delivers the tasks to be performed, clearly defined and with the necessary responsibilities and competencies. Allows new or different solutions to be proposed\"\"\",\n",
    "    5305:\"\"\"that we are all treated EQUALLY by him/her ... human, fair, correct that i can talk to him/her in case of problems (no matter work or private) that he/she can listen and give information that can laugh and support who is needed that lie the whole team and not only some (good friend) is doing well at work ( we are a team) \"\"\",\n",
    "    3002:\"\"\"Recognition of performance, fair, positive\"\"\",\n",
    "    3904:\"\"\"Humanity, clear orders, helps to solve problems, good communication\"\"\",\n",
    "    4401:\"\"\"Human and professionally competent\"\"\",\n",
    "    6280:\"\"\"Balance between AUTHORITY AND COLLABORATION, PROFESSIONAL, COMMUNICATIVE, RESPECTFUL, CLEAR AND ACCURATE, CAN GIVE A GOOD SPEECH, DOWN TO EARTH, CAREFUL APPEARANCE, RELIABLE, HUMAN, RISK-READY, CONVINCING, SELF-AWARE\"\"\",\n",
    "    1829:\"\"\"A good manager is someone who is transparent, correct, exemplary, committed and a leader.\"\"\",\n",
    "    3306:\"\"\"A good manager sets a clear course for success by adapting to the profiles of his subordinates. I expect him to give me his trust and candor when necessary.\"\"\",\n",
    "    5945:\"\"\"role model function in terms of professional competence and social skills. A boss should encourage employees\"\"\",\n",
    "    3706:\"A clear vision and exemplary behavior\",\n",
    "    5695:\"\"\"-Good supervisors fulfill their management tasks (in particular: planning, ensuring goals are achieved, having processes under \"control\", making decisions, communicating). -Their professional competence enables them to make appropriate decisions and communicate. -Their social competence enables them to understand employees as people, to respond to them and to inspire/motivate them for their tasks.\"\"\"\n",
    "    }\n",
    "\n",
    "replacements_sentence = {\n",
    "    \"interest in MAB show\" : \"show interest in employees\",\n",
    "    \"Fach- & Sozialkompetenz\" : \"Professional and social competence\",\n",
    "    \"\"\"Thus the leader gets the \"Sörgeli u Ängstli\" with.\"\"\" : \"\"\"This way, the leader becomes aware of the team’s concerns and anxieties.\"\"\",\n",
    "    \"the 5s stand.\" : \"things slide.\",\n",
    "    \"even a 5 straight\" : \"even let things slide\",\n",
    "    \"Unterstüzung anbieten\":\"offer support\"\n",
    "}\n",
    "\n",
    "replacements_sigle = {\n",
    "    \" MAs \":\" employee \",\n",
    "    \" MA \":\" employee \",\n",
    "    \" MA,\":\" employee,\",\n",
    "    \" MT \":\" management team \",\n",
    "    \" vgs \":\"manager\",\n",
    "    \" vg \":\" manager \",\n",
    "    \" vsts\":\" manager\",\n",
    "    \" VST\":\" manager\",\n",
    "    \"FK\":\"manager\",\n",
    "    \" SBB\":\" State Library Berlin\",\n",
    "    \" ggü\":\" towards\",\n",
    "    \"AKV\":\"Tasks, Competencies, Responsability\",\n",
    "    \"Stv\":\"representative\",\n",
    "    \" GFs\":\" manager\",\n",
    "    \" GF\":\" manager\",\n",
    "    \"abbot\":\"department\",\n",
    "    \" Abt\":\" department\",\n",
    "    \"PK Kostenrechnung\":\"process cost calculation\",\n",
    "    \" SK \":\" expertise \",\n",
    "    \" AL \":\" head of department \",\n",
    "    \" AL/\":\" head of department/\",\n",
    "    \"RL \":\"regional manager \",\n",
    "    \" PEP\":\" energy\",\n",
    "    \" AG \":\" employer \",\n",
    "    \" AN \":\" employee \",\n",
    "    \"A + O\":\"alpha and omega\",\n",
    "    \"KVP\":\"Continual Improvement Process (CIP)\",\n",
    "    \"Bzw.\":\"or\",\n",
    "    \"GL/GV\":\"gender relations\",\n",
    "    \" FL \":\" branch manager \",\n",
    "    \" RVL\":\" sales manager\",\n",
    "    \"SZB\":\"Biel Hospital Center\",\n",
    "    \" drh\":\" human resoures manager\",\n",
    "    \" rh\":\" human resources\",\n",
    "    \" HR\":\" human resources\",\n",
    "    \" dg\":\" general manager\",\n",
    "    \" cla \":\" Contributor License Agreement \",\n",
    "    \" HC \":\" head coach \",\n",
    "    \" pdv\":\" point of sale\",\n",
    "    \" mbo\":\" Management By Objectives\",\n",
    "    \" vc\":\" venture capitalist\"\n",
    "}\n",
    "\n",
    "replacements_typo = {\n",
    "    \"methrises\":\"masters\",\n",
    "    \"mangment of equpy\":\"team management\",\n",
    "    \"mangment\":\"management\",\n",
    "    \"Vobild\":\"role model\",\n",
    "    \"Vorbil,\":\"role model\",\n",
    "    \"vorbldfunction\":\"role model function\",\n",
    "    \"vorblidfunktion\":\"rol model function\",\n",
    "    \" Nn \":\" does not \",\n",
    "    \"suvisory\":\"sufficient\",\n",
    "    \"saoirs\":\"knowledge\",\n",
    "    \"Preceive with\":\"leading by\",\n",
    "    \"iformations\":\"information\",\n",
    "    \"SMARTE \":\"SMART \",\n",
    "    \"challengen\":\"challenge\",\n",
    "    \"Mutivation\":\"motivation\",\n",
    "    \"Autenthcity\":\"authenticity\",\n",
    "    \"KLARE KOMMUNIKATIN\":\"clear communicator\",\n",
    "    \"mitarbiters\":\"employees\",\n",
    "    \"sitautions\":\"situations\",\n",
    "    \"esprit \":\"spirit \",\n",
    "    \"Erliche \":\"honest \",\n",
    "    \"Ehrichness\":\"honesty\",\n",
    "    \"ehrich\":\"honest\",\n",
    "    \" bos \":\" boss \",\n",
    "    \"a aller\":\"an ally\",\n",
    "    \"Erlichkeit\":\"honesty\",\n",
    "    \" Iel \":\" He \",\n",
    "    \" pk \":\" why \",\n",
    "    \"makromanagemen\":\"macromanagement\",\n",
    "    \"Teli \":\"part \",\n",
    "    \"Fuehrundsfaehigket\":\"Leadership skills\",\n",
    "    \"fuehrungsbereitschaft\":\"willingness to lead\",\n",
    "    \"delegateing\":\"delegating\",\n",
    "    \"metered\":\"measured\",\n",
    "    \"orchestieren\":\"orchestrating\",\n",
    "    \"yaka\":\"it's just a matter of\",\n",
    "    \"aurat \":\"accurate \",\n",
    "    \"examplearity\":\"examplarity\",\n",
    "    \"dialigo\":\"dialogue\",\n",
    "    \"besoi,n\":\"need\",\n",
    "    \"fairnaiss\":\"fairness\",\n",
    "    \"qqn\":\"someone\",\n",
    "    \"accessibilita\":\"accessibility\",\n",
    "    \"deligate\":\"delegate\",\n",
    "    \"cheffs\":\"bosses\"\n",
    "}\n",
    "\n",
    "replacements_others = {\n",
    "    \"Mut \":\"courage \",\n",
    "    \"Menschenfreund\":\"philanthropist\",\n",
    "    \"ehrlich\":\"honest\",\n",
    "    \"fehl\":\"wrong\",\n",
    "    \"CCC: Comandare, Controllare, Correggere\":\"CCC: Command, Control, Correct\",\n",
    "    \"kritik\":\"specialist knowledge\",\n",
    "    \"chefin\":\"boss\",\n",
    "    \"LEITET\":\"leads\",\n",
    "    \"leiten\":\"suffer\",\n",
    "    \"ziel\":\"target\",\n",
    "    \"prudentia\":\"prudence\",\n",
    "    \"1x1\":\"one on one\",\n",
    "    \"clairvoyance\":\"clear-sightedness\",\n",
    "    \"Vorbildsfunktion\":\"role model function\",\n",
    "    \"merci\":\"thank you\",\n",
    "    \"leist\":\"performance\",\n",
    "    \"rigueur\":\"rigor\",\n",
    "    \"Visionär\":\"visionary\",\n",
    "    \"Zielstrebig\":\"determined\",\n",
    "    \"Offen \":\"open \",\n",
    "    \"laisser-faire\":\"laisser faire\",\n",
    "    \"laissez-faire\":\"laisser faire\",\n",
    "    \"laisse faire\":\"laisser faire\",\n",
    "    \"lob \":\"praise \",\n",
    "    \"promotethe\":\"promote the\",\n",
    "    \"clientele\":\"customer\",\n",
    "    \"Gelichbehandlungen\":\"treat the same\",\n",
    "    \"'wischi' waschi\":\"wishy washy\",\n",
    "    \"wishy-washy\":\"wishy washy\",\n",
    "    \"agreementrity\":\"agreement\",\n",
    "    \"patron\":\"boss\",\n",
    "    \"Führungsbereitung\":\"leadership preparation\",\n",
    "    \"orientedness\":\"oriented\",\n",
    "    \"openness\":\"open\",\n",
    "    \"fairness\":\"fair\",\n",
    "    \"helpiveness\":\"helpfulness\",\n",
    "    \"exemplaryness\":\"exemplary\",\n",
    "    \"exemplaryity\":\"exemplarity\",\n",
    "    \"exemplararity\":\"exemplarity\",\n",
    "    \"exemplarité\":\"exemplarity\",\n",
    "    \"value-oriented\":\"value oriented\",\n",
    "    \"Teamable\":\"team player\",\n",
    "    \"teamplayer\":\"team player\",\n",
    "    \"teamleader\":\"team leader\",\n",
    "    \"long-term\":\"long term\",\n",
    "    \"superiors\":\"superior\",\n",
    "    \"chefs\":\"chef\",\n",
    "    \"collaborators\":\"collaborator\",\n",
    "    \"ears\":\"ear\",\n",
    "    \"criticisms\":\"criticism\",\n",
    "    \"freedoms\":\"freedom\",\n",
    "    \"competences\":\"competence\",\n",
    "    \"teamness\":\"team spirit\",\n",
    "    \"loyality\":\"loyalty\",\n",
    "    \"besserwissermania\":\"know-it-all mania\",\n",
    "    \"dealings\":\"treatment\",\n",
    "    \"motivative\":\"motivate\",\n",
    "    \"leaven\":\"calm\",\n",
    "    \"sparing\":\"sparring\",\n",
    "    \"manages\":\"manage\",\n",
    "    \"bosses\":\"boss\",\n",
    "    \"supervisors\":\"supervisor\",\n",
    "    \"coaches\":\"coach\",\n",
    "    \"employees\":\"employee\",\n",
    "    \"employing\":\"employs\",\n",
    "    \"motivates\":\"motivate\",\n",
    "    \"communicates\":\"communicate\",\n",
    "    \"trusting\":\"trust\",\n",
    "    \"managers\":\"manager\",\n",
    "    \"communicators\":\"communicator\",\n",
    "    \"leads\":\"lead\",\n",
    "    \"commissions\":\"commission\",\n",
    "    \"leaders\":\"leader\",\n",
    "    \"questions\":\"question\",\n",
    "    \"colleagues\":\"colleague\",\n",
    "    \"motivating\":\"motivate\",\n",
    "    \"communications\":\"communication\",\n",
    "    \"listening\":\"listen\",\n",
    "    \"listened\":\"listen\",\n",
    "    \"partners\":\"partner\",\n",
    "    \"communicating\":\"communicate\",\n",
    "    \"meetings\":\"meeting\",\n",
    "    \"communicated\":\"communicate\",\n",
    "    \"customers\":\"customer\",\n",
    "    \"keeping\":\"keep\",\n",
    "    \"waiting\":\"wait\",\n",
    "    \"understands\":\"understand\",\n",
    "    \"answered\":\"answer\",\n",
    "    \"participates\":\"participate\",\n",
    "    \"trusts\":\"trust\",\n",
    "    \"promotes\":\"promote\",\n",
    "    \"subordinates\":\"subordinate\",\n",
    "    \"assists\":\"assist\",\n",
    "    \"listens\":\"listen\",\n",
    "    \"statements\":\"statement\",\n",
    "    \"understanding\":\"understand\"\n",
    "}\n",
    "\n",
    "ngrams_list = [\"laisser faire\", \"Anselm Grün\", \"specialist knowledge\", \"dossier knowledge\", \"force majeure\", \"thank you\", \"professional competence\", \"human resources\", \"branch manager\", \"sales manager\", \"lao tzeu\", \"management team\", \"wishy washy\", \"venture capitalist\", \"self management\", \"ear criticism\", \"supports problems\", \"decisions order\", \"lead person\",\"value oriented\", \"distributed tasks\", \"analytical mind\", \"labour market\", \"confidentiality information\", \"resetting ego\", \"team player\", \"team organization\", \"cooperative spirit\", \"team spirit\", \"trust team\", \"open ear\",\"role model\", \"make decisions\", \"high level\", \"clear rules\", \"clear vision\", \"clear line\", \"clear communication\", \"honest communication\", \"transparent communication\", \"clear goals\", \"clear orders\", \"clear guidelines\", \"clear objectives\", \"clear decisions\", \"clear instructions\", \"clear tasks\", \"clear targets\", \"social competence\", \"team collaboration\", \"team members\", \"value oriented\", \"constructive feedback\", \"open communication\", \"goes ahead\", \"stands up\", \"equal treatment\", \"long leash\", \"short leash\", \"eye level\", \"professionally competent\", \"socially competent\", \"work organization\", \"target agreement\",\"soial skills\", \"communication skills\", \"professional skills\", \"leadership skills\", \"soft skills\", \"observation skills\", \"team skills\", \"difficult situations\", \"personal development\", \"professional development\", \"career development\", \"further development\", \"keep promises\", \"respectful treatment\", \"remain calm\", \"stay calm\", \"back cover\", \"blind spot\", \"front line\", \"good example\", \"good leader\",\"good supervisor\",\"good manager\",\"good boss\", \"good superior\", \"family member\", \"sparring partner\", \"exemplary behavior\", \"answer question\", \"respect feedback\", \"management abilities\", \"employee difficulties\", \"achieving goals\", \"professional closeness\", \"leaderhip focus\", \"team leader\",\"sharing experience\", \"responsibility role\", \"treatment preferences\", \"continuous feedback\", \"understand goals\", \"protect family\", \"planning skills\", \"identify skills\", \"human example\", \"promote employee\", \"trust employee\", \"work competent\", \"support transparency\", \"fair performance\",\"technical competence\", \"clear information\",\"clear statement\", \"understand humanity\", \"new things\", \"Continual Improvement Process\", \"one on one\", \"process cost calculation\", \"Biel Hospital Center\", \"Management By Objectives\", \"point of sale\", \"strengths and weaknesses\", \"climate of trust\", \"people with disabilities\", \"long term vision\"]\n",
    "\n",
    "more_stopwords = [\"MMMM\",\"style\",\"good boss\",\"good leader\",\"good supervisor\",\"good superior\",\"good manager\",\"good coach\",\"good\",\"boss\",\"manager\",\"leader\",\"superior\",\"supervisor\",\"person\"]\n",
    "nltk.download('stopwords')\n",
    "stopwords = nltk.corpus.stopwords.words('english')\n",
    "stopwords.extend(more_stopwords)"
   ]
  },
  {
   "cell_type": "code",
   "execution_count": 40,
   "metadata": {
    "metadata": {}
   },
   "outputs": [],
   "source": [
    "df_translated = pd.read_csv(\"/media/cattiaux/DATA/Wassati/team_data/lp3/lp3_comments_merge_translated.csv\")\n",
    "\n",
    "# List of rows to be excluded\n",
    "rows_to_exclude = [2116,2466,3191,3366,3772,3779,3976,4015,4221,4237,4375,4380,4402,4571,5323,5356,5509,5511,5518,6108,6109,6110,6114,6115,6562,6614,7062]\n",
    "# Filter out the rows that contain any of the specified tests\n",
    "tests_to_exclude = '|'.join(['Test 1', 'Test 2', 'Test 3', 'Test 4'])\n",
    "df_translated = df_translated[~df_translated['translated_comments'].str.contains(tests_to_exclude, case=False, na=False)]\n",
    "\n",
    "# Selecting rows that are not in the list\n",
    "df_translated = df_translated[~df_translated.index.isin(rows_to_exclude)]\n",
    "\n",
    "# Update the \"translated_comments\" column using the dictionary\n",
    "for iloc, new_comment in update_rows.items():\n",
    "    df_translated.at[df_translated.index[iloc], 'translated_comments'] = new_comment\n",
    "\n",
    "# Replace the words in the 'translated_comments' column\n",
    "df_translated['translated_comments'] = df_translated['translated_comments'].replace(replacements_sentence, regex=True)\n",
    "dict = {k.lower(): v for k, v in replacements_sigle.items()}\n",
    "df_translated['translated_comments'] = df_translated['translated_comments'].str.lower().replace(dict, regex=True)\n",
    "dict = {k.lower(): v for k, v in replacements_typo.items()}\n",
    "df_translated['translated_comments'] = df_translated['translated_comments'].str.lower().replace(dict, regex=True)\n",
    "dict = {k.lower(): v for k, v in replacements_others.items()}\n",
    "df_translated['translated_comments'] = df_translated['translated_comments'].str.lower().replace(dict, regex=True)\n",
    "\n",
    "# df_translated.iloc[3306:3307]"
   ]
  },
  {
   "cell_type": "code",
   "execution_count": 7,
   "metadata": {},
   "outputs": [
    {
     "data": {
      "text/plain": [
       "['answer question',\n",
       " 'leader lot',\n",
       " 'dominator orchestrator',\n",
       " 'characteristics clear',\n",
       " 'model treated',\n",
       " 'supervisor treats',\n",
       " 'respect feedback',\n",
       " 'culture systems',\n",
       " 'door guaranteeing',\n",
       " 'employee difficulties',\n",
       " 'discreet trust',\n",
       " 'professional closeness',\n",
       " 'work teams',\n",
       " 'reliable persuasive',\n",
       " 'leaderhip focus',\n",
       " 'cooperation motivator',\n",
       " 'turns trust',\n",
       " 'team motivate',\n",
       " 'listen ear',\n",
       " 'sharing experience',\n",
       " 'expectations objectives',\n",
       " 'minimum technical',\n",
       " 'living feedback',\n",
       " 'agreements appointments',\n",
       " 'delegate strengthen',\n",
       " 'team fair',\n",
       " 'exemplary philanthropist',\n",
       " 'responsibility role',\n",
       " 'performing employee',\n",
       " 'clear structured',\n",
       " 'let honest',\n",
       " 'boss author',\n",
       " 'strengthen respectful',\n",
       " 'treatment preferences',\n",
       " 'protect family',\n",
       " 'new things',\n",
       " 'strategy corporate',\n",
       " 'motivate trust',\n",
       " 'continuous feedback',\n",
       " 'requirement fair',\n",
       " 'authenticity open',\n",
       " 'employee estimation',\n",
       " 'kindness respect',\n",
       " 'just lead',\n",
       " 'binding confidence',\n",
       " 'strengthen employee',\n",
       " 'understand goals',\n",
       " 'exemplary motivated',\n",
       " 'charisma continuing',\n",
       " 'employee make',\n",
       " 'kind cordial',\n",
       " 'words progressive',\n",
       " 'manager causes',\n",
       " 'employee loses',\n",
       " 'identify skills',\n",
       " 'inspiring framework',\n",
       " 'team vulnerability',\n",
       " 'organisation communication',\n",
       " 'resilience empathy',\n",
       " 'human example',\n",
       " 'prove unpopular',\n",
       " 'development potential',\n",
       " 'deal employee',\n",
       " 'loyal determined',\n",
       " 'read levites',\n",
       " 'authenticity eye',\n",
       " 'challenges collaborator',\n",
       " 'motivator responder',\n",
       " 'model teamleader',\n",
       " 'function good',\n",
       " 'objectively topics',\n",
       " 'integer reliable',\n",
       " 'formulation expectations',\n",
       " 'respectful responsive',\n",
       " 'leaderhip time',\n",
       " 'fk contributes',\n",
       " 'bringing team',\n",
       " 'external organization',\n",
       " 'concerns improvements',\n",
       " 'content technical',\n",
       " 'role sets',\n",
       " 'servant leaderhip',\n",
       " 'just manager',\n",
       " 'exemplary experiencing',\n",
       " 'distributes work',\n",
       " 'expect recognition',\n",
       " 'collaborator respond',\n",
       " 'wants employee',\n",
       " 'integrity consistency',\n",
       " 'solidarity colleague',\n",
       " 'feedback sparring',\n",
       " 'strong social',\n",
       " 'leiden good',\n",
       " 'introduces exemplary',\n",
       " 'workload scope',\n",
       " 'superior transmits',\n",
       " 'cooperation team',\n",
       " 'assess constructively',\n",
       " 'right flow',\n",
       " 'beneficial necessary',\n",
       " 'words people',\n",
       " 'attention competence',\n",
       " 'values enforces',\n",
       " 'frankness honesty',\n",
       " 'inform regularly',\n",
       " 'word weakness',\n",
       " 'good leaderhip',\n",
       " 'lob clear',\n",
       " 'shows humility',\n",
       " 'stress importance',\n",
       " 'staff work',\n",
       " 'simulated speaking',\n",
       " 'handshake good',\n",
       " 'knowledge field',\n",
       " 'gives relevant',\n",
       " 'lead experiential',\n",
       " 'accessible trust',\n",
       " 'reliability open',\n",
       " 'overriding work',\n",
       " 'line involve',\n",
       " 'human dialogue',\n",
       " 'open listen',\n",
       " 'close ma',\n",
       " 'face suppliers',\n",
       " 'objectives guidance',\n",
       " 'assertive powers',\n",
       " 'deliver ergonomically',\n",
       " 'course action',\n",
       " 'create team',\n",
       " 'business necessary',\n",
       " 'forward looking',\n",
       " 'colleges responsible',\n",
       " 'fair reliable',\n",
       " 'conflict ability',\n",
       " 'implemented leader',\n",
       " 'organisation according',\n",
       " 'clearly structured',\n",
       " 'collaborator motivator',\n",
       " 'addressee moderation',\n",
       " 'support day',\n",
       " 'helps needed',\n",
       " 'learn new',\n",
       " 'delegates efficiently',\n",
       " 'exemplary commitment',\n",
       " 'charisma listen',\n",
       " 'prioritizing transparent',\n",
       " 'resourcesd leader',\n",
       " 'defend colleague',\n",
       " 'punctuality employee',\n",
       " 'clarify profession',\n",
       " 'promote asked',\n",
       " 'people facets',\n",
       " 'mediator disputes',\n",
       " 'guidance correction',\n",
       " 'manner criticise',\n",
       " 'remove obstacles',\n",
       " 'expertise good',\n",
       " 'listens colleague',\n",
       " 'accept loved',\n",
       " 'punctuality reliability',\n",
       " 'position able',\n",
       " 'perform performance',\n",
       " 'employee remain',\n",
       " 'loyalty feel',\n",
       " 'employee master',\n",
       " 'organization emotional',\n",
       " 'encourages continues',\n",
       " 'exemplarity respect',\n",
       " 'responsible strives',\n",
       " 'award open',\n",
       " 'environment good',\n",
       " 'use people',\n",
       " 'instructions understandable',\n",
       " 'presence model',\n",
       " 'style personal',\n",
       " 'clear goals',\n",
       " 'supervisor communicatively',\n",
       " 'boss owns',\n",
       " 'confer responsibility',\n",
       " 'coach professional',\n",
       " 'open honest',\n",
       " 'listen impartial',\n",
       " 'objective sensitive',\n",
       " 'penetrate necessary',\n",
       " 'integrity passion',\n",
       " 'team representation',\n",
       " 'understand strategy',\n",
       " 'listen supporting',\n",
       " 'skills departments',\n",
       " 'manager helps',\n",
       " 'exactly superior',\n",
       " 'chief good',\n",
       " 'provides clear',\n",
       " 'respected team',\n",
       " 'transparent decision',\n",
       " 'employee culture',\n",
       " 'action team',\n",
       " 'good support',\n",
       " 'listens honest',\n",
       " 'clear mindful',\n",
       " 'decisions taken',\n",
       " 'valuable communication',\n",
       " 'communicative honest',\n",
       " 'model complies',\n",
       " 'missions steps',\n",
       " 'collaborator benevolence',\n",
       " 'team account',\n",
       " 'support assistance',\n",
       " 'engagement appreciation',\n",
       " 'honesty meaningful',\n",
       " 'benevolence support',\n",
       " 'oppressive equipped',\n",
       " 'exemplary employee',\n",
       " 'making team',\n",
       " 'reliable critical',\n",
       " 'precedes good',\n",
       " 'lead direct',\n",
       " 'promotes request',\n",
       " 'courage responsibility',\n",
       " 'assertive motivate',\n",
       " 'individually employee',\n",
       " 'empowers colleague',\n",
       " 'understanding trustworthy',\n",
       " 'comprehensively represents',\n",
       " 'leaderhip expectations',\n",
       " 'communicate decision',\n",
       " 'pragmatism characterize',\n",
       " 'know oneself',\n",
       " 'greatest capital',\n",
       " 'reachable listen',\n",
       " 'making communicative',\n",
       " 'model packer',\n",
       " 'afraid conflicts',\n",
       " 'path achieving',\n",
       " 'fair straightforwardness',\n",
       " 'says strengthens',\n",
       " 'honest informs',\n",
       " 'communicate honestly',\n",
       " 'garden flexible',\n",
       " 'environment carrying',\n",
       " 'eye view',\n",
       " 'healthy working',\n",
       " 'collaboration culture',\n",
       " 'decisions implementing',\n",
       " 'listen gives',\n",
       " 'listen reasoning',\n",
       " 'honesty communication',\n",
       " 'extraordinary missions',\n",
       " 'authentic promotes',\n",
       " 'gives subordinates',\n",
       " 'competent appearance',\n",
       " 'little space',\n",
       " 'rely trust',\n",
       " 'worker work',\n",
       " 'rope common',\n",
       " 'assistance question',\n",
       " 'meeting challenges',\n",
       " 'team manage',\n",
       " 'vision employee',\n",
       " 'helping leaderhip',\n",
       " 'listen determined',\n",
       " 'function justice',\n",
       " 'unit positive',\n",
       " 'technical human',\n",
       " 'promotion honesty',\n",
       " 'unit motivate',\n",
       " 'employee narcissist',\n",
       " 'structures commitment',\n",
       " 'achieve ambitious',\n",
       " 'deadlines communication',\n",
       " 'demanded mentor',\n",
       " 'work time',\n",
       " 'numbers statistics',\n",
       " 'important attributes',\n",
       " 'defining goals',\n",
       " 'promoting employee',\n",
       " 'knows problems',\n",
       " 'promoting fingering',\n",
       " 'case help',\n",
       " 'demands listen',\n",
       " 'open personality',\n",
       " 'enjoy working',\n",
       " 'culture unity',\n",
       " 'vision role',\n",
       " 'personality target',\n",
       " 'expectations boss',\n",
       " 'boss respect',\n",
       " 'just appreciative',\n",
       " 'feedback goals',\n",
       " 'lack skills',\n",
       " 'sustainable leaderhip',\n",
       " 'perceives works',\n",
       " 'fair social',\n",
       " 'employee influences',\n",
       " 'listen honest',\n",
       " 'negotiations overview',\n",
       " 'characteristics sense',\n",
       " 'role modeling',\n",
       " 'meeting communicate',\n",
       " 'exemplarity work',\n",
       " 'important supporting',\n",
       " 'inspires role',\n",
       " 'backing correct',\n",
       " 'decisions listen',\n",
       " 'communicate guiding',\n",
       " 'positions trustful',\n",
       " 'respect innovative',\n",
       " 'processes enterprise',\n",
       " 'attitude employee',\n",
       " 'binding honest',\n",
       " 'conveyor requesting',\n",
       " 'trust lead',\n",
       " 'word stringent',\n",
       " 'team topics',\n",
       " 'problem boss',\n",
       " 'delegate explain',\n",
       " 'delegates responsibility',\n",
       " 'justify understandable',\n",
       " 'dutiful competent',\n",
       " 'support important',\n",
       " 'professionalism equality',\n",
       " 'presence strategic',\n",
       " 'gives advice',\n",
       " 'competence according',\n",
       " 'behaviour attitude',\n",
       " 'cohesion employee',\n",
       " 'consistent good',\n",
       " 'level collaborator',\n",
       " 'demands ma',\n",
       " 'listens knowing',\n",
       " 'commitment vision',\n",
       " 'employee asks',\n",
       " 'leader coach',\n",
       " 'personal test',\n",
       " 'objective boss',\n",
       " 'implementation good',\n",
       " 'chef appreciative',\n",
       " 'exchange professional',\n",
       " 'really lives',\n",
       " 'culture works',\n",
       " 'boss following',\n",
       " 'statistics shows',\n",
       " 'communication promotes',\n",
       " 'provide subordinate',\n",
       " 'bid function',\n",
       " 'presence surface',\n",
       " 'role values',\n",
       " 'shows solution',\n",
       " 'support inform',\n",
       " 'personality technical',\n",
       " 'work understandable',\n",
       " 'takes action',\n",
       " 'clearly listen',\n",
       " 'independently boss',\n",
       " 'evening comes',\n",
       " 'boss empathetic',\n",
       " 'time respectful',\n",
       " 'experiences tips',\n",
       " 'sharing communication',\n",
       " 'franchise admit',\n",
       " 'collaborator empowers',\n",
       " 'defining framework',\n",
       " 'actively precedes',\n",
       " 'measures able',\n",
       " 'objective empathy',\n",
       " 'acts exemplary',\n",
       " 'boss behaves',\n",
       " 'lead goals',\n",
       " 'humanity expectations',\n",
       " 'difficult situations',\n",
       " 'handling mas',\n",
       " 'strengths limitations',\n",
       " 'encouraging change',\n",
       " 'specific corporate',\n",
       " 'honest consistent',\n",
       " 'respects treated',\n",
       " 'skill knowledge',\n",
       " 'supervisor improves',\n",
       " 'chief role',\n",
       " 'success foreground',\n",
       " 'accompanys employee',\n",
       " 'hearing assistance',\n",
       " 'demonstrate values',\n",
       " 'competent short',\n",
       " 'accepting opinions',\n",
       " 'kindness helpful',\n",
       " 'flexible manner',\n",
       " 'good collaboration',\n",
       " 'subordinates participate',\n",
       " 'explanations timely',\n",
       " 'listen available',\n",
       " 'prioritization capacity',\n",
       " 'superior believes',\n",
       " 'head level',\n",
       " 'respect decency',\n",
       " '10 year',\n",
       " 'function fair',\n",
       " 'model integrity',\n",
       " 'business goals',\n",
       " 'targets model',\n",
       " 'people delegate',\n",
       " 'accurate inspiring',\n",
       " 'self responsible',\n",
       " 'employee impartiality',\n",
       " 'binding reliable',\n",
       " 'leaderhip expertise',\n",
       " 'employee innovative',\n",
       " 'pleasure collaborating',\n",
       " 'design space',\n",
       " 'explanations given',\n",
       " 'reuniter needed',\n",
       " 'consistent calm',\n",
       " 'looking orientation',\n",
       " 'ideas motivation',\n",
       " 'player looks',\n",
       " 'motivate organizing',\n",
       " 'performance pays',\n",
       " 'person available',\n",
       " 'line fair',\n",
       " 'person promote',\n",
       " 'strategic vision',\n",
       " 'coherent holds',\n",
       " 'employee shares',\n",
       " 'consistently listen',\n",
       " 'response implying',\n",
       " 'appreciation form',\n",
       " 'knows listen',\n",
       " 'bring ideas',\n",
       " 'person behavior',\n",
       " 'supporting feedback',\n",
       " 'reliability development',\n",
       " 'game confidence',\n",
       " 'values value',\n",
       " 'expect identify',\n",
       " 'patients donors',\n",
       " 'know rely',\n",
       " 'employee ego',\n",
       " 'fair appreciation',\n",
       " 'honesty vision',\n",
       " 'maintain collegial',\n",
       " 'direct conversation',\n",
       " 'listens motivate',\n",
       " 'confidence expect',\n",
       " 'compassion motivate',\n",
       " 'adjustment gratification',\n",
       " 'visionary dynamic',\n",
       " 'competence solution',\n",
       " 'social knowledge',\n",
       " 'internalizes leaderhip',\n",
       " 'development strategic',\n",
       " 'giving constructive',\n",
       " 'integrity self',\n",
       " 'competence fk',\n",
       " 'violent communication',\n",
       " 'decisions subordinates',\n",
       " 'healthy dynamic',\n",
       " 'approach exemplary',\n",
       " 'inspiring influential',\n",
       " 'respect cold',\n",
       " 'moving accompanying',\n",
       " 'captivate motivate',\n",
       " 'respect loyalty',\n",
       " 'advice action',\n",
       " 'comes earning',\n",
       " 'praise open',\n",
       " 'behave authentically',\n",
       " 'development team',\n",
       " 'hiding critical',\n",
       " 'assertive empathetic',\n",
       " 'professional support',\n",
       " 'coach controller',\n",
       " 'motivate joy',\n",
       " 'box orchestrates',\n",
       " 'promotes involves',\n",
       " 'information important',\n",
       " 'morning greetings',\n",
       " 'predictable supportive',\n",
       " 'consistent action',\n",
       " 'clear binding',\n",
       " 'open requests',\n",
       " 'job supports',\n",
       " 'ear influences',\n",
       " 'works shop',\n",
       " 'consistent confidential',\n",
       " 'orders verification',\n",
       " 'motivate precede',\n",
       " 'work promotes',\n",
       " 'knowledge humans',\n",
       " 'command judgment',\n",
       " 'level democratic',\n",
       " 'boss include',\n",
       " 'helpful listen',\n",
       " 'right direction',\n",
       " 'competence work',\n",
       " 'recognizes problems',\n",
       " 'respectful association',\n",
       " 'know working',\n",
       " 'closeness trust',\n",
       " 'unpack delivery',\n",
       " 'leader bring',\n",
       " 'transparency consistency',\n",
       " 'communication supportive',\n",
       " 'equity establish',\n",
       " 'team works',\n",
       " 'behaviour confidentiality',\n",
       " 'daily possible',\n",
       " 'employee exchange',\n",
       " 'empathy implementation',\n",
       " 'honest relationship',\n",
       " 'respect confident',\n",
       " 'foresight step',\n",
       " 'honesty model',\n",
       " 'helpful motivate',\n",
       " 'loyal behaves',\n",
       " 'create good',\n",
       " 'ensure risks',\n",
       " 'promoting professional',\n",
       " 'improve best',\n",
       " 'function lead',\n",
       " 'demands lives',\n",
       " 'positive appearance',\n",
       " 'confidence liability',\n",
       " 'weaknesses team',\n",
       " 'humanity goal',\n",
       " 'ear leaves',\n",
       " 'locomotive takes',\n",
       " 'basic attitude',\n",
       " 'members leaderhip',\n",
       " 'tasks deadlines',\n",
       " 'leaderhip characteristics',\n",
       " 'loyalty consistency',\n",
       " 'ear target',\n",
       " 'organisational present',\n",
       " 'intelligence empathy',\n",
       " 'tolerant lets',\n",
       " 'praise deficit',\n",
       " 'art difficult',\n",
       " 'motivate understand',\n",
       " 'interrogated existing',\n",
       " 'clear adapted',\n",
       " 'boss human',\n",
       " 'good organized',\n",
       " 'honesty helpful',\n",
       " 'competet professional',\n",
       " 'taken honestly',\n",
       " 'group subordinates',\n",
       " 'problem solving',\n",
       " 'directity standing',\n",
       " 'understand listen',\n",
       " 'respect numbers',\n",
       " 'accepts concerns',\n",
       " 'treatment respecting',\n",
       " 'work promoting',\n",
       " 'feel commitment',\n",
       " 'constructive solutions',\n",
       " 'necessary skills',\n",
       " 'clear objective',\n",
       " 'understanding presence',\n",
       " 'motivator specific',\n",
       " 'understanding trust',\n",
       " 'deliver results',\n",
       " 'leaderhip ability',\n",
       " 'coordination team',\n",
       " 'lead discuss',\n",
       " 'provide support',\n",
       " 'loyal solution',\n",
       " 'loyal honesty',\n",
       " 'meaningful communication',\n",
       " 'listen encourage',\n",
       " 'exemplarity listen',\n",
       " 'ideally procedure',\n",
       " 'kind fair',\n",
       " 'emotional leaderhip',\n",
       " 'humanity stressful',\n",
       " 'transmit trust',\n",
       " 'ability play',\n",
       " 'consistent agreed',\n",
       " 'employee arrogant',\n",
       " 'leader joy',\n",
       " 'coordinate ideas',\n",
       " 'training leaderhip',\n",
       " 'achieve objectives',\n",
       " 'mistakes motivate',\n",
       " 'department fairly',\n",
       " 'joins employee',\n",
       " 'appreciation boss',\n",
       " 'imagined lead',\n",
       " 'person eye',\n",
       " 'straightforwardness friendliness',\n",
       " 'necessary making',\n",
       " 'transparent decisions',\n",
       " 'sufficient trust',\n",
       " 'conversations eye',\n",
       " 'perspective experience',\n",
       " 'unapproachable distribute',\n",
       " 'supportive demanding',\n",
       " 'word management',\n",
       " 'differences directions',\n",
       " 'fair consistent',\n",
       " 'respect encourages',\n",
       " 'subordinates trust',\n",
       " 'recognition success',\n",
       " 'supportive employee',\n",
       " 'wine drunk',\n",
       " 'respects trust',\n",
       " 'autonomy respond',\n",
       " 'distracted political',\n",
       " 'adherence deliverables',\n",
       " 'teamwork honesty',\n",
       " 'goals congratulates',\n",
       " 'respectful good',\n",
       " 'teach possible',\n",
       " 'defined expectations',\n",
       " 'respect teamwork',\n",
       " 'transparently sparring',\n",
       " 'making capacity',\n",
       " 'shared visions',\n",
       " 'satisfaction client',\n",
       " 'oriented trust',\n",
       " 'work organization',\n",
       " 'communication constant',\n",
       " 'specialist field',\n",
       " 'goals provides',\n",
       " 'space development',\n",
       " 'model communication',\n",
       " 'professional human',\n",
       " 'appreciation annual',\n",
       " 'correct manners',\n",
       " 'task assigned',\n",
       " 'slide good',\n",
       " 'leader expect',\n",
       " 'passion work',\n",
       " 'effective management',\n",
       " 'trust overseeing',\n",
       " 'trust secrecy',\n",
       " 'planning skills',\n",
       " 'inspire trust',\n",
       " 'constant speak',\n",
       " 'company strengths',\n",
       " 'perceive employee',\n",
       " 'supervises team',\n",
       " 'various dynamics',\n",
       " 'demanding conveying',\n",
       " 'shows results',\n",
       " 'colleague honest',\n",
       " 'stand people',\n",
       " 'competence political',\n",
       " 'guardrails leaves',\n",
       " 'player soloist',\n",
       " 'foreign word',\n",
       " 'communication know',\n",
       " 'guidelines consistent',\n",
       " 'technical skills',\n",
       " 'discuss supporting',\n",
       " 'team participate',\n",
       " 'methods courageous',\n",
       " 'persuasion orders',\n",
       " 'teams value',\n",
       " 'success motivate',\n",
       " 'good conversations',\n",
       " 'qualities empathy',\n",
       " 'push leaderhip',\n",
       " 'leader dynamic',\n",
       " 'hierarchical official',\n",
       " 'open points',\n",
       " 'humanity honesty',\n",
       " 'established team',\n",
       " 'cooperation appreciation',\n",
       " 'space unfold',\n",
       " 'vg clear',\n",
       " 'structure humanity',\n",
       " 'support collaborator',\n",
       " 'listen customer',\n",
       " 'friendliness employee',\n",
       " 'defined person',\n",
       " 'function purposeful',\n",
       " 'able adapt',\n",
       " 'clean communication',\n",
       " 'face employee',\n",
       " 'robot human',\n",
       " 'resilience respect',\n",
       " 'regional manager',\n",
       " 'honest reachable',\n",
       " 'open suggestions',\n",
       " 'loyalty trust',\n",
       " 'hear support',\n",
       " 'diplomacy structure',\n",
       " 'objective fair',\n",
       " 'confidence humor',\n",
       " 'honesty allowing',\n",
       " 'situations knowledge',\n",
       " 'achieve goal',\n",
       " 'criticism ability',\n",
       " 'empathy capable',\n",
       " 'employee freiräume',\n",
       " 'keeps ma',\n",
       " 'working methods',\n",
       " 'training situations',\n",
       " 'success goals',\n",
       " 'employee leaderhip',\n",
       " 'implementation sparring',\n",
       " 'expertise positive',\n",
       " 'visionary targetstrebig',\n",
       " 'regulations appreciative',\n",
       " 'commitment diligence',\n",
       " 'stand mistakes',\n",
       " 'lead use',\n",
       " 'workers overburdened',\n",
       " 'motivate supported',\n",
       " 'chief make',\n",
       " 'forwards important',\n",
       " 'inform employee',\n",
       " 'know priority',\n",
       " 'trust dynamic',\n",
       " 'leader respect',\n",
       " 'responsibilities authortisation',\n",
       " 'debt assignments',\n",
       " 'human model',\n",
       " 'adjust leaderhip',\n",
       " 'flexibility humor',\n",
       " 'social intelligence',\n",
       " 'honesty expect',\n",
       " 'dynamism trust',\n",
       " 'mistakes expect',\n",
       " 'coop leaderhip',\n",
       " 'listens trust',\n",
       " 'employee consciously',\n",
       " 'lead develop',\n",
       " 'achievable listen',\n",
       " 'requirements understandable',\n",
       " 'know responsibilities',\n",
       " 'socially professionally',\n",
       " 'coach distinguished',\n",
       " 'defines goals',\n",
       " 'activities qualified',\n",
       " 'menschlic fehr',\n",
       " 'progress professionally',\n",
       " 'direct communication',\n",
       " 'distance professionally',\n",
       " 'klein need',\n",
       " 'regular feedback',\n",
       " 'respect staff',\n",
       " 'words projects',\n",
       " 'empathic goal',\n",
       " 'addresses conflicts',\n",
       " 'initiative visibility',\n",
       " 'determining competent',\n",
       " 'respect honest',\n",
       " 'expect trust',\n",
       " 'duty conscious',\n",
       " 'transparent helpful',\n",
       " 'clearly communicate',\n",
       " 'respectful competent',\n",
       " 'integrity ambition',\n",
       " 'individual arouse',\n",
       " 'expect grateful',\n",
       " 'honest leaderhip',\n",
       " 'know exactly',\n",
       " 'appreciation extraordinary',\n",
       " 'responsible social',\n",
       " 'listens collaborator',\n",
       " 'individual visionary',\n",
       " 'appreciation presence',\n",
       " 'values passion',\n",
       " 'leadhip coaching',\n",
       " 'allowing innovations',\n",
       " 'sale different',\n",
       " 'clear communicate',\n",
       " 'feedback clear',\n",
       " 'employee causes',\n",
       " 'knowledge treats',\n",
       " 'situations calm',\n",
       " 'equity support',\n",
       " 'employee inspiring',\n",
       " 'leaderhip employee',\n",
       " 'competent responsibilities',\n",
       " 'making processes',\n",
       " 'lead keeps',\n",
       " 'act proactively',\n",
       " 'appreciation motivation',\n",
       " 'team follow',\n",
       " 'ability project',\n",
       " 'commitment adherence',\n",
       " 'honest authentic',\n",
       " 'leader exemplary',\n",
       " 'enrourage team',\n",
       " 'company communicate',\n",
       " 'promotes ma',\n",
       " 'respectful interaction',\n",
       " 'walking orientation',\n",
       " 'achievable contact',\n",
       " 'field good',\n",
       " 'intellectual performance',\n",
       " 'leader ensure',\n",
       " 'demelte true',\n",
       " 'people need',\n",
       " 'register sparring',\n",
       " 'conveying feedback',\n",
       " 'ready use',\n",
       " 'different stakeholders',\n",
       " 'backs free',\n",
       " 'employee appreciation',\n",
       " 'respect charisma',\n",
       " 'approach role',\n",
       " 'constructive direct',\n",
       " 'mix praise',\n",
       " 'restrictions trust',\n",
       " 'support responsibility',\n",
       " 'approach honest',\n",
       " 'environment personality',\n",
       " 'make respect',\n",
       " 'supervisor exemplify',\n",
       " 'customer oriented',\n",
       " 'expect competent',\n",
       " 'backup team',\n",
       " 'regular conversations',\n",
       " 'responsible express',\n",
       " 'protect subordinate',\n",
       " 'decisions implemented',\n",
       " 'perform function',\n",
       " 'competent putting',\n",
       " 'cap précis',\n",
       " 'feedback empathy',\n",
       " 'hands responsibility',\n",
       " 'takes problem',\n",
       " 'self wart',\n",
       " 'connects employee',\n",
       " 'collaborator listens',\n",
       " 'ability tolerate',\n",
       " 'supervisor listen',\n",
       " 'situationally humanity',\n",
       " 'conveying trust',\n",
       " 'integrity fair',\n",
       " 'inspire people',\n",
       " 'strengthening demanding',\n",
       " 'technical field',\n",
       " 'help treat',\n",
       " 'supervisor competent',\n",
       " 'boss characteristics',\n",
       " 'change communication',\n",
       " 'cooperative leaderhip',\n",
       " 'footing listen',\n",
       " 'responsibility terms',\n",
       " 'various levels',\n",
       " 'empathic employee',\n",
       " 'relaxed climate',\n",
       " 'thoughtful choices',\n",
       " 'justice entrepreneurial',\n",
       " 'guide troops',\n",
       " 'expect direct',\n",
       " 'tasks equitably',\n",
       " 'collaborator solutions',\n",
       " 'mobile friendly',\n",
       " 'subordinates foremost',\n",
       " 'kind expectation',\n",
       " 'fair honest',\n",
       " 'fair cooperation',\n",
       " 'helpfulness reliability',\n",
       " 'clearly tansparent',\n",
       " 'employee authenticity',\n",
       " 'cooperation employee',\n",
       " 'company long',\n",
       " 'fair challange',\n",
       " 'commitment team',\n",
       " 'just coach',\n",
       " 'technical competence',\n",
       " 'humor simply',\n",
       " 'wishes suggestions',\n",
       " 'collegiality humanity',\n",
       " 'leader persons',\n",
       " 'link requirements',\n",
       " 'helpfulness humanity',\n",
       " 'balance demand',\n",
       " 'honesty empathy',\n",
       " 'supporting promoting',\n",
       " 'quick competent',\n",
       " 'coaching plays',\n",
       " 'inspiration motivation',\n",
       " 'written values',\n",
       " 'honest timely',\n",
       " 'team daily',\n",
       " 'leader speaks',\n",
       " 'entity effective',\n",
       " 'leader techniques',\n",
       " 'drive team',\n",
       " 'values refer',\n",
       " 'requests colleague',\n",
       " 'shall goal',\n",
       " 'information represent',\n",
       " 'team promotes',\n",
       " 'promotes self',\n",
       " 'respect organization',\n",
       " 'ear time',\n",
       " 'autonomous coachs',\n",
       " 'treatment model',\n",
       " 'store floor',\n",
       " 'important regularly',\n",
       " 'strengthens personality',\n",
       " 'dynamic future',\n",
       " 'expects employee',\n",
       " 'structured organization',\n",
       " 'manager transparent',\n",
       " 'promotes personal',\n",
       " 'gives respect',\n",
       " 'grow support',\n",
       " 'freedom supports',\n",
       " 'boss body',\n",
       " 'critical emotionally',\n",
       " 'gives functional',\n",
       " 'backwardness honesty',\n",
       " 'supportive right',\n",
       " 'situation requires',\n",
       " 'fachlich kopetent',\n",
       " 'realist force',\n",
       " 'example required',\n",
       " 'committed needs',\n",
       " 'days easter',\n",
       " 'tasks knowledge',\n",
       " 'employee delegate',\n",
       " 'thankfulness appreciation',\n",
       " 'fair ma',\n",
       " 'statement balance',\n",
       " 'problem lies',\n",
       " 'founded decisions',\n",
       " 'independently challenges',\n",
       " 'employee consistency',\n",
       " 'involvement sense',\n",
       " 'roles avoid',\n",
       " 'vision exemplary',\n",
       " 'knowledge desirable',\n",
       " 'responsibility justify',\n",
       " 'leaves space',\n",
       " 'team ability',\n",
       " 'transverse thinker',\n",
       " 'honesty critical',\n",
       " 'respond room',\n",
       " 'confidence space',\n",
       " 'responsible dynamic',\n",
       " 'limits objectives',\n",
       " 'person masters',\n",
       " 'inspire promote',\n",
       " 'able apologise',\n",
       " 'gives clear',\n",
       " 'events business',\n",
       " 'congratulate inspires',\n",
       " 'job descriptions',\n",
       " 'promote self',\n",
       " 'accompany encourage',\n",
       " 'hierarchy low',\n",
       " 'managing materials',\n",
       " 'funding understanding',\n",
       " 'follow collaborator',\n",
       " 'fair competent',\n",
       " 'listen opening',\n",
       " 'structured open',\n",
       " 'work trust',\n",
       " 'love people',\n",
       " 'favourable trust',\n",
       " 'hollow according',\n",
       " 'philosophy motivate',\n",
       " 'benevolence decision',\n",
       " 'important communicate',\n",
       " 'consistent fair',\n",
       " 'sets goals',\n",
       " 'manager culture',\n",
       " 'empathy care',\n",
       " 'consistent listed',\n",
       " 'meets needs',\n",
       " 'directions work',\n",
       " 'people skills',\n",
       " 'respect acceptance',\n",
       " 'aware employee',\n",
       " 'person acceptable',\n",
       " 'humanity understanding',\n",
       " 'leave room',\n",
       " 'adapts leader',\n",
       " 'company guidelines',\n",
       " 'player empathy',\n",
       " 'partner value',\n",
       " 'physical behavior',\n",
       " 'commission necessary',\n",
       " 'boss selects',\n",
       " 'personnel financial',\n",
       " 'listen human',\n",
       " 'clear listen',\n",
       " 'build organisations',\n",
       " 'targets understanding',\n",
       " 'situations denies',\n",
       " 'levels competent',\n",
       " 'predefined frame',\n",
       " 'professionalism character',\n",
       " 'responding needs',\n",
       " 'honest promotes',\n",
       " 'informative honest',\n",
       " 'characteristics trustworthy',\n",
       " 'available clear',\n",
       " 'expertise area',\n",
       " 'good proponent',\n",
       " 'objectives regular',\n",
       " 'instead words',\n",
       " ...]"
      ]
     },
     "execution_count": 7,
     "metadata": {},
     "output_type": "execute_result"
    }
   ],
   "source": [
    "########## CHECK KEYWORDS WITH KEYERT ################\n",
    "\n",
    "model_name = \"all-MiniLM-L6-v2\"\n",
    "\n",
    "# Initialize KeyBERT with the specified model\n",
    "kw_model = KeyBERT(model_name)\n",
    "\n",
    "# Extract the top n unigrams for each document\n",
    "df_translated['top_unigrams'] = df_translated['translated_comments'].apply(\n",
    "    lambda doc: kw_model.extract_keywords(doc, keyphrase_ngram_range=(2, 2), stop_words='english', \n",
    "                                          use_mmr=True, top_n=4)\n",
    ")\n",
    "\n",
    "# To get a list of unique unigrams across all documents\n",
    "unique_unigrams = set()\n",
    "df_translated['top_unigrams'].apply(lambda keywords: unique_unigrams.update([word for word, _ in keywords]))\n",
    "\n",
    "# Convert the set to a list\n",
    "vocabulary_list = list(unique_unigrams)\n",
    "vocabulary_list"
   ]
  },
  {
   "cell_type": "code",
   "execution_count": 33,
   "metadata": {},
   "outputs": [],
   "source": [
    "from collections import Counter\n",
    "from nltk.util import ngrams\n",
    "\n",
    "##### CHECK LIST BEST NGRAMS ################\n",
    "\n",
    "# Function to generate n-grams from a list of tokens\n",
    "def generate_ngrams(tokens, n):\n",
    "    return list(ngrams(tokens, n))\n",
    "\n",
    "# Choose the value of n for n-grams (e.g., 2 for bigrams, 3 for trigrams, etc.)\n",
    "n = 2\n",
    "\n",
    "# Generate n-grams for each row in the DataFrame\n",
    "df_translated['ngrams'] = df_translated['translated_comments'].apply(lambda x: generate_ngrams(x.split(), n))\n",
    "\n",
    "# Flatten the list of n-grams and count occurrences\n",
    "ngram_counts = Counter([ngram for sublist in df_translated['ngrams'] for ngram in sublist])\n",
    "\n",
    "# Create a DataFrame with n-grams and their frequencies\n",
    "ngram_df = pd.DataFrame(ngram_counts.items(), columns=['Ngram', 'Frequency']).sort_values(by='Frequency', ascending=False)\n",
    "# ngram_df.iloc[0:50]\n",
    "\n",
    "# Function to check if the specified word is in the n-gram tuple\n",
    "def contains_word(ngram_tuple, word, position=None):\n",
    "    # Convert the tuple to lowercase to perform case-insensitive comparison\n",
    "    ngram_tuple_lower = tuple(map(str.lower, ngram_tuple))\n",
    "    word_lower = word.lower()\n",
    "    # If position is specified, check the specific index\n",
    "    if position is not None:\n",
    "        return ngram_tuple_lower[position] == word_lower if position < len(ngram_tuple_lower) else False\n",
    "    # If position is not specified, check if the word is anywhere in the tuple\n",
    "    return word_lower in ngram_tuple_lower\n",
    "\n",
    "# ngram_df[ngram_df['Ngram'].apply(lambda x: contains_word(x, \"team\"))][:50]\n",
    "\n",
    "# back,\n"
   ]
  },
  {
   "cell_type": "code",
   "execution_count": 30,
   "metadata": {},
   "outputs": [
    {
     "data": {
      "text/plain": [
       "19852"
      ]
     },
     "execution_count": 30,
     "metadata": {},
     "output_type": "execute_result"
    }
   ],
   "source": [
    "from vocabulary.vocabulary import VocabularyCreator\n",
    "\n",
    "df_translated = df_translated.rename(columns={\n",
    "    'translated_comments': 'processed_data'})\n",
    "\n",
    "model_name = \"all-MiniLM-L6-v2\"\n",
    "\n",
    "keybert_kwargs={\n",
    "    \"top_n\": 5,\n",
    "    \"use_mmr\": True,\n",
    "    \"stop_words\": \"english\",\n",
    "    \"keyphrase_ngram_range\": (1, 2),\n",
    "    \"nr_candidates\": 12\n",
    "}\n",
    "\n",
    "vocabulary_creator = VocabularyCreator(model_name,ngrams_list,**keybert_kwargs)\n",
    "vocabulary_list = vocabulary_creator.keybert_vocabulary(df_translated)\n",
    "len(vocabulary_list)\n",
    "# vocabulary_list"
   ]
  },
  {
   "cell_type": "code",
   "execution_count": 54,
   "metadata": {},
   "outputs": [
    {
     "name": "stderr",
     "output_type": "stream",
     "text": [
      "/home/cattiaux/anaconda3/envs/wassati/lib/python3.9/site-packages/transformers/models/marian/tokenization_marian.py:194: UserWarning: Recommended: pip install sacremoses.\n",
      "  warnings.warn(\"Recommended: pip install sacremoses.\")\n"
     ]
    }
   ],
   "source": [
    "######### MODULE TRANSLATE ###########\n",
    "\n",
    "# Use a pipeline as a high-level helper\n",
    "from transformers import pipeline\n",
    "\n",
    "# Set the device to GPU if available, otherwise use CPU\n",
    "# device = torch.device(\"cuda\" if torch.cuda.is_available() else \"cpu\")\n",
    "\n",
    "# Create translation pipelines for each language pair\n",
    "german_to_english = pipeline(\"translation\", model=\"Helsinki-NLP/opus-mt-de-en\", max_length=1350)#, device=device)\n",
    "french_to_english = pipeline(\"translation\", model=\"Helsinki-NLP/opus-mt-fr-en\", max_length=1350)#, device=device)\n",
    "italian_to_english = pipeline(\"translation\", model=\"Helsinki-NLP/opus-mt-it-en\", max_length=1350)#, device=device)"
   ]
  },
  {
   "cell_type": "code",
   "execution_count": 131,
   "metadata": {},
   "outputs": [],
   "source": [
    "######### MODULE TRANSLATE ###########\n",
    "\n",
    "########## TEST traduction AVEC mbart MODEL ###########\n",
    "\n",
    "# from transformers import AutoTokenizer, AutoModelForSeq2SeqLM\n",
    "\n",
    "# tokenizer = AutoTokenizer.from_pretrained(\"facebook/mbart-large-50-many-to-many-mmt\")\n",
    "# model = AutoModelForSeq2SeqLM.from_pretrained(\"facebook/mbart-large-50-many-to-many-mmt\")\n",
    "\n",
    "# # Define the manual mapping of language codes\n",
    "# language_mapping = {\n",
    "#     \"fr\": \"fr_XX\",  # French\n",
    "#     \"de\": \"de_DE\",  # German\n",
    "#     \"it\": \"it_IT\",  # Italian\n",
    "#     # Add more mappings as needed\n",
    "# }\n",
    "\n",
    "# def translate_comment(comment, language_code):\n",
    "#     if language_code == \"en\":\n",
    "#         # No need to translate English comments\n",
    "#         return comment\n",
    "#     else:\n",
    "#         src_lang = language_mapping.get(language_code, None)\n",
    "#         if src_lang is None:\n",
    "#             raise ValueError(f\"Unsupported language code: {language_code}\")\n",
    "        \n",
    "#         tgt_lang = \"en_XX\"\n",
    "#         encoded_comment = tokenizer(comment, return_tensors=\"pt\")\n",
    "#         generated_tokens = model.generate(\n",
    "#             **encoded_comment,\n",
    "#             forced_bos_token_id=tokenizer.lang_code_to_id[tgt_lang]\n",
    "#         )\n",
    "#         translated_comment = tokenizer.batch_decode(generated_tokens, skip_special_tokens=True)[0]\n",
    "#         return translated_comment\n",
    "    \n",
    "# # df_merge[\"Translated_Comments\"] = df_merge.apply(lambda row: translate_comment(row[\"Comments\"], row[\"Language\"]), axis=1)\n",
    "# df_merge.iloc[1100:1150].apply(lambda row: translate_comment(row[\"Comments\"], row[\"Language\"]), axis=1)\n"
   ]
  },
  {
   "cell_type": "code",
   "execution_count": 156,
   "metadata": {},
   "outputs": [],
   "source": [
    "######## TRANSLATION MODELS TO ENGLISH ##########\n",
    "\n",
    "from semantic_text_splitter import TextSplitter\n",
    "\n",
    "def translate_comment(row):\n",
    "    comment = row['Comments']\n",
    "    lang = row['Language']\n",
    "    \n",
    "    if lang == 'fr':\n",
    "        # Translate French to English\n",
    "        return french_to_english(comment)[0]['translation_text']\n",
    "    elif lang == 'de':\n",
    "        # Translate German to English\n",
    "        return german_to_english(comment)[0]['translation_text']\n",
    "    elif lang == 'it':\n",
    "        # Translate Italian to English\n",
    "        return italian_to_english(comment)[0]['translation_text']\n",
    "    else:\n",
    "        # No translation needed for English comments\n",
    "        return comment\n",
    "\n",
    "def translate_comment_by_seq(row):\n",
    "    comment = row['Comments']\n",
    "    lang = row['Language']\n",
    "    \n",
    "    # Split the comment into sentences (adjust the splitting logic)\n",
    "    def split_sentences(text):\n",
    "        sentences = []\n",
    "        current_sentence = \"\"\n",
    "        for token in text.split(\". \"):\n",
    "            if token[0].isdigit() and len(token) > 1 and token[1] == \".\":\n",
    "                # Append the current sentence and start a new one\n",
    "                sentences.append(current_sentence.strip())\n",
    "                current_sentence = token\n",
    "            else:\n",
    "                current_sentence += \". \" + token\n",
    "        sentences.append(current_sentence.strip())  # Append the last sentence\n",
    "        return sentences\n",
    "    \n",
    "    sentences = split_sentences(comment)\n",
    "    sentences = comment.split(\". \")\n",
    "\n",
    "    # Initialize an empty list to store translated sentences\n",
    "    translated_sentences = []\n",
    "\n",
    "    # Translate each sentence separately\n",
    "    for sentence in sentences:\n",
    "        if lang == 'fr':\n",
    "            # Translate French to English\n",
    "            try:\n",
    "                translated_sentence = french_to_english(sentence)[0]['translation_text']\n",
    "            except IndexError:\n",
    "                translated_sentence = sentence\n",
    "        elif lang == 'de':\n",
    "            # Translate German to English\n",
    "            try:\n",
    "                translated_sentence = german_to_english(sentence)[0]['translation_text']\n",
    "            except IndexError:\n",
    "                translated_sentence = sentence\n",
    "        elif lang == 'it':\n",
    "            # Translate Italian to English\n",
    "            try :\n",
    "                translated_sentence = italian_to_english(sentence)[0]['translation_text']\n",
    "            except IndexError:\n",
    "                translated_sentence = sentence\n",
    "        else:\n",
    "            # No translation needed for English comments\n",
    "            translated_sentence = sentence\n",
    "\n",
    "        # Append the translated sentence to the list\n",
    "        translated_sentences.append(translated_sentence)\n",
    "\n",
    "    # Combine the translated sentences\n",
    "    full_translation = \". \".join(translated_sentences)\n",
    "    return full_translation\n",
    "\n",
    "def translate_comment_by_chunks(row, chunk_size=400):\n",
    "    comment = row['Comments']\n",
    "    lang = row['Language']\n",
    "\n",
    "    # Initialize the TextSplitter with the desired chunk size\n",
    "    splitter = TextSplitter(chunk_size)\n",
    "\n",
    "    # Split the comment into chunks\n",
    "    chunks = splitter.chunks(comment)\n",
    "\n",
    "    # Initialize an empty list to store translated chunks\n",
    "    translated_chunks = []\n",
    "\n",
    "    # Translate each chunk separately\n",
    "    for chunk in chunks:\n",
    "        if lang == 'fr':\n",
    "            # Translate French to English\n",
    "            try:\n",
    "                translated_chunk = french_to_english(chunk)[0]['translation_text']\n",
    "            except IndexError:\n",
    "                translated_chunk = chunk\n",
    "        elif lang == 'de':\n",
    "            # Translate German to English\n",
    "            try:\n",
    "                translated_chunk = german_to_english(chunk)[0]['translation_text']\n",
    "            except IndexError:\n",
    "                translated_chunk = chunk\n",
    "        elif lang == 'it':\n",
    "            # Translate Italian to English\n",
    "            try:\n",
    "                translated_chunk = italian_to_english(chunk)[0]['translation_text']\n",
    "            except IndexError:\n",
    "                translated_chunk = chunk\n",
    "        else:\n",
    "            # No translation needed for English comments\n",
    "            translated_chunk = chunk\n",
    "\n",
    "        # Append the translated chunk to the list\n",
    "        translated_chunks.append(translated_chunk)\n",
    "\n",
    "    # Combine the translated chunks\n",
    "    full_translation = \" \".join(translated_chunks)\n",
    "    return full_translation\n",
    "\n",
    "# Apply translation to each row\n",
    "df_merge['translated_comments'] = df_merge.apply(translate_comment_by_chunks, axis=1)\n",
    "# df_merge[2000:3000].apply(translate_comment_by_chunks, axis=1)\n",
    "\n",
    "# df_merge.to_csv(\"/media/cattiaux/DATA/Wassati/team_data/lp3/lp3_comments_merge_translated.csv\", header=True, index=False)"
   ]
  },
  {
   "cell_type": "code",
   "execution_count": 32,
   "metadata": {},
   "outputs": [
    {
     "data": {
      "application/vnd.jupyter.widget-view+json": {
       "model_id": "35bf483fc4f24f5184e8e7ee62b8c665",
       "version_major": 2,
       "version_minor": 0
      },
      "text/plain": [
       "Batches:   0%|          | 0/228 [00:00<?, ?it/s]"
      ]
     },
     "metadata": {},
     "output_type": "display_data"
    },
    {
     "name": "stderr",
     "output_type": "stream",
     "text": [
      "/home/cattiaux/anaconda3/envs/wassati/lib/python3.9/site-packages/bertopic/vectorizers/_ctfidf.py:82: RuntimeWarning: divide by zero encountered in divide\n",
      "  idf = np.log((avg_nr_samples / df)+1)\n",
      "/home/cattiaux/anaconda3/envs/wassati/lib/python3.9/site-packages/bertopic/vectorizers/_ctfidf.py:82: RuntimeWarning: divide by zero encountered in divide\n",
      "  idf = np.log((avg_nr_samples / df)+1)\n"
     ]
    }
   ],
   "source": [
    "# Run BERTopic\n",
    "\n",
    "clustering = ClusteringMethod(model_name)\n",
    "\n",
    "bertopic_kwargs={\n",
    "    \"nr_topics\":\"auto\",\n",
    "    \"ctfidf_model\": ClassTfidfTransformer(reduce_frequent_words=True),\n",
    "    \"representation_model\": [KeyBERTInspired(), MaximalMarginalRelevance(diversity=0.4)], # possible values : KeyBERTInspired() or MaximalMarginalRelevance(diversity=0.5)\n",
    "    \"top_n_words\":10,\n",
    "    # \"min_topic_size\":50,\n",
    "    \"calculate_probabilities\": True\n",
    "}\n",
    "\n",
    "bertopic_kwargs['vectorizer_model'] = CountVectorizer(\n",
    "                    vocabulary=set(vocabulary_list), \n",
    "                    stop_words=stopwords, \n",
    "                    lowercase=True, \n",
    "                    ngram_range=(1, 3)\n",
    "                )\n",
    "\n",
    "docs = df_translated[\"processed_data\"].astype(str).tolist()\n",
    "\n",
    "topics, probs, topic_model, embeddings = clustering.run_bertopic(\n",
    "    df= df_translated,\n",
    "    **bertopic_kwargs\n",
    "    )"
   ]
  },
  {
   "cell_type": "code",
   "execution_count": 88,
   "metadata": {},
   "outputs": [],
   "source": [
    "# ADD NGRAM AFTER CREATION OF THE BERTOPIC MODEL\n",
    "# from sklearn.feature_extraction.text import CountVectorizer\n",
    "# vectorizer_model = CountVectorizer(ngram_range=(1, 3), stop_words=\"english\")\n",
    "# topic_model.update_topics(docs, vectorizer_model=vectorizer_model)"
   ]
  },
  {
   "cell_type": "code",
   "execution_count": 33,
   "metadata": {},
   "outputs": [
    {
     "data": {
      "application/vnd.plotly.v1+json": {
       "config": {
        "plotlyServerURL": "https://plot.ly"
       },
       "data": [
        {
         "customdata": [
          [
           0,
           "leader leader | leader | leader able | leaderhip | team leader",
           1501
          ],
          [
           1,
           "skills | role model | management | trust employee | promotes employee",
           1468
          ],
          [
           2,
           "trust employee | employee employee | employee human | employee sufficient | role model",
           241
          ],
          [
           3,
           "naturally respected | leader guide | collaborator | colleague | pleasure visionary",
           151
          ],
          [
           4,
           "dominate unnecessarily | consistent leaderhip | characteristics skills | characteristics trustworthy | evaluation staff",
           128
          ],
          [
           5,
           "availability listen | listen availability | listen supports | listen communicate | example listen",
           90
          ],
          [
           6,
           "employee exemplary | exemplary responsibilities | disciplined exemplary | exemplary motivate | exemplary human",
           77
          ],
          [
           7,
           "qualities management | management | motivate employee | helps subordinates | develop employee",
           73
          ],
          [
           8,
           "provides skills | loyal subordinates | build trust | able trust | personality backbone",
           73
          ],
          [
           9,
           "collaborator respect | collaborator justify | support collaborator | listens collaborator | potential collaborator",
           61
          ],
          [
           10,
           "assists employee | inspire employee | role responsibility | employee design | given employee",
           57
          ],
          [
           11,
           "employee lead | lead loyal | lead example | lead promotes | leading employee",
           57
          ],
          [
           12,
           "qualities competent | communicative loyal | loyal competent | honest competent | loyal courteous",
           57
          ],
          [
           13,
           "skills | skills strength | management ability | social skills | communication skills",
           56
          ],
          [
           14,
           "employee chef | chef employee | chef motivate | oriented chef | chef properly",
           52
          ],
          [
           15,
           "work competent | exemplary supportive | strengthens individual | represent concerns | openly respectfully",
           47
          ],
          [
           16,
           "model respectful | model | model honesty | model engagement | promotethe model",
           44
          ],
          [
           17,
           "motivate listen | listen motivate | motivation praise | unifying motivate | motivate",
           41
          ],
          [
           18,
           "respectful handling | respectful fair | interaction respectful | equality fair | fair equality",
           38
          ],
          [
           19,
           "support transparency | transparency support | transparency accessibility | transparency requirements | transparency communication",
           37
          ],
          [
           20,
           "example fair | fair performance | listen fair | exemplarity rigor | rigor fair",
           32
          ],
          [
           21,
           "sparring partner | sparring | trust coach | cooperation team | team knowledge",
           27
          ],
          [
           22,
           "competence social | social competence | skills social | technical competence | professional competence",
           25
          ],
          [
           23,
           "support trust | trust support | trust guided | trust mutual | trust understanding",
           24
          ],
          [
           24,
           "model predictable | model informed | model | fair model | model fair",
           22
          ],
          [
           25,
           "communication clear | communicate expectations | communication focus | prompt feedback | stakeholders",
           22
          ],
          [
           26,
           "collaborator employee | motivate collaborator | competent collaborator | collaborator trust | involve collaborator",
           20
          ],
          [
           27,
           "honesty loyalty | loyalty | loyalty consistency | honesty commitment | honesty trust",
           18
          ],
          [
           28,
           "model function | model | function | function understanding | open model",
           17
          ],
          [
           29,
           "trust transparency | transparency trust | communication trust | transparency guidance | trust challenging",
           17
          ],
          [
           30,
           "respect | respect fair | respectful | expect respect | fair respect",
           17
          ],
          [
           31,
           "guided exemplar | exemplar | exemplarity recognition | exemplarity | exemplarity work",
           17
          ],
          [
           32,
           "trustful cooperation | trust cooperation | cooperation trust | cooperation honesty | respect cooperation",
           15
          ],
          [
           33,
           "competencies responsability | tasks competencies | goals tasks | achieving goals | responsibilities",
           15
          ],
          [
           34,
           "open ear | ear open | ear concerns | ear | concerns open",
           14
          ],
          [
           35,
           "confidence | confidence respect | confidence freedom | confidence liability | confidence transfer",
           14
          ],
          [
           36,
           "clear line | example clear | clear information | clear statements | clear",
           13
          ],
          [
           37,
           "feedback culture | honest communication | communication | maintain communication | feedback constructive",
           13
          ],
          [
           38,
           "listen trust | trust listen | trust | trust trust | listener trust",
           10
          ],
          [
           39,
           "expect competent | valued expect | expectations | expect tasks | expect listen",
           10
          ],
          [
           40,
           "understanding humanity | humanity | humanity understanding | recognition humanity | coherence humanity",
           10
          ]
         ],
         "hovertemplate": "<b>Topic %{customdata[0]}</b><br>%{customdata[1]}<br>Size: %{customdata[2]}",
         "legendgroup": "",
         "marker": {
          "color": "#B0BEC5",
          "line": {
           "color": "DarkSlateGrey",
           "width": 2
          },
          "size": [
           1501,
           1468,
           241,
           151,
           128,
           90,
           77,
           73,
           73,
           61,
           57,
           57,
           57,
           56,
           52,
           47,
           44,
           41,
           38,
           37,
           32,
           27,
           25,
           24,
           22,
           22,
           20,
           18,
           17,
           17,
           17,
           17,
           15,
           15,
           14,
           14,
           13,
           13,
           10,
           10,
           10
          ],
          "sizemode": "area",
          "sizeref": 0.938125,
          "symbol": "circle"
         },
         "mode": "markers",
         "name": "",
         "orientation": "v",
         "showlegend": false,
         "type": "scatter",
         "x": [
          17.282163619995117,
          9.876041412353516,
          17.0023193359375,
          9.433843612670898,
          17.17348861694336,
          -3.5688302516937256,
          9.523589134216309,
          17.31137466430664,
          8.814689636230469,
          12.738992691040039,
          9.497160911560059,
          9.5684175491333,
          8.911090850830078,
          9.072297096252441,
          17.573030471801758,
          12.51954174041748,
          10.365682601928711,
          -2.162604331970215,
          18.35421371459961,
          -3.84673810005188,
          -5.324048042297363,
          9.831033706665039,
          9.106758117675781,
          -4.594466686248779,
          10.533422470092773,
          -2.8010661602020264,
          12.994608879089355,
          9.804558753967285,
          10.650212287902832,
          -4.194920063018799,
          18.34531593322754,
          -5.324098587036133,
          13.263829231262207,
          -2.5022966861724854,
          -3.3543941974639893,
          8.936681747436523,
          -2.9232537746429443,
          -2.309075117111206,
          -4.5426411628723145,
          12.481415748596191,
          9.319236755371094
         ],
         "xaxis": "x",
         "y": [
          -0.9214273691177368,
          0.294345885515213,
          -0.642795741558075,
          0.6869809627532959,
          -0.8133058547973633,
          -9.228639602661133,
          0.24249449372291565,
          -0.9514417052268982,
          0.26477348804473877,
          -6.388417720794678,
          0.3915593922138214,
          -0.060617465525865555,
          -0.06298283487558365,
          -0.9994955062866211,
          -1.2136093378067017,
          -6.594579219818115,
          0.6134136915206909,
          9.394668579101562,
          22.299072265625,
          -9.00851058959961,
          13.065164566040039,
          -0.01888227090239525,
          -0.985508143901825,
          -8.810466766357422,
          0.7256292700767517,
          8.714774131774902,
          -6.215494155883789,
          -0.20796427130699158,
          0.8381732106208801,
          -8.897269248962402,
          22.308059692382812,
          13.065232276916504,
          -6.050256252288818,
          9.042816162109375,
          -9.429727554321289,
          -1.125971794128418,
          8.590494155883789,
          9.243987083435059,
          -8.816990852355957,
          -6.221035480499268,
          0.8525822758674622
         ],
         "yaxis": "y"
        }
       ],
       "layout": {
        "annotations": [
         {
          "showarrow": false,
          "text": "D1",
          "x": -6.122713375091553,
          "y": 7.405040979385375,
          "yshift": 10
         },
         {
          "showarrow": false,
          "text": "D2",
          "x": 7.492316198348998,
          "xshift": 10,
          "y": 25.654268646240233
         }
        ],
        "height": 650,
        "hoverlabel": {
         "bgcolor": "white",
         "font": {
          "family": "Rockwell",
          "size": 16
         }
        },
        "legend": {
         "itemsizing": "constant",
         "tracegroupgap": 0
        },
        "margin": {
         "t": 60
        },
        "shapes": [
         {
          "line": {
           "color": "#CFD8DC",
           "width": 2
          },
          "type": "line",
          "x0": 7.492316198348998,
          "x1": 7.492316198348998,
          "y0": -10.844186687469483,
          "y1": 25.654268646240233
         },
         {
          "line": {
           "color": "#9E9E9E",
           "width": 2
          },
          "type": "line",
          "x0": -6.122713375091553,
          "x1": 21.10734577178955,
          "y0": 7.405040979385375,
          "y1": 7.405040979385375
         }
        ],
        "sliders": [
         {
          "active": 0,
          "pad": {
           "t": 50
          },
          "steps": [
           {
            "args": [
             {
              "marker.color": [
               [
                "red",
                "#B0BEC5",
                "#B0BEC5",
                "#B0BEC5",
                "#B0BEC5",
                "#B0BEC5",
                "#B0BEC5",
                "#B0BEC5",
                "#B0BEC5",
                "#B0BEC5",
                "#B0BEC5",
                "#B0BEC5",
                "#B0BEC5",
                "#B0BEC5",
                "#B0BEC5",
                "#B0BEC5",
                "#B0BEC5",
                "#B0BEC5",
                "#B0BEC5",
                "#B0BEC5",
                "#B0BEC5",
                "#B0BEC5",
                "#B0BEC5",
                "#B0BEC5",
                "#B0BEC5",
                "#B0BEC5",
                "#B0BEC5",
                "#B0BEC5",
                "#B0BEC5",
                "#B0BEC5",
                "#B0BEC5",
                "#B0BEC5",
                "#B0BEC5",
                "#B0BEC5",
                "#B0BEC5",
                "#B0BEC5",
                "#B0BEC5",
                "#B0BEC5",
                "#B0BEC5",
                "#B0BEC5",
                "#B0BEC5"
               ]
              ]
             }
            ],
            "label": "Topic 0",
            "method": "update"
           },
           {
            "args": [
             {
              "marker.color": [
               [
                "#B0BEC5",
                "red",
                "#B0BEC5",
                "#B0BEC5",
                "#B0BEC5",
                "#B0BEC5",
                "#B0BEC5",
                "#B0BEC5",
                "#B0BEC5",
                "#B0BEC5",
                "#B0BEC5",
                "#B0BEC5",
                "#B0BEC5",
                "#B0BEC5",
                "#B0BEC5",
                "#B0BEC5",
                "#B0BEC5",
                "#B0BEC5",
                "#B0BEC5",
                "#B0BEC5",
                "#B0BEC5",
                "#B0BEC5",
                "#B0BEC5",
                "#B0BEC5",
                "#B0BEC5",
                "#B0BEC5",
                "#B0BEC5",
                "#B0BEC5",
                "#B0BEC5",
                "#B0BEC5",
                "#B0BEC5",
                "#B0BEC5",
                "#B0BEC5",
                "#B0BEC5",
                "#B0BEC5",
                "#B0BEC5",
                "#B0BEC5",
                "#B0BEC5",
                "#B0BEC5",
                "#B0BEC5",
                "#B0BEC5"
               ]
              ]
             }
            ],
            "label": "Topic 1",
            "method": "update"
           },
           {
            "args": [
             {
              "marker.color": [
               [
                "#B0BEC5",
                "#B0BEC5",
                "red",
                "#B0BEC5",
                "#B0BEC5",
                "#B0BEC5",
                "#B0BEC5",
                "#B0BEC5",
                "#B0BEC5",
                "#B0BEC5",
                "#B0BEC5",
                "#B0BEC5",
                "#B0BEC5",
                "#B0BEC5",
                "#B0BEC5",
                "#B0BEC5",
                "#B0BEC5",
                "#B0BEC5",
                "#B0BEC5",
                "#B0BEC5",
                "#B0BEC5",
                "#B0BEC5",
                "#B0BEC5",
                "#B0BEC5",
                "#B0BEC5",
                "#B0BEC5",
                "#B0BEC5",
                "#B0BEC5",
                "#B0BEC5",
                "#B0BEC5",
                "#B0BEC5",
                "#B0BEC5",
                "#B0BEC5",
                "#B0BEC5",
                "#B0BEC5",
                "#B0BEC5",
                "#B0BEC5",
                "#B0BEC5",
                "#B0BEC5",
                "#B0BEC5",
                "#B0BEC5"
               ]
              ]
             }
            ],
            "label": "Topic 2",
            "method": "update"
           },
           {
            "args": [
             {
              "marker.color": [
               [
                "#B0BEC5",
                "#B0BEC5",
                "#B0BEC5",
                "red",
                "#B0BEC5",
                "#B0BEC5",
                "#B0BEC5",
                "#B0BEC5",
                "#B0BEC5",
                "#B0BEC5",
                "#B0BEC5",
                "#B0BEC5",
                "#B0BEC5",
                "#B0BEC5",
                "#B0BEC5",
                "#B0BEC5",
                "#B0BEC5",
                "#B0BEC5",
                "#B0BEC5",
                "#B0BEC5",
                "#B0BEC5",
                "#B0BEC5",
                "#B0BEC5",
                "#B0BEC5",
                "#B0BEC5",
                "#B0BEC5",
                "#B0BEC5",
                "#B0BEC5",
                "#B0BEC5",
                "#B0BEC5",
                "#B0BEC5",
                "#B0BEC5",
                "#B0BEC5",
                "#B0BEC5",
                "#B0BEC5",
                "#B0BEC5",
                "#B0BEC5",
                "#B0BEC5",
                "#B0BEC5",
                "#B0BEC5",
                "#B0BEC5"
               ]
              ]
             }
            ],
            "label": "Topic 3",
            "method": "update"
           },
           {
            "args": [
             {
              "marker.color": [
               [
                "#B0BEC5",
                "#B0BEC5",
                "#B0BEC5",
                "#B0BEC5",
                "red",
                "#B0BEC5",
                "#B0BEC5",
                "#B0BEC5",
                "#B0BEC5",
                "#B0BEC5",
                "#B0BEC5",
                "#B0BEC5",
                "#B0BEC5",
                "#B0BEC5",
                "#B0BEC5",
                "#B0BEC5",
                "#B0BEC5",
                "#B0BEC5",
                "#B0BEC5",
                "#B0BEC5",
                "#B0BEC5",
                "#B0BEC5",
                "#B0BEC5",
                "#B0BEC5",
                "#B0BEC5",
                "#B0BEC5",
                "#B0BEC5",
                "#B0BEC5",
                "#B0BEC5",
                "#B0BEC5",
                "#B0BEC5",
                "#B0BEC5",
                "#B0BEC5",
                "#B0BEC5",
                "#B0BEC5",
                "#B0BEC5",
                "#B0BEC5",
                "#B0BEC5",
                "#B0BEC5",
                "#B0BEC5",
                "#B0BEC5"
               ]
              ]
             }
            ],
            "label": "Topic 4",
            "method": "update"
           },
           {
            "args": [
             {
              "marker.color": [
               [
                "#B0BEC5",
                "#B0BEC5",
                "#B0BEC5",
                "#B0BEC5",
                "#B0BEC5",
                "red",
                "#B0BEC5",
                "#B0BEC5",
                "#B0BEC5",
                "#B0BEC5",
                "#B0BEC5",
                "#B0BEC5",
                "#B0BEC5",
                "#B0BEC5",
                "#B0BEC5",
                "#B0BEC5",
                "#B0BEC5",
                "#B0BEC5",
                "#B0BEC5",
                "#B0BEC5",
                "#B0BEC5",
                "#B0BEC5",
                "#B0BEC5",
                "#B0BEC5",
                "#B0BEC5",
                "#B0BEC5",
                "#B0BEC5",
                "#B0BEC5",
                "#B0BEC5",
                "#B0BEC5",
                "#B0BEC5",
                "#B0BEC5",
                "#B0BEC5",
                "#B0BEC5",
                "#B0BEC5",
                "#B0BEC5",
                "#B0BEC5",
                "#B0BEC5",
                "#B0BEC5",
                "#B0BEC5",
                "#B0BEC5"
               ]
              ]
             }
            ],
            "label": "Topic 5",
            "method": "update"
           },
           {
            "args": [
             {
              "marker.color": [
               [
                "#B0BEC5",
                "#B0BEC5",
                "#B0BEC5",
                "#B0BEC5",
                "#B0BEC5",
                "#B0BEC5",
                "red",
                "#B0BEC5",
                "#B0BEC5",
                "#B0BEC5",
                "#B0BEC5",
                "#B0BEC5",
                "#B0BEC5",
                "#B0BEC5",
                "#B0BEC5",
                "#B0BEC5",
                "#B0BEC5",
                "#B0BEC5",
                "#B0BEC5",
                "#B0BEC5",
                "#B0BEC5",
                "#B0BEC5",
                "#B0BEC5",
                "#B0BEC5",
                "#B0BEC5",
                "#B0BEC5",
                "#B0BEC5",
                "#B0BEC5",
                "#B0BEC5",
                "#B0BEC5",
                "#B0BEC5",
                "#B0BEC5",
                "#B0BEC5",
                "#B0BEC5",
                "#B0BEC5",
                "#B0BEC5",
                "#B0BEC5",
                "#B0BEC5",
                "#B0BEC5",
                "#B0BEC5",
                "#B0BEC5"
               ]
              ]
             }
            ],
            "label": "Topic 6",
            "method": "update"
           },
           {
            "args": [
             {
              "marker.color": [
               [
                "#B0BEC5",
                "#B0BEC5",
                "#B0BEC5",
                "#B0BEC5",
                "#B0BEC5",
                "#B0BEC5",
                "#B0BEC5",
                "red",
                "#B0BEC5",
                "#B0BEC5",
                "#B0BEC5",
                "#B0BEC5",
                "#B0BEC5",
                "#B0BEC5",
                "#B0BEC5",
                "#B0BEC5",
                "#B0BEC5",
                "#B0BEC5",
                "#B0BEC5",
                "#B0BEC5",
                "#B0BEC5",
                "#B0BEC5",
                "#B0BEC5",
                "#B0BEC5",
                "#B0BEC5",
                "#B0BEC5",
                "#B0BEC5",
                "#B0BEC5",
                "#B0BEC5",
                "#B0BEC5",
                "#B0BEC5",
                "#B0BEC5",
                "#B0BEC5",
                "#B0BEC5",
                "#B0BEC5",
                "#B0BEC5",
                "#B0BEC5",
                "#B0BEC5",
                "#B0BEC5",
                "#B0BEC5",
                "#B0BEC5"
               ]
              ]
             }
            ],
            "label": "Topic 7",
            "method": "update"
           },
           {
            "args": [
             {
              "marker.color": [
               [
                "#B0BEC5",
                "#B0BEC5",
                "#B0BEC5",
                "#B0BEC5",
                "#B0BEC5",
                "#B0BEC5",
                "#B0BEC5",
                "#B0BEC5",
                "red",
                "#B0BEC5",
                "#B0BEC5",
                "#B0BEC5",
                "#B0BEC5",
                "#B0BEC5",
                "#B0BEC5",
                "#B0BEC5",
                "#B0BEC5",
                "#B0BEC5",
                "#B0BEC5",
                "#B0BEC5",
                "#B0BEC5",
                "#B0BEC5",
                "#B0BEC5",
                "#B0BEC5",
                "#B0BEC5",
                "#B0BEC5",
                "#B0BEC5",
                "#B0BEC5",
                "#B0BEC5",
                "#B0BEC5",
                "#B0BEC5",
                "#B0BEC5",
                "#B0BEC5",
                "#B0BEC5",
                "#B0BEC5",
                "#B0BEC5",
                "#B0BEC5",
                "#B0BEC5",
                "#B0BEC5",
                "#B0BEC5",
                "#B0BEC5"
               ]
              ]
             }
            ],
            "label": "Topic 8",
            "method": "update"
           },
           {
            "args": [
             {
              "marker.color": [
               [
                "#B0BEC5",
                "#B0BEC5",
                "#B0BEC5",
                "#B0BEC5",
                "#B0BEC5",
                "#B0BEC5",
                "#B0BEC5",
                "#B0BEC5",
                "#B0BEC5",
                "red",
                "#B0BEC5",
                "#B0BEC5",
                "#B0BEC5",
                "#B0BEC5",
                "#B0BEC5",
                "#B0BEC5",
                "#B0BEC5",
                "#B0BEC5",
                "#B0BEC5",
                "#B0BEC5",
                "#B0BEC5",
                "#B0BEC5",
                "#B0BEC5",
                "#B0BEC5",
                "#B0BEC5",
                "#B0BEC5",
                "#B0BEC5",
                "#B0BEC5",
                "#B0BEC5",
                "#B0BEC5",
                "#B0BEC5",
                "#B0BEC5",
                "#B0BEC5",
                "#B0BEC5",
                "#B0BEC5",
                "#B0BEC5",
                "#B0BEC5",
                "#B0BEC5",
                "#B0BEC5",
                "#B0BEC5",
                "#B0BEC5"
               ]
              ]
             }
            ],
            "label": "Topic 9",
            "method": "update"
           },
           {
            "args": [
             {
              "marker.color": [
               [
                "#B0BEC5",
                "#B0BEC5",
                "#B0BEC5",
                "#B0BEC5",
                "#B0BEC5",
                "#B0BEC5",
                "#B0BEC5",
                "#B0BEC5",
                "#B0BEC5",
                "#B0BEC5",
                "red",
                "#B0BEC5",
                "#B0BEC5",
                "#B0BEC5",
                "#B0BEC5",
                "#B0BEC5",
                "#B0BEC5",
                "#B0BEC5",
                "#B0BEC5",
                "#B0BEC5",
                "#B0BEC5",
                "#B0BEC5",
                "#B0BEC5",
                "#B0BEC5",
                "#B0BEC5",
                "#B0BEC5",
                "#B0BEC5",
                "#B0BEC5",
                "#B0BEC5",
                "#B0BEC5",
                "#B0BEC5",
                "#B0BEC5",
                "#B0BEC5",
                "#B0BEC5",
                "#B0BEC5",
                "#B0BEC5",
                "#B0BEC5",
                "#B0BEC5",
                "#B0BEC5",
                "#B0BEC5",
                "#B0BEC5"
               ]
              ]
             }
            ],
            "label": "Topic 10",
            "method": "update"
           },
           {
            "args": [
             {
              "marker.color": [
               [
                "#B0BEC5",
                "#B0BEC5",
                "#B0BEC5",
                "#B0BEC5",
                "#B0BEC5",
                "#B0BEC5",
                "#B0BEC5",
                "#B0BEC5",
                "#B0BEC5",
                "#B0BEC5",
                "#B0BEC5",
                "red",
                "#B0BEC5",
                "#B0BEC5",
                "#B0BEC5",
                "#B0BEC5",
                "#B0BEC5",
                "#B0BEC5",
                "#B0BEC5",
                "#B0BEC5",
                "#B0BEC5",
                "#B0BEC5",
                "#B0BEC5",
                "#B0BEC5",
                "#B0BEC5",
                "#B0BEC5",
                "#B0BEC5",
                "#B0BEC5",
                "#B0BEC5",
                "#B0BEC5",
                "#B0BEC5",
                "#B0BEC5",
                "#B0BEC5",
                "#B0BEC5",
                "#B0BEC5",
                "#B0BEC5",
                "#B0BEC5",
                "#B0BEC5",
                "#B0BEC5",
                "#B0BEC5",
                "#B0BEC5"
               ]
              ]
             }
            ],
            "label": "Topic 11",
            "method": "update"
           },
           {
            "args": [
             {
              "marker.color": [
               [
                "#B0BEC5",
                "#B0BEC5",
                "#B0BEC5",
                "#B0BEC5",
                "#B0BEC5",
                "#B0BEC5",
                "#B0BEC5",
                "#B0BEC5",
                "#B0BEC5",
                "#B0BEC5",
                "#B0BEC5",
                "#B0BEC5",
                "red",
                "#B0BEC5",
                "#B0BEC5",
                "#B0BEC5",
                "#B0BEC5",
                "#B0BEC5",
                "#B0BEC5",
                "#B0BEC5",
                "#B0BEC5",
                "#B0BEC5",
                "#B0BEC5",
                "#B0BEC5",
                "#B0BEC5",
                "#B0BEC5",
                "#B0BEC5",
                "#B0BEC5",
                "#B0BEC5",
                "#B0BEC5",
                "#B0BEC5",
                "#B0BEC5",
                "#B0BEC5",
                "#B0BEC5",
                "#B0BEC5",
                "#B0BEC5",
                "#B0BEC5",
                "#B0BEC5",
                "#B0BEC5",
                "#B0BEC5",
                "#B0BEC5"
               ]
              ]
             }
            ],
            "label": "Topic 12",
            "method": "update"
           },
           {
            "args": [
             {
              "marker.color": [
               [
                "#B0BEC5",
                "#B0BEC5",
                "#B0BEC5",
                "#B0BEC5",
                "#B0BEC5",
                "#B0BEC5",
                "#B0BEC5",
                "#B0BEC5",
                "#B0BEC5",
                "#B0BEC5",
                "#B0BEC5",
                "#B0BEC5",
                "#B0BEC5",
                "red",
                "#B0BEC5",
                "#B0BEC5",
                "#B0BEC5",
                "#B0BEC5",
                "#B0BEC5",
                "#B0BEC5",
                "#B0BEC5",
                "#B0BEC5",
                "#B0BEC5",
                "#B0BEC5",
                "#B0BEC5",
                "#B0BEC5",
                "#B0BEC5",
                "#B0BEC5",
                "#B0BEC5",
                "#B0BEC5",
                "#B0BEC5",
                "#B0BEC5",
                "#B0BEC5",
                "#B0BEC5",
                "#B0BEC5",
                "#B0BEC5",
                "#B0BEC5",
                "#B0BEC5",
                "#B0BEC5",
                "#B0BEC5",
                "#B0BEC5"
               ]
              ]
             }
            ],
            "label": "Topic 13",
            "method": "update"
           },
           {
            "args": [
             {
              "marker.color": [
               [
                "#B0BEC5",
                "#B0BEC5",
                "#B0BEC5",
                "#B0BEC5",
                "#B0BEC5",
                "#B0BEC5",
                "#B0BEC5",
                "#B0BEC5",
                "#B0BEC5",
                "#B0BEC5",
                "#B0BEC5",
                "#B0BEC5",
                "#B0BEC5",
                "#B0BEC5",
                "red",
                "#B0BEC5",
                "#B0BEC5",
                "#B0BEC5",
                "#B0BEC5",
                "#B0BEC5",
                "#B0BEC5",
                "#B0BEC5",
                "#B0BEC5",
                "#B0BEC5",
                "#B0BEC5",
                "#B0BEC5",
                "#B0BEC5",
                "#B0BEC5",
                "#B0BEC5",
                "#B0BEC5",
                "#B0BEC5",
                "#B0BEC5",
                "#B0BEC5",
                "#B0BEC5",
                "#B0BEC5",
                "#B0BEC5",
                "#B0BEC5",
                "#B0BEC5",
                "#B0BEC5",
                "#B0BEC5",
                "#B0BEC5"
               ]
              ]
             }
            ],
            "label": "Topic 14",
            "method": "update"
           },
           {
            "args": [
             {
              "marker.color": [
               [
                "#B0BEC5",
                "#B0BEC5",
                "#B0BEC5",
                "#B0BEC5",
                "#B0BEC5",
                "#B0BEC5",
                "#B0BEC5",
                "#B0BEC5",
                "#B0BEC5",
                "#B0BEC5",
                "#B0BEC5",
                "#B0BEC5",
                "#B0BEC5",
                "#B0BEC5",
                "#B0BEC5",
                "red",
                "#B0BEC5",
                "#B0BEC5",
                "#B0BEC5",
                "#B0BEC5",
                "#B0BEC5",
                "#B0BEC5",
                "#B0BEC5",
                "#B0BEC5",
                "#B0BEC5",
                "#B0BEC5",
                "#B0BEC5",
                "#B0BEC5",
                "#B0BEC5",
                "#B0BEC5",
                "#B0BEC5",
                "#B0BEC5",
                "#B0BEC5",
                "#B0BEC5",
                "#B0BEC5",
                "#B0BEC5",
                "#B0BEC5",
                "#B0BEC5",
                "#B0BEC5",
                "#B0BEC5",
                "#B0BEC5"
               ]
              ]
             }
            ],
            "label": "Topic 15",
            "method": "update"
           },
           {
            "args": [
             {
              "marker.color": [
               [
                "#B0BEC5",
                "#B0BEC5",
                "#B0BEC5",
                "#B0BEC5",
                "#B0BEC5",
                "#B0BEC5",
                "#B0BEC5",
                "#B0BEC5",
                "#B0BEC5",
                "#B0BEC5",
                "#B0BEC5",
                "#B0BEC5",
                "#B0BEC5",
                "#B0BEC5",
                "#B0BEC5",
                "#B0BEC5",
                "red",
                "#B0BEC5",
                "#B0BEC5",
                "#B0BEC5",
                "#B0BEC5",
                "#B0BEC5",
                "#B0BEC5",
                "#B0BEC5",
                "#B0BEC5",
                "#B0BEC5",
                "#B0BEC5",
                "#B0BEC5",
                "#B0BEC5",
                "#B0BEC5",
                "#B0BEC5",
                "#B0BEC5",
                "#B0BEC5",
                "#B0BEC5",
                "#B0BEC5",
                "#B0BEC5",
                "#B0BEC5",
                "#B0BEC5",
                "#B0BEC5",
                "#B0BEC5",
                "#B0BEC5"
               ]
              ]
             }
            ],
            "label": "Topic 16",
            "method": "update"
           },
           {
            "args": [
             {
              "marker.color": [
               [
                "#B0BEC5",
                "#B0BEC5",
                "#B0BEC5",
                "#B0BEC5",
                "#B0BEC5",
                "#B0BEC5",
                "#B0BEC5",
                "#B0BEC5",
                "#B0BEC5",
                "#B0BEC5",
                "#B0BEC5",
                "#B0BEC5",
                "#B0BEC5",
                "#B0BEC5",
                "#B0BEC5",
                "#B0BEC5",
                "#B0BEC5",
                "red",
                "#B0BEC5",
                "#B0BEC5",
                "#B0BEC5",
                "#B0BEC5",
                "#B0BEC5",
                "#B0BEC5",
                "#B0BEC5",
                "#B0BEC5",
                "#B0BEC5",
                "#B0BEC5",
                "#B0BEC5",
                "#B0BEC5",
                "#B0BEC5",
                "#B0BEC5",
                "#B0BEC5",
                "#B0BEC5",
                "#B0BEC5",
                "#B0BEC5",
                "#B0BEC5",
                "#B0BEC5",
                "#B0BEC5",
                "#B0BEC5",
                "#B0BEC5"
               ]
              ]
             }
            ],
            "label": "Topic 17",
            "method": "update"
           },
           {
            "args": [
             {
              "marker.color": [
               [
                "#B0BEC5",
                "#B0BEC5",
                "#B0BEC5",
                "#B0BEC5",
                "#B0BEC5",
                "#B0BEC5",
                "#B0BEC5",
                "#B0BEC5",
                "#B0BEC5",
                "#B0BEC5",
                "#B0BEC5",
                "#B0BEC5",
                "#B0BEC5",
                "#B0BEC5",
                "#B0BEC5",
                "#B0BEC5",
                "#B0BEC5",
                "#B0BEC5",
                "red",
                "#B0BEC5",
                "#B0BEC5",
                "#B0BEC5",
                "#B0BEC5",
                "#B0BEC5",
                "#B0BEC5",
                "#B0BEC5",
                "#B0BEC5",
                "#B0BEC5",
                "#B0BEC5",
                "#B0BEC5",
                "#B0BEC5",
                "#B0BEC5",
                "#B0BEC5",
                "#B0BEC5",
                "#B0BEC5",
                "#B0BEC5",
                "#B0BEC5",
                "#B0BEC5",
                "#B0BEC5",
                "#B0BEC5",
                "#B0BEC5"
               ]
              ]
             }
            ],
            "label": "Topic 18",
            "method": "update"
           },
           {
            "args": [
             {
              "marker.color": [
               [
                "#B0BEC5",
                "#B0BEC5",
                "#B0BEC5",
                "#B0BEC5",
                "#B0BEC5",
                "#B0BEC5",
                "#B0BEC5",
                "#B0BEC5",
                "#B0BEC5",
                "#B0BEC5",
                "#B0BEC5",
                "#B0BEC5",
                "#B0BEC5",
                "#B0BEC5",
                "#B0BEC5",
                "#B0BEC5",
                "#B0BEC5",
                "#B0BEC5",
                "#B0BEC5",
                "red",
                "#B0BEC5",
                "#B0BEC5",
                "#B0BEC5",
                "#B0BEC5",
                "#B0BEC5",
                "#B0BEC5",
                "#B0BEC5",
                "#B0BEC5",
                "#B0BEC5",
                "#B0BEC5",
                "#B0BEC5",
                "#B0BEC5",
                "#B0BEC5",
                "#B0BEC5",
                "#B0BEC5",
                "#B0BEC5",
                "#B0BEC5",
                "#B0BEC5",
                "#B0BEC5",
                "#B0BEC5",
                "#B0BEC5"
               ]
              ]
             }
            ],
            "label": "Topic 19",
            "method": "update"
           },
           {
            "args": [
             {
              "marker.color": [
               [
                "#B0BEC5",
                "#B0BEC5",
                "#B0BEC5",
                "#B0BEC5",
                "#B0BEC5",
                "#B0BEC5",
                "#B0BEC5",
                "#B0BEC5",
                "#B0BEC5",
                "#B0BEC5",
                "#B0BEC5",
                "#B0BEC5",
                "#B0BEC5",
                "#B0BEC5",
                "#B0BEC5",
                "#B0BEC5",
                "#B0BEC5",
                "#B0BEC5",
                "#B0BEC5",
                "#B0BEC5",
                "red",
                "#B0BEC5",
                "#B0BEC5",
                "#B0BEC5",
                "#B0BEC5",
                "#B0BEC5",
                "#B0BEC5",
                "#B0BEC5",
                "#B0BEC5",
                "#B0BEC5",
                "#B0BEC5",
                "#B0BEC5",
                "#B0BEC5",
                "#B0BEC5",
                "#B0BEC5",
                "#B0BEC5",
                "#B0BEC5",
                "#B0BEC5",
                "#B0BEC5",
                "#B0BEC5",
                "#B0BEC5"
               ]
              ]
             }
            ],
            "label": "Topic 20",
            "method": "update"
           },
           {
            "args": [
             {
              "marker.color": [
               [
                "#B0BEC5",
                "#B0BEC5",
                "#B0BEC5",
                "#B0BEC5",
                "#B0BEC5",
                "#B0BEC5",
                "#B0BEC5",
                "#B0BEC5",
                "#B0BEC5",
                "#B0BEC5",
                "#B0BEC5",
                "#B0BEC5",
                "#B0BEC5",
                "#B0BEC5",
                "#B0BEC5",
                "#B0BEC5",
                "#B0BEC5",
                "#B0BEC5",
                "#B0BEC5",
                "#B0BEC5",
                "#B0BEC5",
                "red",
                "#B0BEC5",
                "#B0BEC5",
                "#B0BEC5",
                "#B0BEC5",
                "#B0BEC5",
                "#B0BEC5",
                "#B0BEC5",
                "#B0BEC5",
                "#B0BEC5",
                "#B0BEC5",
                "#B0BEC5",
                "#B0BEC5",
                "#B0BEC5",
                "#B0BEC5",
                "#B0BEC5",
                "#B0BEC5",
                "#B0BEC5",
                "#B0BEC5",
                "#B0BEC5"
               ]
              ]
             }
            ],
            "label": "Topic 21",
            "method": "update"
           },
           {
            "args": [
             {
              "marker.color": [
               [
                "#B0BEC5",
                "#B0BEC5",
                "#B0BEC5",
                "#B0BEC5",
                "#B0BEC5",
                "#B0BEC5",
                "#B0BEC5",
                "#B0BEC5",
                "#B0BEC5",
                "#B0BEC5",
                "#B0BEC5",
                "#B0BEC5",
                "#B0BEC5",
                "#B0BEC5",
                "#B0BEC5",
                "#B0BEC5",
                "#B0BEC5",
                "#B0BEC5",
                "#B0BEC5",
                "#B0BEC5",
                "#B0BEC5",
                "#B0BEC5",
                "red",
                "#B0BEC5",
                "#B0BEC5",
                "#B0BEC5",
                "#B0BEC5",
                "#B0BEC5",
                "#B0BEC5",
                "#B0BEC5",
                "#B0BEC5",
                "#B0BEC5",
                "#B0BEC5",
                "#B0BEC5",
                "#B0BEC5",
                "#B0BEC5",
                "#B0BEC5",
                "#B0BEC5",
                "#B0BEC5",
                "#B0BEC5",
                "#B0BEC5"
               ]
              ]
             }
            ],
            "label": "Topic 22",
            "method": "update"
           },
           {
            "args": [
             {
              "marker.color": [
               [
                "#B0BEC5",
                "#B0BEC5",
                "#B0BEC5",
                "#B0BEC5",
                "#B0BEC5",
                "#B0BEC5",
                "#B0BEC5",
                "#B0BEC5",
                "#B0BEC5",
                "#B0BEC5",
                "#B0BEC5",
                "#B0BEC5",
                "#B0BEC5",
                "#B0BEC5",
                "#B0BEC5",
                "#B0BEC5",
                "#B0BEC5",
                "#B0BEC5",
                "#B0BEC5",
                "#B0BEC5",
                "#B0BEC5",
                "#B0BEC5",
                "#B0BEC5",
                "red",
                "#B0BEC5",
                "#B0BEC5",
                "#B0BEC5",
                "#B0BEC5",
                "#B0BEC5",
                "#B0BEC5",
                "#B0BEC5",
                "#B0BEC5",
                "#B0BEC5",
                "#B0BEC5",
                "#B0BEC5",
                "#B0BEC5",
                "#B0BEC5",
                "#B0BEC5",
                "#B0BEC5",
                "#B0BEC5",
                "#B0BEC5"
               ]
              ]
             }
            ],
            "label": "Topic 23",
            "method": "update"
           },
           {
            "args": [
             {
              "marker.color": [
               [
                "#B0BEC5",
                "#B0BEC5",
                "#B0BEC5",
                "#B0BEC5",
                "#B0BEC5",
                "#B0BEC5",
                "#B0BEC5",
                "#B0BEC5",
                "#B0BEC5",
                "#B0BEC5",
                "#B0BEC5",
                "#B0BEC5",
                "#B0BEC5",
                "#B0BEC5",
                "#B0BEC5",
                "#B0BEC5",
                "#B0BEC5",
                "#B0BEC5",
                "#B0BEC5",
                "#B0BEC5",
                "#B0BEC5",
                "#B0BEC5",
                "#B0BEC5",
                "#B0BEC5",
                "red",
                "#B0BEC5",
                "#B0BEC5",
                "#B0BEC5",
                "#B0BEC5",
                "#B0BEC5",
                "#B0BEC5",
                "#B0BEC5",
                "#B0BEC5",
                "#B0BEC5",
                "#B0BEC5",
                "#B0BEC5",
                "#B0BEC5",
                "#B0BEC5",
                "#B0BEC5",
                "#B0BEC5",
                "#B0BEC5"
               ]
              ]
             }
            ],
            "label": "Topic 24",
            "method": "update"
           },
           {
            "args": [
             {
              "marker.color": [
               [
                "#B0BEC5",
                "#B0BEC5",
                "#B0BEC5",
                "#B0BEC5",
                "#B0BEC5",
                "#B0BEC5",
                "#B0BEC5",
                "#B0BEC5",
                "#B0BEC5",
                "#B0BEC5",
                "#B0BEC5",
                "#B0BEC5",
                "#B0BEC5",
                "#B0BEC5",
                "#B0BEC5",
                "#B0BEC5",
                "#B0BEC5",
                "#B0BEC5",
                "#B0BEC5",
                "#B0BEC5",
                "#B0BEC5",
                "#B0BEC5",
                "#B0BEC5",
                "#B0BEC5",
                "#B0BEC5",
                "red",
                "#B0BEC5",
                "#B0BEC5",
                "#B0BEC5",
                "#B0BEC5",
                "#B0BEC5",
                "#B0BEC5",
                "#B0BEC5",
                "#B0BEC5",
                "#B0BEC5",
                "#B0BEC5",
                "#B0BEC5",
                "#B0BEC5",
                "#B0BEC5",
                "#B0BEC5",
                "#B0BEC5"
               ]
              ]
             }
            ],
            "label": "Topic 25",
            "method": "update"
           },
           {
            "args": [
             {
              "marker.color": [
               [
                "#B0BEC5",
                "#B0BEC5",
                "#B0BEC5",
                "#B0BEC5",
                "#B0BEC5",
                "#B0BEC5",
                "#B0BEC5",
                "#B0BEC5",
                "#B0BEC5",
                "#B0BEC5",
                "#B0BEC5",
                "#B0BEC5",
                "#B0BEC5",
                "#B0BEC5",
                "#B0BEC5",
                "#B0BEC5",
                "#B0BEC5",
                "#B0BEC5",
                "#B0BEC5",
                "#B0BEC5",
                "#B0BEC5",
                "#B0BEC5",
                "#B0BEC5",
                "#B0BEC5",
                "#B0BEC5",
                "#B0BEC5",
                "red",
                "#B0BEC5",
                "#B0BEC5",
                "#B0BEC5",
                "#B0BEC5",
                "#B0BEC5",
                "#B0BEC5",
                "#B0BEC5",
                "#B0BEC5",
                "#B0BEC5",
                "#B0BEC5",
                "#B0BEC5",
                "#B0BEC5",
                "#B0BEC5",
                "#B0BEC5"
               ]
              ]
             }
            ],
            "label": "Topic 26",
            "method": "update"
           },
           {
            "args": [
             {
              "marker.color": [
               [
                "#B0BEC5",
                "#B0BEC5",
                "#B0BEC5",
                "#B0BEC5",
                "#B0BEC5",
                "#B0BEC5",
                "#B0BEC5",
                "#B0BEC5",
                "#B0BEC5",
                "#B0BEC5",
                "#B0BEC5",
                "#B0BEC5",
                "#B0BEC5",
                "#B0BEC5",
                "#B0BEC5",
                "#B0BEC5",
                "#B0BEC5",
                "#B0BEC5",
                "#B0BEC5",
                "#B0BEC5",
                "#B0BEC5",
                "#B0BEC5",
                "#B0BEC5",
                "#B0BEC5",
                "#B0BEC5",
                "#B0BEC5",
                "#B0BEC5",
                "red",
                "#B0BEC5",
                "#B0BEC5",
                "#B0BEC5",
                "#B0BEC5",
                "#B0BEC5",
                "#B0BEC5",
                "#B0BEC5",
                "#B0BEC5",
                "#B0BEC5",
                "#B0BEC5",
                "#B0BEC5",
                "#B0BEC5",
                "#B0BEC5"
               ]
              ]
             }
            ],
            "label": "Topic 27",
            "method": "update"
           },
           {
            "args": [
             {
              "marker.color": [
               [
                "#B0BEC5",
                "#B0BEC5",
                "#B0BEC5",
                "#B0BEC5",
                "#B0BEC5",
                "#B0BEC5",
                "#B0BEC5",
                "#B0BEC5",
                "#B0BEC5",
                "#B0BEC5",
                "#B0BEC5",
                "#B0BEC5",
                "#B0BEC5",
                "#B0BEC5",
                "#B0BEC5",
                "#B0BEC5",
                "#B0BEC5",
                "#B0BEC5",
                "#B0BEC5",
                "#B0BEC5",
                "#B0BEC5",
                "#B0BEC5",
                "#B0BEC5",
                "#B0BEC5",
                "#B0BEC5",
                "#B0BEC5",
                "#B0BEC5",
                "#B0BEC5",
                "red",
                "#B0BEC5",
                "#B0BEC5",
                "#B0BEC5",
                "#B0BEC5",
                "#B0BEC5",
                "#B0BEC5",
                "#B0BEC5",
                "#B0BEC5",
                "#B0BEC5",
                "#B0BEC5",
                "#B0BEC5",
                "#B0BEC5"
               ]
              ]
             }
            ],
            "label": "Topic 28",
            "method": "update"
           },
           {
            "args": [
             {
              "marker.color": [
               [
                "#B0BEC5",
                "#B0BEC5",
                "#B0BEC5",
                "#B0BEC5",
                "#B0BEC5",
                "#B0BEC5",
                "#B0BEC5",
                "#B0BEC5",
                "#B0BEC5",
                "#B0BEC5",
                "#B0BEC5",
                "#B0BEC5",
                "#B0BEC5",
                "#B0BEC5",
                "#B0BEC5",
                "#B0BEC5",
                "#B0BEC5",
                "#B0BEC5",
                "#B0BEC5",
                "#B0BEC5",
                "#B0BEC5",
                "#B0BEC5",
                "#B0BEC5",
                "#B0BEC5",
                "#B0BEC5",
                "#B0BEC5",
                "#B0BEC5",
                "#B0BEC5",
                "#B0BEC5",
                "red",
                "#B0BEC5",
                "#B0BEC5",
                "#B0BEC5",
                "#B0BEC5",
                "#B0BEC5",
                "#B0BEC5",
                "#B0BEC5",
                "#B0BEC5",
                "#B0BEC5",
                "#B0BEC5",
                "#B0BEC5"
               ]
              ]
             }
            ],
            "label": "Topic 29",
            "method": "update"
           },
           {
            "args": [
             {
              "marker.color": [
               [
                "#B0BEC5",
                "#B0BEC5",
                "#B0BEC5",
                "#B0BEC5",
                "#B0BEC5",
                "#B0BEC5",
                "#B0BEC5",
                "#B0BEC5",
                "#B0BEC5",
                "#B0BEC5",
                "#B0BEC5",
                "#B0BEC5",
                "#B0BEC5",
                "#B0BEC5",
                "#B0BEC5",
                "#B0BEC5",
                "#B0BEC5",
                "#B0BEC5",
                "#B0BEC5",
                "#B0BEC5",
                "#B0BEC5",
                "#B0BEC5",
                "#B0BEC5",
                "#B0BEC5",
                "#B0BEC5",
                "#B0BEC5",
                "#B0BEC5",
                "#B0BEC5",
                "#B0BEC5",
                "#B0BEC5",
                "red",
                "#B0BEC5",
                "#B0BEC5",
                "#B0BEC5",
                "#B0BEC5",
                "#B0BEC5",
                "#B0BEC5",
                "#B0BEC5",
                "#B0BEC5",
                "#B0BEC5",
                "#B0BEC5"
               ]
              ]
             }
            ],
            "label": "Topic 30",
            "method": "update"
           },
           {
            "args": [
             {
              "marker.color": [
               [
                "#B0BEC5",
                "#B0BEC5",
                "#B0BEC5",
                "#B0BEC5",
                "#B0BEC5",
                "#B0BEC5",
                "#B0BEC5",
                "#B0BEC5",
                "#B0BEC5",
                "#B0BEC5",
                "#B0BEC5",
                "#B0BEC5",
                "#B0BEC5",
                "#B0BEC5",
                "#B0BEC5",
                "#B0BEC5",
                "#B0BEC5",
                "#B0BEC5",
                "#B0BEC5",
                "#B0BEC5",
                "#B0BEC5",
                "#B0BEC5",
                "#B0BEC5",
                "#B0BEC5",
                "#B0BEC5",
                "#B0BEC5",
                "#B0BEC5",
                "#B0BEC5",
                "#B0BEC5",
                "#B0BEC5",
                "#B0BEC5",
                "red",
                "#B0BEC5",
                "#B0BEC5",
                "#B0BEC5",
                "#B0BEC5",
                "#B0BEC5",
                "#B0BEC5",
                "#B0BEC5",
                "#B0BEC5",
                "#B0BEC5"
               ]
              ]
             }
            ],
            "label": "Topic 31",
            "method": "update"
           },
           {
            "args": [
             {
              "marker.color": [
               [
                "#B0BEC5",
                "#B0BEC5",
                "#B0BEC5",
                "#B0BEC5",
                "#B0BEC5",
                "#B0BEC5",
                "#B0BEC5",
                "#B0BEC5",
                "#B0BEC5",
                "#B0BEC5",
                "#B0BEC5",
                "#B0BEC5",
                "#B0BEC5",
                "#B0BEC5",
                "#B0BEC5",
                "#B0BEC5",
                "#B0BEC5",
                "#B0BEC5",
                "#B0BEC5",
                "#B0BEC5",
                "#B0BEC5",
                "#B0BEC5",
                "#B0BEC5",
                "#B0BEC5",
                "#B0BEC5",
                "#B0BEC5",
                "#B0BEC5",
                "#B0BEC5",
                "#B0BEC5",
                "#B0BEC5",
                "#B0BEC5",
                "#B0BEC5",
                "red",
                "#B0BEC5",
                "#B0BEC5",
                "#B0BEC5",
                "#B0BEC5",
                "#B0BEC5",
                "#B0BEC5",
                "#B0BEC5",
                "#B0BEC5"
               ]
              ]
             }
            ],
            "label": "Topic 32",
            "method": "update"
           },
           {
            "args": [
             {
              "marker.color": [
               [
                "#B0BEC5",
                "#B0BEC5",
                "#B0BEC5",
                "#B0BEC5",
                "#B0BEC5",
                "#B0BEC5",
                "#B0BEC5",
                "#B0BEC5",
                "#B0BEC5",
                "#B0BEC5",
                "#B0BEC5",
                "#B0BEC5",
                "#B0BEC5",
                "#B0BEC5",
                "#B0BEC5",
                "#B0BEC5",
                "#B0BEC5",
                "#B0BEC5",
                "#B0BEC5",
                "#B0BEC5",
                "#B0BEC5",
                "#B0BEC5",
                "#B0BEC5",
                "#B0BEC5",
                "#B0BEC5",
                "#B0BEC5",
                "#B0BEC5",
                "#B0BEC5",
                "#B0BEC5",
                "#B0BEC5",
                "#B0BEC5",
                "#B0BEC5",
                "#B0BEC5",
                "red",
                "#B0BEC5",
                "#B0BEC5",
                "#B0BEC5",
                "#B0BEC5",
                "#B0BEC5",
                "#B0BEC5",
                "#B0BEC5"
               ]
              ]
             }
            ],
            "label": "Topic 33",
            "method": "update"
           },
           {
            "args": [
             {
              "marker.color": [
               [
                "#B0BEC5",
                "#B0BEC5",
                "#B0BEC5",
                "#B0BEC5",
                "#B0BEC5",
                "#B0BEC5",
                "#B0BEC5",
                "#B0BEC5",
                "#B0BEC5",
                "#B0BEC5",
                "#B0BEC5",
                "#B0BEC5",
                "#B0BEC5",
                "#B0BEC5",
                "#B0BEC5",
                "#B0BEC5",
                "#B0BEC5",
                "#B0BEC5",
                "#B0BEC5",
                "#B0BEC5",
                "#B0BEC5",
                "#B0BEC5",
                "#B0BEC5",
                "#B0BEC5",
                "#B0BEC5",
                "#B0BEC5",
                "#B0BEC5",
                "#B0BEC5",
                "#B0BEC5",
                "#B0BEC5",
                "#B0BEC5",
                "#B0BEC5",
                "#B0BEC5",
                "#B0BEC5",
                "red",
                "#B0BEC5",
                "#B0BEC5",
                "#B0BEC5",
                "#B0BEC5",
                "#B0BEC5",
                "#B0BEC5"
               ]
              ]
             }
            ],
            "label": "Topic 34",
            "method": "update"
           },
           {
            "args": [
             {
              "marker.color": [
               [
                "#B0BEC5",
                "#B0BEC5",
                "#B0BEC5",
                "#B0BEC5",
                "#B0BEC5",
                "#B0BEC5",
                "#B0BEC5",
                "#B0BEC5",
                "#B0BEC5",
                "#B0BEC5",
                "#B0BEC5",
                "#B0BEC5",
                "#B0BEC5",
                "#B0BEC5",
                "#B0BEC5",
                "#B0BEC5",
                "#B0BEC5",
                "#B0BEC5",
                "#B0BEC5",
                "#B0BEC5",
                "#B0BEC5",
                "#B0BEC5",
                "#B0BEC5",
                "#B0BEC5",
                "#B0BEC5",
                "#B0BEC5",
                "#B0BEC5",
                "#B0BEC5",
                "#B0BEC5",
                "#B0BEC5",
                "#B0BEC5",
                "#B0BEC5",
                "#B0BEC5",
                "#B0BEC5",
                "#B0BEC5",
                "red",
                "#B0BEC5",
                "#B0BEC5",
                "#B0BEC5",
                "#B0BEC5",
                "#B0BEC5"
               ]
              ]
             }
            ],
            "label": "Topic 35",
            "method": "update"
           },
           {
            "args": [
             {
              "marker.color": [
               [
                "#B0BEC5",
                "#B0BEC5",
                "#B0BEC5",
                "#B0BEC5",
                "#B0BEC5",
                "#B0BEC5",
                "#B0BEC5",
                "#B0BEC5",
                "#B0BEC5",
                "#B0BEC5",
                "#B0BEC5",
                "#B0BEC5",
                "#B0BEC5",
                "#B0BEC5",
                "#B0BEC5",
                "#B0BEC5",
                "#B0BEC5",
                "#B0BEC5",
                "#B0BEC5",
                "#B0BEC5",
                "#B0BEC5",
                "#B0BEC5",
                "#B0BEC5",
                "#B0BEC5",
                "#B0BEC5",
                "#B0BEC5",
                "#B0BEC5",
                "#B0BEC5",
                "#B0BEC5",
                "#B0BEC5",
                "#B0BEC5",
                "#B0BEC5",
                "#B0BEC5",
                "#B0BEC5",
                "#B0BEC5",
                "#B0BEC5",
                "red",
                "#B0BEC5",
                "#B0BEC5",
                "#B0BEC5",
                "#B0BEC5"
               ]
              ]
             }
            ],
            "label": "Topic 36",
            "method": "update"
           },
           {
            "args": [
             {
              "marker.color": [
               [
                "#B0BEC5",
                "#B0BEC5",
                "#B0BEC5",
                "#B0BEC5",
                "#B0BEC5",
                "#B0BEC5",
                "#B0BEC5",
                "#B0BEC5",
                "#B0BEC5",
                "#B0BEC5",
                "#B0BEC5",
                "#B0BEC5",
                "#B0BEC5",
                "#B0BEC5",
                "#B0BEC5",
                "#B0BEC5",
                "#B0BEC5",
                "#B0BEC5",
                "#B0BEC5",
                "#B0BEC5",
                "#B0BEC5",
                "#B0BEC5",
                "#B0BEC5",
                "#B0BEC5",
                "#B0BEC5",
                "#B0BEC5",
                "#B0BEC5",
                "#B0BEC5",
                "#B0BEC5",
                "#B0BEC5",
                "#B0BEC5",
                "#B0BEC5",
                "#B0BEC5",
                "#B0BEC5",
                "#B0BEC5",
                "#B0BEC5",
                "#B0BEC5",
                "red",
                "#B0BEC5",
                "#B0BEC5",
                "#B0BEC5"
               ]
              ]
             }
            ],
            "label": "Topic 37",
            "method": "update"
           },
           {
            "args": [
             {
              "marker.color": [
               [
                "#B0BEC5",
                "#B0BEC5",
                "#B0BEC5",
                "#B0BEC5",
                "#B0BEC5",
                "#B0BEC5",
                "#B0BEC5",
                "#B0BEC5",
                "#B0BEC5",
                "#B0BEC5",
                "#B0BEC5",
                "#B0BEC5",
                "#B0BEC5",
                "#B0BEC5",
                "#B0BEC5",
                "#B0BEC5",
                "#B0BEC5",
                "#B0BEC5",
                "#B0BEC5",
                "#B0BEC5",
                "#B0BEC5",
                "#B0BEC5",
                "#B0BEC5",
                "#B0BEC5",
                "#B0BEC5",
                "#B0BEC5",
                "#B0BEC5",
                "#B0BEC5",
                "#B0BEC5",
                "#B0BEC5",
                "#B0BEC5",
                "#B0BEC5",
                "#B0BEC5",
                "#B0BEC5",
                "#B0BEC5",
                "#B0BEC5",
                "#B0BEC5",
                "#B0BEC5",
                "red",
                "#B0BEC5",
                "#B0BEC5"
               ]
              ]
             }
            ],
            "label": "Topic 38",
            "method": "update"
           },
           {
            "args": [
             {
              "marker.color": [
               [
                "#B0BEC5",
                "#B0BEC5",
                "#B0BEC5",
                "#B0BEC5",
                "#B0BEC5",
                "#B0BEC5",
                "#B0BEC5",
                "#B0BEC5",
                "#B0BEC5",
                "#B0BEC5",
                "#B0BEC5",
                "#B0BEC5",
                "#B0BEC5",
                "#B0BEC5",
                "#B0BEC5",
                "#B0BEC5",
                "#B0BEC5",
                "#B0BEC5",
                "#B0BEC5",
                "#B0BEC5",
                "#B0BEC5",
                "#B0BEC5",
                "#B0BEC5",
                "#B0BEC5",
                "#B0BEC5",
                "#B0BEC5",
                "#B0BEC5",
                "#B0BEC5",
                "#B0BEC5",
                "#B0BEC5",
                "#B0BEC5",
                "#B0BEC5",
                "#B0BEC5",
                "#B0BEC5",
                "#B0BEC5",
                "#B0BEC5",
                "#B0BEC5",
                "#B0BEC5",
                "#B0BEC5",
                "red",
                "#B0BEC5"
               ]
              ]
             }
            ],
            "label": "Topic 39",
            "method": "update"
           },
           {
            "args": [
             {
              "marker.color": [
               [
                "#B0BEC5",
                "#B0BEC5",
                "#B0BEC5",
                "#B0BEC5",
                "#B0BEC5",
                "#B0BEC5",
                "#B0BEC5",
                "#B0BEC5",
                "#B0BEC5",
                "#B0BEC5",
                "#B0BEC5",
                "#B0BEC5",
                "#B0BEC5",
                "#B0BEC5",
                "#B0BEC5",
                "#B0BEC5",
                "#B0BEC5",
                "#B0BEC5",
                "#B0BEC5",
                "#B0BEC5",
                "#B0BEC5",
                "#B0BEC5",
                "#B0BEC5",
                "#B0BEC5",
                "#B0BEC5",
                "#B0BEC5",
                "#B0BEC5",
                "#B0BEC5",
                "#B0BEC5",
                "#B0BEC5",
                "#B0BEC5",
                "#B0BEC5",
                "#B0BEC5",
                "#B0BEC5",
                "#B0BEC5",
                "#B0BEC5",
                "#B0BEC5",
                "#B0BEC5",
                "#B0BEC5",
                "#B0BEC5",
                "red"
               ]
              ]
             }
            ],
            "label": "Topic 40",
            "method": "update"
           }
          ]
         }
        ],
        "template": {
         "data": {
          "bar": [
           {
            "error_x": {
             "color": "rgb(36,36,36)"
            },
            "error_y": {
             "color": "rgb(36,36,36)"
            },
            "marker": {
             "line": {
              "color": "white",
              "width": 0.5
             },
             "pattern": {
              "fillmode": "overlay",
              "size": 10,
              "solidity": 0.2
             }
            },
            "type": "bar"
           }
          ],
          "barpolar": [
           {
            "marker": {
             "line": {
              "color": "white",
              "width": 0.5
             },
             "pattern": {
              "fillmode": "overlay",
              "size": 10,
              "solidity": 0.2
             }
            },
            "type": "barpolar"
           }
          ],
          "carpet": [
           {
            "aaxis": {
             "endlinecolor": "rgb(36,36,36)",
             "gridcolor": "white",
             "linecolor": "white",
             "minorgridcolor": "white",
             "startlinecolor": "rgb(36,36,36)"
            },
            "baxis": {
             "endlinecolor": "rgb(36,36,36)",
             "gridcolor": "white",
             "linecolor": "white",
             "minorgridcolor": "white",
             "startlinecolor": "rgb(36,36,36)"
            },
            "type": "carpet"
           }
          ],
          "choropleth": [
           {
            "colorbar": {
             "outlinewidth": 1,
             "tickcolor": "rgb(36,36,36)",
             "ticks": "outside"
            },
            "type": "choropleth"
           }
          ],
          "contour": [
           {
            "colorbar": {
             "outlinewidth": 1,
             "tickcolor": "rgb(36,36,36)",
             "ticks": "outside"
            },
            "colorscale": [
             [
              0,
              "#440154"
             ],
             [
              0.1111111111111111,
              "#482878"
             ],
             [
              0.2222222222222222,
              "#3e4989"
             ],
             [
              0.3333333333333333,
              "#31688e"
             ],
             [
              0.4444444444444444,
              "#26828e"
             ],
             [
              0.5555555555555556,
              "#1f9e89"
             ],
             [
              0.6666666666666666,
              "#35b779"
             ],
             [
              0.7777777777777778,
              "#6ece58"
             ],
             [
              0.8888888888888888,
              "#b5de2b"
             ],
             [
              1,
              "#fde725"
             ]
            ],
            "type": "contour"
           }
          ],
          "contourcarpet": [
           {
            "colorbar": {
             "outlinewidth": 1,
             "tickcolor": "rgb(36,36,36)",
             "ticks": "outside"
            },
            "type": "contourcarpet"
           }
          ],
          "heatmap": [
           {
            "colorbar": {
             "outlinewidth": 1,
             "tickcolor": "rgb(36,36,36)",
             "ticks": "outside"
            },
            "colorscale": [
             [
              0,
              "#440154"
             ],
             [
              0.1111111111111111,
              "#482878"
             ],
             [
              0.2222222222222222,
              "#3e4989"
             ],
             [
              0.3333333333333333,
              "#31688e"
             ],
             [
              0.4444444444444444,
              "#26828e"
             ],
             [
              0.5555555555555556,
              "#1f9e89"
             ],
             [
              0.6666666666666666,
              "#35b779"
             ],
             [
              0.7777777777777778,
              "#6ece58"
             ],
             [
              0.8888888888888888,
              "#b5de2b"
             ],
             [
              1,
              "#fde725"
             ]
            ],
            "type": "heatmap"
           }
          ],
          "heatmapgl": [
           {
            "colorbar": {
             "outlinewidth": 1,
             "tickcolor": "rgb(36,36,36)",
             "ticks": "outside"
            },
            "colorscale": [
             [
              0,
              "#440154"
             ],
             [
              0.1111111111111111,
              "#482878"
             ],
             [
              0.2222222222222222,
              "#3e4989"
             ],
             [
              0.3333333333333333,
              "#31688e"
             ],
             [
              0.4444444444444444,
              "#26828e"
             ],
             [
              0.5555555555555556,
              "#1f9e89"
             ],
             [
              0.6666666666666666,
              "#35b779"
             ],
             [
              0.7777777777777778,
              "#6ece58"
             ],
             [
              0.8888888888888888,
              "#b5de2b"
             ],
             [
              1,
              "#fde725"
             ]
            ],
            "type": "heatmapgl"
           }
          ],
          "histogram": [
           {
            "marker": {
             "line": {
              "color": "white",
              "width": 0.6
             }
            },
            "type": "histogram"
           }
          ],
          "histogram2d": [
           {
            "colorbar": {
             "outlinewidth": 1,
             "tickcolor": "rgb(36,36,36)",
             "ticks": "outside"
            },
            "colorscale": [
             [
              0,
              "#440154"
             ],
             [
              0.1111111111111111,
              "#482878"
             ],
             [
              0.2222222222222222,
              "#3e4989"
             ],
             [
              0.3333333333333333,
              "#31688e"
             ],
             [
              0.4444444444444444,
              "#26828e"
             ],
             [
              0.5555555555555556,
              "#1f9e89"
             ],
             [
              0.6666666666666666,
              "#35b779"
             ],
             [
              0.7777777777777778,
              "#6ece58"
             ],
             [
              0.8888888888888888,
              "#b5de2b"
             ],
             [
              1,
              "#fde725"
             ]
            ],
            "type": "histogram2d"
           }
          ],
          "histogram2dcontour": [
           {
            "colorbar": {
             "outlinewidth": 1,
             "tickcolor": "rgb(36,36,36)",
             "ticks": "outside"
            },
            "colorscale": [
             [
              0,
              "#440154"
             ],
             [
              0.1111111111111111,
              "#482878"
             ],
             [
              0.2222222222222222,
              "#3e4989"
             ],
             [
              0.3333333333333333,
              "#31688e"
             ],
             [
              0.4444444444444444,
              "#26828e"
             ],
             [
              0.5555555555555556,
              "#1f9e89"
             ],
             [
              0.6666666666666666,
              "#35b779"
             ],
             [
              0.7777777777777778,
              "#6ece58"
             ],
             [
              0.8888888888888888,
              "#b5de2b"
             ],
             [
              1,
              "#fde725"
             ]
            ],
            "type": "histogram2dcontour"
           }
          ],
          "mesh3d": [
           {
            "colorbar": {
             "outlinewidth": 1,
             "tickcolor": "rgb(36,36,36)",
             "ticks": "outside"
            },
            "type": "mesh3d"
           }
          ],
          "parcoords": [
           {
            "line": {
             "colorbar": {
              "outlinewidth": 1,
              "tickcolor": "rgb(36,36,36)",
              "ticks": "outside"
             }
            },
            "type": "parcoords"
           }
          ],
          "pie": [
           {
            "automargin": true,
            "type": "pie"
           }
          ],
          "scatter": [
           {
            "fillpattern": {
             "fillmode": "overlay",
             "size": 10,
             "solidity": 0.2
            },
            "type": "scatter"
           }
          ],
          "scatter3d": [
           {
            "line": {
             "colorbar": {
              "outlinewidth": 1,
              "tickcolor": "rgb(36,36,36)",
              "ticks": "outside"
             }
            },
            "marker": {
             "colorbar": {
              "outlinewidth": 1,
              "tickcolor": "rgb(36,36,36)",
              "ticks": "outside"
             }
            },
            "type": "scatter3d"
           }
          ],
          "scattercarpet": [
           {
            "marker": {
             "colorbar": {
              "outlinewidth": 1,
              "tickcolor": "rgb(36,36,36)",
              "ticks": "outside"
             }
            },
            "type": "scattercarpet"
           }
          ],
          "scattergeo": [
           {
            "marker": {
             "colorbar": {
              "outlinewidth": 1,
              "tickcolor": "rgb(36,36,36)",
              "ticks": "outside"
             }
            },
            "type": "scattergeo"
           }
          ],
          "scattergl": [
           {
            "marker": {
             "colorbar": {
              "outlinewidth": 1,
              "tickcolor": "rgb(36,36,36)",
              "ticks": "outside"
             }
            },
            "type": "scattergl"
           }
          ],
          "scattermapbox": [
           {
            "marker": {
             "colorbar": {
              "outlinewidth": 1,
              "tickcolor": "rgb(36,36,36)",
              "ticks": "outside"
             }
            },
            "type": "scattermapbox"
           }
          ],
          "scatterpolar": [
           {
            "marker": {
             "colorbar": {
              "outlinewidth": 1,
              "tickcolor": "rgb(36,36,36)",
              "ticks": "outside"
             }
            },
            "type": "scatterpolar"
           }
          ],
          "scatterpolargl": [
           {
            "marker": {
             "colorbar": {
              "outlinewidth": 1,
              "tickcolor": "rgb(36,36,36)",
              "ticks": "outside"
             }
            },
            "type": "scatterpolargl"
           }
          ],
          "scatterternary": [
           {
            "marker": {
             "colorbar": {
              "outlinewidth": 1,
              "tickcolor": "rgb(36,36,36)",
              "ticks": "outside"
             }
            },
            "type": "scatterternary"
           }
          ],
          "surface": [
           {
            "colorbar": {
             "outlinewidth": 1,
             "tickcolor": "rgb(36,36,36)",
             "ticks": "outside"
            },
            "colorscale": [
             [
              0,
              "#440154"
             ],
             [
              0.1111111111111111,
              "#482878"
             ],
             [
              0.2222222222222222,
              "#3e4989"
             ],
             [
              0.3333333333333333,
              "#31688e"
             ],
             [
              0.4444444444444444,
              "#26828e"
             ],
             [
              0.5555555555555556,
              "#1f9e89"
             ],
             [
              0.6666666666666666,
              "#35b779"
             ],
             [
              0.7777777777777778,
              "#6ece58"
             ],
             [
              0.8888888888888888,
              "#b5de2b"
             ],
             [
              1,
              "#fde725"
             ]
            ],
            "type": "surface"
           }
          ],
          "table": [
           {
            "cells": {
             "fill": {
              "color": "rgb(237,237,237)"
             },
             "line": {
              "color": "white"
             }
            },
            "header": {
             "fill": {
              "color": "rgb(217,217,217)"
             },
             "line": {
              "color": "white"
             }
            },
            "type": "table"
           }
          ]
         },
         "layout": {
          "annotationdefaults": {
           "arrowhead": 0,
           "arrowwidth": 1
          },
          "autotypenumbers": "strict",
          "coloraxis": {
           "colorbar": {
            "outlinewidth": 1,
            "tickcolor": "rgb(36,36,36)",
            "ticks": "outside"
           }
          },
          "colorscale": {
           "diverging": [
            [
             0,
             "rgb(103,0,31)"
            ],
            [
             0.1,
             "rgb(178,24,43)"
            ],
            [
             0.2,
             "rgb(214,96,77)"
            ],
            [
             0.3,
             "rgb(244,165,130)"
            ],
            [
             0.4,
             "rgb(253,219,199)"
            ],
            [
             0.5,
             "rgb(247,247,247)"
            ],
            [
             0.6,
             "rgb(209,229,240)"
            ],
            [
             0.7,
             "rgb(146,197,222)"
            ],
            [
             0.8,
             "rgb(67,147,195)"
            ],
            [
             0.9,
             "rgb(33,102,172)"
            ],
            [
             1,
             "rgb(5,48,97)"
            ]
           ],
           "sequential": [
            [
             0,
             "#440154"
            ],
            [
             0.1111111111111111,
             "#482878"
            ],
            [
             0.2222222222222222,
             "#3e4989"
            ],
            [
             0.3333333333333333,
             "#31688e"
            ],
            [
             0.4444444444444444,
             "#26828e"
            ],
            [
             0.5555555555555556,
             "#1f9e89"
            ],
            [
             0.6666666666666666,
             "#35b779"
            ],
            [
             0.7777777777777778,
             "#6ece58"
            ],
            [
             0.8888888888888888,
             "#b5de2b"
            ],
            [
             1,
             "#fde725"
            ]
           ],
           "sequentialminus": [
            [
             0,
             "#440154"
            ],
            [
             0.1111111111111111,
             "#482878"
            ],
            [
             0.2222222222222222,
             "#3e4989"
            ],
            [
             0.3333333333333333,
             "#31688e"
            ],
            [
             0.4444444444444444,
             "#26828e"
            ],
            [
             0.5555555555555556,
             "#1f9e89"
            ],
            [
             0.6666666666666666,
             "#35b779"
            ],
            [
             0.7777777777777778,
             "#6ece58"
            ],
            [
             0.8888888888888888,
             "#b5de2b"
            ],
            [
             1,
             "#fde725"
            ]
           ]
          },
          "colorway": [
           "#1F77B4",
           "#FF7F0E",
           "#2CA02C",
           "#D62728",
           "#9467BD",
           "#8C564B",
           "#E377C2",
           "#7F7F7F",
           "#BCBD22",
           "#17BECF"
          ],
          "font": {
           "color": "rgb(36,36,36)"
          },
          "geo": {
           "bgcolor": "white",
           "lakecolor": "white",
           "landcolor": "white",
           "showlakes": true,
           "showland": true,
           "subunitcolor": "white"
          },
          "hoverlabel": {
           "align": "left"
          },
          "hovermode": "closest",
          "mapbox": {
           "style": "light"
          },
          "paper_bgcolor": "white",
          "plot_bgcolor": "white",
          "polar": {
           "angularaxis": {
            "gridcolor": "rgb(232,232,232)",
            "linecolor": "rgb(36,36,36)",
            "showgrid": false,
            "showline": true,
            "ticks": "outside"
           },
           "bgcolor": "white",
           "radialaxis": {
            "gridcolor": "rgb(232,232,232)",
            "linecolor": "rgb(36,36,36)",
            "showgrid": false,
            "showline": true,
            "ticks": "outside"
           }
          },
          "scene": {
           "xaxis": {
            "backgroundcolor": "white",
            "gridcolor": "rgb(232,232,232)",
            "gridwidth": 2,
            "linecolor": "rgb(36,36,36)",
            "showbackground": true,
            "showgrid": false,
            "showline": true,
            "ticks": "outside",
            "zeroline": false,
            "zerolinecolor": "rgb(36,36,36)"
           },
           "yaxis": {
            "backgroundcolor": "white",
            "gridcolor": "rgb(232,232,232)",
            "gridwidth": 2,
            "linecolor": "rgb(36,36,36)",
            "showbackground": true,
            "showgrid": false,
            "showline": true,
            "ticks": "outside",
            "zeroline": false,
            "zerolinecolor": "rgb(36,36,36)"
           },
           "zaxis": {
            "backgroundcolor": "white",
            "gridcolor": "rgb(232,232,232)",
            "gridwidth": 2,
            "linecolor": "rgb(36,36,36)",
            "showbackground": true,
            "showgrid": false,
            "showline": true,
            "ticks": "outside",
            "zeroline": false,
            "zerolinecolor": "rgb(36,36,36)"
           }
          },
          "shapedefaults": {
           "fillcolor": "black",
           "line": {
            "width": 0
           },
           "opacity": 0.3
          },
          "ternary": {
           "aaxis": {
            "gridcolor": "rgb(232,232,232)",
            "linecolor": "rgb(36,36,36)",
            "showgrid": false,
            "showline": true,
            "ticks": "outside"
           },
           "baxis": {
            "gridcolor": "rgb(232,232,232)",
            "linecolor": "rgb(36,36,36)",
            "showgrid": false,
            "showline": true,
            "ticks": "outside"
           },
           "bgcolor": "white",
           "caxis": {
            "gridcolor": "rgb(232,232,232)",
            "linecolor": "rgb(36,36,36)",
            "showgrid": false,
            "showline": true,
            "ticks": "outside"
           }
          },
          "title": {
           "x": 0.05
          },
          "xaxis": {
           "automargin": true,
           "gridcolor": "rgb(232,232,232)",
           "linecolor": "rgb(36,36,36)",
           "showgrid": false,
           "showline": true,
           "ticks": "outside",
           "title": {
            "standoff": 15
           },
           "zeroline": false,
           "zerolinecolor": "rgb(36,36,36)"
          },
          "yaxis": {
           "automargin": true,
           "gridcolor": "rgb(232,232,232)",
           "linecolor": "rgb(36,36,36)",
           "showgrid": false,
           "showline": true,
           "ticks": "outside",
           "title": {
            "standoff": 15
           },
           "zeroline": false,
           "zerolinecolor": "rgb(36,36,36)"
          }
         }
        },
        "title": {
         "font": {
          "color": "Black",
          "size": 22
         },
         "text": "<b>Intertopic Distance Map</b>",
         "x": 0.5,
         "xanchor": "center",
         "y": 0.95,
         "yanchor": "top"
        },
        "width": 650,
        "xaxis": {
         "anchor": "y",
         "domain": [
          0,
          1
         ],
         "range": [
          -6.122713375091553,
          21.10734577178955
         ],
         "title": {
          "text": ""
         },
         "visible": false
        },
        "yaxis": {
         "anchor": "x",
         "domain": [
          0,
          1
         ],
         "range": [
          -10.844186687469483,
          25.654268646240233
         ],
         "title": {
          "text": ""
         },
         "visible": false
        }
       }
      }
     },
     "metadata": {},
     "output_type": "display_data"
    }
   ],
   "source": [
    "topic_model.visualize_topics()"
   ]
  },
  {
   "cell_type": "code",
   "execution_count": 191,
   "metadata": {},
   "outputs": [
    {
     "name": "stderr",
     "output_type": "stream",
     "text": [
      "100%|██████████| 17/17 [04:18<00:00, 15.18s/it]\n"
     ]
    },
    {
     "data": {
      "application/vnd.plotly.v1+json": {
       "config": {
        "plotlyServerURL": "https://plot.ly"
       },
       "data": [
        {
         "hoverinfo": "text",
         "marker": {
          "color": "rgb(61,153,112)"
         },
         "mode": "lines",
         "text": [
          "leadership_role model_leader_role_good leader",
          "",
          "",
          "good superior_superior_superiors_exemplary_confidence"
         ],
         "type": "scatter",
         "x": [
          0,
          0.3912244953350692,
          0.3912244953350692,
          0
         ],
         "xaxis": "x",
         "y": [
          -15,
          -15,
          -25,
          -25
         ],
         "yaxis": "y"
        },
        {
         "hoverinfo": "text",
         "marker": {
          "color": "rgb(61,153,112)"
         },
         "mode": "lines",
         "text": [
          "chef_chefs_supervise_authority_qualities",
          "",
          "",
          "leadership_good supervisor_good leader_leader_role model"
         ],
         "type": "scatter",
         "x": [
          0,
          0.5945267272970043,
          0.5945267272970043,
          0.3912244953350692
         ],
         "xaxis": "x",
         "y": [
          -5,
          -5,
          -20,
          -20
         ],
         "yaxis": "y"
        },
        {
         "hoverinfo": "text",
         "marker": {
          "color": "rgb(61,153,112)"
         },
         "mode": "lines",
         "text": [
          "collaborator_collaborators_cooperation_communicate_develop",
          "",
          "",
          "availability_listening_communicating_communication_clear communication"
         ],
         "type": "scatter",
         "x": [
          0,
          0.7602291232813475,
          0.7602291232813475,
          0
         ],
         "xaxis": "x",
         "y": [
          -35,
          -35,
          -45,
          -45
         ],
         "yaxis": "y"
        },
        {
         "hoverinfo": "text",
         "marker": {
          "color": "rgb(61,153,112)"
         },
         "mode": "lines",
         "text": [
          "leadership_leader_good leader_good supervisor_role model",
          "",
          "",
          "communication_collaborators_collaborator_facilitate_availability"
         ],
         "type": "scatter",
         "x": [
          0.5945267272970043,
          0.9333017858564238,
          0.9333017858564238,
          0.7602291232813475
         ],
         "xaxis": "x",
         "y": [
          -12.5,
          -12.5,
          -40,
          -40
         ],
         "yaxis": "y"
        },
        {
         "hoverinfo": "text",
         "marker": {
          "color": "rgb(255,65,54)"
         },
         "mode": "lines",
         "text": [
          "criticise_criticism_praise_criticisms_constructively",
          "",
          "",
          "support_supporting_availability_strong_perspective"
         ],
         "type": "scatter",
         "x": [
          0,
          0.9363830738576527,
          0.9363830738576527,
          0
         ],
         "xaxis": "x",
         "y": [
          -55,
          -55,
          -65,
          -65
         ],
         "yaxis": "y"
        },
        {
         "hoverinfo": "text",
         "marker": {
          "color": "rgb(255,65,54)"
         },
         "mode": "lines",
         "text": [
          "open ear_ear_ears_model_cover",
          "",
          "",
          "clear line_line_clear_clear communication_leader"
         ],
         "type": "scatter",
         "x": [
          0,
          0.8308399397071538,
          0.8308399397071538,
          0
         ],
         "xaxis": "x",
         "y": [
          -85,
          -85,
          -95,
          -95
         ],
         "yaxis": "y"
        },
        {
         "hoverinfo": "text",
         "marker": {
          "color": "rgb(255,65,54)"
         },
         "mode": "lines",
         "text": [
          "model_function_control_development_understanding",
          "",
          "",
          "open ear_ear_ears_clear communication_clear line"
         ],
         "type": "scatter",
         "x": [
          0,
          0.9006176434944457,
          0.9006176434944457,
          0.8308399397071538
         ],
         "xaxis": "x",
         "y": [
          -75,
          -75,
          -90,
          -90
         ],
         "yaxis": "y"
        },
        {
         "hoverinfo": "text",
         "marker": {
          "color": "rgb(255,65,54)"
         },
         "mode": "lines",
         "text": [
          "criticise_praise_criticism_constructively_constructive",
          "",
          "",
          "open ear_ear_ears_model_listening"
         ],
         "type": "scatter",
         "x": [
          0.9363830738576527,
          0.9842570919863252,
          0.9842570919863252,
          0.9006176434944457
         ],
         "xaxis": "x",
         "y": [
          -60,
          -60,
          -82.5,
          -82.5
         ],
         "yaxis": "y"
        },
        {
         "hoverinfo": "text",
         "marker": {
          "color": "rgb(35,205,205)"
         },
         "mode": "lines",
         "text": [
          "freedoms_freedom_competences_objectives_development",
          "",
          "",
          "sparring_coaching_partners_strategic_trust"
         ],
         "type": "scatter",
         "x": [
          0,
          0.7893416686063495,
          0.7893416686063495,
          0
         ],
         "xaxis": "x",
         "y": [
          -105,
          -105,
          -115,
          -115
         ],
         "yaxis": "y"
        },
        {
         "hoverinfo": "text",
         "marker": {
          "color": "rgb(35,205,205)"
         },
         "mode": "lines",
         "text": [
          "sparring_loyalty_partners_trust_attributes",
          "",
          "",
          "communication_open communication_eye level_conversations_meeting"
         ],
         "type": "scatter",
         "x": [
          0.7893416686063495,
          0.8628259921504356,
          0.8628259921504356,
          0
         ],
         "xaxis": "x",
         "y": [
          -110,
          -110,
          -125,
          -125
         ],
         "yaxis": "y"
        },
        {
         "hoverinfo": "text",
         "marker": {
          "color": "rgb(0,116,217)"
         },
         "mode": "lines",
         "text": [
          "open ear_ear_ears_model_clear line",
          "",
          "",
          "sparring_meetings_loyalty_promotion_partners"
         ],
         "type": "scatter",
         "x": [
          0.9842570919863252,
          1.0620384256258826,
          1.0620384256258826,
          0.8628259921504356
         ],
         "xaxis": "x",
         "y": [
          -71.25,
          -71.25,
          -117.5,
          -117.5
         ],
         "yaxis": "y"
        },
        {
         "hoverinfo": "text",
         "marker": {
          "color": "rgb(133,20,75)"
         },
         "mode": "lines",
         "text": [
          "respect_respectful_clear_soft_support",
          "",
          "",
          "appreciation_appreciable_achievements_progress_receive"
         ],
         "type": "scatter",
         "x": [
          0,
          0.9415042302860345,
          0.9415042302860345,
          0
         ],
         "xaxis": "x",
         "y": [
          -145,
          -145,
          -155,
          -155
         ],
         "yaxis": "y"
        },
        {
         "hoverinfo": "text",
         "marker": {
          "color": "rgb(133,20,75)"
         },
         "mode": "lines",
         "text": [
          "confidence_skills_attitude_motivation_mistakes",
          "",
          "",
          "respect_respectful_appreciation_progress_appreciable"
         ],
         "type": "scatter",
         "x": [
          0,
          0.9915930575736903,
          0.9915930575736903,
          0.9415042302860345
         ],
         "xaxis": "x",
         "y": [
          -135,
          -135,
          -150,
          -150
         ],
         "yaxis": "y"
        },
        {
         "hoverinfo": "text",
         "marker": {
          "color": "rgb(255,220,0)"
         },
         "mode": "lines",
         "text": [
          "exemplar_exemplarity_guided_vision_recognition",
          "",
          "",
          "example_good example_questions_understanding_ideas"
         ],
         "type": "scatter",
         "x": [
          0,
          0.946714373895259,
          0.946714373895259,
          0
         ],
         "xaxis": "x",
         "y": [
          -165,
          -165,
          -175,
          -175
         ],
         "yaxis": "y"
        },
        {
         "hoverinfo": "text",
         "marker": {
          "color": "rgb(0,116,217)"
         },
         "mode": "lines",
         "text": [
          "confidence_skills_attitude_respect_perceived",
          "",
          "",
          "exemplar_exemplarity_guided_actions_guide"
         ],
         "type": "scatter",
         "x": [
          0.9915930575736903,
          1.0263084380089937,
          1.0263084380089937,
          0.946714373895259
         ],
         "xaxis": "x",
         "y": [
          -142.5,
          -142.5,
          -170,
          -170
         ],
         "yaxis": "y"
        },
        {
         "hoverinfo": "text",
         "marker": {
          "color": "rgb(0,116,217)"
         },
         "mode": "lines",
         "text": [
          "sparring_partners_promotion_partner_trust",
          "",
          "",
          "exemplar_exemplarity_guided_advance_actions"
         ],
         "type": "scatter",
         "x": [
          1.0620384256258826,
          1.0927440727115483,
          1.0927440727115483,
          1.0263084380089937
         ],
         "xaxis": "x",
         "y": [
          -94.375,
          -94.375,
          -156.25,
          -156.25
         ],
         "yaxis": "y"
        },
        {
         "hoverinfo": "text",
         "marker": {
          "color": "rgb(0,116,217)"
         },
         "mode": "lines",
         "text": [
          "good supervisor_supervisor_leadership_good leader_competent",
          "",
          "",
          "sparring_partners_individualities_partner_confidence"
         ],
         "type": "scatter",
         "x": [
          0.9333017858564238,
          1.1978835233847949,
          1.1978835233847949,
          1.0927440727115483
         ],
         "xaxis": "x",
         "y": [
          -26.25,
          -26.25,
          -125.3125,
          -125.3125
         ],
         "yaxis": "y"
        },
        {
         "hoverinfo": "text",
         "hovertext": [
          "leadership_leader_good leader_good supervisor_role model",
          "criticise_praise_criticism_constructively_constructive",
          "sparring_loyalty_partners_trust_attributes",
          "open ear_ear_ears_model_clear line",
          "confidence_skills_attitude_respect_perceived",
          "sparring_partners_promotion_partner_trust",
          "good supervisor_supervisor_leadership_good leader_competent"
         ],
         "marker": {
          "color": "black"
         },
         "mode": "markers",
         "showlegend": false,
         "type": "scatter",
         "x": [
          0.5945267272970043,
          0.9363830738576527,
          0.7893416686063495,
          0.9842570919863252,
          0.9915930575736903,
          1.0620384256258826,
          0.9333017858564238
         ],
         "y": [
          -12.5,
          -60,
          -110,
          -71.25,
          -142.5,
          -94.375,
          -26.25
         ]
        },
        {
         "hoverinfo": "text",
         "hovertext": [
          "leadership_good supervisor_good leader_leader_role model",
          "communication_collaborators_collaborator_facilitate_availability",
          "open ear_ear_ears_clear communication_clear line",
          "open ear_ear_ears_model_listening",
          "sparring_meetings_loyalty_promotion_partners",
          "respect_respectful_appreciation_progress_appreciable",
          "exemplar_exemplarity_guided_actions_guide",
          "exemplar_exemplarity_guided_advance_actions",
          "sparring_partners_individualities_partner_confidence"
         ],
         "marker": {
          "color": "black"
         },
         "mode": "markers",
         "showlegend": false,
         "type": "scatter",
         "x": [
          0.3912244953350692,
          0.7602291232813475,
          0.8308399397071538,
          0.9006176434944457,
          0.8628259921504356,
          0.9415042302860345,
          0.946714373895259,
          1.0263084380089937,
          1.0927440727115483
         ],
         "y": [
          -20,
          -40,
          -90,
          -82.5,
          -117.5,
          -150,
          -170,
          -156.25,
          -125.3125
         ]
        }
       ],
       "layout": {
        "autosize": false,
        "height": 470,
        "hoverlabel": {
         "bgcolor": "white",
         "font": {
          "family": "Rockwell",
          "size": 16
         }
        },
        "hovermode": "closest",
        "plot_bgcolor": "#ECEFF1",
        "showlegend": false,
        "template": {
         "data": {
          "bar": [
           {
            "error_x": {
             "color": "#2a3f5f"
            },
            "error_y": {
             "color": "#2a3f5f"
            },
            "marker": {
             "line": {
              "color": "white",
              "width": 0.5
             },
             "pattern": {
              "fillmode": "overlay",
              "size": 10,
              "solidity": 0.2
             }
            },
            "type": "bar"
           }
          ],
          "barpolar": [
           {
            "marker": {
             "line": {
              "color": "white",
              "width": 0.5
             },
             "pattern": {
              "fillmode": "overlay",
              "size": 10,
              "solidity": 0.2
             }
            },
            "type": "barpolar"
           }
          ],
          "carpet": [
           {
            "aaxis": {
             "endlinecolor": "#2a3f5f",
             "gridcolor": "#C8D4E3",
             "linecolor": "#C8D4E3",
             "minorgridcolor": "#C8D4E3",
             "startlinecolor": "#2a3f5f"
            },
            "baxis": {
             "endlinecolor": "#2a3f5f",
             "gridcolor": "#C8D4E3",
             "linecolor": "#C8D4E3",
             "minorgridcolor": "#C8D4E3",
             "startlinecolor": "#2a3f5f"
            },
            "type": "carpet"
           }
          ],
          "choropleth": [
           {
            "colorbar": {
             "outlinewidth": 0,
             "ticks": ""
            },
            "type": "choropleth"
           }
          ],
          "contour": [
           {
            "colorbar": {
             "outlinewidth": 0,
             "ticks": ""
            },
            "colorscale": [
             [
              0,
              "#0d0887"
             ],
             [
              0.1111111111111111,
              "#46039f"
             ],
             [
              0.2222222222222222,
              "#7201a8"
             ],
             [
              0.3333333333333333,
              "#9c179e"
             ],
             [
              0.4444444444444444,
              "#bd3786"
             ],
             [
              0.5555555555555556,
              "#d8576b"
             ],
             [
              0.6666666666666666,
              "#ed7953"
             ],
             [
              0.7777777777777778,
              "#fb9f3a"
             ],
             [
              0.8888888888888888,
              "#fdca26"
             ],
             [
              1,
              "#f0f921"
             ]
            ],
            "type": "contour"
           }
          ],
          "contourcarpet": [
           {
            "colorbar": {
             "outlinewidth": 0,
             "ticks": ""
            },
            "type": "contourcarpet"
           }
          ],
          "heatmap": [
           {
            "colorbar": {
             "outlinewidth": 0,
             "ticks": ""
            },
            "colorscale": [
             [
              0,
              "#0d0887"
             ],
             [
              0.1111111111111111,
              "#46039f"
             ],
             [
              0.2222222222222222,
              "#7201a8"
             ],
             [
              0.3333333333333333,
              "#9c179e"
             ],
             [
              0.4444444444444444,
              "#bd3786"
             ],
             [
              0.5555555555555556,
              "#d8576b"
             ],
             [
              0.6666666666666666,
              "#ed7953"
             ],
             [
              0.7777777777777778,
              "#fb9f3a"
             ],
             [
              0.8888888888888888,
              "#fdca26"
             ],
             [
              1,
              "#f0f921"
             ]
            ],
            "type": "heatmap"
           }
          ],
          "heatmapgl": [
           {
            "colorbar": {
             "outlinewidth": 0,
             "ticks": ""
            },
            "colorscale": [
             [
              0,
              "#0d0887"
             ],
             [
              0.1111111111111111,
              "#46039f"
             ],
             [
              0.2222222222222222,
              "#7201a8"
             ],
             [
              0.3333333333333333,
              "#9c179e"
             ],
             [
              0.4444444444444444,
              "#bd3786"
             ],
             [
              0.5555555555555556,
              "#d8576b"
             ],
             [
              0.6666666666666666,
              "#ed7953"
             ],
             [
              0.7777777777777778,
              "#fb9f3a"
             ],
             [
              0.8888888888888888,
              "#fdca26"
             ],
             [
              1,
              "#f0f921"
             ]
            ],
            "type": "heatmapgl"
           }
          ],
          "histogram": [
           {
            "marker": {
             "pattern": {
              "fillmode": "overlay",
              "size": 10,
              "solidity": 0.2
             }
            },
            "type": "histogram"
           }
          ],
          "histogram2d": [
           {
            "colorbar": {
             "outlinewidth": 0,
             "ticks": ""
            },
            "colorscale": [
             [
              0,
              "#0d0887"
             ],
             [
              0.1111111111111111,
              "#46039f"
             ],
             [
              0.2222222222222222,
              "#7201a8"
             ],
             [
              0.3333333333333333,
              "#9c179e"
             ],
             [
              0.4444444444444444,
              "#bd3786"
             ],
             [
              0.5555555555555556,
              "#d8576b"
             ],
             [
              0.6666666666666666,
              "#ed7953"
             ],
             [
              0.7777777777777778,
              "#fb9f3a"
             ],
             [
              0.8888888888888888,
              "#fdca26"
             ],
             [
              1,
              "#f0f921"
             ]
            ],
            "type": "histogram2d"
           }
          ],
          "histogram2dcontour": [
           {
            "colorbar": {
             "outlinewidth": 0,
             "ticks": ""
            },
            "colorscale": [
             [
              0,
              "#0d0887"
             ],
             [
              0.1111111111111111,
              "#46039f"
             ],
             [
              0.2222222222222222,
              "#7201a8"
             ],
             [
              0.3333333333333333,
              "#9c179e"
             ],
             [
              0.4444444444444444,
              "#bd3786"
             ],
             [
              0.5555555555555556,
              "#d8576b"
             ],
             [
              0.6666666666666666,
              "#ed7953"
             ],
             [
              0.7777777777777778,
              "#fb9f3a"
             ],
             [
              0.8888888888888888,
              "#fdca26"
             ],
             [
              1,
              "#f0f921"
             ]
            ],
            "type": "histogram2dcontour"
           }
          ],
          "mesh3d": [
           {
            "colorbar": {
             "outlinewidth": 0,
             "ticks": ""
            },
            "type": "mesh3d"
           }
          ],
          "parcoords": [
           {
            "line": {
             "colorbar": {
              "outlinewidth": 0,
              "ticks": ""
             }
            },
            "type": "parcoords"
           }
          ],
          "pie": [
           {
            "automargin": true,
            "type": "pie"
           }
          ],
          "scatter": [
           {
            "fillpattern": {
             "fillmode": "overlay",
             "size": 10,
             "solidity": 0.2
            },
            "type": "scatter"
           }
          ],
          "scatter3d": [
           {
            "line": {
             "colorbar": {
              "outlinewidth": 0,
              "ticks": ""
             }
            },
            "marker": {
             "colorbar": {
              "outlinewidth": 0,
              "ticks": ""
             }
            },
            "type": "scatter3d"
           }
          ],
          "scattercarpet": [
           {
            "marker": {
             "colorbar": {
              "outlinewidth": 0,
              "ticks": ""
             }
            },
            "type": "scattercarpet"
           }
          ],
          "scattergeo": [
           {
            "marker": {
             "colorbar": {
              "outlinewidth": 0,
              "ticks": ""
             }
            },
            "type": "scattergeo"
           }
          ],
          "scattergl": [
           {
            "marker": {
             "colorbar": {
              "outlinewidth": 0,
              "ticks": ""
             }
            },
            "type": "scattergl"
           }
          ],
          "scattermapbox": [
           {
            "marker": {
             "colorbar": {
              "outlinewidth": 0,
              "ticks": ""
             }
            },
            "type": "scattermapbox"
           }
          ],
          "scatterpolar": [
           {
            "marker": {
             "colorbar": {
              "outlinewidth": 0,
              "ticks": ""
             }
            },
            "type": "scatterpolar"
           }
          ],
          "scatterpolargl": [
           {
            "marker": {
             "colorbar": {
              "outlinewidth": 0,
              "ticks": ""
             }
            },
            "type": "scatterpolargl"
           }
          ],
          "scatterternary": [
           {
            "marker": {
             "colorbar": {
              "outlinewidth": 0,
              "ticks": ""
             }
            },
            "type": "scatterternary"
           }
          ],
          "surface": [
           {
            "colorbar": {
             "outlinewidth": 0,
             "ticks": ""
            },
            "colorscale": [
             [
              0,
              "#0d0887"
             ],
             [
              0.1111111111111111,
              "#46039f"
             ],
             [
              0.2222222222222222,
              "#7201a8"
             ],
             [
              0.3333333333333333,
              "#9c179e"
             ],
             [
              0.4444444444444444,
              "#bd3786"
             ],
             [
              0.5555555555555556,
              "#d8576b"
             ],
             [
              0.6666666666666666,
              "#ed7953"
             ],
             [
              0.7777777777777778,
              "#fb9f3a"
             ],
             [
              0.8888888888888888,
              "#fdca26"
             ],
             [
              1,
              "#f0f921"
             ]
            ],
            "type": "surface"
           }
          ],
          "table": [
           {
            "cells": {
             "fill": {
              "color": "#EBF0F8"
             },
             "line": {
              "color": "white"
             }
            },
            "header": {
             "fill": {
              "color": "#C8D4E3"
             },
             "line": {
              "color": "white"
             }
            },
            "type": "table"
           }
          ]
         },
         "layout": {
          "annotationdefaults": {
           "arrowcolor": "#2a3f5f",
           "arrowhead": 0,
           "arrowwidth": 1
          },
          "autotypenumbers": "strict",
          "coloraxis": {
           "colorbar": {
            "outlinewidth": 0,
            "ticks": ""
           }
          },
          "colorscale": {
           "diverging": [
            [
             0,
             "#8e0152"
            ],
            [
             0.1,
             "#c51b7d"
            ],
            [
             0.2,
             "#de77ae"
            ],
            [
             0.3,
             "#f1b6da"
            ],
            [
             0.4,
             "#fde0ef"
            ],
            [
             0.5,
             "#f7f7f7"
            ],
            [
             0.6,
             "#e6f5d0"
            ],
            [
             0.7,
             "#b8e186"
            ],
            [
             0.8,
             "#7fbc41"
            ],
            [
             0.9,
             "#4d9221"
            ],
            [
             1,
             "#276419"
            ]
           ],
           "sequential": [
            [
             0,
             "#0d0887"
            ],
            [
             0.1111111111111111,
             "#46039f"
            ],
            [
             0.2222222222222222,
             "#7201a8"
            ],
            [
             0.3333333333333333,
             "#9c179e"
            ],
            [
             0.4444444444444444,
             "#bd3786"
            ],
            [
             0.5555555555555556,
             "#d8576b"
            ],
            [
             0.6666666666666666,
             "#ed7953"
            ],
            [
             0.7777777777777778,
             "#fb9f3a"
            ],
            [
             0.8888888888888888,
             "#fdca26"
            ],
            [
             1,
             "#f0f921"
            ]
           ],
           "sequentialminus": [
            [
             0,
             "#0d0887"
            ],
            [
             0.1111111111111111,
             "#46039f"
            ],
            [
             0.2222222222222222,
             "#7201a8"
            ],
            [
             0.3333333333333333,
             "#9c179e"
            ],
            [
             0.4444444444444444,
             "#bd3786"
            ],
            [
             0.5555555555555556,
             "#d8576b"
            ],
            [
             0.6666666666666666,
             "#ed7953"
            ],
            [
             0.7777777777777778,
             "#fb9f3a"
            ],
            [
             0.8888888888888888,
             "#fdca26"
            ],
            [
             1,
             "#f0f921"
            ]
           ]
          },
          "colorway": [
           "#636efa",
           "#EF553B",
           "#00cc96",
           "#ab63fa",
           "#FFA15A",
           "#19d3f3",
           "#FF6692",
           "#B6E880",
           "#FF97FF",
           "#FECB52"
          ],
          "font": {
           "color": "#2a3f5f"
          },
          "geo": {
           "bgcolor": "white",
           "lakecolor": "white",
           "landcolor": "white",
           "showlakes": true,
           "showland": true,
           "subunitcolor": "#C8D4E3"
          },
          "hoverlabel": {
           "align": "left"
          },
          "hovermode": "closest",
          "mapbox": {
           "style": "light"
          },
          "paper_bgcolor": "white",
          "plot_bgcolor": "white",
          "polar": {
           "angularaxis": {
            "gridcolor": "#EBF0F8",
            "linecolor": "#EBF0F8",
            "ticks": ""
           },
           "bgcolor": "white",
           "radialaxis": {
            "gridcolor": "#EBF0F8",
            "linecolor": "#EBF0F8",
            "ticks": ""
           }
          },
          "scene": {
           "xaxis": {
            "backgroundcolor": "white",
            "gridcolor": "#DFE8F3",
            "gridwidth": 2,
            "linecolor": "#EBF0F8",
            "showbackground": true,
            "ticks": "",
            "zerolinecolor": "#EBF0F8"
           },
           "yaxis": {
            "backgroundcolor": "white",
            "gridcolor": "#DFE8F3",
            "gridwidth": 2,
            "linecolor": "#EBF0F8",
            "showbackground": true,
            "ticks": "",
            "zerolinecolor": "#EBF0F8"
           },
           "zaxis": {
            "backgroundcolor": "white",
            "gridcolor": "#DFE8F3",
            "gridwidth": 2,
            "linecolor": "#EBF0F8",
            "showbackground": true,
            "ticks": "",
            "zerolinecolor": "#EBF0F8"
           }
          },
          "shapedefaults": {
           "line": {
            "color": "#2a3f5f"
           }
          },
          "ternary": {
           "aaxis": {
            "gridcolor": "#DFE8F3",
            "linecolor": "#A2B1C6",
            "ticks": ""
           },
           "baxis": {
            "gridcolor": "#DFE8F3",
            "linecolor": "#A2B1C6",
            "ticks": ""
           },
           "bgcolor": "white",
           "caxis": {
            "gridcolor": "#DFE8F3",
            "linecolor": "#A2B1C6",
            "ticks": ""
           }
          },
          "title": {
           "x": 0.05
          },
          "xaxis": {
           "automargin": true,
           "gridcolor": "#EBF0F8",
           "linecolor": "#EBF0F8",
           "ticks": "",
           "title": {
            "standoff": 15
           },
           "zerolinecolor": "#EBF0F8",
           "zerolinewidth": 2
          },
          "yaxis": {
           "automargin": true,
           "gridcolor": "#EBF0F8",
           "linecolor": "#EBF0F8",
           "ticks": "",
           "title": {
            "standoff": 15
           },
           "zerolinecolor": "#EBF0F8",
           "zerolinewidth": 2
          }
         }
        },
        "title": {
         "font": {
          "color": "Black",
          "size": 22
         },
         "text": "<b>Hierarchical Clustering</b>",
         "x": 0.5,
         "xanchor": "center",
         "yanchor": "top"
        },
        "width": 1000,
        "xaxis": {
         "mirror": "allticks",
         "rangemode": "tozero",
         "showgrid": false,
         "showline": true,
         "showticklabels": true,
         "ticks": "outside",
         "type": "linear",
         "zeroline": false
        },
        "yaxis": {
         "mirror": "allticks",
         "range": [
          -180,
          0
         ],
         "rangemode": "tozero",
         "showgrid": false,
         "showline": true,
         "showticklabels": true,
         "tickmode": "array",
         "ticks": "outside",
         "ticktext": [
          "3_chef_chefs_supervise",
          "0_leadership_role model_lea...",
          "1_good superior_superior_su...",
          "6_collaborator_collaborator...",
          "2_availability_listening_co...",
          "14_criticise_criticism_praise",
          "15_support_supporting_avail...",
          "9_model_function_control",
          "7_open ear_ear_ears",
          "13_clear line_line_clear",
          "16_freedoms_freedom_compete...",
          "5_sparring_coaching_partners",
          "17_communication_open commu...",
          "10_confidence_skills_attitude",
          "8_respect_respectful_clear",
          "12_appreciation_appreciable...",
          "11_exemplar_exemplarity_gui...",
          "4_example_good example_ques..."
         ],
         "tickvals": [
          -5,
          -15,
          -25,
          -35,
          -45,
          -55,
          -65,
          -75,
          -85,
          -95,
          -105,
          -115,
          -125,
          -135,
          -145,
          -155,
          -165,
          -175
         ],
         "type": "linear",
         "zeroline": false
        }
       }
      }
     },
     "metadata": {},
     "output_type": "display_data"
    }
   ],
   "source": [
    "hierarchical_topics = topic_model.hierarchical_topics(docs)\n",
    "topic_model.visualize_hierarchy(hierarchical_topics=hierarchical_topics)"
   ]
  },
  {
   "cell_type": "code",
   "execution_count": 34,
   "metadata": {},
   "outputs": [
    {
     "data": {
      "application/vnd.plotly.v1+json": {
       "config": {
        "plotlyServerURL": "https://plot.ly"
       },
       "data": [
        {
         "marker": {
          "color": "#D55E00"
         },
         "orientation": "h",
         "type": "bar",
         "x": [
          0.48524439334869385,
          0.4874882400035858,
          0.507270872592926,
          0.5151599645614624,
          0.5515519380569458
         ],
         "xaxis": "x",
         "y": [
          "team leader  ",
          "leaderhip  ",
          "leader able  ",
          "leader  ",
          "leader leader  "
         ],
         "yaxis": "y"
        },
        {
         "marker": {
          "color": "#0072B2"
         },
         "orientation": "h",
         "type": "bar",
         "x": [
          0.44586241245269775,
          0.45010286569595337,
          0.4567534923553467,
          0.47822943329811096,
          0.524509072303772
         ],
         "xaxis": "x2",
         "y": [
          "promotes employee  ",
          "trust employee  ",
          "management  ",
          "role model  ",
          "skills  "
         ],
         "yaxis": "y2"
        },
        {
         "marker": {
          "color": "#CC79A7"
         },
         "orientation": "h",
         "type": "bar",
         "x": [
          0.40605708956718445,
          0.4079199433326721,
          0.40882980823516846,
          0.42330530285835266,
          0.4605686068534851
         ],
         "xaxis": "x3",
         "y": [
          "role model  ",
          "employee sufficient  ",
          "employee human  ",
          "employee employee  ",
          "trust employee  "
         ],
         "yaxis": "y3"
        },
        {
         "marker": {
          "color": "#E69F00"
         },
         "orientation": "h",
         "type": "bar",
         "x": [
          0.40861737728118896,
          0.4125373363494873,
          0.4140655994415283,
          0.4548199474811554,
          0.49538516998291016
         ],
         "xaxis": "x4",
         "y": [
          "pleasure visionary  ",
          "colleague  ",
          "collaborator  ",
          "leader guide  ",
          "naturally respected  "
         ],
         "yaxis": "y4"
        },
        {
         "marker": {
          "color": "#56B4E9"
         },
         "orientation": "h",
         "type": "bar",
         "x": [
          0.333075612783432,
          0.34168681502342224,
          0.4089440703392029,
          0.4898133873939514,
          0.4940309226512909
         ],
         "xaxis": "x5",
         "y": [
          "evaluation staff  ",
          "characteristics trustworthy  ",
          "characteristics skills  ",
          "consistent leaderhip  ",
          "dominate unnecessarily  "
         ],
         "yaxis": "y5"
        },
        {
         "marker": {
          "color": "#009E73"
         },
         "orientation": "h",
         "type": "bar",
         "x": [
          0.6342153549194336,
          0.6658933162689209,
          0.6769107580184937,
          0.6976426839828491,
          0.7151353359222412
         ],
         "xaxis": "x6",
         "y": [
          "example listen  ",
          "listen communicate  ",
          "listen supports  ",
          "listen availability  ",
          "availability listen  "
         ],
         "yaxis": "y6"
        },
        {
         "marker": {
          "color": "#F0E442"
         },
         "orientation": "h",
         "type": "bar",
         "x": [
          0.6748102903366089,
          0.6867274045944214,
          0.6977642774581909,
          0.7152218818664551,
          0.7861272096633911
         ],
         "xaxis": "x7",
         "y": [
          "exemplary human  ",
          "exemplary motivate  ",
          "disciplined exemplary  ",
          "exemplary responsibilities  ",
          "employee exemplary  "
         ],
         "yaxis": "y7"
        },
        {
         "marker": {
          "color": "#D55E00"
         },
         "orientation": "h",
         "type": "bar",
         "x": [
          0.47013771533966064,
          0.5025107860565186,
          0.5223184823989868,
          0.570736825466156,
          0.6302376985549927
         ],
         "xaxis": "x8",
         "y": [
          "develop employee  ",
          "helps subordinates  ",
          "motivate employee  ",
          "management  ",
          "qualities management  "
         ],
         "yaxis": "y8"
        },
        {
         "marker": {
          "color": "#0072B2"
         },
         "orientation": "h",
         "type": "bar",
         "x": [
          0.4319028854370117,
          0.4323561191558838,
          0.4468769133090973,
          0.5062121152877808,
          0.5167884826660156
         ],
         "xaxis": "x9",
         "y": [
          "personality backbone  ",
          "able trust  ",
          "build trust  ",
          "loyal subordinates  ",
          "provides skills  "
         ],
         "yaxis": "y9"
        },
        {
         "marker": {
          "color": "#CC79A7"
         },
         "orientation": "h",
         "type": "bar",
         "x": [
          0.5558784008026123,
          0.5574581027030945,
          0.5629677176475525,
          0.5670127868652344,
          0.6207817196846008
         ],
         "xaxis": "x10",
         "y": [
          "potential collaborator  ",
          "listens collaborator  ",
          "support collaborator  ",
          "collaborator justify  ",
          "collaborator respect  "
         ],
         "yaxis": "y10"
        },
        {
         "marker": {
          "color": "#E69F00"
         },
         "orientation": "h",
         "type": "bar",
         "x": [
          0.4937634766101837,
          0.5061587691307068,
          0.5076658725738525,
          0.5191912651062012,
          0.5259422063827515
         ],
         "xaxis": "x11",
         "y": [
          "given employee  ",
          "employee design  ",
          "role responsibility  ",
          "inspire employee  ",
          "assists employee  "
         ],
         "yaxis": "y11"
        },
        {
         "marker": {
          "color": "#56B4E9"
         },
         "orientation": "h",
         "type": "bar",
         "x": [
          0.5670133829116821,
          0.5734176635742188,
          0.5759227275848389,
          0.593355119228363,
          0.6555681228637695
         ],
         "xaxis": "x12",
         "y": [
          "leading employee  ",
          "lead promotes  ",
          "lead example  ",
          "lead loyal  ",
          "employee lead  "
         ],
         "yaxis": "y12"
        },
        {
         "marker": {
          "color": "#009E73"
         },
         "orientation": "h",
         "type": "bar",
         "x": [
          0.5483115911483765,
          0.5563374757766724,
          0.5812163352966309,
          0.6311094164848328,
          0.6694540977478027
         ],
         "xaxis": "x13",
         "y": [
          "loyal courteous  ",
          "honest competent  ",
          "loyal competent  ",
          "communicative loyal  ",
          "qualities competent  "
         ],
         "yaxis": "y13"
        },
        {
         "marker": {
          "color": "#F0E442"
         },
         "orientation": "h",
         "type": "bar",
         "x": [
          0.5555460453033447,
          0.5768911242485046,
          0.5952026844024658,
          0.6230282783508301,
          0.633903980255127
         ],
         "xaxis": "x14",
         "y": [
          "communication skills  ",
          "social skills  ",
          "management ability  ",
          "skills strength  ",
          "skills  "
         ],
         "yaxis": "y14"
        },
        {
         "marker": {
          "color": "#D55E00"
         },
         "orientation": "h",
         "type": "bar",
         "x": [
          0.6939778923988342,
          0.7092636227607727,
          0.7251013517379761,
          0.7472704648971558,
          0.7634721994400024
         ],
         "xaxis": "x15",
         "y": [
          "chef properly  ",
          "oriented chef  ",
          "chef motivate  ",
          "chef employee  ",
          "employee chef  "
         ],
         "yaxis": "y15"
        },
        {
         "marker": {
          "color": "#0072B2"
         },
         "orientation": "h",
         "type": "bar",
         "x": [
          0.3296871781349182,
          0.34551694989204407,
          0.35165196657180786,
          0.38834261894226074,
          0.3981396555900574
         ],
         "xaxis": "x16",
         "y": [
          "openly respectfully  ",
          "represent concerns  ",
          "strengthens individual  ",
          "exemplary supportive  ",
          "work competent  "
         ],
         "yaxis": "y16"
        },
        {
         "marker": {
          "color": "#CC79A7"
         },
         "orientation": "h",
         "type": "bar",
         "x": [
          0.6113598346710205,
          0.613107442855835,
          0.6218357682228088,
          0.6261167526245117,
          0.6334529519081116
         ],
         "xaxis": "x17",
         "y": [
          "promotethe model  ",
          "model engagement  ",
          "model honesty  ",
          "model  ",
          "model respectful  "
         ],
         "yaxis": "y17"
        },
        {
         "marker": {
          "color": "#E69F00"
         },
         "orientation": "h",
         "type": "bar",
         "x": [
          0.6094657778739929,
          0.616557240486145,
          0.6452347636222839,
          0.6944202780723572,
          0.7003719806671143
         ],
         "xaxis": "x18",
         "y": [
          "motivate  ",
          "unifying motivate  ",
          "motivation praise  ",
          "listen motivate  ",
          "motivate listen  "
         ],
         "yaxis": "y18"
        },
        {
         "marker": {
          "color": "#56B4E9"
         },
         "orientation": "h",
         "type": "bar",
         "x": [
          0.5951625108718872,
          0.5958882570266724,
          0.6188081502914429,
          0.6198488473892212,
          0.6852874755859375
         ],
         "xaxis": "x19",
         "y": [
          "fair equality  ",
          "equality fair  ",
          "interaction respectful  ",
          "respectful fair  ",
          "respectful handling  "
         ],
         "yaxis": "y19"
        },
        {
         "marker": {
          "color": "#009E73"
         },
         "orientation": "h",
         "type": "bar",
         "x": [
          0.7448903322219849,
          0.7498663663864136,
          0.7726407051086426,
          0.8358597159385681,
          0.8407384157180786
         ],
         "xaxis": "x20",
         "y": [
          "transparency communication  ",
          "transparency requirements  ",
          "transparency accessibility  ",
          "transparency support  ",
          "support transparency  "
         ],
         "yaxis": "y20"
        },
        {
         "marker": {
          "color": "#F0E442"
         },
         "orientation": "h",
         "type": "bar",
         "x": [
          0.4679281711578369,
          0.4730188846588135,
          0.4767364263534546,
          0.5854714512825012,
          0.642253041267395
         ],
         "xaxis": "x21",
         "y": [
          "rigor fair  ",
          "exemplarity rigor  ",
          "listen fair  ",
          "fair performance  ",
          "example fair  "
         ],
         "yaxis": "y21"
        },
        {
         "marker": {
          "color": "#D55E00"
         },
         "orientation": "h",
         "type": "bar",
         "x": [
          0.44178903102874756,
          0.44264015555381775,
          0.44736629724502563,
          0.6730939745903015,
          0.735297441482544
         ],
         "xaxis": "x22",
         "y": [
          "team knowledge  ",
          "cooperation team  ",
          "trust coach  ",
          "sparring  ",
          "sparring partner  "
         ],
         "yaxis": "y22"
        },
        {
         "marker": {
          "color": "#0072B2"
         },
         "orientation": "h",
         "type": "bar",
         "x": [
          0.6729602813720703,
          0.7077646851539612,
          0.7401508688926697,
          0.7980135083198547,
          0.800396203994751
         ],
         "xaxis": "x23",
         "y": [
          "professional competence  ",
          "technical competence  ",
          "skills social  ",
          "social competence  ",
          "competence social  "
         ],
         "yaxis": "y23"
        },
        {
         "marker": {
          "color": "#CC79A7"
         },
         "orientation": "h",
         "type": "bar",
         "x": [
          0.6912749409675598,
          0.6962813138961792,
          0.698535680770874,
          0.7144596576690674,
          0.741769552230835
         ],
         "xaxis": "x24",
         "y": [
          "trust understanding  ",
          "trust mutual  ",
          "trust guided  ",
          "trust support  ",
          "support trust  "
         ],
         "yaxis": "y24"
        },
        {
         "marker": {
          "color": "#E69F00"
         },
         "orientation": "h",
         "type": "bar",
         "x": [
          0.6826790571212769,
          0.6872995495796204,
          0.6905672550201416,
          0.7072098255157471,
          0.7268880605697632
         ],
         "xaxis": "x25",
         "y": [
          "model fair  ",
          "fair model  ",
          "model  ",
          "model informed  ",
          "model predictable  "
         ],
         "yaxis": "y25"
        },
        {
         "marker": {
          "color": "#56B4E9"
         },
         "orientation": "h",
         "type": "bar",
         "x": [
          0.5169796943664551,
          0.531005322933197,
          0.5537640452384949,
          0.5562579035758972,
          0.5755636692047119
         ],
         "xaxis": "x26",
         "y": [
          "stakeholders  ",
          "prompt feedback  ",
          "communication focus  ",
          "communicate expectations  ",
          "communication clear  "
         ],
         "yaxis": "y26"
        },
        {
         "marker": {
          "color": "#009E73"
         },
         "orientation": "h",
         "type": "bar",
         "x": [
          0.6919798851013184,
          0.6972155570983887,
          0.7041269540786743,
          0.7131567001342773,
          0.7324472665786743
         ],
         "xaxis": "x27",
         "y": [
          "involve collaborator  ",
          "collaborator trust  ",
          "competent collaborator  ",
          "motivate collaborator  ",
          "collaborator employee  "
         ],
         "yaxis": "y27"
        },
        {
         "marker": {
          "color": "#F0E442"
         },
         "orientation": "h",
         "type": "bar",
         "x": [
          0.4475063681602478,
          0.4569917321205139,
          0.4789615273475647,
          0.49517834186553955,
          0.5547776222229004
         ],
         "xaxis": "x28",
         "y": [
          "honesty trust  ",
          "honesty commitment  ",
          "loyalty consistency  ",
          "loyalty  ",
          "honesty loyalty  "
         ],
         "yaxis": "y28"
        },
        {
         "marker": {
          "color": "#D55E00"
         },
         "orientation": "h",
         "type": "bar",
         "x": [
          0.5541695356369019,
          0.5591111183166504,
          0.565310001373291,
          0.7047165632247925,
          0.9566985964775085
         ],
         "xaxis": "x29",
         "y": [
          "open model  ",
          "function understanding  ",
          "function  ",
          "model  ",
          "model function  "
         ],
         "yaxis": "y29"
        },
        {
         "marker": {
          "color": "#0072B2"
         },
         "orientation": "h",
         "type": "bar",
         "x": [
          0.6747011542320251,
          0.6791073679924011,
          0.749277651309967,
          0.7961483001708984,
          0.8110592365264893
         ],
         "xaxis": "x30",
         "y": [
          "trust challenging  ",
          "transparency guidance  ",
          "communication trust  ",
          "transparency trust  ",
          "trust transparency  "
         ],
         "yaxis": "y30"
        },
        {
         "marker": {
          "color": "#CC79A7"
         },
         "orientation": "h",
         "type": "bar",
         "x": [
          0.7313982248306274,
          0.7657551765441895,
          0.7853968143463135,
          0.8918968439102173,
          0.8975521922111511
         ],
         "xaxis": "x31",
         "y": [
          "fair respect  ",
          "expect respect  ",
          "respectful  ",
          "respect fair  ",
          "respect  "
         ],
         "yaxis": "y31"
        },
        {
         "marker": {
          "color": "#E69F00"
         },
         "orientation": "h",
         "type": "bar",
         "x": [
          0.6221605539321899,
          0.6335461139678955,
          0.6373318433761597,
          0.8147268295288086,
          0.9441055059432983
         ],
         "xaxis": "x32",
         "y": [
          "exemplarity work  ",
          "exemplarity  ",
          "exemplarity recognition  ",
          "exemplar  ",
          "guided exemplar  "
         ],
         "yaxis": "y32"
        },
        {
         "marker": {
          "color": "#56B4E9"
         },
         "orientation": "h",
         "type": "bar",
         "x": [
          0.7384518384933472,
          0.7439687252044678,
          0.7679474353790283,
          0.7739490270614624,
          0.8174923658370972
         ],
         "xaxis": "x33",
         "y": [
          "respect cooperation  ",
          "cooperation honesty  ",
          "cooperation trust  ",
          "trust cooperation  ",
          "trustful cooperation  "
         ],
         "yaxis": "y33"
        },
        {
         "marker": {
          "color": "#009E73"
         },
         "orientation": "h",
         "type": "bar",
         "x": [
          0.520781934261322,
          0.5216777324676514,
          0.5243053436279297,
          0.5510700941085815,
          0.5957605838775635
         ],
         "xaxis": "x34",
         "y": [
          "responsibilities  ",
          "achieving goals  ",
          "goals tasks  ",
          "tasks competencies  ",
          "competencies responsability  "
         ],
         "yaxis": "y34"
        },
        {
         "marker": {
          "color": "#F0E442"
         },
         "orientation": "h",
         "type": "bar",
         "x": [
          0.4915580749511719,
          0.5448635816574097,
          0.6349277496337891,
          0.6434751749038696,
          0.6833139657974243
         ],
         "xaxis": "x35",
         "y": [
          "concerns open  ",
          "ear  ",
          "ear concerns  ",
          "ear open  ",
          "open ear  "
         ],
         "yaxis": "y35"
        },
        {
         "marker": {
          "color": "#D55E00"
         },
         "orientation": "h",
         "type": "bar",
         "x": [
          0.6939438581466675,
          0.7332971096038818,
          0.7828081846237183,
          0.8327749967575073,
          0.896422266960144
         ],
         "xaxis": "x36",
         "y": [
          "confidence transfer  ",
          "confidence liability  ",
          "confidence freedom  ",
          "confidence respect  ",
          "confidence  "
         ],
         "yaxis": "y36"
        },
        {
         "marker": {
          "color": "#0072B2"
         },
         "orientation": "h",
         "type": "bar",
         "x": [
          0.5765352249145508,
          0.6487460136413574,
          0.6487700343132019,
          0.710598349571228,
          0.7123157978057861
         ],
         "xaxis": "x37",
         "y": [
          "clear  ",
          "clear statements  ",
          "clear information  ",
          "example clear  ",
          "clear line  "
         ],
         "yaxis": "y37"
        },
        {
         "marker": {
          "color": "#CC79A7"
         },
         "orientation": "h",
         "type": "bar",
         "x": [
          0.5675652027130127,
          0.5690387487411499,
          0.5774860382080078,
          0.6074537038803101,
          0.6370888948440552
         ],
         "xaxis": "x38",
         "y": [
          "feedback constructive  ",
          "maintain communication  ",
          "communication  ",
          "honest communication  ",
          "feedback culture  "
         ],
         "yaxis": "y38"
        },
        {
         "marker": {
          "color": "#E69F00"
         },
         "orientation": "h",
         "type": "bar",
         "x": [
          0.7562159299850464,
          0.8129136562347412,
          0.824627161026001,
          0.888751745223999,
          0.9247077703475952
         ],
         "xaxis": "x39",
         "y": [
          "listener trust  ",
          "trust trust  ",
          "trust  ",
          "trust listen  ",
          "listen trust  "
         ],
         "yaxis": "y39"
        },
        {
         "marker": {
          "color": "#56B4E9"
         },
         "orientation": "h",
         "type": "bar",
         "x": [
          0.48061299324035645,
          0.5013154745101929,
          0.5155972838401794,
          0.5249025225639343,
          0.5895005464553833
         ],
         "xaxis": "x40",
         "y": [
          "expect listen  ",
          "expect tasks  ",
          "expectations  ",
          "valued expect  ",
          "expect competent  "
         ],
         "yaxis": "y40"
        },
        {
         "marker": {
          "color": "#009E73"
         },
         "orientation": "h",
         "type": "bar",
         "x": [
          0.6415250301361084,
          0.6520926356315613,
          0.7027533054351807,
          0.7112702131271362,
          0.7380754947662354
         ],
         "xaxis": "x41",
         "y": [
          "coherence humanity  ",
          "recognition humanity  ",
          "humanity understanding  ",
          "humanity  ",
          "understanding humanity  "
         ],
         "yaxis": "y41"
        }
       ],
       "layout": {
        "annotations": [
         {
          "font": {
           "size": 16
          },
          "showarrow": false,
          "text": "Topic 0",
          "x": 0.0875,
          "xanchor": "center",
          "xref": "paper",
          "y": 1,
          "yanchor": "bottom",
          "yref": "paper"
         },
         {
          "font": {
           "size": 16
          },
          "showarrow": false,
          "text": "Topic 1",
          "x": 0.36250000000000004,
          "xanchor": "center",
          "xref": "paper",
          "y": 1,
          "yanchor": "bottom",
          "yref": "paper"
         },
         {
          "font": {
           "size": 16
          },
          "showarrow": false,
          "text": "Topic 2",
          "x": 0.6375000000000001,
          "xanchor": "center",
          "xref": "paper",
          "y": 1,
          "yanchor": "bottom",
          "yref": "paper"
         },
         {
          "font": {
           "size": 16
          },
          "showarrow": false,
          "text": "Topic 3",
          "x": 0.9125,
          "xanchor": "center",
          "xref": "paper",
          "y": 1,
          "yanchor": "bottom",
          "yref": "paper"
         },
         {
          "font": {
           "size": 16
          },
          "showarrow": false,
          "text": "Topic 4",
          "x": 0.0875,
          "xanchor": "center",
          "xref": "paper",
          "y": 0.9057851239669421,
          "yanchor": "bottom",
          "yref": "paper"
         },
         {
          "font": {
           "size": 16
          },
          "showarrow": false,
          "text": "Topic 5",
          "x": 0.36250000000000004,
          "xanchor": "center",
          "xref": "paper",
          "y": 0.9057851239669421,
          "yanchor": "bottom",
          "yref": "paper"
         },
         {
          "font": {
           "size": 16
          },
          "showarrow": false,
          "text": "Topic 6",
          "x": 0.6375000000000001,
          "xanchor": "center",
          "xref": "paper",
          "y": 0.9057851239669421,
          "yanchor": "bottom",
          "yref": "paper"
         },
         {
          "font": {
           "size": 16
          },
          "showarrow": false,
          "text": "Topic 7",
          "x": 0.9125,
          "xanchor": "center",
          "xref": "paper",
          "y": 0.9057851239669421,
          "yanchor": "bottom",
          "yref": "paper"
         },
         {
          "font": {
           "size": 16
          },
          "showarrow": false,
          "text": "Topic 8",
          "x": 0.0875,
          "xanchor": "center",
          "xref": "paper",
          "y": 0.8115702479338842,
          "yanchor": "bottom",
          "yref": "paper"
         },
         {
          "font": {
           "size": 16
          },
          "showarrow": false,
          "text": "Topic 9",
          "x": 0.36250000000000004,
          "xanchor": "center",
          "xref": "paper",
          "y": 0.8115702479338842,
          "yanchor": "bottom",
          "yref": "paper"
         },
         {
          "font": {
           "size": 16
          },
          "showarrow": false,
          "text": "Topic 10",
          "x": 0.6375000000000001,
          "xanchor": "center",
          "xref": "paper",
          "y": 0.8115702479338842,
          "yanchor": "bottom",
          "yref": "paper"
         },
         {
          "font": {
           "size": 16
          },
          "showarrow": false,
          "text": "Topic 11",
          "x": 0.9125,
          "xanchor": "center",
          "xref": "paper",
          "y": 0.8115702479338842,
          "yanchor": "bottom",
          "yref": "paper"
         },
         {
          "font": {
           "size": 16
          },
          "showarrow": false,
          "text": "Topic 12",
          "x": 0.0875,
          "xanchor": "center",
          "xref": "paper",
          "y": 0.7173553719008263,
          "yanchor": "bottom",
          "yref": "paper"
         },
         {
          "font": {
           "size": 16
          },
          "showarrow": false,
          "text": "Topic 13",
          "x": 0.36250000000000004,
          "xanchor": "center",
          "xref": "paper",
          "y": 0.7173553719008263,
          "yanchor": "bottom",
          "yref": "paper"
         },
         {
          "font": {
           "size": 16
          },
          "showarrow": false,
          "text": "Topic 14",
          "x": 0.6375000000000001,
          "xanchor": "center",
          "xref": "paper",
          "y": 0.7173553719008263,
          "yanchor": "bottom",
          "yref": "paper"
         },
         {
          "font": {
           "size": 16
          },
          "showarrow": false,
          "text": "Topic 15",
          "x": 0.9125,
          "xanchor": "center",
          "xref": "paper",
          "y": 0.7173553719008263,
          "yanchor": "bottom",
          "yref": "paper"
         },
         {
          "font": {
           "size": 16
          },
          "showarrow": false,
          "text": "Topic 16",
          "x": 0.0875,
          "xanchor": "center",
          "xref": "paper",
          "y": 0.6231404958677685,
          "yanchor": "bottom",
          "yref": "paper"
         },
         {
          "font": {
           "size": 16
          },
          "showarrow": false,
          "text": "Topic 17",
          "x": 0.36250000000000004,
          "xanchor": "center",
          "xref": "paper",
          "y": 0.6231404958677685,
          "yanchor": "bottom",
          "yref": "paper"
         },
         {
          "font": {
           "size": 16
          },
          "showarrow": false,
          "text": "Topic 18",
          "x": 0.6375000000000001,
          "xanchor": "center",
          "xref": "paper",
          "y": 0.6231404958677685,
          "yanchor": "bottom",
          "yref": "paper"
         },
         {
          "font": {
           "size": 16
          },
          "showarrow": false,
          "text": "Topic 19",
          "x": 0.9125,
          "xanchor": "center",
          "xref": "paper",
          "y": 0.6231404958677685,
          "yanchor": "bottom",
          "yref": "paper"
         },
         {
          "font": {
           "size": 16
          },
          "showarrow": false,
          "text": "Topic 20",
          "x": 0.0875,
          "xanchor": "center",
          "xref": "paper",
          "y": 0.5289256198347108,
          "yanchor": "bottom",
          "yref": "paper"
         },
         {
          "font": {
           "size": 16
          },
          "showarrow": false,
          "text": "Topic 21",
          "x": 0.36250000000000004,
          "xanchor": "center",
          "xref": "paper",
          "y": 0.5289256198347108,
          "yanchor": "bottom",
          "yref": "paper"
         },
         {
          "font": {
           "size": 16
          },
          "showarrow": false,
          "text": "Topic 22",
          "x": 0.6375000000000001,
          "xanchor": "center",
          "xref": "paper",
          "y": 0.5289256198347108,
          "yanchor": "bottom",
          "yref": "paper"
         },
         {
          "font": {
           "size": 16
          },
          "showarrow": false,
          "text": "Topic 23",
          "x": 0.9125,
          "xanchor": "center",
          "xref": "paper",
          "y": 0.5289256198347108,
          "yanchor": "bottom",
          "yref": "paper"
         },
         {
          "font": {
           "size": 16
          },
          "showarrow": false,
          "text": "Topic 24",
          "x": 0.0875,
          "xanchor": "center",
          "xref": "paper",
          "y": 0.4347107438016528,
          "yanchor": "bottom",
          "yref": "paper"
         },
         {
          "font": {
           "size": 16
          },
          "showarrow": false,
          "text": "Topic 25",
          "x": 0.36250000000000004,
          "xanchor": "center",
          "xref": "paper",
          "y": 0.4347107438016528,
          "yanchor": "bottom",
          "yref": "paper"
         },
         {
          "font": {
           "size": 16
          },
          "showarrow": false,
          "text": "Topic 26",
          "x": 0.6375000000000001,
          "xanchor": "center",
          "xref": "paper",
          "y": 0.4347107438016528,
          "yanchor": "bottom",
          "yref": "paper"
         },
         {
          "font": {
           "size": 16
          },
          "showarrow": false,
          "text": "Topic 27",
          "x": 0.9125,
          "xanchor": "center",
          "xref": "paper",
          "y": 0.4347107438016528,
          "yanchor": "bottom",
          "yref": "paper"
         },
         {
          "font": {
           "size": 16
          },
          "showarrow": false,
          "text": "Topic 28",
          "x": 0.0875,
          "xanchor": "center",
          "xref": "paper",
          "y": 0.34049586776859503,
          "yanchor": "bottom",
          "yref": "paper"
         },
         {
          "font": {
           "size": 16
          },
          "showarrow": false,
          "text": "Topic 29",
          "x": 0.36250000000000004,
          "xanchor": "center",
          "xref": "paper",
          "y": 0.34049586776859503,
          "yanchor": "bottom",
          "yref": "paper"
         },
         {
          "font": {
           "size": 16
          },
          "showarrow": false,
          "text": "Topic 30",
          "x": 0.6375000000000001,
          "xanchor": "center",
          "xref": "paper",
          "y": 0.34049586776859503,
          "yanchor": "bottom",
          "yref": "paper"
         },
         {
          "font": {
           "size": 16
          },
          "showarrow": false,
          "text": "Topic 31",
          "x": 0.9125,
          "xanchor": "center",
          "xref": "paper",
          "y": 0.34049586776859503,
          "yanchor": "bottom",
          "yref": "paper"
         },
         {
          "font": {
           "size": 16
          },
          "showarrow": false,
          "text": "Topic 32",
          "x": 0.0875,
          "xanchor": "center",
          "xref": "paper",
          "y": 0.24628099173553714,
          "yanchor": "bottom",
          "yref": "paper"
         },
         {
          "font": {
           "size": 16
          },
          "showarrow": false,
          "text": "Topic 33",
          "x": 0.36250000000000004,
          "xanchor": "center",
          "xref": "paper",
          "y": 0.24628099173553714,
          "yanchor": "bottom",
          "yref": "paper"
         },
         {
          "font": {
           "size": 16
          },
          "showarrow": false,
          "text": "Topic 34",
          "x": 0.6375000000000001,
          "xanchor": "center",
          "xref": "paper",
          "y": 0.24628099173553714,
          "yanchor": "bottom",
          "yref": "paper"
         },
         {
          "font": {
           "size": 16
          },
          "showarrow": false,
          "text": "Topic 35",
          "x": 0.9125,
          "xanchor": "center",
          "xref": "paper",
          "y": 0.24628099173553714,
          "yanchor": "bottom",
          "yref": "paper"
         },
         {
          "font": {
           "size": 16
          },
          "showarrow": false,
          "text": "Topic 36",
          "x": 0.0875,
          "xanchor": "center",
          "xref": "paper",
          "y": 0.1520661157024793,
          "yanchor": "bottom",
          "yref": "paper"
         },
         {
          "font": {
           "size": 16
          },
          "showarrow": false,
          "text": "Topic 37",
          "x": 0.36250000000000004,
          "xanchor": "center",
          "xref": "paper",
          "y": 0.1520661157024793,
          "yanchor": "bottom",
          "yref": "paper"
         },
         {
          "font": {
           "size": 16
          },
          "showarrow": false,
          "text": "Topic 38",
          "x": 0.6375000000000001,
          "xanchor": "center",
          "xref": "paper",
          "y": 0.1520661157024793,
          "yanchor": "bottom",
          "yref": "paper"
         },
         {
          "font": {
           "size": 16
          },
          "showarrow": false,
          "text": "Topic 39",
          "x": 0.9125,
          "xanchor": "center",
          "xref": "paper",
          "y": 0.1520661157024793,
          "yanchor": "bottom",
          "yref": "paper"
         },
         {
          "font": {
           "size": 16
          },
          "showarrow": false,
          "text": "Topic 40",
          "x": 0.0875,
          "xanchor": "center",
          "xref": "paper",
          "y": 0.057851239669421475,
          "yanchor": "bottom",
          "yref": "paper"
         }
        ],
        "height": 2750,
        "hoverlabel": {
         "bgcolor": "white",
         "font": {
          "family": "Rockwell",
          "size": 16
         }
        },
        "showlegend": false,
        "template": {
         "data": {
          "bar": [
           {
            "error_x": {
             "color": "#2a3f5f"
            },
            "error_y": {
             "color": "#2a3f5f"
            },
            "marker": {
             "line": {
              "color": "white",
              "width": 0.5
             },
             "pattern": {
              "fillmode": "overlay",
              "size": 10,
              "solidity": 0.2
             }
            },
            "type": "bar"
           }
          ],
          "barpolar": [
           {
            "marker": {
             "line": {
              "color": "white",
              "width": 0.5
             },
             "pattern": {
              "fillmode": "overlay",
              "size": 10,
              "solidity": 0.2
             }
            },
            "type": "barpolar"
           }
          ],
          "carpet": [
           {
            "aaxis": {
             "endlinecolor": "#2a3f5f",
             "gridcolor": "#C8D4E3",
             "linecolor": "#C8D4E3",
             "minorgridcolor": "#C8D4E3",
             "startlinecolor": "#2a3f5f"
            },
            "baxis": {
             "endlinecolor": "#2a3f5f",
             "gridcolor": "#C8D4E3",
             "linecolor": "#C8D4E3",
             "minorgridcolor": "#C8D4E3",
             "startlinecolor": "#2a3f5f"
            },
            "type": "carpet"
           }
          ],
          "choropleth": [
           {
            "colorbar": {
             "outlinewidth": 0,
             "ticks": ""
            },
            "type": "choropleth"
           }
          ],
          "contour": [
           {
            "colorbar": {
             "outlinewidth": 0,
             "ticks": ""
            },
            "colorscale": [
             [
              0,
              "#0d0887"
             ],
             [
              0.1111111111111111,
              "#46039f"
             ],
             [
              0.2222222222222222,
              "#7201a8"
             ],
             [
              0.3333333333333333,
              "#9c179e"
             ],
             [
              0.4444444444444444,
              "#bd3786"
             ],
             [
              0.5555555555555556,
              "#d8576b"
             ],
             [
              0.6666666666666666,
              "#ed7953"
             ],
             [
              0.7777777777777778,
              "#fb9f3a"
             ],
             [
              0.8888888888888888,
              "#fdca26"
             ],
             [
              1,
              "#f0f921"
             ]
            ],
            "type": "contour"
           }
          ],
          "contourcarpet": [
           {
            "colorbar": {
             "outlinewidth": 0,
             "ticks": ""
            },
            "type": "contourcarpet"
           }
          ],
          "heatmap": [
           {
            "colorbar": {
             "outlinewidth": 0,
             "ticks": ""
            },
            "colorscale": [
             [
              0,
              "#0d0887"
             ],
             [
              0.1111111111111111,
              "#46039f"
             ],
             [
              0.2222222222222222,
              "#7201a8"
             ],
             [
              0.3333333333333333,
              "#9c179e"
             ],
             [
              0.4444444444444444,
              "#bd3786"
             ],
             [
              0.5555555555555556,
              "#d8576b"
             ],
             [
              0.6666666666666666,
              "#ed7953"
             ],
             [
              0.7777777777777778,
              "#fb9f3a"
             ],
             [
              0.8888888888888888,
              "#fdca26"
             ],
             [
              1,
              "#f0f921"
             ]
            ],
            "type": "heatmap"
           }
          ],
          "heatmapgl": [
           {
            "colorbar": {
             "outlinewidth": 0,
             "ticks": ""
            },
            "colorscale": [
             [
              0,
              "#0d0887"
             ],
             [
              0.1111111111111111,
              "#46039f"
             ],
             [
              0.2222222222222222,
              "#7201a8"
             ],
             [
              0.3333333333333333,
              "#9c179e"
             ],
             [
              0.4444444444444444,
              "#bd3786"
             ],
             [
              0.5555555555555556,
              "#d8576b"
             ],
             [
              0.6666666666666666,
              "#ed7953"
             ],
             [
              0.7777777777777778,
              "#fb9f3a"
             ],
             [
              0.8888888888888888,
              "#fdca26"
             ],
             [
              1,
              "#f0f921"
             ]
            ],
            "type": "heatmapgl"
           }
          ],
          "histogram": [
           {
            "marker": {
             "pattern": {
              "fillmode": "overlay",
              "size": 10,
              "solidity": 0.2
             }
            },
            "type": "histogram"
           }
          ],
          "histogram2d": [
           {
            "colorbar": {
             "outlinewidth": 0,
             "ticks": ""
            },
            "colorscale": [
             [
              0,
              "#0d0887"
             ],
             [
              0.1111111111111111,
              "#46039f"
             ],
             [
              0.2222222222222222,
              "#7201a8"
             ],
             [
              0.3333333333333333,
              "#9c179e"
             ],
             [
              0.4444444444444444,
              "#bd3786"
             ],
             [
              0.5555555555555556,
              "#d8576b"
             ],
             [
              0.6666666666666666,
              "#ed7953"
             ],
             [
              0.7777777777777778,
              "#fb9f3a"
             ],
             [
              0.8888888888888888,
              "#fdca26"
             ],
             [
              1,
              "#f0f921"
             ]
            ],
            "type": "histogram2d"
           }
          ],
          "histogram2dcontour": [
           {
            "colorbar": {
             "outlinewidth": 0,
             "ticks": ""
            },
            "colorscale": [
             [
              0,
              "#0d0887"
             ],
             [
              0.1111111111111111,
              "#46039f"
             ],
             [
              0.2222222222222222,
              "#7201a8"
             ],
             [
              0.3333333333333333,
              "#9c179e"
             ],
             [
              0.4444444444444444,
              "#bd3786"
             ],
             [
              0.5555555555555556,
              "#d8576b"
             ],
             [
              0.6666666666666666,
              "#ed7953"
             ],
             [
              0.7777777777777778,
              "#fb9f3a"
             ],
             [
              0.8888888888888888,
              "#fdca26"
             ],
             [
              1,
              "#f0f921"
             ]
            ],
            "type": "histogram2dcontour"
           }
          ],
          "mesh3d": [
           {
            "colorbar": {
             "outlinewidth": 0,
             "ticks": ""
            },
            "type": "mesh3d"
           }
          ],
          "parcoords": [
           {
            "line": {
             "colorbar": {
              "outlinewidth": 0,
              "ticks": ""
             }
            },
            "type": "parcoords"
           }
          ],
          "pie": [
           {
            "automargin": true,
            "type": "pie"
           }
          ],
          "scatter": [
           {
            "fillpattern": {
             "fillmode": "overlay",
             "size": 10,
             "solidity": 0.2
            },
            "type": "scatter"
           }
          ],
          "scatter3d": [
           {
            "line": {
             "colorbar": {
              "outlinewidth": 0,
              "ticks": ""
             }
            },
            "marker": {
             "colorbar": {
              "outlinewidth": 0,
              "ticks": ""
             }
            },
            "type": "scatter3d"
           }
          ],
          "scattercarpet": [
           {
            "marker": {
             "colorbar": {
              "outlinewidth": 0,
              "ticks": ""
             }
            },
            "type": "scattercarpet"
           }
          ],
          "scattergeo": [
           {
            "marker": {
             "colorbar": {
              "outlinewidth": 0,
              "ticks": ""
             }
            },
            "type": "scattergeo"
           }
          ],
          "scattergl": [
           {
            "marker": {
             "colorbar": {
              "outlinewidth": 0,
              "ticks": ""
             }
            },
            "type": "scattergl"
           }
          ],
          "scattermapbox": [
           {
            "marker": {
             "colorbar": {
              "outlinewidth": 0,
              "ticks": ""
             }
            },
            "type": "scattermapbox"
           }
          ],
          "scatterpolar": [
           {
            "marker": {
             "colorbar": {
              "outlinewidth": 0,
              "ticks": ""
             }
            },
            "type": "scatterpolar"
           }
          ],
          "scatterpolargl": [
           {
            "marker": {
             "colorbar": {
              "outlinewidth": 0,
              "ticks": ""
             }
            },
            "type": "scatterpolargl"
           }
          ],
          "scatterternary": [
           {
            "marker": {
             "colorbar": {
              "outlinewidth": 0,
              "ticks": ""
             }
            },
            "type": "scatterternary"
           }
          ],
          "surface": [
           {
            "colorbar": {
             "outlinewidth": 0,
             "ticks": ""
            },
            "colorscale": [
             [
              0,
              "#0d0887"
             ],
             [
              0.1111111111111111,
              "#46039f"
             ],
             [
              0.2222222222222222,
              "#7201a8"
             ],
             [
              0.3333333333333333,
              "#9c179e"
             ],
             [
              0.4444444444444444,
              "#bd3786"
             ],
             [
              0.5555555555555556,
              "#d8576b"
             ],
             [
              0.6666666666666666,
              "#ed7953"
             ],
             [
              0.7777777777777778,
              "#fb9f3a"
             ],
             [
              0.8888888888888888,
              "#fdca26"
             ],
             [
              1,
              "#f0f921"
             ]
            ],
            "type": "surface"
           }
          ],
          "table": [
           {
            "cells": {
             "fill": {
              "color": "#EBF0F8"
             },
             "line": {
              "color": "white"
             }
            },
            "header": {
             "fill": {
              "color": "#C8D4E3"
             },
             "line": {
              "color": "white"
             }
            },
            "type": "table"
           }
          ]
         },
         "layout": {
          "annotationdefaults": {
           "arrowcolor": "#2a3f5f",
           "arrowhead": 0,
           "arrowwidth": 1
          },
          "autotypenumbers": "strict",
          "coloraxis": {
           "colorbar": {
            "outlinewidth": 0,
            "ticks": ""
           }
          },
          "colorscale": {
           "diverging": [
            [
             0,
             "#8e0152"
            ],
            [
             0.1,
             "#c51b7d"
            ],
            [
             0.2,
             "#de77ae"
            ],
            [
             0.3,
             "#f1b6da"
            ],
            [
             0.4,
             "#fde0ef"
            ],
            [
             0.5,
             "#f7f7f7"
            ],
            [
             0.6,
             "#e6f5d0"
            ],
            [
             0.7,
             "#b8e186"
            ],
            [
             0.8,
             "#7fbc41"
            ],
            [
             0.9,
             "#4d9221"
            ],
            [
             1,
             "#276419"
            ]
           ],
           "sequential": [
            [
             0,
             "#0d0887"
            ],
            [
             0.1111111111111111,
             "#46039f"
            ],
            [
             0.2222222222222222,
             "#7201a8"
            ],
            [
             0.3333333333333333,
             "#9c179e"
            ],
            [
             0.4444444444444444,
             "#bd3786"
            ],
            [
             0.5555555555555556,
             "#d8576b"
            ],
            [
             0.6666666666666666,
             "#ed7953"
            ],
            [
             0.7777777777777778,
             "#fb9f3a"
            ],
            [
             0.8888888888888888,
             "#fdca26"
            ],
            [
             1,
             "#f0f921"
            ]
           ],
           "sequentialminus": [
            [
             0,
             "#0d0887"
            ],
            [
             0.1111111111111111,
             "#46039f"
            ],
            [
             0.2222222222222222,
             "#7201a8"
            ],
            [
             0.3333333333333333,
             "#9c179e"
            ],
            [
             0.4444444444444444,
             "#bd3786"
            ],
            [
             0.5555555555555556,
             "#d8576b"
            ],
            [
             0.6666666666666666,
             "#ed7953"
            ],
            [
             0.7777777777777778,
             "#fb9f3a"
            ],
            [
             0.8888888888888888,
             "#fdca26"
            ],
            [
             1,
             "#f0f921"
            ]
           ]
          },
          "colorway": [
           "#636efa",
           "#EF553B",
           "#00cc96",
           "#ab63fa",
           "#FFA15A",
           "#19d3f3",
           "#FF6692",
           "#B6E880",
           "#FF97FF",
           "#FECB52"
          ],
          "font": {
           "color": "#2a3f5f"
          },
          "geo": {
           "bgcolor": "white",
           "lakecolor": "white",
           "landcolor": "white",
           "showlakes": true,
           "showland": true,
           "subunitcolor": "#C8D4E3"
          },
          "hoverlabel": {
           "align": "left"
          },
          "hovermode": "closest",
          "mapbox": {
           "style": "light"
          },
          "paper_bgcolor": "white",
          "plot_bgcolor": "white",
          "polar": {
           "angularaxis": {
            "gridcolor": "#EBF0F8",
            "linecolor": "#EBF0F8",
            "ticks": ""
           },
           "bgcolor": "white",
           "radialaxis": {
            "gridcolor": "#EBF0F8",
            "linecolor": "#EBF0F8",
            "ticks": ""
           }
          },
          "scene": {
           "xaxis": {
            "backgroundcolor": "white",
            "gridcolor": "#DFE8F3",
            "gridwidth": 2,
            "linecolor": "#EBF0F8",
            "showbackground": true,
            "ticks": "",
            "zerolinecolor": "#EBF0F8"
           },
           "yaxis": {
            "backgroundcolor": "white",
            "gridcolor": "#DFE8F3",
            "gridwidth": 2,
            "linecolor": "#EBF0F8",
            "showbackground": true,
            "ticks": "",
            "zerolinecolor": "#EBF0F8"
           },
           "zaxis": {
            "backgroundcolor": "white",
            "gridcolor": "#DFE8F3",
            "gridwidth": 2,
            "linecolor": "#EBF0F8",
            "showbackground": true,
            "ticks": "",
            "zerolinecolor": "#EBF0F8"
           }
          },
          "shapedefaults": {
           "line": {
            "color": "#2a3f5f"
           }
          },
          "ternary": {
           "aaxis": {
            "gridcolor": "#DFE8F3",
            "linecolor": "#A2B1C6",
            "ticks": ""
           },
           "baxis": {
            "gridcolor": "#DFE8F3",
            "linecolor": "#A2B1C6",
            "ticks": ""
           },
           "bgcolor": "white",
           "caxis": {
            "gridcolor": "#DFE8F3",
            "linecolor": "#A2B1C6",
            "ticks": ""
           }
          },
          "title": {
           "x": 0.05
          },
          "xaxis": {
           "automargin": true,
           "gridcolor": "#EBF0F8",
           "linecolor": "#EBF0F8",
           "ticks": "",
           "title": {
            "standoff": 15
           },
           "zerolinecolor": "#EBF0F8",
           "zerolinewidth": 2
          },
          "yaxis": {
           "automargin": true,
           "gridcolor": "#EBF0F8",
           "linecolor": "#EBF0F8",
           "ticks": "",
           "title": {
            "standoff": 15
           },
           "zerolinecolor": "#EBF0F8",
           "zerolinewidth": 2
          }
         }
        },
        "title": {
         "font": {
          "color": "Black",
          "size": 22
         },
         "text": "Topic Word Scores",
         "x": 0.5,
         "xanchor": "center",
         "yanchor": "top"
        },
        "width": 1000,
        "xaxis": {
         "anchor": "y",
         "domain": [
          0,
          0.175
         ],
         "showgrid": true
        },
        "xaxis10": {
         "anchor": "y10",
         "domain": [
          0.275,
          0.45
         ],
         "showgrid": true
        },
        "xaxis11": {
         "anchor": "y11",
         "domain": [
          0.55,
          0.7250000000000001
         ],
         "showgrid": true
        },
        "xaxis12": {
         "anchor": "y12",
         "domain": [
          0.825,
          1
         ],
         "showgrid": true
        },
        "xaxis13": {
         "anchor": "y13",
         "domain": [
          0,
          0.175
         ],
         "showgrid": true
        },
        "xaxis14": {
         "anchor": "y14",
         "domain": [
          0.275,
          0.45
         ],
         "showgrid": true
        },
        "xaxis15": {
         "anchor": "y15",
         "domain": [
          0.55,
          0.7250000000000001
         ],
         "showgrid": true
        },
        "xaxis16": {
         "anchor": "y16",
         "domain": [
          0.825,
          1
         ],
         "showgrid": true
        },
        "xaxis17": {
         "anchor": "y17",
         "domain": [
          0,
          0.175
         ],
         "showgrid": true
        },
        "xaxis18": {
         "anchor": "y18",
         "domain": [
          0.275,
          0.45
         ],
         "showgrid": true
        },
        "xaxis19": {
         "anchor": "y19",
         "domain": [
          0.55,
          0.7250000000000001
         ],
         "showgrid": true
        },
        "xaxis2": {
         "anchor": "y2",
         "domain": [
          0.275,
          0.45
         ],
         "showgrid": true
        },
        "xaxis20": {
         "anchor": "y20",
         "domain": [
          0.825,
          1
         ],
         "showgrid": true
        },
        "xaxis21": {
         "anchor": "y21",
         "domain": [
          0,
          0.175
         ],
         "showgrid": true
        },
        "xaxis22": {
         "anchor": "y22",
         "domain": [
          0.275,
          0.45
         ],
         "showgrid": true
        },
        "xaxis23": {
         "anchor": "y23",
         "domain": [
          0.55,
          0.7250000000000001
         ],
         "showgrid": true
        },
        "xaxis24": {
         "anchor": "y24",
         "domain": [
          0.825,
          1
         ],
         "showgrid": true
        },
        "xaxis25": {
         "anchor": "y25",
         "domain": [
          0,
          0.175
         ],
         "showgrid": true
        },
        "xaxis26": {
         "anchor": "y26",
         "domain": [
          0.275,
          0.45
         ],
         "showgrid": true
        },
        "xaxis27": {
         "anchor": "y27",
         "domain": [
          0.55,
          0.7250000000000001
         ],
         "showgrid": true
        },
        "xaxis28": {
         "anchor": "y28",
         "domain": [
          0.825,
          1
         ],
         "showgrid": true
        },
        "xaxis29": {
         "anchor": "y29",
         "domain": [
          0,
          0.175
         ],
         "showgrid": true
        },
        "xaxis3": {
         "anchor": "y3",
         "domain": [
          0.55,
          0.7250000000000001
         ],
         "showgrid": true
        },
        "xaxis30": {
         "anchor": "y30",
         "domain": [
          0.275,
          0.45
         ],
         "showgrid": true
        },
        "xaxis31": {
         "anchor": "y31",
         "domain": [
          0.55,
          0.7250000000000001
         ],
         "showgrid": true
        },
        "xaxis32": {
         "anchor": "y32",
         "domain": [
          0.825,
          1
         ],
         "showgrid": true
        },
        "xaxis33": {
         "anchor": "y33",
         "domain": [
          0,
          0.175
         ],
         "showgrid": true
        },
        "xaxis34": {
         "anchor": "y34",
         "domain": [
          0.275,
          0.45
         ],
         "showgrid": true
        },
        "xaxis35": {
         "anchor": "y35",
         "domain": [
          0.55,
          0.7250000000000001
         ],
         "showgrid": true
        },
        "xaxis36": {
         "anchor": "y36",
         "domain": [
          0.825,
          1
         ],
         "showgrid": true
        },
        "xaxis37": {
         "anchor": "y37",
         "domain": [
          0,
          0.175
         ],
         "showgrid": true
        },
        "xaxis38": {
         "anchor": "y38",
         "domain": [
          0.275,
          0.45
         ],
         "showgrid": true
        },
        "xaxis39": {
         "anchor": "y39",
         "domain": [
          0.55,
          0.7250000000000001
         ],
         "showgrid": true
        },
        "xaxis4": {
         "anchor": "y4",
         "domain": [
          0.825,
          1
         ],
         "showgrid": true
        },
        "xaxis40": {
         "anchor": "y40",
         "domain": [
          0.825,
          1
         ],
         "showgrid": true
        },
        "xaxis41": {
         "anchor": "y41",
         "domain": [
          0,
          0.175
         ],
         "showgrid": true
        },
        "xaxis42": {
         "anchor": "y42",
         "domain": [
          0.275,
          0.45
         ],
         "showgrid": true
        },
        "xaxis43": {
         "anchor": "y43",
         "domain": [
          0.55,
          0.7250000000000001
         ],
         "showgrid": true
        },
        "xaxis44": {
         "anchor": "y44",
         "domain": [
          0.825,
          1
         ],
         "showgrid": true
        },
        "xaxis5": {
         "anchor": "y5",
         "domain": [
          0,
          0.175
         ],
         "showgrid": true
        },
        "xaxis6": {
         "anchor": "y6",
         "domain": [
          0.275,
          0.45
         ],
         "showgrid": true
        },
        "xaxis7": {
         "anchor": "y7",
         "domain": [
          0.55,
          0.7250000000000001
         ],
         "showgrid": true
        },
        "xaxis8": {
         "anchor": "y8",
         "domain": [
          0.825,
          1
         ],
         "showgrid": true
        },
        "xaxis9": {
         "anchor": "y9",
         "domain": [
          0,
          0.175
         ],
         "showgrid": true
        },
        "yaxis": {
         "anchor": "x",
         "domain": [
          0.9421487603305785,
          1
         ],
         "showgrid": true
        },
        "yaxis10": {
         "anchor": "x10",
         "domain": [
          0.7537190082644627,
          0.8115702479338842
         ],
         "showgrid": true
        },
        "yaxis11": {
         "anchor": "x11",
         "domain": [
          0.7537190082644627,
          0.8115702479338842
         ],
         "showgrid": true
        },
        "yaxis12": {
         "anchor": "x12",
         "domain": [
          0.7537190082644627,
          0.8115702479338842
         ],
         "showgrid": true
        },
        "yaxis13": {
         "anchor": "x13",
         "domain": [
          0.6595041322314048,
          0.7173553719008263
         ],
         "showgrid": true
        },
        "yaxis14": {
         "anchor": "x14",
         "domain": [
          0.6595041322314048,
          0.7173553719008263
         ],
         "showgrid": true
        },
        "yaxis15": {
         "anchor": "x15",
         "domain": [
          0.6595041322314048,
          0.7173553719008263
         ],
         "showgrid": true
        },
        "yaxis16": {
         "anchor": "x16",
         "domain": [
          0.6595041322314048,
          0.7173553719008263
         ],
         "showgrid": true
        },
        "yaxis17": {
         "anchor": "x17",
         "domain": [
          0.565289256198347,
          0.6231404958677685
         ],
         "showgrid": true
        },
        "yaxis18": {
         "anchor": "x18",
         "domain": [
          0.565289256198347,
          0.6231404958677685
         ],
         "showgrid": true
        },
        "yaxis19": {
         "anchor": "x19",
         "domain": [
          0.565289256198347,
          0.6231404958677685
         ],
         "showgrid": true
        },
        "yaxis2": {
         "anchor": "x2",
         "domain": [
          0.9421487603305785,
          1
         ],
         "showgrid": true
        },
        "yaxis20": {
         "anchor": "x20",
         "domain": [
          0.565289256198347,
          0.6231404958677685
         ],
         "showgrid": true
        },
        "yaxis21": {
         "anchor": "x21",
         "domain": [
          0.47107438016528924,
          0.5289256198347108
         ],
         "showgrid": true
        },
        "yaxis22": {
         "anchor": "x22",
         "domain": [
          0.47107438016528924,
          0.5289256198347108
         ],
         "showgrid": true
        },
        "yaxis23": {
         "anchor": "x23",
         "domain": [
          0.47107438016528924,
          0.5289256198347108
         ],
         "showgrid": true
        },
        "yaxis24": {
         "anchor": "x24",
         "domain": [
          0.47107438016528924,
          0.5289256198347108
         ],
         "showgrid": true
        },
        "yaxis25": {
         "anchor": "x25",
         "domain": [
          0.37685950413223135,
          0.4347107438016528
         ],
         "showgrid": true
        },
        "yaxis26": {
         "anchor": "x26",
         "domain": [
          0.37685950413223135,
          0.4347107438016528
         ],
         "showgrid": true
        },
        "yaxis27": {
         "anchor": "x27",
         "domain": [
          0.37685950413223135,
          0.4347107438016528
         ],
         "showgrid": true
        },
        "yaxis28": {
         "anchor": "x28",
         "domain": [
          0.37685950413223135,
          0.4347107438016528
         ],
         "showgrid": true
        },
        "yaxis29": {
         "anchor": "x29",
         "domain": [
          0.28264462809917357,
          0.34049586776859503
         ],
         "showgrid": true
        },
        "yaxis3": {
         "anchor": "x3",
         "domain": [
          0.9421487603305785,
          1
         ],
         "showgrid": true
        },
        "yaxis30": {
         "anchor": "x30",
         "domain": [
          0.28264462809917357,
          0.34049586776859503
         ],
         "showgrid": true
        },
        "yaxis31": {
         "anchor": "x31",
         "domain": [
          0.28264462809917357,
          0.34049586776859503
         ],
         "showgrid": true
        },
        "yaxis32": {
         "anchor": "x32",
         "domain": [
          0.28264462809917357,
          0.34049586776859503
         ],
         "showgrid": true
        },
        "yaxis33": {
         "anchor": "x33",
         "domain": [
          0.18842975206611567,
          0.24628099173553714
         ],
         "showgrid": true
        },
        "yaxis34": {
         "anchor": "x34",
         "domain": [
          0.18842975206611567,
          0.24628099173553714
         ],
         "showgrid": true
        },
        "yaxis35": {
         "anchor": "x35",
         "domain": [
          0.18842975206611567,
          0.24628099173553714
         ],
         "showgrid": true
        },
        "yaxis36": {
         "anchor": "x36",
         "domain": [
          0.18842975206611567,
          0.24628099173553714
         ],
         "showgrid": true
        },
        "yaxis37": {
         "anchor": "x37",
         "domain": [
          0.09421487603305784,
          0.1520661157024793
         ],
         "showgrid": true
        },
        "yaxis38": {
         "anchor": "x38",
         "domain": [
          0.09421487603305784,
          0.1520661157024793
         ],
         "showgrid": true
        },
        "yaxis39": {
         "anchor": "x39",
         "domain": [
          0.09421487603305784,
          0.1520661157024793
         ],
         "showgrid": true
        },
        "yaxis4": {
         "anchor": "x4",
         "domain": [
          0.9421487603305785,
          1
         ],
         "showgrid": true
        },
        "yaxis40": {
         "anchor": "x40",
         "domain": [
          0.09421487603305784,
          0.1520661157024793
         ],
         "showgrid": true
        },
        "yaxis41": {
         "anchor": "x41",
         "domain": [
          0,
          0.057851239669421475
         ],
         "showgrid": true
        },
        "yaxis42": {
         "anchor": "x42",
         "domain": [
          0,
          0.057851239669421475
         ],
         "showgrid": true
        },
        "yaxis43": {
         "anchor": "x43",
         "domain": [
          0,
          0.057851239669421475
         ],
         "showgrid": true
        },
        "yaxis44": {
         "anchor": "x44",
         "domain": [
          0,
          0.057851239669421475
         ],
         "showgrid": true
        },
        "yaxis5": {
         "anchor": "x5",
         "domain": [
          0.8479338842975206,
          0.9057851239669421
         ],
         "showgrid": true
        },
        "yaxis6": {
         "anchor": "x6",
         "domain": [
          0.8479338842975206,
          0.9057851239669421
         ],
         "showgrid": true
        },
        "yaxis7": {
         "anchor": "x7",
         "domain": [
          0.8479338842975206,
          0.9057851239669421
         ],
         "showgrid": true
        },
        "yaxis8": {
         "anchor": "x8",
         "domain": [
          0.8479338842975206,
          0.9057851239669421
         ],
         "showgrid": true
        },
        "yaxis9": {
         "anchor": "x9",
         "domain": [
          0.7537190082644627,
          0.8115702479338842
         ],
         "showgrid": true
        }
       }
      }
     },
     "metadata": {},
     "output_type": "display_data"
    }
   ],
   "source": [
    "topic_model.visualize_barchart(top_n_topics=50)"
   ]
  },
  {
   "cell_type": "code",
   "execution_count": null,
   "metadata": {},
   "outputs": [],
   "source": []
  },
  {
   "cell_type": "code",
   "execution_count": null,
   "metadata": {},
   "outputs": [],
   "source": []
  },
  {
   "cell_type": "code",
   "execution_count": null,
   "metadata": {},
   "outputs": [],
   "source": []
  },
  {
   "cell_type": "code",
   "execution_count": null,
   "metadata": {},
   "outputs": [],
   "source": []
  },
  {
   "cell_type": "code",
   "execution_count": null,
   "metadata": {},
   "outputs": [],
   "source": []
  },
  {
   "cell_type": "code",
   "execution_count": null,
   "metadata": {},
   "outputs": [],
   "source": []
  },
  {
   "cell_type": "code",
   "execution_count": 42,
   "metadata": {},
   "outputs": [
    {
     "data": {
      "text/plain": [
       "['06338734703', '06338764700']"
      ]
     },
     "execution_count": 42,
     "metadata": {},
     "output_type": "execute_result"
    }
   ],
   "source": [
    "def isValid_cpf(cpf):\n",
    "    # Remove any formatting\n",
    "    cpf = ''.join(filter(str.isdigit, cpf))\n",
    "    \n",
    "    # Check if CPF has 11 digits\n",
    "    if len(cpf) != 11:\n",
    "        return False\n",
    "    \n",
    "    # Check if CPF has all digits equal\n",
    "    if cpf == cpf[0] * len(cpf):\n",
    "        return False\n",
    "    \n",
    "    # Calculate first check digit\n",
    "    first_check_sum = sum(int(digit) * weight for digit, weight in zip(cpf[:9], range(10, 1, -1)))\n",
    "    first_check_digit = (first_check_sum * 10 % 11) % 10\n",
    "    if int(cpf[9]) != first_check_digit:\n",
    "        return False\n",
    "    \n",
    "    # Calculate second check digit\n",
    "    second_check_sum = sum(int(digit) * weight for digit, weight in zip(cpf[:10], range(11, 1, -1)))\n",
    "    second_check_digit = (second_check_sum * 10 % 11) % 10\n",
    "    if int(cpf[10]) != second_check_digit:\n",
    "        return False\n",
    "    \n",
    "    return True\n",
    "\n",
    "isValid_cpf(\"11418074403\")\n",
    "\n",
    "def complete_cpf(incomplete_cpf, nb_possibilities=None):\n",
    "    def calculate_check_digit(digits, position):\n",
    "        sum_of_products = sum(int(digit) * weight for digit, weight in zip(digits, range(position, 1, -1)))\n",
    "        check_digit = (sum_of_products * 10 % 11) % 10\n",
    "        return str(check_digit)\n",
    "\n",
    "    def generate_possibilities(cpf, missing_indices, current_index, possibilities):\n",
    "        if current_index == len(missing_indices):\n",
    "            # Only calculate check digits if they are missing (marked by asterisks)\n",
    "            if cpf[9] == '*':\n",
    "                cpf[9] = calculate_check_digit(cpf[:9], 10)\n",
    "            if cpf[10] == '*':\n",
    "                cpf[10] = calculate_check_digit(cpf[:10], 11)\n",
    "            completed_cpf_str = ''.join(cpf)\n",
    "            if isValid_cpf(completed_cpf_str) and completed_cpf_str not in possibilities:\n",
    "                possibilities.append(completed_cpf_str)\n",
    "            return\n",
    "\n",
    "        for digit in '0123456789':\n",
    "            cpf[missing_indices[current_index]] = digit\n",
    "            generate_possibilities(cpf, missing_indices, current_index + 1, possibilities)\n",
    "\n",
    "    # Remove formatting and find missing indices\n",
    "    cpf = list(incomplete_cpf.replace('.', '').replace('-', ''))\n",
    "\n",
    "    missing_indices = [i for i, digit in enumerate(cpf) if digit == '*']\n",
    "\n",
    "    if len(cpf) != 11 or len(missing_indices) == 0:\n",
    "        return []\n",
    "\n",
    "    possibilities = []\n",
    "    generate_possibilities(cpf, missing_indices, 0, possibilities)\n",
    "\n",
    "    if nb_possibilities is not None:\n",
    "        return possibilities[:nb_possibilities]\n",
    "    return possibilities\n",
    "\n",
    "complete_cpf('063.387.*47-0*')  # Returns all valid CPF completions"
   ]
  },
  {
   "cell_type": "code",
   "execution_count": null,
   "metadata": {},
   "outputs": [],
   "source": []
  }
 ],
 "metadata": {
  "kernelspec": {
   "display_name": "wassati",
   "language": "python",
   "name": "python3"
  },
  "language_info": {
   "codemirror_mode": {
    "name": "ipython",
    "version": 3
   },
   "file_extension": ".py",
   "mimetype": "text/x-python",
   "name": "python",
   "nbconvert_exporter": "python",
   "pygments_lexer": "ipython3",
   "version": "3.9.17"
  }
 },
 "nbformat": 4,
 "nbformat_minor": 2
}
